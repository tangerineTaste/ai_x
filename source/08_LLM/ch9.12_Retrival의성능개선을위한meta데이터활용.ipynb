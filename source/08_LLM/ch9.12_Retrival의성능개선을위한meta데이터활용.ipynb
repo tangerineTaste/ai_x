{
 "cells": [
  {
   "cell_type": "markdown",
   "id": "a85aa76a",
   "metadata": {},
   "source": [
    "### <span style=\"color: rgb(46, 204, 113);\">1. 환경 설정 및 패키지 설치</span>\n",
    "- 가상환경 만든 뒤, pip install ipykernel 실행\n",
    "- 아래의 패키지 설치"
   ]
  },
  {
   "cell_type": "code",
   "execution_count": 1,
   "id": "01428be9",
   "metadata": {},
   "outputs": [
    {
     "name": "stdout",
     "output_type": "stream",
     "text": [
      "Note: you may need to restart the kernel to use updated packages.\n"
     ]
    }
   ],
   "source": [
    "%pip install -q python-dotenv langchain langchain-openai langchain-pinecone pinecone pandas langchain-community docx2txt langchain-text-splitters"
   ]
  },
  {
   "cell_type": "code",
   "execution_count": 2,
   "id": "5c9b763b",
   "metadata": {},
   "outputs": [
    {
     "name": "stdout",
     "output_type": "stream",
     "text": [
      "Note: you may need to restart the kernel to use updated packages.\n"
     ]
    }
   ],
   "source": [
    "%pip install -q langchain_ollama "
   ]
  },
  {
   "cell_type": "markdown",
   "id": "9f8fa851",
   "metadata": {},
   "source": [
    "### <span style=\"color: rgb(46, 204, 113);\">2. 환경 설정(환경변수, 시스템파라미터변수)</span>"
   ]
  },
  {
   "cell_type": "code",
   "execution_count": 3,
   "id": "d93f6f12",
   "metadata": {},
   "outputs": [],
   "source": [
    "import os\n",
    "from dotenv import load_dotenv\n",
    "load_dotenv(dotenv_path=\"e:/.env\")\n",
    "OPENAI_API_KEY = os.getenv(\"OPENAI_API_KEY\")\n",
    "PINECONE_API_KEY = os.getenv(\"PINECONE_API_KEY\")\n",
    "OPENAI_LLM_MODEL = \"gpt-4o-mini\"\n",
    "OPENAI_EMBEDDING_MODEL=\"text-embedding-3-large\" # small 버전은 1536차원, upstage는 4096\n",
    "\n",
    "PINECONE_INDEX_NAME=\"better-reg-index\"\n",
    "PINECONE_INDEX_DIMENSION = 3072\n",
    "PINECONE_INDEX_METRIC=\"cosine\"\n",
    "PINECONE_INDEX_REGION=\"us-east-1\"\n",
    "PINECONE_INDEX_CLOUD=\"aws\""
   ]
  },
  {
   "cell_type": "markdown",
   "id": "437bc089",
   "metadata": {},
   "source": [
    "### <span style=\"color: rgb(46, 204, 113);\">3. 문서를 chunk로 분할하기</span>"
   ]
  },
  {
   "cell_type": "code",
   "execution_count": 6,
   "id": "8b8c1703",
   "metadata": {},
   "outputs": [
    {
     "name": "stdout",
     "output_type": "stream",
     "text": [
      "총 64개 청크 생성\n"
     ]
    }
   ],
   "source": [
    "from langchain_community.document_loaders import Docx2txtLoader\n",
    "from langchain.text_splitter import RecursiveCharacterTextSplitter\n",
    "# loader = Docx2txtLoader('./data/with_markdown-sample.docx')\n",
    "# text_splitter = RecursiveCharacterTextSplitter(chunk_size=1500, chunk_overlap=200)\n",
    "# documents = loader.load_and_split(text_splitter) ## 이렇게 \"\\n\"단위로 chunk를 안 나누고\n",
    "\n",
    "loader = Docx2txtLoader('./tax_docs/with_markdown-sample.docx')\n",
    "document = loader.load()\n",
    "text_splitter = RecursiveCharacterTextSplitter(\n",
    "  chunk_size=1500,\n",
    "  chunk_overlap=200,\n",
    "  separators=[\"\\n\\n\", \"\\n\", \"제\", \"조\", \".\", \" \"]\n",
    ")\n",
    "documents = text_splitter.split_documents(document)\n",
    "print(f\"총 {len(documents)}개 청크 생성\")"
   ]
  },
  {
   "cell_type": "markdown",
   "id": "f681db3b",
   "metadata": {},
   "source": [
    "### <span style=\"color: rgb(46, 204, 113);\">4. metadata 추가하기</span>"
   ]
  },
  {
   "cell_type": "code",
   "execution_count": 7,
   "id": "43865bfd",
   "metadata": {},
   "outputs": [
    {
     "name": "stdout",
     "output_type": "stream",
     "text": [
      "소득세 납세 의무: 거주자 및 국내원천소득자, 원천징수 대상 개인 및 법인 포함.\n"
     ]
    }
   ],
   "source": [
    "import re\n",
    "\n",
    "def remove_special_chars(text: str) -> str:\n",
    "    \"\"\"특수문자 및 \\n제거(:는 그대로)\"\"\"\n",
    "    # \\n 제거\n",
    "    text = text.replace(\"\\n\", \" \")\n",
    "    # 한글, 영문, 숫자, 공백, 마침표, 콤마만 남기고 전부 제거\n",
    "    cleaned = re.sub(r'[^가-힣a-zA-Z0-9\\s.,:]', '', text)\n",
    "    # 불필요한 중복 공백 제거\n",
    "    cleaned = re.sub(r'\\s+', ' ', cleaned).strip()\n",
    "    return cleaned\n",
    "\n",
    "\n",
    "# 사용 예시\n",
    "content = \"**소득세 납세 의무**: 거주자 및 국내원천소득자, 원천징수 대상 개인 및 법인 포함.\"\n",
    "print(remove_special_chars(content))"
   ]
  },
  {
   "cell_type": "code",
   "execution_count": 8,
   "id": "65f63e18",
   "metadata": {},
   "outputs": [
    {
     "name": "stderr",
     "output_type": "stream",
     "text": [
      "C:\\Users\\Admin\\AppData\\Local\\Temp\\ipykernel_10404\\3252744802.py:4: LangChainDeprecationWarning: The class `ChatOllama` was deprecated in LangChain 0.3.1 and will be removed in 1.0.0. An updated version of the class exists in the :class:`~langchain-ollama package and should be used instead. To use it run `pip install -U :class:`~langchain-ollama` and import as `from :class:`~langchain_ollama import ChatOllama``.\n",
      "  title_extractor_llm = ChatOllama(\n"
     ]
    },
    {
     "name": "stdout",
     "output_type": "stream",
     "text": [
      "소득세 과세기간 : 연 1월12월, 사망 시 사망일까지, 국외 이전 시 출국일까지\n"
     ]
    }
   ],
   "source": [
    "from langchain_community.chat_models import ChatOllama\n",
    "def extract_title_with_llm(content):\n",
    "  \"\"\"Exaone을 사용해서 제목 추출\"\"\"\n",
    "  title_extractor_llm = ChatOllama(\n",
    "                model=\"exaone3.5:2.4b\",\n",
    "                temperature=0.1, # 0에 가까우면 답변이 일관적\n",
    "                num_predict=30 # 최대 토근 30토큰까지만 출력\n",
    "            )\n",
    "  prompt = f'''다음 소득세법 조문의 핵심 제목을 30토큰 이내로 간단히 완벽하게 말이 되도록 추출해 주세요. 중간에 말이 끊기면 안 되요.\n",
    "  예 : \"소득세 납세의무 범위 : 공동사업자별 소득과세, 상속과세, 증여자\"\n",
    "  조문 : {content}'''\n",
    "  ai_message = title_extractor_llm.invoke(prompt)\n",
    "  title = ai_message.content.strip()\n",
    "  return remove_special_chars(title)\n",
    "content = \"\"\"제5조(과세기간) ① 소득세의 과세기간은 1월 1일부터 12월 31일까지 1년으로 한다.\n",
    "② 거주자가 사망한 경우의 과세기간은 1월 1일부터 사망한 날까지로 한다.\n",
    "③ 거주자가 주소 또는 거소를 국외로 이전(이하 “출국”이라 한다)하여 비거주자가 되는 경우의 과세기간은 1월 1일부터 출국한 날까지로 한다.\n",
    "\"\"\"\n",
    "print(extract_title_with_llm(content))"
   ]
  },
  {
   "cell_type": "code",
   "execution_count": 9,
   "id": "87481563",
   "metadata": {},
   "outputs": [
    {
     "data": {
      "text/plain": [
       "'납세의무'"
      ]
     },
     "execution_count": 9,
     "metadata": {},
     "output_type": "execute_result"
    }
   ],
   "source": [
    "def categorize_content(content):\n",
    "    \"\"\"내용 카테고리 분류\"\"\"\n",
    "    # 쳇 gpt가 meta 데이터에 쓴다고 하니 만들어 준 카테고리\n",
    "    categories = {\n",
    "    '납세의무': ['납세의무', '거주자', '비거주자', '원천징수', '공동사업자', '상속인', '증여자', '신탁재산'],\n",
    "    '세율계산': ['세율', '과세표준', '산출세액', '결정세액', '종합소득', '퇴직소득'],\n",
    "    '근로소득': ['근로소득', '총급여', '급여', '연봉', '임금', '퇴직소득'],\n",
    "    '사업소득': ['사업소득', '공동사업', '주택임대소득', '부업소득'],\n",
    "    '이자배당': ['이자소득', '배당소득', '예금이자', '채권', '의제배당'],\n",
    "    '양도소득': ['양도소득', '자산양도', '부동산양도', '주식양도'],\n",
    "    '연금소득': ['연금소득', '공적연금', '사적연금', '연금보험'],\n",
    "    '기타소득': ['기타소득', '상금', '보상금', '발명보상금', '종교인소득'],\n",
    "    '공제감면': ['공제', '소득공제', '세액공제', '기본공제', '감면'],\n",
    "    '비과세': ['비과세', '면제', '복무급여', '실업급여', '출산휴가급여', '장학금'],\n",
    "    '신고납부': ['신고', '납부', '납세지', '신고기한', '원천징수'],\n",
    "    '과세기간': ['과세기간', '과세연도', '사업연도'],\n",
    "    '과세소득구분': ['종합소득', '퇴직소득', '양도소득', '금융투자소득'],\n",
    "    }\n",
    "    # categories = []\n",
    "    for category, keywords in categories.items():\n",
    "        if any(keyword in content for keyword in keywords):\n",
    "            # categories.append(category)\n",
    "            return category\n",
    "    if categories:\n",
    "        categories.append('기타')\n",
    "    #return categories\n",
    "    return '기타'\n",
    "categorize_content(content)"
   ]
  },
  {
   "cell_type": "code",
   "execution_count": null,
   "id": "55eb10a7",
   "metadata": {},
   "outputs": [
    {
     "name": "stdout",
     "output_type": "stream",
     "text": [
      "Exaone으로 제목 추출 중...\n",
      "   진행: 0/64\n",
      "   진행: 10/64\n",
      "   진행: 20/64\n",
      "   진행: 30/64\n"
     ]
    }
   ],
   "source": [
    "# Exaone으로 메타데이터 추가\n",
    "enhanced_chunks = []\n",
    "print(\"Exaone으로 제목 추출 중...\")\n",
    "for i, chunk in enumerate(documents):\n",
    "    if i % 10 == 0:\n",
    "        print(f\"   진행: {i}/{len(documents)}\")\n",
    "    content = chunk.page_content\n",
    "    metadata = chunk.metadata.copy()\n",
    "    # Exaone으로 제목 추출\n",
    "    metadata['title'] = extract_title_with_llm(content) # llm으로 제목 뽑기\n",
    "    metadata['category'] = categorize_content(content) # 카테고리 뽑기\n",
    "    metadata['chunk_id'] = f\"chunk_{i:03d}\"\n",
    "    # 조문 번호 추출\n",
    "    article_match = re.search(r'제(\\d+)조', content)\n",
    "    if article_match:\n",
    "        metadata['article'] = int(article_match.group(1))\n",
    "\n",
    "    enhanced_chunks.append(type(chunk)(\n",
    "        page_content=content,\n",
    "        metadata=metadata\n",
    "    ))\n",
    "print(f\"✅ {len(enhanced_chunks)}개 청크 처리 완료\")\n",
    "enhanced_chunks"
   ]
  },
  {
   "cell_type": "code",
   "execution_count": 129,
   "id": "34eab1b0",
   "metadata": {},
   "outputs": [
    {
     "data": {
      "text/plain": [
       "{'source': './data/with_markdown-sample.docx',\n",
       " 'title': '소득세법: 개인 및 법인의 소득에 따른 적정 과세 규정',\n",
       " 'category': '납세의무',\n",
       " 'chunk_id': 'chunk_000',\n",
       " 'article': 1}"
      ]
     },
     "execution_count": 129,
     "metadata": {},
     "output_type": "execute_result"
    }
   ],
   "source": [
    "enhanced_chunks[0].metadata"
   ]
  },
  {
   "cell_type": "code",
   "execution_count": null,
   "id": "08b4e5cc",
   "metadata": {},
   "outputs": [],
   "source": [
    "import pandas as pd\n",
    "\n",
    "# enhanced_chunks를 DataFrame으로 변환\n",
    "data = []\n",
    "for chunk in enhanced_chunks:\n",
    "    row = {\"page_content\": chunk.page_content[:10]}\n",
    "    row.update(chunk.metadata)  # metadata 딕셔너리의 key/value 추가\n",
    "    data.append(row)\n",
    "\n",
    "df = pd.DataFrame(data)\n",
    "\n",
    "# CSV 저장\n",
    "df.to_csv(\"./tax_docs/enhanced_chunks.csv\", index=False, encoding=\"utf-8-sig\")"
   ]
  },
  {
   "cell_type": "markdown",
   "id": "4f98024c",
   "metadata": {},
   "source": [
    "### <span style=\"color: rgb(46, 204, 113);\">5. OpenAI 임베딩 모델 설정</span>"
   ]
  },
  {
   "cell_type": "code",
   "execution_count": 131,
   "id": "14185bbe",
   "metadata": {},
   "outputs": [],
   "source": [
    "from langchain_openai import OpenAIEmbeddings\n",
    "\n",
    "# OpenAI 임베딩 모델 초기화\n",
    "embedding = OpenAIEmbeddings(\n",
    "    model=OPENAI_EMBEDDING_MODEL,\n",
    "    openai_api_key=OPENAI_API_KEY\n",
    ")"
   ]
  },
  {
   "cell_type": "markdown",
   "id": "fb0804f0",
   "metadata": {},
   "source": [
    "### <span style=\"color: rgb(46, 204, 113);\">6. Pinecone 인덱스 생성 및 vector store(DB) 저장</span>"
   ]
  },
  {
   "cell_type": "code",
   "execution_count": 132,
   "id": "11e448c7",
   "metadata": {},
   "outputs": [
    {
     "name": "stdout",
     "output_type": "stream",
     "text": [
      "PINECONE_API_KEY의 pinecone index들 : ['tax-index', 'reg-retrieval']\n",
      "인덱스 'better-reg-index' 생성 완료\n",
      "PINECONE_API_KEY의 pinecone index들 : ['tax-index', 'better-reg-index', 'reg-retrieval']\n"
     ]
    }
   ],
   "source": [
    "from pinecone import Pinecone, ServerlessSpec\n",
    "\n",
    "# Pinecone 클라이언트\n",
    "pc = Pinecone(api_key=PINECONE_API_KEY)\n",
    "\n",
    "print('PINECONE_API_KEY의 pinecone index들 :',pc.list_indexes().names())\n",
    " \n",
    "# index = pc.Index(PINECONE_INDEX_NAME)\n",
    "# index.delete(delete_all=True)\n",
    "# print(\"모든 데이터가 삭제되었습니다!\")\n",
    "# 인덱스 생성 여부 확인 및 생성\n",
    "# if PINECONE_INDEX_NAME not in pc.list_indexes().names():\n",
    "if not pc.has_index(PINECONE_INDEX_NAME):\n",
    "    pc.create_index(\n",
    "        name=PINECONE_INDEX_NAME, \n",
    "        dimension=PINECONE_INDEX_DIMENSION, \n",
    "        metric=PINECONE_INDEX_METRIC,\n",
    "        spec=ServerlessSpec(region=PINECONE_INDEX_REGION,\n",
    "                            cloud=PINECONE_INDEX_CLOUD\n",
    "        )\n",
    "    )\n",
    "    print(f\"인덱스 '{PINECONE_INDEX_NAME}' 생성 완료\")\n",
    "else:\n",
    "    print(f\"인덱스 '{PINECONE_INDEX_NAME}'가 이미 존재합니다.\")\n",
    "\n",
    "print('PINECONE_API_KEY의 pinecone index들 :',pc.list_indexes().names())"
   ]
  },
  {
   "cell_type": "code",
   "execution_count": 133,
   "id": "5e4ed10b",
   "metadata": {},
   "outputs": [
    {
     "name": "stdout",
     "output_type": "stream",
     "text": [
      "백터DB 저장\n"
     ]
    }
   ],
   "source": [
    "\n",
    "from langchain_pinecone import PineconeVectorStore\n",
    "# Pinecone 벡터 스토어 연결\n",
    "vector_database = PineconeVectorStore.from_documents(\n",
    "                documents=enhanced_chunks,\n",
    "                embedding=embedding,\n",
    "                index_name=PINECONE_INDEX_NAME\n",
    "            )\n",
    "print(\"백터DB 저장\")"
   ]
  },
  {
   "cell_type": "code",
   "execution_count": 134,
   "id": "77db18f0",
   "metadata": {},
   "outputs": [
    {
     "data": {
      "text/plain": [
       "'총급여액 5000만원인 근로소득이 있는 거주자의 소득세는 얼마예요?'"
      ]
     },
     "execution_count": 134,
     "metadata": {},
     "output_type": "execute_result"
    }
   ],
   "source": [
    "from langchain_openai import ChatOpenAI\n",
    "from langchain.chains import RetrievalQA\n",
    "from langchain_core.prompts import ChatPromptTemplate\n",
    "from langchain_core.output_parsers import StrOutputParser\n",
    "keyword_dict  = [\n",
    "    \"사람을 나타내는 표현 -> 거주자\",\n",
    "    \"직장인 -> 근로소득이 있는 거주자\", \n",
    "    \"월급쟁이 -> 근로소득이 있는 거주자\",\n",
    "    \"회사원 -> 근로소득이 있는 거주자\",\n",
    "    \"연봉 -> 총급여액\",\n",
    "    \"월급 -> 근로소득\",\n",
    "    \"세금 -> 소득세\",\n",
    "    \"공제받다 -> 공제를 적용받다\",\n",
    "    \"얼마나 내야하나 -> 세액은 얼마인가\",\n",
    "    \"계산해줘 -> 계산하면 얼마인가\"\n",
    "]\n",
    "prompt = ChatPromptTemplate.from_template(f\"\"\"\n",
    "사용자의 질문을 보고, 우리의 사전을 참고해서 \n",
    "사용자의 질문을 변경해 주세요. 만약 변경할 필요가 없을경우, 사용자의 질문을 변경하지 않아도 됩니다.\n",
    "그런 경우에는 질문만 리턴해 주세요.\n",
    "사전: {keyword_dict}\n",
    "질문: {{question}}\n",
    "\"\"\")\n",
    "llm = ChatOpenAI(model=\"gpt-4o-mini\", temperature=0,\n",
    "                api_key=OPENAI_API_KEY)\n",
    "keyword_chain = prompt | llm | StrOutputParser()\n",
    "keyword_chain.invoke({\"question\":\"연봉 5000만원인 회사원의 소득세는 얼마예요?\"})"
   ]
  },
  {
   "cell_type": "code",
   "execution_count": 141,
   "id": "e5ce64eb",
   "metadata": {},
   "outputs": [
    {
     "data": {
      "text/plain": [
       "'근로소득'"
      ]
     },
     "execution_count": 141,
     "metadata": {},
     "output_type": "execute_result"
    }
   ],
   "source": [
    "categorize_content(\"연봉 5000만원인 회사원의 소득세는 얼마예요\")"
   ]
  },
  {
   "cell_type": "code",
   "execution_count": null,
   "id": "c661702d",
   "metadata": {},
   "outputs": [],
   "source": [
    "# 한국 소득세 전용 프롬프트\n",
    "prompt_template = ChatPromptTemplate.from_messages([\n",
    "    (\"system\", \"당신은 최고의 한국 소득세 전문가입니다\"),\n",
    "    (\"human\", \"\"\"다음과 같은 검색된 문맥을 사용하여 질문에 답하세요. \n",
    "답을 모르면 모른다고 말하세요. \n",
    "사용자의 질문에 정확하고 자세하게 답변해 주세요.\n",
    "\n",
    "질문: {question}\n",
    "문맥: {context}\n",
    "답변:\"\"\")\n",
    "])\n",
    "retriever = vector_database.as_retriever(\n",
    "  search_kwargs={\n",
    "                \"k\": 4,\n",
    "                \"filter\": {\n",
    "                    \"category\": {\"$in\": [\"세율계산\", \"근로소득\", \"공제감면\"]} # 3개의 카테고리만 검색\n",
    "                    # title에 특정 키워드가 포함된 문서만 검색(비추. 제목은 rerank에 많이 쓰임 20개쯤 유사한 것을 뽑다 제목과 유사도가 높은 것으로 다시 rerank함)\n",
    "                    #{\"title\": {\"$regex\": f\"({'|'.join(title_keywords)})\"}} if title_keywords else {}\n",
    "                }\n",
    "            }\n",
    ")\n",
    "qa_chain = RetrievalQA.from_chain_type(\n",
    "    llm = llm,\n",
    "    retriever = retriever,\n",
    "    chain_type_kwargs={\"prompt\": prompt_template}\n",
    ")\n",
    "full_chain = {\"query\": keyword_chain} | qa_chain\n",
    "results = full_chain.invoke({\"question\":\"연봉 5000만원인 회사원의 소득세는 얼마예요?\"})"
   ]
  },
  {
   "cell_type": "code",
   "execution_count": 136,
   "id": "5c48c118",
   "metadata": {},
   "outputs": [
    {
     "name": "stdout",
     "output_type": "stream",
     "text": [
      "총급여액 5,000만원인 근로소득이 있는 거주자의 소득세를 계산하기 위해서는 소득세율과 세액공제를 고려해야 합니다. \n",
      "\n",
      "2023년 기준으로 한국의 근로소득세율은 다음과 같습니다:\n",
      "\n",
      "1. 1,200만원 이하: 6%\n",
      "2. 1,200만원 초과 ~ 4,600만원 이하: 15%\n",
      "3. 4,600만원 초과 ~ 8,800만원 이하: 24%\n",
      "4. 8,800만원 초과 ~ 1억5천만원 이하: 35%\n",
      "5. 1억5천만원 초과: 38%\n",
      "\n",
      "총급여액 5,000만원에 대한 소득세를 계산해보면:\n",
      "\n",
      "1. 1,200만원에 대한 세금: 1,200만원 × 6% = 72만원\n",
      "2. 1,200만원 초과 4,600만원까지 (3,400만원)에 대한 세금: 3,400만원 × 15% = 510만원\n",
      "3. 4,600만원 초과 5,000만원까지 (400만원)에 대한 세금: 400만원 × 24% = 96만원\n",
      "\n",
      "이제 이 세액을 모두 합산합니다:\n",
      "\n",
      "- 72만원 + 510만원 + 96만원 = 678만원\n",
      "\n",
      "따라서, 총급여액 5,000만원인 근로소득이 있는 거주자의 소득세는 약 678만원입니다. \n",
      "\n",
      "단, 이 계산은 기본적인 세율만을 적용한 것이며, 실제 세액은 각종 세액공제나 추가적인 소득에 따라 달라질 수 있습니다.\n"
     ]
    }
   ],
   "source": [
    "print(results['result'])"
   ]
  },
  {
   "cell_type": "code",
   "execution_count": 137,
   "id": "aec2b6c6",
   "metadata": {},
   "outputs": [
    {
     "name": "stdout",
     "output_type": "stream",
     "text": [
      "🔍 검색된 관련 문서:\n",
      "   1. [근로소득] 소득세 감면 및 공제 조항: 해외근무 급여, 국가유공자 지원금, 전직대통령 연금, 군인군무원 급여, 전사 급여,\n",
      "   2. [세율계산] 소득세 납세 범위: 농업소득, 주택임대소득제한 조건, 전통주 제조소득, 일부 임업소득, 어업소득, 특수 복무\n",
      "   3. [근로소득] 공적연금 및 기타소득 과세 범위 공적연금 및 관련 보상금 국가보훈 및 특별지원금\n"
     ]
    }
   ],
   "source": [
    "# 관련 문서 미리보기\n",
    "retriever = vector_database.as_retriever(search_kwargs={\"k\": 3})\n",
    "docs = retriever.get_relevant_documents(\"연봉 5000만원인 직장인의 소득세는 얼마예요\")\n",
    "print(\"🔍 검색된 관련 문서:\")\n",
    "for i, doc in enumerate(docs):\n",
    "    title = doc.metadata.get('title', '제목없음')\n",
    "    category = doc.metadata.get('category', '기타')\n",
    "    print(f\"   {i+1}. [{category}] {title}\")"
   ]
  },
  {
   "cell_type": "code",
   "execution_count": 139,
   "id": "b39d08da",
   "metadata": {},
   "outputs": [
    {
     "name": "stdout",
     "output_type": "stream",
     "text": [
      "근로소득이 있는 거주자가 받을 수 있는 공제는 다음과 같습니다:\n",
      "\n",
      "1. **공익신탁법에 따른 공익신탁의 이익**: 공익신탁에서 발생하는 이익은 근로소득에서 공제될 수 있습니다.\n",
      "\n",
      "2. **사업소득**: 특정 조건을 충족하는 사업소득도 공제 대상이 될 수 있습니다. 예를 들어, 농업 소득, 주택 임대 소득(특정 기준 이하), 전통주 제조 소득 등이 포함됩니다.\n",
      "\n",
      "3. **근로소득과 퇴직소득**: 다음과 같은 소득이 공제될 수 있습니다:\n",
      "   - 복무 중인 병이 받는 급여\n",
      "   - 법률에 따라 동원된 사람이 받는 급여\n",
      "   - 산업재해보상보험법에 따른 각종 급여\n",
      "   - 고용보험법에 따른 실업급여, 육아휴직 급여 등\n",
      "   - 국민연금법에 따른 반환일시금 및 사망일시금\n",
      "   - 외국정부 또는 국제기관에서 근무하는 경우의 급여\n",
      "   - 복리후생적 성질의 급여 등\n",
      "\n",
      "4. **연금소득**: 특정 연금소득도 공제 대상이 될 수 있으며, 이는 공적연금 관련법에 따라 받는 유족연금, 장애연금 등이 포함됩니다.\n",
      "\n",
      "이 외에도 다양한 조건에 따라 추가적인 공제가 가능할 수 있습니다. 각 공제의 세부 사항은 관련 법령 및 대통령령에 따라 달라질 수 있으므로, 구체적인 상황에 따라 전문가의 상담을 받는 것이 좋습니다.\n"
     ]
    }
   ],
   "source": [
    "results = full_chain.invoke({\"question\":\"회사원이 받을 수 있는 공제는?\"})\n",
    "print(results['result'])"
   ]
  },
  {
   "cell_type": "code",
   "execution_count": 140,
   "id": "d220d2a0",
   "metadata": {},
   "outputs": [
    {
     "data": {
      "text/plain": [
       "'공제감면'"
      ]
     },
     "execution_count": 140,
     "metadata": {},
     "output_type": "execute_result"
    }
   ],
   "source": [
    "categorize_content(\"회사원이 받을 수 있는 공제는?\")"
   ]
  },
  {
   "cell_type": "code",
   "execution_count": null,
   "id": "5d87553a",
   "metadata": {},
   "outputs": [],
   "source": []
  }
 ],
 "metadata": {
  "kernelspec": {
   "display_name": "llm-lab",
   "language": "python",
   "name": "python3"
  },
  "language_info": {
   "codemirror_mode": {
    "name": "ipython",
    "version": 3
   },
   "file_extension": ".py",
   "mimetype": "text/x-python",
   "name": "python",
   "nbconvert_exporter": "python",
   "pygments_lexer": "ipython3",
   "version": "3.10.0"
  }
 },
 "nbformat": 4,
 "nbformat_minor": 5
}
