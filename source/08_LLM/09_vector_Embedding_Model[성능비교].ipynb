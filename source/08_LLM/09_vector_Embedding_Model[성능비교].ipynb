{
 "cells": [
  {
   "cell_type": "markdown",
   "id": "942ed28d",
   "metadata": {},
   "source": [
    "# 문장 -> 벡터(1차원 숫자 배열)\n",
    "\n",
    "- openAI API : https://platform.openai.com/ 의 키를 .env등록\n",
    "- upstage : https://console.upstage.ai/docs/ 의 키를 .env등록"
   ]
  },
  {
   "cell_type": "markdown",
   "id": "01e1b4ad",
   "metadata": {},
   "source": [
    "# 1. 환경변수 load"
   ]
  },
  {
   "cell_type": "code",
   "execution_count": 1,
   "id": "4bbc8d32",
   "metadata": {},
   "outputs": [
    {
     "data": {
      "text/plain": [
       "True"
      ]
     },
     "execution_count": 1,
     "metadata": {},
     "output_type": "execute_result"
    }
   ],
   "source": [
    "from dotenv import load_dotenv\n",
    "\n",
    "load_dotenv()"
   ]
  },
  {
   "cell_type": "markdown",
   "id": "7b46bad6",
   "metadata": {},
   "source": [
    "# 2. 유사도 계산하는 방법 : \n",
    "### 1. 유클리드 거리 : 두 벡터간의 거리가 가까운지\n",
    "### 2. 코사인유사도 : 두 벡터간 방향이 유사한지\n",
    "### 3. dot_porduct : 두 벡터간의 곱응 사용하여 벡터의 가중치를 계산"
   ]
  },
  {
   "cell_type": "code",
   "execution_count": 11,
   "id": "dd35323e",
   "metadata": {},
   "outputs": [],
   "source": [
    "import numpy as np\n",
    "def cosine_similarity(vec1, vec2):\n",
    "    \"\"\"두 백터 사이의 코사인 유사도 계산\"\"\"\n",
    "    dot_product = np.dot(vec1, vec2)\n",
    "    norm_vec1 = np.linalg.norm(vec1) \n",
    "    norm_vec2 = np.linalg.norm(vec2)\n",
    "    if norm_vec1==0 or norm_vec2==0:\n",
    "        return 0.0\n",
    "    return dot_product / (norm_vec1*norm_vec2)\n"
   ]
  },
  {
   "cell_type": "markdown",
   "id": "7c0793e2",
   "metadata": {},
   "source": [
    "# 3. openAI API의 embedding model 사용"
   ]
  },
  {
   "cell_type": "code",
   "execution_count": null,
   "id": "1b9e7eb6",
   "metadata": {},
   "outputs": [],
   "source": [
    "from openai import OpenAI\n",
    "import numpy as np\n",
    "\n",
    "client = OpenAI() # api key는 .env 파일에 저장됨"
   ]
  },
  {
   "cell_type": "code",
   "execution_count": 21,
   "id": "45dc505d",
   "metadata": {},
   "outputs": [
    {
     "name": "stdout",
     "output_type": "stream",
     "text": [
      "(3072,)\n",
      "[ 0.00875099  0.02395172 -0.00106452 ...  0.00805435  0.00888405\n",
      " -0.00222297]\n"
     ]
    }
   ],
   "source": [
    "# king 벡터 생성\n",
    "response = client.embeddings.create(\n",
    "    input=\"king\",\n",
    "    model=\"text-embedding-3-large\"\n",
    ")\n",
    "king_vector = np.array(response.data[0].embedding)\n",
    "print(king_vector.shape)\n",
    "print(king_vector)\n"
   ]
  },
  {
   "cell_type": "code",
   "execution_count": null,
   "id": "b808cf35",
   "metadata": {},
   "outputs": [],
   "source": [
    "# queen 벡터 생성\n",
    "queen_response = client.embeddings.create(\n",
    "    input=\"queen\",\n",
    "    model=\"text-embedding-3-large\"\n",
    ")\n",
    "queen_vector = np.array(queen_response.data[0].embedding)\n",
    "print(king_vector.shape)\n",
    "print(king_vector)"
   ]
  },
  {
   "cell_type": "code",
   "execution_count": null,
   "id": "6758f48d",
   "metadata": {},
   "outputs": [
    {
     "name": "stdout",
     "output_type": "stream",
     "text": [
      "0.5552268369726675\n"
     ]
    }
   ],
   "source": [
    "# king과 queen의 유사도 계산\n",
    "king_queen_similarity = cosine_similarity(king_vector, queen_vector)\n",
    "print(king_queen_similarity)"
   ]
  },
  {
   "cell_type": "code",
   "execution_count": null,
   "id": "8b12af31",
   "metadata": {},
   "outputs": [],
   "source": [
    "# slave 벡터 생성\n",
    "slave_response = client.embeddings.create(\n",
    "    input=\"slave\",\n",
    "    model=\"text-embedding-3-large\"\n",
    ")\n",
    "slave_vector = np.array(slave_response.data[0].embedding)"
   ]
  },
  {
   "cell_type": "code",
   "execution_count": null,
   "id": "f527f4f5",
   "metadata": {},
   "outputs": [
    {
     "name": "stdout",
     "output_type": "stream",
     "text": [
      "0.29483842539319616\n"
     ]
    }
   ],
   "source": [
    "# king과 slave의 유사도 계산\n",
    "king_queen_similarity = cosine_similarity(king_vector, slave_vector)\n",
    "print(king_queen_similarity)"
   ]
  },
  {
   "cell_type": "code",
   "execution_count": null,
   "id": "56ce9d9c",
   "metadata": {},
   "outputs": [],
   "source": [
    "# 한국어 문장을 벡터로 바꿔도 유사도는 비슷해야 할 듯"
   ]
  },
  {
   "cell_type": "code",
   "execution_count": 22,
   "id": "214c7023",
   "metadata": {},
   "outputs": [
    {
     "name": "stdout",
     "output_type": "stream",
     "text": [
      "(3072,)\n",
      "[ 0.00875099  0.02395172 -0.00106452 ...  0.00805435  0.00888405\n",
      " -0.00222297]\n"
     ]
    }
   ],
   "source": [
    "# 왕 벡터 생성\n",
    "kor_king_response = client.embeddings.create(\n",
    "    input=\"왕\",\n",
    "    model=\"text-embedding-3-large\"\n",
    ")\n",
    "kor_king_vector = np.array(kor_king_response.data[0].embedding)\n",
    "print(king_vector.shape)\n",
    "print(king_vector)\n"
   ]
  },
  {
   "cell_type": "code",
   "execution_count": 18,
   "id": "1347c091",
   "metadata": {},
   "outputs": [
    {
     "name": "stdout",
     "output_type": "stream",
     "text": [
      "(3072,)\n",
      "[-0.01306162 -0.00922657 -0.00530037 ... -0.00485867 -0.00205424\n",
      "  0.02038819]\n"
     ]
    }
   ],
   "source": [
    "# 여왕 벡터 생성\n",
    "kor_queen_response = client.embeddings.create(\n",
    "    input=\"여왕\",\n",
    "    model=\"text-embedding-3-large\"\n",
    ")\n",
    "kor_queen_vector = np.array(kor_queen_response.data[0].embedding)\n",
    "print(kor_queen_vector.shape)\n",
    "print(kor_queen_vector)"
   ]
  },
  {
   "cell_type": "code",
   "execution_count": null,
   "id": "39889960",
   "metadata": {},
   "outputs": [
    {
     "name": "stdout",
     "output_type": "stream",
     "text": [
      "0.3103962084426481\n"
     ]
    }
   ],
   "source": [
    "# 한국어 king과 queen의 유사도 계산\n",
    "kor_king_queen_similarity = cosine_similarity(kor_king_vector, kor_queen_vector)\n",
    "print(kor_king_queen_similarity)"
   ]
  },
  {
   "cell_type": "code",
   "execution_count": 23,
   "id": "8d101dd7",
   "metadata": {},
   "outputs": [
    {
     "name": "stdout",
     "output_type": "stream",
     "text": [
      "0.5483076178519545\n"
     ]
    }
   ],
   "source": [
    "# king과 왕의 유사도\n",
    "print(cosine_similarity(king_vector, kor_king_vector))"
   ]
  },
  {
   "cell_type": "markdown",
   "id": "6d4f2b14",
   "metadata": {},
   "source": [
    "# 4. upstage의 embedding model 사용\n",
    "- 한국어 embedding 에는 openai보다 성능이 훨씬 좋다"
   ]
  },
  {
   "cell_type": "code",
   "execution_count": 24,
   "id": "d345d3ed",
   "metadata": {},
   "outputs": [
    {
     "name": "stdout",
     "output_type": "stream",
     "text": [
      "[-0.01209259 -0.02642822 -0.00889587 ... -0.0089035   0.0037117\n",
      "  0.01570129]\n",
      "(4096,)\n"
     ]
    }
   ],
   "source": [
    "from openai import OpenAI # openai==1.52.2\n",
    "import os \n",
    "upstage_api_key = os.environ.get(\"UPSTAGE_API_KEY\")\n",
    "upstage_client = OpenAI(\n",
    "    api_key=upstage_api_key,\n",
    "    base_url=\"https://api.upstage.ai/v1\"\n",
    ")\n",
    " \n",
    "response = upstage_client.embeddings.create(\n",
    "    input=\"King\",\n",
    "    model=\"embedding-query\"\n",
    ")\n",
    " \n",
    "upstage_king_vector = np.array(response.data[0].embedding)\n",
    "print(upstage_king_vector)\n",
    "print(upstage_king_vector.shape)"
   ]
  },
  {
   "cell_type": "code",
   "execution_count": 25,
   "id": "69a16a97",
   "metadata": {},
   "outputs": [
    {
     "name": "stdout",
     "output_type": "stream",
     "text": [
      "[-0.01207733 -0.0224762  -0.01322937 ... -0.00020826  0.00362587\n",
      "  0.01420593]\n",
      "(4096,)\n"
     ]
    }
   ],
   "source": [
    "response = upstage_client.embeddings.create(\n",
    "    input='왕',\n",
    "    model='embedding-query'\n",
    ")\n",
    " \n",
    "kor_upstage_king_vector = np.array(response.data[0].embedding)\n",
    "print(kor_upstage_king_vector)\n",
    "print(kor_upstage_king_vector.shape)"
   ]
  },
  {
   "cell_type": "code",
   "execution_count": 27,
   "id": "b9087c81",
   "metadata": {},
   "outputs": [
    {
     "name": "stdout",
     "output_type": "stream",
     "text": [
      "0.8423532330391306\n"
     ]
    }
   ],
   "source": [
    "# 왕과 king의 유사도 출력\n",
    "print(cosine_similarity(upstage_king_vector, kor_upstage_king_vector))"
   ]
  },
  {
   "cell_type": "code",
   "execution_count": null,
   "id": "0c455682",
   "metadata": {},
   "outputs": [],
   "source": []
  },
  {
   "cell_type": "code",
   "execution_count": null,
   "id": "86dbb8ce",
   "metadata": {},
   "outputs": [],
   "source": []
  },
  {
   "cell_type": "code",
   "execution_count": null,
   "id": "74f2d57a",
   "metadata": {},
   "outputs": [],
   "source": []
  },
  {
   "cell_type": "code",
   "execution_count": null,
   "id": "a3fdd68f",
   "metadata": {},
   "outputs": [],
   "source": []
  }
 ],
 "metadata": {
  "kernelspec": {
   "display_name": "llm-lab",
   "language": "python",
   "name": "python3"
  },
  "language_info": {
   "codemirror_mode": {
    "name": "ipython",
    "version": 3
   },
   "file_extension": ".py",
   "mimetype": "text/x-python",
   "name": "python",
   "nbconvert_exporter": "python",
   "pygments_lexer": "ipython3",
   "version": "3.10.0"
  }
 },
 "nbformat": 4,
 "nbformat_minor": 5
}
