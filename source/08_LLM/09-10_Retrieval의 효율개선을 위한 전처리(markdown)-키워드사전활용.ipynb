{
 "cells": [
  {
   "cell_type": "markdown",
   "id": "87bd9b55",
   "metadata": {},
   "source": [
    "# 벡터 DB : Chroma vs Pinecone\n",
    "- Chroma : 인메모리 vector DB, 로컬메모리 vector DB\n",
    "- Pinecone : 클라우드 vector DB\n",
    "    (Pinecone console에 api key 생성 -> .env (PINECONE_API_KEY등록)"
   ]
  },
  {
   "cell_type": "markdown",
   "id": "b9a68d44",
   "metadata": {},
   "source": [
    "# 0. 패키지 설치"
   ]
  },
  {
   "cell_type": "code",
   "execution_count": null,
   "id": "91f147b9",
   "metadata": {},
   "outputs": [],
   "source": [
    "%pip install -q pinecone-client langchain-pinecone"
   ]
  },
  {
   "cell_type": "markdown",
   "id": "f1a2ac8d",
   "metadata": {},
   "source": [
    "# 1. Knowledge Base 구성을 위한 데이터 생성"
   ]
  },
  {
   "cell_type": "code",
   "execution_count": 1,
   "id": "8e2664d0",
   "metadata": {},
   "outputs": [],
   "source": [
    "from langchain_community.document_loaders import Docx2txtLoader\n",
    "from langchain_text_splitters import RecursiveCharacterTextSplitter\n",
    "loader = Docx2txtLoader('./tax_docs/with_markdown.docx')\n",
    "text_splitter = RecursiveCharacterTextSplitter(\n",
    "    chunk_size=1500,\n",
    "    chunk_overlap=200\n",
    ")\n",
    "document_list = loader.load_and_split(text_splitter=text_splitter)"
   ]
  },
  {
   "cell_type": "code",
   "execution_count": 2,
   "id": "1a5b41d1",
   "metadata": {},
   "outputs": [
    {
     "data": {
      "text/plain": [
       "225"
      ]
     },
     "execution_count": 2,
     "metadata": {},
     "output_type": "execute_result"
    }
   ],
   "source": [
    "len(document_list)"
   ]
  },
  {
   "cell_type": "code",
   "execution_count": 3,
   "id": "d14b87ee",
   "metadata": {},
   "outputs": [],
   "source": [
    "# embedding : upstage embedding-query\n",
    "# https://python.langchain.com/v0.2/docs/integrations/text_embedding/upstage\n",
    "from dotenv import load_dotenv\n",
    "from langchain_upstage import UpstageEmbeddings\n",
    "load_dotenv()\n",
    "embedding = UpstageEmbeddings(\n",
    "    model=\"solar-embedding-1-large\"\n",
    "    # model=\"embedding-query\"\n",
    ")"
   ]
  },
  {
   "cell_type": "code",
   "execution_count": 5,
   "id": "e358fbc5",
   "metadata": {},
   "outputs": [],
   "source": [
    "index_name = \"tax-index-markdown\""
   ]
  },
  {
   "cell_type": "code",
   "execution_count": null,
   "id": "173bda41",
   "metadata": {},
   "outputs": [
    {
     "name": "stderr",
     "output_type": "stream",
     "text": [
      "c:\\Users\\Admin\\anaconda3\\envs\\llm-lab\\lib\\site-packages\\tqdm\\auto.py:21: TqdmWarning: IProgress not found. Please update jupyter and ipywidgets. See https://ipywidgets.readthedocs.io/en/stable/user_install.html\n",
      "  from .autonotebook import tqdm as notebook_tqdm\n"
     ]
    },
    {
     "name": "stdout",
     "output_type": "stream",
     "text": [
      "CPU times: total: 15.8 s\n",
      "Wall time: 1min 11s\n"
     ]
    }
   ],
   "source": [
    "%%time\n",
    "# pinecone vector database\n",
    "from pinecone import Pinecone\n",
    "from langchain_pinecone import PineconeVectorStore\n",
    "\n",
    "pc = Pinecone()\n",
    "\n",
    "\n",
    "database = PineconeVectorStore.from_documents(\n",
    "    documents=document_list,\n",
    "    embedding=embedding,\n",
    "    index_name=index_name\n",
    ")\n"
   ]
  },
  {
   "cell_type": "code",
   "execution_count": null,
   "id": "7a4f940e",
   "metadata": {},
   "outputs": [],
   "source": [
    "# 업로드한 벡터DB 가져올 때\n",
    "from pinecone import Pinecone\n",
    "from langchain_pinecone import PineconeVectorStore\n",
    "\n",
    "database = PineconeVectorStore(\n",
    "    embedding=embedding, # 질문을 임베딩하여 유사도 검색\n",
    "    index_name=index_name\n",
    ")"
   ]
  },
  {
   "cell_type": "markdown",
   "id": "802f2cdd",
   "metadata": {},
   "source": [
    "# 2. 답변 생성 전 retreival 생성"
   ]
  },
  {
   "cell_type": "code",
   "execution_count": 6,
   "id": "9e40d85c",
   "metadata": {},
   "outputs": [],
   "source": [
    "query = \"연봉 5천만원인 직장인의 소득세는 얼마인가요?\"\n",
    "retrievetr = database.as_retriever(search_kwargs={\"k\": 3})"
   ]
  },
  {
   "cell_type": "markdown",
   "id": "8b9825cd",
   "metadata": {},
   "source": [
    "# 3. 제공되는 prompt를 활용하여 답변 생성"
   ]
  },
  {
   "cell_type": "code",
   "execution_count": 7,
   "id": "03cef8ac",
   "metadata": {},
   "outputs": [],
   "source": [
    "from langchain import hub\n",
    "prompt = hub.pull(\"rlm/rag-prompt\")\n",
    "\n",
    "from langchain_openai import ChatOpenAI\n",
    "llm = ChatOpenAI(model=\"gpt-4.1-nano\")"
   ]
  },
  {
   "cell_type": "code",
   "execution_count": 8,
   "id": "c710b937",
   "metadata": {},
   "outputs": [],
   "source": [
    "from langchain.chains import RetrievalQA\n",
    "qa_chain = RetrievalQA.from_chain_type(\n",
    "    llm,\n",
    "    retriever=database.as_retriever(),\n",
    "    chain_type_kwargs={\"prompt\":prompt}\n",
    ")"
   ]
  },
  {
   "cell_type": "code",
   "execution_count": 10,
   "id": "a7665a85",
   "metadata": {},
   "outputs": [
    {
     "data": {
      "text/plain": [
       "{'query': '연봉 5천만원인 거주자의 소득세는 얼마인가요?',\n",
       " 'result': '연봉 5천만원인 거주자의 소득세는 약 1,000만원에서 1,200만원 정도입니다. 이는 과세표준이 5,000만원 기준 세율(624만원 + 24%)을 적용하기 때문입니다. 정확한 금액은 기본공제, 연금공제, 자녀공제 등 여러 공제 항목에 따라 달라질 수 있습니다.'}"
      ]
     },
     "execution_count": 10,
     "metadata": {},
     "output_type": "execute_result"
    }
   ],
   "source": [
    "query = \"연봉 5천만원인 거주자의 소득세는 얼마인가요?\"\n",
    "ai_message = qa_chain.invoke({'query':query})\n",
    "ai_message"
   ]
  },
  {
   "cell_type": "code",
   "execution_count": 18,
   "id": "16d0417b",
   "metadata": {},
   "outputs": [],
   "source": [
    "# 사람을 나타내는 표현 -> 거주자로 변경\n",
    "from langchain_core.output_parsers import StrOutputParser\n",
    "from langchain_core.prompts import ChatPromptTemplate\n",
    "dictionary = ['사람을 나타내는 표현 -> 거주자']\n",
    "prompt = ChatPromptTemplate.from_template(f\"\"\" 사용자의 질문을 보고, 우리의 사전을 참고해서 사용자의\n",
    "                                          질문을 변경해 주세요. 만약 변경할 필요가 없을경우, 사용자의 질문을 변경하지 않아도 됩니다.\n",
    "                                          그런 경우에는 질문만 리턴해 주세요.\n",
    "                                          사전 : {dictionary}\n",
    "                                          사용자 질문 : {{query}}\"\"\")"
   ]
  },
  {
   "cell_type": "code",
   "execution_count": 20,
   "id": "73936842",
   "metadata": {},
   "outputs": [],
   "source": [
    "dictionary_chain = prompt | llm | StrOutputParser()"
   ]
  },
  {
   "cell_type": "code",
   "execution_count": 21,
   "id": "2d90ae39",
   "metadata": {},
   "outputs": [
    {
     "data": {
      "text/plain": [
       "'연봉 5천만원인 거주자의 소득세는 얼마인가요?'"
      ]
     },
     "execution_count": 21,
     "metadata": {},
     "output_type": "execute_result"
    }
   ],
   "source": [
    "dictionary_chain.invoke({\"query\":query})"
   ]
  },
  {
   "cell_type": "code",
   "execution_count": 22,
   "id": "4e077ec8",
   "metadata": {},
   "outputs": [],
   "source": [
    "new_chain = {'query':dictionary_chain} | qa_chain"
   ]
  },
  {
   "cell_type": "code",
   "execution_count": 24,
   "id": "ab139dfe",
   "metadata": {},
   "outputs": [
    {
     "data": {
      "text/plain": [
       "{'query': '연봉 5천만원인 거주자의 소득세는 얼마인가요?',\n",
       " 'result': '연봉 5천만원인 거주자의 소득세는 약 624만원이 됩니다. 이는 5,000만원 과세표준에 대한 24% 세율을 적용한 금액입니다. 정확한 계산을 위해 근로소득 공제 및 기타 공제액을 고려해야 하지만, 이 금액이 가장 근접한 예상 세금입니다.'}"
      ]
     },
     "execution_count": 24,
     "metadata": {},
     "output_type": "execute_result"
    }
   ],
   "source": [
    "new_chain.invoke({\"query\":query})"
   ]
  }
 ],
 "metadata": {
  "kernelspec": {
   "display_name": "llm-lab",
   "language": "python",
   "name": "python3"
  },
  "language_info": {
   "codemirror_mode": {
    "name": "ipython",
    "version": 3
   },
   "file_extension": ".py",
   "mimetype": "text/x-python",
   "name": "python",
   "nbconvert_exporter": "python",
   "pygments_lexer": "ipython3",
   "version": "3.10.0"
  }
 },
 "nbformat": 4,
 "nbformat_minor": 5
}
