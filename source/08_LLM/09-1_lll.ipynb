{
 "cells": [
  {
   "cell_type": "markdown",
   "id": "df9b12a9",
   "metadata": {},
   "source": [
    "# 1. 환경(패키지 및 환경변수)\n",
    "- pip install openai langchain-openai"
   ]
  },
  {
   "cell_type": "code",
   "execution_count": 1,
   "id": "6a76affb",
   "metadata": {},
   "outputs": [
    {
     "data": {
      "text/plain": [
       "True"
      ]
     },
     "execution_count": 1,
     "metadata": {},
     "output_type": "execute_result"
    }
   ],
   "source": [
    "from dotenv import load_dotenv\n",
    "load_dotenv()"
   ]
  },
  {
   "cell_type": "markdown",
   "id": "c2dcdb56",
   "metadata": {},
   "source": [
    "# 2. LLM 답변 생성\n",
    "## 2.1 openAI SDK 를 선택\n",
    "- 세밀한 제어가 필요할 때, 성능 최적화가 중요할 때(랭체인X)"
   ]
  },
  {
   "cell_type": "code",
   "execution_count": 10,
   "id": "c4fe4eb7",
   "metadata": {},
   "outputs": [],
   "source": [
    "from openai import OpenAI\n",
    "client  = OpenAI()\n",
    "response = client.chat.completions.create(\n",
    "    model='gpt-4.1-nano',\n",
    "    messages=[\n",
    "        {'role': 'system', 'content': '너는 친절하게 대답해 주는 비서야'},\n",
    "        {'role': 'user', 'content': '2020년 월드 시리즈 우승은 누가했니?'},\n",
    "    ]\n",
    ")"
   ]
  },
  {
   "cell_type": "code",
   "execution_count": 14,
   "id": "f040eeee",
   "metadata": {},
   "outputs": [
    {
     "data": {
      "text/plain": [
       "'2020년 월드 시리즈 우승 팀은 로스앤젤레스 다저스입니다. 다저스는 텍사스 레인저스와의 시리즈에서 우승을 차지했으며, 이로써 32년 만에 다시 월드 시리즈 우승을 거뒀습니다.'"
      ]
     },
     "execution_count": 14,
     "metadata": {},
     "output_type": "execute_result"
    }
   ],
   "source": [
    "response.choices[0].message.content"
   ]
  },
  {
   "cell_type": "markdown",
   "id": "5f7a7cb9",
   "metadata": {},
   "source": [
    "## 2.2 LangChain을 선택\n",
    "- 내부적으로 자동으로 메세지를 변환해줌"
   ]
  },
  {
   "cell_type": "code",
   "execution_count": 16,
   "id": "1e5acf90",
   "metadata": {},
   "outputs": [
    {
     "name": "stdout",
     "output_type": "stream",
     "text": [
      "2020년 월드 시리즈 우승은 로스앤젤레스 다저스팀이 차지했습니다.\n"
     ]
    }
   ],
   "source": [
    "from langchain_openai import ChatOpenAI\n",
    "llm = ChatOpenAI(model='gpt-4.1-nano')\n",
    "ai_message = llm.invoke('2020년 월드 시리즈 우승은 누가했니?')\n",
    "print(ai_message.content)"
   ]
  },
  {
   "cell_type": "code",
   "execution_count": null,
   "id": "9cd3b260",
   "metadata": {},
   "outputs": [],
   "source": []
  },
  {
   "cell_type": "code",
   "execution_count": null,
   "id": "6805db7a",
   "metadata": {},
   "outputs": [],
   "source": []
  }
 ],
 "metadata": {
  "kernelspec": {
   "display_name": "llm-lab",
   "language": "python",
   "name": "python3"
  },
  "language_info": {
   "codemirror_mode": {
    "name": "ipython",
    "version": 3
   },
   "file_extension": ".py",
   "mimetype": "text/x-python",
   "name": "python",
   "nbconvert_exporter": "python",
   "pygments_lexer": "ipython3",
   "version": "3.10.0"
  }
 },
 "nbformat": 4,
 "nbformat_minor": 5
}
