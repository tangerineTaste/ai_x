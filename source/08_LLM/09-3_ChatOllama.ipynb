{
 "cells": [
  {
   "cell_type": "markdown",
   "id": "4a2c13db",
   "metadata": {},
   "source": [
    "# 1. 환경(패키지 및 환경변수)\n",
    "- pip install langchain-ollama\n",
    "- pip install langchain-community"
   ]
  },
  {
   "cell_type": "markdown",
   "id": "a4eebd79",
   "metadata": {},
   "source": [
    "# 2. LLM 답변 생성"
   ]
  },
  {
   "cell_type": "code",
   "execution_count": 4,
   "id": "e6dac7fc",
   "metadata": {},
   "outputs": [
    {
     "data": {
      "text/plain": [
       "'올해 발표되고 주목받은 다양한 AI 기술들이 있습니다. 몇 가지 주요 분야와 예시를 소개해 드리겠습니다:\\n\\n1. **생성형 AI의 발전**:\\n   - **오픈 소스 모델 확장**: 여러 AI 연구 기관과 기업들이 대화형 AI 모델 (예: BLOOM, EXAONE)의 오픈 소스 버전을 공개하여 접근성을 높이고 있습니다. 특히 대규모 멀티모달 모델들의 발전이 두드러집니다.\\n   - **대규모 언어 모델 업데이트**: 더 큰 학습 데이터셋과 더 강력한 아키텍처를 기반으로 한 모델들이 출시되어 자연어 이해와 생성 능력이 향상되었습니다.\\n\\n2. **의료 및 생명과학 분야**:\\n   - **정밀 의료**: AI를 활용한 질병 진단, 개인 맞춤형 치료법 개발, 신약 발견 등이 활발히 이루어지고 있습니다. 예를 들어, 특정 유전자 변이에 따른 질병 위험 예측 모델이 개선되었습니다.\\n   - **의료 이미지 분석**: 엑스레이나 CT 스캔 이미지 분석에서 AI의 역할이 더욱 강조되어 정확한 진단을 지원합니다.\\n\\n3. **로봇 공학 및 자동화**:\\n   - **협업 로봇 (Cobots)**: 제조업에서 인간과 로봇의 협업을 강화하는 기술이 발전하고 있습니다. 예를 들어, 복잡한 작업을 안전하고 효율적으로 수행할 수 있는 로봇들이 개발되고 있습니다.\\n   - **자율 주행 시스템**: 자율 주행 차량의 기술이 계속해서 진보하며, 안전성과 효율성 향상을 위해 다양한 센서 및 알고리즘 개선이 이루어지고 있습니다.\\n\\n4. **메타버스 및 콘텐츠 생성**:\\n   - ** 실감형 콘텐츠**: AI를 활용한 가상 현실(VR), 증강 현실(AR) 콘텐츠 생성 기술이 발전하여 사용자 경험을 더욱 풍부하게 만들고 있습니다.\\n   - **개인화 콘텐츠**: 사용자 행동 패턴 분석을 통한 맞춤형 콘텐츠 추천 시스템이 강화되고 있습니다.\\n\\n5. **에너지 및 환경**:\\n   - **스마트 그리드**: AI를 통한 에너지 효율성 향상 및 재생 에너지 통합 기술이 주목받고 있습니다. 예측 분석을 통해 에너지 소비를 최적화하고 탄소 배출을 줄이는 데 기여합니다.\\n   - **자원 관리**: 물 자원 관리 및 오염 감지 시스템 등 환경 모니터링 분야에서도 AI의 활용이 확대되고 있습니다.\\n\\n이러한 기술들은 지속적으로 발전하고 있으며, 다양한 산업 분야에서 혁신적인 변화를 가져오고 있습니다. 각 분야별로 구체적인 업데이트나 최신 동향을 파악하려면 해당 분야의 최신 뉴스나 연구 논문을 참고하시는 것이 좋습니다.'"
      ]
     },
     "execution_count": 4,
     "metadata": {},
     "output_type": "execute_result"
    }
   ],
   "source": [
    "from langchain_ollama import ChatOllama\n",
    "\n",
    "llm = ChatOllama(model='exaone3.5:2.4b')\n"
   ]
  },
  {
   "cell_type": "code",
   "execution_count": 5,
   "id": "75b870a9",
   "metadata": {},
   "outputs": [
    {
     "data": {
      "text/plain": [
       "'올해 발표된 AI 기술은 매우 다양하고 혁신적이었습니다. 몇 가지 주요 분야와 예를 들어드리겠습니다:\\n\\n1. **자연어 처리 (NLP)의 진보**:\\n   - **BERT-based 모델의 발전**: 계속해서 개선된 BERT 기반 모델들이 언어 이해와 생성 능력을 향상시켰습니다. 예를 들어, 더 정확한 질문 응답 시스템이나 더 풍부한 텍스트 생성 기능이 있습니다.\\n   - **Multimodal Learning**: 텍스트 외에 이미지나 음성을 함께 처리하는 기술이 발전하여 더 복잡한 맥락 이해와 멀티모달 커뮤니케이션이 가능해졌습니다.\\n\\n2. **컴퓨터 비전**:\\n   - **의료 영상 분석**: AI를 활용한 의료 영상 분석 기술이 더욱 정교해져서 질병 진단의 정확성 향상에 기여하고 있습니다.\\n   - ** 자율주행 기술**: 교통 상황 인식과 예측 능력이 향상되어 자율주행 차량의 안전성과 효율성이 높아졌습니다.\\n\\n3. **머신러닝 및 딥러닝**:\\n   - **Transfer Learning의 확장**: 다양한 데이터셋 간 학습을 더욱 효과적으로 수행하는 기법이 개발되어 다양한 분야에서의 응용이 활발해졌습니다.\\n   - **Explainable AI (XAI)**: AI 의사결정 과정의 투명성과 해석 가능성 향상을 위한 연구가 진행되고 있습니다.\\n\\n4. **데이터 프라이버시 및 보안**:\\n   - **프라이버시 보호 기술**: 차등 프라이버시(Differential Privacy)와 같은 기술을 활용해 개인 정보 보호를 강화하는 방안이 연구되고 있습니다.\\n   - **AI 보안 도구**: 이상 탐지 시스템이나 침입 탐지 시스템 등 보안 분야에서 AI 활용이 확대되었습니다.\\n\\n5. **에지 컴퓨팅 및 실시간 AI**:\\n   - **에지 AI**: 클라우드 의존도를 줄이고 실시간 처리 능력을 높이기 위해 에지 장치에서의 AI 적용이 증가했습니다. 이는 IoT 기기나 자율주행 차량에서 특히 중요합니다.\\n\\n이러한 기술들은 다양한 산업 분야에서 혁신을 주도하고 있으며, 지속적인 연구와 개발을 통해 더욱 발전하고 있습니다. 특정 분야나 구체적인 사례에 대해 더 자세히 알고 싶으시다면 알려주세요!'"
      ]
     },
     "execution_count": 5,
     "metadata": {},
     "output_type": "execute_result"
    }
   ],
   "source": [
    "ai_message = llm.invoke('올해에 발표된 AI기술에는 어떤게 있니?')\n",
    "ai_message.content"
   ]
  },
  {
   "cell_type": "code",
   "execution_count": null,
   "id": "6153ddbc",
   "metadata": {},
   "outputs": [],
   "source": []
  },
  {
   "cell_type": "code",
   "execution_count": null,
   "id": "e56fa1aa",
   "metadata": {},
   "outputs": [],
   "source": []
  },
  {
   "cell_type": "code",
   "execution_count": null,
   "id": "bd26568b",
   "metadata": {},
   "outputs": [],
   "source": []
  },
  {
   "cell_type": "code",
   "execution_count": null,
   "id": "1057027f",
   "metadata": {},
   "outputs": [],
   "source": []
  }
 ],
 "metadata": {
  "kernelspec": {
   "display_name": "llm-lab",
   "language": "python",
   "name": "python3"
  },
  "language_info": {
   "codemirror_mode": {
    "name": "ipython",
    "version": 3
   },
   "file_extension": ".py",
   "mimetype": "text/x-python",
   "name": "python",
   "nbconvert_exporter": "python",
   "pygments_lexer": "ipython3",
   "version": "3.10.0"
  }
 },
 "nbformat": 4,
 "nbformat_minor": 5
}
