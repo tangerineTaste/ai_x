{
 "cells": [
  {
   "cell_type": "code",
   "execution_count": 10,
   "id": "f5856880",
   "metadata": {},
   "outputs": [],
   "source": [
    "from openai import OpenAI\n",
    "import base64"
   ]
  },
  {
   "cell_type": "code",
   "execution_count": 8,
   "id": "89a880c7",
   "metadata": {},
   "outputs": [],
   "source": [
    "def encode_image(image_path):\n",
    "    with open(image_path, \"rb\") as image_file:\n",
    "        return base64.b64encode(image_file.read()).decode('utf-8')"
   ]
  },
  {
   "cell_type": "code",
   "execution_count": null,
   "id": "4ad86618",
   "metadata": {},
   "outputs": [
    {
     "name": "stdout",
     "output_type": "stream",
     "text": [
      "여자: 너 정말 못 피하겠네!\n",
      "남자: 봐, 이러면 이길 수밖에 없지!\n"
     ]
    }
   ],
   "source": [
    "from openai import OpenAI\n",
    "\n",
    "client = OpenAI()\n",
    "\n",
    "img_path = encode_image(\"data/ch04/original.png\")\n",
    "\n",
    "response = client.responses.create(\n",
    "    model=\"gpt-4.1-nano\",\n",
    "    input=[\n",
    "        {'role':'system', 'content':'너는 이미지를 분석하고 웹툰 캐릭터의 대사를 만들어주는 AI야. 오직 대사만 출력해줘'},\n",
    "        {'role':'system', 'content':'캐릭터가 2명 이상이라면 각 캐릭터의 대사를 구분해서 출력해줘'},\n",
    "        {\n",
    "        \"role\": \"user\",\n",
    "        \"content\": [\n",
    "            {\n",
    "                \"type\": \"input_image\",\n",
    "                \"image_url\": \"data:image/jpeg;base64,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\"\n",
    "            },\n",
    "        ],\n",
    "    }], # type: ignore\n",
    ")\n",
    "\n",
    "print(response.output_text)"
   ]
  },
  {
   "cell_type": "code",
   "execution_count": null,
   "id": "2b67e653",
   "metadata": {},
   "outputs": [],
   "source": []
  },
  {
   "cell_type": "code",
   "execution_count": null,
   "id": "f0f3c3cb",
   "metadata": {},
   "outputs": [],
   "source": []
  }
 ],
 "metadata": {
  "kernelspec": {
   "display_name": "llm-lab",
   "language": "python",
   "name": "python3"
  },
  "language_info": {
   "codemirror_mode": {
    "name": "ipython",
    "version": 3
   },
   "file_extension": ".py",
   "mimetype": "text/x-python",
   "name": "python",
   "nbconvert_exporter": "python",
   "pygments_lexer": "ipython3",
   "version": "3.10.0"
  }
 },
 "nbformat": 4,
 "nbformat_minor": 5
}
