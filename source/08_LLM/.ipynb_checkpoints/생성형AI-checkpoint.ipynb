{
 "cells": [
  {
   "cell_type": "code",
   "execution_count": 1,
   "id": "ea006bb8",
   "metadata": {},
   "outputs": [],
   "source": [
    "# Q. 나라명 -> (제일 유명한 음식 -> ) 음식의 레시피\n",
    "from langchain_core.output_parsers import StrOutputParser\n",
    "from langchain_core.prompts import PromptTemplate\n",
    "from langchain_ollama import ChatOllama\n",
    "from langchain_core.runnables import RunnablePassthrough\n",
    "\n",
    "llm = ChatOllama(model='exaone3.5:2.4b', temperature=0) \n",
    "\n",
    "output_parser = StrOutputParser()"
   ]
  },
  {
   "cell_type": "code",
   "execution_count": 2,
   "id": "fc2dd094",
   "metadata": {},
   "outputs": [
    {
     "data": {
      "text/plain": [
       "'비빔밥'"
      ]
     },
     "execution_count": 2,
     "metadata": {},
     "output_type": "execute_result"
    }
   ],
   "source": [
    "food_template = PromptTemplate(\n",
    "    template= '{country}의 가장 유명한 음식은 뭐야?. 오직 음식 이름만 답해',\n",
    "    input_variables= ['country']\n",
    ")\n",
    "output_parser.invoke(llm.invoke(food_template.invoke({'country':'한국'})))"
   ]
  },
  {
   "cell_type": "code",
   "execution_count": 4,
   "id": "db7c6452",
   "metadata": {},
   "outputs": [
    {
     "name": "stdout",
     "output_type": "stream",
     "text": [
      "비빔밥 재료:\n",
      "- 밥 또는 면 (예: 백미)\n",
      "- 고추장 또는 간장 기반의 비빔장\n",
      "- 콩나물 (선택 사항)\n",
      "- 당근, 시금치, 오이 등의 채소 (선택 사항)\n",
      "- 계란 (선택 사항)\n",
      "- 두부 (선택 사항)\n",
      "- 고기 (소고기, 돼지고기 등, 선택 사항)\n",
      "- 김가루\n",
      "- 참기름\n",
      "- 깨 (선택 사항)\n",
      "- 고춧가루 (선택 사항)\n"
     ]
    }
   ],
   "source": [
    "recipe_template = PromptTemplate(\n",
    "    template= '{food}의 레시피 재료는 뭐야?. 오직 음식 재료만 답하고 방법은 설명하지마',\n",
    "    input_variables= ['food']\n",
    ")\n",
    "print(output_parser.invoke(llm.invoke(recipe_template.invoke({'food':'비빔밥'}))))"
   ]
  },
  {
   "cell_type": "code",
   "execution_count": 5,
   "id": "9c828f2d",
   "metadata": {},
   "outputs": [],
   "source": [
    "food_chain = food_template | llm | output_parser\n",
    "recipe_chain = recipe_template | llm | output_parser\n",
    "final_chain = {'country':RunnablePassthrough()} | {'food':food_chain} | recipe_chain"
   ]
  },
  {
   "cell_type": "code",
   "execution_count": 6,
   "id": "35a98cb7",
   "metadata": {},
   "outputs": [
    {
     "name": "stdout",
     "output_type": "stream",
     "text": [
      "비빔밥 재료:\n",
      "- 밥 또는 면 (예: 백미)\n",
      "- 고추장 또는 간장 기반의 비빔장\n",
      "- 콩나물 (선택 사항)\n",
      "- 당근, 시금치, 오이 등의 채소 (선택 사항)\n",
      "- 계란 (선택 사항)\n",
      "- 두부 (선택 사항)\n",
      "- 고기 (소고기, 돼지고기 등, 선택 사항)\n",
      "- 김가루\n",
      "- 참기름\n",
      "- 깨 (선택 사항)\n",
      "- 고춧가루 (선택 사항)\n"
     ]
    }
   ],
   "source": [
    "print(final_chain.invoke({'country':'한국'}))"
   ]
  },
  {
   "cell_type": "code",
   "execution_count": null,
   "id": "dd3f5c66",
   "metadata": {},
   "outputs": [],
   "source": []
  },
  {
   "cell_type": "code",
   "execution_count": null,
   "id": "8d5ef8ce",
   "metadata": {},
   "outputs": [],
   "source": []
  }
 ],
 "metadata": {
  "kernelspec": {
   "display_name": "Python 3 (ipykernel)",
   "language": "python",
   "name": "python3"
  },
  "language_info": {
   "codemirror_mode": {
    "name": "ipython",
    "version": 3
   },
   "file_extension": ".py",
   "mimetype": "text/x-python",
   "name": "python",
   "nbconvert_exporter": "python",
   "pygments_lexer": "ipython3",
   "version": "3.10.9"
  },
  "toc": {
   "base_numbering": 1,
   "nav_menu": {},
   "number_sections": false,
   "sideBar": true,
   "skip_h1_title": false,
   "title_cell": "Table of Contents",
   "title_sidebar": "Contents",
   "toc_cell": false,
   "toc_position": {},
   "toc_section_display": true,
   "toc_window_display": false
  }
 },
 "nbformat": 4,
 "nbformat_minor": 5
}
