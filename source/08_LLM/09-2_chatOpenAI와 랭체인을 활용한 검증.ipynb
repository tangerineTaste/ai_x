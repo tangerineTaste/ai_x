{
 "cells": [
  {
   "cell_type": "markdown",
   "id": "ca7e64d9",
   "metadata": {},
   "source": [
    "# 1. 환경(패키지 및 환경변수)\n",
    "- pip install openai langchain-upstage"
   ]
  },
  {
   "cell_type": "code",
   "execution_count": null,
   "id": "dd519afd",
   "metadata": {},
   "outputs": [],
   "source": [
    "from dotenv import load_dotenv\n",
    "load_dotenv()"
   ]
  },
  {
   "cell_type": "markdown",
   "id": "1fd7ec3f",
   "metadata": {},
   "source": [
    "# LLM 답변생성\n",
    "## 2.1 OpenAI SDK 사용\n"
   ]
  },
  {
   "cell_type": "code",
   "execution_count": 7,
   "id": "19f6b324",
   "metadata": {},
   "outputs": [
    {
     "data": {
      "text/plain": [
       "'안타깝게도 저는 2023년 10월까지의 정보만 가지고 있어서 2025년에 유행할 정치적 밈에 대한 구체적인 정보를 제공하기 어렵습니다. 그러나 앞으로의 트렌드에 대한 예상이나 주목받을 만한 주제에 대해 도움을 드릴 수 있어요. 혹시 특정 이슈나 관심 분야가 있다면 말씀해 주세요!'"
      ]
     },
     "execution_count": 7,
     "metadata": {},
     "output_type": "execute_result"
    }
   ],
   "source": [
    "from openai import OpenAI\n",
    "client  = OpenAI()\n",
    "response = client.chat.completions.create(\n",
    "    model='gpt-4.1-nano',\n",
    "    messages=[\n",
    "        {'role': 'system', 'content': '너는 친절하게 대답해 주는 비서야'},\n",
    "        {'role': 'user', 'content': '2025년에 유행하는 정치적 밈은 뭐가 있니?'},\n",
    "    ]\n",
    ")\n",
    "\n",
    "response.choices[0].message.content"
   ]
  },
  {
   "cell_type": "code",
   "execution_count": 8,
   "id": "0ed630f4",
   "metadata": {},
   "outputs": [
    {
     "name": "stdout",
     "output_type": "stream",
     "text": [
      "2025년의 정치적 밈을 정확히 예측하기는 어렵지만, 현재 트렌드와 기술 발전, 사회적 이슈를 바탕으로 **가능성 있는 밈의 방향**을 유추해 볼 수 있습니다. 다만 이는 단순한 추측임을 참고해 주세요!  \n",
      "\n",
      "### 🔮 **예상되는 정치적 밈 유형**  \n",
      "1. **\"AI 정치 논평\" 패러디**  \n",
      "   - 생성형 AI가 정치인의 발언을 왜곡하거나 과장해 만드는 영상이 유행할 수 있음.  \n",
      "   - 예: *\"챗GPT가 예측한 [정치인 A]의 2040년 발언\"* 같은 가짜 예측 영상.  \n",
      "\n",
      "2. **\"기후 변화 vs. 정치적 무관심\" 대비 밈**  \n",
      "   - 극단적인 기후 재해와 정치권의 대응을 풍자하는 콘텐츠 (예: *\"국회의원이 홍수에 휩쓸린 이유\"*).  \n",
      "\n",
      "3. **\"딥페이크 대통령\" 논란**  \n",
      "   - AI로 합성된 정치인의 가짜 연설이나 인터뷰가 SNS에서 유포되며, 이를 비판하는 밈 확산.  \n",
      "\n",
      "4. **\"메타버스 선거 운동\" 실패 사례**  \n",
      "   - 가상 공간에서 벌어진 정치인의 어색한 캠페인 모습이 웃음거리로 재탄생.  \n",
      "\n",
      "5. **\"MZ세대 정치 참여\" 관련 아이러니**  \n",
      "   - \"투표 안 하는 청년\"과 \"SNS에서 과격한 주장만 하는 청년\"을 대조하는 풍자.  \n",
      "\n",
      "6. **\"글로벌 경제 위기\" 블랙코미디**  \n",
      "   - 인플레이션, 실업률 등을 소재로 한 암울한 현실 유머 (예: *\"내 연봉 vs. 정치인 연봉\"*).  \n",
      "\n",
      "7. **\"우주 개발 예산 논란\"**  \n",
      "   - 달 탐사 예산을 늘리는 정치인을 풍자하는 밈 (예: *\"국민은 굶는데 [정치인 B]는 화성 식민지 건설 중\"*).  \n",
      "\n",
      "### 💡 **주의점**  \n",
      "- 실제 2025년에는 예측하지 못한 사건(예: 전쟁, 기술 혁신)이 밈 트렌드를 바꿀 수 있음.  \n",
      "- 정치적 밈은 종종 **양극화된 갈등**을 부추길 수 있으니, 비판적 시각으로 접근하는 게 중요합니다.  \n",
      "\n",
      "현재는 2024년이니, 1년 후의 트렌드를 보려면 **2024년 후반의 주요 사건**(예: 총선, AI 규제 법안 등)을 주시해 보세요! 😊\n"
     ]
    }
   ],
   "source": [
    "# pip install openai\n",
    " \n",
    "from openai import OpenAI # openai==1.52.2\n",
    "import os\n",
    "\n",
    "UPSTAGE_API_KEY = os.getenv(\"UPSTAGE_API_KEY\")\n",
    "client = OpenAI(\n",
    "    api_key=UPSTAGE_API_KEY,\n",
    "    base_url=\"https://api.upstage.ai/v1\"\n",
    ")\n",
    " \n",
    "stream = client.chat.completions.create(\n",
    "    model=\"solar-pro2\",\n",
    "    messages=[\n",
    "        {'role': 'system', 'content': '너는 친절하게 대답해 주는 비서야'},\n",
    "        {\n",
    "            \"role\": \"user\",\n",
    "            \"content\": \"2025년에 유행하는 정치적 밈은 뭐가 있니?\"\n",
    "        }\n",
    "    ],\n",
    "    stream=False,\n",
    ")\n",
    "print(stream.choices[0].message.content)\n",
    " \n",
    "# Use with stream=False\n",
    "# print(stream.choices[0].message.content)"
   ]
  },
  {
   "cell_type": "markdown",
   "id": "6fc5ebef",
   "metadata": {},
   "source": [
    "# 2.2 Langchain을 선택\n",
    "- 발급받은 API Key를 .env에 UPSTAGE_API_KEY라고 저장하면 별도 설정이 필요 없음\n"
   ]
  },
  {
   "cell_type": "code",
   "execution_count": 9,
   "id": "85974547",
   "metadata": {},
   "outputs": [
    {
     "name": "stdout",
     "output_type": "stream",
     "text": [
      "content='2025년까지의 미래를 정확히 예측할 수는 없지만, 최근의 기술 발전 추세와 연구 동향을 바탕으로 2025년에 발표될 가능성이 있는 AI 기술에 대해 추측해볼 수 있습니다.\\n\\n1. **더 발전된 자연어 처리(NLP) 기술**: 현재의 대규모 언어 모델(LLM)은 이미 매우 높은 수준의 인간과 유사한 텍스트 생성 능력을 보여주고 있습니다. 2025년에는 이러한 모델들이 더욱 정교해지고, 문맥 이해력과 대화 능력이 향상될 것으로 예상됩니다.\\n\\n2. **강화 학습의 발전**: AI 에이전트들이 복잡한 환경에서 학습하고 최적의 행동을 취할 수 있도록 하는 강화 학습 기술은 계속해서 발전할 것입니다. 이를 통해 로봇, 자율주행 차량, 게임 AI 등에서 더욱 스마트한 의사 결정이 가능해질 것입니다.\\n\\n3. **AI 윤리와 신뢰성**: AI 시스템의 투명성과 설명 가능성(explainability)을 높이기 위한 기술이 더욱 발전할 것입니다. 이는 AI가 내리는 결정에 대한 신뢰를 높이고, 윤리적 문제를 해결하는 데 도움이 될 것입니다.\\n\\n4. **양자 AI**: 양자 컴퓨팅의 발전과 함께 양자 AI 기술도 연구되고 있습니다. 양자 알고리즘을 활용하여 특정 AI 문제를 훨씬 빠르게 해결할 수 있는 기술이 연구되고 있으며, 2025년에는 이러한 기술이 더욱 발전할 가능성이 있습니다.\\n\\n5. **의료 분야에서의 AI**: 의료 이미지 분석, 질병 진단, 개인 맞춤형 의학 등 의료 분야에서 AI의 응용이 더욱 확대될 것입니다. 더 정확하고 빠른 진단이 가능해져 환자의 치료 결과가 개선될 것입니다.\\n\\n6. **자동화 및 로봇공학**: AI 기반의 자동화와 로봇 기술은 제조업, 물류, 서비스 산업 등에서 더욱 널리 사용될 것입니다. 이는 생산성 향상과 비용 절감에 기여할 것입니다.\\n\\n7. **다중 모달 AI**: 텍스트, 이미지, 음성 등 다양한 형태의 데이터를 동시에 처리할 수 있는 다중 모달 AI 기술이 발전할 것입니다. 이를 통해 더욱 복합적이고 자연스러운 인간-기계 상호작용이 가능해질 것입니다.\\n\\n이러한 기술들은 AI 연구자와 기업들이 현재 적극적으로 연구하고 있는 분야들이며, 2025년까지 상당한 발전이 이루어질 가능성이 큽니다. 하지만 기술의 발전은 다양한 요인에 의해 영향을 받기 때문에, 실제 결과는 다를 수 있습니다.' additional_kwargs={'refusal': None} response_metadata={'token_usage': {'completion_tokens': 467, 'prompt_tokens': 38, 'total_tokens': 505, 'completion_tokens_details': None, 'prompt_tokens_details': None}, 'model_name': 'solar-mini-250422', 'system_fingerprint': None, 'id': '4d79492b-012d-4b6e-824c-abe743e04934', 'service_tier': None, 'finish_reason': 'stop', 'logprobs': None} id='run--598d0d4f-be0c-4bdd-a181-18deae312ee8-0' usage_metadata={'input_tokens': 38, 'output_tokens': 467, 'total_tokens': 505, 'input_token_details': {}, 'output_token_details': {}}\n"
     ]
    }
   ],
   "source": [
    "from langchain_upstage import ChatUpstage\n",
    "from langchain_core.messages import SystemMessage, HumanMessage\n",
    "\n",
    "llm = ChatUpstage()\n",
    "messages = [\n",
    "    SystemMessage(content=\"너는 최신기술들을 알려주는 채팅봇이야\"),\n",
    "    HumanMessage(content=\"2025년에는 어떤 AI기술이 발표되었지?\"),\n",
    "]\n",
    "ai_message = llm.invoke(messages)\n",
    "print(ai_message)"
   ]
  },
  {
   "cell_type": "code",
   "execution_count": 10,
   "id": "16d2fd26",
   "metadata": {},
   "outputs": [
    {
     "name": "stdout",
     "output_type": "stream",
     "text": [
      "2025년까지의 미래를 정확히 예측할 수는 없지만, 최근의 기술 발전 추세와 연구 동향을 바탕으로 2025년에 발표될 가능성이 있는 AI 기술에 대해 추측해볼 수 있습니다.\n",
      "\n",
      "1. **더 발전된 자연어 처리(NLP) 기술**: 현재의 대규모 언어 모델(LLM)은 이미 매우 높은 수준의 인간과 유사한 텍스트 생성 능력을 보여주고 있습니다. 2025년에는 이러한 모델들이 더욱 정교해지고, 문맥 이해력과 대화 능력이 향상될 것으로 예상됩니다.\n",
      "\n",
      "2. **강화 학습의 발전**: AI 에이전트들이 복잡한 환경에서 학습하고 최적의 행동을 취할 수 있도록 하는 강화 학습 기술은 계속해서 발전할 것입니다. 이를 통해 로봇, 자율주행 차량, 게임 AI 등에서 더욱 스마트한 의사 결정이 가능해질 것입니다.\n",
      "\n",
      "3. **AI 윤리와 신뢰성**: AI 시스템의 투명성과 설명 가능성(explainability)을 높이기 위한 기술이 더욱 발전할 것입니다. 이는 AI가 내리는 결정에 대한 신뢰를 높이고, 윤리적 문제를 해결하는 데 도움이 될 것입니다.\n",
      "\n",
      "4. **양자 AI**: 양자 컴퓨팅의 발전과 함께 양자 AI 기술도 연구되고 있습니다. 양자 알고리즘을 활용하여 특정 AI 문제를 훨씬 빠르게 해결할 수 있는 기술이 연구되고 있으며, 2025년에는 이러한 기술이 더욱 발전할 가능성이 있습니다.\n",
      "\n",
      "5. **의료 분야에서의 AI**: 의료 이미지 분석, 질병 진단, 개인 맞춤형 의학 등 의료 분야에서 AI의 응용이 더욱 확대될 것입니다. 더 정확하고 빠른 진단이 가능해져 환자의 치료 결과가 개선될 것입니다.\n",
      "\n",
      "6. **자동화 및 로봇공학**: AI 기반의 자동화와 로봇 기술은 제조업, 물류, 서비스 산업 등에서 더욱 널리 사용될 것입니다. 이는 생산성 향상과 비용 절감에 기여할 것입니다.\n",
      "\n",
      "7. **다중 모달 AI**: 텍스트, 이미지, 음성 등 다양한 형태의 데이터를 동시에 처리할 수 있는 다중 모달 AI 기술이 발전할 것입니다. 이를 통해 더욱 복합적이고 자연스러운 인간-기계 상호작용이 가능해질 것입니다.\n",
      "\n",
      "이러한 기술들은 AI 연구자와 기업들이 현재 적극적으로 연구하고 있는 분야들이며, 2025년까지 상당한 발전이 이루어질 가능성이 큽니다. 하지만 기술의 발전은 다양한 요인에 의해 영향을 받기 때문에, 실제 결과는 다를 수 있습니다.\n"
     ]
    }
   ],
   "source": [
    "print(ai_message.content)"
   ]
  },
  {
   "cell_type": "code",
   "execution_count": null,
   "id": "7bf0675b",
   "metadata": {},
   "outputs": [],
   "source": []
  }
 ],
 "metadata": {
  "kernelspec": {
   "display_name": "llm-lab",
   "language": "python",
   "name": "python3"
  },
  "language_info": {
   "codemirror_mode": {
    "name": "ipython",
    "version": 3
   },
   "file_extension": ".py",
   "mimetype": "text/x-python",
   "name": "python",
   "nbconvert_exporter": "python",
   "pygments_lexer": "ipython3",
   "version": "3.10.0"
  }
 },
 "nbformat": 4,
 "nbformat_minor": 5
}
