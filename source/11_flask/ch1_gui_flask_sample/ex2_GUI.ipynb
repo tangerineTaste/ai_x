{
 "cells": [
  {
   "cell_type": "markdown",
   "id": "f2b1b204",
   "metadata": {},
   "source": [
    "모델 load하여, GUI(윈도우즈)창을 통해 입력받은 값으로 예측한 결과 GUI창에 출력"
   ]
  },
  {
   "cell_type": "code",
   "execution_count": 2,
   "id": "64cc82b7",
   "metadata": {},
   "outputs": [],
   "source": [
    "import joblib\n",
    "import tkinter as tk # GUI(그래픽 사용자 인터에피스 창을 띄우기 위함)"
   ]
  },
  {
   "cell_type": "code",
   "execution_count": 3,
   "id": "3375b6d9",
   "metadata": {},
   "outputs": [],
   "source": [
    "model = joblib.load('../model/ex1_apt_price_regression.joblib')"
   ]
  },
  {
   "cell_type": "code",
   "execution_count": 41,
   "id": "19eb75e3",
   "metadata": {},
   "outputs": [
    {
     "name": "stdout",
     "output_type": "stream",
     "text": [
      "1,000,000\n"
     ]
    }
   ],
   "source": [
    "print('{}'.format(format(1000000,',')))"
   ]
  },
  {
   "cell_type": "code",
   "execution_count": null,
   "id": "d18f1a1c",
   "metadata": {},
   "outputs": [
    {
     "name": "stdout",
     "output_type": "stream",
     "text": [
      "10000.0 만원\n"
     ]
    }
   ],
   "source": [
    "result = 100000000\n",
    "result = result/10000\n",
    "print('{}만운' , )"
   ]
  },
  {
   "cell_type": "code",
   "execution_count": null,
   "id": "8b5617de",
   "metadata": {},
   "outputs": [
    {
     "name": "stdout",
     "output_type": "stream",
     "text": [
      "예상금액 : 14.3886만원입니다\n"
     ]
    }
   ],
   "source": [
    "def on_submit(event=None):\n",
    "    '입력된 건축년도, 전용면적, 층수를 예측한 결과 출력'\n",
    "    year = int(year_entry.get())\n",
    "    square = int(square_entry.get())\n",
    "    floor = int(floor_entry.get())\n",
    "    model = joblib.load('../model/ex1_apt_price_regression.joblib')\n",
    "    result = round(model.predict([year, square, floor,1])[0])\n",
    "    result = result/10000\n",
    "    result_msg = '예상금액 : {}만원입니다'.format(format(result\n",
    "                                                , ','))\n",
    "    predict_label.configure(text=result_msg)\n",
    "    print(result_msg)\n",
    "    \n",
    "\n",
    "root = tk.Tk()\n",
    "root.geometry('300x250')\n",
    "\n",
    "year_label = tk.Label(root, text='건축년도')\n",
    "year_label.pack()\n",
    "\n",
    "year_entry = tk.Entry(root)\n",
    "year_entry.pack(pady=5) \n",
    "\n",
    "square_label = tk.Label(root, text='전용면적')\n",
    "square_label.pack()\n",
    "\n",
    "square_entry = tk.Entry(root)\n",
    "square_entry.pack(pady=5) \n",
    "\n",
    "floor_label = tk.Label(root, text='층 수')\n",
    "floor_label.pack()\n",
    "\n",
    "floor_entry = tk.Entry(root)\n",
    "floor_entry.pack(pady=5) \n",
    "\n",
    "submit_btn = tk.Button(root, text='예측', command=on_submit)\n",
    "submit_btn.pack(pady=5)\n",
    "\n",
    "predict_label = tk.Label(root, text='예측 금액 출력 예정')\n",
    "predict_label.pack(pady=5)\n",
    "\n",
    "year_entry.focus_set() # GUI창이 포커싱되면 자동으로 year_entry에 자동 포커싱\n",
    "\n",
    "root.bind('<Return>',on_submit)\n",
    "\n",
    "root.mainloop()"
   ]
  },
  {
   "cell_type": "code",
   "execution_count": null,
   "id": "98f7fd97",
   "metadata": {},
   "outputs": [],
   "source": []
  },
  {
   "cell_type": "code",
   "execution_count": null,
   "id": "dc90167f",
   "metadata": {},
   "outputs": [],
   "source": []
  },
  {
   "cell_type": "code",
   "execution_count": null,
   "id": "3086f2be",
   "metadata": {},
   "outputs": [],
   "source": []
  },
  {
   "cell_type": "code",
   "execution_count": null,
   "id": "84b89836",
   "metadata": {},
   "outputs": [],
   "source": []
  },
  {
   "cell_type": "code",
   "execution_count": null,
   "id": "fdb13d10",
   "metadata": {},
   "outputs": [],
   "source": []
  }
 ],
 "metadata": {
  "kernelspec": {
   "display_name": "base",
   "language": "python",
   "name": "python3"
  },
  "language_info": {
   "codemirror_mode": {
    "name": "ipython",
    "version": 3
   },
   "file_extension": ".py",
   "mimetype": "text/x-python",
   "name": "python",
   "nbconvert_exporter": "python",
   "pygments_lexer": "ipython3",
   "version": "3.10.9"
  }
 },
 "nbformat": 4,
 "nbformat_minor": 5
}
