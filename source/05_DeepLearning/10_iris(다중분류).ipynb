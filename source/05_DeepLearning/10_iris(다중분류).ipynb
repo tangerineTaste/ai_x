{
 "cells": [
  {
   "cell_type": "code",
   "execution_count": 2,
   "id": "c8bb0ae3",
   "metadata": {},
   "outputs": [],
   "source": [
    "import seaborn as sns\n",
    "import pandas as pd\n",
    "import numpy as np\n",
    "from keras.utils import to_categorical\n",
    "from sklearn.preprocessing import LabelEncoder\n",
    "from sklearn.model_selection import train_test_split\n",
    "from keras.models import Sequential, load_model, save_model\n",
    "from keras.layers import Dense, Input, Dropout, add\n",
    "from keras.callbacks import EarlyStopping, ModelCheckpoint\n",
    "import matplotlib.pyplot as plt "
   ]
  },
  {
   "cell_type": "markdown",
   "id": "b3659330",
   "metadata": {},
   "source": [
    "- iris 데이터 \n",
    "1. sepal_length : 꽃받침 길이\n",
    "2. sepal_width : 꽃받침 널이\n",
    "3. petal_length : 꽃잎 길이\n",
    "4. petal_width : 꽃잎 넓이\n",
    "5. species : 종"
   ]
  },
  {
   "cell_type": "code",
   "execution_count": 3,
   "id": "626cc6e8",
   "metadata": {},
   "outputs": [
    {
     "data": {
      "text/plain": [
       "array([[1., 0., 0.],\n",
       "       [1., 0., 0.],\n",
       "       [0., 1., 0.],\n",
       "       [0., 1., 0.],\n",
       "       [0., 0., 1.],\n",
       "       [0., 0., 1.]], dtype=float32)"
      ]
     },
     "execution_count": 3,
     "metadata": {},
     "output_type": "execute_result"
    }
   ],
   "source": [
    "# 문자변수의 원핫인코딩1\n",
    "iris = sns.load_dataset(\"iris\")\n",
    "labelEncoder = LabelEncoder()\n",
    "iris['y'] = labelEncoder.fit_transform(iris['species'])\n",
    "to_categorical(iris['y'])[::25] # to_categorical의 결과는 numpy 배열"
   ]
  },
  {
   "cell_type": "code",
   "execution_count": 4,
   "id": "2e41fcdd",
   "metadata": {},
   "outputs": [
    {
     "data": {
      "text/plain": [
       "array([[1, 0, 0],\n",
       "       [1, 0, 0],\n",
       "       [0, 1, 0],\n",
       "       [0, 1, 0],\n",
       "       [0, 0, 1],\n",
       "       [0, 0, 1]], dtype=uint8)"
      ]
     },
     "execution_count": 4,
     "metadata": {},
     "output_type": "execute_result"
    }
   ],
   "source": [
    "# 문자변수의 원핫인코딩2\n",
    "iris = sns.load_dataset('iris')\n",
    "pd.get_dummies(iris.species).values # pd.get_dummmies 결과는 데이터프레임\n",
    "pd.get_dummies(iris.species).to_numpy()[::25]"
   ]
  },
  {
   "cell_type": "code",
   "execution_count": 5,
   "id": "ebcccb29",
   "metadata": {},
   "outputs": [
    {
     "name": "stdout",
     "output_type": "stream",
     "text": [
      "(150, 4) (150, 3)\n",
      "(120, 4) (30, 4) (120, 3) (30, 3)\n"
     ]
    }
   ],
   "source": [
    "# 1. 데이터 생성 및 전처리\n",
    "iris = sns.load_dataset('iris')\n",
    "# iris.info() 결측치 있으면 결측치 처리\n",
    "# iris['species'].value_counts() 종속변수의 분포\n",
    "\n",
    "# 독립변수와 종속변벼수 분리\n",
    "iris_X = iris.iloc[:, :-1].to_numpy()\n",
    "iris_y = iris.iloc[:, -1]\n",
    "iris_Y = pd.get_dummies(iris_y).to_numpy()\n",
    "\n",
    "# 훈련셋과 테스트셋 = 8 : 2\n",
    "X_train, X_test, Y_train, Y_Test = train_test_split(iris_X, iris_Y, \n",
    "                                                    test_size=0.2, \n",
    "                                                    stratify=iris_Y # 층화추출 : 균등한 비율로 추출\n",
    "                                                    )\n",
    "print(iris_X.shape, iris_Y.shape)                                                    \n",
    "print(X_train.shape, X_test.shape, Y_train.shape, Y_Test.shape)"
   ]
  },
  {
   "cell_type": "code",
   "execution_count": 54,
   "id": "e54bfd6c",
   "metadata": {},
   "outputs": [
    {
     "name": "stdout",
     "output_type": "stream",
     "text": [
      "Model: \"sequential_4\"\n",
      "_________________________________________________________________\n",
      " Layer (type)                Output Shape              Param #   \n",
      "=================================================================\n",
      " dense_22 (Dense)            (None, 64)                320       \n",
      "                                                                 \n",
      " dense_23 (Dense)            (None, 128)               8320      \n",
      "                                                                 \n",
      " dropout_3 (Dropout)         (None, 128)               0         \n",
      "                                                                 \n",
      " dense_24 (Dense)            (None, 64)                8256      \n",
      "                                                                 \n",
      " dense_25 (Dense)            (None, 16)                1040      \n",
      "                                                                 \n",
      " dense_26 (Dense)            (None, 3)                 51        \n",
      "                                                                 \n",
      "=================================================================\n",
      "Total params: 17,987\n",
      "Trainable params: 17,987\n",
      "Non-trainable params: 0\n",
      "_________________________________________________________________\n"
     ]
    }
   ],
   "source": [
    "# 2. 모델구성(입력4, 출력3)\n",
    "model = Sequential()\n",
    "model.add(Input(shape=(4,)))\n",
    "model.add(Dense(units=64, activation='relu'))\n",
    "model.add(Dense(units=128, activation='relu'))\n",
    "model.add(Dropout(0.1))\n",
    "model.add(Dense(units=64, activation='relu'))\n",
    "model.add(Dense(units=16, activation='relu'))\n",
    "model.add(Dense(units=3, activation='softmax'))\n",
    "model.summary()"
   ]
  },
  {
   "cell_type": "code",
   "execution_count": 55,
   "id": "637f7a87",
   "metadata": {},
   "outputs": [
    {
     "name": "stdout",
     "output_type": "stream",
     "text": [
      "Epoch 1/500\n",
      "3/3 [==============================] - 1s 126ms/step - loss: 1.0977 - accuracy: 0.2708 - val_loss: 1.0297 - val_accuracy: 0.2083\n",
      "Epoch 2/500\n",
      "3/3 [==============================] - 0s 31ms/step - loss: 0.9982 - accuracy: 0.4792 - val_loss: 0.9571 - val_accuracy: 0.5833\n",
      "Epoch 3/500\n",
      "3/3 [==============================] - 0s 21ms/step - loss: 0.9419 - accuracy: 0.6250 - val_loss: 0.8966 - val_accuracy: 0.5833\n",
      "Epoch 4/500\n",
      "3/3 [==============================] - 0s 21ms/step - loss: 0.8708 - accuracy: 0.6771 - val_loss: 0.8389 - val_accuracy: 0.5833\n",
      "Epoch 5/500\n",
      "3/3 [==============================] - 0s 21ms/step - loss: 0.8055 - accuracy: 0.6875 - val_loss: 0.7875 - val_accuracy: 0.5833\n",
      "Epoch 6/500\n",
      "3/3 [==============================] - 0s 20ms/step - loss: 0.7490 - accuracy: 0.6875 - val_loss: 0.7363 - val_accuracy: 0.5833\n",
      "Epoch 7/500\n",
      "3/3 [==============================] - 0s 18ms/step - loss: 0.6990 - accuracy: 0.6875 - val_loss: 0.6894 - val_accuracy: 0.5833\n",
      "Epoch 8/500\n",
      "3/3 [==============================] - 0s 17ms/step - loss: 0.6414 - accuracy: 0.6979 - val_loss: 0.6479 - val_accuracy: 0.5833\n",
      "Epoch 9/500\n",
      "3/3 [==============================] - 0s 42ms/step - loss: 0.6036 - accuracy: 0.6875 - val_loss: 0.6044 - val_accuracy: 0.5833\n",
      "Epoch 10/500\n",
      "3/3 [==============================] - 0s 21ms/step - loss: 0.5590 - accuracy: 0.6979 - val_loss: 0.5641 - val_accuracy: 0.5833\n",
      "Epoch 11/500\n",
      "3/3 [==============================] - 0s 16ms/step - loss: 0.5386 - accuracy: 0.6875 - val_loss: 0.5403 - val_accuracy: 0.5833\n",
      "Epoch 12/500\n",
      "3/3 [==============================] - 0s 20ms/step - loss: 0.5061 - accuracy: 0.6875 - val_loss: 0.4794 - val_accuracy: 0.5833\n",
      "Epoch 13/500\n",
      "3/3 [==============================] - 0s 33ms/step - loss: 0.4675 - accuracy: 0.8229 - val_loss: 0.4350 - val_accuracy: 0.7917\n",
      "Epoch 14/500\n",
      "3/3 [==============================] - 0s 19ms/step - loss: 0.4437 - accuracy: 0.8438 - val_loss: 0.4345 - val_accuracy: 0.6250\n",
      "Epoch 15/500\n",
      "3/3 [==============================] - 0s 22ms/step - loss: 0.4379 - accuracy: 0.7604 - val_loss: 0.4379 - val_accuracy: 0.5833\n",
      "Epoch 16/500\n",
      "3/3 [==============================] - 0s 20ms/step - loss: 0.4219 - accuracy: 0.7500 - val_loss: 0.4129 - val_accuracy: 0.6667\n",
      "Epoch 17/500\n",
      "3/3 [==============================] - 0s 35ms/step - loss: 0.3847 - accuracy: 0.8542 - val_loss: 0.3600 - val_accuracy: 0.8750\n",
      "Epoch 18/500\n",
      "3/3 [==============================] - 0s 18ms/step - loss: 0.3569 - accuracy: 0.9062 - val_loss: 0.3412 - val_accuracy: 0.8750\n",
      "Epoch 19/500\n",
      "3/3 [==============================] - 0s 18ms/step - loss: 0.3383 - accuracy: 0.9375 - val_loss: 0.3572 - val_accuracy: 0.8333\n",
      "Epoch 20/500\n",
      "3/3 [==============================] - 0s 20ms/step - loss: 0.3137 - accuracy: 0.9062 - val_loss: 0.3181 - val_accuracy: 0.8750\n",
      "Epoch 21/500\n",
      "3/3 [==============================] - 0s 19ms/step - loss: 0.3070 - accuracy: 0.9688 - val_loss: 0.3080 - val_accuracy: 0.8750\n",
      "Epoch 22/500\n",
      "3/3 [==============================] - 0s 17ms/step - loss: 0.2857 - accuracy: 0.9062 - val_loss: 0.2765 - val_accuracy: 0.8750\n",
      "Epoch 23/500\n",
      "3/3 [==============================] - 0s 42ms/step - loss: 0.2523 - accuracy: 0.9688 - val_loss: 0.2550 - val_accuracy: 0.9583\n",
      "Epoch 24/500\n",
      "3/3 [==============================] - 0s 17ms/step - loss: 0.2351 - accuracy: 0.9479 - val_loss: 0.2586 - val_accuracy: 0.8750\n",
      "Epoch 25/500\n",
      "3/3 [==============================] - 0s 23ms/step - loss: 0.2212 - accuracy: 0.9479 - val_loss: 0.2105 - val_accuracy: 0.9583\n",
      "Epoch 26/500\n",
      "3/3 [==============================] - 0s 18ms/step - loss: 0.2169 - accuracy: 0.9583 - val_loss: 0.1958 - val_accuracy: 0.9583\n",
      "Epoch 27/500\n",
      "3/3 [==============================] - 0s 18ms/step - loss: 0.1830 - accuracy: 0.9583 - val_loss: 0.2495 - val_accuracy: 0.8750\n",
      "Epoch 28/500\n",
      "3/3 [==============================] - 0s 38ms/step - loss: 0.1695 - accuracy: 0.9583 - val_loss: 0.1544 - val_accuracy: 1.0000\n",
      "Epoch 29/500\n",
      "3/3 [==============================] - 0s 16ms/step - loss: 0.1452 - accuracy: 0.9688 - val_loss: 0.1611 - val_accuracy: 0.9583\n",
      "Epoch 30/500\n",
      "3/3 [==============================] - 0s 18ms/step - loss: 0.1212 - accuracy: 0.9896 - val_loss: 0.1796 - val_accuracy: 0.9167\n",
      "Epoch 31/500\n",
      "3/3 [==============================] - 0s 19ms/step - loss: 0.1512 - accuracy: 0.9479 - val_loss: 0.1392 - val_accuracy: 1.0000\n",
      "Epoch 32/500\n",
      "3/3 [==============================] - 0s 17ms/step - loss: 0.1149 - accuracy: 1.0000 - val_loss: 0.1717 - val_accuracy: 0.8750\n",
      "Epoch 33/500\n",
      "3/3 [==============================] - 0s 17ms/step - loss: 0.1252 - accuracy: 0.9792 - val_loss: 0.1180 - val_accuracy: 1.0000\n",
      "Epoch 34/500\n",
      "3/3 [==============================] - 0s 16ms/step - loss: 0.0921 - accuracy: 1.0000 - val_loss: 0.1237 - val_accuracy: 0.9583\n",
      "Epoch 35/500\n",
      "3/3 [==============================] - 0s 16ms/step - loss: 0.1023 - accuracy: 0.9688 - val_loss: 0.1706 - val_accuracy: 0.8750\n",
      "Epoch 36/500\n",
      "3/3 [==============================] - 0s 16ms/step - loss: 0.0839 - accuracy: 0.9896 - val_loss: 0.1066 - val_accuracy: 1.0000\n",
      "Epoch 37/500\n",
      "3/3 [==============================] - 0s 22ms/step - loss: 0.0922 - accuracy: 0.9896 - val_loss: 0.0990 - val_accuracy: 1.0000\n",
      "Epoch 38/500\n",
      "3/3 [==============================] - 0s 44ms/step - loss: 0.0784 - accuracy: 0.9792 - val_loss: 0.2212 - val_accuracy: 0.8750\n",
      "Epoch 39/500\n",
      "3/3 [==============================] - 0s 21ms/step - loss: 0.0783 - accuracy: 0.9792 - val_loss: 0.1168 - val_accuracy: 0.9583\n",
      "Epoch 40/500\n",
      "3/3 [==============================] - 0s 18ms/step - loss: 0.0715 - accuracy: 0.9896 - val_loss: 0.0813 - val_accuracy: 1.0000\n",
      "Epoch 41/500\n",
      "3/3 [==============================] - 0s 17ms/step - loss: 0.0844 - accuracy: 0.9792 - val_loss: 0.1022 - val_accuracy: 0.9583\n",
      "Epoch 42/500\n",
      "3/3 [==============================] - 0s 17ms/step - loss: 0.0654 - accuracy: 0.9792 - val_loss: 0.1816 - val_accuracy: 0.8750\n",
      "Epoch 43/500\n",
      "3/3 [==============================] - 0s 18ms/step - loss: 0.0742 - accuracy: 0.9896 - val_loss: 0.0840 - val_accuracy: 1.0000\n",
      "Epoch 44/500\n",
      "3/3 [==============================] - 0s 17ms/step - loss: 0.0779 - accuracy: 0.9896 - val_loss: 0.0749 - val_accuracy: 0.9583\n",
      "Epoch 45/500\n",
      "3/3 [==============================] - 0s 17ms/step - loss: 0.0540 - accuracy: 0.9896 - val_loss: 0.1350 - val_accuracy: 0.9167\n",
      "Epoch 46/500\n",
      "3/3 [==============================] - 0s 16ms/step - loss: 0.0553 - accuracy: 0.9792 - val_loss: 0.1371 - val_accuracy: 0.9167\n",
      "Epoch 47/500\n",
      "3/3 [==============================] - 0s 18ms/step - loss: 0.0554 - accuracy: 0.9792 - val_loss: 0.0717 - val_accuracy: 0.9583\n",
      "Epoch 48/500\n",
      "3/3 [==============================] - 0s 17ms/step - loss: 0.0658 - accuracy: 0.9792 - val_loss: 0.0741 - val_accuracy: 1.0000\n",
      "Epoch 49/500\n",
      "3/3 [==============================] - 0s 16ms/step - loss: 0.0405 - accuracy: 1.0000 - val_loss: 0.1532 - val_accuracy: 0.8750\n",
      "Epoch 50/500\n",
      "3/3 [==============================] - 0s 17ms/step - loss: 0.0439 - accuracy: 0.9896 - val_loss: 0.1560 - val_accuracy: 0.8750\n",
      "Epoch 51/500\n",
      "3/3 [==============================] - 0s 17ms/step - loss: 0.0524 - accuracy: 1.0000 - val_loss: 0.0716 - val_accuracy: 1.0000\n",
      "Epoch 52/500\n",
      "3/3 [==============================] - 0s 18ms/step - loss: 0.0524 - accuracy: 0.9896 - val_loss: 0.0915 - val_accuracy: 0.9583\n",
      "Epoch 53/500\n",
      "3/3 [==============================] - 0s 17ms/step - loss: 0.0353 - accuracy: 0.9896 - val_loss: 0.1273 - val_accuracy: 0.9167\n",
      "Epoch 54/500\n",
      "3/3 [==============================] - 0s 18ms/step - loss: 0.0290 - accuracy: 1.0000 - val_loss: 0.0896 - val_accuracy: 0.9583\n",
      "Epoch 55/500\n",
      "3/3 [==============================] - 0s 18ms/step - loss: 0.0389 - accuracy: 0.9896 - val_loss: 0.0810 - val_accuracy: 0.9583\n",
      "Epoch 56/500\n",
      "3/3 [==============================] - 0s 17ms/step - loss: 0.0444 - accuracy: 0.9896 - val_loss: 0.1325 - val_accuracy: 0.9167\n",
      "Epoch 57/500\n",
      "3/3 [==============================] - 0s 19ms/step - loss: 0.0423 - accuracy: 0.9896 - val_loss: 0.1303 - val_accuracy: 0.9167\n",
      "Epoch 58/500\n",
      "3/3 [==============================] - 0s 26ms/step - loss: 0.0221 - accuracy: 1.0000 - val_loss: 0.0724 - val_accuracy: 0.9583\n",
      "Epoch 59/500\n",
      "3/3 [==============================] - 0s 23ms/step - loss: 0.0363 - accuracy: 0.9896 - val_loss: 0.0745 - val_accuracy: 1.0000\n",
      "Epoch 60/500\n",
      "3/3 [==============================] - 0s 23ms/step - loss: 0.0332 - accuracy: 1.0000 - val_loss: 0.1626 - val_accuracy: 0.9167\n",
      "Epoch 61/500\n",
      "3/3 [==============================] - 0s 18ms/step - loss: 0.0357 - accuracy: 0.9896 - val_loss: 0.1413 - val_accuracy: 0.9167\n",
      "Epoch 62/500\n",
      "3/3 [==============================] - 0s 17ms/step - loss: 0.0282 - accuracy: 1.0000 - val_loss: 0.0733 - val_accuracy: 0.9583\n",
      "Epoch 63/500\n",
      "3/3 [==============================] - 0s 18ms/step - loss: 0.0355 - accuracy: 1.0000 - val_loss: 0.0730 - val_accuracy: 0.9583\n",
      "Epoch 64/500\n",
      "3/3 [==============================] - 0s 17ms/step - loss: 0.0170 - accuracy: 1.0000 - val_loss: 0.1059 - val_accuracy: 0.9583\n",
      "Epoch 65/500\n",
      "3/3 [==============================] - 0s 16ms/step - loss: 0.0173 - accuracy: 1.0000 - val_loss: 0.1384 - val_accuracy: 0.9167\n",
      "Epoch 66/500\n",
      "3/3 [==============================] - 0s 37ms/step - loss: 0.0196 - accuracy: 1.0000 - val_loss: 0.1134 - val_accuracy: 0.9583\n",
      "Epoch 67/500\n",
      "3/3 [==============================] - 0s 22ms/step - loss: 0.0330 - accuracy: 0.9896 - val_loss: 0.0753 - val_accuracy: 0.9583\n",
      "Epoch 68/500\n",
      "3/3 [==============================] - 0s 16ms/step - loss: 0.0249 - accuracy: 1.0000 - val_loss: 0.0795 - val_accuracy: 0.9583\n",
      "Epoch 69/500\n",
      "3/3 [==============================] - 0s 16ms/step - loss: 0.0260 - accuracy: 0.9896 - val_loss: 0.1080 - val_accuracy: 0.9583\n",
      "Epoch 70/500\n",
      "3/3 [==============================] - 0s 17ms/step - loss: 0.0236 - accuracy: 1.0000 - val_loss: 0.1167 - val_accuracy: 0.9167\n",
      "Epoch 71/500\n",
      "3/3 [==============================] - 0s 16ms/step - loss: 0.0287 - accuracy: 1.0000 - val_loss: 0.0883 - val_accuracy: 0.9583\n",
      "Epoch 72/500\n",
      "3/3 [==============================] - 0s 17ms/step - loss: 0.0238 - accuracy: 0.9896 - val_loss: 0.1004 - val_accuracy: 0.9583\n",
      "Epoch 73/500\n",
      "3/3 [==============================] - 0s 17ms/step - loss: 0.0119 - accuracy: 1.0000 - val_loss: 0.0907 - val_accuracy: 0.9583\n",
      "Epoch 74/500\n",
      "3/3 [==============================] - 0s 16ms/step - loss: 0.0168 - accuracy: 1.0000 - val_loss: 0.0945 - val_accuracy: 0.9583\n",
      "Epoch 75/500\n",
      "3/3 [==============================] - 0s 17ms/step - loss: 0.0135 - accuracy: 1.0000 - val_loss: 0.0848 - val_accuracy: 0.9583\n",
      "Epoch 76/500\n",
      "3/3 [==============================] - 0s 16ms/step - loss: 0.0108 - accuracy: 1.0000 - val_loss: 0.0987 - val_accuracy: 0.9583\n",
      "Epoch 77/500\n",
      "3/3 [==============================] - 0s 17ms/step - loss: 0.0125 - accuracy: 1.0000 - val_loss: 0.1015 - val_accuracy: 0.9583\n",
      "Epoch 78/500\n",
      "3/3 [==============================] - 0s 16ms/step - loss: 0.0081 - accuracy: 1.0000 - val_loss: 0.0955 - val_accuracy: 0.9583\n",
      "Epoch 79/500\n",
      "3/3 [==============================] - 0s 21ms/step - loss: 0.0156 - accuracy: 1.0000 - val_loss: 0.0825 - val_accuracy: 0.9583\n",
      "Epoch 80/500\n",
      "3/3 [==============================] - 0s 17ms/step - loss: 0.0150 - accuracy: 1.0000 - val_loss: 0.1155 - val_accuracy: 0.9583\n",
      "Epoch 81/500\n",
      "3/3 [==============================] - 0s 17ms/step - loss: 0.0219 - accuracy: 0.9896 - val_loss: 0.1411 - val_accuracy: 0.9167\n",
      "Epoch 82/500\n",
      "3/3 [==============================] - 0s 18ms/step - loss: 0.0141 - accuracy: 1.0000 - val_loss: 0.0820 - val_accuracy: 0.9583\n",
      "Epoch 83/500\n",
      "3/3 [==============================] - 0s 17ms/step - loss: 0.0158 - accuracy: 1.0000 - val_loss: 0.0810 - val_accuracy: 0.9583\n",
      "Epoch 84/500\n",
      "3/3 [==============================] - 0s 17ms/step - loss: 0.0160 - accuracy: 1.0000 - val_loss: 0.0826 - val_accuracy: 0.9583\n",
      "Epoch 85/500\n",
      "3/3 [==============================] - 0s 17ms/step - loss: 0.0197 - accuracy: 1.0000 - val_loss: 0.2137 - val_accuracy: 0.8750\n",
      "Epoch 86/500\n",
      "3/3 [==============================] - 0s 16ms/step - loss: 0.0355 - accuracy: 0.9896 - val_loss: 0.1454 - val_accuracy: 0.9167\n",
      "Epoch 87/500\n",
      "3/3 [==============================] - 0s 18ms/step - loss: 0.0202 - accuracy: 0.9896 - val_loss: 0.0857 - val_accuracy: 0.9583\n",
      "Epoch 88/500\n",
      "3/3 [==============================] - 0s 17ms/step - loss: 0.0250 - accuracy: 1.0000 - val_loss: 0.0794 - val_accuracy: 0.9167\n",
      "Epoch 89/500\n",
      "3/3 [==============================] - 0s 16ms/step - loss: 0.0249 - accuracy: 1.0000 - val_loss: 0.2841 - val_accuracy: 0.8750\n",
      "Epoch 90/500\n",
      "3/3 [==============================] - 0s 17ms/step - loss: 0.0307 - accuracy: 1.0000 - val_loss: 0.2052 - val_accuracy: 0.9167\n",
      "Epoch 91/500\n",
      "3/3 [==============================] - 0s 16ms/step - loss: 0.0116 - accuracy: 1.0000 - val_loss: 0.0813 - val_accuracy: 0.9167\n",
      "Epoch 92/500\n",
      "3/3 [==============================] - 0s 18ms/step - loss: 0.0155 - accuracy: 1.0000 - val_loss: 0.0826 - val_accuracy: 0.9583\n",
      "Epoch 93/500\n",
      "3/3 [==============================] - 0s 18ms/step - loss: 0.0111 - accuracy: 1.0000 - val_loss: 0.0964 - val_accuracy: 0.9583\n",
      "Epoch 94/500\n",
      "3/3 [==============================] - 0s 16ms/step - loss: 0.0086 - accuracy: 1.0000 - val_loss: 0.1602 - val_accuracy: 0.9167\n",
      "Epoch 95/500\n",
      "3/3 [==============================] - 0s 24ms/step - loss: 0.0132 - accuracy: 1.0000 - val_loss: 0.1428 - val_accuracy: 0.9167\n",
      "Epoch 96/500\n",
      "3/3 [==============================] - 0s 18ms/step - loss: 0.0056 - accuracy: 1.0000 - val_loss: 0.0961 - val_accuracy: 0.9583\n",
      "Epoch 97/500\n",
      "3/3 [==============================] - 0s 18ms/step - loss: 0.0065 - accuracy: 1.0000 - val_loss: 0.0845 - val_accuracy: 0.9583\n",
      "Epoch 98/500\n",
      "3/3 [==============================] - 0s 18ms/step - loss: 0.0111 - accuracy: 1.0000 - val_loss: 0.0880 - val_accuracy: 0.9583\n",
      "Epoch 99/500\n",
      "3/3 [==============================] - 0s 16ms/step - loss: 0.0102 - accuracy: 1.0000 - val_loss: 0.1324 - val_accuracy: 0.9167\n",
      "Epoch 100/500\n",
      "3/3 [==============================] - 0s 17ms/step - loss: 0.0106 - accuracy: 1.0000 - val_loss: 0.1483 - val_accuracy: 0.9167\n",
      "Epoch 101/500\n",
      "3/3 [==============================] - 0s 18ms/step - loss: 0.0142 - accuracy: 1.0000 - val_loss: 0.0857 - val_accuracy: 0.9583\n",
      "Epoch 102/500\n",
      "3/3 [==============================] - 0s 16ms/step - loss: 0.0065 - accuracy: 1.0000 - val_loss: 0.0840 - val_accuracy: 0.9167\n",
      "Epoch 103/500\n",
      "3/3 [==============================] - 0s 17ms/step - loss: 0.0073 - accuracy: 1.0000 - val_loss: 0.0981 - val_accuracy: 0.9583\n",
      "Epoch 104/500\n",
      "3/3 [==============================] - 0s 17ms/step - loss: 0.0114 - accuracy: 1.0000 - val_loss: 0.1297 - val_accuracy: 0.9167\n",
      "Epoch 105/500\n",
      "3/3 [==============================] - 0s 17ms/step - loss: 0.0037 - accuracy: 1.0000 - val_loss: 0.1183 - val_accuracy: 0.9583\n",
      "Epoch 106/500\n",
      "3/3 [==============================] - 0s 17ms/step - loss: 0.0071 - accuracy: 1.0000 - val_loss: 0.1044 - val_accuracy: 0.9583\n",
      "Epoch 107/500\n",
      "3/3 [==============================] - 0s 18ms/step - loss: 0.0057 - accuracy: 1.0000 - val_loss: 0.1048 - val_accuracy: 0.9583\n",
      "Epoch 108/500\n",
      "3/3 [==============================] - 0s 17ms/step - loss: 0.0060 - accuracy: 1.0000 - val_loss: 0.1100 - val_accuracy: 0.9583\n",
      "Epoch 109/500\n",
      "3/3 [==============================] - 0s 16ms/step - loss: 0.0092 - accuracy: 1.0000 - val_loss: 0.1069 - val_accuracy: 0.9583\n",
      "Epoch 110/500\n",
      "3/3 [==============================] - 0s 16ms/step - loss: 0.0042 - accuracy: 1.0000 - val_loss: 0.0959 - val_accuracy: 0.9583\n",
      "Epoch 111/500\n",
      "3/3 [==============================] - 0s 16ms/step - loss: 0.0050 - accuracy: 1.0000 - val_loss: 0.1221 - val_accuracy: 0.9583\n"
     ]
    }
   ],
   "source": [
    "# 3. 학습과정 설정\n",
    "model.compile(loss='categorical_crossentropy', optimizer='adam', metrics=['accuracy'])\n",
    "\n",
    "# 4. 학습 : epoch마다 val_accuracy값이 좋아지고 있으면 model 자동 저장(콜백추가)\n",
    "    # 모델 자동 저장될 경로 : ./model/iris-00X-val0.XXXX.h5\n",
    "import os\n",
    "model_save_folder = './model_iris/'\n",
    "if not os.path.exists(model_save_folder):\n",
    "    os.mkdir(model_save_folder)\n",
    "file = model_save_folder + 'iris-{epoch:03d}-val{val_accuracy:.4f}.h5'\n",
    "\n",
    "# 모델 자동 저장할 코랙 객체\n",
    "checkpoint = ModelCheckpoint(filepath=file, \n",
    "                             monitor='val_accuracy', \n",
    "                             mode='max', \n",
    "                             save_best_only=True, # False : 매번 저장\n",
    "                             verbose=0\n",
    "                             )\n",
    "# 조기 종료 콜백 객체\n",
    "early_stopping = EarlyStopping(monitor='val_loss', patience=60)\n",
    "hist = model.fit(X_train, Y_train, epochs=500, validation_split=0.2, verbose=1, callbacks=[early_stopping, checkpoint])\n"
   ]
  },
  {
   "cell_type": "code",
   "execution_count": 56,
   "id": "1ed65182",
   "metadata": {},
   "outputs": [
    {
     "data": {
      "text/plain": [
       "<matplotlib.legend.Legend at 0x19fe7a6a6e0>"
      ]
     },
     "execution_count": 56,
     "metadata": {},
     "output_type": "execute_result"
    },
    {
     "data": {
      "image/png": "[encoded data removed]",
      "text/plain": [
       "<Figure size 800x500 with 2 Axes>"
      ]
     },
     "metadata": {},
     "output_type": "display_data"
    }
   ],
   "source": [
    "fig, loss_ax = plt.subplots(figsize=(8,5))\n",
    "loss_ax.plot(hist.history['loss'], 'y', label='train loss')\n",
    "loss_ax.plot(hist.history['val_loss'], 'r', label='val loss')\n",
    "acc_ax =loss_ax.twinx()\n",
    "acc_ax.plot(hist.history['accuracy'], 'g', label='train accracy')\n",
    "acc_ax.plot(hist.history['val_accuracy'], 'b', label='val accracy')\n",
    "loss_ax.set_xlabel('epochs')\n",
    "loss_ax.set_ylabel('loss')\n",
    "acc_ax.set_ylabel('accuracy')\n",
    "loss_ax.legend(loc = 'center right')\n",
    "acc_ax.legend(loc = 'center')\n"
   ]
  },
  {
   "cell_type": "code",
   "execution_count": 60,
   "id": "25fe8ada",
   "metadata": {},
   "outputs": [
    {
     "name": "stdout",
     "output_type": "stream",
     "text": [
      "1/1 [==============================] - 0s 27ms/step - loss: 0.3627 - accuracy: 0.9000\n",
      "1/1 [==============================] - 0s 21ms/step\n",
      "model accuracy : 0.8999999761581421\n",
      "model recall : 0.9\n",
      "model precision : 0.9230769230769231\n",
      "model f1 score : 0.8976982097186702\n"
     ]
    }
   ],
   "source": [
    "# 6. 모델 평가(evaluate, 교차, recall, precision)\n",
    "from sklearn.metrics import confusion_matrix, recall_score, precision_score, f1_score\n",
    "loss, acc = model.evaluate(X_test, Y_Test)\n",
    "loss, acc\n",
    "#모델의 recall과 precision을 위해서 실제값과 예측값\n",
    "real = Y_Test.argmax(axis=1)\n",
    "pred = model.predict(X_test).argmax(axis=1)\n",
    "recall = recall_score(real,pred, average='weighted') # average = 'weighted' L\n",
    "precision = precision_score(real,pred, average='weighted')\n",
    "f1 = f1_score(real,pred,average='weighted')\n",
    "print('model accuracy :', acc)\n",
    "print('model recall :', recall)\n",
    "print('model precision :', precision)\n",
    "print('model f1 score :', f1)"
   ]
  },
  {
   "cell_type": "code",
   "execution_count": 61,
   "id": "549555ff",
   "metadata": {},
   "outputs": [
    {
     "name": "stdout",
     "output_type": "stream",
     "text": [
      "1/1 [==============================] - 0s 145ms/step - loss: 0.2262 - accuracy: 0.9000\n",
      "WARNING:tensorflow:6 out of the last 12 calls to <function Model.make_predict_function.<locals>.predict_function at 0x0000019FE2E26170> triggered tf.function retracing. Tracing is expensive and the excessive number of tracings could be due to (1) creating @tf.function repeatedly in a loop, (2) passing tensors with different shapes, (3) passing Python objects instead of tensors. For (1), please define your @tf.function outside of the loop. For (2), @tf.function has reduce_retracing=True option that can avoid unnecessary retracing. For (3), please refer to https://www.tensorflow.org/guide/function#controlling_retracing and https://www.tensorflow.org/api_docs/python/tf/function for  more details.\n",
      "1/1 [==============================] - 0s 70ms/step\n",
      "model accuracy : 0.8999999761581421\n",
      "model recall : 0.9\n",
      "model precision : 0.9230769230769231\n",
      "model f1 score : 0.8976982097186702\n"
     ]
    }
   ],
   "source": [
    "model2 = load_model('model_iris/iris-028-val1.0000.h5')\n",
    "loss, acc=  model2.evaluate(X_test, Y_Test)\n",
    "pred = model2.predict(X_test).argmax(axis=1)\n",
    "recall = recall_score(real,pred, average='weighted') # average = 'weighted' L\n",
    "precision = precision_score(real,pred, average='weighted')\n",
    "f1 = f1_score(real,pred,average='weighted')\n",
    "\n",
    "print('model accuracy :', acc)\n",
    "print('model recall :', recall)\n",
    "print('model precision :', precision)\n",
    "print('model f1 score :', f1)"
   ]
  },
  {
   "cell_type": "code",
   "execution_count": 62,
   "id": "b7f447e7",
   "metadata": {},
   "outputs": [],
   "source": [
    "# 모델 저장 및 사용\n",
    "save_model(model, 'model_iris/iris.h5')"
   ]
  },
  {
   "cell_type": "code",
   "execution_count": 66,
   "id": "dc97a6e1",
   "metadata": {},
   "outputs": [
    {
     "name": "stdout",
     "output_type": "stream",
     "text": [
      "1/1 [==============================] - 0s 45ms/step\n"
     ]
    },
    {
     "data": {
      "text/plain": [
       "array([2], dtype=int64)"
      ]
     },
     "execution_count": 66,
     "metadata": {},
     "output_type": "execute_result"
    }
   ],
   "source": [
    "model.predict([[6.3,3.3,6.0,2.5]]).argmax(axis=1)"
   ]
  }
 ],
 "metadata": {
  "kernelspec": {
   "display_name": "ml-dl-nlp",
   "language": "python",
   "name": "python3"
  },
  "language_info": {
   "codemirror_mode": {
    "name": "ipython",
    "version": 3
   },
   "file_extension": ".py",
   "mimetype": "text/x-python",
   "name": "python",
   "nbconvert_exporter": "python",
   "pygments_lexer": "ipython3",
   "version": "3.10.18"
  }
 },
 "nbformat": 4,
 "nbformat_minor": 5
}
