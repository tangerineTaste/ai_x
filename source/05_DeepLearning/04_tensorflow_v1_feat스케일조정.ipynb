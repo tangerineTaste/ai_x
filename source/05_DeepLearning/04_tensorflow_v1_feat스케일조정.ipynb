{
 "cells": [
  {
   "cell_type": "markdown",
   "id": "b06fb7b7",
   "metadata": {},
   "source": [
    "# 1. tensorflow v2.XX 에서 V1사용하기"
   ]
  },
  {
   "cell_type": "code",
   "execution_count": 1,
   "id": "7bd49ed7",
   "metadata": {},
   "outputs": [
    {
     "name": "stdout",
     "output_type": "stream",
     "text": [
      "WARNING:tensorflow:From c:\\Users\\Admin\\anaconda3\\envs\\ml-dl-nlp\\lib\\site-packages\\tensorflow\\python\\compat\\v2_compat.py:107: disable_resource_variables (from tensorflow.python.ops.variable_scope) is deprecated and will be removed in a future version.\n",
      "Instructions for updating:\n",
      "non-resource variables are not supported in the long term\n"
     ]
    }
   ],
   "source": [
    "import tensorflow.compat.v1 as tf\n",
    "tf.disable_v2_behavior() # v2를 비활성화하고 v1활성화\n",
    "import numpy as np\n",
    "import pandas as pd"
   ]
  },
  {
   "cell_type": "markdown",
   "id": "e700d452",
   "metadata": {},
   "source": [
    "## Tensorflow\n",
    "- 데이터 흐름 그래프(tensor == 객체)\n",
    "- 이 그래프는 node(상수, 변수, 연산)와 edge로 구성\n",
    "- sess = tf.Session()으로 실행\n",
    "- sess.run()을 통해 값을 확인할 수 있음"
   ]
  },
  {
   "cell_type": "code",
   "execution_count": 6,
   "id": "27c244f6",
   "metadata": {},
   "outputs": [
    {
     "name": "stdout",
     "output_type": "stream",
     "text": [
      "b'Hello, Tensorflow'\n"
     ]
    }
   ],
   "source": [
    "# tensor = data(상수, 변수)와 연산\n",
    "node1 = tf.constant('Hello, Tensorflow')\n",
    "sess = tf.Session()\n",
    "print(sess.run(node1))"
   ]
  },
  {
   "cell_type": "code",
   "execution_count": null,
   "id": "3a58259c",
   "metadata": {},
   "outputs": [
    {
     "name": "stdout",
     "output_type": "stream",
     "text": [
      "[10.0, 20.0, 30.0]\n"
     ]
    }
   ],
   "source": [
    "node1 = tf.constant(10, dtype=tf.float32)\n",
    "node2 = tf.constant(20, dtype=tf.float32)\n",
    "node3 = tf.add(node1,node2)\n",
    "print(sess.run([node1,node2,node3]))"
   ]
  },
  {
   "cell_type": "code",
   "execution_count": 11,
   "id": "97f1beee",
   "metadata": {},
   "outputs": [
    {
     "data": {
      "text/plain": [
       "[array([1, 2, 3], dtype=int16), array([1., 2., 3.], dtype=float32)]"
      ]
     },
     "execution_count": 11,
     "metadata": {},
     "output_type": "execute_result"
    }
   ],
   "source": [
    "# 타입 변경\n",
    "node1 = tf.constant(np.array([1,2,3]), dtype=tf.int16)\n",
    "node2 = tf.cast(node1, dtype=tf.float32)\n",
    "sess = tf.Session()\n",
    "sess.run([node1,node2])"
   ]
  },
  {
   "cell_type": "code",
   "execution_count": 16,
   "id": "a2a13864",
   "metadata": {},
   "outputs": [
    {
     "data": {
      "text/plain": [
       "2.0"
      ]
     },
     "execution_count": 16,
     "metadata": {},
     "output_type": "execute_result"
    }
   ],
   "source": [
    "# 평군값 계산 : tf.reduce_mean()\n",
    "data = np.array([1.,2.,3.])\n",
    "tensor = tf.reduce_mean(data)\n",
    "sess.run(tensor)"
   ]
  },
  {
   "cell_type": "code",
   "execution_count": 138,
   "id": "ca134456",
   "metadata": {},
   "outputs": [
    {
     "data": {
      "text/plain": [
       "array([1.7874067], dtype=float32)"
      ]
     },
     "execution_count": 138,
     "metadata": {},
     "output_type": "execute_result"
    }
   ],
   "source": [
    "# 랜덤값을 갖는 tensor\n",
    "tensor = tf.random_normal([1]) # 평균0, 표준편차가 1인 난수 실수 1개\n",
    "sess.run(tensor)"
   ]
  },
  {
   "cell_type": "code",
   "execution_count": 152,
   "id": "2e12b8da",
   "metadata": {},
   "outputs": [
    {
     "data": {
      "text/plain": [
       "array([-1.6633062], dtype=float32)"
      ]
     },
     "execution_count": 152,
     "metadata": {},
     "output_type": "execute_result"
    }
   ],
   "source": [
    "w = tf.Variable(tf.random.normal([1]))\n",
    "sess = tf.Session()\n",
    "sess.run(tf.global_variables_initializer()) # w변수의 난수 초기화 \n",
    "sess.run(w)"
   ]
  },
  {
   "cell_type": "markdown",
   "id": "c5f8ae2b",
   "metadata": {},
   "source": [
    "# 2. tensorflow v1을 이용한 linear regression을 구현\n",
    "## 2.1 독립변수 x가 1개, 종속변수 y가 1개"
   ]
  },
  {
   "cell_type": "code",
   "execution_count": 160,
   "id": "e1c97bb0",
   "metadata": {},
   "outputs": [
    {
     "name": "stdout",
     "output_type": "stream",
     "text": [
      "step 0 : 35.27352 [-1.2986572] [0.66085345]\n",
      "step 200 : 0.017451484 [0.8469383] [1.3479455]\n",
      "step 400 : 0.0066638067 [0.9054173] [1.2150087]\n",
      "step 600 : 0.0025445572 [0.9415538] [1.1328621]\n",
      "step 800 : 0.0009716309 [0.9638837] [1.0821005]\n",
      "step 1000 : 0.0003710184 [0.9776824] [1.0507331]\n",
      "step 1200 : 0.00014167475 [0.986209] [1.0313503]\n",
      "step 1400 : 5.4098626e-05 [0.99147797] [1.0193726]\n",
      "step 1600 : 2.0656726e-05 [0.994734] [1.0119708]\n",
      "step 1800 : 7.887684e-06 [0.9967459] [1.0073973]\n",
      "step 2000 : 3.0121628e-06 [0.9979891] [1.0045712]\n",
      "step 2200 : 1.150209e-06 [0.9987573] [1.0028249]\n",
      "step 2400 : 4.3936396e-07 [0.9992319] [1.0017459]\n",
      "step 2600 : 1.6801197e-07 [0.999525] [1.0010796]\n",
      "step 2800 : 6.431037e-08 [0.99970603] [1.0006679]\n",
      "step 3000 : 2.4631456e-08 [0.9998181] [1.0004135]\n",
      "step 3200 : 9.5863255e-09 [0.99988663] [1.0002578]\n",
      "step 3400 : 3.750325e-09 [0.9999293] [1.0001613]\n",
      "step 3600 : 1.4919408e-09 [0.9999555] [1.0001017]\n",
      "step 3800 : 5.9532584e-10 [0.999972] [1.0000645]\n",
      "step 4000 : 2.3660598e-10 [0.99998224] [1.0000407]\n",
      "step 4200 : 8.7335174e-11 [0.9999891] [1.0000248]\n",
      "step 4400 : 8.7335174e-11 [0.9999891] [1.0000248]\n",
      "step 4600 : 8.7335174e-11 [0.9999891] [1.0000248]\n",
      "step 4800 : 8.7335174e-11 [0.9999891] [1.0000248]\n",
      "step 5000 : 8.7335174e-11 [0.9999891] [1.0000248]\n"
     ]
    }
   ],
   "source": [
    "x = np.array([1,2,3])\n",
    "y = np.array([2,3,4])\n",
    "# weight와 bias(처음에는 랜덤값, 학습과정을 거쳐 정답에 수렴)\n",
    "W = tf.Variable(tf.random.normal([1]))\n",
    "b = tf.Variable(tf.random.normal([1]))\n",
    "# Hypothesis : 예측값\n",
    "H = W*x + b\n",
    "#cost function(손실함수 = mse; 최소제곱법)\n",
    "cost = tf.reduce_mean(tf.square(H-y))\n",
    "'''\n",
    "학습목적 : cost가 최소가 되는 W,b를 찾아내는 것\n",
    "cost는 2차함수이므로 곡선그래프, 곡선위 미분값이 줄어드는 방향으로 W,b 수정(경사하강법)\n",
    "=> GradientDescentOptimizer\n",
    "'''\n",
    "optimizer = tf.train.GradientDescentOptimizer(learning_rate=0.01)\n",
    "train = optimizer.minimize(cost)\n",
    "# Session 생성\n",
    "sess = tf.Session()\n",
    "# W, b 변수 노드에 초기화\n",
    "sess.run(tf.global_variables_initializer())\n",
    "# 학습 5000번 학습(v2 에서는 fit함수)\n",
    "for step in range(5001):\n",
    "    _, cost_val, W_val, b_val = sess.run([train,cost,W,b])\n",
    "    if not step%200:\n",
    "        print('step',step,':',cost_val, W_val, b_val)"
   ]
  },
  {
   "cell_type": "code",
   "execution_count": 161,
   "id": "e6e60fc0",
   "metadata": {},
   "outputs": [
    {
     "data": {
      "text/plain": [
       "[array([0.9999891], dtype=float32), array([1.0000248], dtype=float32)]"
      ]
     },
     "execution_count": 161,
     "metadata": {},
     "output_type": "execute_result"
    }
   ],
   "source": [
    "# 최종적으로 나온 회귀식 : H = W*x + b\n",
    "sess.run([W,b])"
   ]
  },
  {
   "cell_type": "code",
   "execution_count": 163,
   "id": "03da1b96",
   "metadata": {},
   "outputs": [
    {
     "data": {
      "text/plain": [
       "(0.9999891, 1.0000248)"
      ]
     },
     "execution_count": 163,
     "metadata": {},
     "output_type": "execute_result"
    }
   ],
   "source": [
    "W_, b_ = sess.run([W,b])\n",
    "W_[0], b_[0]"
   ]
  },
  {
   "cell_type": "code",
   "execution_count": 166,
   "id": "1e4326b6",
   "metadata": {},
   "outputs": [],
   "source": [
    "def predict(x):\n",
    "    return W_[0]*x + b_[0]"
   ]
  },
  {
   "cell_type": "code",
   "execution_count": 170,
   "id": "ef9ab731",
   "metadata": {},
   "outputs": [
    {
     "name": "stdout",
     "output_type": "stream",
     "text": [
      "예측값은  9.999926626682281\n"
     ]
    }
   ],
   "source": [
    "print('예측값은 ', predict(9))"
   ]
  },
  {
   "cell_type": "markdown",
   "id": "6ad3faa9",
   "metadata": {},
   "source": [
    "## 2.2 predict를 위한 placeholder이용\n",
    "- placeholder : 텐서플로우 외부에서 데이터를 입력받는 노드"
   ]
  },
  {
   "cell_type": "code",
   "execution_count": 169,
   "id": "48e67f6f",
   "metadata": {},
   "outputs": [
    {
     "data": {
      "text/plain": [
       "array([2., 3., 4.], dtype=float16)"
      ]
     },
     "execution_count": 169,
     "metadata": {},
     "output_type": "execute_result"
    }
   ],
   "source": [
    "# x = np.array([1,2,3])\n",
    "x = tf.placeholder(tf.float16)\n",
    "H = 1*x + 1\n",
    "sess = tf.Session()\n",
    "sess.run(H, feed_dict={x:5})\n",
    "sess.run(H, feed_dict={x:np.array([1,2,3])})"
   ]
  },
  {
   "cell_type": "code",
   "execution_count": 171,
   "id": "945a8b2e",
   "metadata": {},
   "outputs": [
    {
     "name": "stdout",
     "output_type": "stream",
     "text": [
      "0째 : cost:239.3093719482422, W:[-0.09627295], b:[1.757273]\n",
      "200째 : cost:0.03671792522072792, W:[1.9348351], b:[1.348306]\n",
      "400째 : cost:0.003611550899222493, W:[1.9795628], b:[1.109237]\n",
      "600째 : cost:0.00035522712278179824, W:[1.9935904], b:[1.0342593]\n",
      "800째 : cost:3.4940407203976065e-05, W:[1.9979898], b:[1.0107448]\n",
      "1000째 : cost:3.439258307480486e-06, W:[1.9993694], b:[1.003371]\n",
      "1200째 : cost:3.3836244028861984e-07, W:[1.9998022], b:[1.0010574]\n",
      "1400째 : cost:3.327442144041015e-08, W:[1.9999379], b:[1.0003316]\n",
      "1600째 : cost:3.2815024031407347e-09, W:[1.9999804], b:[1.0001045]\n",
      "1800째 : cost:3.1237731845656924e-10, W:[1.9999939], b:[1.0000323]\n",
      "2000째 : cost:3.470859016863059e-11, W:[1.9999979], b:[1.000011]\n",
      "2200째 : cost:3.470859016863059e-11, W:[1.9999979], b:[1.000011]\n",
      "2400째 : cost:3.470859016863059e-11, W:[1.9999979], b:[1.000011]\n",
      "2600째 : cost:3.470859016863059e-11, W:[1.9999979], b:[1.000011]\n",
      "2800째 : cost:3.470859016863059e-11, W:[1.9999979], b:[1.000011]\n",
      "3000째 : cost:3.470859016863059e-11, W:[1.9999979], b:[1.000011]\n",
      "3200째 : cost:3.470859016863059e-11, W:[1.9999979], b:[1.000011]\n",
      "3400째 : cost:3.470859016863059e-11, W:[1.9999979], b:[1.000011]\n",
      "3600째 : cost:3.470859016863059e-11, W:[1.9999979], b:[1.000011]\n",
      "3800째 : cost:3.470859016863059e-11, W:[1.9999979], b:[1.000011]\n",
      "4000째 : cost:3.470859016863059e-11, W:[1.9999979], b:[1.000011]\n",
      "4200째 : cost:3.470859016863059e-11, W:[1.9999979], b:[1.000011]\n",
      "4400째 : cost:3.470859016863059e-11, W:[1.9999979], b:[1.000011]\n",
      "4600째 : cost:3.470859016863059e-11, W:[1.9999979], b:[1.000011]\n",
      "4800째 : cost:3.470859016863059e-11, W:[1.9999979], b:[1.000011]\n",
      "5000째 : cost:3.470859016863059e-11, W:[1.9999979], b:[1.000011]\n"
     ]
    }
   ],
   "source": [
    "# H = 2x+1\n",
    "x_data = np.array([1,2,3,5,8])\n",
    "y_data = np.array([3,5,7,11,17])\n",
    "# placeholder 설정 (입력변수 x, 타겟변수 y)\n",
    "x = tf.placeholder(dtype=tf.float32)\n",
    "y = tf.placeholder(dtype=tf.float32)\n",
    "# W, b\n",
    "W = tf.Variable(tf.random.normal([1]))\n",
    "b = tf.Variable(tf.random.normal([1]))\n",
    "# Hypothesis(예측값)\n",
    "H = W*x + b\n",
    "# 손실함수\n",
    "cost = tf.reduce_mean(tf.square(H-y))\n",
    "# 경사하강법\n",
    "train = tf.train.GradientDescentOptimizer(learning_rate=0.01).minimize(cost)\n",
    "# Session 객체 생성\n",
    "sess = tf.Session()\n",
    "sess.run(tf.global_variables_initializer()) # W, b 초기화\n",
    "# 5000번 학습\n",
    "for step in range(5001):\n",
    "    _, cost_val, W_val, b_val = sess.run([train, cost, W, b], \n",
    "                                         feed_dict={x:x_data,\n",
    "                                                   y:y_data})\n",
    "    if step%200 == 0:\n",
    "        print('{}째 : cost:{}, W:{}, b:{}'.format(step, cost_val, W_val, b_val))"
   ]
  },
  {
   "cell_type": "code",
   "execution_count": 172,
   "id": "52f0203a",
   "metadata": {},
   "outputs": [
    {
     "data": {
      "text/plain": [
       "array([11.], dtype=float32)"
      ]
     },
     "execution_count": 172,
     "metadata": {},
     "output_type": "execute_result"
    }
   ],
   "source": [
    "sess.run(H,feed_dict={x:5})"
   ]
  },
  {
   "cell_type": "code",
   "execution_count": 173,
   "id": "d845d4e5",
   "metadata": {},
   "outputs": [
    {
     "data": {
      "text/plain": [
       "array([11.      , 12.999998, 14.999996], dtype=float32)"
      ]
     },
     "execution_count": 173,
     "metadata": {},
     "output_type": "execute_result"
    }
   ],
   "source": [
    "sess.run(H, feed_dict={x:np.array([5,6,7])})"
   ]
  },
  {
   "cell_type": "markdown",
   "id": "775e09b6",
   "metadata": {},
   "source": [
    "## 2.3 scale이 다른 데이터의 liner regression 구현(scale조정x)"
   ]
  },
  {
   "cell_type": "code",
   "execution_count": 175,
   "id": "eb22f881",
   "metadata": {},
   "outputs": [
    {
     "name": "stdout",
     "output_type": "stream",
     "text": [
      "0째 : cost:4275.02685546875, W:[7.8063216], b:[0.95517683]\n",
      "200째 : cost:83.67530059814453, W:[10.195595], b:[-0.5809591]\n",
      "400째 : cost:83.49999237060547, W:[10.270273], b:[-1.1338981]\n",
      "600째 : cost:83.48393249511719, W:[10.292892], b:[-1.3013793]\n",
      "800째 : cost:83.48247528076172, W:[10.299744], b:[-1.3521087]\n",
      "1000째 : cost:83.4823226928711, W:[10.301819], b:[-1.3674725]\n",
      "1200째 : cost:83.4823226928711, W:[10.302448], b:[-1.3721268]\n",
      "1400째 : cost:83.48231506347656, W:[10.302638], b:[-1.3735374]\n",
      "1600째 : cost:83.48230743408203, W:[10.302695], b:[-1.3739635]\n",
      "1800째 : cost:83.48231506347656, W:[10.302713], b:[-1.3740919]\n",
      "2000째 : cost:83.48231506347656, W:[10.302718], b:[-1.3741293]\n"
     ]
    }
   ],
   "source": [
    "# H = 2x+1\n",
    "x_data = np.array([1,2,5,8,10])\n",
    "y_data = np.array([3,15,68,80,95])\n",
    "# placeholder 설정 (입력변수 x, 타겟변수 y)\n",
    "x = tf.placeholder(dtype=tf.float32)\n",
    "y = tf.placeholder(dtype=tf.float32)\n",
    "# W, b\n",
    "W = tf.Variable(tf.random.normal([1]))\n",
    "b = tf.Variable(tf.random.normal([1]))\n",
    "# Hypothesis(예측값)\n",
    "H = W*x + b\n",
    "# 손실함수\n",
    "cost = tf.reduce_mean(tf.square(H-y))\n",
    "# 경사하강법\n",
    "train = tf.train.GradientDescentOptimizer(learning_rate=0.01).minimize(cost)\n",
    "# Session 객체 생성\n",
    "sess = tf.Session()\n",
    "sess.run(tf.global_variables_initializer()) # W, b 초기화\n",
    "# 5000번 학습\n",
    "for step in range(2001):\n",
    "    _, cost_val, W_val, b_val = sess.run([train, cost, W, b], \n",
    "                                         feed_dict={x:x_data,\n",
    "                                                   y:y_data})\n",
    "    if step%200 == 0:\n",
    "        print('{}째 : cost:{}, W:{}, b:{}'.format(step, cost_val, W_val, b_val))"
   ]
  },
  {
   "cell_type": "code",
   "execution_count": null,
   "id": "e1d7a799",
   "metadata": {},
   "outputs": [],
   "source": [
    "# cost값이 멈춤 : local 최소값"
   ]
  },
  {
   "cell_type": "markdown",
   "id": "44728607",
   "metadata": {},
   "source": [
    "## 2.4 scale이 다른 데이터의 linear regression을 구현(조정o)\n",
    "### scale을 맞추기 : 모든 데이터를 일정 범위내로 조정\n",
    "- normalization(정규화) : 0~1로 조정\n",
    "    - normalization = (X - Xmin) ÷ (Xmax - Xmin)  \n",
    "        * 위의 식을 써도 되지만 라이브러리를 씀(sklearn.preprocessing.MinMaxScaler이용)\n",
    "        \n",
    "- standardization(표준화): 평균0, 표준편차1로 조정\n",
    "    - standardization = (X - Xmean(평균)) ÷ (Xstd(표준편차))\n",
    "        * 위의 식을 써도 되지만 라이브러리를 씀(sklearn.preprocessing.StandardScaler이용)"
   ]
  },
  {
   "cell_type": "code",
   "execution_count": null,
   "id": "a340b601",
   "metadata": {},
   "outputs": [
    {
     "name": "stdout",
     "output_type": "stream",
     "text": [
      "[0.         0.11111111 0.44444444 0.77777778 1.        ]\n",
      "[0.         0.13043478 0.70652174 0.83695652 1.        ]\n"
     ]
    }
   ],
   "source": [
    "# 라이브러리를 쓰지 않고 정규화 \n",
    "\n",
    "x_data = np.array([1,2,5,8,10])\n",
    "y_data = np.array([3,15,68,80,95])\n",
    "scaled_x_data = (x_data - x_data.min()) / (x_data.max()-x_data.min())\n",
    "scaled_y_data = (y_data - y_data.min()) / (y_data.max()-y_data.min())\n",
    "print(scaled_x_data)\n",
    "print(scaled_y_data)"
   ]
  },
  {
   "cell_type": "markdown",
   "id": "a729885c",
   "metadata": {},
   "source": [
    "### 라이브러리를 쓰고 정규화 (MinMaxScaler 이용)"
   ]
  },
  {
   "cell_type": "code",
   "execution_count": null,
   "id": "7a062c13",
   "metadata": {},
   "outputs": [
    {
     "data": {
      "text/plain": [
       "array([[ 1.        ,  3.        ,  0.        ,  0.        ],\n",
       "       [ 2.        , 15.        ,  0.11111111,  0.13043478],\n",
       "       [ 5.        , 68.        ,  0.44444444,  0.70652174],\n",
       "       [ 8.        , 80.        ,  0.77777778,  0.83695652],\n",
       "       [10.        , 95.        ,  1.        ,  1.        ]])"
      ]
     },
     "execution_count": 208,
     "metadata": {},
     "output_type": "execute_result"
    }
   ],
   "source": [
    "x_data = np.array([1,2,5,8,10]).reshape(-1,1)\n",
    "y_data = np.array([3,15,68,80,95]).reshape(-1,1)\n",
    "\n",
    "from sklearn.preprocessing import MinMaxScaler\n",
    "\n",
    "scaler_x = MinMaxScaler() # x_data를 정규화 시킬 객체\n",
    "scaled_x_data = scaler_x.fit_transform(x_data)\n",
    "\n",
    "# scaler_x.fit(x_data)\n",
    "# scaled_x_data = scaler_x.transform(x_data)\n",
    "\n",
    "\n",
    "scaler_y = MinMaxScaler()\n",
    "scaled_y_data = scaler_y.fit_transform(y_data)\n",
    "\n",
    "np.column_stack([x_data,y_data,scaled_x_data,scaled_y_data])"
   ]
  },
  {
   "cell_type": "code",
   "execution_count": null,
   "id": "adc9d8f1",
   "metadata": {},
   "outputs": [
    {
     "name": "stdout",
     "output_type": "stream",
     "text": [
      "0째 : cost:1.4108903408050537, W:[0.66991127], b:[1.3709705]\n",
      "500째 : cost:0.019250866025686264, W:[0.75742924], b:[0.19672693]\n",
      "1000째 : cost:0.010774565860629082, W:[0.9298419], b:[0.10565703]\n",
      "1500째 : cost:0.009951695799827576, W:[0.9835615], b:[0.07728299]\n",
      "2000째 : cost:0.009871812537312508, W:[1.0002996], b:[0.06844214]\n",
      "2500째 : cost:0.00986405834555626, W:[1.0055147], b:[0.06568758]\n",
      "3000째 : cost:0.009863307699561119, W:[1.0071393], b:[0.06482951]\n",
      "3500째 : cost:0.009863228537142277, W:[1.0076455], b:[0.06456236]\n",
      "4000째 : cost:0.009863224811851978, W:[1.0078009], b:[0.06447956]\n",
      "4500째 : cost:0.009863225743174553, W:[1.0078511], b:[0.06445309]\n",
      "5000째 : cost:0.009863224811851978, W:[1.0078539], b:[0.06445099]\n"
     ]
    }
   ],
   "source": [
    "x = tf.placeholder(dtype=tf.float32)\n",
    "y = tf.placeholder(dtype=tf.float32)\n",
    "# W, b\n",
    "W = tf.Variable(tf.random.normal([1]))\n",
    "b = tf.Variable(tf.random.normal([1]))\n",
    "# Hypothesis(예측값)\n",
    "H = W*x + b\n",
    "# 손실함수\n",
    "cost = tf.reduce_mean(tf.square(H-y))\n",
    "# 경사하강법\n",
    "train = tf.train.GradientDescentOptimizer(learning_rate=0.01).minimize(cost)\n",
    "# Session 객체 생성\n",
    "sess = tf.Session()\n",
    "sess.run(tf.global_variables_initializer()) # W, b 초기화\n",
    "# 5000번 학습\n",
    "for step in range(5001):\n",
    "    _, cost_val, W_val, b_val = sess.run([train, cost, W, b], \n",
    "                                         feed_dict={x:scaled_x_data,\n",
    "                                                   y:scaled_y_data})\n",
    "    if step%500 == 0:\n",
    "        print('{}째 : cost:{}, W:{}, b:{}'.format(step, cost_val, W_val, b_val))"
   ]
  },
  {
   "cell_type": "code",
   "execution_count": 214,
   "id": "f6317eaf",
   "metadata": {},
   "outputs": [
    {
     "name": "stdout",
     "output_type": "stream",
     "text": [
      "모델 예측을 위한 입력 : [[0.11111111]\n",
      " [0.22222222]]\n",
      "모델 예측 결과 : [[0.17643476]\n",
      " [0.28841853]]\n",
      "결과 [[19.231998]\n",
      " [29.534504]]\n"
     ]
    }
   ],
   "source": [
    "scaled_input =scaler_x.transform(np.array([[2],[3]]))\n",
    "print('모델 예측을 위한 입력 :', scaled_input)\n",
    "scaled_output = sess.run(H, feed_dict={x:scaled_input})\n",
    "print('모델 예측 결과 :', scaled_output)\n",
    "print('결과', scaler_y.inverse_transform(scaled_output))"
   ]
  },
  {
   "cell_type": "code",
   "execution_count": 216,
   "id": "5f198045",
   "metadata": {},
   "outputs": [],
   "source": [
    "# x_data들의 예측값\n",
    "scaled_y_hat = sess.run(H, feed_dict={x:scaled_x_data})\n",
    "y_hat = scaler_y.inverse_transform(scaled_y_hat)"
   ]
  },
  {
   "cell_type": "code",
   "execution_count": 220,
   "id": "08927c63",
   "metadata": {},
   "outputs": [
    {
     "data": {
      "text/plain": [
       "[<matplotlib.lines.Line2D at 0x29aafe53eb0>]"
      ]
     },
     "execution_count": 220,
     "metadata": {},
     "output_type": "execute_result"
    },
    {
     "data": {
      "image/png": "[encoded data removed]",
      "text/plain": [
       "<Figure size 640x480 with 1 Axes>"
      ]
     },
     "metadata": {},
     "output_type": "display_data"
    }
   ],
   "source": [
    "import matplotlib.pyplot as plt\n",
    "plt.plot(x_data, y_data, 'r')\n",
    "plt.plot(x_data, y_hat, 'b')"
   ]
  },
  {
   "cell_type": "markdown",
   "id": "376cc156",
   "metadata": {},
   "source": [
    "### 라이브러리를 쓰고 정규화 (StandardScaler 이용)"
   ]
  },
  {
   "cell_type": "code",
   "execution_count": 225,
   "id": "865a9e67",
   "metadata": {},
   "outputs": [
    {
     "name": "stdout",
     "output_type": "stream",
     "text": [
      "[[ 1  3]\n",
      " [ 2 15]\n",
      " [ 5 68]\n",
      " [ 8 80]\n",
      " [10 95]]\n",
      "[[-1.22474487 -1.34819316]\n",
      " [-0.93313895 -1.01936556]\n",
      " [-0.05832118  0.43295634]\n",
      " [ 0.81649658  0.76178394]\n",
      " [ 1.39970842  1.17281844]]\n"
     ]
    }
   ],
   "source": [
    "x_data = np.array([1,2,5,8,10]).reshape(-1,1)\n",
    "y_data = np.array([3,15,68,80,95]).reshape(-1,1)\n",
    "\n",
    "from sklearn.preprocessing import StandardScaler\n",
    "scaler_x = StandardScaler()\n",
    "scaler_y = StandardScaler()\n",
    "\n",
    "scaled_x_data = scaler_x.fit_transform(x_data)\n",
    "scaled_y_data = scaler_y.fit_transform(y_data)\n",
    "\n",
    "print(np.column_stack([x_data,y_data]))\n",
    "print(np.column_stack([scaled_x_data,scaled_y_data]))"
   ]
  },
  {
   "cell_type": "code",
   "execution_count": 226,
   "id": "59dade9e",
   "metadata": {},
   "outputs": [
    {
     "name": "stdout",
     "output_type": "stream",
     "text": [
      "0째 : cost:1.6177539825439453, W:[0.44271386], b:[1.1033605]\n",
      "500째 : cost:0.06268570572137833, W:[0.9681284], b:[4.527594e-05]\n",
      "1000째 : cost:0.06268570572137833, W:[0.96814847], b:[5.471273e-09]\n",
      "1500째 : cost:0.06268571317195892, W:[0.96814847], b:[-1.6731441e-08]\n",
      "2000째 : cost:0.06268571317195892, W:[0.96814847], b:[-1.6731441e-08]\n",
      "2500째 : cost:0.06268571317195892, W:[0.96814847], b:[-1.6731441e-08]\n",
      "3000째 : cost:0.06268571317195892, W:[0.96814847], b:[-1.6731441e-08]\n",
      "3500째 : cost:0.06268571317195892, W:[0.96814847], b:[-1.6731441e-08]\n",
      "4000째 : cost:0.06268571317195892, W:[0.96814847], b:[-1.6731441e-08]\n",
      "4500째 : cost:0.06268571317195892, W:[0.96814847], b:[-1.6731441e-08]\n",
      "5000째 : cost:0.06268571317195892, W:[0.96814847], b:[-1.6731441e-08]\n"
     ]
    },
    {
     "data": {
      "text/plain": [
       "[<matplotlib.lines.Line2D at 0x29ab1fea770>]"
      ]
     },
     "execution_count": 226,
     "metadata": {},
     "output_type": "execute_result"
    },
    {
     "data": {
      "image/png": "[encoded data removed]",
      "text/plain": [
       "<Figure size 640x480 with 1 Axes>"
      ]
     },
     "metadata": {},
     "output_type": "display_data"
    }
   ],
   "source": [
    "x = tf.placeholder(dtype=tf.float32)\n",
    "y = tf.placeholder(dtype=tf.float32)\n",
    "# W, b\n",
    "W = tf.Variable(tf.random.normal([1]))\n",
    "b = tf.Variable(tf.random.normal([1]))\n",
    "# Hypothesis(예측값)\n",
    "H = W*x + b\n",
    "# 손실함수\n",
    "cost = tf.reduce_mean(tf.square(H-y))\n",
    "# 경사하강법\n",
    "train = tf.train.GradientDescentOptimizer(learning_rate=0.01).minimize(cost)\n",
    "# Session 객체 생성\n",
    "sess = tf.Session()\n",
    "sess.run(tf.global_variables_initializer()) # W, b 초기화\n",
    "# 5000번 학습\n",
    "for step in range(5001):\n",
    "    _, cost_val, W_val, b_val = sess.run([train, cost, W, b], \n",
    "                                         feed_dict={x:scaled_x_data,\n",
    "                                                   y:scaled_y_data})\n",
    "    if step%500 == 0:\n",
    "        print('{}째 : cost:{}, W:{}, b:{}'.format(step, cost_val, W_val, b_val))\n",
    "\n",
    "scaled_y_hat = sess.run(H, feed_dict={x:scaled_x_data})\n",
    "y_hat = scaler_y.inverse_transform(scaled_y_hat)\n",
    "plt.plot(x_data, y_data, 'r')\n",
    "plt.plot(x_data, y_hat, 'b')"
   ]
  },
  {
   "cell_type": "markdown",
   "id": "150bee37",
   "metadata": {},
   "source": [
    "## 2.5 독립변수 x가 3개, 종속변수 y가 1개 (csv->array)"
   ]
  },
  {
   "cell_type": "markdown",
   "id": "a498cfa3",
   "metadata": {},
   "source": [
    "### 방법1 : csv -> array"
   ]
  },
  {
   "cell_type": "code",
   "execution_count": 127,
   "id": "4f83d27b",
   "metadata": {},
   "outputs": [
    {
     "data": {
      "text/plain": [
       "array([[ 41. , 190. ,   7.4,  67. ,   5. ,   1. ],\n",
       "       [ 36. , 118. ,   8. ,  72. ,   5. ,   2. ],\n",
       "       [ 12. , 149. ,  12.6,  74. ,   5. ,   3. ],\n",
       "       [ 18. , 313. ,  11.5,  62. ,   5. ,   4. ],\n",
       "       [  nan,   nan,  14.3,  56. ,   5. ,   5. ]])"
      ]
     },
     "execution_count": 127,
     "metadata": {},
     "output_type": "execute_result"
    }
   ],
   "source": [
    "data = np.loadtxt('data/pima-indians-diabetes.csv',delimiter=',',encoding='utf-8') #결측치와 헤더가 없을 때 사용하는 함수\n",
    "data = np.genfromtxt('data/ozone.csv',\n",
    "                     delimiter=',',\n",
    "                     skip_header=1,\n",
    "                     missing_values='NA',\n",
    "                     filling_values=np.nan)\n",
    "data[:5]"
   ]
  },
  {
   "cell_type": "markdown",
   "id": "107be2b1",
   "metadata": {},
   "source": [
    "### ★ 방법2 : csv -> 데이터프레임 -> 결측치처리 ->array ★"
   ]
  },
  {
   "cell_type": "code",
   "execution_count": 2,
   "id": "eeedff56",
   "metadata": {},
   "outputs": [
    {
     "data": {
      "text/plain": [
       "Ozone      37\n",
       "Solar.R     7\n",
       "Wind        0\n",
       "Temp        0\n",
       "Month       0\n",
       "Day         0\n",
       "dtype: int64"
      ]
     },
     "execution_count": 2,
     "metadata": {},
     "output_type": "execute_result"
    }
   ],
   "source": [
    "data = pd.read_csv('data/ozone.csv')\n",
    "data.isna().sum() # 열별 결측치 개수"
   ]
  },
  {
   "cell_type": "markdown",
   "id": "da665a30",
   "metadata": {},
   "source": [
    "#### 결측치 처리 방법1 : 결측치가 있는 행을 제거"
   ]
  },
  {
   "cell_type": "code",
   "execution_count": null,
   "id": "c2e27efc",
   "metadata": {},
   "outputs": [
    {
     "data": {
      "text/html": [
       "<div>\n",
       "<style scoped>\n",
       "    .dataframe tbody tr th:only-of-type {\n",
       "        vertical-align: middle;\n",
       "    }\n",
       "\n",
       "    .dataframe tbody tr th {\n",
       "        vertical-align: top;\n",
       "    }\n",
       "\n",
       "    .dataframe thead th {\n",
       "        text-align: right;\n",
       "    }\n",
       "</style>\n",
       "<table border=\"1\" class=\"dataframe\">\n",
       "  <thead>\n",
       "    <tr style=\"text-align: right;\">\n",
       "      <th></th>\n",
       "      <th>Ozone</th>\n",
       "      <th>Solar.R</th>\n",
       "      <th>Wind</th>\n",
       "      <th>Temp</th>\n",
       "      <th>Month</th>\n",
       "      <th>Day</th>\n",
       "    </tr>\n",
       "  </thead>\n",
       "  <tbody>\n",
       "    <tr>\n",
       "      <th>0</th>\n",
       "      <td>41.0</td>\n",
       "      <td>190.0</td>\n",
       "      <td>7.4</td>\n",
       "      <td>67</td>\n",
       "      <td>5</td>\n",
       "      <td>1</td>\n",
       "    </tr>\n",
       "    <tr>\n",
       "      <th>1</th>\n",
       "      <td>36.0</td>\n",
       "      <td>118.0</td>\n",
       "      <td>8.0</td>\n",
       "      <td>72</td>\n",
       "      <td>5</td>\n",
       "      <td>2</td>\n",
       "    </tr>\n",
       "    <tr>\n",
       "      <th>2</th>\n",
       "      <td>12.0</td>\n",
       "      <td>149.0</td>\n",
       "      <td>12.6</td>\n",
       "      <td>74</td>\n",
       "      <td>5</td>\n",
       "      <td>3</td>\n",
       "    </tr>\n",
       "    <tr>\n",
       "      <th>3</th>\n",
       "      <td>18.0</td>\n",
       "      <td>313.0</td>\n",
       "      <td>11.5</td>\n",
       "      <td>62</td>\n",
       "      <td>5</td>\n",
       "      <td>4</td>\n",
       "    </tr>\n",
       "    <tr>\n",
       "      <th>6</th>\n",
       "      <td>23.0</td>\n",
       "      <td>299.0</td>\n",
       "      <td>8.6</td>\n",
       "      <td>65</td>\n",
       "      <td>5</td>\n",
       "      <td>7</td>\n",
       "    </tr>\n",
       "  </tbody>\n",
       "</table>\n",
       "</div>"
      ],
      "text/plain": [
       "   Ozone  Solar.R  Wind  Temp  Month  Day\n",
       "0   41.0    190.0   7.4    67      5    1\n",
       "1   36.0    118.0   8.0    72      5    2\n",
       "2   12.0    149.0  12.6    74      5    3\n",
       "3   18.0    313.0  11.5    62      5    4\n",
       "6   23.0    299.0   8.6    65      5    7"
      ]
     },
     "execution_count": 20,
     "metadata": {},
     "output_type": "execute_result"
    }
   ],
   "source": [
    "data.dropna(how='any', axis=0).head()\n"
   ]
  },
  {
   "cell_type": "markdown",
   "id": "e823fd23",
   "metadata": {},
   "source": [
    "#### 결측치 처리 방법2 : 결측치 대체(열별 평균값으로 대체)"
   ]
  },
  {
   "cell_type": "code",
   "execution_count": null,
   "id": "a9060bb0",
   "metadata": {},
   "outputs": [
    {
     "data": {
      "text/html": [
       "<div>\n",
       "<style scoped>\n",
       "    .dataframe tbody tr th:only-of-type {\n",
       "        vertical-align: middle;\n",
       "    }\n",
       "\n",
       "    .dataframe tbody tr th {\n",
       "        vertical-align: top;\n",
       "    }\n",
       "\n",
       "    .dataframe thead th {\n",
       "        text-align: right;\n",
       "    }\n",
       "</style>\n",
       "<table border=\"1\" class=\"dataframe\">\n",
       "  <thead>\n",
       "    <tr style=\"text-align: right;\">\n",
       "      <th></th>\n",
       "      <th>Ozone</th>\n",
       "      <th>Solar.R</th>\n",
       "      <th>Wind</th>\n",
       "      <th>Temp</th>\n",
       "      <th>Month</th>\n",
       "      <th>Day</th>\n",
       "    </tr>\n",
       "  </thead>\n",
       "  <tbody>\n",
       "    <tr>\n",
       "      <th>0</th>\n",
       "      <td>41.00000</td>\n",
       "      <td>190.000000</td>\n",
       "      <td>7.4</td>\n",
       "      <td>67</td>\n",
       "      <td>5</td>\n",
       "      <td>1</td>\n",
       "    </tr>\n",
       "    <tr>\n",
       "      <th>1</th>\n",
       "      <td>36.00000</td>\n",
       "      <td>118.000000</td>\n",
       "      <td>8.0</td>\n",
       "      <td>72</td>\n",
       "      <td>5</td>\n",
       "      <td>2</td>\n",
       "    </tr>\n",
       "    <tr>\n",
       "      <th>2</th>\n",
       "      <td>12.00000</td>\n",
       "      <td>149.000000</td>\n",
       "      <td>12.6</td>\n",
       "      <td>74</td>\n",
       "      <td>5</td>\n",
       "      <td>3</td>\n",
       "    </tr>\n",
       "    <tr>\n",
       "      <th>3</th>\n",
       "      <td>18.00000</td>\n",
       "      <td>313.000000</td>\n",
       "      <td>11.5</td>\n",
       "      <td>62</td>\n",
       "      <td>5</td>\n",
       "      <td>4</td>\n",
       "    </tr>\n",
       "    <tr>\n",
       "      <th>4</th>\n",
       "      <td>42.12931</td>\n",
       "      <td>185.931507</td>\n",
       "      <td>14.3</td>\n",
       "      <td>56</td>\n",
       "      <td>5</td>\n",
       "      <td>5</td>\n",
       "    </tr>\n",
       "  </tbody>\n",
       "</table>\n",
       "</div>"
      ],
      "text/plain": [
       "      Ozone     Solar.R  Wind  Temp  Month  Day\n",
       "0  41.00000  190.000000   7.4    67      5    1\n",
       "1  36.00000  118.000000   8.0    72      5    2\n",
       "2  12.00000  149.000000  12.6    74      5    3\n",
       "3  18.00000  313.000000  11.5    62      5    4\n",
       "4  42.12931  185.931507  14.3    56      5    5"
      ]
     },
     "execution_count": 23,
     "metadata": {},
     "output_type": "execute_result"
    }
   ],
   "source": [
    "data.fillna(value=data.mean()).head()"
   ]
  },
  {
   "cell_type": "markdown",
   "id": "303e36bb",
   "metadata": {},
   "source": [
    "#### 결측치 처리 방법3 : 결측치 대체(월별 열별 평균값으로 대체)"
   ]
  },
  {
   "cell_type": "code",
   "execution_count": 3,
   "id": "ff95caa2",
   "metadata": {},
   "outputs": [],
   "source": [
    "mean_data = data.groupby('Month')[['Ozone','Solar.R']].mean() "
   ]
  },
  {
   "cell_type": "code",
   "execution_count": 13,
   "id": "40d45f9e",
   "metadata": {},
   "outputs": [],
   "source": [
    "def fill_nan(row):\n",
    "    'row[\"Ozone\"]이나 row[\"Solar.R\"]가 결측치면 mean_data[월, 열이름]으로 대체'\n",
    "    pd.options.mode.copy_on_write = True \n",
    "    if row.isna()['Ozone'] :\n",
    "        row['Ozone'] = mean_data.loc[row.Month,'Ozone']\n",
    "    if row.isna()['Solar.R']:\n",
    "        row['Solar.R'] = mean_data.loc[row.Month,'Solar.R']\n",
    "    return row"
   ]
  },
  {
   "cell_type": "code",
   "execution_count": 14,
   "id": "6347380c",
   "metadata": {},
   "outputs": [
    {
     "data": {
      "text/plain": [
       "((153, 3), (153, 1))"
      ]
     },
     "execution_count": 14,
     "metadata": {},
     "output_type": "execute_result"
    }
   ],
   "source": [
    "data = data.apply(fill_nan,axis=1)\n",
    "X_data = data[['Solar.R','Wind','Temp']].values\n",
    "y_data = data[['Ozone']].values\n",
    "X_data.shape, y_data.shape"
   ]
  },
  {
   "cell_type": "code",
   "execution_count": 36,
   "id": "1a388a36",
   "metadata": {},
   "outputs": [
    {
     "name": "stdout",
     "output_type": "stream",
     "text": [
      "1000번째 cost:547.422607421875\n",
      "2000번째 cost:504.927734375\n",
      "3000번째 cost:483.62213134765625\n",
      "4000번째 cost:472.9379577636719\n",
      "5000번째 cost:467.5779724121094\n",
      "6000번째 cost:464.8868408203125\n",
      "7000번째 cost:463.53350830078125\n",
      "8000번째 cost:462.8507080078125\n",
      "9000번째 cost:462.5039367675781\n",
      "10000번째 cost:462.3257141113281\n",
      "11000번째 cost:462.2320251464844\n",
      "12000번째 cost:462.18060302734375\n",
      "13000번째 cost:462.1505432128906\n",
      "14000번째 cost:462.130859375\n",
      "15000번째 cost:462.1167297363281\n",
      "16000번째 cost:462.105224609375\n",
      "17000번째 cost:462.0950927734375\n",
      "18000번째 cost:462.0855712890625\n",
      "19000번째 cost:462.0763854980469\n",
      "20000번째 cost:462.06744384765625\n",
      "최종 cost:462.06744384765625, W:[[ 0.05536107]\n",
      " [-3.5853474 ]\n",
      " [ 0.8610135 ]], b:[-0.30630374]\n"
     ]
    }
   ],
   "source": [
    "X = tf.placeholder(shape=[None, 3], dtype=tf.float32)\n",
    "y = tf.placeholder(shape=[None, 1], dtype=tf.float32)\n",
    "W = tf.Variable(tf.random.normal([3, 1]))\n",
    "b = tf.Variable(tf.random_normal([1]))\n",
    "H = tf.matmul(X, W) + b\n",
    "cost = tf.reduce_mean(tf.square(H-y))\n",
    "train = tf.train.GradientDescentOptimizer(learning_rate=0.00001).minimize(cost)\n",
    "sess = tf.Session()\n",
    "sess.run(tf.global_variables_initializer()) \n",
    "for step in range(1, 20001):\n",
    "    _, cost_val = sess.run([train, cost], feed_dict={X:X_data,\n",
    "                                                    y:y_data})\n",
    "    if step%1000 == 0:\n",
    "        print(\"{}번째 cost:{}\".format(step, cost_val))\n",
    "print(\"최종 cost:{}, W:{}, b:{}\".format(cost_val,\n",
    "                                     sess.run(W),\n",
    "                                     sess.run(b)))\n"
   ]
  },
  {
   "cell_type": "code",
   "execution_count": null,
   "id": "a71ca4e0",
   "metadata": {},
   "outputs": [
    {
     "data": {
      "text/plain": [
       "array([[41.368633]], dtype=float32)"
      ]
     },
     "execution_count": 40,
     "metadata": {},
     "output_type": "execute_result"
    }
   ],
   "source": [
    "# 예측하기\n",
    "input_data = np.array([[190, 7.4, 67]])\n",
    "sess.run(H, feed_dict={X:input_data})"
   ]
  },
  {
   "cell_type": "markdown",
   "id": "a773dea1",
   "metadata": {},
   "source": [
    "### 스케일 조정\n",
    "- MinMaxScaler, StandardScaler"
   ]
  },
  {
   "cell_type": "code",
   "execution_count": 44,
   "id": "7d5e7279",
   "metadata": {},
   "outputs": [],
   "source": [
    "from sklearn.preprocessing import MinMaxScaler\n",
    "x_scaler = MinMaxScaler()\n",
    "y_scaler = MinMaxScaler()\n",
    "scaled_X_data = x_scaler.fit_transform(X_data)\n",
    "scaled_y_data = y_scaler.fit_transform(y_data)"
   ]
  },
  {
   "cell_type": "code",
   "execution_count": 45,
   "id": "03e62ee5",
   "metadata": {},
   "outputs": [
    {
     "data": {
      "text/plain": [
       "array([[0.55963303, 0.3       , 0.26829268, 0.23952096],\n",
       "       [0.33944954, 0.33157895, 0.3902439 , 0.20958084],\n",
       "       [0.43425076, 0.57368421, 0.43902439, 0.06586826],\n",
       "       [0.93577982, 0.51578947, 0.14634146, 0.10179641],\n",
       "       [0.5330162 , 0.66315789, 0.        , 0.13542146],\n",
       "       [0.5330162 , 0.69473684, 0.24390244, 0.16167665],\n",
       "       [0.89296636, 0.36315789, 0.2195122 , 0.13173653],\n",
       "       [0.28134557, 0.63684211, 0.07317073, 0.10778443],\n",
       "       [0.03669725, 0.96842105, 0.12195122, 0.04191617],\n",
       "       [0.57186544, 0.36315789, 0.31707317, 0.13542146],\n",
       "       [0.5330162 , 0.27368421, 0.43902439, 0.03592814],\n",
       "       [0.76146789, 0.42105263, 0.31707317, 0.08982036],\n",
       "       [0.86544343, 0.39473684, 0.24390244, 0.05988024],\n",
       "       [0.81651376, 0.48421053, 0.29268293, 0.07784431],\n",
       "       [0.17737003, 0.60526316, 0.04878049, 0.10179641],\n",
       "       [1.        , 0.51578947, 0.19512195, 0.07784431],\n",
       "       [0.91743119, 0.54210526, 0.24390244, 0.19760479],\n",
       "       [0.21712538, 0.87894737, 0.02439024, 0.02994012],\n",
       "       [0.96330275, 0.51578947, 0.29268293, 0.17365269],\n",
       "       [0.11314985, 0.42105263, 0.14634146, 0.05988024],\n",
       "       [0.0030581 , 0.42105263, 0.07317073, 0.        ],\n",
       "       [0.95718654, 0.78421053, 0.41463415, 0.05988024],\n",
       "       [0.05504587, 0.42105263, 0.12195122, 0.01796407],\n",
       "       [0.25993884, 0.54210526, 0.12195122, 0.18562874],\n",
       "       [0.18042813, 0.78421053, 0.02439024, 0.13542146],\n",
       "       [0.79204893, 0.69473684, 0.04878049, 0.13542146],\n",
       "       [0.5330162 , 0.33157895, 0.02439024, 0.13542146],\n",
       "       [0.01834862, 0.54210526, 0.26829268, 0.13173653],\n",
       "       [0.74923547, 0.69473684, 0.6097561 , 0.26347305],\n",
       "       [0.66055046, 0.21052632, 0.56097561, 0.68263473],\n",
       "       [0.83180428, 0.3       , 0.48780488, 0.21556886],\n",
       "       [0.85321101, 0.36315789, 0.53658537, 0.17032601],\n",
       "       [0.85626911, 0.42105263, 0.43902439, 0.17032601],\n",
       "       [0.71865443, 0.75789474, 0.26829268, 0.17032601],\n",
       "       [0.54740061, 0.39473684, 0.68292683, 0.17032601],\n",
       "       [0.65137615, 0.36315789, 0.70731707, 0.17032601],\n",
       "       [0.78593272, 0.66315789, 0.56097561, 0.17032601],\n",
       "       [0.36697248, 0.42105263, 0.63414634, 0.16766467],\n",
       "       [0.81345566, 0.27368421, 0.75609756, 0.17032601],\n",
       "       [0.86850153, 0.63684211, 0.82926829, 0.41916168],\n",
       "       [0.96636086, 0.51578947, 0.75609756, 0.22754491],\n",
       "       [0.7706422 , 0.48421053, 0.90243902, 0.17032601],\n",
       "       [0.74311927, 0.39473684, 0.87804878, 0.17032601],\n",
       "       [0.43119266, 0.33157895, 0.63414634, 0.13173653],\n",
       "       [0.99388379, 0.63684211, 0.58536585, 0.17032601],\n",
       "       [0.96330275, 0.51578947, 0.56097561, 0.17032601],\n",
       "       [0.56269113, 0.69473684, 0.51219512, 0.11976048],\n",
       "       [0.8470948 , 1.        , 0.3902439 , 0.21556886],\n",
       "       [0.09174312, 0.39473684, 0.2195122 , 0.11377246],\n",
       "       [0.34556575, 0.51578947, 0.41463415, 0.06586826],\n",
       "       [0.39755352, 0.45263158, 0.48780488, 0.07185629],\n",
       "       [0.43730887, 0.24210526, 0.51219512, 0.17032601],\n",
       "       [0.15902141, 0.        , 0.48780488, 0.17032601],\n",
       "       [0.25688073, 0.15263158, 0.48780488, 0.17032601],\n",
       "       [0.74311927, 0.24210526, 0.48780488, 0.17032601],\n",
       "       [0.39143731, 0.33157895, 0.46341463, 0.17032601],\n",
       "       [0.36697248, 0.33157895, 0.53658537, 0.17032601],\n",
       "       [0.12232416, 0.45263158, 0.41463415, 0.17032601],\n",
       "       [0.27828746, 0.51578947, 0.58536585, 0.17032601],\n",
       "       [0.0733945 , 0.69473684, 0.51219512, 0.17032601],\n",
       "       [0.40061162, 0.33157895, 0.65853659, 0.17032601],\n",
       "       [0.80122324, 0.12631579, 0.68292683, 0.80239521],\n",
       "       [0.73700306, 0.39473684, 0.70731707, 0.28742515],\n",
       "       [0.70030581, 0.39473684, 0.6097561 , 0.18562874],\n",
       "       [0.28746177, 0.48421053, 0.68292683, 0.34799632],\n",
       "       [0.51376147, 0.15263158, 0.65853659, 0.37724551],\n",
       "       [0.93883792, 0.48421053, 0.65853659, 0.23353293],\n",
       "       [0.82262997, 0.17894737, 0.7804878 , 0.45508982],\n",
       "       [0.79510703, 0.24210526, 0.87804878, 0.5748503 ],\n",
       "       [0.81039755, 0.21052632, 0.87804878, 0.5748503 ],\n",
       "       [0.51376147, 0.3       , 0.80487805, 0.50299401],\n",
       "       [0.40366972, 0.36315789, 0.63414634, 0.34799632],\n",
       "       [0.78593272, 0.66315789, 0.41463415, 0.05389222],\n",
       "       [0.51376147, 0.69473684, 0.6097561 , 0.15568862],\n",
       "       [0.86850153, 0.69473684, 0.85365854, 0.34799632],\n",
       "       [0.12538226, 0.66315789, 0.58536585, 0.03592814],\n",
       "       [0.77370031, 0.27368421, 0.6097561 , 0.28143713],\n",
       "       [0.81651376, 0.45263158, 0.63414634, 0.20359281],\n",
       "       [0.85015291, 0.24210526, 0.68292683, 0.35928144],\n",
       "       [0.55045872, 0.17894737, 0.75609756, 0.46706587],\n",
       "       [0.65137615, 0.51578947, 0.70731707, 0.37125749],\n",
       "       [0.        , 0.27368421, 0.43902439, 0.08982036],\n",
       "       [0.7675841 , 0.42105263, 0.6097561 , 0.34799632],\n",
       "       [0.88073394, 0.51578947, 0.63414634, 0.34799632],\n",
       "       [0.87767584, 0.36315789, 0.73170732, 0.47305389],\n",
       "       [0.66055046, 0.33157895, 0.70731707, 0.64071856],\n",
       "       [0.22629969, 0.36315789, 0.63414634, 0.11377246],\n",
       "       [0.2293578 , 0.54210526, 0.73170732, 0.30538922],\n",
       "       [0.62996942, 0.3       , 0.7804878 , 0.48502994],\n",
       "       [0.81957187, 0.3       , 0.73170732, 0.29341317],\n",
       "       [0.75229358, 0.3       , 0.65853659, 0.37724551],\n",
       "       [0.75535168, 0.39473684, 0.6097561 , 0.34730539],\n",
       "       [0.2324159 , 0.27368421, 0.6097561 , 0.22754491],\n",
       "       [0.05198777, 0.63684211, 0.6097561 , 0.04790419],\n",
       "       [0.21406728, 0.3       , 0.63414634, 0.08982036],\n",
       "       [0.50415028, 0.27368421, 0.73170732, 0.46107784],\n",
       "       [0.50415028, 0.3       , 0.70731707, 0.20359281],\n",
       "       [0.50415028, 0.15263158, 0.75609756, 0.38922156],\n",
       "       [0.75840979, 0.12105263, 0.80487805, 0.7245509 ],\n",
       "       [0.67889908, 0.45263158, 0.82926829, 0.52694611],\n",
       "       [0.6116208 , 0.33157895, 0.82926829, 0.65269461],\n",
       "       [0.65749235, 0.36315789, 0.87804878, 0.3530631 ],\n",
       "       [0.39755352, 0.51578947, 0.73170732, 0.3530631 ],\n",
       "       [0.56574924, 0.51578947, 0.73170732, 0.25748503],\n",
       "       [0.81345566, 0.51578947, 0.63414634, 0.16167665],\n",
       "       [0.4587156 , 0.42105263, 0.58536585, 0.38323353],\n",
       "       [0.17431193, 0.51578947, 0.56097561, 0.3530631 ],\n",
       "       [0.19571865, 0.45263158, 0.51219512, 0.1257485 ],\n",
       "       [0.13455657, 0.24210526, 0.56097561, 0.34730539],\n",
       "       [0.33027523, 0.3       , 0.48780488, 0.13173653],\n",
       "       [0.72477064, 0.48421053, 0.53658537, 0.17964072],\n",
       "       [0.55963303, 0.45263158, 0.53658537, 0.25748503],\n",
       "       [0.7706422 , 0.72631579, 0.51219512, 0.11976048],\n",
       "       [0.08868502, 0.66315789, 0.3902439 , 0.04790419],\n",
       "       [0.75840979, 0.57368421, 0.46341463, 0.3530631 ],\n",
       "       [0.62691131, 0.42105263, 0.56097561, 0.26347305],\n",
       "       [0.70642202, 0.08947368, 0.6097561 , 1.        ],\n",
       "       [0.63608563, 0.33157895, 0.73170732, 0.43113772],\n",
       "       [0.44648318, 0.21052632, 0.7804878 , 0.3530631 ],\n",
       "       [0.59938838, 0.42105263, 1.        , 0.4491018 ],\n",
       "       [0.66666667, 0.03157895, 0.92682927, 0.7005988 ],\n",
       "       [0.70336391, 0.24210526, 0.97560976, 0.49700599],\n",
       "       [0.55351682, 0.24210526, 0.92682927, 0.50299401],\n",
       "       [0.48929664, 0.27368421, 0.85365854, 0.56886228],\n",
       "       [0.58103976, 0.17894737, 0.87804878, 0.46107784],\n",
       "       [0.5382263 , 0.05789474, 0.90243902, 0.43113772],\n",
       "       [0.55657492, 0.15263158, 0.90243902, 0.53892216],\n",
       "       [0.26911315, 0.3       , 0.75609756, 0.2754491 ],\n",
       "       [0.25993884, 0.72631579, 0.68292683, 0.18562874],\n",
       "       [0.74923547, 0.48421053, 0.58536585, 0.11377246],\n",
       "       [0.65137615, 0.45263158, 0.53658537, 0.13173653],\n",
       "       [0.68195719, 0.48421053, 0.46341463, 0.11976048],\n",
       "       [0.7706422 , 0.42105263, 0.41463415, 0.13772455],\n",
       "       [0.70030581, 0.69473684, 0.6097561 , 0.25748503],\n",
       "       [0.7706422 , 0.72631579, 0.48780488, 0.11976048],\n",
       "       [0.70642202, 0.24210526, 0.51219512, 0.16167665],\n",
       "       [0.05198777, 0.48421053, 0.36585366, 0.04790419],\n",
       "       [0.32110092, 0.51578947, 0.36585366, 0.07185629],\n",
       "       [0.70336391, 0.27368421, 0.53658537, 0.26946108],\n",
       "       [0.66360856, 0.63684211, 0.26829268, 0.10179641],\n",
       "       [0.06116208, 0.45263158, 0.48780488, 0.07185629],\n",
       "       [0.70642202, 0.45263158, 0.29268293, 0.13772455],\n",
       "       [0.59327217, 0.33157895, 0.63414634, 0.08982036],\n",
       "       [0.70642202, 0.57368421, 0.19512195, 0.07185629],\n",
       "       [0.02140673, 0.39473684, 0.36585366, 0.13173653],\n",
       "       [0.40366972, 0.45263158, 0.6097561 , 0.20958084],\n",
       "       [0.12844037, 0.45263158, 0.31707317, 0.03592814],\n",
       "       [0.03975535, 0.78421053, 0.17073171, 0.07784431],\n",
       "       [0.56880734, 0.27368421, 0.34146341, 0.17365269],\n",
       "       [0.42201835, 0.60526316, 0.51219512, 0.18232501],\n",
       "       [0.56269113, 0.66315789, 0.46341463, 0.07784431],\n",
       "       [0.37920489, 0.33157895, 0.48780488, 0.10179641],\n",
       "       [0.66055046, 0.51578947, 0.29268293, 0.11377246]])"
      ]
     },
     "execution_count": 45,
     "metadata": {},
     "output_type": "execute_result"
    }
   ],
   "source": [
    "np.column_stack([scaled_X_data,scaled_y_data])"
   ]
  },
  {
   "cell_type": "code",
   "execution_count": 61,
   "id": "324374fe",
   "metadata": {},
   "outputs": [
    {
     "name": "stdout",
     "output_type": "stream",
     "text": [
      "10000번째 cost:0.05113378167152405\n",
      "20000번째 cost:0.022558780387043953\n",
      "30000번째 cost:0.0178383719176054\n",
      "40000번째 cost:0.016611682251095772\n",
      "50000번째 cost:0.01611565798521042\n",
      "60000번째 cost:0.01586802490055561\n",
      "70000번째 cost:0.015736201778054237\n",
      "80000번째 cost:0.01566486246883869\n",
      "90000번째 cost:0.01562609151005745\n",
      "100000번째 cost:0.015605013817548752\n",
      "최종 cost:0.015605013817548752, W:[[ 0.10035958]\n",
      " [-0.25217062]\n",
      " [ 0.38131407]], b:[0.08958085]\n"
     ]
    }
   ],
   "source": [
    "X = tf.placeholder(shape=[None, 3], dtype=tf.float32)\n",
    "y = tf.placeholder(shape=[None, 1], dtype=tf.float32)\n",
    "W = tf.Variable(tf.random.normal([3, 1]))\n",
    "b = tf.Variable(tf.random_normal([1]))\n",
    "H = tf.matmul(X, W) + b\n",
    "cost = tf.reduce_mean(tf.square(H-y))\n",
    "train = tf.train.GradientDescentOptimizer(learning_rate=0.001).minimize(cost)\n",
    "sess = tf.Session()\n",
    "sess.run(tf.global_variables_initializer()) \n",
    "for step in range(1, 100001):\n",
    "    _, cost_val = sess.run([train, cost], feed_dict={X:scaled_X_data,\n",
    "                                                    y:scaled_y_data})\n",
    "    if step%10000 == 0:\n",
    "        print(\"{}번째 cost:{}\".format(step, cost_val))\n",
    "print(\"최종 cost:{}, W:{}, b:{}\".format(cost_val,\n",
    "                                     sess.run(W),\n",
    "                                     sess.run(b)))"
   ]
  },
  {
   "cell_type": "code",
   "execution_count": null,
   "id": "e194c990",
   "metadata": {},
   "outputs": [
    {
     "data": {
      "text/plain": [
       "array([[15.960002]], dtype=float32)"
      ]
     },
     "execution_count": 70,
     "metadata": {},
     "output_type": "execute_result"
    }
   ],
   "source": [
    "# 예측하기\n",
    "input_data = np.array([[0 , 0.  , 0. ]])\n",
    "scaled_y_hat = sess.run(H, feed_dict={X:x_scaler.fit_transform(input_data)})\n",
    "y_scaler.inverse_transform(scaled_y_hat)"
   ]
  },
  {
   "cell_type": "markdown",
   "id": "02726736",
   "metadata": {},
   "source": [
    "# 3. 이진분류 = Logistic Regression (분류분석)\n",
    "- logistic 회귀분석 : 기본의 회귀분석과 다른 처리 필요"
   ]
  },
  {
   "cell_type": "code",
   "execution_count": 80,
   "id": "f3061530",
   "metadata": {},
   "outputs": [
    {
     "data": {
      "text/plain": [
       "<matplotlib.collections.PathCollection at 0x1b4e19da5c0>"
      ]
     },
     "execution_count": 80,
     "metadata": {},
     "output_type": "execute_result"
    },
    {
     "data": {
      "image/png": "[encoded data removed]",
      "text/plain": [
       "<Figure size 640x480 with 1 Axes>"
      ]
     },
     "metadata": {},
     "output_type": "display_data"
    }
   ],
   "source": [
    "x = np.array([1,2,5,8,10,40])\n",
    "y = np.array([0,0,0,1,1,1]) # 실제값\n",
    "from scipy import stats\n",
    "lm = stats.linregress(x,y) # 기울기(W)와 y절편(b)\n",
    "H = lm[0]*x + lm[1]\n",
    "import matplotlib.pyplot as plt\n",
    "plt.plot(x,H,'r')\n",
    "plt.scatter(x,y)"
   ]
  },
  {
   "cell_type": "code",
   "execution_count": null,
   "id": "40ae79c4",
   "metadata": {},
   "outputs": [
    {
     "name": "stdout",
     "output_type": "stream",
     "text": [
      "800번째 cost:0.21414317190647125\n",
      "1600번째 cost:0.16730518639087677\n",
      "2400번째 cost:0.14088109135627747\n",
      "3200번째 cost:0.12197598069906235\n",
      "4000번째 cost:0.10740786790847778\n",
      "4800번째 cost:0.09577847272157669\n",
      "5600번째 cost:0.08628468960523605\n",
      "6400번째 cost:0.07840246707201004\n",
      "7200번째 cost:0.07176700979471207\n",
      "8000번째 cost:0.06611422449350357\n"
     ]
    }
   ],
   "source": [
    "X_data = np.array([[10,0],\n",
    "                   [8,1],\n",
    "                   [3,3],\n",
    "                   [2,3],\n",
    "                   [5,1],\n",
    "                   [2,0],\n",
    "                   [1,0]])\n",
    "y_data = np.array([[1],[1],[1],[1],[0],[0],[0],])\n",
    "# tensorflow 구현(tensor 그래프)\n",
    "X = tf.placeholder(shape=[None, 2], dtype=tf.float32)\n",
    "y = tf.placeholder(shape=[None, 1], dtype=tf.float32)\n",
    "# 독립변수가 2개, 종속변수가 1개의 weight, bias\n",
    "W = tf.Variable(tf.random.normal([2, 1]))\n",
    "b = tf.Variable(tf.random.normal([1]))\n",
    "# Hypothesis\n",
    "logits = tf.matmul(X, W) + b\n",
    "H      = tf.sigmoid(logits)\n",
    "#cost 함수\n",
    "# cost = tf.reduce_mean(tf.square(H-y))\n",
    "cost = tf.reduce_mean(tf.nn.sigmoid_cross_entropy_with_logits(logits=logits,\n",
    "                                                             labels=y))\n",
    "#train\n",
    "train = tf.train.GradientDescentOptimizer(learning_rate=0.1).minimize(cost)\n",
    "# sess객체 생성\n",
    "sess = tf.Session()\n",
    "sess.run(tf.global_variables_initializer())\n",
    "# 학습\n",
    "for step in range(1, 8001):\n",
    "    _, cost_val = sess.run([train, cost], feed_dict={X:X_data,\n",
    "                                                    y:y_data})\n",
    "    if step%800==0:\n",
    "        print(\"{}번째 cost:{}\".format(step, cost_val))"
   ]
  },
  {
   "cell_type": "code",
   "execution_count": 100,
   "id": "c446f8a1",
   "metadata": {},
   "outputs": [
    {
     "data": {
      "text/plain": [
       "array([[1.]], dtype=float32)"
      ]
     },
     "execution_count": 100,
     "metadata": {},
     "output_type": "execute_result"
    }
   ],
   "source": [
    "input_data = np.array([[5,2]])\n",
    "predict = tf.cast(H>=0.5, dtype=tf.float32)\n",
    "sess.run(predict, feed_dict={X:input_data})\n"
   ]
  },
  {
   "cell_type": "code",
   "execution_count": 102,
   "id": "5390a16c",
   "metadata": {},
   "outputs": [
    {
     "name": "stdout",
     "output_type": "stream",
     "text": [
      "모델 정확도 : 1.0\n"
     ]
    }
   ],
   "source": [
    "# accuracy\n",
    "correct = tf.equal(predict, y)\n",
    "sess.run(correct, feed_dict={X:X_data, y:y_data})\n",
    "accuracy = tf.reduce_mean(tf.cast(correct, dtype=tf.float32))\n",
    "print('모델 정확도 :', sess.run(accuracy, feed_dict={X:X_data, y:y_data}))"
   ]
  },
  {
   "cell_type": "markdown",
   "id": "6c5ecd5b",
   "metadata": {},
   "source": [
    "# 4. XOR"
   ]
  },
  {
   "cell_type": "code",
   "execution_count": 160,
   "id": "1caed974",
   "metadata": {},
   "outputs": [
    {
     "name": "stdout",
     "output_type": "stream",
     "text": [
      "1000번째 cost:0.7278733253479004\n",
      "2000번째 cost:0.7044442892074585\n",
      "3000번째 cost:0.6969394683837891\n",
      "4000번째 cost:0.6944760680198669\n",
      "5000번째 cost:0.693637490272522\n",
      "6000번째 cost:0.6933375597000122\n",
      "7000번째 cost:0.6932245492935181\n",
      "8000번째 cost:0.693179726600647\n",
      "9000번째 cost:0.6931612491607666\n",
      "10000번째 cost:0.6931533813476562\n"
     ]
    }
   ],
   "source": [
    "X_data = np.array([[0, 0],\n",
    "                   [0, 1],\n",
    "                   [1, 0],\n",
    "                   [1, 1]])\n",
    "y_data = np.array([[0],[1],[1],[0]])\n",
    "\n",
    "X = tf.placeholder(shape=[None, 2], dtype=tf.float32)\n",
    "y = tf.placeholder(shape=[None, 1], dtype=tf.float32)\n",
    "\n",
    "W = tf.Variable(tf.random.normal([2, 1]))\n",
    "b = tf.Variable(tf.random.normal([1]))\n",
    "\n",
    "logits = tf.matmul(X, W) + b\n",
    "H = tf.sigmoid(logits)\n",
    "\n",
    "cost = tf.reduce_mean(tf.nn.sigmoid_cross_entropy_with_logits(logits=logits,\n",
    "                                                              labels=y))\n",
    "train = tf.train.GradientDescentOptimizer(learning_rate=0.01).minimize(cost)\n",
    "\n",
    "sess = tf.Session()\n",
    "sess.run(tf.global_variables_initializer())\n",
    "\n",
    "for step in range(1, 10001):\n",
    "    _, cost_val = sess.run([train, cost], feed_dict={X:X_data, y:y_data})\n",
    "    if not step%1000:\n",
    "        print('{}번째 cost:{}'.format(step,cost_val))"
   ]
  },
  {
   "cell_type": "code",
   "execution_count": 163,
   "id": "52561bff",
   "metadata": {},
   "outputs": [
    {
     "name": "stdout",
     "output_type": "stream",
     "text": [
      "모델 정확도 : 0.5\n"
     ]
    }
   ],
   "source": [
    "# accuracy\n",
    "predict = tf.cast(H<=0.5, dtype=tf.float32)\n",
    "correct = tf.equal(predict, y)\n",
    "sess.run(correct, feed_dict={X:X_data, y:y_data})\n",
    "accuracy = tf.reduce_mean(tf.cast(correct, dtype=tf.float32))\n",
    "print('모델 정확도 :', sess.run(accuracy, feed_dict={X:X_data, y:y_data}))"
   ]
  },
  {
   "cell_type": "markdown",
   "id": "a315b3bd",
   "metadata": {},
   "source": [
    "# 5.Deep Learning XOR 예제"
   ]
  },
  {
   "cell_type": "code",
   "execution_count": 171,
   "id": "553d579a",
   "metadata": {},
   "outputs": [
    {
     "name": "stdout",
     "output_type": "stream",
     "text": [
      "1000번째 cost:0.19340091943740845\n",
      "2000번째 cost:0.09193477779626846\n",
      "3000번째 cost:0.05247368663549423\n",
      "4000번째 cost:0.034484997391700745\n",
      "5000번째 cost:0.02514813467860222\n",
      "6000번째 cost:0.019428277388215065\n",
      "7000번째 cost:0.01563146710395813\n",
      "8000번째 cost:0.012968022376298904\n",
      "9000번째 cost:0.011009352281689644\n",
      "10000번째 cost:0.009519815444946289\n"
     ]
    }
   ],
   "source": [
    "X_data = np.array([[0, 0],\n",
    "                   [0, 1],\n",
    "                   [1, 0],\n",
    "                   [1, 1]])\n",
    "y_data = np.array([[0],[1],[1],[0]])\n",
    "\n",
    "X = tf.placeholder(shape=[None, 2], dtype=tf.float32)\n",
    "y = tf.placeholder(shape=[None, 1], dtype=tf.float32)\n",
    "# layer1 : (입력2, 출력4)\n",
    "W1 = tf.Variable(tf.random.normal([2, 4]))\n",
    "b1= tf.Variable(tf.random.normal([4]))\n",
    "layer1 = tf.nn.relu(tf.matmul(X,W1) + b1)\n",
    "\n",
    "# layer2 : (입력4, 출력1)\n",
    "W2 = tf.Variable(tf.random.normal([4, 1]))\n",
    "b2= tf.Variable(tf.random.normal([1]))\n",
    "logits = tf.matmul(layer1, W2) + b2\n",
    "H = tf.sigmoid(logits)\n",
    "\n",
    "cost = tf.reduce_mean(tf.nn.sigmoid_cross_entropy_with_logits(logits=logits,\n",
    "                                                              labels=y))\n",
    "train = tf.train.GradientDescentOptimizer(learning_rate=0.01).minimize(cost)\n",
    "\n",
    "sess = tf.Session()\n",
    "sess.run(tf.global_variables_initializer())\n",
    "\n",
    "for step in range(1, 10001):\n",
    "    _, cost_val = sess.run([train, cost], feed_dict={X:X_data, y:y_data})\n",
    "    if not step%1000:\n",
    "        print('{}번째 cost:{}'.format(step,cost_val))\n",
    "\n"
   ]
  },
  {
   "cell_type": "code",
   "execution_count": 172,
   "id": "16743f11",
   "metadata": {},
   "outputs": [
    {
     "name": "stdout",
     "output_type": "stream",
     "text": [
      "모델 정확도 : 1.0\n"
     ]
    }
   ],
   "source": [
    "predict = tf.cast(H>=0.5, dtype=tf.float32)\n",
    "correct = tf.equal(predict, y)\n",
    "sess.run(H, feed_dict={X:X_data, y:y_data})\n",
    "accuracy = tf.reduce_mean(tf.cast(correct, dtype=tf.float32))\n",
    "print('모델 정확도 :', sess.run(accuracy, feed_dict={X:X_data, y:y_data}))"
   ]
  },
  {
   "cell_type": "markdown",
   "id": "75ec8213",
   "metadata": {},
   "source": [
    "## layer층 x_data 2개 -> 4 -> 1을\n",
    "## layer층 x_data 2개 -> 10 -> 20 -> 10 -> 1\n",
    "        입력층 hidden layer(relu) 출력층(sigmoid)"
   ]
  },
  {
   "cell_type": "code",
   "execution_count": 175,
   "id": "5c6e1057",
   "metadata": {},
   "outputs": [
    {
     "name": "stdout",
     "output_type": "stream",
     "text": [
      "1000번째 cost:0.0016363824252039194\n",
      "2000번째 cost:0.0007929515559226274\n",
      "3000번째 cost:0.0005419917870312929\n",
      "4000번째 cost:0.0004088893183507025\n",
      "5000번째 cost:0.000326389679685235\n",
      "6000번째 cost:0.0002703905338421464\n",
      "7000번째 cost:0.0002300707419635728\n",
      "8000번째 cost:0.00019972285372205079\n",
      "9000번째 cost:0.00017608371854294091\n",
      "10000번째 cost:0.00015720220108050853\n"
     ]
    }
   ],
   "source": [
    "X_data = np.array([[0, 0],\n",
    "                   [0, 1],\n",
    "                   [1, 0],\n",
    "                   [1, 1]])\n",
    "y_data = np.array([[0],[1],[1],[0]])\n",
    "\n",
    "X = tf.placeholder(shape=[None, 2], dtype=tf.float32)\n",
    "y = tf.placeholder(shape=[None, 1], dtype=tf.float32)\n",
    "# layer1 : (입력2, 출력10)\n",
    "W1 = tf.Variable(tf.random.normal([2, 10]))\n",
    "b1= tf.Variable(tf.random.normal([10]))\n",
    "layer1 = tf.nn.relu(tf.matmul(X,W1) + b1)\n",
    "\n",
    "# layer2 : (입력10, 출력20)\n",
    "W2 = tf.Variable(tf.random.normal([10, 20]))\n",
    "b2= tf.Variable(tf.random.normal([20]))\n",
    "layer2 = tf.nn.relu(tf.matmul(layer1,W2) + b2)\n",
    "\n",
    "# layer3 : (입력20, 출력10)\n",
    "W3 = tf.Variable(tf.random.normal([20, 10]))\n",
    "b3= tf.Variable(tf.random.normal([10]))\n",
    "layer3 = tf.nn.relu(tf.matmul(layer2,W3) + b3)\n",
    "\n",
    "# logits : (입력10, 출력1)\n",
    "W4 = tf.Variable(tf.random.normal([10, 1]))\n",
    "b4= tf.Variable(tf.random.normal([1]))\n",
    "logits = tf.matmul(layer3, W4) + b4\n",
    "H = tf.sigmoid(logits)\n",
    "\n",
    "cost = tf.reduce_mean(tf.nn.sigmoid_cross_entropy_with_logits(logits=logits,\n",
    "                                                              labels=y))\n",
    "train = tf.train.GradientDescentOptimizer(learning_rate=0.01).minimize(cost)\n",
    "\n",
    "sess = tf.Session()\n",
    "sess.run(tf.global_variables_initializer())\n",
    "\n",
    "for step in range(1, 10001):\n",
    "    _, cost_val = sess.run([train, cost], feed_dict={X:X_data, y:y_data})\n",
    "    if not step%1000:\n",
    "        print('{}번째 cost:{}'.format(step,cost_val))"
   ]
  },
  {
   "cell_type": "code",
   "execution_count": 176,
   "id": "950e9b0f",
   "metadata": {},
   "outputs": [
    {
     "name": "stdout",
     "output_type": "stream",
     "text": [
      "모델 정확도 : 1.0\n"
     ]
    }
   ],
   "source": [
    "predict = tf.cast(H>=0.5, dtype=tf.float32)\n",
    "correct = tf.equal(predict, y)\n",
    "sess.run(H, feed_dict={X:X_data, y:y_data})\n",
    "accuracy = tf.reduce_mean(tf.cast(correct, dtype=tf.float32))\n",
    "print('모델 정확도 :', sess.run(accuracy, feed_dict={X:X_data, y:y_data}))"
   ]
  },
  {
   "cell_type": "code",
   "execution_count": null,
   "id": "a65ed850",
   "metadata": {},
   "outputs": [],
   "source": []
  }
 ],
 "metadata": {
  "kernelspec": {
   "display_name": "ml-dl-nlp",
   "language": "python",
   "name": "python3"
  },
  "language_info": {
   "codemirror_mode": {
    "name": "ipython",
    "version": 3
   },
   "file_extension": ".py",
   "mimetype": "text/x-python",
   "name": "python",
   "nbconvert_exporter": "python",
   "pygments_lexer": "ipython3",
   "version": "3.10.18"
  }
 },
 "nbformat": 4,
 "nbformat_minor": 5
}
