{
 "cells": [
  {
   "cell_type": "code",
   "execution_count": 1,
   "id": "90550518",
   "metadata": {},
   "outputs": [],
   "source": [
    "from tensorflow.keras.models import Sequential\n",
    "from tensorflow.keras.utils import to_categorical\n",
    "from tensorflow.keras.layers import Dense, Input\n",
    "import numpy as np"
   ]
  },
  {
   "cell_type": "markdown",
   "id": "0ac73d78",
   "metadata": {},
   "source": [
    "# 머신러닝/딥러닝 : 데이터의 법칙성을 추출\n",
    "- 다양한 분야에서 응용 : 글씨인식, 문장분류, 질병진단\n",
    "- ※ ML/DL 의 종류\n",
    "    - 지도학습(독립 = 입력변수와 종속=타겟=출력변수가 모두 주어졌을 경우)\n",
    "        - 회귀분석(종속변수가 연속형) vs 분류분석(multi, binary)\n",
    "    - 비지도학습(입력변수만)\n",
    "        - 군집화\n",
    "    - 강화학습(요즘에는 잘 사용하지 않는다)\n",
    "\n",
    "- ※ 지도학습에서의 ML, DL 프로그래밍 방식\n",
    "1. 데이터 셋 확보(input=입력변수, target=종속변수)\n",
    "    \n",
    "    원본 데이터 및 시뮬레이션을 통해 데이터 생성\n",
    "2. 전처리\n",
    "    \n",
    "    스케일 조정\n",
    "\n",
    "    훈련셋(학습셋), 검증셋, 시험셋(테스트셋)\n",
    "\n",
    "    학습 및 평가 가능한 포맷으로 변환(numpy, DataFrame)\n",
    "3. 모델 구성\n",
    "    \n",
    "    Sequential 객체 생성뒤 필요한 층을 add()함수로 추가\n",
    "4. 모델 학습과정 설정\n",
    "\n",
    "    compile()함수 이용. 손실함수, optimizer, metrics(평가지표)\n",
    "\n",
    "5. 모델 학습시키기 (ft. 학습과정 지켜보기)\n",
    "\n",
    "    fit()함수 이용 - 훈련셋입력=독립변수, 훈련셋타겟=종속변수, 학습횟수, 검증셋\n",
    "\n",
    "6. 모델 평가\n",
    "\n",
    "    시험셋(테스트셋)을 인자로 넣은 evaluate()함수 이용, 그래프\n",
    "\n",
    "7. 모델 사용\n",
    "    \n",
    "    predict() 이용. 입력데이터는 2차원 [[0]]\n",
    "\n",
    "8. 모델 저장\n",
    "    save()함수 이용해서 저장. 저장된 모델은 load_model()함수를 이용해서 불러올 수 있음"
   ]
  },
  {
   "cell_type": "markdown",
   "id": "2089fb1a",
   "metadata": {},
   "source": [
    "# 1. 데이터 셋 생성\n",
    "# 2. 데이터 전처리"
   ]
  },
  {
   "cell_type": "code",
   "execution_count": 6,
   "id": "79ac85a5",
   "metadata": {},
   "outputs": [],
   "source": [
    "# 학습데이터 = 훈련데이터\n",
    "x_train = np.array([1,2,3,4,5,6,7,8,9]*10)\n",
    "y_train = np.array([2,4,6,8,10,12,14,16,18]*10)\n",
    "# 검증데이터\n",
    "x_val = np.array([1,2,3,4,5,6,7,8,9])\n",
    "y_val = np.array([2,4,6,8,10,12,14,16,18])\n",
    "# 테스트셋 = 시험데이터\n",
    "x_test = np.array([1,2,3,4,5,6,7,8,9])\n",
    "y_test = np.array([2,4,6,8,10,12,14,16,18])"
   ]
  },
  {
   "cell_type": "code",
   "execution_count": 11,
   "id": "d491aa7e",
   "metadata": {},
   "outputs": [
    {
     "name": "stdout",
     "output_type": "stream",
     "text": [
      "원 데이터 :  ['a' 'b' 'c' 'd']\n",
      "라벨인코딩된 데이터 :  [0 1 2 3]\n",
      "원핫인코딩된 데이터 :  [[1. 0. 0. 0.]\n",
      " [0. 1. 0. 0.]\n",
      " [0. 0. 1. 0.]\n",
      " [0. 0. 0. 1.]]\n"
     ]
    }
   ],
   "source": [
    "# 인코딩 종류\n",
    "data = np.array(['a','b','c','d'])\n",
    "print('원 데이터 : ',data)\n",
    "from sklearn.preprocessing import  LabelEncoder\n",
    "le = LabelEncoder()\n",
    "# le.fit(data)\n",
    "# labeled_data = le.transform(data)\n",
    "labeled_data = le.fit_transform(data)\n",
    "print('라벨인코딩된 데이터 : ', labeled_data)\n",
    "one_hot_encoded_data = to_categorical(labeled_data)\n",
    "print('원핫인코딩된 데이터 : ', one_hot_encoded_data)"
   ]
  },
  {
   "cell_type": "code",
   "execution_count": 19,
   "id": "9e8d852d",
   "metadata": {},
   "outputs": [
    {
     "name": "stdout",
     "output_type": "stream",
     "text": [
      "[1 2 2 4 2]\n",
      "to_categorical을 이용한 원핫인코딩 :\n",
      "  [[0. 1. 0. 0. 0.]\n",
      " [0. 0. 1. 0. 0.]\n",
      " [0. 0. 1. 0. 0.]\n",
      " [0. 0. 0. 0. 1.]\n",
      " [0. 0. 1. 0. 0.]]\n"
     ]
    },
    {
     "data": {
      "text/plain": [
       "'get_dumies를 이용한 원핫인코딩 :'"
      ]
     },
     "metadata": {},
     "output_type": "display_data"
    },
    {
     "data": {
      "text/html": [
       "<div>\n",
       "<style scoped>\n",
       "    .dataframe tbody tr th:only-of-type {\n",
       "        vertical-align: middle;\n",
       "    }\n",
       "\n",
       "    .dataframe tbody tr th {\n",
       "        vertical-align: top;\n",
       "    }\n",
       "\n",
       "    .dataframe thead th {\n",
       "        text-align: right;\n",
       "    }\n",
       "</style>\n",
       "<table border=\"1\" class=\"dataframe\">\n",
       "  <thead>\n",
       "    <tr style=\"text-align: right;\">\n",
       "      <th></th>\n",
       "      <th>1</th>\n",
       "      <th>2</th>\n",
       "      <th>4</th>\n",
       "    </tr>\n",
       "  </thead>\n",
       "  <tbody>\n",
       "    <tr>\n",
       "      <th>0</th>\n",
       "      <td>1</td>\n",
       "      <td>0</td>\n",
       "      <td>0</td>\n",
       "    </tr>\n",
       "    <tr>\n",
       "      <th>1</th>\n",
       "      <td>0</td>\n",
       "      <td>1</td>\n",
       "      <td>0</td>\n",
       "    </tr>\n",
       "    <tr>\n",
       "      <th>2</th>\n",
       "      <td>0</td>\n",
       "      <td>1</td>\n",
       "      <td>0</td>\n",
       "    </tr>\n",
       "    <tr>\n",
       "      <th>3</th>\n",
       "      <td>0</td>\n",
       "      <td>0</td>\n",
       "      <td>1</td>\n",
       "    </tr>\n",
       "    <tr>\n",
       "      <th>4</th>\n",
       "      <td>0</td>\n",
       "      <td>1</td>\n",
       "      <td>0</td>\n",
       "    </tr>\n",
       "  </tbody>\n",
       "</table>\n",
       "</div>"
      ],
      "text/plain": [
       "   1  2  4\n",
       "0  1  0  0\n",
       "1  0  1  0\n",
       "2  0  1  0\n",
       "3  0  0  1\n",
       "4  0  1  0"
      ]
     },
     "metadata": {},
     "output_type": "display_data"
    }
   ],
   "source": [
    "# 분류 분석을 하기 위해 target을 원핫인코딩(라벨링 전환)\n",
    "data = np.array([1,2,2,4,2])\n",
    "print(data)\n",
    "categorical_noe_hot = to_categorical(data)\n",
    "print('to_categorical을 이용한 원핫인코딩 :\\n ', categorical_noe_hot)\n",
    "import pandas as pd\n",
    "get_dumies_one_hot = pd.get_dummies(data)\n",
    "display('get_dumies를 이용한 원핫인코딩 :',get_dumies_one_hot)"
   ]
  },
  {
   "cell_type": "code",
   "execution_count": 26,
   "id": "273103dc",
   "metadata": {},
   "outputs": [],
   "source": [
    "# 분류분석을 위한 종속변수 라벨링 전환(=원핫인코딩)\n",
    "Y_train = to_categorical(y_train)\n",
    "Y_val = to_categorical(y_val)\n",
    "Y_test = to_categorical(y_test)"
   ]
  },
  {
   "cell_type": "code",
   "execution_count": null,
   "id": "29d80576",
   "metadata": {},
   "outputs": [
    {
     "name": "stdout",
     "output_type": "stream",
     "text": [
      "훈련셋 구조: (90,) (90, 19)\n",
      "검증셋 구조: (9,) (9, 19)\n",
      "테스트셋 구조: (9,) (9, 19)\n"
     ]
    }
   ],
   "source": [
    "print('훈련셋 구조:',x_train.shape, Y_train.shape) # 독립변수 1개\n",
    "print('검증셋 구조:',x_val.shape, Y_val.shape)\n",
    "print('테스트셋 구조:',x_test.shape, Y_test.shape)"
   ]
  },
  {
   "cell_type": "markdown",
   "id": "08d3ab43",
   "metadata": {},
   "source": [
    "# 3. 모델 구성하기"
   ]
  },
  {
   "cell_type": "code",
   "execution_count": 43,
   "id": "69fe9cec",
   "metadata": {},
   "outputs": [
    {
     "name": "stdout",
     "output_type": "stream",
     "text": [
      "Model: \"sequential_1\"\n",
      "_________________________________________________________________\n",
      " Layer (type)                Output Shape              Param #   \n",
      "=================================================================\n",
      " dense_4 (Dense)             (None, 38)                76        \n",
      "                                                                 \n",
      " dense_5 (Dense)             (None, 64)                2496      \n",
      "                                                                 \n",
      " dense_6 (Dense)             (None, 32)                2080      \n",
      "                                                                 \n",
      " dense_7 (Dense)             (None, 19)                627       \n",
      "                                                                 \n",
      "=================================================================\n",
      "Total params: 5,279\n",
      "Trainable params: 5,279\n",
      "Non-trainable params: 0\n",
      "_________________________________________________________________\n"
     ]
    }
   ],
   "source": [
    "model = Sequential()\n",
    "model.add(Input(shape=(1,))) # 입력층\n",
    "model.add(Dense(units=38, activation='sigmoid')) # units 출력수, 활성화함수: relu, tanh 등\n",
    "model.add(Dense(units=64,activation='relu'))\n",
    "model.add(Dense(units=32,activation='relu'))\n",
    "model.add(Dense(units=19, activation='softmax'))\n",
    "model.summary()"
   ]
  },
  {
   "cell_type": "markdown",
   "id": "abb2151b",
   "metadata": {},
   "source": [
    "# 4. 모델 학습과정 설정"
   ]
  },
  {
   "cell_type": "code",
   "execution_count": 44,
   "id": "7a11b58d",
   "metadata": {},
   "outputs": [],
   "source": [
    "model.compile(loss='categorical_crossentropy', # 분류분석에서의 손실함수(원핫인코딩有)\n",
    "              optimizer='sgd',\n",
    "              metrics=['accuracy']) # 평가지표 : accuracy\n"
   ]
  },
  {
   "cell_type": "markdown",
   "id": "e318e2f7",
   "metadata": {},
   "source": [
    "# 5. 모델 학습시키기"
   ]
  },
  {
   "cell_type": "code",
   "execution_count": 45,
   "id": "783e38c8",
   "metadata": {},
   "outputs": [
    {
     "name": "stdout",
     "output_type": "stream",
     "text": [
      "Epoch 1/300\n",
      "9/9 - 1s - loss: 2.9437 - accuracy: 0.0778 - val_loss: 2.8900 - val_accuracy: 0.1111 - 535ms/epoch - 59ms/step\n",
      "Epoch 2/300\n",
      "9/9 - 0s - loss: 2.8604 - accuracy: 0.0889 - val_loss: 2.8171 - val_accuracy: 0.1111 - 44ms/epoch - 5ms/step\n",
      "Epoch 3/300\n",
      "9/9 - 0s - loss: 2.7944 - accuracy: 0.1000 - val_loss: 2.7601 - val_accuracy: 0.1111 - 41ms/epoch - 5ms/step\n",
      "Epoch 4/300\n",
      "9/9 - 0s - loss: 2.7430 - accuracy: 0.1111 - val_loss: 2.7155 - val_accuracy: 0.1111 - 42ms/epoch - 5ms/step\n",
      "Epoch 5/300\n",
      "9/9 - 0s - loss: 2.7033 - accuracy: 0.1111 - val_loss: 2.6774 - val_accuracy: 0.1111 - 42ms/epoch - 5ms/step\n",
      "Epoch 6/300\n",
      "9/9 - 0s - loss: 2.6658 - accuracy: 0.1111 - val_loss: 2.6406 - val_accuracy: 0.1111 - 42ms/epoch - 5ms/step\n",
      "Epoch 7/300\n",
      "9/9 - 0s - loss: 2.6303 - accuracy: 0.1222 - val_loss: 2.6053 - val_accuracy: 0.1111 - 83ms/epoch - 9ms/step\n",
      "Epoch 8/300\n",
      "9/9 - 0s - loss: 2.5956 - accuracy: 0.1222 - val_loss: 2.5711 - val_accuracy: 0.1111 - 59ms/epoch - 7ms/step\n",
      "Epoch 9/300\n",
      "9/9 - 0s - loss: 2.5636 - accuracy: 0.2000 - val_loss: 2.5379 - val_accuracy: 0.1111 - 43ms/epoch - 5ms/step\n",
      "Epoch 10/300\n",
      "9/9 - 0s - loss: 2.5308 - accuracy: 0.1444 - val_loss: 2.5052 - val_accuracy: 0.1111 - 47ms/epoch - 5ms/step\n",
      "Epoch 11/300\n",
      "9/9 - 0s - loss: 2.4968 - accuracy: 0.1667 - val_loss: 2.4735 - val_accuracy: 0.2222 - 51ms/epoch - 6ms/step\n",
      "Epoch 12/300\n",
      "9/9 - 0s - loss: 2.4652 - accuracy: 0.1556 - val_loss: 2.4430 - val_accuracy: 0.2222 - 54ms/epoch - 6ms/step\n",
      "Epoch 13/300\n",
      "9/9 - 0s - loss: 2.4342 - accuracy: 0.1889 - val_loss: 2.4135 - val_accuracy: 0.2222 - 43ms/epoch - 5ms/step\n",
      "Epoch 14/300\n",
      "9/9 - 0s - loss: 2.4069 - accuracy: 0.2222 - val_loss: 2.3851 - val_accuracy: 0.2222 - 47ms/epoch - 5ms/step\n",
      "Epoch 15/300\n",
      "9/9 - 0s - loss: 2.3818 - accuracy: 0.2222 - val_loss: 2.3577 - val_accuracy: 0.2222 - 44ms/epoch - 5ms/step\n",
      "Epoch 16/300\n",
      "9/9 - 0s - loss: 2.3518 - accuracy: 0.2222 - val_loss: 2.3312 - val_accuracy: 0.2222 - 47ms/epoch - 5ms/step\n",
      "Epoch 17/300\n",
      "9/9 - 0s - loss: 2.3307 - accuracy: 0.2222 - val_loss: 2.3070 - val_accuracy: 0.2222 - 41ms/epoch - 5ms/step\n",
      "Epoch 18/300\n",
      "9/9 - 0s - loss: 2.3012 - accuracy: 0.2222 - val_loss: 2.2824 - val_accuracy: 0.2222 - 42ms/epoch - 5ms/step\n",
      "Epoch 19/300\n",
      "9/9 - 0s - loss: 2.2827 - accuracy: 0.1556 - val_loss: 2.2597 - val_accuracy: 0.2222 - 42ms/epoch - 5ms/step\n",
      "Epoch 20/300\n",
      "9/9 - 0s - loss: 2.2611 - accuracy: 0.1667 - val_loss: 2.2379 - val_accuracy: 0.2222 - 43ms/epoch - 5ms/step\n",
      "Epoch 21/300\n",
      "9/9 - 0s - loss: 2.2428 - accuracy: 0.2000 - val_loss: 2.2180 - val_accuracy: 0.2222 - 41ms/epoch - 5ms/step\n",
      "Epoch 22/300\n",
      "9/9 - 0s - loss: 2.2216 - accuracy: 0.1778 - val_loss: 2.1989 - val_accuracy: 0.3333 - 41ms/epoch - 5ms/step\n",
      "Epoch 23/300\n",
      "9/9 - 0s - loss: 2.2016 - accuracy: 0.2111 - val_loss: 2.1807 - val_accuracy: 0.3333 - 57ms/epoch - 6ms/step\n",
      "Epoch 24/300\n",
      "9/9 - 0s - loss: 2.1861 - accuracy: 0.2333 - val_loss: 2.1647 - val_accuracy: 0.3333 - 46ms/epoch - 5ms/step\n",
      "Epoch 25/300\n",
      "9/9 - 0s - loss: 2.1707 - accuracy: 0.2000 - val_loss: 2.1487 - val_accuracy: 0.2222 - 44ms/epoch - 5ms/step\n",
      "Epoch 26/300\n",
      "9/9 - 0s - loss: 2.1563 - accuracy: 0.2111 - val_loss: 2.1345 - val_accuracy: 0.3333 - 43ms/epoch - 5ms/step\n",
      "Epoch 27/300\n",
      "9/9 - 0s - loss: 2.1396 - accuracy: 0.2000 - val_loss: 2.1207 - val_accuracy: 0.2222 - 44ms/epoch - 5ms/step\n",
      "Epoch 28/300\n",
      "9/9 - 0s - loss: 2.1308 - accuracy: 0.2111 - val_loss: 2.1088 - val_accuracy: 0.2222 - 41ms/epoch - 5ms/step\n",
      "Epoch 29/300\n",
      "9/9 - 0s - loss: 2.1167 - accuracy: 0.1889 - val_loss: 2.0958 - val_accuracy: 0.2222 - 43ms/epoch - 5ms/step\n",
      "Epoch 30/300\n",
      "9/9 - 0s - loss: 2.1103 - accuracy: 0.2333 - val_loss: 2.0841 - val_accuracy: 0.2222 - 41ms/epoch - 5ms/step\n",
      "Epoch 31/300\n",
      "9/9 - 0s - loss: 2.0922 - accuracy: 0.2222 - val_loss: 2.0735 - val_accuracy: 0.3333 - 41ms/epoch - 5ms/step\n",
      "Epoch 32/300\n",
      "9/9 - 0s - loss: 2.0814 - accuracy: 0.2333 - val_loss: 2.0617 - val_accuracy: 0.2222 - 41ms/epoch - 5ms/step\n",
      "Epoch 33/300\n",
      "9/9 - 0s - loss: 2.0749 - accuracy: 0.2222 - val_loss: 2.0504 - val_accuracy: 0.3333 - 42ms/epoch - 5ms/step\n",
      "Epoch 34/300\n",
      "9/9 - 0s - loss: 2.0622 - accuracy: 0.2000 - val_loss: 2.0390 - val_accuracy: 0.3333 - 44ms/epoch - 5ms/step\n",
      "Epoch 35/300\n",
      "9/9 - 0s - loss: 2.0540 - accuracy: 0.2222 - val_loss: 2.0283 - val_accuracy: 0.2222 - 41ms/epoch - 5ms/step\n",
      "Epoch 36/300\n",
      "9/9 - 0s - loss: 2.0390 - accuracy: 0.2333 - val_loss: 2.0174 - val_accuracy: 0.2222 - 45ms/epoch - 5ms/step\n",
      "Epoch 37/300\n",
      "9/9 - 0s - loss: 2.0305 - accuracy: 0.2778 - val_loss: 2.0059 - val_accuracy: 0.3333 - 39ms/epoch - 4ms/step\n",
      "Epoch 38/300\n",
      "9/9 - 0s - loss: 2.0233 - accuracy: 0.1889 - val_loss: 1.9952 - val_accuracy: 0.3333 - 42ms/epoch - 5ms/step\n",
      "Epoch 39/300\n",
      "9/9 - 0s - loss: 2.0070 - accuracy: 0.2444 - val_loss: 1.9840 - val_accuracy: 0.3333 - 59ms/epoch - 7ms/step\n",
      "Epoch 40/300\n",
      "9/9 - 0s - loss: 1.9917 - accuracy: 0.2111 - val_loss: 1.9723 - val_accuracy: 0.2222 - 57ms/epoch - 6ms/step\n",
      "Epoch 41/300\n",
      "9/9 - 0s - loss: 1.9787 - accuracy: 0.3111 - val_loss: 1.9606 - val_accuracy: 0.2222 - 53ms/epoch - 6ms/step\n",
      "Epoch 42/300\n",
      "9/9 - 0s - loss: 1.9761 - accuracy: 0.2444 - val_loss: 1.9492 - val_accuracy: 0.3333 - 49ms/epoch - 5ms/step\n",
      "Epoch 43/300\n",
      "9/9 - 0s - loss: 1.9621 - accuracy: 0.2000 - val_loss: 1.9370 - val_accuracy: 0.3333 - 48ms/epoch - 5ms/step\n",
      "Epoch 44/300\n",
      "9/9 - 0s - loss: 1.9492 - accuracy: 0.3111 - val_loss: 1.9259 - val_accuracy: 0.3333 - 40ms/epoch - 4ms/step\n",
      "Epoch 45/300\n",
      "9/9 - 0s - loss: 1.9403 - accuracy: 0.2556 - val_loss: 1.9128 - val_accuracy: 0.3333 - 40ms/epoch - 4ms/step\n",
      "Epoch 46/300\n",
      "9/9 - 0s - loss: 1.9223 - accuracy: 0.2667 - val_loss: 1.9012 - val_accuracy: 0.4444 - 40ms/epoch - 4ms/step\n",
      "Epoch 47/300\n",
      "9/9 - 0s - loss: 1.9161 - accuracy: 0.2333 - val_loss: 1.8901 - val_accuracy: 0.4444 - 43ms/epoch - 5ms/step\n",
      "Epoch 48/300\n",
      "9/9 - 0s - loss: 1.9079 - accuracy: 0.2889 - val_loss: 1.8765 - val_accuracy: 0.3333 - 42ms/epoch - 5ms/step\n",
      "Epoch 49/300\n",
      "9/9 - 0s - loss: 1.8878 - accuracy: 0.2333 - val_loss: 1.8644 - val_accuracy: 0.2222 - 44ms/epoch - 5ms/step\n",
      "Epoch 50/300\n",
      "9/9 - 0s - loss: 1.8750 - accuracy: 0.2667 - val_loss: 1.8506 - val_accuracy: 0.2222 - 45ms/epoch - 5ms/step\n",
      "Epoch 51/300\n",
      "9/9 - 0s - loss: 1.8662 - accuracy: 0.2444 - val_loss: 1.8377 - val_accuracy: 0.3333 - 44ms/epoch - 5ms/step\n",
      "Epoch 52/300\n",
      "9/9 - 0s - loss: 1.8505 - accuracy: 0.2889 - val_loss: 1.8249 - val_accuracy: 0.2222 - 41ms/epoch - 5ms/step\n",
      "Epoch 53/300\n",
      "9/9 - 0s - loss: 1.8313 - accuracy: 0.2333 - val_loss: 1.8110 - val_accuracy: 0.3333 - 42ms/epoch - 5ms/step\n",
      "Epoch 54/300\n",
      "9/9 - 0s - loss: 1.8258 - accuracy: 0.2556 - val_loss: 1.8007 - val_accuracy: 0.2222 - 42ms/epoch - 5ms/step\n",
      "Epoch 55/300\n",
      "9/9 - 0s - loss: 1.8134 - accuracy: 0.2556 - val_loss: 1.7848 - val_accuracy: 0.2222 - 42ms/epoch - 5ms/step\n",
      "Epoch 56/300\n",
      "9/9 - 0s - loss: 1.7971 - accuracy: 0.2778 - val_loss: 1.7726 - val_accuracy: 0.3333 - 42ms/epoch - 5ms/step\n",
      "Epoch 57/300\n",
      "9/9 - 0s - loss: 1.7831 - accuracy: 0.2667 - val_loss: 1.7599 - val_accuracy: 0.3333 - 41ms/epoch - 5ms/step\n",
      "Epoch 58/300\n",
      "9/9 - 0s - loss: 1.7772 - accuracy: 0.3556 - val_loss: 1.7467 - val_accuracy: 0.2222 - 43ms/epoch - 5ms/step\n",
      "Epoch 59/300\n",
      "9/9 - 0s - loss: 1.7529 - accuracy: 0.2667 - val_loss: 1.7341 - val_accuracy: 0.2222 - 41ms/epoch - 5ms/step\n",
      "Epoch 60/300\n",
      "9/9 - 0s - loss: 1.7489 - accuracy: 0.2889 - val_loss: 1.7214 - val_accuracy: 0.2222 - 43ms/epoch - 5ms/step\n",
      "Epoch 61/300\n",
      "9/9 - 0s - loss: 1.7343 - accuracy: 0.3889 - val_loss: 1.7090 - val_accuracy: 0.3333 - 41ms/epoch - 5ms/step\n",
      "Epoch 62/300\n",
      "9/9 - 0s - loss: 1.7243 - accuracy: 0.3889 - val_loss: 1.6961 - val_accuracy: 0.4444 - 43ms/epoch - 5ms/step\n",
      "Epoch 63/300\n",
      "9/9 - 0s - loss: 1.7118 - accuracy: 0.3000 - val_loss: 1.6849 - val_accuracy: 0.3333 - 42ms/epoch - 5ms/step\n",
      "Epoch 64/300\n",
      "9/9 - 0s - loss: 1.6998 - accuracy: 0.2889 - val_loss: 1.6735 - val_accuracy: 0.5556 - 42ms/epoch - 5ms/step\n",
      "Epoch 65/300\n",
      "9/9 - 0s - loss: 1.6918 - accuracy: 0.4000 - val_loss: 1.6604 - val_accuracy: 0.4444 - 44ms/epoch - 5ms/step\n",
      "Epoch 66/300\n",
      "9/9 - 0s - loss: 1.6740 - accuracy: 0.4222 - val_loss: 1.6479 - val_accuracy: 0.3333 - 40ms/epoch - 4ms/step\n",
      "Epoch 67/300\n",
      "9/9 - 0s - loss: 1.6614 - accuracy: 0.4000 - val_loss: 1.6356 - val_accuracy: 0.3333 - 47ms/epoch - 5ms/step\n",
      "Epoch 68/300\n",
      "9/9 - 0s - loss: 1.6516 - accuracy: 0.3667 - val_loss: 1.6245 - val_accuracy: 0.2222 - 43ms/epoch - 5ms/step\n",
      "Epoch 69/300\n",
      "9/9 - 0s - loss: 1.6369 - accuracy: 0.4556 - val_loss: 1.6141 - val_accuracy: 0.3333 - 44ms/epoch - 5ms/step\n",
      "Epoch 70/300\n",
      "9/9 - 0s - loss: 1.6383 - accuracy: 0.3222 - val_loss: 1.6011 - val_accuracy: 0.4444 - 43ms/epoch - 5ms/step\n",
      "Epoch 71/300\n",
      "9/9 - 0s - loss: 1.6132 - accuracy: 0.4333 - val_loss: 1.5900 - val_accuracy: 0.4444 - 45ms/epoch - 5ms/step\n",
      "Epoch 72/300\n",
      "9/9 - 0s - loss: 1.6024 - accuracy: 0.4222 - val_loss: 1.5807 - val_accuracy: 0.4444 - 50ms/epoch - 6ms/step\n",
      "Epoch 73/300\n",
      "9/9 - 0s - loss: 1.6068 - accuracy: 0.3222 - val_loss: 1.5691 - val_accuracy: 0.4444 - 45ms/epoch - 5ms/step\n",
      "Epoch 74/300\n",
      "9/9 - 0s - loss: 1.5815 - accuracy: 0.5000 - val_loss: 1.5593 - val_accuracy: 0.5556 - 41ms/epoch - 5ms/step\n",
      "Epoch 75/300\n",
      "9/9 - 0s - loss: 1.5788 - accuracy: 0.4000 - val_loss: 1.5490 - val_accuracy: 0.5556 - 44ms/epoch - 5ms/step\n",
      "Epoch 76/300\n",
      "9/9 - 0s - loss: 1.5659 - accuracy: 0.4111 - val_loss: 1.5398 - val_accuracy: 0.4444 - 96ms/epoch - 11ms/step\n",
      "Epoch 77/300\n",
      "9/9 - 0s - loss: 1.5530 - accuracy: 0.5333 - val_loss: 1.5269 - val_accuracy: 0.4444 - 45ms/epoch - 5ms/step\n",
      "Epoch 78/300\n",
      "9/9 - 0s - loss: 1.5413 - accuracy: 0.4667 - val_loss: 1.5163 - val_accuracy: 0.4444 - 42ms/epoch - 5ms/step\n",
      "Epoch 79/300\n",
      "9/9 - 0s - loss: 1.5304 - accuracy: 0.4222 - val_loss: 1.5074 - val_accuracy: 0.6667 - 42ms/epoch - 5ms/step\n",
      "Epoch 80/300\n",
      "9/9 - 0s - loss: 1.5278 - accuracy: 0.5222 - val_loss: 1.4958 - val_accuracy: 0.5556 - 46ms/epoch - 5ms/step\n",
      "Epoch 81/300\n",
      "9/9 - 0s - loss: 1.5110 - accuracy: 0.3889 - val_loss: 1.4881 - val_accuracy: 0.5556 - 43ms/epoch - 5ms/step\n",
      "Epoch 82/300\n",
      "9/9 - 0s - loss: 1.5102 - accuracy: 0.4667 - val_loss: 1.4780 - val_accuracy: 0.5556 - 42ms/epoch - 5ms/step\n",
      "Epoch 83/300\n",
      "9/9 - 0s - loss: 1.4912 - accuracy: 0.4889 - val_loss: 1.4680 - val_accuracy: 0.5556 - 43ms/epoch - 5ms/step\n",
      "Epoch 84/300\n",
      "9/9 - 0s - loss: 1.4912 - accuracy: 0.5222 - val_loss: 1.4578 - val_accuracy: 0.6667 - 44ms/epoch - 5ms/step\n",
      "Epoch 85/300\n",
      "9/9 - 0s - loss: 1.4753 - accuracy: 0.5222 - val_loss: 1.4476 - val_accuracy: 0.4444 - 46ms/epoch - 5ms/step\n",
      "Epoch 86/300\n",
      "9/9 - 0s - loss: 1.4662 - accuracy: 0.5778 - val_loss: 1.4381 - val_accuracy: 0.5556 - 42ms/epoch - 5ms/step\n",
      "Epoch 87/300\n",
      "9/9 - 0s - loss: 1.4557 - accuracy: 0.4667 - val_loss: 1.4292 - val_accuracy: 0.4444 - 44ms/epoch - 5ms/step\n",
      "Epoch 88/300\n",
      "9/9 - 0s - loss: 1.4466 - accuracy: 0.5667 - val_loss: 1.4199 - val_accuracy: 0.5556 - 44ms/epoch - 5ms/step\n",
      "Epoch 89/300\n",
      "9/9 - 0s - loss: 1.4377 - accuracy: 0.5667 - val_loss: 1.4109 - val_accuracy: 0.5556 - 45ms/epoch - 5ms/step\n",
      "Epoch 90/300\n",
      "9/9 - 0s - loss: 1.4277 - accuracy: 0.5222 - val_loss: 1.4024 - val_accuracy: 0.5556 - 43ms/epoch - 5ms/step\n",
      "Epoch 91/300\n",
      "9/9 - 0s - loss: 1.4149 - accuracy: 0.5889 - val_loss: 1.3929 - val_accuracy: 0.5556 - 46ms/epoch - 5ms/step\n",
      "Epoch 92/300\n",
      "9/9 - 0s - loss: 1.4146 - accuracy: 0.5778 - val_loss: 1.3857 - val_accuracy: 0.5556 - 43ms/epoch - 5ms/step\n",
      "Epoch 93/300\n",
      "9/9 - 0s - loss: 1.4005 - accuracy: 0.5556 - val_loss: 1.3765 - val_accuracy: 0.6667 - 44ms/epoch - 5ms/step\n",
      "Epoch 94/300\n",
      "9/9 - 0s - loss: 1.4010 - accuracy: 0.5778 - val_loss: 1.3659 - val_accuracy: 0.6667 - 42ms/epoch - 5ms/step\n",
      "Epoch 95/300\n",
      "9/9 - 0s - loss: 1.3792 - accuracy: 0.5667 - val_loss: 1.3601 - val_accuracy: 0.6667 - 43ms/epoch - 5ms/step\n",
      "Epoch 96/300\n",
      "9/9 - 0s - loss: 1.3772 - accuracy: 0.5444 - val_loss: 1.3495 - val_accuracy: 0.6667 - 46ms/epoch - 5ms/step\n",
      "Epoch 97/300\n",
      "9/9 - 0s - loss: 1.3679 - accuracy: 0.5000 - val_loss: 1.3428 - val_accuracy: 0.7778 - 43ms/epoch - 5ms/step\n",
      "Epoch 98/300\n",
      "9/9 - 0s - loss: 1.3629 - accuracy: 0.5444 - val_loss: 1.3351 - val_accuracy: 0.5556 - 45ms/epoch - 5ms/step\n",
      "Epoch 99/300\n",
      "9/9 - 0s - loss: 1.3476 - accuracy: 0.6111 - val_loss: 1.3244 - val_accuracy: 0.7778 - 43ms/epoch - 5ms/step\n",
      "Epoch 100/300\n",
      "9/9 - 0s - loss: 1.3436 - accuracy: 0.6444 - val_loss: 1.3239 - val_accuracy: 0.7778 - 44ms/epoch - 5ms/step\n",
      "Epoch 101/300\n",
      "9/9 - 0s - loss: 1.3360 - accuracy: 0.6000 - val_loss: 1.3104 - val_accuracy: 0.7778 - 43ms/epoch - 5ms/step\n",
      "Epoch 102/300\n",
      "9/9 - 0s - loss: 1.3281 - accuracy: 0.6889 - val_loss: 1.3011 - val_accuracy: 0.7778 - 45ms/epoch - 5ms/step\n",
      "Epoch 103/300\n",
      "9/9 - 0s - loss: 1.3218 - accuracy: 0.6667 - val_loss: 1.2942 - val_accuracy: 0.7778 - 46ms/epoch - 5ms/step\n",
      "Epoch 104/300\n",
      "9/9 - 0s - loss: 1.3181 - accuracy: 0.6444 - val_loss: 1.2872 - val_accuracy: 0.7778 - 44ms/epoch - 5ms/step\n",
      "Epoch 105/300\n",
      "9/9 - 0s - loss: 1.3020 - accuracy: 0.6889 - val_loss: 1.2793 - val_accuracy: 0.7778 - 45ms/epoch - 5ms/step\n",
      "Epoch 106/300\n",
      "9/9 - 0s - loss: 1.2957 - accuracy: 0.5778 - val_loss: 1.2717 - val_accuracy: 0.7778 - 44ms/epoch - 5ms/step\n",
      "Epoch 107/300\n",
      "9/9 - 0s - loss: 1.2890 - accuracy: 0.5889 - val_loss: 1.2624 - val_accuracy: 0.7778 - 42ms/epoch - 5ms/step\n",
      "Epoch 108/300\n",
      "9/9 - 0s - loss: 1.2858 - accuracy: 0.6000 - val_loss: 1.2550 - val_accuracy: 0.8889 - 45ms/epoch - 5ms/step\n",
      "Epoch 109/300\n",
      "9/9 - 0s - loss: 1.2717 - accuracy: 0.7000 - val_loss: 1.2493 - val_accuracy: 0.7778 - 45ms/epoch - 5ms/step\n",
      "Epoch 110/300\n",
      "9/9 - 0s - loss: 1.2669 - accuracy: 0.6889 - val_loss: 1.2422 - val_accuracy: 0.7778 - 45ms/epoch - 5ms/step\n",
      "Epoch 111/300\n",
      "9/9 - 0s - loss: 1.2632 - accuracy: 0.6333 - val_loss: 1.2366 - val_accuracy: 0.7778 - 56ms/epoch - 6ms/step\n",
      "Epoch 112/300\n",
      "9/9 - 0s - loss: 1.2500 - accuracy: 0.7000 - val_loss: 1.2297 - val_accuracy: 0.6667 - 46ms/epoch - 5ms/step\n",
      "Epoch 113/300\n",
      "9/9 - 0s - loss: 1.2636 - accuracy: 0.6889 - val_loss: 1.2206 - val_accuracy: 0.6667 - 43ms/epoch - 5ms/step\n",
      "Epoch 114/300\n",
      "9/9 - 0s - loss: 1.2373 - accuracy: 0.7111 - val_loss: 1.2127 - val_accuracy: 0.8889 - 40ms/epoch - 4ms/step\n",
      "Epoch 115/300\n",
      "9/9 - 0s - loss: 1.2356 - accuracy: 0.7444 - val_loss: 1.2065 - val_accuracy: 0.6667 - 41ms/epoch - 5ms/step\n",
      "Epoch 116/300\n",
      "9/9 - 0s - loss: 1.2355 - accuracy: 0.6778 - val_loss: 1.1979 - val_accuracy: 0.8889 - 81ms/epoch - 9ms/step\n",
      "Epoch 117/300\n",
      "9/9 - 0s - loss: 1.2216 - accuracy: 0.6667 - val_loss: 1.1955 - val_accuracy: 0.8889 - 49ms/epoch - 5ms/step\n",
      "Epoch 118/300\n",
      "9/9 - 0s - loss: 1.2141 - accuracy: 0.6556 - val_loss: 1.1875 - val_accuracy: 0.7778 - 43ms/epoch - 5ms/step\n",
      "Epoch 119/300\n",
      "9/9 - 0s - loss: 1.2153 - accuracy: 0.6444 - val_loss: 1.1769 - val_accuracy: 0.8889 - 45ms/epoch - 5ms/step\n",
      "Epoch 120/300\n",
      "9/9 - 0s - loss: 1.1941 - accuracy: 0.7667 - val_loss: 1.1718 - val_accuracy: 0.8889 - 41ms/epoch - 5ms/step\n",
      "Epoch 121/300\n",
      "9/9 - 0s - loss: 1.2022 - accuracy: 0.5889 - val_loss: 1.1650 - val_accuracy: 0.8889 - 43ms/epoch - 5ms/step\n",
      "Epoch 122/300\n",
      "9/9 - 0s - loss: 1.1907 - accuracy: 0.7667 - val_loss: 1.1603 - val_accuracy: 0.7778 - 40ms/epoch - 4ms/step\n",
      "Epoch 123/300\n",
      "9/9 - 0s - loss: 1.1866 - accuracy: 0.7333 - val_loss: 1.1521 - val_accuracy: 0.7778 - 43ms/epoch - 5ms/step\n",
      "Epoch 124/300\n",
      "9/9 - 0s - loss: 1.1697 - accuracy: 0.6222 - val_loss: 1.1446 - val_accuracy: 0.8889 - 42ms/epoch - 5ms/step\n",
      "Epoch 125/300\n",
      "9/9 - 0s - loss: 1.1661 - accuracy: 0.8111 - val_loss: 1.1399 - val_accuracy: 0.8889 - 44ms/epoch - 5ms/step\n",
      "Epoch 126/300\n",
      "9/9 - 0s - loss: 1.1591 - accuracy: 0.8556 - val_loss: 1.1314 - val_accuracy: 0.7778 - 44ms/epoch - 5ms/step\n",
      "Epoch 127/300\n",
      "9/9 - 0s - loss: 1.1713 - accuracy: 0.6556 - val_loss: 1.1249 - val_accuracy: 0.8889 - 42ms/epoch - 5ms/step\n",
      "Epoch 128/300\n",
      "9/9 - 0s - loss: 1.1457 - accuracy: 0.7889 - val_loss: 1.1211 - val_accuracy: 0.7778 - 50ms/epoch - 6ms/step\n",
      "Epoch 129/300\n",
      "9/9 - 0s - loss: 1.1391 - accuracy: 0.7111 - val_loss: 1.1156 - val_accuracy: 0.8889 - 45ms/epoch - 5ms/step\n",
      "Epoch 130/300\n",
      "9/9 - 0s - loss: 1.1421 - accuracy: 0.7889 - val_loss: 1.1071 - val_accuracy: 0.7778 - 40ms/epoch - 4ms/step\n",
      "Epoch 131/300\n",
      "9/9 - 0s - loss: 1.1357 - accuracy: 0.7444 - val_loss: 1.0999 - val_accuracy: 0.7778 - 44ms/epoch - 5ms/step\n",
      "Epoch 132/300\n",
      "9/9 - 0s - loss: 1.1177 - accuracy: 0.7889 - val_loss: 1.0959 - val_accuracy: 0.8889 - 42ms/epoch - 5ms/step\n",
      "Epoch 133/300\n",
      "9/9 - 0s - loss: 1.1247 - accuracy: 0.7444 - val_loss: 1.0873 - val_accuracy: 0.7778 - 41ms/epoch - 5ms/step\n",
      "Epoch 134/300\n",
      "9/9 - 0s - loss: 1.1145 - accuracy: 0.7444 - val_loss: 1.0822 - val_accuracy: 0.8889 - 44ms/epoch - 5ms/step\n",
      "Epoch 135/300\n",
      "9/9 - 0s - loss: 1.1027 - accuracy: 0.8111 - val_loss: 1.0785 - val_accuracy: 0.8889 - 42ms/epoch - 5ms/step\n",
      "Epoch 136/300\n",
      "9/9 - 0s - loss: 1.1033 - accuracy: 0.8333 - val_loss: 1.0706 - val_accuracy: 0.8889 - 42ms/epoch - 5ms/step\n",
      "Epoch 137/300\n",
      "9/9 - 0s - loss: 1.0959 - accuracy: 0.7778 - val_loss: 1.0662 - val_accuracy: 0.8889 - 42ms/epoch - 5ms/step\n",
      "Epoch 138/300\n",
      "9/9 - 0s - loss: 1.0907 - accuracy: 0.8333 - val_loss: 1.0590 - val_accuracy: 0.8889 - 44ms/epoch - 5ms/step\n",
      "Epoch 139/300\n",
      "9/9 - 0s - loss: 1.0861 - accuracy: 0.8000 - val_loss: 1.0567 - val_accuracy: 0.7778 - 43ms/epoch - 5ms/step\n",
      "Epoch 140/300\n",
      "9/9 - 0s - loss: 1.0734 - accuracy: 0.7778 - val_loss: 1.0487 - val_accuracy: 0.8889 - 44ms/epoch - 5ms/step\n",
      "Epoch 141/300\n",
      "9/9 - 0s - loss: 1.0730 - accuracy: 0.7222 - val_loss: 1.0418 - val_accuracy: 0.8889 - 43ms/epoch - 5ms/step\n",
      "Epoch 142/300\n",
      "9/9 - 0s - loss: 1.0627 - accuracy: 0.7778 - val_loss: 1.0348 - val_accuracy: 0.8889 - 41ms/epoch - 5ms/step\n",
      "Epoch 143/300\n",
      "9/9 - 0s - loss: 1.0700 - accuracy: 0.7778 - val_loss: 1.0397 - val_accuracy: 0.8889 - 47ms/epoch - 5ms/step\n",
      "Epoch 144/300\n",
      "9/9 - 0s - loss: 1.0593 - accuracy: 0.8000 - val_loss: 1.0239 - val_accuracy: 0.8889 - 43ms/epoch - 5ms/step\n",
      "Epoch 145/300\n",
      "9/9 - 0s - loss: 1.0475 - accuracy: 0.8667 - val_loss: 1.0211 - val_accuracy: 0.8889 - 45ms/epoch - 5ms/step\n",
      "Epoch 146/300\n",
      "9/9 - 0s - loss: 1.0555 - accuracy: 0.7333 - val_loss: 1.0149 - val_accuracy: 1.0000 - 41ms/epoch - 5ms/step\n",
      "Epoch 147/300\n",
      "9/9 - 0s - loss: 1.0405 - accuracy: 0.8667 - val_loss: 1.0112 - val_accuracy: 0.8889 - 44ms/epoch - 5ms/step\n",
      "Epoch 148/300\n",
      "9/9 - 0s - loss: 1.0314 - accuracy: 0.8000 - val_loss: 1.0070 - val_accuracy: 0.8889 - 43ms/epoch - 5ms/step\n",
      "Epoch 149/300\n",
      "9/9 - 0s - loss: 1.0483 - accuracy: 0.7667 - val_loss: 0.9995 - val_accuracy: 0.7778 - 46ms/epoch - 5ms/step\n",
      "Epoch 150/300\n",
      "9/9 - 0s - loss: 1.0305 - accuracy: 0.6778 - val_loss: 0.9958 - val_accuracy: 1.0000 - 44ms/epoch - 5ms/step\n",
      "Epoch 151/300\n",
      "9/9 - 0s - loss: 1.0241 - accuracy: 0.8111 - val_loss: 0.9984 - val_accuracy: 0.8889 - 41ms/epoch - 5ms/step\n",
      "Epoch 152/300\n",
      "9/9 - 0s - loss: 1.0232 - accuracy: 0.7667 - val_loss: 0.9823 - val_accuracy: 0.8889 - 43ms/epoch - 5ms/step\n",
      "Epoch 153/300\n",
      "9/9 - 0s - loss: 1.0191 - accuracy: 0.7333 - val_loss: 0.9777 - val_accuracy: 0.8889 - 46ms/epoch - 5ms/step\n",
      "Epoch 154/300\n",
      "9/9 - 0s - loss: 1.0234 - accuracy: 0.8444 - val_loss: 0.9761 - val_accuracy: 0.7778 - 92ms/epoch - 10ms/step\n",
      "Epoch 155/300\n",
      "9/9 - 0s - loss: 1.0115 - accuracy: 0.8556 - val_loss: 0.9655 - val_accuracy: 0.7778 - 42ms/epoch - 5ms/step\n",
      "Epoch 156/300\n",
      "9/9 - 0s - loss: 0.9835 - accuracy: 0.8667 - val_loss: 0.9618 - val_accuracy: 0.8889 - 41ms/epoch - 5ms/step\n",
      "Epoch 157/300\n",
      "9/9 - 0s - loss: 0.9975 - accuracy: 0.7111 - val_loss: 0.9561 - val_accuracy: 0.8889 - 43ms/epoch - 5ms/step\n",
      "Epoch 158/300\n",
      "9/9 - 0s - loss: 0.9801 - accuracy: 0.8333 - val_loss: 0.9528 - val_accuracy: 1.0000 - 45ms/epoch - 5ms/step\n",
      "Epoch 159/300\n",
      "9/9 - 0s - loss: 0.9785 - accuracy: 0.8667 - val_loss: 0.9462 - val_accuracy: 1.0000 - 42ms/epoch - 5ms/step\n",
      "Epoch 160/300\n",
      "9/9 - 0s - loss: 0.9759 - accuracy: 0.8111 - val_loss: 0.9428 - val_accuracy: 0.8889 - 45ms/epoch - 5ms/step\n",
      "Epoch 161/300\n",
      "9/9 - 0s - loss: 0.9679 - accuracy: 0.8333 - val_loss: 0.9396 - val_accuracy: 0.8889 - 40ms/epoch - 4ms/step\n",
      "Epoch 162/300\n",
      "9/9 - 0s - loss: 0.9563 - accuracy: 0.8333 - val_loss: 0.9348 - val_accuracy: 0.8889 - 44ms/epoch - 5ms/step\n",
      "Epoch 163/300\n",
      "9/9 - 0s - loss: 0.9718 - accuracy: 0.7111 - val_loss: 0.9397 - val_accuracy: 0.7778 - 43ms/epoch - 5ms/step\n",
      "Epoch 164/300\n",
      "9/9 - 0s - loss: 0.9632 - accuracy: 0.8333 - val_loss: 0.9275 - val_accuracy: 0.7778 - 45ms/epoch - 5ms/step\n",
      "Epoch 165/300\n",
      "9/9 - 0s - loss: 0.9648 - accuracy: 0.8444 - val_loss: 0.9258 - val_accuracy: 0.8889 - 41ms/epoch - 5ms/step\n",
      "Epoch 166/300\n",
      "9/9 - 0s - loss: 0.9504 - accuracy: 0.8111 - val_loss: 0.9147 - val_accuracy: 0.8889 - 45ms/epoch - 5ms/step\n",
      "Epoch 167/300\n",
      "9/9 - 0s - loss: 0.9496 - accuracy: 0.7667 - val_loss: 0.9192 - val_accuracy: 0.8889 - 41ms/epoch - 5ms/step\n",
      "Epoch 168/300\n",
      "9/9 - 0s - loss: 0.9539 - accuracy: 0.8333 - val_loss: 0.9184 - val_accuracy: 0.6667 - 44ms/epoch - 5ms/step\n",
      "Epoch 169/300\n",
      "9/9 - 0s - loss: 0.9615 - accuracy: 0.7222 - val_loss: 0.9014 - val_accuracy: 0.8889 - 42ms/epoch - 5ms/step\n",
      "Epoch 170/300\n",
      "9/9 - 0s - loss: 0.9156 - accuracy: 0.8111 - val_loss: 0.9050 - val_accuracy: 0.7778 - 42ms/epoch - 5ms/step\n",
      "Epoch 171/300\n",
      "9/9 - 0s - loss: 0.9352 - accuracy: 0.7556 - val_loss: 0.8879 - val_accuracy: 0.8889 - 45ms/epoch - 5ms/step\n",
      "Epoch 172/300\n",
      "9/9 - 0s - loss: 0.9205 - accuracy: 0.7889 - val_loss: 0.8836 - val_accuracy: 0.8889 - 41ms/epoch - 5ms/step\n",
      "Epoch 173/300\n",
      "9/9 - 0s - loss: 0.9099 - accuracy: 0.8889 - val_loss: 0.8826 - val_accuracy: 0.8889 - 46ms/epoch - 5ms/step\n",
      "Epoch 174/300\n",
      "9/9 - 0s - loss: 0.9149 - accuracy: 0.8333 - val_loss: 0.8786 - val_accuracy: 0.8889 - 43ms/epoch - 5ms/step\n",
      "Epoch 175/300\n",
      "9/9 - 0s - loss: 0.9079 - accuracy: 0.7778 - val_loss: 0.8696 - val_accuracy: 0.7778 - 44ms/epoch - 5ms/step\n",
      "Epoch 176/300\n",
      "9/9 - 0s - loss: 0.9048 - accuracy: 0.8667 - val_loss: 0.8671 - val_accuracy: 1.0000 - 42ms/epoch - 5ms/step\n",
      "Epoch 177/300\n",
      "9/9 - 0s - loss: 0.8972 - accuracy: 0.8000 - val_loss: 0.8667 - val_accuracy: 0.8889 - 43ms/epoch - 5ms/step\n",
      "Epoch 178/300\n",
      "9/9 - 0s - loss: 0.8932 - accuracy: 0.8444 - val_loss: 0.8624 - val_accuracy: 1.0000 - 41ms/epoch - 5ms/step\n",
      "Epoch 179/300\n",
      "9/9 - 0s - loss: 0.8865 - accuracy: 0.8111 - val_loss: 0.8643 - val_accuracy: 0.7778 - 44ms/epoch - 5ms/step\n",
      "Epoch 180/300\n",
      "9/9 - 0s - loss: 0.8867 - accuracy: 0.8111 - val_loss: 0.8612 - val_accuracy: 0.8889 - 43ms/epoch - 5ms/step\n",
      "Epoch 181/300\n",
      "9/9 - 0s - loss: 0.8744 - accuracy: 0.8111 - val_loss: 0.8480 - val_accuracy: 0.7778 - 45ms/epoch - 5ms/step\n",
      "Epoch 182/300\n",
      "9/9 - 0s - loss: 0.8827 - accuracy: 0.8000 - val_loss: 0.8416 - val_accuracy: 0.8889 - 46ms/epoch - 5ms/step\n",
      "Epoch 183/300\n",
      "9/9 - 0s - loss: 0.8878 - accuracy: 0.8111 - val_loss: 0.8412 - val_accuracy: 0.7778 - 43ms/epoch - 5ms/step\n",
      "Epoch 184/300\n",
      "9/9 - 0s - loss: 0.8646 - accuracy: 0.7667 - val_loss: 0.8284 - val_accuracy: 1.0000 - 44ms/epoch - 5ms/step\n",
      "Epoch 185/300\n",
      "9/9 - 0s - loss: 0.8664 - accuracy: 0.8333 - val_loss: 0.8284 - val_accuracy: 0.8889 - 44ms/epoch - 5ms/step\n",
      "Epoch 186/300\n",
      "9/9 - 0s - loss: 0.8565 - accuracy: 0.8333 - val_loss: 0.8236 - val_accuracy: 1.0000 - 49ms/epoch - 5ms/step\n",
      "Epoch 187/300\n",
      "9/9 - 0s - loss: 0.8731 - accuracy: 0.8222 - val_loss: 0.8198 - val_accuracy: 0.8889 - 43ms/epoch - 5ms/step\n",
      "Epoch 188/300\n",
      "9/9 - 0s - loss: 0.8477 - accuracy: 0.8778 - val_loss: 0.8131 - val_accuracy: 0.8889 - 43ms/epoch - 5ms/step\n",
      "Epoch 189/300\n",
      "9/9 - 0s - loss: 0.8613 - accuracy: 0.8444 - val_loss: 0.8103 - val_accuracy: 0.8889 - 41ms/epoch - 5ms/step\n",
      "Epoch 190/300\n",
      "9/9 - 0s - loss: 0.8427 - accuracy: 0.8111 - val_loss: 0.8048 - val_accuracy: 1.0000 - 47ms/epoch - 5ms/step\n",
      "Epoch 191/300\n",
      "9/9 - 0s - loss: 0.8568 - accuracy: 0.8000 - val_loss: 0.8122 - val_accuracy: 1.0000 - 53ms/epoch - 6ms/step\n",
      "Epoch 192/300\n",
      "9/9 - 0s - loss: 0.8493 - accuracy: 0.7556 - val_loss: 0.8108 - val_accuracy: 0.8889 - 53ms/epoch - 6ms/step\n",
      "Epoch 193/300\n",
      "9/9 - 0s - loss: 0.8336 - accuracy: 0.8667 - val_loss: 0.7951 - val_accuracy: 1.0000 - 45ms/epoch - 5ms/step\n",
      "Epoch 194/300\n",
      "9/9 - 0s - loss: 0.8298 - accuracy: 0.8444 - val_loss: 0.7992 - val_accuracy: 0.8889 - 42ms/epoch - 5ms/step\n",
      "Epoch 195/300\n",
      "9/9 - 0s - loss: 0.8361 - accuracy: 0.8111 - val_loss: 0.7901 - val_accuracy: 1.0000 - 43ms/epoch - 5ms/step\n",
      "Epoch 196/300\n",
      "9/9 - 0s - loss: 0.8373 - accuracy: 0.9000 - val_loss: 0.7855 - val_accuracy: 0.8889 - 43ms/epoch - 5ms/step\n",
      "Epoch 197/300\n",
      "9/9 - 0s - loss: 0.8263 - accuracy: 0.8222 - val_loss: 0.7882 - val_accuracy: 0.8889 - 43ms/epoch - 5ms/step\n",
      "Epoch 198/300\n",
      "9/9 - 0s - loss: 0.8325 - accuracy: 0.8000 - val_loss: 0.7760 - val_accuracy: 0.8889 - 43ms/epoch - 5ms/step\n",
      "Epoch 199/300\n",
      "9/9 - 0s - loss: 0.7963 - accuracy: 0.8889 - val_loss: 0.7921 - val_accuracy: 0.8889 - 44ms/epoch - 5ms/step\n",
      "Epoch 200/300\n",
      "9/9 - 0s - loss: 0.7944 - accuracy: 0.8444 - val_loss: 0.7714 - val_accuracy: 0.7778 - 43ms/epoch - 5ms/step\n",
      "Epoch 201/300\n",
      "9/9 - 0s - loss: 0.8128 - accuracy: 0.8111 - val_loss: 0.7704 - val_accuracy: 0.8889 - 41ms/epoch - 5ms/step\n",
      "Epoch 202/300\n",
      "9/9 - 0s - loss: 0.7908 - accuracy: 0.8111 - val_loss: 0.7575 - val_accuracy: 1.0000 - 44ms/epoch - 5ms/step\n",
      "Epoch 203/300\n",
      "9/9 - 0s - loss: 0.7881 - accuracy: 0.9111 - val_loss: 0.7565 - val_accuracy: 1.0000 - 41ms/epoch - 5ms/step\n",
      "Epoch 204/300\n",
      "9/9 - 0s - loss: 0.7906 - accuracy: 0.8444 - val_loss: 0.7588 - val_accuracy: 0.8889 - 45ms/epoch - 5ms/step\n",
      "Epoch 205/300\n",
      "9/9 - 0s - loss: 0.7742 - accuracy: 0.9333 - val_loss: 0.7540 - val_accuracy: 1.0000 - 42ms/epoch - 5ms/step\n",
      "Epoch 206/300\n",
      "9/9 - 0s - loss: 0.7928 - accuracy: 0.8667 - val_loss: 0.7434 - val_accuracy: 1.0000 - 43ms/epoch - 5ms/step\n",
      "Epoch 207/300\n",
      "9/9 - 0s - loss: 0.7675 - accuracy: 0.8889 - val_loss: 0.7449 - val_accuracy: 0.8889 - 43ms/epoch - 5ms/step\n",
      "Epoch 208/300\n",
      "9/9 - 0s - loss: 0.7879 - accuracy: 0.8778 - val_loss: 0.7384 - val_accuracy: 0.8889 - 44ms/epoch - 5ms/step\n",
      "Epoch 209/300\n",
      "9/9 - 0s - loss: 0.7726 - accuracy: 0.8667 - val_loss: 0.7428 - val_accuracy: 0.8889 - 41ms/epoch - 5ms/step\n",
      "Epoch 210/300\n",
      "9/9 - 0s - loss: 0.7633 - accuracy: 0.8667 - val_loss: 0.7426 - val_accuracy: 0.8889 - 42ms/epoch - 5ms/step\n",
      "Epoch 211/300\n",
      "9/9 - 0s - loss: 0.7742 - accuracy: 0.8556 - val_loss: 0.7389 - val_accuracy: 0.7778 - 45ms/epoch - 5ms/step\n",
      "Epoch 212/300\n",
      "9/9 - 0s - loss: 0.7411 - accuracy: 0.8667 - val_loss: 0.7236 - val_accuracy: 1.0000 - 44ms/epoch - 5ms/step\n",
      "Epoch 213/300\n",
      "9/9 - 0s - loss: 0.7509 - accuracy: 0.8778 - val_loss: 0.7421 - val_accuracy: 0.6667 - 45ms/epoch - 5ms/step\n",
      "Epoch 214/300\n",
      "9/9 - 0s - loss: 0.7597 - accuracy: 0.8333 - val_loss: 0.7140 - val_accuracy: 0.8889 - 44ms/epoch - 5ms/step\n",
      "Epoch 215/300\n",
      "9/9 - 0s - loss: 0.7479 - accuracy: 0.9333 - val_loss: 0.7420 - val_accuracy: 0.8889 - 42ms/epoch - 5ms/step\n",
      "Epoch 216/300\n",
      "9/9 - 0s - loss: 0.7530 - accuracy: 0.8778 - val_loss: 0.7070 - val_accuracy: 0.8889 - 43ms/epoch - 5ms/step\n",
      "Epoch 217/300\n",
      "9/9 - 0s - loss: 0.7324 - accuracy: 0.8556 - val_loss: 0.7064 - val_accuracy: 1.0000 - 45ms/epoch - 5ms/step\n",
      "Epoch 218/300\n",
      "9/9 - 0s - loss: 0.7280 - accuracy: 0.9111 - val_loss: 0.7022 - val_accuracy: 0.8889 - 43ms/epoch - 5ms/step\n",
      "Epoch 219/300\n",
      "9/9 - 0s - loss: 0.7469 - accuracy: 0.8222 - val_loss: 0.7195 - val_accuracy: 0.7778 - 42ms/epoch - 5ms/step\n",
      "Epoch 220/300\n",
      "9/9 - 0s - loss: 0.7246 - accuracy: 0.9111 - val_loss: 0.6956 - val_accuracy: 1.0000 - 43ms/epoch - 5ms/step\n",
      "Epoch 221/300\n",
      "9/9 - 0s - loss: 0.7276 - accuracy: 0.9111 - val_loss: 0.6915 - val_accuracy: 1.0000 - 42ms/epoch - 5ms/step\n",
      "Epoch 222/300\n",
      "9/9 - 0s - loss: 0.7250 - accuracy: 0.8444 - val_loss: 0.7143 - val_accuracy: 0.7778 - 44ms/epoch - 5ms/step\n",
      "Epoch 223/300\n",
      "9/9 - 0s - loss: 0.7204 - accuracy: 0.8667 - val_loss: 0.6947 - val_accuracy: 0.8889 - 41ms/epoch - 5ms/step\n",
      "Epoch 224/300\n",
      "9/9 - 0s - loss: 0.7636 - accuracy: 0.7556 - val_loss: 0.6931 - val_accuracy: 0.8889 - 44ms/epoch - 5ms/step\n",
      "Epoch 225/300\n",
      "9/9 - 0s - loss: 0.7161 - accuracy: 0.9111 - val_loss: 0.6829 - val_accuracy: 0.8889 - 43ms/epoch - 5ms/step\n",
      "Epoch 226/300\n",
      "9/9 - 0s - loss: 0.6992 - accuracy: 0.8556 - val_loss: 0.7115 - val_accuracy: 0.7778 - 41ms/epoch - 5ms/step\n",
      "Epoch 227/300\n",
      "9/9 - 0s - loss: 0.6945 - accuracy: 0.8444 - val_loss: 0.6702 - val_accuracy: 1.0000 - 44ms/epoch - 5ms/step\n",
      "Epoch 228/300\n",
      "9/9 - 0s - loss: 0.6941 - accuracy: 0.9333 - val_loss: 0.6766 - val_accuracy: 0.8889 - 41ms/epoch - 5ms/step\n",
      "Epoch 229/300\n",
      "9/9 - 0s - loss: 0.7235 - accuracy: 0.8444 - val_loss: 0.6592 - val_accuracy: 1.0000 - 42ms/epoch - 5ms/step\n",
      "Epoch 230/300\n",
      "9/9 - 0s - loss: 0.6884 - accuracy: 0.9111 - val_loss: 0.6735 - val_accuracy: 0.7778 - 82ms/epoch - 9ms/step\n",
      "Epoch 231/300\n",
      "9/9 - 0s - loss: 0.7357 - accuracy: 0.8111 - val_loss: 0.6767 - val_accuracy: 0.8889 - 43ms/epoch - 5ms/step\n",
      "Epoch 232/300\n",
      "9/9 - 0s - loss: 0.6812 - accuracy: 0.9333 - val_loss: 0.6460 - val_accuracy: 1.0000 - 42ms/epoch - 5ms/step\n",
      "Epoch 233/300\n",
      "9/9 - 0s - loss: 0.6787 - accuracy: 0.9111 - val_loss: 0.6601 - val_accuracy: 0.7778 - 46ms/epoch - 5ms/step\n",
      "Epoch 234/300\n",
      "9/9 - 0s - loss: 0.6840 - accuracy: 0.8333 - val_loss: 0.6488 - val_accuracy: 1.0000 - 44ms/epoch - 5ms/step\n",
      "Epoch 235/300\n",
      "9/9 - 0s - loss: 0.6714 - accuracy: 0.9556 - val_loss: 0.6517 - val_accuracy: 0.8889 - 45ms/epoch - 5ms/step\n",
      "Epoch 236/300\n",
      "9/9 - 0s - loss: 0.6709 - accuracy: 0.9333 - val_loss: 0.6375 - val_accuracy: 0.8889 - 44ms/epoch - 5ms/step\n",
      "Epoch 237/300\n",
      "9/9 - 0s - loss: 0.6738 - accuracy: 0.8556 - val_loss: 0.6429 - val_accuracy: 0.8889 - 43ms/epoch - 5ms/step\n",
      "Epoch 238/300\n",
      "9/9 - 0s - loss: 0.6723 - accuracy: 0.8778 - val_loss: 0.6340 - val_accuracy: 0.8889 - 42ms/epoch - 5ms/step\n",
      "Epoch 239/300\n",
      "9/9 - 0s - loss: 0.6585 - accuracy: 0.9111 - val_loss: 0.6516 - val_accuracy: 0.8889 - 45ms/epoch - 5ms/step\n",
      "Epoch 240/300\n",
      "9/9 - 0s - loss: 0.6597 - accuracy: 0.8333 - val_loss: 0.6410 - val_accuracy: 0.8889 - 44ms/epoch - 5ms/step\n",
      "Epoch 241/300\n",
      "9/9 - 0s - loss: 0.6589 - accuracy: 0.8444 - val_loss: 0.6317 - val_accuracy: 0.8889 - 44ms/epoch - 5ms/step\n",
      "Epoch 242/300\n",
      "9/9 - 0s - loss: 0.6666 - accuracy: 0.8889 - val_loss: 0.6217 - val_accuracy: 0.8889 - 43ms/epoch - 5ms/step\n",
      "Epoch 243/300\n",
      "9/9 - 0s - loss: 0.6349 - accuracy: 0.9111 - val_loss: 0.6175 - val_accuracy: 0.8889 - 44ms/epoch - 5ms/step\n",
      "Epoch 244/300\n",
      "9/9 - 0s - loss: 0.6480 - accuracy: 0.9000 - val_loss: 0.6162 - val_accuracy: 0.8889 - 46ms/epoch - 5ms/step\n",
      "Epoch 245/300\n",
      "9/9 - 0s - loss: 0.6418 - accuracy: 0.9000 - val_loss: 0.6098 - val_accuracy: 1.0000 - 42ms/epoch - 5ms/step\n",
      "Epoch 246/300\n",
      "9/9 - 0s - loss: 0.6489 - accuracy: 0.9444 - val_loss: 0.6058 - val_accuracy: 1.0000 - 42ms/epoch - 5ms/step\n",
      "Epoch 247/300\n",
      "9/9 - 0s - loss: 0.6308 - accuracy: 0.9667 - val_loss: 0.6097 - val_accuracy: 1.0000 - 42ms/epoch - 5ms/step\n",
      "Epoch 248/300\n",
      "9/9 - 0s - loss: 0.6310 - accuracy: 0.9556 - val_loss: 0.6035 - val_accuracy: 1.0000 - 44ms/epoch - 5ms/step\n",
      "Epoch 249/300\n",
      "9/9 - 0s - loss: 0.6261 - accuracy: 0.9222 - val_loss: 0.6011 - val_accuracy: 0.8889 - 42ms/epoch - 5ms/step\n",
      "Epoch 250/300\n",
      "9/9 - 0s - loss: 0.6364 - accuracy: 0.8889 - val_loss: 0.5873 - val_accuracy: 1.0000 - 42ms/epoch - 5ms/step\n",
      "Epoch 251/300\n",
      "9/9 - 0s - loss: 0.6286 - accuracy: 0.9333 - val_loss: 0.6014 - val_accuracy: 0.8889 - 44ms/epoch - 5ms/step\n",
      "Epoch 252/300\n",
      "9/9 - 0s - loss: 0.6330 - accuracy: 0.8778 - val_loss: 0.5827 - val_accuracy: 1.0000 - 42ms/epoch - 5ms/step\n",
      "Epoch 253/300\n",
      "9/9 - 0s - loss: 0.6308 - accuracy: 0.9000 - val_loss: 0.5816 - val_accuracy: 1.0000 - 43ms/epoch - 5ms/step\n",
      "Epoch 254/300\n",
      "9/9 - 0s - loss: 0.6171 - accuracy: 0.9222 - val_loss: 0.5924 - val_accuracy: 0.8889 - 45ms/epoch - 5ms/step\n",
      "Epoch 255/300\n",
      "9/9 - 0s - loss: 0.6186 - accuracy: 0.8778 - val_loss: 0.5736 - val_accuracy: 1.0000 - 43ms/epoch - 5ms/step\n",
      "Epoch 256/300\n",
      "9/9 - 0s - loss: 0.6063 - accuracy: 0.9222 - val_loss: 0.5914 - val_accuracy: 1.0000 - 43ms/epoch - 5ms/step\n",
      "Epoch 257/300\n",
      "9/9 - 0s - loss: 0.5917 - accuracy: 1.0000 - val_loss: 0.5699 - val_accuracy: 1.0000 - 46ms/epoch - 5ms/step\n",
      "Epoch 258/300\n",
      "9/9 - 0s - loss: 0.5992 - accuracy: 0.9222 - val_loss: 0.5923 - val_accuracy: 0.7778 - 43ms/epoch - 5ms/step\n",
      "Epoch 259/300\n",
      "9/9 - 0s - loss: 0.6004 - accuracy: 0.9333 - val_loss: 0.5624 - val_accuracy: 1.0000 - 42ms/epoch - 5ms/step\n",
      "Epoch 260/300\n",
      "9/9 - 0s - loss: 0.5859 - accuracy: 0.9778 - val_loss: 0.5851 - val_accuracy: 0.8889 - 45ms/epoch - 5ms/step\n",
      "Epoch 261/300\n",
      "9/9 - 0s - loss: 0.5749 - accuracy: 0.9333 - val_loss: 0.5788 - val_accuracy: 1.0000 - 44ms/epoch - 5ms/step\n",
      "Epoch 262/300\n",
      "9/9 - 0s - loss: 0.5921 - accuracy: 0.9556 - val_loss: 0.6112 - val_accuracy: 0.6667 - 43ms/epoch - 5ms/step\n",
      "Epoch 263/300\n",
      "9/9 - 0s - loss: 0.6018 - accuracy: 0.8778 - val_loss: 0.5759 - val_accuracy: 0.7778 - 44ms/epoch - 5ms/step\n",
      "Epoch 264/300\n",
      "9/9 - 0s - loss: 0.5912 - accuracy: 0.8667 - val_loss: 0.5563 - val_accuracy: 1.0000 - 95ms/epoch - 11ms/step\n",
      "Epoch 265/300\n",
      "9/9 - 0s - loss: 0.5892 - accuracy: 0.9444 - val_loss: 0.5614 - val_accuracy: 0.8889 - 53ms/epoch - 6ms/step\n",
      "Epoch 266/300\n",
      "9/9 - 0s - loss: 0.5942 - accuracy: 0.9222 - val_loss: 0.5450 - val_accuracy: 1.0000 - 42ms/epoch - 5ms/step\n",
      "Epoch 267/300\n",
      "9/9 - 0s - loss: 0.5850 - accuracy: 0.9556 - val_loss: 0.5389 - val_accuracy: 1.0000 - 43ms/epoch - 5ms/step\n",
      "Epoch 268/300\n",
      "9/9 - 0s - loss: 0.5745 - accuracy: 0.9667 - val_loss: 0.5500 - val_accuracy: 0.8889 - 42ms/epoch - 5ms/step\n",
      "Epoch 269/300\n",
      "9/9 - 0s - loss: 0.5829 - accuracy: 0.8667 - val_loss: 0.5912 - val_accuracy: 0.6667 - 44ms/epoch - 5ms/step\n",
      "Epoch 270/300\n",
      "9/9 - 0s - loss: 0.5741 - accuracy: 0.8667 - val_loss: 0.5331 - val_accuracy: 1.0000 - 41ms/epoch - 5ms/step\n",
      "Epoch 271/300\n",
      "9/9 - 0s - loss: 0.5677 - accuracy: 0.9333 - val_loss: 0.5466 - val_accuracy: 0.8889 - 45ms/epoch - 5ms/step\n",
      "Epoch 272/300\n",
      "9/9 - 0s - loss: 0.5536 - accuracy: 0.9667 - val_loss: 0.5414 - val_accuracy: 0.8889 - 41ms/epoch - 5ms/step\n",
      "Epoch 273/300\n",
      "9/9 - 0s - loss: 0.5469 - accuracy: 0.9222 - val_loss: 0.5485 - val_accuracy: 1.0000 - 43ms/epoch - 5ms/step\n",
      "Epoch 274/300\n",
      "9/9 - 0s - loss: 0.5664 - accuracy: 0.8889 - val_loss: 0.5418 - val_accuracy: 0.8889 - 46ms/epoch - 5ms/step\n",
      "Epoch 275/300\n",
      "9/9 - 0s - loss: 0.5731 - accuracy: 0.8444 - val_loss: 0.5618 - val_accuracy: 0.8889 - 41ms/epoch - 5ms/step\n",
      "Epoch 276/300\n",
      "9/9 - 0s - loss: 0.5849 - accuracy: 0.9000 - val_loss: 0.5227 - val_accuracy: 0.8889 - 46ms/epoch - 5ms/step\n",
      "Epoch 277/300\n",
      "9/9 - 0s - loss: 0.5498 - accuracy: 0.8444 - val_loss: 0.5431 - val_accuracy: 0.7778 - 42ms/epoch - 5ms/step\n",
      "Epoch 278/300\n",
      "9/9 - 0s - loss: 0.5520 - accuracy: 0.9111 - val_loss: 0.5351 - val_accuracy: 0.8889 - 43ms/epoch - 5ms/step\n",
      "Epoch 279/300\n",
      "9/9 - 0s - loss: 0.5334 - accuracy: 0.9222 - val_loss: 0.5647 - val_accuracy: 0.8889 - 44ms/epoch - 5ms/step\n",
      "Epoch 280/300\n",
      "9/9 - 0s - loss: 0.5321 - accuracy: 0.9556 - val_loss: 0.5040 - val_accuracy: 1.0000 - 45ms/epoch - 5ms/step\n",
      "Epoch 281/300\n",
      "9/9 - 0s - loss: 0.5586 - accuracy: 0.9222 - val_loss: 0.4979 - val_accuracy: 1.0000 - 45ms/epoch - 5ms/step\n",
      "Epoch 282/300\n",
      "9/9 - 0s - loss: 0.5443 - accuracy: 0.9111 - val_loss: 0.4982 - val_accuracy: 1.0000 - 48ms/epoch - 5ms/step\n",
      "Epoch 283/300\n",
      "9/9 - 0s - loss: 0.4966 - accuracy: 0.9111 - val_loss: 0.5220 - val_accuracy: 0.8889 - 43ms/epoch - 5ms/step\n",
      "Epoch 284/300\n",
      "9/9 - 0s - loss: 0.5330 - accuracy: 0.9333 - val_loss: 0.5153 - val_accuracy: 1.0000 - 42ms/epoch - 5ms/step\n",
      "Epoch 285/300\n",
      "9/9 - 0s - loss: 0.5175 - accuracy: 0.9778 - val_loss: 0.4899 - val_accuracy: 1.0000 - 41ms/epoch - 5ms/step\n",
      "Epoch 286/300\n",
      "9/9 - 0s - loss: 0.5143 - accuracy: 0.9556 - val_loss: 0.4943 - val_accuracy: 1.0000 - 47ms/epoch - 5ms/step\n",
      "Epoch 287/300\n",
      "9/9 - 0s - loss: 0.5182 - accuracy: 0.9444 - val_loss: 0.4974 - val_accuracy: 0.8889 - 43ms/epoch - 5ms/step\n",
      "Epoch 288/300\n",
      "9/9 - 0s - loss: 0.5266 - accuracy: 0.9778 - val_loss: 0.5055 - val_accuracy: 0.8889 - 44ms/epoch - 5ms/step\n",
      "Epoch 289/300\n",
      "9/9 - 0s - loss: 0.5266 - accuracy: 0.9222 - val_loss: 0.5023 - val_accuracy: 0.8889 - 42ms/epoch - 5ms/step\n",
      "Epoch 290/300\n",
      "9/9 - 0s - loss: 0.5184 - accuracy: 0.9667 - val_loss: 0.4760 - val_accuracy: 1.0000 - 43ms/epoch - 5ms/step\n",
      "Epoch 291/300\n",
      "9/9 - 0s - loss: 0.5124 - accuracy: 0.9000 - val_loss: 0.4950 - val_accuracy: 1.0000 - 44ms/epoch - 5ms/step\n",
      "Epoch 292/300\n",
      "9/9 - 0s - loss: 0.5017 - accuracy: 0.9667 - val_loss: 0.4801 - val_accuracy: 1.0000 - 43ms/epoch - 5ms/step\n",
      "Epoch 293/300\n",
      "9/9 - 0s - loss: 0.4857 - accuracy: 0.9556 - val_loss: 0.4765 - val_accuracy: 1.0000 - 46ms/epoch - 5ms/step\n",
      "Epoch 294/300\n",
      "9/9 - 0s - loss: 0.4863 - accuracy: 0.9778 - val_loss: 0.4623 - val_accuracy: 1.0000 - 42ms/epoch - 5ms/step\n",
      "Epoch 295/300\n",
      "9/9 - 0s - loss: 0.4999 - accuracy: 0.9667 - val_loss: 0.4668 - val_accuracy: 1.0000 - 45ms/epoch - 5ms/step\n",
      "Epoch 296/300\n",
      "9/9 - 0s - loss: 0.4918 - accuracy: 0.9667 - val_loss: 0.4850 - val_accuracy: 0.8889 - 42ms/epoch - 5ms/step\n",
      "Epoch 297/300\n",
      "9/9 - 0s - loss: 0.4893 - accuracy: 0.9222 - val_loss: 0.4645 - val_accuracy: 1.0000 - 44ms/epoch - 5ms/step\n",
      "Epoch 298/300\n",
      "9/9 - 0s - loss: 0.4720 - accuracy: 0.9556 - val_loss: 0.4658 - val_accuracy: 1.0000 - 100ms/epoch - 11ms/step\n",
      "Epoch 299/300\n",
      "9/9 - 0s - loss: 0.4631 - accuracy: 0.9778 - val_loss: 0.4812 - val_accuracy: 0.8889 - 42ms/epoch - 5ms/step\n",
      "Epoch 300/300\n",
      "9/9 - 0s - loss: 0.4722 - accuracy: 0.9556 - val_loss: 0.4896 - val_accuracy: 0.8889 - 41ms/epoch - 5ms/step\n"
     ]
    }
   ],
   "source": [
    "hist = model.fit(x_train, Y_train, \n",
    "          epochs=300, \n",
    "          batch_size=10, \n",
    "          verbose=2,\n",
    "          validation_data=(x_val, Y_val)) # 학습결과 출력 옵셥 0:출력x, 1:기본값, 2:에포크별 로그메세지"
   ]
  },
  {
   "cell_type": "markdown",
   "id": "12143661",
   "metadata": {},
   "source": [
    "# 6. 모델 평가하기(모델학습과정 살펴보고, evalute)"
   ]
  },
  {
   "cell_type": "code",
   "execution_count": null,
   "id": "1225a2dd",
   "metadata": {},
   "outputs": [
    {
     "data": {
      "text/plain": [
       "dict_keys(['loss', 'accuracy', 'val_loss', 'val_accuracy'])"
      ]
     },
     "execution_count": 46,
     "metadata": {},
     "output_type": "execute_result"
    }
   ],
   "source": [
    "hist.history.keys()"
   ]
  },
  {
   "cell_type": "code",
   "execution_count": 60,
   "id": "68e05cb7",
   "metadata": {},
   "outputs": [
    {
     "data": {
      "text/plain": [
       "<matplotlib.legend.Legend at 0x2a6121e1210>"
      ]
     },
     "execution_count": 60,
     "metadata": {},
     "output_type": "execute_result"
    },
    {
     "data": {
      "image/png": "[encoded data removed]",
      "text/plain": [
       "<Figure size 1000x500 with 2 Axes>"
      ]
     },
     "metadata": {},
     "output_type": "display_data"
    }
   ],
   "source": [
    "import matplotlib.pyplot as plt\n",
    "fig, loss_ax = plt.subplots(figsize=(10,5))\n",
    "loss_ax.plot(hist.history['loss'], 'y', label='train loss')\n",
    "loss_ax.plot(hist.history['val_loss'], 'r', label='val loss')\n",
    "loss_ax.set_xlabel('epoch')\n",
    "loss_ax.set_ylabel('loss')\n",
    "\n",
    "acc_ax = loss_ax.twinx()\n",
    "acc_ax.plot(hist.history['accuracy'], 'g', label='train accuracy')\n",
    "acc_ax.plot(hist.history['val_accuracy'], 'b', label='train accuracy')\n",
    "loss_ax.legend(loc='upper left')\n",
    "acc_ax.legend(loc='center right')"
   ]
  },
  {
   "cell_type": "code",
   "execution_count": null,
   "id": "2f3a92cb",
   "metadata": {},
   "outputs": [
    {
     "name": "stdout",
     "output_type": "stream",
     "text": [
      "3/3 [==============================] - 0s 3ms/step - loss: 0.4896 - accuracy: 0.8889\n"
     ]
    },
    {
     "data": {
      "text/plain": [
       "[0.4896087050437927, 0.8888888955116272]"
      ]
     },
     "execution_count": 65,
     "metadata": {},
     "output_type": "execute_result"
    }
   ],
   "source": [
    "# 모델 평가\n",
    "score = model.evaluate(x_test, Y_test, batch_size=3)\n",
    "score"
   ]
  },
  {
   "cell_type": "code",
   "execution_count": 70,
   "id": "83bba770",
   "metadata": {},
   "outputs": [
    {
     "name": "stdout",
     "output_type": "stream",
     "text": [
      "평가된 loss : 0.4896087050437927\n",
      "평가된 accuracy : 0.8888888955116272\n"
     ]
    }
   ],
   "source": [
    "print('평가된 loss :',score[0])\n",
    "print('평가된 accuracy :',score[1])"
   ]
  },
  {
   "cell_type": "markdown",
   "id": "597421fb",
   "metadata": {},
   "source": [
    "# 7. 모델 사용하기"
   ]
  },
  {
   "cell_type": "code",
   "execution_count": 78,
   "id": "83598747",
   "metadata": {},
   "outputs": [
    {
     "name": "stdout",
     "output_type": "stream",
     "text": [
      "1/1 [==============================] - 0s 25ms/step\n"
     ]
    },
    {
     "data": {
      "text/plain": [
       "array([[1.8792914e-12, 2.5125832e-12, 7.3859729e-02, 7.4260993e-11,\n",
       "        7.6572657e-01, 3.6334211e-10, 1.5932705e-01, 1.4680496e-09,\n",
       "        1.0848998e-03, 4.2146083e-14, 1.7463549e-06, 2.4095495e-15,\n",
       "        4.0416009e-10, 1.2442204e-15, 8.5612873e-15, 1.1931400e-13,\n",
       "        2.5936562e-20, 5.7958555e-10, 1.0454759e-28]], dtype=float32)"
      ]
     },
     "execution_count": 78,
     "metadata": {},
     "output_type": "execute_result"
    }
   ],
   "source": [
    "H = model.predict(np.array([[2]]))\n",
    "H"
   ]
  },
  {
   "cell_type": "code",
   "execution_count": 77,
   "id": "5b464f35",
   "metadata": {},
   "outputs": [
    {
     "name": "stdout",
     "output_type": "stream",
     "text": [
      "1/1 [==============================] - 0s 26ms/step\n"
     ]
    },
    {
     "data": {
      "text/plain": [
       "6"
      ]
     },
     "execution_count": 77,
     "metadata": {},
     "output_type": "execute_result"
    }
   ],
   "source": [
    "model.predict(np.array([[3]])).argmax()"
   ]
  },
  {
   "cell_type": "code",
   "execution_count": 87,
   "id": "86c17555",
   "metadata": {},
   "outputs": [
    {
     "data": {
      "text/plain": [
       "(4, 76.57265663146973)"
      ]
     },
     "execution_count": 87,
     "metadata": {},
     "output_type": "execute_result"
    }
   ],
   "source": [
    "H.argmax(), H[0, H.argmax()]*100 "
   ]
  },
  {
   "cell_type": "markdown",
   "id": "151abf33",
   "metadata": {},
   "source": [
    "# 8. 모델 저장하기"
   ]
  },
  {
   "cell_type": "code",
   "execution_count": 89,
   "id": "5f8ade68",
   "metadata": {},
   "outputs": [],
   "source": [
    "from tensorflow.keras.models import save_model\n",
    "save_model(model, 'model/02_deep.h5')"
   ]
  },
  {
   "cell_type": "markdown",
   "id": "14d3f422",
   "metadata": {},
   "source": [
    "저장된 모델 사용하기"
   ]
  },
  {
   "cell_type": "code",
   "execution_count": 1,
   "id": "561255bf",
   "metadata": {},
   "outputs": [],
   "source": [
    "from tensorflow.keras.models import load_model\n",
    "model2 = load_model('model/02_deep.h5')"
   ]
  },
  {
   "cell_type": "code",
   "execution_count": 2,
   "id": "00ac9f18",
   "metadata": {},
   "outputs": [
    {
     "name": "stdout",
     "output_type": "stream",
     "text": [
      "Model: \"sequential_1\"\n",
      "_________________________________________________________________\n",
      " Layer (type)                Output Shape              Param #   \n",
      "=================================================================\n",
      " dense_4 (Dense)             (None, 38)                76        \n",
      "                                                                 \n",
      " dense_5 (Dense)             (None, 64)                2496      \n",
      "                                                                 \n",
      " dense_6 (Dense)             (None, 32)                2080      \n",
      "                                                                 \n",
      " dense_7 (Dense)             (None, 19)                627       \n",
      "                                                                 \n",
      "=================================================================\n",
      "Total params: 5,279\n",
      "Trainable params: 5,279\n",
      "Non-trainable params: 0\n",
      "_________________________________________________________________\n"
     ]
    }
   ],
   "source": [
    "model2.summary()"
   ]
  },
  {
   "cell_type": "code",
   "execution_count": 14,
   "id": "8db48138",
   "metadata": {},
   "outputs": [
    {
     "name": "stdout",
     "output_type": "stream",
     "text": [
      "1/1 [==============================] - 0s 22ms/step\n"
     ]
    },
    {
     "data": {
      "text/plain": [
       "array([4, 6], dtype=int64)"
      ]
     },
     "execution_count": 14,
     "metadata": {},
     "output_type": "execute_result"
    }
   ],
   "source": [
    "import numpy as np\n",
    "data = np.array([[2],[3]])\n",
    "predictions = model2.predict(data)\n",
    "predictions.argmax(axis=-1)"
   ]
  },
  {
   "cell_type": "code",
   "execution_count": 15,
   "id": "99ae6c68",
   "metadata": {},
   "outputs": [],
   "source": [
    "def predict_classes(model, data):\n",
    "    predictions = model.predict(data)\n",
    "    return predictions.argmax(axis=-1)"
   ]
  },
  {
   "cell_type": "code",
   "execution_count": 24,
   "id": "5444dfed",
   "metadata": {},
   "outputs": [
    {
     "name": "stdout",
     "output_type": "stream",
     "text": [
      "1/1 [==============================] - 0s 24ms/step\n",
      "예측된 분류는  [18]\n"
     ]
    }
   ],
   "source": [
    "input_data = int(input('데이터 입력 :'))\n",
    "data = np.array([[input_data]])\n",
    "print('예측된 분류는 ',predict_classes(model2, data))"
   ]
  },
  {
   "cell_type": "code",
   "execution_count": null,
   "id": "44b3f1b7",
   "metadata": {},
   "outputs": [],
   "source": [
    "import tensorflow as tf\n",
    "@tf.function(reduce_retracing=True)\n",
    "def predict_classes(model,data):\n",
    "    predictions = model(data,training=False)\n",
    "    return tf.argmax(predictions, axis=-1)\n"
   ]
  },
  {
   "cell_type": "code",
   "execution_count": 27,
   "id": "67bd1521",
   "metadata": {},
   "outputs": [
    {
     "name": "stdout",
     "output_type": "stream",
     "text": [
      "예측된 분류는  tf.Tensor([2], shape=(1,), dtype=int64)\n"
     ]
    }
   ],
   "source": [
    "input_data = int(input('데이터 입력 :'))\n",
    "data = np.array([[input_data]])\n",
    "print('예측된 분류는 ',predict_classes(model2, data))"
   ]
  }
 ],
 "metadata": {
  "kernelspec": {
   "display_name": "ml-dl-nlp",
   "language": "python",
   "name": "python3"
  },
  "language_info": {
   "codemirror_mode": {
    "name": "ipython",
    "version": 3
   },
   "file_extension": ".py",
   "mimetype": "text/x-python",
   "name": "python",
   "nbconvert_exporter": "python",
   "pygments_lexer": "ipython3",
   "version": "3.10.18"
  }
 },
 "nbformat": 4,
 "nbformat_minor": 5
}
