{
 "cells": [
  {
   "cell_type": "markdown",
   "id": "ac1a57a7",
   "metadata": {},
   "source": [
    "<font style='color:red'>CH3. 연관분석</font>\n",
    "- pip install apyori\n",
    "\n",
    "# 1. 연관분석 개요\n",
    "- 데이터들 사이에 자주 발생하는 속성을 찾고, 그 속성들 사이에 연관성이 어느 정도 있는지 분석\n",
    "- 활용분야 : 이벤트 미리 감지(사기적발, ...), 신상품 카테고리 구성\n",
    "\n",
    "[조건 : left-hand side : 오렌지주스] ->[ 결과 : right-hand side : 와인]\n",
    "1. 지지도(support) : 얼마나 자주 함께 나타나는지\n",
    "    (lhs와 rhs)의 항목수 / 전체항목수 = 0.2(오렌지주스 계산한 값)\n",
    "2. 신뢰도(confidence) : 조건이 오면 결과가 얼마나 자주 나타나는지\n",
    "    (lhs_>rhs)의 항목수/lhs의 항목수 = 1/2 = 0.5\n",
    "3. 향상도(lift) : 우연히 발생한 규칙은 아닌지 확인\n",
    "    lhs->rhs의 항목 / (lhs의 지지도*rhs의 항목수)"
   ]
  },
  {
   "cell_type": "code",
   "execution_count": null,
   "id": "67970c26",
   "metadata": {},
   "outputs": [],
   "source": []
  },
  {
   "cell_type": "code",
   "execution_count": null,
   "id": "6e4fc214",
   "metadata": {},
   "outputs": [],
   "source": []
  },
  {
   "cell_type": "code",
   "execution_count": null,
   "id": "19311cb8",
   "metadata": {},
   "outputs": [],
   "source": []
  }
 ],
 "metadata": {
  "kernelspec": {
   "display_name": "ml-dl-nlp",
   "language": "python",
   "name": "python3"
  },
  "language_info": {
   "name": "python",
   "version": "3.10.18"
  }
 },
 "nbformat": 4,
 "nbformat_minor": 5
}
