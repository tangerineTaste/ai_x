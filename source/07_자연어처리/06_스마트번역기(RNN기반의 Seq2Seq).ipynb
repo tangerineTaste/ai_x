{
 "cells": [
  {
   "cell_type": "markdown",
   "id": "dca72799",
   "metadata": {},
   "source": [
    "# 인코더 LSTM과 디코더 LSTM(Sequence to Sequence)로 번역기 만들기\n",
    "- Google Neural MAchine Translation(GNMT)\n",
    "- RNN 기반의 Seq2Seq방식\n",
    "- 자연어 생성 알고리즘"
   ]
  },
  {
   "cell_type": "markdown",
   "id": "e3a0785b",
   "metadata": {
    "vscode": {
     "languageId": "plaintext"
    }
   },
   "source": [
    "## 1. 패키지 import 하이퍼파라미터\n",
    "- 하이퍼파라미터 : 모델의 정확도 및 학습속도에 영향을 미치는 변수"
   ]
  },
  {
   "cell_type": "code",
   "execution_count": 1,
   "id": "49065238",
   "metadata": {},
   "outputs": [],
   "source": [
    "import numpy as np\n",
    "import pandas as np"
   ]
  },
  {
   "cell_type": "code",
   "execution_count": null,
   "id": "8758c521",
   "metadata": {},
   "outputs": [],
   "source": []
  },
  {
   "cell_type": "code",
   "execution_count": null,
   "id": "82f1964c",
   "metadata": {},
   "outputs": [],
   "source": []
  },
  {
   "cell_type": "code",
   "execution_count": null,
   "id": "1ff6a578",
   "metadata": {},
   "outputs": [],
   "source": []
  },
  {
   "cell_type": "code",
   "execution_count": null,
   "id": "cbfe3eb6",
   "metadata": {},
   "outputs": [],
   "source": []
  },
  {
   "cell_type": "code",
   "execution_count": null,
   "id": "11d6740f",
   "metadata": {},
   "outputs": [],
   "source": []
  }
 ],
 "metadata": {
  "kernelspec": {
   "display_name": "ml-dl-nlp",
   "language": "python",
   "name": "python3"
  },
  "language_info": {
   "codemirror_mode": {
    "name": "ipython",
    "version": 3
   },
   "file_extension": ".py",
   "mimetype": "text/x-python",
   "name": "python",
   "nbconvert_exporter": "python",
   "pygments_lexer": "ipython3",
   "version": "3.10.18"
  }
 },
 "nbformat": 4,
 "nbformat_minor": 5
}
