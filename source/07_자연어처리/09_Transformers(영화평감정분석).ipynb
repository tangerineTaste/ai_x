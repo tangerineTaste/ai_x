{
 "cells": [
  {
   "cell_type": "markdown",
   "id": "e1d477b9",
   "metadata": {},
   "source": [
    "<font style='color:red'>CH9. Transformers</font>\n",
    "- 인코더 층만으로 구현(입력:자연어, 출력:긍정/부정)"
   ]
  },
  {
   "cell_type": "markdown",
   "id": "c098bb57",
   "metadata": {},
   "source": [
    "## 1. 패키지"
   ]
  },
  {
   "cell_type": "code",
   "execution_count": 1,
   "id": "bf8005bb",
   "metadata": {},
   "outputs": [
    {
     "name": "stderr",
     "output_type": "stream",
     "text": [
      "c:\\Users\\Admin\\anaconda3\\envs\\ml-dl-nlp\\lib\\site-packages\\requests\\__init__.py:86: RequestsDependencyWarning: Unable to find acceptable character detection dependency (chardet or charset_normalizer).\n",
      "  warnings.warn(\n"
     ]
    }
   ],
   "source": [
    "\n",
    "import numpy as np\n",
    "from keras.datasets import imdb\n",
    "from tensorflow.keras.preprocessing.sequence import pad_sequences\n",
    "\n",
    "from keras.models import Sequential, load_model\n",
    "from keras.layers import Dense, Embedding, LSTM, Dropout, GRU\n",
    "\n",
    "from sklearn.metrics import confusion_matrix, f1_score, precision_score,recall_score"
   ]
  },
  {
   "cell_type": "markdown",
   "id": "ebddd0a0",
   "metadata": {},
   "source": [
    "## 2. 하이퍼 파라미터 설정(이 파라미터를 바꾸면 정확도나 학습 속도에 차이남)"
   ]
  },
  {
   "cell_type": "code",
   "execution_count": 2,
   "id": "9ca2b852",
   "metadata": {},
   "outputs": [],
   "source": [
    "MY_WORDS = 10000 # imdb 데이터의 단어수\n",
    "MY_LENGTH = 80   # 영화평 단어수 80개만 독립변수\n",
    "MY_EMBED = 32    # Embedding layer의 결과 차원\n",
    "MY_HIDDEN = 64   # LSTM의 유닛수\n",
    "\n",
    "MY_EPOCH = 10    # 학습 수\n",
    "MY_BATCH = 200   # batch_size (fit이 매번 데이터를 가져오는 값)"
   ]
  },
  {
   "cell_type": "markdown",
   "id": "e0f7a552",
   "metadata": {},
   "source": [
    "## 3. 데티어불러오기"
   ]
  },
  {
   "cell_type": "code",
   "execution_count": 3,
   "id": "091f60bb",
   "metadata": {},
   "outputs": [],
   "source": [
    "\n",
    "(x_train, y_train), (x_test, y_test) = imdb.load_data(num_words=MY_WORDS)"
   ]
  },
  {
   "cell_type": "markdown",
   "id": "bdd610a1",
   "metadata": {},
   "source": [
    "## 4. 문자단어 -> 정수"
   ]
  },
  {
   "cell_type": "code",
   "execution_count": 4,
   "id": "d01c7c15",
   "metadata": {},
   "outputs": [],
   "source": [
    "word_to_id = imdb.get_word_index() # {'word':id}\n",
    "id_to_word = {}\n",
    "for word, value in word_to_id.items():\n",
    "    id_to_word[value] = word"
   ]
  },
  {
   "cell_type": "code",
   "execution_count": 5,
   "id": "a8bdd0db",
   "metadata": {},
   "outputs": [],
   "source": [
    "msg = 'What a wonderful movie'\n",
    "msg = msg.lower().split()\n",
    "# 1: 리뷰시작을 알리는 숫자, 2: 문자가 짤려서 잘못읽어옴, 3: padding 처리\n",
    "data = [1] + [word_to_id.get(m,-1)+3 for m in msg]"
   ]
  },
  {
   "cell_type": "markdown",
   "id": "753b5fc2",
   "metadata": {},
   "source": [
    "## 5. 숫자영화평 -> 자연어 영화평 return 함수"
   ]
  },
  {
   "cell_type": "code",
   "execution_count": 6,
   "id": "c9369bf7",
   "metadata": {},
   "outputs": [],
   "source": [
    "def decoding(review_num):\n",
    "    decoded = [id_to_word.get(num-3, '???') for num in review_num]\n",
    "    return ' '.join(decoded)"
   ]
  },
  {
   "cell_type": "markdown",
   "id": "a2e4402c",
   "metadata": {},
   "source": [
    "## 6. 영화평 (독립변수)의 길이"
   ]
  },
  {
   "cell_type": "code",
   "execution_count": 7,
   "id": "c7691c6d",
   "metadata": {},
   "outputs": [],
   "source": [
    "def show_length(x_train):\n",
    "    print('첫 20개 영화평 길이')\n",
    "    print([len(x_data) for x_data in x_train[:20]])"
   ]
  },
  {
   "cell_type": "markdown",
   "id": "f2cae0d6",
   "metadata": {},
   "source": [
    "## 7. 모든 영화평 길이를 동일하게(80)"
   ]
  },
  {
   "cell_type": "code",
   "execution_count": 8,
   "id": "9729bf6b",
   "metadata": {},
   "outputs": [
    {
     "name": "stdout",
     "output_type": "stream",
     "text": [
      "첫 20개 영화평 길이\n",
      "[80, 80, 80, 80, 80, 80, 80, 80, 80, 80, 80, 80, 80, 80, 80, 80, 80, 80, 80, 80]\n",
      "첫 20개 영화평 길이\n",
      "[80, 80, 80, 80, 80, 80, 80, 80, 80, 80, 80, 80, 80, 80, 80, 80, 80, 80, 80, 80]\n"
     ]
    },
    {
     "data": {
      "text/plain": [
       "(None, None)"
      ]
     },
     "execution_count": 8,
     "metadata": {},
     "output_type": "execute_result"
    }
   ],
   "source": [
    "X_train = pad_sequences(x_train, padding='pre',truncating='pre',maxlen=MY_LENGTH)\n",
    "X_test = pad_sequences(x_test, padding='pre',truncating='pre',maxlen=MY_LENGTH)\n",
    "show_length(X_train), show_length(X_test)"
   ]
  },
  {
   "cell_type": "markdown",
   "id": "d064a001",
   "metadata": {},
   "source": [
    "## 8. 최종 데이터 shape 확인"
   ]
  },
  {
   "cell_type": "code",
   "execution_count": 9,
   "id": "c0601c6e",
   "metadata": {},
   "outputs": [
    {
     "data": {
      "text/plain": [
       "((25000, 80), (25000,), (25000, 80), (25000,))"
      ]
     },
     "execution_count": 9,
     "metadata": {},
     "output_type": "execute_result"
    }
   ],
   "source": [
    "X_train.shape, y_train.shape, X_test.shape, y_test.shape"
   ]
  },
  {
   "cell_type": "markdown",
   "id": "3c382fdc",
   "metadata": {},
   "source": [
    "## 9. 모델 생성(LSTM)"
   ]
  },
  {
   "cell_type": "code",
   "execution_count": 33,
   "id": "b7359f46",
   "metadata": {},
   "outputs": [
    {
     "name": "stdout",
     "output_type": "stream",
     "text": [
      "Model: \"sequential_1\"\n",
      "_________________________________________________________________\n",
      " Layer (type)                Output Shape              Param #   \n",
      "=================================================================\n",
      " embedding_1 (Embedding)     (None, 80, 32)            320000    \n",
      "                                                                 \n",
      " dropout_1 (Dropout)         (None, 80, 32)            0         \n",
      "                                                                 \n",
      " gru_1 (GRU)                 (None, 64)                18816     \n",
      "                                                                 \n",
      " dense_1 (Dense)             (None, 1)                 65        \n",
      "                                                                 \n",
      "=================================================================\n",
      "Total params: 338,881\n",
      "Trainable params: 338,881\n",
      "Non-trainable params: 0\n",
      "_________________________________________________________________\n"
     ]
    }
   ],
   "source": [
    "model = Sequential()\n",
    "model.add(Embedding(input_dim=MY_WORDS,     # 10000\n",
    "                    output_dim=MY_EMBED,    # 32\n",
    "                    input_length=MY_LENGTH))# 80\n",
    "# RNN : 입력 단어의 길이 수가 너무 길면 파라미터 업데이트 안 됨\n",
    "# 개선모델1 . LSTM 개선모델2. GRU\n",
    "model.add(Dropout(0.4))\n",
    "model.add(GRU(units=MY_HIDDEN,\n",
    "               input_shape=(MY_LENGTH,MY_EMBED)))\n",
    "\n",
    "model.add(Dense(units=1, activation='sigmoid'))\n",
    "model.summary()"
   ]
  },
  {
   "cell_type": "markdown",
   "id": "08dadb75",
   "metadata": {},
   "source": [
    "## 9. 모델 생성(Transformers)"
   ]
  },
  {
   "cell_type": "code",
   "execution_count": 10,
   "id": "2c66d68c",
   "metadata": {},
   "outputs": [
    {
     "name": "stdout",
     "output_type": "stream",
     "text": [
      "Model: \"model\"\n",
      "__________________________________________________________________________________________________\n",
      " Layer (type)                   Output Shape         Param #     Connected to                     \n",
      "==================================================================================================\n",
      " input_1 (InputLayer)           [(None, 80)]         0           []                               \n",
      "                                                                                                  \n",
      " embedding (Embedding)          (None, 80, 32)       320000      ['input_1[0][0]']                \n",
      "                                                                                                  \n",
      " tf.__operators__.add (TFOpLamb  (None, 80, 32)      0           ['embedding[0][0]']              \n",
      " da)                                                                                              \n",
      "                                                                                                  \n",
      " multi_head_attention (MultiHea  (None, 80, 32)      12608       ['tf.__operators__.add[0][0]',   \n",
      " dAttention)                                                      'tf.__operators__.add[0][0]']   \n",
      "                                                                                                  \n",
      " add (Add)                      (None, 80, 32)       0           ['tf.__operators__.add[0][0]',   \n",
      "                                                                  'multi_head_attention[0][0]']   \n",
      "                                                                                                  \n",
      " batch_normalization (BatchNorm  (None, 80, 32)      128         ['add[0][0]']                    \n",
      " alization)                                                                                       \n",
      "                                                                                                  \n",
      " sequential (Sequential)        (None, 80, 32)       4192        ['batch_normalization[0][0]']    \n",
      "                                                                                                  \n",
      " add_1 (Add)                    (None, 80, 32)       0           ['sequential[0][0]',             \n",
      "                                                                  'batch_normalization[0][0]']    \n",
      "                                                                                                  \n",
      " batch_normalization_1 (BatchNo  (None, 80, 32)      128         ['add_1[0][0]']                  \n",
      " rmalization)                                                                                     \n",
      "                                                                                                  \n",
      " global_average_pooling1d (Glob  (None, 32)          0           ['batch_normalization_1[0][0]']  \n",
      " alAveragePooling1D)                                                                              \n",
      "                                                                                                  \n",
      " dropout (Dropout)              (None, 32)           0           ['global_average_pooling1d[0][0]'\n",
      "                                                                 ]                                \n",
      "                                                                                                  \n",
      " dense_2 (Dense)                (None, 64)           2112        ['dropout[0][0]']                \n",
      "                                                                                                  \n",
      " dropout_1 (Dropout)            (None, 64)           0           ['dense_2[0][0]']                \n",
      "                                                                                                  \n",
      " dense_3 (Dense)                (None, 2)            130         ['dropout_1[0][0]']              \n",
      "                                                                                                  \n",
      "==================================================================================================\n",
      "Total params: 339,298\n",
      "Trainable params: 339,170\n",
      "Non-trainable params: 128\n",
      "__________________________________________________________________________________________________\n"
     ]
    }
   ],
   "source": [
    "import tensorflow as tf\n",
    "from keras import layers\n",
    "from keras.models import Sequential, Model\n",
    "INPUTS = layers.Input(shape=(MY_LENGTH,)) # 80\n",
    "INPUT_EMBEDDING = layers.Embedding(input_dim=MY_WORDS, # 10000\n",
    "output_dim=MY_EMBED)(INPUTS)# 32\n",
    "\n",
    "# Positional Encoding\n",
    "POSITIONS = tf.range(start=0,\n",
    "limit=MY_LENGTH)\n",
    "POS_ENCODING = layers.Embedding(input_dim=MY_LENGTH, output_dim=MY_EMBED)(POSITIONS)\n",
    "POS_ENC_OUTPUT = POS_ENCODING + INPUT_EMBEDDING\n",
    "ATTENTION_OUTPUT = layers.MultiHeadAttention(num_heads=3,\n",
    "key_dim=MY_EMBED)(POS_ENC_OUTPUT,\n",
    "POS_ENC_OUTPUT)\n",
    "X = layers.add([POS_ENC_OUTPUT, ATTENTION_OUTPUT])\n",
    "X = layers.BatchNormalization()(X)\n",
    "\n",
    "# FeedForward Network\n",
    "FFN = Sequential([layers.Dense(MY_HIDDEN, activation=\"relu\"),\n",
    "layers.Dense(MY_EMBED, activation=\"relu\")])(X)\n",
    "X = layers.add([FFN, X])\n",
    "X = layers.BatchNormalization()(X)\n",
    "\n",
    "# 하나의 벡터로 압축해서 Dense로 보내줌\n",
    "X = layers.GlobalAveragePooling1D()(X)\n",
    "X = layers.Dropout(0.1)(X)\n",
    "X = layers.Dense(MY_HIDDEN, activation=\"relu\")(X)\n",
    "X = layers.Dropout(0.1)(X)\n",
    "OUTPUTS = layers.Dense(2, activation=\"softmax\")(X)\n",
    "model = Model(inputs=INPUTS, outputs=OUTPUTS)\n",
    "model.summary()"
   ]
  },
  {
   "cell_type": "markdown",
   "id": "97b4169f",
   "metadata": {},
   "source": [
    "## 10. 학습환경 설정 및 학습하기"
   ]
  },
  {
   "cell_type": "code",
   "execution_count": 12,
   "id": "3d8d9549",
   "metadata": {},
   "outputs": [
    {
     "name": "stdout",
     "output_type": "stream",
     "text": [
      "Epoch 1/5\n",
      "100/100 [==============================] - 17s 162ms/step - loss: 0.4671 - acc: 0.7728 - val_loss: 0.6214 - val_acc: 0.6394\n",
      "Epoch 2/5\n",
      "100/100 [==============================] - 16s 162ms/step - loss: 0.2800 - acc: 0.8846 - val_loss: 0.5604 - val_acc: 0.7724\n",
      "Epoch 3/5\n",
      "100/100 [==============================] - 16s 160ms/step - loss: 0.2191 - acc: 0.9135 - val_loss: 0.5003 - val_acc: 0.7768\n",
      "Epoch 4/5\n",
      "100/100 [==============================] - 16s 163ms/step - loss: 0.1774 - acc: 0.9298 - val_loss: 0.4193 - val_acc: 0.8144\n",
      "Epoch 5/5\n",
      "100/100 [==============================] - 17s 165ms/step - loss: 0.1412 - acc: 0.9406 - val_loss: 0.5307 - val_acc: 0.8022\n"
     ]
    }
   ],
   "source": [
    "#model.compile(loss='binary_crossentropy', optimizer='adam', metrics=['acc'])\n",
    "model.compile(loss='sparse_categorical_crossentropy', optimizer='adam', metrics=['acc'])\n",
    "\n",
    "hist = model.fit(X_train, y_train, epochs=5, batch_size=MY_BATCH, validation_split=0.2)"
   ]
  },
  {
   "cell_type": "code",
   "execution_count": 13,
   "id": "46bcc2ab",
   "metadata": {},
   "outputs": [
    {
     "data": {
      "text/plain": [
       "<matplotlib.legend.Legend at 0x224b5ee24d0>"
      ]
     },
     "execution_count": 13,
     "metadata": {},
     "output_type": "execute_result"
    },
    {
     "data": {
      "image/png": "[encoded data removed]",
      "text/plain": [
       "<Figure size 800x500 with 2 Axes>"
      ]
     },
     "metadata": {},
     "output_type": "display_data"
    }
   ],
   "source": [
    "import matplotlib.pyplot as plt\n",
    "fig, loss_ax = plt.subplots(figsize=(8,5))\n",
    "loss_ax.plot(hist.history['loss'], 'y', label='train loss')\n",
    "loss_ax.plot(hist.history['val_loss'], 'r', label='val loss')\n",
    "acc_ax =loss_ax.twinx()\n",
    "acc_ax.plot(hist.history['acc'], 'g', label='train accracy')\n",
    "acc_ax.plot(hist.history['val_acc'], 'b', label='val accracy')\n",
    "loss_ax.set_xlabel('epochs')\n",
    "loss_ax.set_ylabel('loss')\n",
    "acc_ax.set_ylabel('accuracy')\n",
    "loss_ax.legend(loc = 'center right')\n",
    "acc_ax.legend(loc = 'center')\n"
   ]
  },
  {
   "cell_type": "markdown",
   "id": "816881e0",
   "metadata": {},
   "source": [
    "# 11. 모델 평가하기"
   ]
  },
  {
   "cell_type": "code",
   "execution_count": 122,
   "id": "19d35df9",
   "metadata": {},
   "outputs": [
    {
     "name": "stdout",
     "output_type": "stream",
     "text": [
      "782/782 [==============================] - 10s 13ms/step\n",
      "[0 1 1 ... 0 0 1]\n"
     ]
    }
   ],
   "source": [
    "# 혼동행렬, recall, precision을 위한 yhat\n",
    "y_hat = (model.predict(X_test)>0.5).astype(np.int16)\n",
    "print(y_hat.reshape(-1))"
   ]
  },
  {
   "cell_type": "code",
   "execution_count": 124,
   "id": "94a522b7",
   "metadata": {},
   "outputs": [
    {
     "data": {
      "text/plain": [
       "array([[10246,  2254],\n",
       "       [ 2579,  9921]], dtype=int64)"
      ]
     },
     "execution_count": 124,
     "metadata": {},
     "output_type": "execute_result"
    }
   ],
   "source": [
    "# 혼동행렬\n",
    "confusion_matrix(y_test, y_hat)"
   ]
  },
  {
   "cell_type": "code",
   "execution_count": null,
   "id": "d73a4061",
   "metadata": {},
   "outputs": [
    {
     "data": {
      "text/plain": [
       "0.79368"
      ]
     },
     "execution_count": 125,
     "metadata": {},
     "output_type": "execute_result"
    }
   ],
   "source": [
    "# recall (실제 True인 것 중 True로 예측한 비율)\n",
    "recall_score(y_test, y_hat)\n"
   ]
  },
  {
   "cell_type": "code",
   "execution_count": 126,
   "id": "e23beb82",
   "metadata": {},
   "outputs": [
    {
     "data": {
      "text/plain": [
       "0.8148665297741273"
      ]
     },
     "execution_count": 126,
     "metadata": {},
     "output_type": "execute_result"
    }
   ],
   "source": [
    "# precisioin(True로 예측한 것 중 실제값을 False로 예측한 비율)\n",
    "precision_score(y_test, y_hat)"
   ]
  },
  {
   "cell_type": "code",
   "execution_count": 3,
   "id": "44c7ec62",
   "metadata": {},
   "outputs": [],
   "source": [
    "model = load_model('data/영화감정평가.h5')"
   ]
  },
  {
   "cell_type": "markdown",
   "id": "63b264d5",
   "metadata": {},
   "source": [
    "# 11.모델 사용"
   ]
  },
  {
   "cell_type": "code",
   "execution_count": 36,
   "id": "dfedab3d",
   "metadata": {},
   "outputs": [
    {
     "name": "stdout",
     "output_type": "stream",
     "text": [
      "영화평(특수문자 제외) : the movie was so boring that i slept the whole time watching it\n"
     ]
    }
   ],
   "source": [
    "import re\n",
    "review = 'The movie was so boring that I slept the whole time watching it'.lower()\n",
    "review = re.sub('[^a-zA-Z\\'\\s]', ' ', review)\n",
    "print('영화평(특수문자 제외) :',review)\n",
    "review = review.split()\n",
    "review = [1] + [word_to_id.get(word,-1)+3 for word in review]"
   ]
  },
  {
   "cell_type": "code",
   "execution_count": 37,
   "id": "158c5680",
   "metadata": {},
   "outputs": [],
   "source": [
    "input_data = pad_sequences([review], padding='pre',truncating='pre',maxlen=MY_LENGTH)"
   ]
  },
  {
   "cell_type": "code",
   "execution_count": null,
   "id": "365201b3",
   "metadata": {},
   "outputs": [
    {
     "name": "stdout",
     "output_type": "stream",
     "text": [
      "1/1 [==============================] - 0s 361ms/step\n"
     ]
    },
    {
     "data": {
      "text/plain": [
       "0"
      ]
     },
     "execution_count": 38,
     "metadata": {},
     "output_type": "execute_result"
    }
   ],
   "source": [
    "result = model.predict(input_data > 0.5).astype('int8').reshape(-1)[0]\n",
    "result"
   ]
  },
  {
   "cell_type": "code",
   "execution_count": null,
   "id": "3cb35b2f",
   "metadata": {},
   "outputs": [],
   "source": []
  }
 ],
 "metadata": {
  "kernelspec": {
   "display_name": "ml-dl-nlp",
   "language": "python",
   "name": "python3"
  },
  "language_info": {
   "codemirror_mode": {
    "name": "ipython",
    "version": 3
   },
   "file_extension": ".py",
   "mimetype": "text/x-python",
   "name": "python",
   "nbconvert_exporter": "python",
   "pygments_lexer": "ipython3",
   "version": "3.10.18"
  }
 },
 "nbformat": 4,
 "nbformat_minor": 5
}
