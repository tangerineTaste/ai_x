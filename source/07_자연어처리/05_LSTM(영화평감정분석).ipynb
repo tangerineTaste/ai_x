{
 "cells": [
  {
   "cell_type": "markdown",
   "id": "e1d477b9",
   "metadata": {},
   "source": [
    "<font style='color:red'>CH5. LSTM/GRU</font>\n",
    "- 5만개 영화 감상평(독립변수) -> 부정/긍정(종속변수)"
   ]
  },
  {
   "cell_type": "markdown",
   "id": "c098bb57",
   "metadata": {},
   "source": [
    "## 1. 패키지"
   ]
  },
  {
   "cell_type": "code",
   "execution_count": 15,
   "id": "bf8005bb",
   "metadata": {},
   "outputs": [],
   "source": [
    "\n",
    "import numpy as np\n",
    "from keras.datasets import imdb\n",
    "from tensorflow.keras.preprocessing.sequence import pad_sequences\n",
    "\n",
    "from keras.models import Sequential, load_model\n",
    "from keras.layers import Dense, Embedding, LSTM, Dropout, GRU\n",
    "\n",
    "from sklearn.metrics import confusion_matrix, f1_score, precision_score,recall_score"
   ]
  },
  {
   "cell_type": "markdown",
   "id": "ebddd0a0",
   "metadata": {},
   "source": [
    "## 2. 하이퍼 파라미터 설정(이 파라미터를 바꾸면 정확도나 학습 속도에 차이남)"
   ]
  },
  {
   "cell_type": "code",
   "execution_count": 18,
   "id": "9ca2b852",
   "metadata": {},
   "outputs": [],
   "source": [
    "MY_WORDS = 10000 # imdb 데이터의 단어수\n",
    "MY_LENGTH = 80   # 영화평 단어수 80개만 독립변수\n",
    "MY_EMBED = 32    # Embedding layer의 결과 차원\n",
    "MY_HIDDEN = 64   # LSTM의 유닛수\n",
    "\n",
    "MY_EPOCH = 10    # 학습 수\n",
    "MY_BATCH = 200   # batch_size (fit이 매번 데이터를 가져오는 값)"
   ]
  },
  {
   "cell_type": "markdown",
   "id": "e0f7a552",
   "metadata": {},
   "source": [
    "## 3. 데티어불러오기"
   ]
  },
  {
   "cell_type": "code",
   "execution_count": 19,
   "id": "091f60bb",
   "metadata": {},
   "outputs": [],
   "source": [
    "\n",
    "(x_train, y_train), (x_test, y_test) = imdb.load_data(num_words=MY_WORDS)"
   ]
  },
  {
   "cell_type": "code",
   "execution_count": 20,
   "id": "0f4eb6eb",
   "metadata": {},
   "outputs": [
    {
     "name": "stdout",
     "output_type": "stream",
     "text": [
      "학습용 독립변수 모양 : (25000,)\n",
      "학습용 종속변수 모양 : (25000,)\n",
      "학습셋 샘플 : 218\n"
     ]
    }
   ],
   "source": [
    "print('학습용 독립변수 모양 :',x_train.shape)\n",
    "print('학습용 종속변수 모양 :',y_train.shape)\n",
    "print('학습셋 샘플 :',len(x_train[0]))"
   ]
  },
  {
   "cell_type": "code",
   "execution_count": 21,
   "id": "7648e8d4",
   "metadata": {},
   "outputs": [
    {
     "name": "stdout",
     "output_type": "stream",
     "text": [
      "학습셋의 긍정 갯수 : 12500\n",
      "테스트셋의 긍정 갯수 : 12500\n"
     ]
    }
   ],
   "source": [
    "# 긍정/부정 갯수\n",
    "print('학습셋의 긍정 갯수 :', y_train.sum())\n",
    "print('테스트셋의 긍정 갯수 :', y_test.sum())"
   ]
  },
  {
   "cell_type": "markdown",
   "id": "bdd610a1",
   "metadata": {},
   "source": [
    "## 4. 문자단어 -> 정수"
   ]
  },
  {
   "cell_type": "code",
   "execution_count": 22,
   "id": "d01c7c15",
   "metadata": {},
   "outputs": [
    {
     "name": "stdout",
     "output_type": "stream",
     "text": [
      "17\n",
      "19\n",
      "16816\n",
      "3\n",
      "1\n",
      "the\n"
     ]
    }
   ],
   "source": [
    "word_to_id = imdb.get_word_index() # {'word':id}\n",
    "print(word_to_id['movie'])\n",
    "print(word_to_id['film'])\n",
    "print(word_to_id['sonja'])\n",
    "print(word_to_id['a'])\n",
    "print(word_to_id['the'])\n",
    "id_to_word = {}\n",
    "for word, value in word_to_id.items():\n",
    "    id_to_word[value] = word\n",
    "print(id_to_word[1])\n",
    "# 정수 -> 문자 단어"
   ]
  },
  {
   "cell_type": "code",
   "execution_count": 23,
   "id": "a8bdd0db",
   "metadata": {},
   "outputs": [
    {
     "name": "stdout",
     "output_type": "stream",
     "text": [
      "원 후기 내용 : ['what', 'a', 'wonderful', 'movie']\n",
      "encoded된 data : [1, 51, 6, 389, 20]\n",
      "추정된 data : ??? what a wonderful movie\n"
     ]
    }
   ],
   "source": [
    "msg = 'What a wonderful movie'\n",
    "msg = msg.lower().split()\n",
    "# 1: 리뷰시작을 알리는 숫자, 2: 문자가 짤려서 잘못읽어옴, 3: padding 처리\n",
    "data = [1] + [word_to_id.get(m,-1)+3 for m in msg]\n",
    "print('원 후기 내용 :', msg)\n",
    "print('encoded된 data :' ,data)\n",
    "print('추정된 data :', ' '.join([id_to_word.get(d-3, '???') for d in data]))"
   ]
  },
  {
   "cell_type": "markdown",
   "id": "753b5fc2",
   "metadata": {},
   "source": [
    "## 5. 숫자영화평 -> 자연어 영화평 return 함수"
   ]
  },
  {
   "cell_type": "code",
   "execution_count": 24,
   "id": "c9369bf7",
   "metadata": {},
   "outputs": [],
   "source": [
    "def decoding(review_num):\n",
    "    decoded = [id_to_word.get(num-3, '???') for num in review_num]\n",
    "    return ' '.join(decoded)"
   ]
  },
  {
   "cell_type": "code",
   "execution_count": 25,
   "id": "b653df0b",
   "metadata": {},
   "outputs": [
    {
     "name": "stdout",
     "output_type": "stream",
     "text": [
      "??? this film was just brilliant casting location scenery story direction everyone's really suited the part they played and you could just imagine being there robert ??? is an amazing actor and now the same being director ??? father came from the same scottish island as myself so i loved the fact there was a real connection with this film the witty remarks throughout the film were great it was just brilliant so much that i bought the film as soon as it was released for ??? and would recommend it to everyone to watch and the fly fishing was amazing really cried at the end it was so sad and you know what they say if you cry at a film it must have been good and this definitely was also ??? to the two little boy's that played the ??? of norman and paul they were just brilliant children are often left out of the ??? list i think because the stars that play them all grown up are such a big profile for the whole film but these children are amazing and should be praised for what they have done don't you think the whole story was so lovely because it was true and was someone's life after all that was shared with us all \n",
      " 1\n"
     ]
    }
   ],
   "source": [
    "print(decoding(x_train[0]),'\\n', y_train[0])"
   ]
  },
  {
   "cell_type": "code",
   "execution_count": 26,
   "id": "e1a29e5d",
   "metadata": {},
   "outputs": [
    {
     "data": {
      "text/plain": [
       "[1,\n",
       " 14,\n",
       " 22,\n",
       " 16,\n",
       " 43,\n",
       " 530,\n",
       " 973,\n",
       " 1622,\n",
       " 1385,\n",
       " 65,\n",
       " 458,\n",
       " 4468,\n",
       " 66,\n",
       " 3941,\n",
       " 4,\n",
       " 173,\n",
       " 36,\n",
       " 256,\n",
       " 5,\n",
       " 25,\n",
       " 100,\n",
       " 43,\n",
       " 838,\n",
       " 112,\n",
       " 50,\n",
       " 670,\n",
       " 2,\n",
       " 9,\n",
       " 35,\n",
       " 480,\n",
       " 284,\n",
       " 5,\n",
       " 150,\n",
       " 4,\n",
       " 172,\n",
       " 112,\n",
       " 167,\n",
       " 2,\n",
       " 336,\n",
       " 385,\n",
       " 39,\n",
       " 4,\n",
       " 172,\n",
       " 4536,\n",
       " 1111,\n",
       " 17,\n",
       " 546,\n",
       " 38,\n",
       " 13,\n",
       " 447,\n",
       " 4,\n",
       " 192,\n",
       " 50,\n",
       " 16,\n",
       " 6,\n",
       " 147,\n",
       " 2025,\n",
       " 19,\n",
       " 14,\n",
       " 22,\n",
       " 4,\n",
       " 1920,\n",
       " 4613,\n",
       " 469,\n",
       " 4,\n",
       " 22,\n",
       " 71,\n",
       " 87,\n",
       " 12,\n",
       " 16,\n",
       " 43,\n",
       " 530,\n",
       " 38,\n",
       " 76,\n",
       " 15,\n",
       " 13,\n",
       " 1247,\n",
       " 4,\n",
       " 22,\n",
       " 17,\n",
       " 515,\n",
       " 17,\n",
       " 12,\n",
       " 16,\n",
       " 626,\n",
       " 18,\n",
       " 2,\n",
       " 5,\n",
       " 62,\n",
       " 386,\n",
       " 12,\n",
       " 8,\n",
       " 316,\n",
       " 8,\n",
       " 106,\n",
       " 5,\n",
       " 4,\n",
       " 2223,\n",
       " 5244,\n",
       " 16,\n",
       " 480,\n",
       " 66,\n",
       " 3785,\n",
       " 33,\n",
       " 4,\n",
       " 130,\n",
       " 12,\n",
       " 16,\n",
       " 38,\n",
       " 619,\n",
       " 5,\n",
       " 25,\n",
       " 124,\n",
       " 51,\n",
       " 36,\n",
       " 135,\n",
       " 48,\n",
       " 25,\n",
       " 1415,\n",
       " 33,\n",
       " 6,\n",
       " 22,\n",
       " 12,\n",
       " 215,\n",
       " 28,\n",
       " 77,\n",
       " 52,\n",
       " 5,\n",
       " 14,\n",
       " 407,\n",
       " 16,\n",
       " 82,\n",
       " 2,\n",
       " 8,\n",
       " 4,\n",
       " 107,\n",
       " 117,\n",
       " 5952,\n",
       " 15,\n",
       " 256,\n",
       " 4,\n",
       " 2,\n",
       " 7,\n",
       " 3766,\n",
       " 5,\n",
       " 723,\n",
       " 36,\n",
       " 71,\n",
       " 43,\n",
       " 530,\n",
       " 476,\n",
       " 26,\n",
       " 400,\n",
       " 317,\n",
       " 46,\n",
       " 7,\n",
       " 4,\n",
       " 2,\n",
       " 1029,\n",
       " 13,\n",
       " 104,\n",
       " 88,\n",
       " 4,\n",
       " 381,\n",
       " 15,\n",
       " 297,\n",
       " 98,\n",
       " 32,\n",
       " 2071,\n",
       " 56,\n",
       " 26,\n",
       " 141,\n",
       " 6,\n",
       " 194,\n",
       " 7486,\n",
       " 18,\n",
       " 4,\n",
       " 226,\n",
       " 22,\n",
       " 21,\n",
       " 134,\n",
       " 476,\n",
       " 26,\n",
       " 480,\n",
       " 5,\n",
       " 144,\n",
       " 30,\n",
       " 5535,\n",
       " 18,\n",
       " 51,\n",
       " 36,\n",
       " 28,\n",
       " 224,\n",
       " 92,\n",
       " 25,\n",
       " 104,\n",
       " 4,\n",
       " 226,\n",
       " 65,\n",
       " 16,\n",
       " 38,\n",
       " 1334,\n",
       " 88,\n",
       " 12,\n",
       " 16,\n",
       " 283,\n",
       " 5,\n",
       " 16,\n",
       " 4472,\n",
       " 113,\n",
       " 103,\n",
       " 32,\n",
       " 15,\n",
       " 16,\n",
       " 5345,\n",
       " 19,\n",
       " 178,\n",
       " 32]"
      ]
     },
     "execution_count": 26,
     "metadata": {},
     "output_type": "execute_result"
    }
   ],
   "source": [
    "x_train[0]"
   ]
  },
  {
   "cell_type": "markdown",
   "id": "a2e4402c",
   "metadata": {},
   "source": [
    "## 6. 영화평 (독립변수)의 길이"
   ]
  },
  {
   "cell_type": "code",
   "execution_count": 29,
   "id": "c7691c6d",
   "metadata": {},
   "outputs": [],
   "source": [
    "def show_length(x_train):\n",
    "    print('첫 20개 영화평 길이')\n",
    "    print([len(x_data) for x_data in x_train[:20]])"
   ]
  },
  {
   "cell_type": "code",
   "execution_count": null,
   "id": "ad041895",
   "metadata": {},
   "outputs": [],
   "source": []
  },
  {
   "cell_type": "code",
   "execution_count": 30,
   "id": "147f1fb5",
   "metadata": {},
   "outputs": [
    {
     "name": "stdout",
     "output_type": "stream",
     "text": [
      "제일 긴 영화평 단어 길이 : 2494\n",
      "제일 짧 영화평 단어 길이 : 11\n",
      "영화평 단어 길이 중위수 : 178.0\n"
     ]
    }
   ],
   "source": [
    "print('제일 긴 영화평 단어 길이 :', max(len(x_data) for x_data in x_train))\n",
    "print('제일 짧 영화평 단어 길이 :', min(len(x_data) for x_data in x_train))\n",
    "print('영화평 단어 길이 중위수 :',np.median([len(x_data) for x_data in x_train]))"
   ]
  },
  {
   "cell_type": "markdown",
   "id": "f2cae0d6",
   "metadata": {},
   "source": [
    "## 7. 모든 영화평 길이를 동일하게(80)"
   ]
  },
  {
   "cell_type": "code",
   "execution_count": 31,
   "id": "9729bf6b",
   "metadata": {},
   "outputs": [
    {
     "name": "stdout",
     "output_type": "stream",
     "text": [
      "첫 20개 영화평 길이\n",
      "[80, 80, 80, 80, 80, 80, 80, 80, 80, 80, 80, 80, 80, 80, 80, 80, 80, 80, 80, 80]\n",
      "첫 20개 영화평 길이\n",
      "[80, 80, 80, 80, 80, 80, 80, 80, 80, 80, 80, 80, 80, 80, 80, 80, 80, 80, 80, 80]\n"
     ]
    },
    {
     "data": {
      "text/plain": [
       "(None, None)"
      ]
     },
     "execution_count": 31,
     "metadata": {},
     "output_type": "execute_result"
    }
   ],
   "source": [
    "X_train = pad_sequences(x_train, padding='pre',truncating='pre',maxlen=MY_LENGTH)\n",
    "X_test = pad_sequences(x_test, padding='pre',truncating='pre',maxlen=MY_LENGTH)\n",
    "show_length(X_train), show_length(X_test)"
   ]
  },
  {
   "cell_type": "markdown",
   "id": "d064a001",
   "metadata": {},
   "source": [
    "## 8. 최종 데이터 shape 확인"
   ]
  },
  {
   "cell_type": "code",
   "execution_count": 32,
   "id": "c0601c6e",
   "metadata": {},
   "outputs": [
    {
     "data": {
      "text/plain": [
       "((25000, 80), (25000,), (25000, 80), (25000,))"
      ]
     },
     "execution_count": 32,
     "metadata": {},
     "output_type": "execute_result"
    }
   ],
   "source": [
    "X_train.shape, y_train.shape, X_test.shape, y_test.shape"
   ]
  },
  {
   "cell_type": "markdown",
   "id": "3c382fdc",
   "metadata": {},
   "source": [
    "## 9. 모델 생성"
   ]
  },
  {
   "cell_type": "code",
   "execution_count": 33,
   "id": "b7359f46",
   "metadata": {},
   "outputs": [
    {
     "name": "stdout",
     "output_type": "stream",
     "text": [
      "Model: \"sequential_1\"\n",
      "_________________________________________________________________\n",
      " Layer (type)                Output Shape              Param #   \n",
      "=================================================================\n",
      " embedding_1 (Embedding)     (None, 80, 32)            320000    \n",
      "                                                                 \n",
      " dropout_1 (Dropout)         (None, 80, 32)            0         \n",
      "                                                                 \n",
      " gru_1 (GRU)                 (None, 64)                18816     \n",
      "                                                                 \n",
      " dense_1 (Dense)             (None, 1)                 65        \n",
      "                                                                 \n",
      "=================================================================\n",
      "Total params: 338,881\n",
      "Trainable params: 338,881\n",
      "Non-trainable params: 0\n",
      "_________________________________________________________________\n"
     ]
    }
   ],
   "source": [
    "model = Sequential()\n",
    "model.add(Embedding(input_dim=MY_WORDS,     # 10000\n",
    "                    output_dim=MY_EMBED,    # 32\n",
    "                    input_length=MY_LENGTH))# 80\n",
    "# RNN : 입력 단어의 길이 수가 너무 길면 파라미터 업데이트 안 됨\n",
    "# 개선모델1 . LSTM 개선모델2. GRU\n",
    "model.add(Dropout(0.4))\n",
    "model.add(GRU(units=MY_HIDDEN,\n",
    "               input_shape=(MY_LENGTH,MY_EMBED)))\n",
    "\n",
    "model.add(Dense(units=1, activation='sigmoid'))\n",
    "model.summary()"
   ]
  },
  {
   "cell_type": "markdown",
   "id": "97b4169f",
   "metadata": {},
   "source": [
    "## 10. 학습환경 설정 및 학습하기"
   ]
  },
  {
   "cell_type": "code",
   "execution_count": 34,
   "id": "3d8d9549",
   "metadata": {},
   "outputs": [
    {
     "name": "stdout",
     "output_type": "stream",
     "text": [
      "Epoch 1/5\n",
      "100/100 [==============================] - 10s 88ms/step - loss: 0.5830 - acc: 0.6650 - val_loss: 0.4019 - val_acc: 0.8230\n",
      "Epoch 2/5\n",
      "100/100 [==============================] - 8s 85ms/step - loss: 0.3369 - acc: 0.8536 - val_loss: 0.3624 - val_acc: 0.8428\n",
      "Epoch 3/5\n",
      "100/100 [==============================] - 8s 83ms/step - loss: 0.2719 - acc: 0.8924 - val_loss: 0.3644 - val_acc: 0.8370\n",
      "Epoch 4/5\n",
      "100/100 [==============================] - 8s 83ms/step - loss: 0.2322 - acc: 0.9083 - val_loss: 0.3821 - val_acc: 0.8352\n",
      "Epoch 5/5\n",
      "100/100 [==============================] - 8s 83ms/step - loss: 0.2054 - acc: 0.9221 - val_loss: 0.4163 - val_acc: 0.8278\n"
     ]
    }
   ],
   "source": [
    "model.compile(loss='binary_crossentropy', optimizer='adam', metrics=['acc'])\n",
    "\n",
    "hist = model.fit(X_train, y_train, epochs=5, batch_size=MY_BATCH, validation_split=0.2)"
   ]
  },
  {
   "cell_type": "code",
   "execution_count": 35,
   "id": "46bcc2ab",
   "metadata": {},
   "outputs": [
    {
     "data": {
      "text/plain": [
       "<matplotlib.legend.Legend at 0x21201d57cd0>"
      ]
     },
     "execution_count": 35,
     "metadata": {},
     "output_type": "execute_result"
    },
    {
     "data": {
      "image/png": "[encoded data removed]",
      "text/plain": [
       "<Figure size 800x500 with 2 Axes>"
      ]
     },
     "metadata": {},
     "output_type": "display_data"
    }
   ],
   "source": [
    "import matplotlib.pyplot as plt\n",
    "fig, loss_ax = plt.subplots(figsize=(8,5))\n",
    "loss_ax.plot(hist.history['loss'], 'y', label='train loss')\n",
    "loss_ax.plot(hist.history['val_loss'], 'r', label='val loss')\n",
    "acc_ax =loss_ax.twinx()\n",
    "acc_ax.plot(hist.history['acc'], 'g', label='train accracy')\n",
    "acc_ax.plot(hist.history['val_acc'], 'b', label='val accracy')\n",
    "loss_ax.set_xlabel('epochs')\n",
    "loss_ax.set_ylabel('loss')\n",
    "acc_ax.set_ylabel('accuracy')\n",
    "loss_ax.legend(loc = 'center right')\n",
    "acc_ax.legend(loc = 'center')\n"
   ]
  },
  {
   "cell_type": "markdown",
   "id": "816881e0",
   "metadata": {},
   "source": [
    "# 11. 모델 평가하기"
   ]
  },
  {
   "cell_type": "code",
   "execution_count": 122,
   "id": "19d35df9",
   "metadata": {},
   "outputs": [
    {
     "name": "stdout",
     "output_type": "stream",
     "text": [
      "782/782 [==============================] - 10s 13ms/step\n",
      "[0 1 1 ... 0 0 1]\n"
     ]
    }
   ],
   "source": [
    "# 혼동행렬, recall, precision을 위한 yhat\n",
    "y_hat = (model.predict(X_test)>0.5).astype(np.int16)\n",
    "print(y_hat.reshape(-1))"
   ]
  },
  {
   "cell_type": "code",
   "execution_count": 124,
   "id": "94a522b7",
   "metadata": {},
   "outputs": [
    {
     "data": {
      "text/plain": [
       "array([[10246,  2254],\n",
       "       [ 2579,  9921]], dtype=int64)"
      ]
     },
     "execution_count": 124,
     "metadata": {},
     "output_type": "execute_result"
    }
   ],
   "source": [
    "# 혼동행렬\n",
    "confusion_matrix(y_test, y_hat)"
   ]
  },
  {
   "cell_type": "code",
   "execution_count": null,
   "id": "d73a4061",
   "metadata": {},
   "outputs": [
    {
     "data": {
      "text/plain": [
       "0.79368"
      ]
     },
     "execution_count": 125,
     "metadata": {},
     "output_type": "execute_result"
    }
   ],
   "source": [
    "# recall (실제 True인 것 중 True로 예측한 비율)\n",
    "recall_score(y_test, y_hat)\n"
   ]
  },
  {
   "cell_type": "code",
   "execution_count": 126,
   "id": "e23beb82",
   "metadata": {},
   "outputs": [
    {
     "data": {
      "text/plain": [
       "0.8148665297741273"
      ]
     },
     "execution_count": 126,
     "metadata": {},
     "output_type": "execute_result"
    }
   ],
   "source": [
    "# precisioin(True로 예측한 것 중 실제값을 False로 예측한 비율)\n",
    "precision_score(y_test, y_hat)"
   ]
  },
  {
   "cell_type": "code",
   "execution_count": 3,
   "id": "44c7ec62",
   "metadata": {},
   "outputs": [],
   "source": [
    "model = load_model('data/영화감정평가.h5')"
   ]
  },
  {
   "cell_type": "markdown",
   "id": "63b264d5",
   "metadata": {},
   "source": [
    "# 11.모델 사용"
   ]
  },
  {
   "cell_type": "code",
   "execution_count": 36,
   "id": "dfedab3d",
   "metadata": {},
   "outputs": [
    {
     "name": "stdout",
     "output_type": "stream",
     "text": [
      "영화평(특수문자 제외) : the movie was so boring that i slept the whole time watching it\n"
     ]
    }
   ],
   "source": [
    "import re\n",
    "review = 'The movie was so boring that I slept the whole time watching it'.lower()\n",
    "review = re.sub('[^a-zA-Z\\'\\s]', ' ', review)\n",
    "print('영화평(특수문자 제외) :',review)\n",
    "review = review.split()\n",
    "review = [1] + [word_to_id.get(word,-1)+3 for word in review]"
   ]
  },
  {
   "cell_type": "code",
   "execution_count": 37,
   "id": "158c5680",
   "metadata": {},
   "outputs": [],
   "source": [
    "input_data = pad_sequences([review], padding='pre',truncating='pre',maxlen=MY_LENGTH)"
   ]
  },
  {
   "cell_type": "code",
   "execution_count": null,
   "id": "365201b3",
   "metadata": {},
   "outputs": [
    {
     "name": "stdout",
     "output_type": "stream",
     "text": [
      "1/1 [==============================] - 0s 361ms/step\n"
     ]
    },
    {
     "data": {
      "text/plain": [
       "0"
      ]
     },
     "execution_count": 38,
     "metadata": {},
     "output_type": "execute_result"
    }
   ],
   "source": [
    "result = model.predict(input_data > 0.5).astype('int8').reshape(-1)[0]\n",
    "result"
   ]
  },
  {
   "cell_type": "code",
   "execution_count": null,
   "id": "3cb35b2f",
   "metadata": {},
   "outputs": [],
   "source": []
  }
 ],
 "metadata": {
  "kernelspec": {
   "display_name": "ml-dl-nlp",
   "language": "python",
   "name": "python3"
  },
  "language_info": {
   "codemirror_mode": {
    "name": "ipython",
    "version": 3
   },
   "file_extension": ".py",
   "mimetype": "text/x-python",
   "name": "python",
   "nbconvert_exporter": "python",
   "pygments_lexer": "ipython3",
   "version": "3.10.18"
  }
 },
 "nbformat": 4,
 "nbformat_minor": 5
}
