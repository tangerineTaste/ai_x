{
 "cells": [
  {
   "cell_type": "markdown",
   "id": "835acc39",
   "metadata": {},
   "source": [
    "# ※ naver open API를 활용하여 네이버지식인 '전주여행'과 '경주여행' 검색 -> 명사만 추출(re ?) -> 빈도분석(DataFrame) -> 빈도 시각화(워드클라우드, Text) -> Word2Vec "
   ]
  },
  {
   "cell_type": "code",
   "execution_count": 25,
   "id": "2087c057",
   "metadata": {},
   "outputs": [
    {
     "data": {
      "text/plain": [
       "<?xml version=\"1.0\" encoding=\"utf-8\"?>"
      ]
     },
     "execution_count": 25,
     "metadata": {},
     "output_type": "execute_result"
    }
   ],
   "source": [
    "from dotenv import load_dotenv\n",
    "import os\n",
    "import requests\n",
    "from bs4 import BeautifulSoup\n",
    "\n",
    "client_id = os.getenv('Client_ID')\n",
    "client_secret = os.getenv('Client_Secret')\n",
    "jun_url = 'https://openapi.naver.com/v1/search/kin?query=전주여행&display=100'\n",
    "kyung_url = 'https://openapi.naver.com/v1/search/kin?query=경주여행&display=100'\n",
    "\n",
    "headers = {'X-Naver-Client-Id' : client_id, \"X-Naver-Client-Secret\" : client_secret}\n",
    "response = requests.get(jun_url, headers=headers)\n",
    "soup = BeautifulSoup(response.text, 'xml')\n",
    "jun_title = soup.select('item  title')\n",
    "soup"
   ]
  },
  {
   "cell_type": "code",
   "execution_count": null,
   "id": "9826a806",
   "metadata": {},
   "outputs": [],
   "source": []
  },
  {
   "cell_type": "code",
   "execution_count": null,
   "id": "14344f7e",
   "metadata": {},
   "outputs": [],
   "source": []
  }
 ],
 "metadata": {
  "kernelspec": {
   "display_name": "ml-dl-nlp",
   "language": "python",
   "name": "python3"
  },
  "language_info": {
   "codemirror_mode": {
    "name": "ipython",
    "version": 3
   },
   "file_extension": ".py",
   "mimetype": "text/x-python",
   "name": "python",
   "nbconvert_exporter": "python",
   "pygments_lexer": "ipython3",
   "version": "3.10.18"
  }
 },
 "nbformat": 4,
 "nbformat_minor": 5
}
