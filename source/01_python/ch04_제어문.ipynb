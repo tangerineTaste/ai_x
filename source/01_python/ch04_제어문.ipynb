{
 "cells": [
  {
   "cell_type": "code",
   "execution_count": 1,
   "id": "a4d2c199",
   "metadata": {},
   "outputs": [
    {
     "data": {
      "text/html": [
       "\n",
       "<style>\n",
       "div.container{width:86% !important;}\n",
       "div.cell.code_cell.rendered{width:100%;}\n",
       "div.CodeMirror {font-family:Consolas; font-size:15pt;}\n",
       "div.output {font-size:15pt; font-weight:bold;}\n",
       "div.input {font-family:Consolas; font-size:15pt;}\n",
       "div.prompt {min-width:70px;}\n",
       "div#toc-wrapper{padding-top:120px;}\n",
       "div.text_cell_render ul li{font-size:12pt;padding:5px;}\n",
       "table.dataframe{font-size:15px;}\n",
       "</style>\n"
      ],
      "text/plain": [
       "<IPython.core.display.HTML object>"
      ]
     },
     "metadata": {},
     "output_type": "display_data"
    }
   ],
   "source": [
    "from IPython.display import display, HTML \n",
    "display(HTML(\"\"\"\n",
    "<style>\n",
    "div.container{width:86% !important;}\n",
    "div.cell.code_cell.rendered{width:100%;}\n",
    "div.CodeMirror {font-family:Consolas; font-size:15pt;}\n",
    "div.output {font-size:15pt; font-weight:bold;}\n",
    "div.input {font-family:Consolas; font-size:15pt;}\n",
    "div.prompt {min-width:70px;}\n",
    "div#toc-wrapper{padding-top:120px;}\n",
    "div.text_cell_render ul li{font-size:12pt;padding:5px;}\n",
    "table.dataframe{font-size:15px;}\n",
    "</style>\n",
    "\"\"\"))"
   ]
  },
  {
   "cell_type": "markdown",
   "id": "00d361b0",
   "metadata": {},
   "source": [
    "<b><font size=\"5\" color=\"red\"> ch04 제어문</font></b>\n",
    "- if문, for문, while문, 중첩가능\n",
    "- 조건문 : if\n",
    "- 반복문 : for, while"
   ]
  },
  {
   "cell_type": "markdown",
   "id": "46c763d3",
   "metadata": {},
   "source": [
    "# 1절 조건문(if)\n",
    "```\n",
    "if 조건 :\n",
    "    조건이 참일 경우 수행할 명령어들\n",
    "elif 조건2:\n",
    "    조건1이 거짓이고 조건2이가 참일 경우 수행할 명령어들\n",
    "else:\n",
    "    모든 조건을 만족하지 않을 때 수행할 명령어들\n",
    "```"
   ]
  },
  {
   "cell_type": "code",
   "execution_count": 4,
   "id": "27207353",
   "metadata": {},
   "outputs": [
    {
     "name": "stdout",
     "output_type": "stream",
     "text": [
      "점수를 입력하시오 :99\n",
      "잘했어요\n",
      "다음에도 기대할게요\n"
     ]
    }
   ],
   "source": [
    "score = int(input('점수를 입력하시오 :'))\n",
    "if score > 90 :\n",
    "    print('잘했어요')\n",
    "    print('다음에도 기대할게요')\n",
    "elif score>=60:\n",
    "    print('분발하세요')\n",
    "    print('그래도 고생했어요')\n",
    "else :\n",
    "    print('재시험 응시하셔 합니다')\n",
    "    print('화이팅')"
   ]
  },
  {
   "cell_type": "code",
   "execution_count": 15,
   "id": "864e2363",
   "metadata": {},
   "outputs": [
    {
     "name": "stdout",
     "output_type": "stream",
     "text": [
      "점수를 입력하시오 :-1\n",
      "유효하지 않은 점수입니다\n"
     ]
    }
   ],
   "source": [
    "#사용자로부터 좀수를 입력받아 학점을 출력하시오(A, B, C, D, F 유효하지 않은 점수)\n",
    "score = int(input('점수를 입력하시오 :'))\n",
    "if score > 100 :\n",
    "    grade = '유효하지 않은 점수입니다'\n",
    "elif score >= 90 :\n",
    "    grade = 'A'\n",
    "elif score >= 80 :\n",
    "    grade = 'B'\n",
    "elif score >= 70 :\n",
    "    grade = 'C'\n",
    "elif score >= 60 :\n",
    "    grade = 'D'\n",
    "elif 0<= score <60:\n",
    "    grade = 'F'\n",
    "else:\n",
    "    grade = '유효하지 않은 점수입니다'\n",
    "print(grade)"
   ]
  },
  {
   "cell_type": "markdown",
   "id": "e0e8ccf3",
   "metadata": {},
   "source": [
    "# 2절 반복문\n",
    "## 2.1 for-in문\n",
    "```\n",
    "for 임시변수 in 나열가능한 자료:\n",
    "    반복할 명령어1\n",
    "    반복할 명령어2\n",
    "    if 조건:\n",
    "        break\n",
    "else:\n",
    "    나열가능한 자료가 다 소요하여 for 블록을 다 수행한 후 최종 한번 수행할 명령어\n",
    "    for문안에 break를 수행할 경우 else블록은 수행되지 않음\n",
    "```"
   ]
  },
  {
   "cell_type": "code",
   "execution_count": 17,
   "id": "4673bea0",
   "metadata": {},
   "outputs": [
    {
     "name": "stdout",
     "output_type": "stream",
     "text": [
      "1\t3\tEnd\n"
     ]
    }
   ],
   "source": [
    "for i in range(1,10,2):\n",
    "    if i == 5 :\n",
    "        break\n",
    "    print(i, end='\\t')\n",
    "else:\n",
    "    print('\\nDone')\n",
    "print('End')"
   ]
  },
  {
   "cell_type": "code",
   "execution_count": 21,
   "id": "16bb4570",
   "metadata": {},
   "outputs": [
    {
     "data": {
      "text/plain": [
       "5050"
      ]
     },
     "execution_count": 21,
     "metadata": {},
     "output_type": "execute_result"
    }
   ],
   "source": [
    "# 1~100까지 누적합을 출력하시오(for문)\n",
    "total = 0\n",
    "for i in range(100):\n",
    "    total += i+1\n",
    "total"
   ]
  },
  {
   "cell_type": "code",
   "execution_count": 25,
   "id": "b2145508",
   "metadata": {},
   "outputs": [
    {
     "data": {
      "text/plain": [
       "2550"
      ]
     },
     "execution_count": 25,
     "metadata": {},
     "output_type": "execute_result"
    }
   ],
   "source": [
    "# 1~100까지 짝수 누적합을 출력하시오(for문)\n",
    "total = 0\n",
    "for i in range(2,101,2):\n",
    "    total += i\n",
    "total"
   ]
  },
  {
   "cell_type": "markdown",
   "id": "be19b524",
   "metadata": {},
   "source": [
    "## 2.2 while문\n",
    "```\n",
    "while 조건:\n",
    "    조건이 참일 경우 반복할 문장들\n",
    "else:\n",
    "    조건이 거짓일 경우 한번 실행할 문장(else구문 선택사항)\n",
    "```"
   ]
  },
  {
   "cell_type": "code",
   "execution_count": null,
   "id": "bc4e6c59",
   "metadata": {},
   "outputs": [],
   "source": [
    "#1~100까지 누적합 출력\n",
    "total = 0\n",
    "i = 1\n",
    "while i <=100:\n",
    "    total += i\n",
    "    i += 1\n",
    "total"
   ]
  },
  {
   "cell_type": "code",
   "execution_count": 26,
   "id": "76cc2197",
   "metadata": {},
   "outputs": [
    {
     "data": {
      "text/plain": [
       "2550"
      ]
     },
     "execution_count": 26,
     "metadata": {},
     "output_type": "execute_result"
    }
   ],
   "source": [
    "#1~100까지 짝수들의 누적합 출력\n",
    "total = 0\n",
    "i = 2\n",
    "while i <=100:\n",
    "    total += i\n",
    "    i += 2\n",
    "total"
   ]
  },
  {
   "cell_type": "code",
   "execution_count": 124,
   "id": "5f40013f",
   "metadata": {},
   "outputs": [
    {
     "name": "stdout",
     "output_type": "stream",
     "text": [
      "첫번째 정수 입력 :13\n",
      "두번째 정수 입력 :7\n"
     ]
    },
    {
     "data": {
      "text/plain": [
       "40"
      ]
     },
     "execution_count": 124,
     "metadata": {},
     "output_type": "execute_result"
    }
   ],
   "source": [
    "# 사용자에게 두 정수를 입력받아, 작은 수 부터 큰 수 까지 홀수의 합을 누적해서 출력\n",
    "max_num = int(input(\"첫번째 정수 입력 :\"))\n",
    "min_num = int(input(\"두번째 정수 입력 :\"))\n",
    "if min_num>max_num:\n",
    "    min_num, max_num = max_num, min_num\n",
    "sum(data for data in range(min_num, max_num+1) if data%2)"
   ]
  },
  {
   "cell_type": "code",
   "execution_count": 142,
   "id": "eae698dc",
   "metadata": {},
   "outputs": [],
   "source": [
    "# ex2. 1~45까지의 로또번호 6개를 추출하여 출력(오름차순 정렬결과를 출력)\n",
    "# 난수 발생\n",
    "import random"
   ]
  },
  {
   "cell_type": "code",
   "execution_count": 143,
   "id": "b0bb25c0",
   "metadata": {},
   "outputs": [
    {
     "data": {
      "text/plain": [
       "[4, 6, 11, 14, 19, 27]"
      ]
     },
     "execution_count": 143,
     "metadata": {},
     "output_type": "execute_result"
    }
   ],
   "source": [
    "data ={random.randint(1,45),}\n",
    "while len(data)< 6:\n",
    "    data.add(random.randint(1,45)) \n",
    "sorted(list(data)) "
   ]
  },
  {
   "cell_type": "code",
   "execution_count": 155,
   "id": "76dea0e4",
   "metadata": {},
   "outputs": [
    {
     "data": {
      "text/plain": [
       "[3, 4, 12, 14, 29, 35]"
      ]
     },
     "execution_count": 155,
     "metadata": {},
     "output_type": "execute_result"
    }
   ],
   "source": [
    "sorted(random.sample(range(1,45),6))"
   ]
  },
  {
   "cell_type": "markdown",
   "id": "c747d657",
   "metadata": {},
   "source": [
    "## 2.3 break, continue"
   ]
  },
  {
   "cell_type": "code",
   "execution_count": 159,
   "id": "6cc101de",
   "metadata": {},
   "outputs": [
    {
     "name": "stdout",
     "output_type": "stream",
     "text": [
      "1\t2\t3\t4\t6\t7\t8\t9\t10\tDONE\n"
     ]
    }
   ],
   "source": [
    "num = 0\n",
    "while num < 10:\n",
    "    num += 1\n",
    "    if num==5: \n",
    "        continue \n",
    "    print(num, end='\\t')\n",
    "print('DONE')"
   ]
  },
  {
   "cell_type": "code",
   "execution_count": 167,
   "id": "e464873d",
   "metadata": {
    "collapsed": true
   },
   "outputs": [
    {
     "name": "stdout",
     "output_type": "stream",
     "text": [
      "1~100사이의 수를 맞춰 보세요 :50\n",
      "UP ↑\n",
      "51~100사이의 수를 맞춰 보세요 :50\n",
      "수의 범위는 51~100이고, 50입력\n",
      "51~100사이의 수를 맞춰 보세요 :51\n",
      "UP ↑\n",
      "52~100사이의 수를 맞춰 보세요 :52\n",
      "UP ↑\n",
      "53~100사이의 수를 맞춰 보세요 :53\n",
      "UP ↑\n",
      "54~100사이의 수를 맞춰 보세요 :70\n",
      "DOWN ↓\n",
      "54~69사이의 수를 맞춰 보세요 :60\n",
      "UP ↑\n",
      "61~69사이의 수를 맞춰 보세요 :65\n",
      "DOWN ↓\n",
      "61~64사이의 수를 맞춰 보세요 :63\n",
      "DOWN ↓\n",
      "61~62사이의 수를 맞춰 보세요 :61\n",
      "61 ANSWER!\n"
     ]
    }
   ],
   "source": [
    "answer = random.randint(1,100)\n",
    "min_num, max_num = 1,100\n",
    "while True:\n",
    "    number = int(input('{}~{}사이의 수를 맞춰 보세요 :'.format(min_num,max_num)))\n",
    "    if not (min_num <= number <= max_num):\n",
    "        print('수의 범위는 {}~{}이고, {}입력'.format(min_num,max_num,number))\n",
    "    elif number > answer:\n",
    "        print('DOWN ↓')\n",
    "        max_num = number-1\n",
    "    elif number < answer:\n",
    "        print('UP ↑')\n",
    "        min_num = number+1\n",
    "    else:\n",
    "        print(f'{answer} ANSWER!')\n",
    "        break"
   ]
  },
  {
   "cell_type": "markdown",
   "id": "ba6502db",
   "metadata": {},
   "source": [
    "# 3절 중첩루프\n",
    "(반복문 안의 반복문)"
   ]
  },
  {
   "cell_type": "code",
   "execution_count": 176,
   "id": "9d06542d",
   "metadata": {},
   "outputs": [
    {
     "name": "stdout",
     "output_type": "stream",
     "text": [
      "2x1= 2\t3x1= 3\t4x1= 4\t5x1= 5\t6x1= 6\t7x1= 7\t8x1= 8\t9x1= 9\t\n",
      "2x2= 4\t3x2= 6\t4x2= 8\t5x2=10\t6x2=12\t7x2=14\t8x2=16\t9x2=18\t\n",
      "2x3= 6\t3x3= 9\t4x3=12\t5x3=15\t6x3=18\t7x3=21\t8x3=24\t9x3=27\t\n",
      "2x4= 8\t3x4=12\t4x4=16\t5x4=20\t6x4=24\t7x4=28\t8x4=32\t9x4=36\t\n",
      "2x5=10\t3x5=15\t4x5=20\t5x5=25\t6x5=30\t7x5=35\t8x5=40\t9x5=45\t\n",
      "2x6=12\t3x6=18\t4x6=24\t5x6=30\t6x6=36\t7x6=42\t8x6=48\t9x6=54\t\n",
      "2x7=14\t3x7=21\t4x7=28\t5x7=35\t6x7=42\t7x7=49\t8x7=56\t9x7=63\t\n",
      "2x8=16\t3x8=24\t4x8=32\t5x8=40\t6x8=48\t7x8=56\t8x8=64\t9x8=72\t\n",
      "2x9=18\t3x9=27\t4x9=36\t5x9=45\t6x9=54\t7x9=63\t8x9=72\t9x9=81\t\n"
     ]
    }
   ],
   "source": [
    "for i in range(1,10):\n",
    "    for j in range(2,10):\n",
    "        print('{}x{}={:2}'.format(j,i,i*j), end='\\t')\n",
    "    print()"
   ]
  },
  {
   "cell_type": "markdown",
   "id": "6186bd66",
   "metadata": {},
   "source": [
    "# 4절 중첩루프 탈출"
   ]
  },
  {
   "cell_type": "code",
   "execution_count": 210,
   "id": "9d98d3ad",
   "metadata": {},
   "outputs": [
    {
     "name": "stdout",
     "output_type": "stream",
     "text": [
      "1 0\n",
      "DONE\n"
     ]
    }
   ],
   "source": [
    "# 중첩루프 탈출 방법 1 : 플래그 변수 이용\n",
    "flag = False\n",
    "for a in range(0, 3):\n",
    "    for b in range(1, 3):\n",
    "        if a == b:\n",
    "            flag= True\n",
    "            break #반복문 빠져나오기\n",
    "        print(a,b)\n",
    "    #break시 빠져나오는 부분\n",
    "    if flag:\n",
    "        break\n",
    "print('DONE')"
   ]
  },
  {
   "cell_type": "code",
   "execution_count": 184,
   "id": "1dd6c305",
   "metadata": {},
   "outputs": [],
   "source": [
    "# 중첩 루프 탈출 방법 2: 예외 발생 => 예외처리\n",
    "\n",
    "#예외처리 진도 후 작성"
   ]
  },
  {
   "cell_type": "markdown",
   "id": "6a59a9c3",
   "metadata": {},
   "source": [
    "# 5절 연습문제"
   ]
  },
  {
   "cell_type": "code",
   "execution_count": 195,
   "id": "94e6c45f",
   "metadata": {},
   "outputs": [
    {
     "name": "stdout",
     "output_type": "stream",
     "text": [
      "양의 정수를 입력하시오 :-1\n",
      "양의 정수를 입력하시오 :0\n",
      "양의 정수를 입력하시오 :1\n"
     ]
    }
   ],
   "source": [
    "#1\n",
    "num=0\n",
    "while num <=0 :\n",
    "    num = int(input('양의 정수를 입력하시오 :'))\n",
    "    "
   ]
  },
  {
   "cell_type": "code",
   "execution_count": 198,
   "id": "6ed4ba8a",
   "metadata": {},
   "outputs": [
    {
     "name": "stdout",
     "output_type": "stream",
     "text": [
      "*****\n",
      "*****\n",
      "*****\n",
      "*****\n",
      "*****\n"
     ]
    }
   ],
   "source": [
    "#2-1\n",
    "for i in range(5):\n",
    "    for j in range(5):\n",
    "        print('*',end='')\n",
    "    print()"
   ]
  },
  {
   "cell_type": "code",
   "execution_count": 202,
   "id": "1b182a80",
   "metadata": {},
   "outputs": [
    {
     "name": "stdout",
     "output_type": "stream",
     "text": [
      "*\n",
      "**\n",
      "***\n",
      "****\n",
      "*****\n"
     ]
    }
   ],
   "source": [
    "#2-2\n",
    "for i in range(5):\n",
    "    for j in range(i+1):\n",
    "        print('*',end='')\n",
    "    print()"
   ]
  },
  {
   "cell_type": "code",
   "execution_count": 213,
   "id": "d616935d",
   "metadata": {},
   "outputs": [
    {
     "name": "stdout",
     "output_type": "stream",
     "text": [
      "165\n"
     ]
    }
   ],
   "source": [
    "#3\n",
    "total =0\n",
    "for i in range(1,31):\n",
    "    if i%3==0:\n",
    "        total += i\n",
    "    else:\n",
    "        pass\n",
    "print(sum)"
   ]
  },
  {
   "cell_type": "code",
   "execution_count": 206,
   "id": "ee7e062c",
   "metadata": {},
   "outputs": [
    {
     "name": "stdout",
     "output_type": "stream",
     "text": [
      "1 3 5 7 9 "
     ]
    }
   ],
   "source": [
    "#4\n",
    "num=0\n",
    "while num <= 10:\n",
    "    if num%2 == 1:\n",
    "        print(num,end=' ')\n",
    "    num+=1"
   ]
  },
  {
   "cell_type": "code",
   "execution_count": 207,
   "id": "4e5da4e4",
   "metadata": {},
   "outputs": [
    {
     "name": "stdout",
     "output_type": "stream",
     "text": [
      "1 2 3 \n",
      "4 5 6 7 \n",
      "8 9 \n"
     ]
    }
   ],
   "source": [
    "#5\n",
    "list2d = [[1,2,3],[4,5,6,7],[8,9]]\n",
    "for row in list2d:\n",
    "    for data in row:\n",
    "        print(data,end=' ')\n",
    "    print()"
   ]
  },
  {
   "cell_type": "code",
   "execution_count": 208,
   "id": "1de777c1",
   "metadata": {},
   "outputs": [
    {
     "name": "stdout",
     "output_type": "stream",
     "text": [
      "0 apple\n",
      "1 banana\n"
     ]
    }
   ],
   "source": [
    "#6\n",
    "colors = {'red':'apple','yellow':'banana'}\n",
    "for i,v in enumerate(colors.values()):\n",
    "    print(i,v)"
   ]
  },
  {
   "cell_type": "code",
   "execution_count": null,
   "id": "2dc3acce",
   "metadata": {},
   "outputs": [],
   "source": [
    "#7\n",
    "1 0"
   ]
  },
  {
   "cell_type": "code",
   "execution_count": null,
   "id": "2aff5861",
   "metadata": {},
   "outputs": [],
   "source": [
    "#8\n",
    "2"
   ]
  },
  {
   "cell_type": "code",
   "execution_count": null,
   "id": "486f28c3",
   "metadata": {},
   "outputs": [],
   "source": [
    "#9\n",
    "2 4 4 6 6 8 8 10 "
   ]
  },
  {
   "cell_type": "code",
   "execution_count": 212,
   "id": "c4f34f1e",
   "metadata": {},
   "outputs": [
    {
     "name": "stdout",
     "output_type": "stream",
     "text": [
      "1~100사이의 수를 맞춰 보세요(남은 기회는 5번) :50\n",
      "UP ↑\n",
      "51~100사이의 수를 맞춰 보세요(남은 기회는 4번) :75\n",
      "DOWN ↓\n",
      "51~74사이의 수를 맞춰 보세요(남은 기회는 3번) :60\n",
      "UP ↑\n",
      "61~74사이의 수를 맞춰 보세요(남은 기회는 2번) :669\n",
      "수의 범위는 61~74이고, 669입력\n",
      "61~74사이의 수를 맞춰 보세요(남은 기회는 1번) :69\n",
      "UP ↑\n",
      "기회를 모두 사용하셨습니다. 실패하셨습니다 정답:72\n"
     ]
    }
   ],
   "source": [
    "#10\n",
    "answer = random.randint(1,100)\n",
    "hint = 'DOWN ↓'\n",
    "min_num, max_num = 1,100\n",
    "is_success = '기회를 모두 사용하셨습니다. 실패하셨습니다'\n",
    "for i in range(5):\n",
    "    number = int(input('{}~{}사이의 수를 맞춰 보세요(남은 기회는 {}번) :'.format(min_num,max_num,5-i)))\n",
    "    if not (min_num <= number <= max_num):\n",
    "        print('수의 범위를 벗어났습니다. 수의 범위는 {}~{}이고, {}입력'.format(min_num,max_num,number))\n",
    "    elif number > answer:\n",
    "        print('DOWN ↓')\n",
    "        max_num = number-1\n",
    "    elif number < answer:\n",
    "        print('UP ↑')\n",
    "        min_num = number+1\n",
    "    else:\n",
    "        is_success = '정답!'\n",
    "        break\n",
    "print(is_success, f'정답:{answer}')"
   ]
  }
 ],
 "metadata": {
  "kernelspec": {
   "display_name": "Python 3 (ipykernel)",
   "language": "python",
   "name": "python3"
  },
  "language_info": {
   "codemirror_mode": {
    "name": "ipython",
    "version": 3
   },
   "file_extension": ".py",
   "mimetype": "text/x-python",
   "name": "python",
   "nbconvert_exporter": "python",
   "pygments_lexer": "ipython3",
   "version": "3.10.9"
  },
  "toc": {
   "base_numbering": 1,
   "nav_menu": {},
   "number_sections": false,
   "sideBar": true,
   "skip_h1_title": false,
   "title_cell": "Table of Contents",
   "title_sidebar": "Contents",
   "toc_cell": false,
   "toc_position": {
    "height": "calc(100% - 180px)",
    "left": "10px",
    "top": "150px",
    "width": "165px"
   },
   "toc_section_display": true,
   "toc_window_display": true
  }
 },
 "nbformat": 4,
 "nbformat_minor": 5
}
