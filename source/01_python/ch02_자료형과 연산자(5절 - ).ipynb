{
 "cells": [
  {
   "cell_type": "code",
   "execution_count": 1,
   "id": "6aa1ec92",
   "metadata": {},
   "outputs": [
    {
     "data": {
      "text/html": [
       "\n",
       "<style>\n",
       "div.container{width:86% !important;}\n",
       "div.cell.code_cell.rendered{width:100%;}\n",
       "div.CodeMirror {font-family:Consolas; font-size:15pt;}\n",
       "div.output {font-size:15pt; font-weight:bold;}\n",
       "div.input {font-family:Consolas; font-size:15pt;}\n",
       "div.prompt {min-width:70px;}\n",
       "div#toc-wrapper{padding-top:120px;}\n",
       "div.text_cell_render ul li{font-size:12pt;padding:5px;}\n",
       "table.dataframe{font-size:15px;}\n",
       "</style>\n"
      ],
      "text/plain": [
       "<IPython.core.display.HTML object>"
      ]
     },
     "metadata": {},
     "output_type": "display_data"
    }
   ],
   "source": [
    "from IPython.display import display, HTML \n",
    "display(HTML(\"\"\"\n",
    "<style>\n",
    "div.container{width:86% !important;}\n",
    "div.cell.code_cell.rendered{width:100%;}\n",
    "div.CodeMirror {font-family:Consolas; font-size:15pt;}\n",
    "div.output {font-size:15pt; font-weight:bold;}\n",
    "div.input {font-family:Consolas; font-size:15pt;}\n",
    "div.prompt {min-width:70px;}\n",
    "div#toc-wrapper{padding-top:120px;}\n",
    "div.text_cell_render ul li{font-size:12pt;padding:5px;}\n",
    "table.dataframe{font-size:15px;}\n",
    "</style>\n",
    "\"\"\"))"
   ]
  },
  {
   "cell_type": "markdown",
   "id": "08eb4dbd",
   "metadata": {},
   "source": [
    "<font size=\"5\" color=\"red\"> ch02 자료형과 연산자</font>"
   ]
  },
  {
   "cell_type": "markdown",
   "id": "64b11dcf",
   "metadata": {},
   "source": [
    "# 5절 연산자\n",
    "## 51. 산술연산자 : +,-,*,/,//(몫), %(나머지), **(제곱)\n"
   ]
  },
  {
   "cell_type": "code",
   "execution_count": 6,
   "id": "264478f7",
   "metadata": {},
   "outputs": [
    {
     "name": "stdout",
     "output_type": "stream",
     "text": [
      "100000\n",
      "4/2(결과 실수) :  2.0\n",
      "4//2(몫) :  2\n",
      "4%2(나머지) :  0\n"
     ]
    }
   ],
   "source": [
    "print(10**5)\n",
    "print('4/2(결과 실수) : ', 4/2)\n",
    "print('4//2(몫) : ' , 4//2)\n",
    "print('4%2(나머지) : ' , 4%2)"
   ]
  },
  {
   "cell_type": "code",
   "execution_count": 18,
   "id": "80bc99fe",
   "metadata": {},
   "outputs": [
    {
     "name": "stdout",
     "output_type": "stream",
     "text": [
      "정수를 입력하시오 : 10\n",
      "입력하신 수는 10, 2로 나눈 나머지는 0. 짝수\n"
     ]
    }
   ],
   "source": [
    "#quiz 1. 정수를 입력받아 짝수인지 홀수인지 여부를 출력\n",
    "number = int(input('정수를 입력하시오 : '))\n",
    "result = number%2\n",
    "if result:\n",
    "    temp = '홀수'\n",
    "else : \n",
    "    temp = '짝수'\n",
    "print('입력하신 수는 {}, 2로 나눈 나머지는 {}. {}'.format(number,result,temp))"
   ]
  },
  {
   "cell_type": "code",
   "execution_count": 21,
   "id": "3644c441",
   "metadata": {},
   "outputs": [
    {
     "name": "stdout",
     "output_type": "stream",
     "text": [
      "정수를 입력하시오 : 6\n",
      "입력하신 수는 6, 5로 나눈 나머지는 1. 5의 배수 아님\n"
     ]
    }
   ],
   "source": [
    "#quiz 2. 정수를 입력받아 5의 배수인지 여부를 출력\n",
    "number = int(input('정수를 입력하시오 : '))\n",
    "result = number%5\n",
    "if result:\n",
    "    temp = '5의 배수 아님'\n",
    "else : \n",
    "    temp = '5의 배수 맞음'\n",
    "print('입력하신 수는 {}, 5로 나눈 나머지는 {}. {}'.format(number,result,temp))"
   ]
  },
  {
   "cell_type": "code",
   "execution_count": 42,
   "id": "df28aee8",
   "metadata": {},
   "outputs": [
    {
     "name": "stdout",
     "output_type": "stream",
     "text": [
      "국어 점수를 입력하시오 : 99\n",
      "영서 점수를 입력하시오 : 100\n",
      "수학 점수를 입력하시오 : 99\n"
     ]
    }
   ],
   "source": [
    "#quiz 3. 국,영,수 점수를 입력받아 다음셀에세 다음과 같이 출력하도록 구현하시오\n",
    "kor_grade = int(input('국어 점수를 입력하시오 : '))\n",
    "eng_grade = int(input('영서 점수를 입력하시오 : '))\n",
    "math_grade = int(input('수학 점수를 입력하시오 : '))\n",
    "hap = kor_grade + eng_grade + math_grade"
   ]
  },
  {
   "cell_type": "code",
   "execution_count": 44,
   "id": "a61e219e",
   "metadata": {},
   "outputs": [
    {
     "name": "stdout",
     "output_type": "stream",
     "text": [
      "국어: 99\t영어:100\t수학: 99\n",
      "총점:298\t평균: 99.3\n"
     ]
    }
   ],
   "source": [
    "print('국어:{:3}\\t영어:{:3}\\t수학:{:3}'.format(kor_grade, eng_grade, math_grade))\n",
    "print('총점:{:3}\\t평균:{:5.1f}'.format(hap,hap/3))"
   ]
  },
  {
   "cell_type": "markdown",
   "id": "56c750a2",
   "metadata": {},
   "source": [
    "## 5.2 할당연산자: =, +=, -=, *=, /=, //=, %="
   ]
  },
  {
   "cell_type": "code",
   "execution_count": 46,
   "id": "84306ef3",
   "metadata": {},
   "outputs": [
    {
     "name": "stdout",
     "output_type": "stream",
     "text": [
      "5더하기 : 15\n"
     ]
    }
   ],
   "source": [
    "a = 10\n",
    "a += 5 # a = a+5\n",
    "print('5더하기 :', a)"
   ]
  },
  {
   "cell_type": "code",
   "execution_count": 49,
   "id": "605650a0",
   "metadata": {},
   "outputs": [
    {
     "name": "stdout",
     "output_type": "stream",
     "text": [
      "5빼기 : 20\n",
      "5배 : 100\n"
     ]
    }
   ],
   "source": [
    "a -= 5 # a = a-5\n",
    "print('5빼기 :', a)\n",
    "a *= 5 # a = a*5\n",
    "print('5배 :', a )"
   ]
  },
  {
   "cell_type": "markdown",
   "id": "61d416a8",
   "metadata": {},
   "source": [
    "## 5.3 논리연산자 : (&, and), (|, or), not"
   ]
  },
  {
   "cell_type": "code",
   "execution_count": 51,
   "id": "26925871",
   "metadata": {},
   "outputs": [
    {
     "name": "stdout",
     "output_type": "stream",
     "text": [
      "True\n",
      "0\n"
     ]
    }
   ],
   "source": [
    "# & 논리연산\n",
    "print( (10>3) & (10>5)) # 논리연산 True & True\n",
    "print(12 & 1) # 비트연산"
   ]
  },
  {
   "cell_type": "code",
   "execution_count": 63,
   "id": "09d54ad0",
   "metadata": {},
   "outputs": [
    {
     "name": "stdout",
     "output_type": "stream",
     "text": [
      "9\n",
      "0\n",
      "False\n"
     ]
    }
   ],
   "source": [
    "# and : False로 판별되는 첫번째 항의 결과 반환\n",
    "#       모든 항이 참이면 마지막 항을 반환\n",
    "print(True and 2 and 9 )\n",
    "print(0 and True)\n",
    "print(True and False and True and True and True)"
   ]
  },
  {
   "cell_type": "code",
   "execution_count": 71,
   "id": "6169a1b8",
   "metadata": {},
   "outputs": [
    {
     "name": "stdout",
     "output_type": "stream",
     "text": [
      "논리연산(연산자 앞뒤에 논리형일 때) : True\n",
      "비트연산(연산자 앞이나 뒤에 숫자일 때) : 3\n"
     ]
    }
   ],
   "source": [
    "# | : 논리연산, 비트연산\n",
    "result = False | True | True\n",
    "print('논리연산(연산자 앞뒤에 논리형일 때) :', result)\n",
    "result = False | 3\n",
    "print('비트연산(연산자 앞이나 뒤에 숫자일 때) :', result)"
   ]
  },
  {
   "cell_type": "code",
   "execution_count": 73,
   "id": "2ea76466",
   "metadata": {},
   "outputs": [
    {
     "name": "stdout",
     "output_type": "stream",
     "text": [
      "\n",
      "hong\n"
     ]
    }
   ],
   "source": [
    "# or : 논리연산, 참으로 판별되는 첫번째 항을 반환\n",
    "#      모든 항이 거짓이면, 마지막항을 반환\n",
    "print(False or False or '')\n",
    "print('hong' or  ' ' or False)"
   ]
  },
  {
   "cell_type": "code",
   "execution_count": 76,
   "id": "9d355504",
   "metadata": {},
   "outputs": [
    {
     "name": "stdout",
     "output_type": "stream",
     "text": [
      "False\n"
     ]
    }
   ],
   "source": [
    "print(not True)"
   ]
  },
  {
   "cell_type": "markdown",
   "id": "1d29998d",
   "metadata": {},
   "source": [
    "## 5.4 비교연산자 : >, >=, <, <=, ==, !="
   ]
  },
  {
   "cell_type": "code",
   "execution_count": null,
   "id": "e12111a0",
   "metadata": {},
   "outputs": [],
   "source": [
    "# 비교연산자는 이항, 삼항, 사항... 다항연산자\n",
    "x = 5\n",
    "print(4 < x < 10)"
   ]
  },
  {
   "cell_type": "code",
   "execution_count": 82,
   "id": "9960eff7",
   "metadata": {},
   "outputs": [
    {
     "name": "stdout",
     "output_type": "stream",
     "text": [
      "True\n",
      "False\n",
      "True\n"
     ]
    }
   ],
   "source": [
    "# 비교연산자의 우선순위가 논리연산자의 우선순위보다 낮다\n",
    "print((10>5) & (10>7))\n",
    "print( 10>5 & 10>7)      \n",
    "print( 10>5 and 10>7)"
   ]
  },
  {
   "cell_type": "code",
   "execution_count": 85,
   "id": "8bc585c4",
   "metadata": {},
   "outputs": [
    {
     "name": "stdout",
     "output_type": "stream",
     "text": [
      "False\n",
      "False\n"
     ]
    }
   ],
   "source": [
    "address = '서울'\n",
    "age = 29\n",
    "# print(address=='서울' & age>= 30) 우선순위 : 비트연산자 > 비교연산자\n",
    "print(address=='서울' and age>= 30)\n",
    "print(address!='서울' and age>= 30)"
   ]
  },
  {
   "cell_type": "code",
   "execution_count": 88,
   "id": "6c5a1af2",
   "metadata": {},
   "outputs": [
    {
     "data": {
      "text/plain": [
       "True"
      ]
     },
     "execution_count": 88,
     "metadata": {},
     "output_type": "execute_result"
    }
   ],
   "source": [
    "# 문자 비교 : ASCII 코드 순으로 비교 가능 : 특수문자 < 숫자 < 대문자 < 소문자\n",
    "'scott' < 'tiger'"
   ]
  },
  {
   "cell_type": "code",
   "execution_count": 90,
   "id": "c89b4cf7",
   "metadata": {},
   "outputs": [
    {
     "data": {
      "text/plain": [
       "True"
      ]
     },
     "execution_count": 90,
     "metadata": {},
     "output_type": "execute_result"
    }
   ],
   "source": [
    "'9' > '10'"
   ]
  },
  {
   "cell_type": "code",
   "execution_count": 94,
   "id": "f9cf88c3",
   "metadata": {},
   "outputs": [
    {
     "data": {
      "text/plain": [
       "True"
      ]
     },
     "execution_count": 94,
     "metadata": {},
     "output_type": "execute_result"
    }
   ],
   "source": [
    "'김길동' < '홍길동'"
   ]
  },
  {
   "cell_type": "markdown",
   "id": "ba5314bb",
   "metadata": {},
   "source": [
    "## 5.5 비트연산자 : &, |, ^(XOR), ~"
   ]
  },
  {
   "cell_type": "code",
   "execution_count": null,
   "id": "95ec6aeb",
   "metadata": {},
   "outputs": [],
   "source": [
    "#x y   x&y  x^y\n",
    "#0 0    0    0\n",
    "#0 1    0    1\n",
    "#1 0    0    1\n",
    "#1 1    1    0"
   ]
  },
  {
   "cell_type": "code",
   "execution_count": 98,
   "id": "00b17b12",
   "metadata": {},
   "outputs": [
    {
     "name": "stdout",
     "output_type": "stream",
     "text": [
      "a   = 15 : 1111\n",
      "b   =  2 : 0010\n",
      "a^b = 13 : 1101\n"
     ]
    }
   ],
   "source": [
    "a = 15\n",
    "b = 2\n",
    "print(\"a   = {0:2} : {0:04b}\".format(a))\n",
    "print(\"b   = {0:2} : {0:04b}\".format(b))\n",
    "print(\"a^b = {0:2} : {0:04b}\".format(a^b))"
   ]
  },
  {
   "cell_type": "markdown",
   "id": "86f4c102",
   "metadata": {},
   "source": [
    "- 연산자\n",
    "    - 산술연산 : + - * / // % **\n",
    "    - 할당연산 : = += -= *= /= //= %=\n",
    "    - 논리연산 : & and | or not\n",
    "    - 비교연산 : > >= < <= == !=\n",
    "    - 비트연산 : & | ^\n",
    "    - &와 |는 비교연산자보다 우선순위가 높다"
   ]
  },
  {
   "cell_type": "markdown",
   "id": "8345f24f",
   "metadata": {},
   "source": [
    "# 6절 문자열 다루기\n",
    "- 문자열 슬라이싱 변수[from:stop:step]\n",
    "- len(문자열 변수) : 문자갯수\n",
    "- upper() : 대문자로 변환\n",
    "- lower() : 소문자로 변환\n",
    "- title() : 각 어절의 첫 글자만 대문자로\n",
    "- capitalize() : 첫문자만 대문자로\n",
    "- count('찾을문자열') : '찾을문자열'이 몇개 들어있는지 갯수를 반환\n",
    "- find('찾을문자열') : '찾을문자열'이 왼쪽부터 시작하여 몇번째 인덱스에 있는지 인덱스를 반환\n",
    "- rfind('찾을문자열') : '찾을문자열'이 오른쪽부터 ....\n",
    "        **찾을문자열이 없다면 -1을 반환**\n",
    "    cf) index('찾을문자열') : '찾을문자열'의 인덱스 반환. 없다면 오류발생\n",
    "- startswith('특정문자열') : '특정문자열'로 시작하는지 여부\n",
    "- endswith('특정문자열') : '특정문자열'로 끝나는지 여부\n",
    "- strip() : 좌우 공백 제거\n",
    "- rstrip() : 오른쪽 공백 제거\n",
    "- lstrip() : 왼쪽 공백 제거\n",
    "- isdigit() : 문자열이 숫자문자열인지 여부\n",
    "- islower() : 소문자문자열인지 여부\n",
    "- isupper() : 대문자문자열인지 여부\n",
    "- replace(oldStr, newStr) : oldStr을 newStr로 변경"
   ]
  },
  {
   "cell_type": "code",
   "execution_count": 116,
   "id": "8a3dd44f",
   "metadata": {},
   "outputs": [
    {
     "name": "stdout",
     "output_type": "stream",
     "text": [
      "1. 글자수 : 39\n",
      "2. 대문자로 : PYTHON IS EASY. PYTHON IS SMART. PYTHON\n",
      "3. 소문자로 : python is easy. python is smart. python\n",
      "4. title : Python Is Easy. Python Is Smart. Python\n",
      "5. capitalize : Python is easy. python is smart. python\n",
      "6. python이 몇번 나오는지 : 2\n",
      "7. 대소문자구분없이 python이 몇번 나오는지 : 3\n",
      "7. 대소문자구분없이 python이 몇번 나오는지 : 3\n",
      "7. 대소문자구분없이 python이 몇번 나오는지 : 3\n",
      "8. python이 나오는 첫 index 위치 : 0\n",
      "8. python이 나오는 마지막 index 위치 : 33\n",
      "8. java이 나오는 마지막 index 위치 : -1\n",
      "8. python이 나오는 첫 index 위치 : 0\n",
      "9. python으로 시작하는지 여부 True\n",
      "10.대소문자구분없이 python으로 시작하는지 여부 True\n"
     ]
    }
   ],
   "source": [
    "temp = \"python is easy. pYThon is smart. python\"\n",
    "print('1. 글자수 :',len(temp))\n",
    "print('2. 대문자로 :',temp.upper())\n",
    "print('3. 소문자로 :',temp.lower())\n",
    "print('4. title :',temp.title())\n",
    "print('5. capitalize :',temp.capitalize())\n",
    "print('6. python이 몇번 나오는지 :', temp.count('python'))\n",
    "print('7. 대소문자구분없이 python이 몇번 나오는지 :', temp.lower().count('python'))\n",
    "print('7. 대소문자구분없이 python이 몇번 나오는지 :', temp.upper().count('PYTHON'))\n",
    "print('7. 대소문자구분없이 python이 몇번 나오는지 :', temp.title().count('Python'))\n",
    "print('8. python이 나오는 첫 index 위치 :', temp.find('python'))\n",
    "print('8. python이 나오는 마지막 index 위치 :', temp.rfind('python'))\n",
    "print('8. java이 나오는 마지막 index 위치 :', temp.rfind('java'))\n",
    "print('8. python이 나오는 첫 index 위치 :', temp.index('python'))\n",
    "#print('8. java이 나오는 마지막 index 위치 :', temp.index('java'))\n",
    "print('9. python으로 시작하는지 여부', temp.startswith('python'))\n",
    "print('10.대소문자구분없이 python으로 시작하는지 여부', temp.upper().endswith('PYTHON'))\n"
   ]
  },
  {
   "cell_type": "code",
   "execution_count": 125,
   "id": "06d50079",
   "metadata": {},
   "outputs": [
    {
     "name": "stdout",
     "output_type": "stream",
     "text": [
      "11. 좌우공백제거 : [python is easy.]\n",
      "11. 좌측공백제거 : [python is easy.      ]\n",
      "11. 우측공백제거 : [      python is easy.]\n",
      "12. 숫자문자열인지 : False\n",
      "13. 소문자열인지 : True\n",
      "13. 대문자열인지 : False\n",
      "14. ,제거 : 1000000\n",
      "14. ,제거 : 1000\n"
     ]
    }
   ],
   "source": [
    "temp='      python is easy.      '\n",
    "notdisit='1,000,000'\n",
    "num_str = '1000'\n",
    "print('11. 좌우공백제거 : [{}]'.format(temp.strip()))\n",
    "print('11. 좌측공백제거 : [{}]'.format(temp.lstrip()))\n",
    "print('11. 우측공백제거 : [{}]'.format(temp.rstrip()))\n",
    "print('12. 숫자문자열인지 :', notdisit.isdigit())\n",
    "print('13. 소문자열인지 :', temp.islower())\n",
    "print('13. 대문자열인지 :', temp.isupper())\n",
    "print('14. ,제거 :', notdisit.replace(',',''))\n",
    "print('14. ,제거 :', num_str.replace(',',''))"
   ]
  },
  {
   "cell_type": "code",
   "execution_count": 131,
   "id": "daf17185",
   "metadata": {},
   "outputs": [
    {
     "name": "stdout",
     "output_type": "stream",
     "text": [
      "space단위로 temp를 분리 : ['홍길동', '김길동', '신길동', '유길동']\n"
     ]
    }
   ],
   "source": [
    "temp = \"  홍길동   김길동 신길동 유길동\"\n",
    "print('space단위로 temp를 분리 :', temp.split()) #기본이 space 단위로 분리"
   ]
  },
  {
   "cell_type": "code",
   "execution_count": 136,
   "id": "523cd6a5",
   "metadata": {},
   "outputs": [
    {
     "name": "stdout",
     "output_type": "stream",
     "text": [
      " - 단위로 data를 분리(결과 : list)\n",
      "['2025', '04', '10']\n",
      "년 : 2025\n",
      "월 : 04\n",
      "일 : 10\n"
     ]
    }
   ],
   "source": [
    "data = \"2025-04-10\"\n",
    "print(\" - 단위로 data를 분리(결과 : list)\")\n",
    "data_list = data.split('-')\n",
    "print(data_list)\n",
    "print(\"년 :\", data_list[0])\n",
    "print(\"월 :\", data_list[1])\n",
    "print(\"일 :\", data_list[2])"
   ]
  },
  {
   "cell_type": "code",
   "execution_count": 140,
   "id": "ea84ddb2",
   "metadata": {},
   "outputs": [
    {
     "name": "stdout",
     "output_type": "stream",
     "text": [
      "원 데이터 : Python - HTML/CSS - JavaScript - DBMS\n",
      "분리된 데이타 : ['Python', 'HTML/CSS', 'JavaScript', 'DBMS']\n",
      "join돈 데이터 : Python/HTML/CSS/JavaScript/DBMS\n"
     ]
    }
   ],
   "source": [
    "# ' - ' 를 '/'로 바꾸기\n",
    "temp = \"Python - HTML/CSS - JavaScript - DBMS\"\n",
    "#temp.replace(' - ', '/')\n",
    "print('원 데이터 :', temp)\n",
    "splited_temp = temp.split(' - ')\n",
    "print('분리된 데이타 :', splited_temp)\n",
    "jointed_temp = '/'.join(splited_temp)\n",
    "print('join돈 데이터 :', jointed_temp)"
   ]
  },
  {
   "cell_type": "code",
   "execution_count": 142,
   "id": "8febcf0b",
   "metadata": {},
   "outputs": [],
   "source": [
    "str_ = 'ABC'\n",
    "#str_ = ['A','B','C']"
   ]
  },
  {
   "cell_type": "code",
   "execution_count": 143,
   "id": "2a172185",
   "metadata": {
    "collapsed": true
   },
   "outputs": [
    {
     "data": {
      "text/plain": [
       "['__add__',\n",
       " '__class__',\n",
       " '__contains__',\n",
       " '__delattr__',\n",
       " '__dir__',\n",
       " '__doc__',\n",
       " '__eq__',\n",
       " '__format__',\n",
       " '__ge__',\n",
       " '__getattribute__',\n",
       " '__getitem__',\n",
       " '__getnewargs__',\n",
       " '__gt__',\n",
       " '__hash__',\n",
       " '__init__',\n",
       " '__init_subclass__',\n",
       " '__iter__',\n",
       " '__le__',\n",
       " '__len__',\n",
       " '__lt__',\n",
       " '__mod__',\n",
       " '__mul__',\n",
       " '__ne__',\n",
       " '__new__',\n",
       " '__reduce__',\n",
       " '__reduce_ex__',\n",
       " '__repr__',\n",
       " '__rmod__',\n",
       " '__rmul__',\n",
       " '__setattr__',\n",
       " '__sizeof__',\n",
       " '__str__',\n",
       " '__subclasshook__',\n",
       " 'capitalize',\n",
       " 'casefold',\n",
       " 'center',\n",
       " 'count',\n",
       " 'encode',\n",
       " 'endswith',\n",
       " 'expandtabs',\n",
       " 'find',\n",
       " 'format',\n",
       " 'format_map',\n",
       " 'index',\n",
       " 'isalnum',\n",
       " 'isalpha',\n",
       " 'isascii',\n",
       " 'isdecimal',\n",
       " 'isdigit',\n",
       " 'isidentifier',\n",
       " 'islower',\n",
       " 'isnumeric',\n",
       " 'isprintable',\n",
       " 'isspace',\n",
       " 'istitle',\n",
       " 'isupper',\n",
       " 'join',\n",
       " 'ljust',\n",
       " 'lower',\n",
       " 'lstrip',\n",
       " 'maketrans',\n",
       " 'partition',\n",
       " 'removeprefix',\n",
       " 'removesuffix',\n",
       " 'replace',\n",
       " 'rfind',\n",
       " 'rindex',\n",
       " 'rjust',\n",
       " 'rpartition',\n",
       " 'rsplit',\n",
       " 'rstrip',\n",
       " 'split',\n",
       " 'splitlines',\n",
       " 'startswith',\n",
       " 'strip',\n",
       " 'swapcase',\n",
       " 'title',\n",
       " 'translate',\n",
       " 'upper',\n",
       " 'zfill']"
      ]
     },
     "execution_count": 143,
     "metadata": {},
     "output_type": "execute_result"
    }
   ],
   "source": [
    "# 문자열이 다룰 수 있는 함수들과 변수들 목록\n",
    "dir(str)"
   ]
  },
  {
   "cell_type": "markdown",
   "id": "3607ad1c",
   "metadata": {},
   "source": [
    "# 7절 시간, 날짜, 날짜시간 다루기"
   ]
  },
  {
   "cell_type": "code",
   "execution_count": 5,
   "id": "f2aa94d8",
   "metadata": {},
   "outputs": [
    {
     "data": {
      "text/plain": [
       "'C:\\\\Users\\\\Admin\\\\anaconda3\\\\lib\\\\datetime.py'"
      ]
     },
     "execution_count": 5,
     "metadata": {},
     "output_type": "execute_result"
    }
   ],
   "source": [
    "import datetime\n",
    "datetime.__file__"
   ]
  },
  {
   "cell_type": "code",
   "execution_count": 6,
   "id": "79debf0c",
   "metadata": {},
   "outputs": [],
   "source": [
    "# datetime 모듈(datetime.py)\n",
    "from datetime import datetime, date, time"
   ]
  },
  {
   "cell_type": "markdown",
   "id": "8d15d989",
   "metadata": {},
   "source": [
    "## 7.1 시간과 날짜"
   ]
  },
  {
   "cell_type": "code",
   "execution_count": 10,
   "id": "bcb9d78f",
   "metadata": {},
   "outputs": [
    {
     "data": {
      "text/plain": [
       "datetime.datetime(2025, 4, 7, 9, 30)"
      ]
     },
     "execution_count": 10,
     "metadata": {},
     "output_type": "execute_result"
    }
   ],
   "source": [
    "# 특정한 시점을 갖는 datetime 객체 생성\n",
    "thatday = datetime(2025, 4, 7, 9, 30, 0)\n",
    "thatday"
   ]
  },
  {
   "cell_type": "code",
   "execution_count": 21,
   "id": "ce254155",
   "metadata": {},
   "outputs": [
    {
     "name": "stdout",
     "output_type": "stream",
     "text": [
      "2025-04-07 09:30:00\n",
      "Mon Apr  7 09:30:00 2025\n",
      "2025년04월07일(월요일) 오전 09시30분 00초\n",
      "2025년04월07일(월요일) 오전 09시30분 00초\n"
     ]
    }
   ],
   "source": [
    "print(thatday)\n",
    "print(thatday.ctime())\n",
    "print(\"{:%Y년%m월%d일(%A) %p %I시%M분 %S초}\".format(thatday))\n",
    "print(thatday.strftime('%Y년%m월%d일(%A) %p %I시%M분 %S초'))"
   ]
  },
  {
   "cell_type": "code",
   "execution_count": 18,
   "id": "d92ecefb",
   "metadata": {},
   "outputs": [
    {
     "data": {
      "text/plain": [
       "'ko_KR'"
      ]
     },
     "execution_count": 18,
     "metadata": {},
     "output_type": "execute_result"
    }
   ],
   "source": [
    "import locale\n",
    "locale.setlocale(locale.LC_TIME, \"ko_KR\")"
   ]
  },
  {
   "cell_type": "code",
   "execution_count": 26,
   "id": "d8dd6358",
   "metadata": {},
   "outputs": [
    {
     "name": "stdout",
     "output_type": "stream",
     "text": [
      "25년04월11일(금요일) 오전 10시14분 34초\n"
     ]
    }
   ],
   "source": [
    "now = datetime.now()\n",
    "now\n",
    "print(\"{:%y년%m월%d일(%A) %p %I시%M분 %S초}\".format(now))"
   ]
  },
  {
   "cell_type": "code",
   "execution_count": 27,
   "id": "b1909443",
   "metadata": {},
   "outputs": [
    {
     "data": {
      "text/plain": [
       "datetime.timedelta(days=4, seconds=2674, microseconds=578653)"
      ]
     },
     "execution_count": 27,
     "metadata": {},
     "output_type": "execute_result"
    }
   ],
   "source": [
    "diff = now - thatday\n",
    "diff"
   ]
  },
  {
   "cell_type": "code",
   "execution_count": 28,
   "id": "3b57bfdd",
   "metadata": {},
   "outputs": [
    {
     "data": {
      "text/plain": [
       "4"
      ]
     },
     "execution_count": 28,
     "metadata": {},
     "output_type": "execute_result"
    }
   ],
   "source": [
    "diff.days"
   ]
  },
  {
   "cell_type": "markdown",
   "id": "ac463e98",
   "metadata": {},
   "source": [
    "## 7.2 날짜"
   ]
  },
  {
   "cell_type": "code",
   "execution_count": 38,
   "id": "2828a891",
   "metadata": {},
   "outputs": [
    {
     "data": {
      "text/plain": [
       "datetime.date(2025, 9, 2)"
      ]
     },
     "execution_count": 38,
     "metadata": {},
     "output_type": "execute_result"
    }
   ],
   "source": [
    "someday = date(2025, 9, 2)\n",
    "someday"
   ]
  },
  {
   "cell_type": "code",
   "execution_count": 30,
   "id": "b385193a",
   "metadata": {},
   "outputs": [
    {
     "name": "stdout",
     "output_type": "stream",
     "text": [
      "2025년09월03일\n"
     ]
    }
   ],
   "source": [
    "print(someday.strftime(\"%Y년%m월%d일\"))"
   ]
  },
  {
   "cell_type": "code",
   "execution_count": 36,
   "id": "4bfd14d3",
   "metadata": {},
   "outputs": [
    {
     "data": {
      "text/plain": [
       "True"
      ]
     },
     "execution_count": 36,
     "metadata": {},
     "output_type": "execute_result"
    }
   ],
   "source": [
    "today1 = datetime.now().date()\n",
    "today2 = date.today()\n",
    "today1 == today2"
   ]
  },
  {
   "cell_type": "code",
   "execution_count": 37,
   "id": "18b165d0",
   "metadata": {},
   "outputs": [
    {
     "name": "stdout",
     "output_type": "stream",
     "text": [
      "25년 04월 11일\n"
     ]
    }
   ],
   "source": [
    "print(today1.strftime(\"%y년 %m월 %d일\"))"
   ]
  },
  {
   "cell_type": "code",
   "execution_count": 40,
   "id": "36d88540",
   "metadata": {},
   "outputs": [
    {
     "data": {
      "text/plain": [
       "datetime.timedelta(days=144)"
      ]
     },
     "execution_count": 40,
     "metadata": {},
     "output_type": "execute_result"
    }
   ],
   "source": [
    "diff = someday - today\n",
    "diff"
   ]
  },
  {
   "cell_type": "markdown",
   "id": "f367a428",
   "metadata": {},
   "source": [
    "## 7.3 시간"
   ]
  },
  {
   "cell_type": "code",
   "execution_count": 42,
   "id": "9b30edbb",
   "metadata": {},
   "outputs": [
    {
     "data": {
      "text/plain": [
       "datetime.time(13, 10)"
      ]
     },
     "execution_count": 42,
     "metadata": {},
     "output_type": "execute_result"
    }
   ],
   "source": [
    "# 특정 시간\n",
    "t = time(13,10)\n",
    "t"
   ]
  },
  {
   "cell_type": "code",
   "execution_count": 46,
   "id": "86ebcf76",
   "metadata": {},
   "outputs": [
    {
     "name": "stdout",
     "output_type": "stream",
     "text": [
      "13:10:00\n",
      "오후 01시 10분\n"
     ]
    }
   ],
   "source": [
    "print(t)\n",
    "print(t.strftime(\"%p %I시 %M분\"))"
   ]
  },
  {
   "cell_type": "code",
   "execution_count": 48,
   "id": "5db8b7d1",
   "metadata": {},
   "outputs": [
    {
     "data": {
      "text/plain": [
       "datetime.time(10, 42, 19, 589107)"
      ]
     },
     "execution_count": 48,
     "metadata": {},
     "output_type": "execute_result"
    }
   ],
   "source": [
    "# 지금 시간\n",
    "now_time = datetime.now().time()\n",
    "now_time"
   ]
  },
  {
   "cell_type": "code",
   "execution_count": 50,
   "id": "93a72df2",
   "metadata": {},
   "outputs": [
    {
     "name": "stdout",
     "output_type": "stream",
     "text": [
      "오전 10시 42분 19초\n"
     ]
    }
   ],
   "source": [
    "print(now_time.strftime(\"%p %I시 %M분 %S초\"))"
   ]
  },
  {
   "cell_type": "markdown",
   "id": "1427e8c9",
   "metadata": {},
   "source": [
    "**datetime, date, time형들을 원하는 format의 문자형으로 반환 : strftime()**\n",
    "- %Y, %y, %m, %d, %a(요일), %p(오전,오후) %H(24시) %I(12시) %M %S"
   ]
  },
  {
   "cell_type": "markdown",
   "id": "712569c0",
   "metadata": {},
   "source": [
    "# 8절 연습문제"
   ]
  },
  {
   "cell_type": "code",
   "execution_count": 144,
   "id": "40631953",
   "metadata": {},
   "outputs": [
    {
     "name": "stdout",
     "output_type": "stream",
     "text": [
      "홍길동님의 나이는 23 살입니다\n"
     ]
    }
   ],
   "source": [
    "# 1.이름과 나이 변수를 다음 형식으로 출력하도록 format() 함수를 이용해 형식화하세요 \n",
    "#   [출력형식 : 홍길동님의 나이는 23 살입니다]\n",
    "name = '홍길동'\n",
    "age = 23\n",
    "print('{}님의 나이는 {} 살입니다'.format(name,age))"
   ]
  },
  {
   "cell_type": "code",
   "execution_count": 146,
   "id": "f3b1b479",
   "metadata": {},
   "outputs": [
    {
     "name": "stdout",
     "output_type": "stream",
     "text": [
      "첫번째 정수 입력 : 7\n",
      "두번째 정수 입력 : 5\n",
      "덧셈: 12\t뺄셈:  2\t곱셈: 35\t나눗셈:1.40\t몫:  1\t나머지:  2\t\n"
     ]
    }
   ],
   "source": [
    "# 2.두 정수를 입력받아 두 수의 덧셈 , 뺄셈 , 곱셈 , 나눗셈 , 몫 , 나머지를 출력하세요\n",
    "num1 = int(input('첫번째 정수 입력 : '))\n",
    "num2 = int(input('두번째 정수 입력 : '))\n",
    "print('덧셈:{:3}\\t뺄셈:{:3}\\t곱셈:{:3}\\t나눗셈:{:3.2f}\\t몫:{:3}\\t나머지:{:3}\\t'.format(num1+num2,\n",
    "num1-num2, num1*num2, num1/num2, num1//num2, num1%num2))"
   ]
  },
  {
   "cell_type": "code",
   "execution_count": 151,
   "id": "421c0c57",
   "metadata": {},
   "outputs": [
    {
     "name": "stdout",
     "output_type": "stream",
     "text": [
      "World Hello\n"
     ]
    }
   ],
   "source": [
    "# 3.문자열의 분리하기와 합치기 기능을 이용하여 'Hello World'가 할당된 변수를 이용하여\n",
    "#   ‘World Hello'로 출력하세요\n",
    "str_ = 'Hello World'\n",
    "splited_str = str_.split()\n",
    "joined_str = ' '.join(splited_str[::-1])\n",
    "print(joined_str)"
   ]
  },
  {
   "cell_type": "code",
   "execution_count": 158,
   "id": "7d951926",
   "metadata": {},
   "outputs": [
    {
     "data": {
      "text/plain": [
       "'bcdefa'"
      ]
     },
     "execution_count": 158,
     "metadata": {},
     "output_type": "execute_result"
    }
   ],
   "source": [
    "# 4. x = ' abcdef ＇를 이용하여 bcdefa 로 출력하세요 문자 슬라이싱이용\n",
    "x = 'abcdef'\n",
    "x[1:] + x[0]"
   ]
  },
  {
   "cell_type": "code",
   "execution_count": 196,
   "id": "1611d7ac",
   "metadata": {},
   "outputs": [
    {
     "data": {
      "text/plain": [
       "'fedcba'"
      ]
     },
     "execution_count": 196,
     "metadata": {},
     "output_type": "execute_result"
    }
   ],
   "source": [
    "# 5. x =  abcdef 를 이용하여 fedcba 로 출력하세요\n",
    "x = 'abcdef'\n",
    "x[::-1] "
   ]
  },
  {
   "cell_type": "code",
   "execution_count": 213,
   "id": "d6a16f77",
   "metadata": {},
   "outputs": [
    {
     "name": "stdout",
     "output_type": "stream",
     "text": [
      "온도를 입력하시오(섭씨) :6\n",
      "화씨온도 : 42.80\n"
     ]
    }
   ],
   "source": [
    "#6. 오늘의 온도를 섭씨온도로 입력받아 화씨 온도로 변환하는 프로그램을 작성하세요 . \n",
    "#   화씨 온도는 소수점이 있을 경우만 두번째 자리까지 출력되고 , 소수점이하 값이 없는 \n",
    "#   경우 소수점을 출력하지 않도록 합니다 다음은 섭씨와 화씨의 변환 공식입니다 . \n",
    "#   C 는 섭씨 , F 는 화씨 C = (F-32) / 1.8, F = (C*1.8) + 32\n",
    "temperature_C = float(input(\"온도를 입력하시오(섭씨) :\"))\n",
    "temperature_F = temperature_C * 1.8 + 32\n",
    "temp = str(temperature_F).split('.')\n",
    "if temp[1]=='0':\n",
    "    temperature_F = int(temp[0])\n",
    "    print('화씨온도 : {}'.format(temperature_F))\n",
    "else:\n",
    "    print('화씨온도 : {:.2f}'.format(temperature_F))\n",
    "#print('화씨온도 : {.}'.format(str(temperature_F).replace('.0','')))"
   ]
  },
  {
   "cell_type": "code",
   "execution_count": 165,
   "id": "990de5fa",
   "metadata": {},
   "outputs": [],
   "source": [
    "# 7.다음 중 변수 선언으로 잘못된 것을 모두 고르시오\n",
    "# ①for ②10th ③Student.name ④_1234\n",
    "# 정답 : 1,3 \n",
    "# 예약어는 변수로 사용할 수 없음\n",
    "# 변수 선언 시 특수문자는 _ 만 가능"
   ]
  },
  {
   "cell_type": "code",
   "execution_count": 166,
   "id": "0f737304",
   "metadata": {},
   "outputs": [],
   "source": [
    "# 8. 다음의 코드의 실행결과는?\n",
    "# 'SeounSeoul'\n",
    "# 'Seou n Seoul'"
   ]
  },
  {
   "cell_type": "code",
   "execution_count": 168,
   "id": "cad08543",
   "metadata": {},
   "outputs": [],
   "source": [
    "# 9. 다음 중 파이썬 3.x 버전에서 연산식과 그 결과의 출력이 잘못된 것은?\n",
    "# ①수식 8//2 결과 4   ②수식 8/2 결과 4   ③수식 8 **2 결과 64\n",
    "# 정답 : 2\n",
    "# 나눗셈은 실수를 반환함"
   ]
  },
  {
   "cell_type": "code",
   "execution_count": 167,
   "id": "a835c6db",
   "metadata": {},
   "outputs": [],
   "source": [
    "# 10.아래 프로그램의 결과는?\n",
    "# 오류\n",
    "# 문자열과 정수는 더할 수 없으"
   ]
  },
  {
   "cell_type": "code",
   "execution_count": 173,
   "id": "3aff841e",
   "metadata": {},
   "outputs": [
    {
     "name": "stdout",
     "output_type": "stream",
     "text": [
      "나라\n"
     ]
    }
   ],
   "source": [
    "str_ = '우리 나라 대한 민국'\n",
    "splited_str = str_.split()\n",
    "print(splited_str[1])"
   ]
  }
 ],
 "metadata": {
  "kernelspec": {
   "display_name": "Python 3 (ipykernel)",
   "language": "python",
   "name": "python3"
  },
  "language_info": {
   "codemirror_mode": {
    "name": "ipython",
    "version": 3
   },
   "file_extension": ".py",
   "mimetype": "text/x-python",
   "name": "python",
   "nbconvert_exporter": "python",
   "pygments_lexer": "ipython3",
   "version": "3.10.9"
  },
  "toc": {
   "base_numbering": 1,
   "nav_menu": {},
   "number_sections": false,
   "sideBar": true,
   "skip_h1_title": false,
   "title_cell": "Table of Contents",
   "title_sidebar": "Contents",
   "toc_cell": false,
   "toc_position": {
    "height": "calc(100% - 180px)",
    "left": "10px",
    "top": "150px",
    "width": "165px"
   },
   "toc_section_display": true,
   "toc_window_display": true
  }
 },
 "nbformat": 4,
 "nbformat_minor": 5
}
