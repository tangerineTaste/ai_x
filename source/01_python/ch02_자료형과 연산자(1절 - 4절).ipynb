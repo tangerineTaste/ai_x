{
 "cells": [
  {
   "cell_type": "code",
   "execution_count": 246,
   "id": "77a6e102",
   "metadata": {},
   "outputs": [
    {
     "data": {
      "text/html": [
       "\n",
       "<style>\n",
       "div.container{width:86% !important;}\n",
       "div.cell.code_cell.rendered{width:100%;}\n",
       "div.CodeMirror {font-family:Consolas; font-size:15pt;}\n",
       "div.output {font-size:15pt; font-weight:bold;}\n",
       "div.input {font-family:Consolas; font-size:15pt;}\n",
       "div.prompt {min-width:70px;}\n",
       "div#toc-wrapper{padding-top:120px;}\n",
       "div.text_cell_render ul li{font-size:12pt;padding:5px;}\n",
       "table.dataframe{font-size:15px;}\n",
       "</style>\n"
      ],
      "text/plain": [
       "<IPython.core.display.HTML object>"
      ]
     },
     "metadata": {},
     "output_type": "display_data"
    }
   ],
   "source": [
    "from IPython.display import display, HTML \n",
    "display(HTML(\"\"\"\n",
    "<style>\n",
    "div.container{width:86% !important;}\n",
    "div.cell.code_cell.rendered{width:100%;}\n",
    "div.CodeMirror {font-family:Consolas; font-size:15pt;}\n",
    "div.output {font-size:15pt; font-weight:bold;}\n",
    "div.input {font-family:Consolas; font-size:15pt;}\n",
    "div.prompt {min-width:70px;}\n",
    "div#toc-wrapper{padding-top:120px;}\n",
    "div.text_cell_render ul li{font-size:12pt;padding:5px;}\n",
    "table.dataframe{font-size:15px;}\n",
    "</style>\n",
    "\"\"\"))"
   ]
  },
  {
   "cell_type": "markdown",
   "id": "89d15038",
   "metadata": {},
   "source": [
    "<font size=\"5\" color=\"red\"> ch02 자료형과 연산자</font>\n",
    "# 1절 변수\n",
    "- 파이썬 변수 선언 X, 할당과 동시에 타입과 값이 할당\n",
    "\n",
    "## 1.1 변수 할당\n",
    "- 할당 연산자(=)를 이용해서 값을 할당하면 타입이 세팅됨\n",
    "- 파이썬에서의 모든 변수는 객체로 저장"
   ]
  },
  {
   "cell_type": "code",
   "execution_count": 5,
   "id": "ecbb7dce",
   "metadata": {},
   "outputs": [
    {
     "name": "stdout",
     "output_type": "stream",
     "text": [
      "계산된 넓이는 78.5\n"
     ]
    }
   ],
   "source": [
    "r = 5\n",
    "area = 3.14 * r * r\n",
    "print(\"계산된 넓이는\" , area)"
   ]
  },
  {
   "cell_type": "code",
   "execution_count": 7,
   "id": "fe784d4e",
   "metadata": {},
   "outputs": [
    {
     "name": "stdout",
     "output_type": "stream",
     "text": [
      "area = 78.53981633974483\n"
     ]
    }
   ],
   "source": [
    "import numpy as np\n",
    "area = np.pi * r * r\n",
    "print('area =', area)"
   ]
  },
  {
   "cell_type": "code",
   "execution_count": 9,
   "id": "cabaf2b7",
   "metadata": {},
   "outputs": [
    {
     "data": {
      "text/plain": [
       "False"
      ]
     },
     "execution_count": 9,
     "metadata": {},
     "output_type": "execute_result"
    }
   ],
   "source": [
    "area.is_integer() #area가 inteager인지 여부를 반환"
   ]
  },
  {
   "cell_type": "code",
   "execution_count": 11,
   "id": "6172c3f9",
   "metadata": {},
   "outputs": [
    {
     "name": "stdout",
     "output_type": "stream",
     "text": [
      "area의 주소 : 2240294306320\n",
      "area의 타입 : <class 'float'>\n"
     ]
    }
   ],
   "source": [
    "print('area의 주소 :',id(area)) #id(area) : area 의 주솟값\n",
    "print('area의 타입 :', type(area)) #type(area) : area 의 타입"
   ]
  },
  {
   "cell_type": "code",
   "execution_count": 12,
   "id": "c5e7e503",
   "metadata": {},
   "outputs": [
    {
     "name": "stdout",
     "output_type": "stream",
     "text": [
      "area의 주소 : 2240294306576\n",
      "area의 타입 : <class 'float'>\n"
     ]
    }
   ],
   "source": [
    "area = 5.5\n",
    "print('area의 주소 :',id(area)) #id(area) : area 의 주솟값\n",
    "print('area의 타입 :', type(area)) #type(area) : area 의 타입"
   ]
  },
  {
   "cell_type": "code",
   "execution_count": 13,
   "id": "243feacc",
   "metadata": {},
   "outputs": [
    {
     "name": "stdout",
     "output_type": "stream",
     "text": [
      "area의 주소 : 2240173638160\n",
      "area의 타입 : <class 'int'>\n"
     ]
    }
   ],
   "source": [
    "area = 10\n",
    "print('area의 주소 :',id(area)) #id(area) : area 의 주솟값\n",
    "print('area의 타입 :', type(area)) #type(area) : area 의 타입"
   ]
  },
  {
   "cell_type": "code",
   "execution_count": 14,
   "id": "bc3c2cd9",
   "metadata": {},
   "outputs": [
    {
     "name": "stdout",
     "output_type": "stream",
     "text": [
      "area의 주소 : 2240310042832\n",
      "area의 타입 : <class 'str'>\n"
     ]
    }
   ],
   "source": [
    "area = \"파이썬\"\n",
    "print('area의 주소 :',id(area)) #id(area) : area 의 주솟값\n",
    "print('area의 타입 :', type(area)) #type(area) : area 의 타입"
   ]
  },
  {
   "cell_type": "markdown",
   "id": "b9222057",
   "metadata": {},
   "source": [
    "## 1.2 변수이름 규칙\n",
    "- 문자로 시작(숫자시작 불가)\n",
    "- 문자, 숫자, _로 변수명 작성\n",
    "- 함수명은 변수이름으로 가능하나 피한다. 써야한다면 int_와 같은 방식으로 한다\n",
    "- 파이썬 예약어(for, ..)는 변수이름 사용 불가\n",
    "- 한글변수는 꼭 필요시에만 이용"
   ]
  },
  {
   "cell_type": "code",
   "execution_count": 15,
   "id": "38e462ca",
   "metadata": {},
   "outputs": [
    {
     "name": "stdout",
     "output_type": "stream",
     "text": [
      "홍길동\n"
     ]
    }
   ],
   "source": [
    "이름 = \"홍길동\" \n",
    "print(이름)"
   ]
  },
  {
   "cell_type": "code",
   "execution_count": 17,
   "id": "539f3b64",
   "metadata": {
    "collapsed": true
   },
   "outputs": [
    {
     "ename": "SyntaxError",
     "evalue": "invalid syntax (2666952821.py, line 1)",
     "output_type": "error",
     "traceback": [
      "\u001b[1;36m  Cell \u001b[1;32mIn[17], line 1\u001b[1;36m\u001b[0m\n\u001b[1;33m    for = 5 #예약어는 변수이름 사용 불가\u001b[0m\n\u001b[1;37m        ^\u001b[0m\n\u001b[1;31mSyntaxError\u001b[0m\u001b[1;31m:\u001b[0m invalid syntax\n"
     ]
    }
   ],
   "source": [
    "for = 5 #예약어는 변수이름 사용 불가"
   ]
  },
  {
   "cell_type": "code",
   "execution_count": 18,
   "id": "16749b94",
   "metadata": {},
   "outputs": [],
   "source": [
    "#member.name = \"홍길동\"\n",
    "member_name = \"홍길동\"\n",
    "memberName = \"홍길동\""
   ]
  },
  {
   "cell_type": "code",
   "execution_count": 19,
   "id": "505ccde9",
   "metadata": {},
   "outputs": [
    {
     "name": "stdout",
     "output_type": "stream",
     "text": [
      "10\n"
     ]
    }
   ],
   "source": [
    "Print = 10 #대문자로 시작한 변수, 함수명의 변수는 강력비추\n",
    "print(Print)"
   ]
  },
  {
   "cell_type": "code",
   "execution_count": 20,
   "id": "90f6796f",
   "metadata": {},
   "outputs": [
    {
     "data": {
      "text/plain": [
       "complex"
      ]
     },
     "execution_count": 20,
     "metadata": {},
     "output_type": "execute_result"
    }
   ],
   "source": [
    "# 파이썬에서의 숫자 : 정수, 실수, 복소수\n",
    "i = 3 + 3j # 복소수\n",
    "type(i)"
   ]
  },
  {
   "cell_type": "code",
   "execution_count": 22,
   "id": "2d2cd702",
   "metadata": {},
   "outputs": [
    {
     "data": {
      "text/plain": [
       "True"
      ]
     },
     "execution_count": 22,
     "metadata": {},
     "output_type": "execute_result"
    }
   ],
   "source": [
    "isinstance(i, complex) # i변수(객체)가 complex인지 여부"
   ]
  },
  {
   "cell_type": "markdown",
   "id": "444f89ec",
   "metadata": {},
   "source": [
    "## 1.3 도움말"
   ]
  },
  {
   "cell_type": "code",
   "execution_count": 23,
   "id": "aa9354b4",
   "metadata": {},
   "outputs": [
    {
     "name": "stdout",
     "output_type": "stream",
     "text": [
      "Help on built-in function print in module builtins:\n",
      "\n",
      "print(...)\n",
      "    print(value, ..., sep=' ', end='\\n', file=sys.stdout, flush=False)\n",
      "    \n",
      "    Prints the values to a stream, or to sys.stdout by default.\n",
      "    Optional keyword arguments:\n",
      "    file:  a file-like object (stream); defaults to the current sys.stdout.\n",
      "    sep:   string inserted between values, default a space.\n",
      "    end:   string appended after the last value, default a newline.\n",
      "    flush: whether to forcibly flush the stream.\n",
      "\n"
     ]
    }
   ],
   "source": [
    "help(print)"
   ]
  },
  {
   "cell_type": "code",
   "execution_count": 2,
   "id": "075675fe",
   "metadata": {},
   "outputs": [
    {
     "name": "stdout",
     "output_type": "stream",
     "text": [
      "\n"
     ]
    }
   ],
   "source": [
    "# 도움말 기능 : shift + tab , tap 키\n",
    "print()"
   ]
  },
  {
   "cell_type": "code",
   "execution_count": 7,
   "id": "1e99d1b3",
   "metadata": {},
   "outputs": [
    {
     "data": {
      "text/plain": [
       "20"
      ]
     },
     "execution_count": 7,
     "metadata": {},
     "output_type": "execute_result"
    }
   ],
   "source": [
    "def add(x, y=0):\n",
    "    '''\n",
    "    매개변수 2개를 받아 두자리 숫자로 만듭니다.\n",
    "    x는 10의자리, y는 1의자리 입니다.\n",
    "    사용법 : add(2,3) => 23\n",
    "    '''\n",
    "    return x*10 + y\n",
    "\n",
    "add(2)"
   ]
  },
  {
   "cell_type": "code",
   "execution_count": 11,
   "id": "53944390",
   "metadata": {},
   "outputs": [
    {
     "data": {
      "text/plain": [
       "23"
      ]
     },
     "execution_count": 11,
     "metadata": {},
     "output_type": "execute_result"
    }
   ],
   "source": [
    "a = add\n",
    "a(2,3)"
   ]
  },
  {
   "cell_type": "markdown",
   "id": "5fb9119a",
   "metadata": {},
   "source": [
    "## 1.4 다중 변수 할당"
   ]
  },
  {
   "cell_type": "code",
   "execution_count": 12,
   "id": "c3ddeebb",
   "metadata": {},
   "outputs": [],
   "source": [
    "a = 10\n",
    "b = 20"
   ]
  },
  {
   "cell_type": "code",
   "execution_count": 21,
   "id": "3abd6f05",
   "metadata": {},
   "outputs": [
    {
     "name": "stdout",
     "output_type": "stream",
     "text": [
      "10 20\n"
     ]
    }
   ],
   "source": [
    "a, b = 10 , 20\n",
    "print(a,b)"
   ]
  },
  {
   "cell_type": "code",
   "execution_count": 22,
   "id": "2f58e57c",
   "metadata": {},
   "outputs": [
    {
     "name": "stdout",
     "output_type": "stream",
     "text": [
      "20 30\n"
     ]
    }
   ],
   "source": [
    "# 다중 변수 할당시 순차적 할당이 아니고, 일괄 동시 할당\n",
    "a, b = b , a+b\n",
    "print(a, b)"
   ]
  },
  {
   "cell_type": "markdown",
   "id": "547413da",
   "metadata": {},
   "source": [
    "# 2절 화면 입출력(I/O) "
   ]
  },
  {
   "cell_type": "markdown",
   "id": "931aeb2b",
   "metadata": {},
   "source": [
    "## 2.1 사용자 입력"
   ]
  },
  {
   "cell_type": "code",
   "execution_count": 29,
   "id": "66ffda72",
   "metadata": {},
   "outputs": [
    {
     "name": "stdout",
     "output_type": "stream",
     "text": [
      "첫번째 숫자는?5\n",
      "5\n"
     ]
    }
   ],
   "source": [
    "# input() : 사용자로부터 값을 입력받기 위한 함수. 문자열로 입력\n",
    "first = input(\"첫번째 숫자는?\")\n",
    "print(first)"
   ]
  },
  {
   "cell_type": "code",
   "execution_count": 31,
   "id": "3e9c37df",
   "metadata": {},
   "outputs": [
    {
     "name": "stdout",
     "output_type": "stream",
     "text": [
      "두번째 숫자는?7\n"
     ]
    }
   ],
   "source": [
    "second = input('두번째 숫자는?')"
   ]
  },
  {
   "cell_type": "code",
   "execution_count": 36,
   "id": "2ec8828d",
   "metadata": {},
   "outputs": [
    {
     "name": "stdout",
     "output_type": "stream",
     "text": [
      "합 : 12\n"
     ]
    }
   ],
   "source": [
    "sum = int(first) + int(second)\n",
    "print('합 :',sum)"
   ]
  },
  {
   "cell_type": "code",
   "execution_count": 37,
   "id": "1ba063c5",
   "metadata": {},
   "outputs": [
    {
     "name": "stdout",
     "output_type": "stream",
     "text": [
      "첫번째 숫자는?5\n",
      "두번째 숫자는?8\n"
     ]
    }
   ],
   "source": [
    "first = int(input(\"첫번째 숫자는?\"))\n",
    "second = int(input('두번째 숫자는?'))"
   ]
  },
  {
   "cell_type": "code",
   "execution_count": 54,
   "id": "ff9d6ac3",
   "metadata": {},
   "outputs": [
    {
     "name": "stdout",
     "output_type": "stream",
     "text": [
      "합 13\n"
     ]
    }
   ],
   "source": [
    "sum = first + second\n",
    "print('합',sum)"
   ]
  },
  {
   "cell_type": "markdown",
   "id": "587e7082",
   "metadata": {},
   "source": [
    "## 2.2 sep, end 속성"
   ]
  },
  {
   "cell_type": "code",
   "execution_count": 49,
   "id": "99074b19",
   "metadata": {},
   "outputs": [
    {
     "name": "stdout",
     "output_type": "stream",
     "text": [
      "합=13 합 ~ 13 / 합은 13\n"
     ]
    }
   ],
   "source": [
    "print('합',sum, sep='=', end=' ')\n",
    "print('합',sum, sep=' ~ ',end=' / ')\n",
    "print('합',sum, sep='은 ')"
   ]
  },
  {
   "cell_type": "code",
   "execution_count": 51,
   "id": "ab589f19",
   "metadata": {},
   "outputs": [
    {
     "name": "stdout",
     "output_type": "stream",
     "text": [
      "hello, world\n"
     ]
    }
   ],
   "source": [
    "import sys\n",
    "print(\"hello\", \"world\", sep=\", \", file=sys.stdout)"
   ]
  },
  {
   "cell_type": "markdown",
   "id": "6c09e932",
   "metadata": {},
   "source": [
    "# 3절 기본 자료형\n",
    "- 자료형에 따라 값의 크기와 저장방식이 달라짐\n",
    "    - 숫자 : int, float, complex\n",
    "    - 문자 : srt\n",
    "    - 논리 : bool(True/False)\n",
    "    \n",
    "## 3.1 숫자형"
   ]
  },
  {
   "cell_type": "code",
   "execution_count": 56,
   "id": "bca4df59",
   "metadata": {},
   "outputs": [
    {
     "data": {
      "text/plain": [
       "9223372036854775807"
      ]
     },
     "execution_count": 56,
     "metadata": {},
     "output_type": "execute_result"
    }
   ],
   "source": [
    "sys.maxsize #정수의 최대값 2**63 - 1"
   ]
  },
  {
   "cell_type": "code",
   "execution_count": 60,
   "id": "46f47c96",
   "metadata": {},
   "outputs": [
    {
     "name": "stdout",
     "output_type": "stream",
     "text": [
      "18446744073709551614\n"
     ]
    },
    {
     "data": {
      "text/plain": [
       "int"
      ]
     },
     "execution_count": 60,
     "metadata": {},
     "output_type": "execute_result"
    }
   ],
   "source": [
    "i = sys.maxsize + sys.maxsize\n",
    "print(i)\n",
    "type(i)"
   ]
  },
  {
   "cell_type": "code",
   "execution_count": 61,
   "id": "c00b441b",
   "metadata": {},
   "outputs": [
    {
     "data": {
      "text/plain": [
       "2.0"
      ]
     },
     "execution_count": 61,
     "metadata": {},
     "output_type": "execute_result"
    }
   ],
   "source": [
    "f = 4/2 # 정수/정수는 무조건 실수\n",
    "f"
   ]
  },
  {
   "cell_type": "code",
   "execution_count": 65,
   "id": "58faf65c",
   "metadata": {},
   "outputs": [
    {
     "name": "stdout",
     "output_type": "stream",
     "text": [
      "2\n",
      "2\n"
     ]
    }
   ],
   "source": [
    "# 자밫럼 정수/정수의 결과를 정수로\n",
    "f = 4//2 # 몫 연산자\n",
    "print(f)\n",
    "f = int(4/2) #정수형으로 변환\n",
    "print(f)"
   ]
  },
  {
   "cell_type": "code",
   "execution_count": 66,
   "id": "3901a4d7",
   "metadata": {},
   "outputs": [
    {
     "name": "stdout",
     "output_type": "stream",
     "text": [
      "(-1+0j)\n"
     ]
    }
   ],
   "source": [
    "c = 1j # 0 + 1i 복소수\n",
    "print(c**2)"
   ]
  },
  {
   "cell_type": "code",
   "execution_count": 74,
   "id": "64c98de7",
   "metadata": {},
   "outputs": [
    {
     "name": "stdout",
     "output_type": "stream",
     "text": [
      "지수형 표현할당시 실수형으로 저장 : 1120000000000.0\n",
      "지수형 표현할당시 실수형으로 저장 : 1.12e-12\n"
     ]
    }
   ],
   "source": [
    "f = 1.12e12 # 1.12의 10의 12승 112000000000000\n",
    "print('지수형 표현할당시 실수형으로 저장 :', f)\n",
    "f = 1.12e-12 # 0.00000000000112\n",
    "print('지수형 표현할당시 실수형으로 저장 :' , f)"
   ]
  },
  {
   "cell_type": "markdown",
   "id": "6b219031",
   "metadata": {},
   "source": [
    "## 3.2 문자형\n",
    "쌍따옴표(\"-\") 혹은 홑따옴표('-')사용"
   ]
  },
  {
   "cell_type": "code",
   "execution_count": 81,
   "id": "e15a77a2",
   "metadata": {},
   "outputs": [
    {
     "name": "stdout",
     "output_type": "stream",
     "text": [
      "홍길동\"짱\", 서울시 관악구 '신림동'\n"
     ]
    }
   ],
   "source": [
    "name = \"홍길동\\\"짱\\\"\" #홍길동\"짱\"\n",
    "name = '홍길동\"짱\"'\n",
    "address = '서울시 관악구 \\'신림동\\''\n",
    "address = \"서울시 관악구 '신림동'\" # 서울시 관악구 '신길동'\n",
    "print(name, address, sep=\", \")"
   ]
  },
  {
   "cell_type": "code",
   "execution_count": 82,
   "id": "2ea64e3f",
   "metadata": {},
   "outputs": [
    {
     "name": "stdout",
     "output_type": "stream",
     "text": [
      "여러줄 짜리 내용\n",
      "줄바꿈 문자를 쓰지 않고 따옴표 3개로 처리\n",
      "이처럼 쓰는 경우가 많아요\n"
     ]
    }
   ],
   "source": [
    "# 문자형 변수 여러줄 \n",
    "text = '''여러줄 짜리 내용\n",
    "줄바꿈 문자를 쓰지 않고 따옴표 3개로 처리\n",
    "이처럼 쓰는 경우가 많아요'''\n",
    "print(text)"
   ]
  },
  {
   "cell_type": "markdown",
   "id": "86077d66",
   "metadata": {},
   "source": [
    "### ※ 문자열 연산"
   ]
  },
  {
   "cell_type": "code",
   "execution_count": 83,
   "id": "01f39154",
   "metadata": {},
   "outputs": [
    {
     "name": "stdout",
     "output_type": "stream",
     "text": [
      "홍길동동해 번쩍 서해 번쩍\n"
     ]
    }
   ],
   "source": [
    "'''\n",
    "    여러 줄 주석 용도\n",
    "    2025.04.08 문자열 연산 소스 by 아무개\n",
    "'''\n",
    "name1 = \"홍길동\"\n",
    "name2 = \"동해 번쩍 서해 번쩍\"\n",
    "print(name1 + name2)"
   ]
  },
  {
   "cell_type": "code",
   "execution_count": 86,
   "id": "c493ab61",
   "metadata": {},
   "outputs": [
    {
     "name": "stdout",
     "output_type": "stream",
     "text": [
      "홍길동홍길동홍길동\n"
     ]
    }
   ],
   "source": [
    "print(name1 * 3) #문자열을 곱하면 반복"
   ]
  },
  {
   "cell_type": "markdown",
   "id": "8f14b4d0",
   "metadata": {},
   "source": [
    "### ※ raw 데이터\n",
    "- 용도 : 정규표현식 이용, 디렉토리 경로 표현시 이용"
   ]
  },
  {
   "cell_type": "code",
   "execution_count": 92,
   "id": "b93137a5",
   "metadata": {},
   "outputs": [
    {
     "name": "stdout",
     "output_type": "stream",
     "text": [
      "Hello\\nWorld\n",
      "Hello\\nWorld\n"
     ]
    }
   ],
   "source": [
    "print(r'Hello\\nWorld')\n",
    "print('Hello\\\\nWorld')"
   ]
  },
  {
   "cell_type": "markdown",
   "id": "dfc55188",
   "metadata": {},
   "source": [
    "정규표현식\n",
    "```\n",
    "1. 참조 : 위키백과\n",
    "2. 간략한 문법 : \n",
    "    \\d (숫자와 매치, [0-9]와 동일)\n",
    "    \\D (숫자가 아닌 것)\n",
    "    \\w (영문자나 숫자. [a-zA-Z0-9])\n",
    "    \\W (영문자나 숫자가 아닌 문자)\n",
    "    .  (문자)\n",
    "    \\. (.의미)\n",
    "    \\- (-의미)\n",
    "    {2, 4} (2-4번 반복)\n",
    "    {4} (4번 반복)\n",
    "    {2,} (2번 이상 반복)\n",
    "    +  (1번 이상 반복)\n",
    "    *  (0번 이상 반복)\n",
    "    ?  (0번이나 1번 반복)\n",
    "    \n",
    "3. 정규표현식 연습장(https://regexr.com/)\n",
    "    ex1. 전화번호 : 010-9999-9999 02-7777-8888  01099997777 0277778888 \n",
    "                   02)714-5656   010 1234 1234 010.1234.1234\n",
    "                   \"[0-9]{2,3}[\\-) .]?[0-9]{3,4}[\\- .]?[0-9]{4}\"\n",
    "    ex2. 이메일 : abc12@naver.com  / abc123@0to7.co.kr\n",
    "                   \"\\w{3,}@[a-zA-Z0-9가-힣]+(\\.[a-zA-Z]+){1,2}\"\n"
   ]
  },
  {
   "cell_type": "code",
   "execution_count": 43,
   "id": "073b921c",
   "metadata": {},
   "outputs": [
    {
     "name": "stdout",
     "output_type": "stream",
     "text": [
      "홍길동인데 전번이 041-888-8888, 010 9999 9999 동해번쩍 서해번쩍 ㅋㅋ ㅠㅠ 오늘 날씨는 엄청 좋아요\n"
     ]
    }
   ],
   "source": [
    "import re\n",
    "data = \"홍길동인데 전번이 041-888-8888, \\\n",
    "010 9999 9999 동해번쩍 서해번쩍 ㅋㅋ ㅠㅠ \\\n",
    "오늘 날씨는 엄청 좋아요\"\n",
    "print(data)"
   ]
  },
  {
   "cell_type": "code",
   "execution_count": 44,
   "id": "8169f302",
   "metadata": {},
   "outputs": [
    {
     "data": {
      "text/plain": [
       "['041-888-8888', '010 9999 9999']"
      ]
     },
     "execution_count": 44,
     "metadata": {},
     "output_type": "execute_result"
    }
   ],
   "source": [
    "phone_pattern = r'[\\d]{2,3}[\\-). ]?[\\d]{3,4}[-. ]?[\\d]{4}'\n",
    "phone = re.findall(phone_pattern, data) #findall 해당 패턴을 다 찾아 줌. 없다면 []반환\n",
    "phone"
   ]
  },
  {
   "cell_type": "code",
   "execution_count": 60,
   "id": "8fc12487",
   "metadata": {},
   "outputs": [
    {
     "data": {
      "text/plain": [
       "<re.Match object; span=(10, 22), match='041-888-8888'>"
      ]
     },
     "execution_count": 60,
     "metadata": {},
     "output_type": "execute_result"
    }
   ],
   "source": [
    "pattern = \"(\\d{2,3})-(\\d{3,4})-(\\d{4})\"\n",
    "firstTel = re.search(pattern, data)\n",
    "firstTel"
   ]
  },
  {
   "cell_type": "code",
   "execution_count": 51,
   "id": "e8bbff3c",
   "metadata": {},
   "outputs": [
    {
     "data": {
      "text/plain": [
       "'041-888-8888'"
      ]
     },
     "execution_count": 51,
     "metadata": {},
     "output_type": "execute_result"
    }
   ],
   "source": [
    "data[10:22] #문자 슬라이싱"
   ]
  },
  {
   "cell_type": "code",
   "execution_count": 62,
   "id": "c4b4917d",
   "metadata": {},
   "outputs": [
    {
     "name": "stdout",
     "output_type": "stream",
     "text": [
      "전화번호 전체 : 041-888-8888\n"
     ]
    }
   ],
   "source": [
    "print('전화번호 전체 :', firstTel.group(0))"
   ]
  },
  {
   "cell_type": "code",
   "execution_count": 65,
   "id": "071de039",
   "metadata": {},
   "outputs": [
    {
     "data": {
      "text/plain": [
       "'홍길동인데 전번이 0418888888 010 9999 9999 동해번쩍 서해번쩍   오늘 날씨는 엄청 좋아요'"
      ]
     },
     "execution_count": 65,
     "metadata": {},
     "output_type": "execute_result"
    }
   ],
   "source": [
    "re.sub('[^가-힣0-9\\s]+', '', data) #특수문자, 자음, 모음 없애기"
   ]
  },
  {
   "cell_type": "code",
   "execution_count": 83,
   "id": "e6167759",
   "metadata": {},
   "outputs": [
    {
     "data": {
      "text/plain": [
       "'C:\\\\ai_x\\\\source\\\\01_python\\\\text.txt'"
      ]
     },
     "execution_count": 83,
     "metadata": {},
     "output_type": "execute_result"
    }
   ],
   "source": [
    "#파일 경로에는 반드시 r,\\\\,/ 중 하나를 사용\n",
    "file_path = \"C:\\\\ai_x\\\\source\\\\01_python\\\\text.txt\"\n",
    "file_path = \"C:/ai_x/source/01_python/text.txt\"\n",
    "file_path = r\"C:\\ai_x\\source\\01_python\\text.txt\"\n",
    "file_path"
   ]
  },
  {
   "cell_type": "code",
   "execution_count": 84,
   "id": "9d14318b",
   "metadata": {},
   "outputs": [
    {
     "name": "stdout",
     "output_type": "stream",
     "text": [
      "hello ~ world\n"
     ]
    }
   ],
   "source": [
    "file_stream = open(file_path, 'w')\n",
    "print('hello', 'world', sep=\" ~ \")  #콘솔출력\n",
    "print('hello', 'world', sep=\" ~ \", file=file_stream) #파일 출력\n",
    "file_stream.close()"
   ]
  },
  {
   "cell_type": "markdown",
   "id": "0adc2182",
   "metadata": {},
   "source": [
    "### ※ 문자열 슬라이싱"
   ]
  },
  {
   "cell_type": "code",
   "execution_count": 87,
   "id": "65e30270",
   "metadata": {},
   "outputs": [
    {
     "data": {
      "text/plain": [
       "'0123456789'"
      ]
     },
     "execution_count": 87,
     "metadata": {},
     "output_type": "execute_result"
    }
   ],
   "source": [
    "str_ = '0123456789'\n",
    "str_"
   ]
  },
  {
   "cell_type": "code",
   "execution_count": 94,
   "id": "a181ec10",
   "metadata": {},
   "outputs": [
    {
     "data": {
      "text/plain": [
       "('0', '2', '9', '7')"
      ]
     },
     "execution_count": 94,
     "metadata": {},
     "output_type": "execute_result"
    }
   ],
   "source": [
    "#문자 인덱싱\n",
    "str_[0], str_[2], str_[-1], str_[-3]"
   ]
  },
  {
   "cell_type": "code",
   "execution_count": null,
   "id": "74865019",
   "metadata": {},
   "outputs": [],
   "source": [
    "str_[20] #없는 인덱싱은 에러"
   ]
  },
  {
   "cell_type": "code",
   "execution_count": null,
   "id": "67c3dc54",
   "metadata": {},
   "outputs": [],
   "source": [
    "'''\n",
    "문자변수[from:stop] : from부터 stop 앞까지 추출\n",
    "문자변수[from:stop:step] :from부터 stop 앞까지 step씩 전진하면서 추출\n",
    "    step 생략시 1\n",
    "    from 생략시 처음부터\n",
    "    stop 생략시 끝까지\n",
    "'''"
   ]
  },
  {
   "cell_type": "code",
   "execution_count": 99,
   "id": "27340566",
   "metadata": {},
   "outputs": [
    {
     "data": {
      "text/plain": [
       "'01234'"
      ]
     },
     "execution_count": 99,
     "metadata": {},
     "output_type": "execute_result"
    }
   ],
   "source": [
    "str_[0:5] #0번째~5번째 앞까지"
   ]
  },
  {
   "cell_type": "code",
   "execution_count": 101,
   "id": "1c94d1c1",
   "metadata": {},
   "outputs": [
    {
     "data": {
      "text/plain": [
       "'5678'"
      ]
     },
     "execution_count": 101,
     "metadata": {},
     "output_type": "execute_result"
    }
   ],
   "source": [
    "str_[-5:-1] # -5번째부터 -1번째 앞까지"
   ]
  },
  {
   "cell_type": "code",
   "execution_count": 104,
   "id": "88960127",
   "metadata": {},
   "outputs": [
    {
     "data": {
      "text/plain": [
       "'6789'"
      ]
     },
     "execution_count": 104,
     "metadata": {},
     "output_type": "execute_result"
    }
   ],
   "source": [
    "str_[-4:] # 4번째부터 끝까지"
   ]
  },
  {
   "cell_type": "code",
   "execution_count": 106,
   "id": "587d6a22",
   "metadata": {},
   "outputs": [
    {
     "data": {
      "text/plain": [
       "'6789'"
      ]
     },
     "execution_count": 106,
     "metadata": {},
     "output_type": "execute_result"
    }
   ],
   "source": [
    "str_[-4:20] #슬라이싱시 인덱스 범위를 벗어나면 끝까지를 의미"
   ]
  },
  {
   "cell_type": "code",
   "execution_count": 98,
   "id": "67aa3e4a",
   "metadata": {},
   "outputs": [
    {
     "data": {
      "text/plain": [
       "'0246'"
      ]
     },
     "execution_count": 98,
     "metadata": {},
     "output_type": "execute_result"
    }
   ],
   "source": [
    "str_[0:8:2] "
   ]
  },
  {
   "cell_type": "code",
   "execution_count": 107,
   "id": "faeb8bb2",
   "metadata": {},
   "outputs": [
    {
     "data": {
      "text/plain": [
       "'987654321'"
      ]
     },
     "execution_count": 107,
     "metadata": {},
     "output_type": "execute_result"
    }
   ],
   "source": [
    "str_[9:0:-1]"
   ]
  },
  {
   "cell_type": "code",
   "execution_count": 109,
   "id": "7be40a82",
   "metadata": {},
   "outputs": [
    {
     "name": "stdout",
     "output_type": "stream",
     "text": [
      "0123456\n"
     ]
    }
   ],
   "source": [
    "print(str_[:7]) #첫문자~6번째 인덱스까지 추출"
   ]
  },
  {
   "cell_type": "code",
   "execution_count": 115,
   "id": "21b3070c",
   "metadata": {},
   "outputs": [
    {
     "name": "stdout",
     "output_type": "stream",
     "text": [
      "56789\n"
     ]
    }
   ],
   "source": [
    "print(str_[5:]) #5번째 인덱스부터 끝까지 추출"
   ]
  },
  {
   "cell_type": "code",
   "execution_count": 114,
   "id": "6fe7fc31",
   "metadata": {},
   "outputs": [
    {
     "name": "stdout",
     "output_type": "stream",
     "text": [
      "9876543210\n"
     ]
    }
   ],
   "source": [
    "print(str_[9: :-1]) #str_ 를 거꾸로 출력"
   ]
  },
  {
   "cell_type": "markdown",
   "id": "aeb7badd",
   "metadata": {},
   "source": [
    "## 3.3 논리형 (True/False)"
   ]
  },
  {
   "cell_type": "code",
   "execution_count": 133,
   "id": "e351f9c2",
   "metadata": {},
   "outputs": [
    {
     "name": "stdout",
     "output_type": "stream",
     "text": [
      "True\n"
     ]
    },
    {
     "data": {
      "text/plain": [
       "True"
      ]
     },
     "execution_count": 133,
     "metadata": {},
     "output_type": "execute_result"
    }
   ],
   "source": [
    "a = True\n",
    "print(a) \n",
    "b = True\n",
    "id(a) == id(b)"
   ]
  },
  {
   "cell_type": "code",
   "execution_count": null,
   "id": "757a8cb8",
   "metadata": {},
   "outputs": [],
   "source": [
    "# False로 간주되는 거 : 0, \"\"(빈 스트링), None, [], (), {}, \n",
    "# False 외의 값은 모두 True"
   ]
  },
  {
   "cell_type": "code",
   "execution_count": 134,
   "id": "5be4a81b",
   "metadata": {},
   "outputs": [
    {
     "name": "stdout",
     "output_type": "stream",
     "text": [
      "true\n"
     ]
    }
   ],
   "source": [
    "if \" \":\n",
    "    print(\"true\")\n",
    "else:\n",
    "    print(\"false\")"
   ]
  },
  {
   "cell_type": "markdown",
   "id": "d5cdf72f",
   "metadata": {},
   "source": [
    "## 3.4 자료형 확인 및 형변환 함수\n",
    "- type(변수)\n",
    "- isinstance(변수, 타입)\n",
    "\n",
    "- int()   : 정수형으로 변환\n",
    "- float() : 실수형으로 변환\n",
    "- str()   : 문자형으로 변환\n",
    "- bool()  : 논리형으로 변환"
   ]
  },
  {
   "cell_type": "code",
   "execution_count": 132,
   "id": "64da5dd1",
   "metadata": {},
   "outputs": [
    {
     "name": "stdout",
     "output_type": "stream",
     "text": [
      "<class 'bool'>\n",
      "True\n"
     ]
    }
   ],
   "source": [
    "a = True\n",
    "print(type(a))\n",
    "print(isinstance(a, bool))"
   ]
  },
  {
   "cell_type": "code",
   "execution_count": 153,
   "id": "6aa3b8fc",
   "metadata": {},
   "outputs": [
    {
     "data": {
      "text/plain": [
       "(123, 123, 1, 10)"
      ]
     },
     "execution_count": 153,
     "metadata": {},
     "output_type": "execute_result"
    }
   ],
   "source": [
    "int('123'), int(123.9), int(True), int(\"10   \")"
   ]
  },
  {
   "cell_type": "code",
   "execution_count": 154,
   "id": "77412aaa",
   "metadata": {},
   "outputs": [
    {
     "data": {
      "text/plain": [
       "(123.5, 123.0, 1.0, 123.0, 123.5)"
      ]
     },
     "execution_count": 154,
     "metadata": {},
     "output_type": "execute_result"
    }
   ],
   "source": [
    "float(\"123.5\"), float(123), float(True), float(\"123\"), float(\"123.5   \")"
   ]
  },
  {
   "cell_type": "code",
   "execution_count": 160,
   "id": "3258dfcb",
   "metadata": {},
   "outputs": [
    {
     "data": {
      "text/plain": [
       "('10', '10.5', 'True', '1120000000000.0')"
      ]
     },
     "execution_count": 160,
     "metadata": {},
     "output_type": "execute_result"
    }
   ],
   "source": [
    "str(10), str(10.5), str(True), str(1.12e12)"
   ]
  },
  {
   "cell_type": "code",
   "execution_count": 163,
   "id": "27d375e2",
   "metadata": {},
   "outputs": [
    {
     "data": {
      "text/plain": [
       "(False, False, False, False, False, False, False)"
      ]
     },
     "execution_count": 163,
     "metadata": {},
     "output_type": "execute_result"
    }
   ],
   "source": [
    "bool(\"\"), bool(0), bool(0.0), bool([]), bool(()), bool({}), bool(None)"
   ]
  },
  {
   "cell_type": "code",
   "execution_count": 164,
   "id": "4b31ad0b",
   "metadata": {},
   "outputs": [
    {
     "data": {
      "text/plain": [
       "True"
      ]
     },
     "execution_count": 164,
     "metadata": {},
     "output_type": "execute_result"
    }
   ],
   "source": [
    "bool(\" \")"
   ]
  },
  {
   "cell_type": "code",
   "execution_count": 147,
   "id": "8fbd12ab",
   "metadata": {},
   "outputs": [],
   "source": [
    "# int 에러나는 것들\n",
    "#int(\"123.5\")\n",
    "#int(\" \")\n",
    "#int('')\n",
    "#int(\"1,000\")"
   ]
  },
  {
   "cell_type": "code",
   "execution_count": 151,
   "id": "84e93973",
   "metadata": {},
   "outputs": [],
   "source": [
    "# float 에러나는 것들\n",
    "# float('1,000.0')\n",
    "# float(\" \")\n",
    "#float(\"\")\n"
   ]
  },
  {
   "cell_type": "markdown",
   "id": "f0c7f93d",
   "metadata": {},
   "source": [
    "파이썬 기본 자료형(정리)\n",
    "1. 숫자 - int, float, complex\n",
    "2. 문자 - str, 문자슬라싱, raw데이터(정규표현식, 파일경로)\n",
    "3. 논리 - False로 판별되는 경우 "
   ]
  },
  {
   "cell_type": "markdown",
   "id": "b8a72800",
   "metadata": {},
   "source": [
    "# 4절 포맷팅\n",
    "- 포맷팅이란, 출력할 문자, 숫자, 날짜 데이터의 형식을 지정하는 것\n",
    "- 변수와 텍스트를 결합해서 보기 좋은 형식의 새로운 텍스트를 만들 수 있음\n",
    "\n",
    "## 4.1 문자열에 출력형식 지정"
   ]
  },
  {
   "cell_type": "code",
   "execution_count": 168,
   "id": "532ab5f5",
   "metadata": {},
   "outputs": [
    {
     "name": "stdout",
     "output_type": "stream",
     "text": [
      "홍길동님의 나이는 30살 입니다\n"
     ]
    }
   ],
   "source": [
    "name = \"홍길동\"\n",
    "age = 30\n",
    "print(name, '님의 나이는 ', age, '살 입니다', sep=\"\")"
   ]
  },
  {
   "cell_type": "code",
   "execution_count": 181,
   "id": "d2a1802e",
   "metadata": {},
   "outputs": [
    {
     "name": "stdout",
     "output_type": "stream",
     "text": [
      "홍길동님의 나이는  30살 입니다\n",
      "홍길동님의 나이는 30살 입니다\n",
      "홍길동님의 나이는  30살 입니다\n"
     ]
    }
   ],
   "source": [
    "print(\"%s님의 나이는 %3d살 입니다\"%(name,age)) # %s: 문자, %d: 정수, %f: 실수\n",
    "print(f\"{name}님의 나이는 {age}살 입니다\")\n",
    "print(\"{}님의 나이는 {:3d}살 입니다\".format(name, age))"
   ]
  },
  {
   "cell_type": "markdown",
   "id": "e2cfb9c8",
   "metadata": {},
   "source": [
    "## 4.2 format() 문법"
   ]
  },
  {
   "cell_type": "code",
   "execution_count": 185,
   "id": "9c92ba82",
   "metadata": {},
   "outputs": [],
   "source": [
    "    #\"{[인덱스]:[공백대체문자][자릿수][타입]}\".format()\n",
    "    # 인덱스 : format함수 안의 매개변수의 순서\n",
    "    # 정렬방식 : <(왼쪽정렬), >(오른쪽정렬), ^(중앙정렬)\n",
    "    # 정수자릿수 : 출력될 자릿수d. 변수 내용보다 작은 자릿수가 지정되면 자릿수 무시\n",
    "    # 실수자릿수 : 출력될자릿수.소수점 이하 출력 자릿수f\n",
    "    #문자자릿수 :  전체 확보될 자릿수[.변수 중 출력할 자릿수]s \n",
    "    # 타입 : d(10진수 정수), b(2진수), x(16진수), f(실수), s(문자)\n",
    "    # 공백대체문자를 쓸 경우 정력방식을 반드시 기입해야 함"
   ]
  },
  {
   "cell_type": "code",
   "execution_count": 190,
   "id": "20a3b245",
   "metadata": {},
   "outputs": [
    {
     "name": "stdout",
     "output_type": "stream",
     "text": [
      "이름은?ㅎㄱㄷ\n",
      "나이는?30\n",
      "30살 ㅎㄱㄷ님 반갑습니다\n",
      "*30*살 ___ㅎㄱㄷ____님 반갑습니다\n"
     ]
    }
   ],
   "source": [
    "name = input(\"이름은?\")\n",
    "age = int(input(\"나이는?\"))\n",
    "print(\"{}살 {}님 반갑습니다\".format(age,name))\n",
    "print(\"{1:*^4d}살 {0:_^10}님 반갑습니다\".format(name,age))"
   ]
  },
  {
   "cell_type": "code",
   "execution_count": 196,
   "id": "5a16cae9",
   "metadata": {},
   "outputs": [
    {
     "name": "stdout",
     "output_type": "stream",
     "text": [
      "[12345], [     12345], [12345]\n",
      "[hello], [hello     ], [hello]\n"
     ]
    }
   ],
   "source": [
    "# 정렬방식을 사용하지 않을 때 기본값\n",
    "# 숫자의 경우 : 오른쪽 정렬\n",
    "# 문자의 경우 : 왼쪽 정렬\n",
    "# 변수보다 작은 자리수를 지정하면 자릿수가 무시되고 다 출력(정수 자릿수)\n",
    "i = 12345\n",
    "s = 'hello'\n",
    "print('[{0}], [{0:10}], [{0:3}]'.format(i))\n",
    "print('[{0}], [{0:10}], [{0:3}]'.format(s))"
   ]
  },
  {
   "cell_type": "code",
   "execution_count": 203,
   "id": "438cd5d8",
   "metadata": {},
   "outputs": [
    {
     "name": "stdout",
     "output_type": "stream",
     "text": [
      "f = *2.76*\n",
      "s = [He   ]\n"
     ]
    }
   ],
   "source": [
    "# 문자 : 전체자릿수.표현될 자릿수\n",
    "# 실수 : 전체자릿수.소수점이하 표현될 자릿수\n",
    "f = 2.758\n",
    "s = 'Hello'\n",
    "print('f = {0:*^6.2f}'.format(f))\n",
    "print('s = [{:5.2}]'.format(s))"
   ]
  },
  {
   "cell_type": "code",
   "execution_count": 210,
   "id": "3ca17003",
   "metadata": {},
   "outputs": [
    {
     "name": "stdout",
     "output_type": "stream",
     "text": [
      "[  123], [ -123]\n",
      "[ +123], [ -123]\n",
      "[+ 123], [- 123]\n"
     ]
    }
   ],
   "source": [
    "# + : 부호를 출력\n",
    "# = : 부호를 맨 앞에 출력\n",
    "a, b = 123, -123\n",
    "print(\"[{:5}], [{:5}]\".format(a, b))\n",
    "print(\"[{:+5}], [{:+5}]\".format(a, b))\n",
    "print(\"[{:=+5}], [{:=5}]\".format(a, b))"
   ]
  },
  {
   "cell_type": "code",
   "execution_count": 218,
   "id": "80f4aa83",
   "metadata": {},
   "outputs": [
    {
     "name": "stdout",
     "output_type": "stream",
     "text": [
      "[    +2.785]\n"
     ]
    }
   ],
   "source": [
    "#\n",
    "f = 2.785\n",
    "print('[{:+10.3f}]'.format(f))"
   ]
  },
  {
   "cell_type": "code",
   "execution_count": 223,
   "id": "d3d06a8e",
   "metadata": {},
   "outputs": [
    {
     "name": "stdout",
     "output_type": "stream",
     "text": [
      "[     +2.79]\n"
     ]
    }
   ],
   "source": [
    "sign = '+'\n",
    "width = 10\n",
    "precision = 2\n",
    "print('[{:{sign}{width}.{precision}f}]'.format(f,\n",
    "                                sign = sign, \n",
    "                                width = width, \n",
    "                                precision = precision))"
   ]
  },
  {
   "cell_type": "code",
   "execution_count": 226,
   "id": "2d78c06c",
   "metadata": {},
   "outputs": [
    {
     "name": "stdout",
     "output_type": "stream",
     "text": [
      "10진수 a = [   15]\n",
      "16진수 a = [    f]\n",
      "2진수 a = [ 1111]\n"
     ]
    }
   ],
   "source": [
    "a = 15\n",
    "print('10진수 a = [{:5d}]'.format(a))\n",
    "print('16진수 a = [{:5x}]'.format(a))\n",
    "print('2진수 a = [{:5b}]'.format(a))"
   ]
  },
  {
   "cell_type": "markdown",
   "id": "02425cbb",
   "metadata": {},
   "source": [
    "## 4.3 날짜 출력"
   ]
  },
  {
   "cell_type": "code",
   "execution_count": 227,
   "id": "988a1918",
   "metadata": {},
   "outputs": [],
   "source": [
    "import re\n",
    "from datetime import datetime "
   ]
  },
  {
   "cell_type": "code",
   "execution_count": 236,
   "id": "8b1fd51e",
   "metadata": {},
   "outputs": [
    {
     "name": "stdout",
     "output_type": "stream",
     "text": [
      "2025-04-09 17:48:11.294247\n",
      "2025년04월09일 PM.05:48 \n"
     ]
    }
   ],
   "source": [
    "a = datetime.now()\n",
    "print(\"{}\".format(a))\n",
    "print(\"{:%Y년%m월%d일 %p.%I:%M }\".format(a))"
   ]
  },
  {
   "cell_type": "code",
   "execution_count": 245,
   "id": "cd08fd97",
   "metadata": {},
   "outputs": [
    {
     "name": "stdout",
     "output_type": "stream",
     "text": [
      "2025년04월09일 PM.05:48\n"
     ]
    }
   ],
   "source": [
    "print(a.strftime('%Y년%m월%d일 %p.%I:%M'))"
   ]
  }
 ],
 "metadata": {
  "kernelspec": {
   "display_name": "Python 3 (ipykernel)",
   "language": "python",
   "name": "python3"
  },
  "language_info": {
   "codemirror_mode": {
    "name": "ipython",
    "version": 3
   },
   "file_extension": ".py",
   "mimetype": "text/x-python",
   "name": "python",
   "nbconvert_exporter": "python",
   "pygments_lexer": "ipython3",
   "version": "3.10.9"
  },
  "toc": {
   "base_numbering": 1,
   "nav_menu": {},
   "number_sections": false,
   "sideBar": true,
   "skip_h1_title": false,
   "title_cell": "Table of Contents",
   "title_sidebar": "Contents",
   "toc_cell": false,
   "toc_position": {
    "height": "calc(100% - 180px)",
    "left": "10px",
    "top": "150px",
    "width": "165px"
   },
   "toc_section_display": true,
   "toc_window_display": true
  }
 },
 "nbformat": 4,
 "nbformat_minor": 5
}
