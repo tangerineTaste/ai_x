{
 "cells": [
  {
   "cell_type": "code",
   "execution_count": 2,
   "id": "083a04c5",
   "metadata": {},
   "outputs": [
    {
     "data": {
      "text/html": [
       "\n",
       "<style>\n",
       "div.container{width:86% !important;}\n",
       "div.cell.code_cell.rendered{width:100%;}\n",
       "div.CodeMirror {font-family:Consolas; font-size:15pt;}\n",
       "div.output {font-size:15pt; font-weight:bold;}\n",
       "div.input {font-family:Consolas; font-size:15pt;}\n",
       "div.prompt {min-width:70px;}\n",
       "div#toc-wrapper{padding-top:120px;}\n",
       "div.text_cell_render ul li{font-size:12pt;padding:5px;}\n",
       "table.dataframe{font-size:15px;}\n",
       "</style>\n"
      ],
      "text/plain": [
       "<IPython.core.display.HTML object>"
      ]
     },
     "metadata": {},
     "output_type": "display_data"
    }
   ],
   "source": [
    "from IPython.display import display, HTML \n",
    "display(HTML(\"\"\"\n",
    "<style>\n",
    "div.container{width:86% !important;}\n",
    "div.cell.code_cell.rendered{width:100%;}\n",
    "div.CodeMirror {font-family:Consolas; font-size:15pt;}\n",
    "div.output {font-size:15pt; font-weight:bold;}\n",
    "div.input {font-family:Consolas; font-size:15pt;}\n",
    "div.prompt {min-width:70px;}\n",
    "div#toc-wrapper{padding-top:120px;}\n",
    "div.text_cell_render ul li{font-size:12pt;padding:5px;}\n",
    "table.dataframe{font-size:15px;}\n",
    "</style>\n",
    "\"\"\"))"
   ]
  },
  {
   "cell_type": "markdown",
   "id": "4d9e8930",
   "metadata": {},
   "source": [
    "<b><font size=\"5\" color=\"red\"> ch08 예외처리</font></b>\n"
   ]
  },
  {
   "cell_type": "markdown",
   "id": "a06da412",
   "metadata": {},
   "source": [
    "# 1절 예외처리\n",
    "- 예외가 날 가능성이 있는 부분에 대해 미리 예상하고, 그에 대한 처리를 프로그래밍 하는 것(이유 : 좀 더 안정적으로 실행)\n",
    "```\n",
    "ex. 파일을 다룰 때 : 파일이 없거나, 쓰기 금지로 인한 오류\n",
    "ex. 데이터베이스 프로그래밍 시 제약조건 등으로 CRUD(CREATE, READ, UPDATE, DELETE) 오류\n",
    "ex. 네트워크 프로그래밍 시 네트워크 연결 실패 로 인한 오류\n",
    "ex. 리스트 또는 튜플의 인덱스를 벗어난 참조로 인한 오류\n",
    "```\n",
    "\n",
    "```\n",
    "try:\n",
    "    예외가 발생할 수도 있는 구문\n",
    "except [예외타입 as e]:\n",
    "    예외가 발생되면 수행할 구문\n",
    "else:\n",
    "    try절을 수행하다 예외가 발생 안되면 else절을 한번 수행\n",
    "    하지만 try 마지막 줄에 쓰는 것과 문법상 같기 때문에 잘 쓰이지 않는다\n",
    "finally:\n",
    "    예외가 발생 안 하면 try-else-finally절 수행\n",
    "    예외가 발생하면 try수행 중 except - finally절 수행\n",
    "    즉 finally절은 항상 수행\n",
    "```"
   ]
  },
  {
   "cell_type": "code",
   "execution_count": 5,
   "id": "5688856c",
   "metadata": {},
   "outputs": [
    {
     "name": "stdout",
     "output_type": "stream",
     "text": [
      "파일명은(ch08.txt)ch08.txt\n"
     ]
    },
    {
     "data": {
      "text/plain": [
       "'Hello\\nWolrd'"
      ]
     },
     "execution_count": 5,
     "metadata": {},
     "output_type": "execute_result"
    }
   ],
   "source": [
    "filename = input('파일명은(ch08.txt)')\n",
    "f = open('data/'+filename, 'r') # 읽기전용으로 파일을 열기\n",
    "print(f.read())\n",
    "f.close()"
   ]
  },
  {
   "cell_type": "code",
   "execution_count": 7,
   "id": "fd87ae2d",
   "metadata": {},
   "outputs": [
    {
     "ename": "IndexError",
     "evalue": "list index out of range",
     "output_type": "error",
     "traceback": [
      "\u001b[1;31m---------------------------------------------------------------------------\u001b[0m",
      "\u001b[1;31mIndexError\u001b[0m                                Traceback (most recent call last)",
      "Cell \u001b[1;32mIn[7], line 2\u001b[0m\n\u001b[0;32m      1\u001b[0m a\u001b[38;5;241m=\u001b[39m [\u001b[38;5;241m1\u001b[39m,\u001b[38;5;241m2\u001b[39m,\u001b[38;5;241m3\u001b[39m]\n\u001b[1;32m----> 2\u001b[0m \u001b[43ma\u001b[49m\u001b[43m[\u001b[49m\u001b[38;5;241;43m3\u001b[39;49m\u001b[43m]\u001b[49m\n",
      "\u001b[1;31mIndexError\u001b[0m: list index out of range"
     ]
    }
   ],
   "source": [
    "a= [1,2,3]\n",
    "a[3]"
   ]
  },
  {
   "cell_type": "markdown",
   "id": "82778c38",
   "metadata": {},
   "source": [
    "# 2절 try~except 로 예외처리\n",
    "## 2.1 try~except\n",
    "```\n",
    "try:\n",
    "    예외가 발생할 가능성이 있는 명령어들\n",
    "except:\n",
    "    예외가 발생했으 경우 실행할 명령어들\n",
    "```"
   ]
  },
  {
   "cell_type": "code",
   "execution_count": 16,
   "id": "9c981db6",
   "metadata": {},
   "outputs": [
    {
     "name": "stdout",
     "output_type": "stream",
     "text": [
      "정수 입력 : 0\n"
     ]
    },
    {
     "ename": "ZeroDivisionError",
     "evalue": "division by zero",
     "output_type": "error",
     "traceback": [
      "\u001b[1;31m---------------------------------------------------------------------------\u001b[0m",
      "\u001b[1;31mZeroDivisionError\u001b[0m                         Traceback (most recent call last)",
      "Cell \u001b[1;32mIn[16], line 5\u001b[0m\n\u001b[0;32m      1\u001b[0m \u001b[38;5;66;03m#100을 입력받은 정수값으로 나눠 출력\u001b[39;00m\n\u001b[0;32m      2\u001b[0m \n\u001b[0;32m      3\u001b[0m \u001b[38;5;66;03m#ValueError: invalid literal for int() with base 10: 'ㅁ'\u001b[39;00m\n\u001b[0;32m      4\u001b[0m x \u001b[38;5;241m=\u001b[39m \u001b[38;5;28mint\u001b[39m(\u001b[38;5;28minput\u001b[39m(\u001b[38;5;124m'\u001b[39m\u001b[38;5;124m정수 입력 : \u001b[39m\u001b[38;5;124m'\u001b[39m))\n\u001b[1;32m----> 5\u001b[0m \u001b[38;5;28mprint\u001b[39m(\u001b[38;5;124m'\u001b[39m\u001b[38;5;124m100을 입력한 정수로 나누면 \u001b[39m\u001b[38;5;132;01m{:.3f}\u001b[39;00m\u001b[38;5;124m'\u001b[39m\u001b[38;5;241m.\u001b[39mformat(\u001b[38;5;241;43m100\u001b[39;49m\u001b[38;5;241;43m/\u001b[39;49m\u001b[43mx\u001b[49m))\n",
      "\u001b[1;31mZeroDivisionError\u001b[0m: division by zero"
     ]
    }
   ],
   "source": [
    "#100을 입력받은 정수값으로 나눠 출력\n",
    "#ZeroDivisionError: division by zero\n",
    "#ValueError: invalid literal for int() with base 10: 'a'\n",
    "x = int(input('정수 입력 : '))\n",
    "print('100을 입력한 정수로 나누면 {:.3f}'.format(100/x))\n"
   ]
  },
  {
   "cell_type": "code",
   "execution_count": 26,
   "id": "28176197",
   "metadata": {},
   "outputs": [
    {
     "name": "stdout",
     "output_type": "stream",
     "text": [
      "정수 입력 : a\n",
      "유효한 정수가 아님\n"
     ]
    }
   ],
   "source": [
    "#100을 입력받은 정수값으로 나눠 출력\n",
    "#ZeroDivisionError: division by zero\n",
    "#ValueError: invalid literal for int() with base 10: 'a'\n",
    "try:\n",
    "    x = int(input('정수 입력 : '))\n",
    "    print('x값 입력 받음',x)\n",
    "    print('100을 입력한 정수로 나누면 {:.3f}'.format(100/x))\n",
    "    print('예외 발생 X')\n",
    "except:\n",
    "    print('유효한 정수가 아님')\n"
   ]
  },
  {
   "cell_type": "code",
   "execution_count": 47,
   "id": "8aed30ba",
   "metadata": {},
   "outputs": [
    {
     "name": "stdout",
     "output_type": "stream",
     "text": [
      "정수 입력 : 20\n",
      "x값 입력 받음 20\n",
      "5\n"
     ]
    }
   ],
   "source": [
    "while True:\n",
    "    try:\n",
    "        x = int(input('정수 입력 : ')) #예외 발생 가능 (ValueError)\n",
    "        print('x값 입력 받음',x) \n",
    "        cal = 100/x  #예외 발생 가능 (ZeroDivisionError)\n",
    "        cal = f'{100/x:.0f}' if round(cal) == cal else f'{100/x:.2f}'\n",
    "        print(cal)\n",
    "        break\n",
    "    except:\n",
    "        print('유효한 정수가 아님')"
   ]
  },
  {
   "cell_type": "markdown",
   "id": "29c2b6fd",
   "metadata": {},
   "source": [
    "## 2.2 예외를 지정한 처리\n",
    "```\n",
    "try:\n",
    "    예외가 발생할 수도 있는 문장들\n",
    "except 예외타입:\n",
    "    해당 예외가 발생할 경우 실행할 문장\n",
    "except 예외타입:\n",
    "    ``\n",
    "except (예외타입1,예외타입2):\n",
    "    예외타입을 2개 걸어 둘 수 있음.\n",
    "```\n",
    "- except절이 많은 경우 하위 클래스(자식클래스)가 위에 나와야 함. \n",
    "- except는 Exception에 상속받음.\n",
    "- "
   ]
  },
  {
   "cell_type": "code",
   "execution_count": 53,
   "id": "48acf171",
   "metadata": {},
   "outputs": [
    {
     "name": "stdout",
     "output_type": "stream",
     "text": [
      "정수 입력 : 1\n",
      "x값 입력 받음 1\n",
      "100\n"
     ]
    }
   ],
   "source": [
    "while True:\n",
    "    try:\n",
    "        x = int(input('정수 입력 : ')) #예외 발생 가능 (ValueError)\n",
    "        print('x값 입력 받음',x) \n",
    "        cal = 100/x  #예외 발생 가능 (ZeroDivisionError)\n",
    "        cal = f'{100/x:.0f}' if round(cal) == cal else f'{100/x:.2f}'\n",
    "        print(cal)\n",
    "        break\n",
    "    except ValueError:\n",
    "        print('정수가 아님')\n",
    "    except ZeroDivisionError:\n",
    "        print('0으로 나눌 수 없음')\n",
    "    except (ZeroDivisionError, ValueError):\n",
    "        print('except는 2개 이상 걸어둘 수 있다')\n",
    "    except Exception:\n",
    "        # except절이 많은 경우 하위 클래스(자식클래스)가 위에 나와야 함. 모든 Error는 Exception에 상속받음.\n",
    "        print('다시 시도하세요')"
   ]
  },
  {
   "cell_type": "markdown",
   "id": "634a7d86",
   "metadata": {},
   "source": [
    "## 2.3 예외 메세지(예외 인수)\n",
    "- 예외 발생시 객체가 생성됨\n",
    "- 해당 객체를 사용하여 메세지 출력 가능"
   ]
  },
  {
   "cell_type": "code",
   "execution_count": 62,
   "id": "db6e4314",
   "metadata": {
    "collapsed": true
   },
   "outputs": [
    {
     "name": "stdout",
     "output_type": "stream",
     "text": [
      "정수 입력 : a\n",
      "invalid literal for int() with base 10: 'a'\n",
      "<class 'ValueError'>\n",
      "예외 메세지 : (\"invalid literal for int() with base 10: 'a'\",)\n",
      "예외 메세지 : invalid literal for int() with base 10: 'a'\n",
      "정수 입력 : 0\n",
      "x값 입력 받음 0\n",
      "division by zero\n",
      "<class 'ZeroDivisionError'>\n",
      "예외 메세지 : ('division by zero',)\n",
      "예외 메세지 : division by zero\n",
      "정수 입력 : 1\n",
      "x값 입력 받음 1\n",
      "100\n"
     ]
    }
   ],
   "source": [
    "while True:\n",
    "    try:\n",
    "        x = int(input('정수 입력 : ')) #예외 발생 가능 (ValueError)\n",
    "        print('x값 입력 받음',x) \n",
    "        cal = 100/x  #예외 발생 가능 (ZeroDivisionError)\n",
    "        cal = f'{100/x:.0f}' if round(cal) == cal else f'{100/x:.2f}'\n",
    "        print(cal)\n",
    "        break\n",
    "    except (ZeroDivisionError, ValueError) as e:\n",
    "        print(e) # e.__str__()과 같음\n",
    "        print(type(e))\n",
    "        print('예외 메세지 :',e.args)\n",
    "        print('예외 메세지 :',e.args[0])\n",
    "    except Exception:\n",
    "        # except절이 많은 경우 하위 클래스(자식클래스)가 위에 나와야 함. 모든 Error는 Exception에 상속받음.\n",
    "        print('다시 시도하세요')"
   ]
  },
  {
   "cell_type": "code",
   "execution_count": 67,
   "id": "d3b9ec07",
   "metadata": {},
   "outputs": [
    {
     "name": "stdout",
     "output_type": "stream",
     "text": [
      "Hello\n",
      "Wolrd\n"
     ]
    }
   ],
   "source": [
    "try:\n",
    "    f= open(r'data\\ch08.txt','r')\n",
    "except FileNotFoundError as e:\n",
    "    print(e)\n",
    "    print('해당 파일이 없습니다')\n",
    "else:\n",
    "    data = f.read()\n",
    "    print(data)\n",
    "finally:\n",
    "    f.close()"
   ]
  },
  {
   "cell_type": "code",
   "execution_count": 69,
   "id": "1a285322",
   "metadata": {},
   "outputs": [
    {
     "name": "stdout",
     "output_type": "stream",
     "text": [
      "Hello\n",
      "Wolrd\n"
     ]
    }
   ],
   "source": [
    "try:\n",
    "    f= open(r'data\\ch08.txt','r')\n",
    "    data = f.read()\n",
    "    print(data)\n",
    "except FileNotFoundError as e:\n",
    "    print(e)\n",
    "finally:\n",
    "    f.close()"
   ]
  },
  {
   "cell_type": "markdown",
   "id": "e1c273b0",
   "metadata": {},
   "source": [
    "# 3절 raise\n",
    "- 강제 예외 발생"
   ]
  },
  {
   "cell_type": "code",
   "execution_count": 70,
   "id": "34016aac",
   "metadata": {},
   "outputs": [
    {
     "ename": "NameError",
     "evalue": "예외 발생함",
     "output_type": "error",
     "traceback": [
      "\u001b[1;31m---------------------------------------------------------------------------\u001b[0m",
      "\u001b[1;31mNameError\u001b[0m                                 Traceback (most recent call last)",
      "Cell \u001b[1;32mIn[70], line 1\u001b[0m\n\u001b[1;32m----> 1\u001b[0m \u001b[38;5;28;01mraise\u001b[39;00m \u001b[38;5;167;01mNameError\u001b[39;00m(\u001b[38;5;124m'\u001b[39m\u001b[38;5;124m예외 발생함\u001b[39m\u001b[38;5;124m'\u001b[39m)\n",
      "\u001b[1;31mNameError\u001b[0m: 예외 발생함"
     ]
    }
   ],
   "source": [
    "raise NameError('예외 발생함')"
   ]
  },
  {
   "cell_type": "code",
   "execution_count": 71,
   "id": "1a92d007",
   "metadata": {},
   "outputs": [],
   "source": [
    "# 샤용자 정의 예외 : Exception 클래스 또는 그 하위 클래스를 상속받아 구현\n",
    "class LengthZeroError(Exception):\n",
    "    '길이가 0일 때 발생할 예외'\n",
    "    pass"
   ]
  },
  {
   "cell_type": "code",
   "execution_count": 78,
   "id": "77742b91",
   "metadata": {},
   "outputs": [],
   "source": [
    "def insert(*data): #튜플 매개변수\n",
    "    if len(data) == 0:\n",
    "        raise LengthZeroError(\"매개변수가 0인 예외입니다.\")\n",
    "    for item in data:\n",
    "        print(item, end=' ')\n",
    "    print('등을 입력함')"
   ]
  },
  {
   "cell_type": "code",
   "execution_count": 76,
   "id": "0c3ba6f2",
   "metadata": {},
   "outputs": [
    {
     "name": "stdout",
     "output_type": "stream",
     "text": [
      "1 2 3 4 등을 입력함\n"
     ]
    }
   ],
   "source": [
    "insert(1,2,3,4)"
   ]
  },
  {
   "cell_type": "code",
   "execution_count": 80,
   "id": "8fbcf58a",
   "metadata": {},
   "outputs": [
    {
     "name": "stdout",
     "output_type": "stream",
     "text": [
      "매개변수가 0인 예외입니다.\n",
      "무조건 실행되는 부분 DONE\n"
     ]
    }
   ],
   "source": [
    "try:\n",
    "    insert()\n",
    "except LengthZeroError as e:\n",
    "    print(e)\n",
    "finally:\n",
    "    print('무조건 실행되는 부분 DONE')"
   ]
  },
  {
   "cell_type": "markdown",
   "id": "9d982ee3",
   "metadata": {},
   "source": [
    "# 4절 추상클래스\n",
    "- 추상클래스 : 객체를 생성할 수 없는 클래스. 상속받을 클래스의 포맷 제공\n",
    "- 추상메소드 : 호출할 수 없는 메소드"
   ]
  },
  {
   "cell_type": "code",
   "execution_count": 83,
   "id": "1a0c8ab3",
   "metadata": {},
   "outputs": [],
   "source": [
    "# Shape 클래스 : 객체를 만드는게 목적이 아니거고, 자식클래스(서브클래스)를 잘 만들게 함이 목적\n",
    "# Shape 클래스를 상속받은 클래스들의 표준 제시\n",
    "class Shape:\n",
    "    def __init__(self):\n",
    "        raise NotImplementedError('추상 클래스 역할')\n",
    "    def calc_area(self):\n",
    "        raise NotImplementedError('추상 메소드 역힐')"
   ]
  },
  {
   "cell_type": "code",
   "execution_count": 90,
   "id": "5c3ffdc2",
   "metadata": {},
   "outputs": [
    {
     "data": {
      "text/plain": [
       "28.26"
      ]
     },
     "execution_count": 90,
     "metadata": {},
     "output_type": "execute_result"
    }
   ],
   "source": [
    "# s1 = Shape()\n",
    "class Circle(Shape):\n",
    "    def __init__(self, r=3):\n",
    "        self.r = r\n",
    "    def calc_area(self):\n",
    "        return 3.14*self.r**2\n",
    "c = Circle(3)\n",
    "c.calc_area()"
   ]
  },
  {
   "cell_type": "markdown",
   "id": "f5bd9e53",
   "metadata": {},
   "source": [
    "# 5절. 파일 정리 작업(with 절 이용)"
   ]
  },
  {
   "cell_type": "code",
   "execution_count": 92,
   "id": "63d9c890",
   "metadata": {},
   "outputs": [
    {
     "name": "stdout",
     "output_type": "stream",
     "text": [
      "Hello\n",
      "Wolrd\n"
     ]
    }
   ],
   "source": [
    "try:\n",
    "    f = open('data/ch08.txt','r')\n",
    "    print(f.read())\n",
    "except Exception as e:\n",
    "    print(e)\n",
    "finally:\n",
    "    f.close()"
   ]
  },
  {
   "cell_type": "code",
   "execution_count": 93,
   "id": "e6359b80",
   "metadata": {},
   "outputs": [
    {
     "name": "stdout",
     "output_type": "stream",
     "text": [
      "Hello\n",
      "Wolrd\n"
     ]
    }
   ],
   "source": [
    "f = open('data/ch08.txt','r')\n",
    "print(f.read())\n",
    "f.close()"
   ]
  },
  {
   "cell_type": "code",
   "execution_count": 97,
   "id": "4046583f",
   "metadata": {},
   "outputs": [
    {
     "name": "stdout",
     "output_type": "stream",
     "text": [
      "Hello\n",
      "Wolrd\n"
     ]
    }
   ],
   "source": [
    "with open('data/ch08.txt','r') as f:\n",
    "    print(f.read())\n",
    "# with절 이후에는 자동으로 close() 실행"
   ]
  },
  {
   "cell_type": "markdown",
   "id": "a26549fc",
   "metadata": {},
   "source": [
    "# 6절 연습문제"
   ]
  },
  {
   "cell_type": "code",
   "execution_count": 6,
   "id": "c7daced2",
   "metadata": {},
   "outputs": [
    {
     "name": "stdout",
     "output_type": "stream",
     "text": [
      "첫번째 숫자를 입력하세요 : 3.5\n",
      "두번째 숫자를 입력하세요 : 2.0\n",
      "입력한 수는 3.5와 2.0입니다\n",
      "3.5을 2.0로 나누면 1.75입니다\n"
     ]
    }
   ],
   "source": [
    "#1\n",
    "while True:\n",
    "    try:\n",
    "        x = float(input('첫번째 숫자를 입력하세요 : ')) #예외 발생 가능 (ValueError)\n",
    "        y = float(input('두번째 숫자를 입력하세요 : '))\n",
    "        print('입력한 수는 {:1}와 {:1}입니다'.format(x,y)) \n",
    "        cal = x/y\n",
    "        print('{:1}을 {:1}로 나누면 {:1}입니다'.format(x,y,cal))\n",
    "        break\n",
    "    except:\n",
    "        print('유효한 숫자가 아닙니다. 다시 시도하세요')\n"
   ]
  },
  {
   "cell_type": "code",
   "execution_count": 8,
   "id": "110c3138",
   "metadata": {},
   "outputs": [
    {
     "name": "stdout",
     "output_type": "stream",
     "text": [
      "첫번째 숫자를 입력하세요 : 5\n",
      "두번째 숫자를 입력하세요 : 3\n",
      "입력한 수는 5.0와 3.0입니다\n",
      "5.0을 3.0로 나누면 1.6666666666666667입니다\n"
     ]
    }
   ],
   "source": [
    "#2\n",
    "while True:\n",
    "    try:\n",
    "        x = float(input('첫번째 숫자를 입력하세요 : ')) #예외 발생 가능 (ValueError)\n",
    "        y = float(input('두번째 숫자를 입력하세요 : '))\n",
    "        print('입력한 수는 {:1}와 {:1}입니다'.format(x,y)) \n",
    "        cal = x/y\n",
    "        print('{:1}을 {:1}로 나누면 {}입니다'.format(x,y,cal))\n",
    "        break\n",
    "    except ValueError:\n",
    "        print('유효한 숫자가 아닙니다. 다시 시도하세요')\n",
    "    except ZeroDivisionError:\n",
    "        print('0으로 나눌 수 없습니다. 다시 시도하세요')\n"
   ]
  },
  {
   "cell_type": "code",
   "execution_count": null,
   "id": "54fa0cf2",
   "metadata": {},
   "outputs": [],
   "source": []
  }
 ],
 "metadata": {
  "kernelspec": {
   "display_name": "Python 3 (ipykernel)",
   "language": "python",
   "name": "python3"
  },
  "language_info": {
   "codemirror_mode": {
    "name": "ipython",
    "version": 3
   },
   "file_extension": ".py",
   "mimetype": "text/x-python",
   "name": "python",
   "nbconvert_exporter": "python",
   "pygments_lexer": "ipython3",
   "version": "3.10.9"
  },
  "toc": {
   "base_numbering": 1,
   "nav_menu": {},
   "number_sections": false,
   "sideBar": true,
   "skip_h1_title": false,
   "title_cell": "Table of Contents",
   "title_sidebar": "Contents",
   "toc_cell": false,
   "toc_position": {
    "height": "calc(100% - 180px)",
    "left": "10px",
    "top": "150px",
    "width": "165px"
   },
   "toc_section_display": true,
   "toc_window_display": true
  }
 },
 "nbformat": 4,
 "nbformat_minor": 5
}
