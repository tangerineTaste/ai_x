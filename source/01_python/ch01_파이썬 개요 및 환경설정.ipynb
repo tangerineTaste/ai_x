{
 "cells": [
  {
   "cell_type": "code",
   "execution_count": 14,
   "id": "fb1ba18d",
   "metadata": {
    "collapsed": true
   },
   "outputs": [
    {
     "data": {
      "text/html": [
       "\"\n",
       "<style>\n",
       "div.container{width:86% !important;}\n",
       "div.cell.code_cell.rendered{width:100%;}\n",
       "div.CodeMirror {font-family:Consolas; font-size:15pt;}\n",
       "div.output {font-size:15pt; font-weight:bold;}\n",
       "div.input {font-family:Consolas; font-size:15pt;}\n",
       "div.prompt {min-width:70px;}\n",
       "div#toc-wrapper{padding-top:120px;}\n",
       "div.text_cell_render ul li{font-size:12pt;padding:5px;}\n",
       "table.dataframe{font-size:15px;}\n",
       "</style>\n"
      ],
      "text/plain": [
       "<IPython.core.display.HTML object>"
      ]
     },
     "metadata": {},
     "output_type": "display_data"
    }
   ],
   "source": [
    "from IPython.display import display, HTML \n",
    "display(HTML(\"\"\"\"\n",
    "<style>\n",
    "div.container{width:86% !important;}\n",
    "div.cell.code_cell.rendered{width:100%;}\n",
    "div.CodeMirror {font-family:Consolas; font-size:15pt;}\n",
    "div.output {font-size:15pt; font-weight:bold;}\n",
    "div.input {font-family:Consolas; font-size:15pt;}\n",
    "div.prompt {min-width:70px;}\n",
    "div#toc-wrapper{padding-top:120px;}\n",
    "div.text_cell_render ul li{font-size:12pt;padding:5px;}\n",
    "table.dataframe{font-size:15px;}\n",
    "</style>\n",
    "\"\"\"))\n"
   ]
  },
  {
   "cell_type": "markdown",
   "id": "5884c83d",
   "metadata": {},
   "source": [
    "<font size=\"5\" color=\"red\"> ch01 파이썬 개요 및 환경설정</font>\n",
    "# 1. 주피터 노트북 사용법\n",
    "- shift + Enter : 선택 된 셀 실행 후, 다음셀로 이동\n",
    "- alt   + Enter : 선택 된 셀 실행 후, 다음셀이 생성된 후 다음셀로 이동\n",
    "- ctrl  + Enter : 선택 된 셀 실행\n",
    "- Enter         : 편집상태로 전환"
   ]
  },
  {
   "cell_type": "code",
   "execution_count": 17,
   "id": "21cad03a",
   "metadata": {},
   "outputs": [
    {
     "name": "stdout",
     "output_type": "stream",
     "text": [
      "Hello\n",
      "홍길동\n"
     ]
    }
   ],
   "source": [
    "print(\"Hello\\n홍길동\")"
   ]
  },
  {
   "cell_type": "code",
   "execution_count": 22,
   "id": "eee945a1",
   "metadata": {},
   "outputs": [
    {
     "name": "stdout",
     "output_type": "stream",
     "text": [
      "252\n",
      "27\n"
     ]
    }
   ],
   "source": [
    "age = 25\n",
    "duration = \"2\"\n",
    "print(str(age) + duration)\n",
    "print(age + int(duration))"
   ]
  },
  {
   "cell_type": "code",
   "execution_count": 31,
   "id": "b05b108e",
   "metadata": {},
   "outputs": [],
   "source": [
    "#(주석: 실행하지 않고 개발자가 보는 용도)\n",
    "# for i in range(10):\n",
    "#     print(i)"
   ]
  },
  {
   "cell_type": "code",
   "execution_count": 38,
   "id": "a4ea0b6d",
   "metadata": {},
   "outputs": [
    {
     "data": {
      "text/plain": [
       "10"
      ]
     },
     "execution_count": 38,
     "metadata": {},
     "output_type": "execute_result"
    }
   ],
   "source": [
    "print = 10\n",
    "print"
   ]
  },
  {
   "cell_type": "code",
   "execution_count": 39,
   "id": "43c33bcc",
   "metadata": {
    "collapsed": true
   },
   "outputs": [
    {
     "ename": "TypeError",
     "evalue": "'int' object is not callable",
     "output_type": "error",
     "traceback": [
      "\u001b[1;31m---------------------------------------------------------------------------\u001b[0m",
      "\u001b[1;31mTypeError\u001b[0m                                 Traceback (most recent call last)",
      "Cell \u001b[1;32mIn[39], line 1\u001b[0m\n\u001b[1;32m----> 1\u001b[0m \u001b[38;5;28;43mprint\u001b[39;49m\u001b[43m(\u001b[49m\u001b[38;5;124;43m\"\u001b[39;49m\u001b[38;5;124;43maa\u001b[39;49m\u001b[38;5;124;43m\"\u001b[39;49m\u001b[43m)\u001b[49m\n",
      "\u001b[1;31mTypeError\u001b[0m: 'int' object is not callable"
     ]
    }
   ],
   "source": [
    "print(\"aa\")"
   ]
  },
  {
   "cell_type": "code",
   "execution_count": 41,
   "id": "8e53bbdc",
   "metadata": {},
   "outputs": [],
   "source": [
    "# 실수로 print 에 10 할당을 취소방법\n",
    "# 1. 커널 재시작\n",
    "# 2. print 변수만 제거\n",
    "del print"
   ]
  },
  {
   "cell_type": "markdown",
   "id": "efbe7e86",
   "metadata": {},
   "source": [
    "# 2. ESC 키 누른 후 (핫키)\n",
    "- dd : 삭제\n",
    "- a : 윗셀 추가\n",
    "- b : 아렛셀 축\n",
    "- m : 마크다운셀로 변경\n",
    "- y : 코드셀로 변경\n",
    "- o : 실행결과 접기"
   ]
  },
  {
   "cell_type": "markdown",
   "id": "1f601209",
   "metadata": {},
   "source": [
    "# 3. 마크다운이란?\n",
    "- 코드와 함께 문서화 할 수 있음.\n",
    "- 다양한 문서화 문법 ex) README.md"
   ]
  },
  {
   "cell_type": "code",
   "execution_count": 43,
   "id": "64b9cc1b",
   "metadata": {
    "collapsed": true
   },
   "outputs": [
    {
     "name": "stdout",
     "output_type": "stream",
     "text": [
      " C 드라이브의 볼륨에는 이름이 없습니다.\n",
      " 볼륨 일련 번호: 3664-591E\n",
      "\n",
      " C:\\ai_x\\source\\01_python 디렉터리\n",
      "\n",
      "2025-04-08  오후 12:38    <DIR>          .\n",
      "2025-04-08  오후 12:38    <DIR>          ..\n",
      "2025-04-08  오전 11:37    <DIR>          .ipynb_checkpoints\n",
      "2025-04-08  오후 12:38             6,026 ch01_파이썬 개요 및 환경설정.ipynb\n",
      "2025-04-08  오전 11:17                21 test.py\n",
      "               2개 파일               6,047 바이트\n",
      "               3개 디렉터리  172,180,348,928 바이트 남음\n"
     ]
    }
   ],
   "source": [
    "#주피터 노트북에서 CMD 명령을 실행하는 방법\n",
    "!dir"
   ]
  },
  {
   "cell_type": "code",
   "execution_count": 45,
   "id": "942efb42",
   "metadata": {
    "collapsed": true
   },
   "outputs": [
    {
     "name": "stdout",
     "output_type": "stream",
     "text": [
      " C 드라이브의 볼륨에는 이름이 없습니다.\n",
      " 볼륨 일련 번호: 3664-591E\n",
      "\n",
      " C:\\ai_x\\source\\01_python 디렉터리\n",
      "\n",
      "2025-04-08  오후 12:38    <DIR>          .\n",
      "2025-04-08  오후 12:38    <DIR>          ..\n",
      "2025-04-08  오전 11:37    <DIR>          .ipynb_checkpoints\n",
      "2025-04-08  오후 12:38             6,026 ch01_파이썬 개요 및 환경설정.ipynb\n",
      "2025-04-08  오전 11:17                21 test.py\n",
      "               2개 파일               6,047 바이트\n",
      "               3개 디렉터리  172,180,365,312 바이트 남음\n"
     ]
    }
   ],
   "source": [
    "%ls"
   ]
  }
 ],
 "metadata": {
  "kernelspec": {
   "display_name": "ml-dl-nlp",
   "language": "python",
   "name": "python3"
  },
  "language_info": {
   "codemirror_mode": {
    "name": "ipython",
    "version": 3
   },
   "file_extension": ".py",
   "mimetype": "text/x-python",
   "name": "python",
   "nbconvert_exporter": "python",
   "pygments_lexer": "ipython3",
   "version": "3.10.18"
  },
  "toc": {
   "base_numbering": 1,
   "nav_menu": {},
   "number_sections": false,
   "sideBar": true,
   "skip_h1_title": false,
   "title_cell": "Table of Contents",
   "title_sidebar": "Contents",
   "toc_cell": false,
   "toc_position": {
    "height": "calc(100% - 180px)",
    "left": "10px",
    "top": "150px",
    "width": "165px"
   },
   "toc_section_display": true,
   "toc_window_display": false
  }
 },
 "nbformat": 4,
 "nbformat_minor": 5
}
