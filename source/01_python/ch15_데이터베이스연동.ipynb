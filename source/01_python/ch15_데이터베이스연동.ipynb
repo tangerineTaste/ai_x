{
 "cells": [
  {
   "cell_type": "markdown",
   "id": "fc4a128f",
   "metadata": {},
   "source": [
    "<font color='red' size='5'>ch15. 데이터베이스 연동</font>\n",
    "# 1절. SQLite 데이터 베이스 연동\n",
    "- SQLite 데이터베이스는 별도의 DBMS없이 SQL을 이용하여 DB 엑세스 가능한 디스크 기반 DB\n",
    "- SQLite는 프로토타입(시제품) 용도\n",
    "- 프로젝트 단계 : 분석 - 설계 - 구현 - 테스트 - 고객에게 배포 - 유지보수\n",
    "                 SQLite        Oracle/Mysql\n",
    "- C 라이브러리\n",
    "- [DB browser](https://sqlitebrowser.org/)\n",
    "## 1.1 SQLite 패키지 load"
   ]
  },
  {
   "cell_type": "code",
   "execution_count": 1,
   "id": "110ab7d5",
   "metadata": {},
   "outputs": [],
   "source": [
    "import sqlite3\n",
    "import pandas as pd"
   ]
  },
  {
   "cell_type": "markdown",
   "id": "9276b16f",
   "metadata": {},
   "source": [
    "## 1.2 데이터 베이스 연결"
   ]
  },
  {
   "cell_type": "code",
   "execution_count": 4,
   "id": "a62f24e4",
   "metadata": {},
   "outputs": [
    {
     "data": {
      "text/plain": [
       "<sqlite3.Connection at 0x27e92abdf40>"
      ]
     },
     "execution_count": 4,
     "metadata": {},
     "output_type": "execute_result"
    }
   ],
   "source": [
    "# DB연결\n",
    "conn = sqlite3.connect('data/ch15/ch15_example.db')\n",
    "conn"
   ]
  },
  {
   "cell_type": "code",
   "execution_count": 7,
   "id": "ff456545",
   "metadata": {},
   "outputs": [
    {
     "data": {
      "text/plain": [
       "<sqlite3.Cursor at 0x27e92b71c40>"
      ]
     },
     "execution_count": 7,
     "metadata": {},
     "output_type": "execute_result"
    }
   ],
   "source": [
    "# 커서객체(SQL문 실행->결과 조회) 생성\n",
    "cursor = conn.cursor()\n",
    "cursor "
   ]
  },
  {
   "cell_type": "code",
   "execution_count": 18,
   "id": "3765fbce",
   "metadata": {},
   "outputs": [
    {
     "data": {
      "text/plain": [
       "<sqlite3.Cursor at 0x27e92b71c40>"
      ]
     },
     "execution_count": 18,
     "metadata": {},
     "output_type": "execute_result"
    }
   ],
   "source": [
    "cursor.execute(\n",
    "    '''\n",
    "    DROP TABLE MEMBER\n",
    "'''\n",
    ")"
   ]
  },
  {
   "cell_type": "code",
   "execution_count": 19,
   "id": "1813eabd",
   "metadata": {},
   "outputs": [
    {
     "data": {
      "text/plain": [
       "<sqlite3.Cursor at 0x27e92b71c40>"
      ]
     },
     "execution_count": 19,
     "metadata": {},
     "output_type": "execute_result"
    }
   ],
   "source": [
    "cursor.execute(\n",
    "    '''\n",
    "    CREATE TABLE MEMBER(\n",
    "        NAME TEXT,\n",
    "        AGE INT,\n",
    "        EMAIL TEXT\n",
    "    )\n",
    "'''\n",
    ")"
   ]
  },
  {
   "cell_type": "markdown",
   "id": "9d993cb5",
   "metadata": {},
   "source": [
    "### insert, update, delete 전송"
   ]
  },
  {
   "cell_type": "code",
   "execution_count": 20,
   "id": "618183d8",
   "metadata": {},
   "outputs": [
    {
     "name": "stdout",
     "output_type": "stream",
     "text": [
      "수행결과행수: 1\n"
     ]
    }
   ],
   "source": [
    "cursor.execute('''\n",
    "    INSERT INTO MEMBER VALUES('홍길동',20,'h@h.com')\n",
    "''')\n",
    "print('수행결과행수:',cursor.rowcount)"
   ]
  },
  {
   "cell_type": "code",
   "execution_count": 28,
   "id": "b04baf58",
   "metadata": {},
   "outputs": [
    {
     "name": "stdout",
     "output_type": "stream",
     "text": [
      "INSERT INTO MEMBER VALUES('마길동',30,'k@h.com')\n",
      "수행결과행수: 1\n"
     ]
    }
   ],
   "source": [
    "sql = \"INSERT INTO MEMBER VALUES('마길동',30,'k@h.com')\"\n",
    "print(sql)\n",
    "cursor.execute(sql)\n",
    "print('수행결과행수:',cursor.rowcount)"
   ]
  },
  {
   "cell_type": "code",
   "execution_count": 29,
   "id": "70008b8c",
   "metadata": {},
   "outputs": [],
   "source": [
    "conn.commit() # 반대 : conn.rollback()"
   ]
  },
  {
   "cell_type": "markdown",
   "id": "28d595a2",
   "metadata": {},
   "source": [
    "### select 전송(파라미터 X)"
   ]
  },
  {
   "cell_type": "code",
   "execution_count": 41,
   "id": "3156784b",
   "metadata": {},
   "outputs": [],
   "source": [
    "# SELECT 전송\n",
    "# SELECT문 실행결과를 받는 함수\n",
    "#   cursor.fetchone() : 결과를 한 행만 받을 때(튜플)[홍길동, 21, h@h.com]\n",
    "#   cursor.fetchall() : 결과를 모두 받을 때(튜플 list)\n",
    "#   cursor.getchmany(n) : 결과를 n행 받을 때(튜플 list)\n",
    "#   cursor.description : header 내용을 포함한 함수수\n",
    "\n",
    "# INSERT, UPDATE, DELETE 전송 : cursor.rowcount"
   ]
  },
  {
   "cell_type": "code",
   "execution_count": null,
   "id": "3e45cd3b",
   "metadata": {},
   "outputs": [
    {
     "name": "stdout",
     "output_type": "stream",
     "text": [
      "[('홍길동', 21, 'h@h.com'), ('김길동', 31, 'k@h.com'), ('박길동', 31, 'k@h.com'), ('윤길동', 31, 'k@h.com'), ('마길동', 31, 'k@h.com')]\n"
     ]
    }
   ],
   "source": [
    "cursor.execute('''\n",
    "    SELECT NAME, AGE+1 NEXTAGE, EMAIL FROM MEMBER\n",
    "''')\n",
    "print(cursor.fetchall())"
   ]
  },
  {
   "cell_type": "code",
   "execution_count": 39,
   "id": "690aa316",
   "metadata": {},
   "outputs": [
    {
     "data": {
      "text/html": [
       "<div>\n",
       "<style scoped>\n",
       "    .dataframe tbody tr th:only-of-type {\n",
       "        vertical-align: middle;\n",
       "    }\n",
       "\n",
       "    .dataframe tbody tr th {\n",
       "        vertical-align: top;\n",
       "    }\n",
       "\n",
       "    .dataframe thead th {\n",
       "        text-align: right;\n",
       "    }\n",
       "</style>\n",
       "<table border=\"1\" class=\"dataframe\">\n",
       "  <thead>\n",
       "    <tr style=\"text-align: right;\">\n",
       "      <th></th>\n",
       "      <th>이름</th>\n",
       "      <th>나이</th>\n",
       "      <th>이메일</th>\n",
       "    </tr>\n",
       "  </thead>\n",
       "  <tbody>\n",
       "  </tbody>\n",
       "</table>\n",
       "</div>"
      ],
      "text/plain": [
       "Empty DataFrame\n",
       "Columns: [이름, 나이, 이메일]\n",
       "Index: []"
      ]
     },
     "execution_count": 39,
     "metadata": {},
     "output_type": "execute_result"
    }
   ],
   "source": [
    "pd.DataFrame(cursor.fetchall(), columns=['이름','나이','이메일'])"
   ]
  },
  {
   "cell_type": "code",
   "execution_count": 42,
   "id": "9da74777",
   "metadata": {},
   "outputs": [
    {
     "data": {
      "text/plain": [
       "[('홍길동', 21, 'h@h.com'), ('김길동', 31, 'k@h.com'), ('박길동', 31, 'k@h.com')]"
      ]
     },
     "execution_count": 42,
     "metadata": {},
     "output_type": "execute_result"
    }
   ],
   "source": [
    "cursor.execute('''\n",
    "    SELECT NAME, AGE+1 NEXTAGE, EMAIL FROM MEMBER order by NEXTAGE\n",
    "''')\n",
    "members = cursor.fetchmany(3)\n",
    "members"
   ]
  },
  {
   "cell_type": "code",
   "execution_count": 43,
   "id": "d7eb8e78",
   "metadata": {},
   "outputs": [
    {
     "data": {
      "text/plain": [
       "('홍길동', 21, 'h@h.com')"
      ]
     },
     "execution_count": 43,
     "metadata": {},
     "output_type": "execute_result"
    }
   ],
   "source": [
    "cursor.execute('''\n",
    "    SELECT NAME, AGE+1 NEXTAGE, EMAIL FROM MEMBER order by NEXTAGE\n",
    "''')\n",
    "members = cursor.fetchone()\n",
    "members"
   ]
  },
  {
   "cell_type": "code",
   "execution_count": 45,
   "id": "1c6e0b63",
   "metadata": {},
   "outputs": [
    {
     "name": "stdout",
     "output_type": "stream",
     "text": [
      "('홍길동', 21, 'h@h.com')\n",
      "('김길동', 31, 'k@h.com')\n",
      "('박길동', 31, 'k@h.com')\n",
      "('윤길동', 31, 'k@h.com')\n",
      "('마길동', 31, 'k@h.com')\n"
     ]
    },
    {
     "data": {
      "text/html": [
       "<div>\n",
       "<style scoped>\n",
       "    .dataframe tbody tr th:only-of-type {\n",
       "        vertical-align: middle;\n",
       "    }\n",
       "\n",
       "    .dataframe tbody tr th {\n",
       "        vertical-align: top;\n",
       "    }\n",
       "\n",
       "    .dataframe thead th {\n",
       "        text-align: right;\n",
       "    }\n",
       "</style>\n",
       "<table border=\"1\" class=\"dataframe\">\n",
       "  <thead>\n",
       "    <tr style=\"text-align: right;\">\n",
       "      <th></th>\n",
       "      <th>name</th>\n",
       "      <th>age</th>\n",
       "      <th>email</th>\n",
       "    </tr>\n",
       "  </thead>\n",
       "  <tbody>\n",
       "    <tr>\n",
       "      <th>0</th>\n",
       "      <td>홍길동</td>\n",
       "      <td>21</td>\n",
       "      <td>h@h.com</td>\n",
       "    </tr>\n",
       "    <tr>\n",
       "      <th>1</th>\n",
       "      <td>김길동</td>\n",
       "      <td>31</td>\n",
       "      <td>k@h.com</td>\n",
       "    </tr>\n",
       "    <tr>\n",
       "      <th>2</th>\n",
       "      <td>박길동</td>\n",
       "      <td>31</td>\n",
       "      <td>k@h.com</td>\n",
       "    </tr>\n",
       "    <tr>\n",
       "      <th>3</th>\n",
       "      <td>윤길동</td>\n",
       "      <td>31</td>\n",
       "      <td>k@h.com</td>\n",
       "    </tr>\n",
       "    <tr>\n",
       "      <th>4</th>\n",
       "      <td>마길동</td>\n",
       "      <td>31</td>\n",
       "      <td>k@h.com</td>\n",
       "    </tr>\n",
       "  </tbody>\n",
       "</table>\n",
       "</div>"
      ],
      "text/plain": [
       "  name  age    email\n",
       "0  홍길동   21  h@h.com\n",
       "1  김길동   31  k@h.com\n",
       "2  박길동   31  k@h.com\n",
       "3  윤길동   31  k@h.com\n",
       "4  마길동   31  k@h.com"
      ]
     },
     "execution_count": 45,
     "metadata": {},
     "output_type": "execute_result"
    }
   ],
   "source": [
    "# 데이터 한줄씩 가져오기\n",
    "cursor.execute('''\n",
    "    SELECT NAME, AGE+1 NEXTAGE, EMAIL FROM MEMBER order by NEXTAGE\n",
    "''')\n",
    "members = []\n",
    "while True:\n",
    "    member = cursor.fetchone()\n",
    "    if member is None:\n",
    "        break\n",
    "    print(member)\n",
    "    members.append({'name':member[0], 'age':member[1], 'email':member[2]})\n",
    "pd.DataFrame(members)\n"
   ]
  },
  {
   "cell_type": "code",
   "execution_count": 59,
   "id": "bf2c404f",
   "metadata": {},
   "outputs": [
    {
     "data": {
      "text/html": [
       "<div>\n",
       "<style scoped>\n",
       "    .dataframe tbody tr th:only-of-type {\n",
       "        vertical-align: middle;\n",
       "    }\n",
       "\n",
       "    .dataframe tbody tr th {\n",
       "        vertical-align: top;\n",
       "    }\n",
       "\n",
       "    .dataframe thead th {\n",
       "        text-align: right;\n",
       "    }\n",
       "</style>\n",
       "<table border=\"1\" class=\"dataframe\">\n",
       "  <thead>\n",
       "    <tr style=\"text-align: right;\">\n",
       "      <th></th>\n",
       "      <th>NAME</th>\n",
       "      <th>NEXTAGE</th>\n",
       "      <th>EMAIL</th>\n",
       "    </tr>\n",
       "  </thead>\n",
       "  <tbody>\n",
       "    <tr>\n",
       "      <th>0</th>\n",
       "      <td>홍길동</td>\n",
       "      <td>21</td>\n",
       "      <td>h@h.com</td>\n",
       "    </tr>\n",
       "    <tr>\n",
       "      <th>1</th>\n",
       "      <td>김길동</td>\n",
       "      <td>31</td>\n",
       "      <td>k@h.com</td>\n",
       "    </tr>\n",
       "    <tr>\n",
       "      <th>2</th>\n",
       "      <td>박길동</td>\n",
       "      <td>31</td>\n",
       "      <td>k@h.com</td>\n",
       "    </tr>\n",
       "    <tr>\n",
       "      <th>3</th>\n",
       "      <td>윤길동</td>\n",
       "      <td>31</td>\n",
       "      <td>k@h.com</td>\n",
       "    </tr>\n",
       "    <tr>\n",
       "      <th>4</th>\n",
       "      <td>마길동</td>\n",
       "      <td>31</td>\n",
       "      <td>k@h.com</td>\n",
       "    </tr>\n",
       "  </tbody>\n",
       "</table>\n",
       "</div>"
      ],
      "text/plain": [
       "  NAME  NEXTAGE    EMAIL\n",
       "0  홍길동       21  h@h.com\n",
       "1  김길동       31  k@h.com\n",
       "2  박길동       31  k@h.com\n",
       "3  윤길동       31  k@h.com\n",
       "4  마길동       31  k@h.com"
      ]
     },
     "execution_count": 59,
     "metadata": {},
     "output_type": "execute_result"
    }
   ],
   "source": [
    "cursor.execute('''\n",
    "    SELECT NAME, AGE+1 NEXTAGE, EMAIL FROM MEMBER order by NEXTAGE\n",
    "''')\n",
    "members = cursor.fetchall()\n",
    "df = pd.DataFrame(members, columns=[description[0] for description in cursor.description])\n",
    "df"
   ]
  },
  {
   "cell_type": "code",
   "execution_count": 58,
   "id": "08a543f0",
   "metadata": {},
   "outputs": [
    {
     "data": {
      "text/plain": [
       "['NAME', 'NEXTAGE', 'EMAIL']"
      ]
     },
     "execution_count": 58,
     "metadata": {},
     "output_type": "execute_result"
    }
   ],
   "source": [
    "# select문을 수행한 필드 정보\n",
    "[description[0] for description in cursor.description]\n"
   ]
  },
  {
   "cell_type": "markdown",
   "id": "e8969132",
   "metadata": {},
   "source": [
    "## 1.3 SQL 구문에 라라미터 사용하기\n",
    "- qmark(DB에 따라 불가한 경우 있음)\n",
    "- named(추천)\n"
   ]
  },
  {
   "cell_type": "code",
   "execution_count": 64,
   "id": "de984750",
   "metadata": {},
   "outputs": [
    {
     "data": {
      "text/plain": [
       "[('홍길동', 20, 'h@h.com')]"
      ]
     },
     "execution_count": 64,
     "metadata": {},
     "output_type": "execute_result"
    }
   ],
   "source": [
    "# 파라미터 사용하기 : qmark 방법 이용\n",
    "conn = sqlite3.connect('data/ch15/ch15_example.db')\n",
    "cursor = conn.cursor()\n",
    "sql =\"SELECT * FROM MEMBER WHERE NAME IN (?,?)\"\n",
    "name1 = input('검색할 첫번째 이름은?')\n",
    "name2 = input('검색할 두번째 이름은?')\n",
    "cursor.execute(sql,(name1, name2))\n",
    "cursor.fetchall()"
   ]
  },
  {
   "cell_type": "code",
   "execution_count": null,
   "id": "7c97e546",
   "metadata": {},
   "outputs": [
    {
     "data": {
      "text/plain": [
       "[('홍길동', 20, 'h@h.com')]"
      ]
     },
     "execution_count": 65,
     "metadata": {},
     "output_type": "execute_result"
    }
   ],
   "source": [
    "# 파라미터 사용하기 : named 방법 이용\n",
    "conn = sqlite3.connect('data/ch15/ch15_example.db')\n",
    "cursor = conn.cursor()\n",
    "sql =\"SELECT * FROM MEMBER WHERE NAME IN (:name1, :name2)\"\n",
    "name1 = input('검색할 첫번째 이름은?')\n",
    "name2 = input('검색할 두번째 이름은?')\n",
    "cursor.execute(sql,{'name1':name1, 'name2':name2})\n",
    "cursor.fetchall()"
   ]
  },
  {
   "cell_type": "code",
   "execution_count": null,
   "id": "dec4086c",
   "metadata": {},
   "outputs": [
    {
     "data": {
      "text/plain": [
       "<sqlite3.Cursor at 0x27e94894a40>"
      ]
     },
     "execution_count": 68,
     "metadata": {},
     "output_type": "execute_result"
    }
   ],
   "source": [
    "# named 방법으로 데이터 입력하기\n",
    "try:\n",
    "    name = input('입력할 이름 : ')\n",
    "    age = int(input('입력할 나이 : '))\n",
    "except ValueError:\n",
    "    print('유효하지 않은 나이를 입력하면 18세로 초기화')\n",
    "    age = 18\n",
    "finally:\n",
    "    email = input('입력할 메일은?')\n",
    "cursor.execute('INSERT INTO MEMBER VALUES(:name, :age, :email)',\n",
    "                {'name':name,'age':age,'email':email})"
   ]
  },
  {
   "cell_type": "code",
   "execution_count": 69,
   "id": "93bedf07",
   "metadata": {},
   "outputs": [],
   "source": [
    "conn.commit()"
   ]
  },
  {
   "cell_type": "markdown",
   "id": "ce4d9d38",
   "metadata": {},
   "source": [
    "# 2절 오라클 데이터 베이스 연결\n",
    "- pip install cx_oracle"
   ]
  },
  {
   "cell_type": "code",
   "execution_count": 72,
   "id": "58197c10",
   "metadata": {},
   "outputs": [
    {
     "data": {
      "text/plain": [
       "<cx_Oracle.Connection to scott@localhost:1521/xe>"
      ]
     },
     "execution_count": 72,
     "metadata": {},
     "output_type": "execute_result"
    }
   ],
   "source": [
    "import cx_Oracle\n",
    "# conn 얻어오는 방법1\n",
    "conn = cx_Oracle.connect('scott','tiger','localhost:1521/xe')\n",
    "conn"
   ]
  },
  {
   "cell_type": "code",
   "execution_count": 75,
   "id": "e0b14ec7",
   "metadata": {},
   "outputs": [
    {
     "name": "stdout",
     "output_type": "stream",
     "text": [
      "(7369, 'SMITH', 'CLERK', 7902, 800.0, None)\n",
      "(7499, 'ALLEN', 'SALESMAN', 7698, 1600.0, 300.0)\n",
      "(7521, 'WARD', 'SALESMAN', 7698, 1250.0, 500.0)\n",
      "(7566, 'JONES', 'MANAGER', 7839, 2975.0, None)\n",
      "(7654, 'MARTIN', 'SALESMAN', 7698, 1250.0, 1400.0)\n",
      "(7698, 'BLAKE', 'MANAGER', 7839, 2850.0, None)\n",
      "(7782, 'CLARK', 'MANAGER', 7839, 2450.0, None)\n",
      "(7788, 'SCOTT', 'ANALYST', 7566, 3000.0, None)\n",
      "(7839, 'KING', 'PRESIDENT', None, 5000.0, None)\n",
      "(7844, 'TURNER', 'SALESMAN', 7698, 1500.0, 0.0)\n",
      "(7876, 'ADAMS', 'CLERK', 7788, 1100.0, None)\n",
      "(7900, 'JAMES', 'CLERK', 7698, 950.0, None)\n",
      "(7902, 'FORD', 'ANALYST', 7566, 3000.0, None)\n",
      "(7934, 'MILLER', 'CLERK', 7782, 1300.0, None)\n"
     ]
    }
   ],
   "source": [
    "cursor = conn.cursor()\n",
    "cursor.execute('SELECT EMPNO NO, ENAME, JOB, MGR, SAL, COMM FROM EMP')\n",
    "emps = cursor.fetchall()\n",
    "for emp in emps:\n",
    "    print(emp)"
   ]
  },
  {
   "cell_type": "code",
   "execution_count": 76,
   "id": "db85b056",
   "metadata": {},
   "outputs": [
    {
     "data": {
      "text/html": [
       "<div>\n",
       "<style scoped>\n",
       "    .dataframe tbody tr th:only-of-type {\n",
       "        vertical-align: middle;\n",
       "    }\n",
       "\n",
       "    .dataframe tbody tr th {\n",
       "        vertical-align: top;\n",
       "    }\n",
       "\n",
       "    .dataframe thead th {\n",
       "        text-align: right;\n",
       "    }\n",
       "</style>\n",
       "<table border=\"1\" class=\"dataframe\">\n",
       "  <thead>\n",
       "    <tr style=\"text-align: right;\">\n",
       "      <th></th>\n",
       "      <th>NO</th>\n",
       "      <th>ENAME</th>\n",
       "      <th>JOB</th>\n",
       "      <th>MGR</th>\n",
       "      <th>SAL</th>\n",
       "      <th>COMM</th>\n",
       "    </tr>\n",
       "  </thead>\n",
       "  <tbody>\n",
       "    <tr>\n",
       "      <th>0</th>\n",
       "      <td>7369</td>\n",
       "      <td>SMITH</td>\n",
       "      <td>CLERK</td>\n",
       "      <td>7902.0</td>\n",
       "      <td>800.0</td>\n",
       "      <td>NaN</td>\n",
       "    </tr>\n",
       "    <tr>\n",
       "      <th>1</th>\n",
       "      <td>7499</td>\n",
       "      <td>ALLEN</td>\n",
       "      <td>SALESMAN</td>\n",
       "      <td>7698.0</td>\n",
       "      <td>1600.0</td>\n",
       "      <td>300.0</td>\n",
       "    </tr>\n",
       "    <tr>\n",
       "      <th>2</th>\n",
       "      <td>7521</td>\n",
       "      <td>WARD</td>\n",
       "      <td>SALESMAN</td>\n",
       "      <td>7698.0</td>\n",
       "      <td>1250.0</td>\n",
       "      <td>500.0</td>\n",
       "    </tr>\n",
       "    <tr>\n",
       "      <th>3</th>\n",
       "      <td>7566</td>\n",
       "      <td>JONES</td>\n",
       "      <td>MANAGER</td>\n",
       "      <td>7839.0</td>\n",
       "      <td>2975.0</td>\n",
       "      <td>NaN</td>\n",
       "    </tr>\n",
       "    <tr>\n",
       "      <th>4</th>\n",
       "      <td>7654</td>\n",
       "      <td>MARTIN</td>\n",
       "      <td>SALESMAN</td>\n",
       "      <td>7698.0</td>\n",
       "      <td>1250.0</td>\n",
       "      <td>1400.0</td>\n",
       "    </tr>\n",
       "    <tr>\n",
       "      <th>5</th>\n",
       "      <td>7698</td>\n",
       "      <td>BLAKE</td>\n",
       "      <td>MANAGER</td>\n",
       "      <td>7839.0</td>\n",
       "      <td>2850.0</td>\n",
       "      <td>NaN</td>\n",
       "    </tr>\n",
       "    <tr>\n",
       "      <th>6</th>\n",
       "      <td>7782</td>\n",
       "      <td>CLARK</td>\n",
       "      <td>MANAGER</td>\n",
       "      <td>7839.0</td>\n",
       "      <td>2450.0</td>\n",
       "      <td>NaN</td>\n",
       "    </tr>\n",
       "    <tr>\n",
       "      <th>7</th>\n",
       "      <td>7788</td>\n",
       "      <td>SCOTT</td>\n",
       "      <td>ANALYST</td>\n",
       "      <td>7566.0</td>\n",
       "      <td>3000.0</td>\n",
       "      <td>NaN</td>\n",
       "    </tr>\n",
       "    <tr>\n",
       "      <th>8</th>\n",
       "      <td>7839</td>\n",
       "      <td>KING</td>\n",
       "      <td>PRESIDENT</td>\n",
       "      <td>NaN</td>\n",
       "      <td>5000.0</td>\n",
       "      <td>NaN</td>\n",
       "    </tr>\n",
       "    <tr>\n",
       "      <th>9</th>\n",
       "      <td>7844</td>\n",
       "      <td>TURNER</td>\n",
       "      <td>SALESMAN</td>\n",
       "      <td>7698.0</td>\n",
       "      <td>1500.0</td>\n",
       "      <td>0.0</td>\n",
       "    </tr>\n",
       "    <tr>\n",
       "      <th>10</th>\n",
       "      <td>7876</td>\n",
       "      <td>ADAMS</td>\n",
       "      <td>CLERK</td>\n",
       "      <td>7788.0</td>\n",
       "      <td>1100.0</td>\n",
       "      <td>NaN</td>\n",
       "    </tr>\n",
       "    <tr>\n",
       "      <th>11</th>\n",
       "      <td>7900</td>\n",
       "      <td>JAMES</td>\n",
       "      <td>CLERK</td>\n",
       "      <td>7698.0</td>\n",
       "      <td>950.0</td>\n",
       "      <td>NaN</td>\n",
       "    </tr>\n",
       "    <tr>\n",
       "      <th>12</th>\n",
       "      <td>7902</td>\n",
       "      <td>FORD</td>\n",
       "      <td>ANALYST</td>\n",
       "      <td>7566.0</td>\n",
       "      <td>3000.0</td>\n",
       "      <td>NaN</td>\n",
       "    </tr>\n",
       "    <tr>\n",
       "      <th>13</th>\n",
       "      <td>7934</td>\n",
       "      <td>MILLER</td>\n",
       "      <td>CLERK</td>\n",
       "      <td>7782.0</td>\n",
       "      <td>1300.0</td>\n",
       "      <td>NaN</td>\n",
       "    </tr>\n",
       "  </tbody>\n",
       "</table>\n",
       "</div>"
      ],
      "text/plain": [
       "      NO   ENAME        JOB     MGR     SAL    COMM\n",
       "0   7369   SMITH      CLERK  7902.0   800.0     NaN\n",
       "1   7499   ALLEN   SALESMAN  7698.0  1600.0   300.0\n",
       "2   7521    WARD   SALESMAN  7698.0  1250.0   500.0\n",
       "3   7566   JONES    MANAGER  7839.0  2975.0     NaN\n",
       "4   7654  MARTIN   SALESMAN  7698.0  1250.0  1400.0\n",
       "5   7698   BLAKE    MANAGER  7839.0  2850.0     NaN\n",
       "6   7782   CLARK    MANAGER  7839.0  2450.0     NaN\n",
       "7   7788   SCOTT    ANALYST  7566.0  3000.0     NaN\n",
       "8   7839    KING  PRESIDENT     NaN  5000.0     NaN\n",
       "9   7844  TURNER   SALESMAN  7698.0  1500.0     0.0\n",
       "10  7876   ADAMS      CLERK  7788.0  1100.0     NaN\n",
       "11  7900   JAMES      CLERK  7698.0   950.0     NaN\n",
       "12  7902    FORD    ANALYST  7566.0  3000.0     NaN\n",
       "13  7934  MILLER      CLERK  7782.0  1300.0     NaN"
      ]
     },
     "execution_count": 76,
     "metadata": {},
     "output_type": "execute_result"
    }
   ],
   "source": [
    "pd.DataFrame(emps, columns=[des[0] for des in cursor.description])"
   ]
  }
 ],
 "metadata": {
  "kernelspec": {
   "display_name": "base",
   "language": "python",
   "name": "python3"
  },
  "language_info": {
   "codemirror_mode": {
    "name": "ipython",
    "version": 3
   },
   "file_extension": ".py",
   "mimetype": "text/x-python",
   "name": "python",
   "nbconvert_exporter": "python",
   "pygments_lexer": "ipython3",
   "version": "3.10.9"
  }
 },
 "nbformat": 4,
 "nbformat_minor": 5
}
