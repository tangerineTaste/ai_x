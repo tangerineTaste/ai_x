{
 "cells": [
  {
   "cell_type": "code",
   "execution_count": 1,
   "id": "6bb51990",
   "metadata": {},
   "outputs": [
    {
     "data": {
      "text/html": [
       "\n",
       "<style>\n",
       "div.container{width:86% !important;}\n",
       "div.cell.code_cell.rendered{width:100%;}\n",
       "div.CodeMirror {font-family:Consolas; font-size:15pt;}\n",
       "div.output {font-size:15pt; font-weight:bold;}\n",
       "div.input {font-family:Consolas; font-size:15pt;}\n",
       "div.prompt {min-width:70px;}\n",
       "div#toc-wrapper{padding-top:120px;}\n",
       "div.text_cell_render ul li{font-size:12pt;padding:5px;}\n",
       "table.dataframe{font-size:15px;}\n",
       "</style>\n"
      ],
      "text/plain": [
       "<IPython.core.display.HTML object>"
      ]
     },
     "metadata": {},
     "output_type": "display_data"
    }
   ],
   "source": [
    "from IPython.display import display, HTML \n",
    "display(HTML(\"\"\"\n",
    "<style>\n",
    "div.container{width:86% !important;}\n",
    "div.cell.code_cell.rendered{width:100%;}\n",
    "div.CodeMirror {font-family:Consolas; font-size:15pt;}\n",
    "div.output {font-size:15pt; font-weight:bold;}\n",
    "div.input {font-family:Consolas; font-size:15pt;}\n",
    "div.prompt {min-width:70px;}\n",
    "div#toc-wrapper{padding-top:120px;}\n",
    "div.text_cell_render ul li{font-size:12pt;padding:5px;}\n",
    "table.dataframe{font-size:15px;}\n",
    "</style>\n",
    "\"\"\"))"
   ]
  },
  {
   "cell_type": "markdown",
   "id": "b630d20c",
   "metadata": {},
   "source": [
    "<b><font size=\"5\" color=\"red\"> ch07 객체지향 프로그래밍</font></b>\n"
   ]
  },
  {
   "cell_type": "code",
   "execution_count": 4,
   "id": "beb858c7",
   "metadata": {},
   "outputs": [
    {
     "name": "stdout",
     "output_type": "stream",
     "text": [
      "홍길동 남자 MBC\n"
     ]
    }
   ],
   "source": [
    "person1 = {'name':'홍길동','gender':'남자','accademy':'MBC'}\n",
    "person2 = {'name':'홍길순','gender':'여자','accademy':'MBC'}\n",
    "print(person1['name'], person1['gender'], person1['accademy'])"
   ]
  },
  {
   "cell_type": "code",
   "execution_count": 62,
   "id": "0dcc4ddd",
   "metadata": {},
   "outputs": [],
   "source": [
    "class Person:\n",
    "    '''\n",
    "    사람 객체를 생성하는 클래스\n",
    "    '''\n",
    "    def __init__(self, name, gender, accademy = 'MBC'): #생성자 함수\n",
    "        self.name = name # 객체안의 변수(인스턴스 변수)\n",
    "        self.gender = gender\n",
    "        self.accademy = accademy\n",
    "    def print_info(self):\n",
    "        print('{}(은)는 {}. {}를 다님'.format(self.name,self.gender,self.accademy)) \n",
    "    def __str__(self):\n",
    "        return \"{}는 {}입니다. {}를 다닙니다\".format(self.name,self.gender,self.accademy)"
   ]
  },
  {
   "cell_type": "code",
   "execution_count": 64,
   "id": "2b63ef9e",
   "metadata": {},
   "outputs": [
    {
     "name": "stdout",
     "output_type": "stream",
     "text": [
      "홍길동(은)는 남자. CBC를 다님\n",
      "홍길순(은)는 여자. MBC를 다님\n",
      "마길동는 남자입니다. CBC를 다닙니다\n"
     ]
    }
   ],
   "source": [
    "p1 = Person('홍길동','남자','CBC')\n",
    "p2 = Person('홍길순','여자')\n",
    "p1.print_info()\n",
    "p2.print_info()\n",
    "p1.name = '마길동'\n",
    "p1.accademy = 'CBC'\n",
    "print(p1)"
   ]
  },
  {
   "cell_type": "markdown",
   "id": "f08c5025",
   "metadata": {},
   "source": [
    "# 1절 객체와 클래스\n",
    "```\n",
    "class 클래스명(상속받을 클래스명):\n",
    "    변수나 함수들 선언\n",
    "```"
   ]
  },
  {
   "cell_type": "code",
   "execution_count": 76,
   "id": "7c4dd4aa",
   "metadata": {},
   "outputs": [],
   "source": [
    "class Person:\n",
    "    '''\n",
    "    Person 클래스는 Person클래스\n",
    "    생성자 함수가 없을 경우, 디폴트 생성자 함수가 자동 생성\n",
    "    '''\n",
    "    pass\n",
    "p1 = Person()"
   ]
  },
  {
   "cell_type": "code",
   "execution_count": 77,
   "id": "8a89c4aa",
   "metadata": {},
   "outputs": [
    {
     "data": {
      "text/plain": [
       "True"
      ]
     },
     "execution_count": 77,
     "metadata": {},
     "output_type": "execute_result"
    }
   ],
   "source": [
    "isinstance(p1,Person)"
   ]
  },
  {
   "cell_type": "code",
   "execution_count": 78,
   "id": "cb52834c",
   "metadata": {},
   "outputs": [
    {
     "data": {
      "text/plain": [
       "'\\n    Person 클래스는 Person클래스\\n    생성자 함수가 없을 경우, 디폴트 생성자 함수가 자동 생성\\n    '"
      ]
     },
     "execution_count": 78,
     "metadata": {},
     "output_type": "execute_result"
    }
   ],
   "source": [
    "p1.__doc__"
   ]
  },
  {
   "cell_type": "markdown",
   "id": "b0c6fe1f",
   "metadata": {},
   "source": [
    "# 2절 생성자와 소멸자\n",
    "```\n",
    "생성자 : __init__(self,매개변수,...) -> 객체가 생성될 때 자동 실행\n",
    "        객체 생성시 필요한 인스턴스 변수 초기화를 포함\n",
    "소멸자 : __del__(self) -> 객체가 소멸될 때 자동 실행\n",
    "        인스턴스 객체의 레퍼런스 카운트가 0이 될 때 실행\n",
    "```"
   ]
  },
  {
   "cell_type": "code",
   "execution_count": 22,
   "id": "f4d1638e",
   "metadata": {},
   "outputs": [],
   "source": [
    "class Person:\n",
    "    def __init__(self, name, gender='여자'): #파이썬은 함수 오버로딩이 불가능\n",
    "        self.name = name\n",
    "        self.gender = gender\n",
    "        print('Person 객체를 생성합니다',name)\n",
    "    def __del__(self):\n",
    "        print('Person 객체를 소멸시킵니다',self.name)\n",
    "    def print_info(self):\n",
    "        print(\"{}는 {}입니다\".format(slef.name, self.gender))\n",
    "    def __str__(self): \n",
    "        return f'{self.name}(은)는 {self.gender}입니다'"
   ]
  },
  {
   "cell_type": "code",
   "execution_count": 23,
   "id": "5b434ed3",
   "metadata": {},
   "outputs": [
    {
     "name": "stdout",
     "output_type": "stream",
     "text": [
      "Person 객체를 생성합니다 신사임당\n",
      "Person 객체를 생성합니다 홍길동\n",
      "Person 객체를 소멸시킵니다 홍길동\n"
     ]
    }
   ],
   "source": [
    "p1 = Person('신사임당','여자')\n",
    "p2 = Person('홍길동')"
   ]
  },
  {
   "cell_type": "code",
   "execution_count": 24,
   "id": "5fb48c05",
   "metadata": {},
   "outputs": [
    {
     "name": "stdout",
     "output_type": "stream",
     "text": [
      "신사임당(은)는 여자입니다\n",
      "홍길동(은)는 여자입니다\n"
     ]
    }
   ],
   "source": [
    "print(p1)\n",
    "print(p2)"
   ]
  },
  {
   "cell_type": "code",
   "execution_count": 25,
   "id": "e4764c98",
   "metadata": {},
   "outputs": [],
   "source": [
    "p3 = p2"
   ]
  },
  {
   "cell_type": "code",
   "execution_count": 26,
   "id": "b88fa2fc",
   "metadata": {},
   "outputs": [
    {
     "name": "stdout",
     "output_type": "stream",
     "text": [
      "Person 객체를 소멸시킵니다 신사임당\n"
     ]
    }
   ],
   "source": [
    "del p1"
   ]
  },
  {
   "cell_type": "code",
   "execution_count": 28,
   "id": "86b618ad",
   "metadata": {},
   "outputs": [
    {
     "name": "stdout",
     "output_type": "stream",
     "text": [
      "마길동(은)는 여자입니다 마길동(은)는 여자입니다\n"
     ]
    }
   ],
   "source": [
    "p3.name = '마길동'\n",
    "print(p2,p3)"
   ]
  },
  {
   "cell_type": "markdown",
   "id": "9d4b61b6",
   "metadata": {},
   "source": [
    "# 3절 변수와 메소드(함수)\n",
    "- 인스턴스 변수 vs 클래스 변수 \n",
    "- 인스턴스 메소드(self) vs 클래스 메소드(clz) vs static 메소드()"
   ]
  },
  {
   "cell_type": "code",
   "execution_count": 30,
   "id": "2333ac8e",
   "metadata": {},
   "outputs": [
    {
     "name": "stdout",
     "output_type": "stream",
     "text": [
      "홍길동\n"
     ]
    }
   ],
   "source": [
    "class Person:\n",
    "    name = '홍길동' # 클래스 변수 \n",
    "    gender = '남자'\n",
    "print(Person.name)"
   ]
  },
  {
   "cell_type": "code",
   "execution_count": 36,
   "id": "758544ac",
   "metadata": {},
   "outputs": [
    {
     "name": "stdout",
     "output_type": "stream",
     "text": [
      "리사 여자\n",
      "리사 여자\n"
     ]
    }
   ],
   "source": [
    "p1 = Person()\n",
    "p2 = Person()\n",
    "print(Person.name, Person.gender)\n",
    "print(p1.name, p1.gender)"
   ]
  },
  {
   "cell_type": "code",
   "execution_count": 35,
   "id": "e8b632a1",
   "metadata": {},
   "outputs": [],
   "source": [
    "Person.name = \"리사\"\n",
    "Person.gender = '여자'"
   ]
  },
  {
   "cell_type": "markdown",
   "id": "e5343333",
   "metadata": {},
   "source": [
    "※ 인스턴스 메소드(self) vs 클래스 메소드(clz) vs static 메소드()\n",
    "- 인스턴스 메소드 : 첫번째 인자에 self 꼭 명시. 객체 통해서만 호출할 수 있는 메소드\n",
    "- 클래스 메소드 : 메소드 위에 @classmethod를 선언한 메소드. 첫번째 인자에 cls(clz) 꼭 명시\n",
    "- static 메소드 : 메소드 위에 @staticmethod를 선언한 메소드. 인자를 넣지 않음"
   ]
  },
  {
   "cell_type": "code",
   "execution_count": 42,
   "id": "be2f5577",
   "metadata": {},
   "outputs": [],
   "source": [
    "class Person:\n",
    "    name = '홍길동'\n",
    "    gender = '남자'\n",
    "    def print_info(self): #객체변수명.print_info()로 호출\n",
    "        print(f'인스턴스메소드(일반메소드) - {self.name}는 {self.gender}입니다')\n",
    "    def change_info(self, name, gender='남자') : #객체변수.change_info('김','여자')\n",
    "        self.name = name\n",
    "        slef.gender = gender\n",
    "        print(f'인스턴스(일반)메소드 - {name}/{gender}로 변경 완료')\n",
    "    @classmethod\n",
    "    def do_(clz): #clz == Person. 클래스 변수를 이용한 로직. Person.do_()호출\n",
    "        clz.name = '신사임당'\n",
    "        clz.gender = '여자'\n",
    "        print(f'클래스 메소드 - {clz.name}/{clz.gender} 변경완료')\n",
    "    @staticmethod\n",
    "    def that_(): #클래스 변수를 이용하기보단 로직이 우선일 경우. Person.that_()\n",
    "        Person.name = \"신길동\"\n",
    "        Person.gender = \"남자\"\n",
    "        print(f'클래스 메소드 - {Person.name}/{Person.gender} 변경완료')"
   ]
  },
  {
   "cell_type": "code",
   "execution_count": 45,
   "id": "a45a467b",
   "metadata": {},
   "outputs": [
    {
     "name": "stdout",
     "output_type": "stream",
     "text": [
      "인스턴스메소드(일반메소드) - 홍길동는 남자입니다\n"
     ]
    }
   ],
   "source": [
    "p1 = Person()\n",
    "p1.print_info()"
   ]
  },
  {
   "cell_type": "code",
   "execution_count": 50,
   "id": "260f0828",
   "metadata": {},
   "outputs": [
    {
     "name": "stdout",
     "output_type": "stream",
     "text": [
      "클래스 메소드 - 신사임당/여자 변경완료\n",
      "인스턴스메소드(일반메소드) - 신사임당는 여자입니다\n"
     ]
    }
   ],
   "source": [
    "Person.do_()\n",
    "p1.print_info()"
   ]
  },
  {
   "cell_type": "code",
   "execution_count": 51,
   "id": "f076f75c",
   "metadata": {},
   "outputs": [
    {
     "name": "stdout",
     "output_type": "stream",
     "text": [
      "클래스 메소드 - 신길동/남자 변경완료\n",
      "인스턴스메소드(일반메소드) - 신길동는 남자입니다\n"
     ]
    }
   ],
   "source": [
    "Person.that_()\n",
    "p1.print_info()"
   ]
  },
  {
   "cell_type": "markdown",
   "id": "6a825829",
   "metadata": {},
   "source": [
    "## 요약\n",
    "**객체를 이용하면 객체에 정보를 저장하고, 그 정보를 이용해서 어떤 기능을 수행할 수 있다**\n",
    "\n",
    "**객체 = 데이터(변수:객체마다 고유의 값) + 기능(메소드, 함수)**\n",
    "\n",
    "**그 객체를 만들기 위한 틀이 클래스**\n",
    "```\n",
    "    class 클래스명:\n",
    "        'docstring'\n",
    "        클래스변수명 = 값 (거의안씀)\n",
    "        def __init__(self, [객체멤버를 초기화할 변수=값,...]):\n",
    "            self.인스턴스 변수 = 값\n",
    "        \n",
    "        def method(self, ...):\n",
    "            인스턴스 메소드(일반함수)의 매개변슈는 self를 반드시 포함\n",
    "            \n",
    "        @classmethod\n",
    "        def classmethod(cls):\n",
    "            코드\n",
    "        \n",
    "        @staticmethod\n",
    "        def staticmethod():\n",
    "            코드\n",
    "            \n",
    "    객체변수 = 클래스명()\n",
    "    객체변수.method()\n",
    "    클래스명.classmethod()\n",
    "    클래스명.staticmethd()\n",
    "```"
   ]
  },
  {
   "cell_type": "code",
   "execution_count": 4,
   "id": "bd3fc411",
   "metadata": {},
   "outputs": [],
   "source": [
    "class Person:\n",
    "    def __init__(self, name):\n",
    "        self.name = name\n",
    "    def __str__(self):\n",
    "        return f'{self.name}입니다.'\n",
    "    def print_info(self):\n",
    "        print(self)"
   ]
  },
  {
   "cell_type": "code",
   "execution_count": 5,
   "id": "d771a21a",
   "metadata": {},
   "outputs": [],
   "source": [
    "p1 = Person('홍길동')"
   ]
  },
  {
   "cell_type": "code",
   "execution_count": 8,
   "id": "7096e774",
   "metadata": {},
   "outputs": [
    {
     "name": "stdout",
     "output_type": "stream",
     "text": [
      "홍길동입니다.\n"
     ]
    }
   ],
   "source": [
    "p1.print_info()"
   ]
  },
  {
   "cell_type": "code",
   "execution_count": 15,
   "id": "ab4cef76",
   "metadata": {},
   "outputs": [],
   "source": [
    "p1.nickname = '홍별명' #파이썬은 동적으로 인스턴스 멤버 추가가 가능하다(권장X)\n",
    "p2 = Person('홍길숙')"
   ]
  },
  {
   "cell_type": "code",
   "execution_count": 14,
   "id": "73a5199b",
   "metadata": {},
   "outputs": [
    {
     "data": {
      "text/plain": [
       "(True, True)"
      ]
     },
     "execution_count": 14,
     "metadata": {},
     "output_type": "execute_result"
    }
   ],
   "source": [
    "isinstance(p1,Person), isinstance(p2,Person)"
   ]
  },
  {
   "cell_type": "markdown",
   "id": "22e95eff",
   "metadata": {},
   "source": [
    "# 4절 상속과 재정의\n",
    "- 클래스를 재사용\n",
    "- 상속을 이용하면 부모클래스의 모든 속성을 자식클래스로 물려줄 수 있음\n",
    "- class 자식클래스명(부모클래스명):"
   ]
  },
  {
   "cell_type": "code",
   "execution_count": 18,
   "id": "7cb19763",
   "metadata": {},
   "outputs": [],
   "source": [
    "class Cal:\n",
    "    def __init__(self, num1, num2):\n",
    "        print('두 수 초기화')\n",
    "        self.num1 = num1\n",
    "        self.num2 = num2\n",
    "    def add(self):\n",
    "        return self.num1 + self.num2\n",
    "    def sub(self):\n",
    "        return self.num1 - self.num2\n",
    "    def div(self):\n",
    "        return self.num1/self.num2 if self.num2!=0 else '0으로 나눌 수 없음'\n",
    "    def __str__(self):\n",
    "        return 'num1={}, num2={}'.format(self.num1, self.num2)\n",
    "\n",
    "class Cal_inherit(Cal):\n",
    "    def mul(self):\n",
    "        return self.num1 * self.num2"
   ]
  },
  {
   "cell_type": "code",
   "execution_count": 23,
   "id": "48044a33",
   "metadata": {},
   "outputs": [
    {
     "name": "stdout",
     "output_type": "stream",
     "text": [
      "두 수 초기화\n",
      "8 -2 0.6 15 num1=3, num2=5\n",
      "두 수 초기화\n",
      "9 -1 0.8 num1=3, num2=5\n"
     ]
    }
   ],
   "source": [
    "c = Cal_inherit(3,5)\n",
    "print(c.add(), c.sub(), c.div(), c.mul(), c)\n",
    "c2 = Cal(4,5)\n",
    "print(c2.add(), c2.sub(), c2.div(), c)"
   ]
  },
  {
   "cell_type": "code",
   "execution_count": 24,
   "id": "8aaf4ef9",
   "metadata": {},
   "outputs": [
    {
     "data": {
      "text/plain": [
       "(__main__.Cal_inherit, __main__.Cal)"
      ]
     },
     "execution_count": 24,
     "metadata": {},
     "output_type": "execute_result"
    }
   ],
   "source": [
    "type(c), type(c2)"
   ]
  },
  {
   "cell_type": "code",
   "execution_count": 26,
   "id": "5b2bb0f6",
   "metadata": {},
   "outputs": [
    {
     "data": {
      "text/plain": [
       "(True, True)"
      ]
     },
     "execution_count": 26,
     "metadata": {},
     "output_type": "execute_result"
    }
   ],
   "source": [
    "isinstance(c, Cal_inherit), isinstance(c, Cal) # Cal_inherit is a Cal (상속은 is a 관계)"
   ]
  },
  {
   "cell_type": "code",
   "execution_count": 43,
   "id": "ab2d20fa",
   "metadata": {},
   "outputs": [],
   "source": [
    "class Person:\n",
    "    'Person은 이름과 성별을 멤버변수로 갖고, 출력기능'\n",
    "    def __init__(self, name, gender):\n",
    "        print('이름과 성별 초기화')\n",
    "        self.name = name\n",
    "        self.gender = gender\n",
    "    def __str__(self):\n",
    "        return '{}님은 {}'.format(self.name, self.gender)\n",
    "    def print_info():\n",
    "        print(self)"
   ]
  },
  {
   "cell_type": "code",
   "execution_count": 49,
   "id": "9eae66dd",
   "metadata": {},
   "outputs": [],
   "source": [
    "# override : 함수의 재정의(부모클래스의 함수를 자식클래스에서 다시 정의)\n",
    "    #      : 부모클래스의 함수명과 매개변수 개수가 동일\n",
    "# overload : 함수의 중복정의(같은 이름의 함수를 매개변수 갯수를 달리해서 정의) - 파이썬불가\n",
    "class Student(Person):\n",
    "    def __init__(self,name,gender,major):\n",
    "        # Person.__init__(self,name,gender)\n",
    "        super().__init__(name,gender)\n",
    "        self.major = major\n",
    "        \n",
    "    def __str__(self):\n",
    "        return super().__str__() + ', 전공은 {}입니다.'.format(self.major)\n",
    "    \n",
    "    def print_info(self):\n",
    "\n",
    "        print(self)"
   ]
  },
  {
   "cell_type": "code",
   "execution_count": 50,
   "id": "ebb92017",
   "metadata": {},
   "outputs": [
    {
     "name": "stdout",
     "output_type": "stream",
     "text": [
      "이름과 성별 초기화\n",
      "홍길서님은 여자, 전공은 컴퓨터공학입니다.\n"
     ]
    }
   ],
   "source": [
    "s = Student('홍길서','여자','컴퓨터공학')\n",
    "s.print_info()"
   ]
  },
  {
   "cell_type": "code",
   "execution_count": 51,
   "id": "0dcf20b9",
   "metadata": {},
   "outputs": [
    {
     "data": {
      "text/plain": [
       "(True, True)"
      ]
     },
     "execution_count": 51,
     "metadata": {},
     "output_type": "execute_result"
    }
   ],
   "source": [
    "isinstance(s, Student), isinstance(s,Person)"
   ]
  },
  {
   "cell_type": "markdown",
   "id": "e16e2541",
   "metadata": {},
   "source": [
    "## 정적변수(static 변수) : 여러 객체들 사이에 데이터를 공유하고 싶을 때 사용\n",
    "- static 변수 앞에 under score 2개(__)를 붙으면 클래스명._클래스명__static변수명으로 참조\n",
    "- 클래스변수는 외부에서 바로 접근 가능.\n",
    "- static 변수는 외부에서 바로 접근하는 것을 방지\n",
    "- static 변수는 클래스 내부에서만 접근하도록 하려는 의도"
   ]
  },
  {
   "cell_type": "code",
   "execution_count": 3,
   "id": "89e062bd",
   "metadata": {},
   "outputs": [],
   "source": [
    "class Person:\n",
    "    def __init__(self,name,gender):\n",
    "        self.name = name\n",
    "        self.gender = gender\n",
    "    def print_info(self):#추상메소드\n",
    "        raise Exception('이 메소드는 호출하면 예외') #강제 예외 발생\n",
    "    def __str__(self):\n",
    "        return f'{self.name}은 {self.gender}'\n",
    "\n",
    "class Student(Person):\n",
    "    __count = 0 #static 변수 (객체의 갯수)\n",
    "    # 클래스명._클래스명__count로 사용\n",
    "    def __init__(self, name, gender, major):\n",
    "        super().__init__(name,gender)\n",
    "        self.major = major\n",
    "        Student._Student__count += 1 #객체가 생성될 때 마다 __count 1증가\n",
    "        \n",
    "    def __del__(self):\n",
    "        Student._Student__count -= 1 #객체가 삭제될 때 마다 __count 1감소\n",
    "        \n",
    "    def __str__(self):\n",
    "        return super().__str__() + '이고, 전공은 {}, {}번째 객체'.format(self.major, Student._Student__count)\n",
    "    \n",
    "    def print_info(self):\n",
    "        print(self)\n",
    "    \n",
    "    @classmethod\n",
    "    def get_count(cls):\n",
    "        return Student._Student__count\n",
    "    "
   ]
  },
  {
   "cell_type": "code",
   "execution_count": 4,
   "id": "f277e069",
   "metadata": {},
   "outputs": [
    {
     "name": "stdout",
     "output_type": "stream",
     "text": [
      "홍길동은 남자이고, 전공은 컴공, 1번째 객체\n"
     ]
    }
   ],
   "source": [
    "s1 = Student('홍길동','남자','컴공')\n",
    "s1.print_info()"
   ]
  },
  {
   "cell_type": "code",
   "execution_count": 5,
   "id": "a582c260",
   "metadata": {},
   "outputs": [
    {
     "name": "stdout",
     "output_type": "stream",
     "text": [
      "홍길서은 여자이고, 전공은 컴공, 2번째 객체\n"
     ]
    }
   ],
   "source": [
    "s2 = Student('홍길서','여자','컴공')\n",
    "s2.print_info()"
   ]
  },
  {
   "cell_type": "code",
   "execution_count": 6,
   "id": "7f69bb5f",
   "metadata": {},
   "outputs": [
    {
     "name": "stdout",
     "output_type": "stream",
     "text": [
      "신길서은 여자이고, 전공은 컴공, 3번째 객체\n"
     ]
    }
   ],
   "source": [
    "s3 = Student('신길서','여자','컴공')\n",
    "s3.print_info()"
   ]
  },
  {
   "cell_type": "code",
   "execution_count": 7,
   "id": "4f43a45d",
   "metadata": {},
   "outputs": [],
   "source": [
    "del s3, s2"
   ]
  },
  {
   "cell_type": "code",
   "execution_count": 15,
   "id": "f059a253",
   "metadata": {},
   "outputs": [
    {
     "data": {
      "text/plain": [
       "1"
      ]
     },
     "execution_count": 15,
     "metadata": {},
     "output_type": "execute_result"
    }
   ],
   "source": [
    "Student.get_count()"
   ]
  },
  {
   "cell_type": "markdown",
   "id": "2d593420",
   "metadata": {},
   "source": [
    "# 5절 연습문제"
   ]
  },
  {
   "cell_type": "code",
   "execution_count": 3,
   "id": "69b85eed",
   "metadata": {},
   "outputs": [],
   "source": [
    "class Shape:\n",
    "    def __init__(self, x, y):\n",
    "        self.x = x\n",
    "        self.y = y\n",
    "    def move(self, x, y):\n",
    "        self.x = x\n",
    "        self.y = y\n",
    "    def __str__(self):\n",
    "        return f'좌표값 : ({self.x},{self.y})'\n",
    "    def calc_area(self):\n",
    "        raise Exception('구현되어있지 않습니다.') #강제 예외 발생"
   ]
  },
  {
   "cell_type": "code",
   "execution_count": 4,
   "id": "e0ee48ab",
   "metadata": {},
   "outputs": [],
   "source": [
    "import math\n",
    "class Triple(Shape):\n",
    "    __count = 0\n",
    "    def __init__(self,width,height,x=0,y=0):\n",
    "        super().__init__(x,y)\n",
    "        self.width = width\n",
    "        self.height = height\n",
    "        Triple._Triple__count += 1\n",
    "    def __del__(self):\n",
    "        Triple._Triple__count -= 1 \n",
    "        \n",
    "    def calc_area(self):\n",
    "        return self.height+self.width+ math.sqrt(self.width**2+self.height**2)\n",
    "    def __str__(self):\n",
    "        return super().__str__() + f', 높이 : {self.height}, 길이: {self.width}, 둘레 : {self.calc_area()}, {Triple._Triple__count}번째 객체'\n",
    "    \n",
    "    @classmethod\n",
    "    def get_count(cls):\n",
    "        return Triple._Triple__count"
   ]
  },
  {
   "cell_type": "code",
   "execution_count": 7,
   "id": "40080895",
   "metadata": {},
   "outputs": [
    {
     "name": "stdout",
     "output_type": "stream",
     "text": [
      "좌표값 : (3,3), 높이 : 4, 길이: 3, 둘레 : 12.0, 3번째 객체\n"
     ]
    }
   ],
   "source": [
    "t1 = Triple(3,4)\n",
    "t1.move(3,3)\n",
    "print(t1)"
   ]
  },
  {
   "cell_type": "code",
   "execution_count": 6,
   "id": "9f125ba0",
   "metadata": {},
   "outputs": [
    {
     "name": "stdout",
     "output_type": "stream",
     "text": [
      "좌표값 : (0,0), 높이 : 3, 길이: 4, 둘레 : 12.0, 2번째 객체\n"
     ]
    }
   ],
   "source": [
    "t2 = Triple(4,3)\n",
    "print(t2)"
   ]
  },
  {
   "cell_type": "code",
   "execution_count": null,
   "id": "f86d31b7",
   "metadata": {},
   "outputs": [],
   "source": [
    "#1 1\n",
    "#2 2\n",
    "#3 4\n",
    "#4 3\n",
    "#5 2\n",
    "#6 1\n",
    "#7 3\n",
    "#8 2\n",
    "#9 2\n"
   ]
  }
 ],
 "metadata": {
  "kernelspec": {
   "display_name": "Python 3 (ipykernel)",
   "language": "python",
   "name": "python3"
  },
  "language_info": {
   "codemirror_mode": {
    "name": "ipython",
    "version": 3
   },
   "file_extension": ".py",
   "mimetype": "text/x-python",
   "name": "python",
   "nbconvert_exporter": "python",
   "pygments_lexer": "ipython3",
   "version": "3.10.9"
  },
  "toc": {
   "base_numbering": 1,
   "nav_menu": {},
   "number_sections": false,
   "sideBar": true,
   "skip_h1_title": false,
   "title_cell": "Table of Contents",
   "title_sidebar": "Contents",
   "toc_cell": false,
   "toc_position": {
    "height": "calc(100% - 180px)",
    "left": "10px",
    "top": "150px",
    "width": "165px"
   },
   "toc_section_display": true,
   "toc_window_display": true
  }
 },
 "nbformat": 4,
 "nbformat_minor": 5
}
