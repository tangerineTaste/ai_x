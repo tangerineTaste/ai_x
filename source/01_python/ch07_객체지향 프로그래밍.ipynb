{
 "cells": [
  {
   "cell_type": "code",
   "execution_count": 1,
   "id": "6bb51990",
   "metadata": {},
   "outputs": [
    {
     "data": {
      "text/html": [
       "\n",
       "<style>\n",
       "div.container{width:86% !important;}\n",
       "div.cell.code_cell.rendered{width:100%;}\n",
       "div.CodeMirror {font-family:Consolas; font-size:15pt;}\n",
       "div.output {font-size:15pt; font-weight:bold;}\n",
       "div.input {font-family:Consolas; font-size:15pt;}\n",
       "div.prompt {min-width:70px;}\n",
       "div#toc-wrapper{padding-top:120px;}\n",
       "div.text_cell_render ul li{font-size:12pt;padding:5px;}\n",
       "table.dataframe{font-size:15px;}\n",
       "</style>\n"
      ],
      "text/plain": [
       "<IPython.core.display.HTML object>"
      ]
     },
     "metadata": {},
     "output_type": "display_data"
    }
   ],
   "source": [
    "from IPython.display import display, HTML \n",
    "display(HTML(\"\"\"\n",
    "<style>\n",
    "div.container{width:86% !important;}\n",
    "div.cell.code_cell.rendered{width:100%;}\n",
    "div.CodeMirror {font-family:Consolas; font-size:15pt;}\n",
    "div.output {font-size:15pt; font-weight:bold;}\n",
    "div.input {font-family:Consolas; font-size:15pt;}\n",
    "div.prompt {min-width:70px;}\n",
    "div#toc-wrapper{padding-top:120px;}\n",
    "div.text_cell_render ul li{font-size:12pt;padding:5px;}\n",
    "table.dataframe{font-size:15px;}\n",
    "</style>\n",
    "\"\"\"))"
   ]
  },
  {
   "cell_type": "markdown",
   "id": "b630d20c",
   "metadata": {},
   "source": [
    "<b><font size=\"5\" color=\"red\"> ch07 객체지향 프로그래밍</font></b>\n"
   ]
  },
  {
   "cell_type": "code",
   "execution_count": 4,
   "id": "beb858c7",
   "metadata": {},
   "outputs": [
    {
     "name": "stdout",
     "output_type": "stream",
     "text": [
      "홍길동 남자 MBC\n"
     ]
    }
   ],
   "source": [
    "person1 = {'name':'홍길동','gender':'남자','accademy':'MBC'}\n",
    "person2 = {'name':'홍길순','gender':'여자','accademy':'MBC'}\n",
    "print(person1['name'], person1['gender'], person1['accademy'])"
   ]
  },
  {
   "cell_type": "code",
   "execution_count": 62,
   "id": "0dcc4ddd",
   "metadata": {},
   "outputs": [],
   "source": [
    "class Person:\n",
    "    '''\n",
    "    사람 객체를 생성하는 클래스\n",
    "    '''\n",
    "    def __init__(self, name, gender, accademy = 'MBC'): #생성자 함수\n",
    "        self.name = name # 객체안의 변수(인스턴스 변수)\n",
    "        self.gender = gender\n",
    "        self.accademy = accademy\n",
    "    def print_info(self):\n",
    "        print('{}(은)는 {}. {}를 다님'.format(self.name,self.gender,self.accademy)) \n",
    "    def __str__(self):\n",
    "        return \"{}는 {}입니다. {}를 다닙니다\".format(self.name,self.gender,self.accademy)"
   ]
  },
  {
   "cell_type": "code",
   "execution_count": 64,
   "id": "2b63ef9e",
   "metadata": {},
   "outputs": [
    {
     "name": "stdout",
     "output_type": "stream",
     "text": [
      "홍길동(은)는 남자. CBC를 다님\n",
      "홍길순(은)는 여자. MBC를 다님\n",
      "마길동는 남자입니다. CBC를 다닙니다\n"
     ]
    }
   ],
   "source": [
    "p1 = Person('홍길동','남자','CBC')\n",
    "p2 = Person('홍길순','여자')\n",
    "p1.print_info()\n",
    "p2.print_info()\n",
    "p1.name = '마길동'\n",
    "p1.accademy = 'CBC'\n",
    "print(p1)"
   ]
  },
  {
   "cell_type": "markdown",
   "id": "f08c5025",
   "metadata": {},
   "source": [
    "# 1절 객체와 클래스\n",
    "```\n",
    "class 클래스명(상속받을 클래스명):\n",
    "    변수나 함수들 선언\n",
    "```"
   ]
  },
  {
   "cell_type": "code",
   "execution_count": 76,
   "id": "7c4dd4aa",
   "metadata": {},
   "outputs": [],
   "source": [
    "class Person:\n",
    "    '''\n",
    "    Person 클래스는 Person클래스\n",
    "    생성자 함수가 없을 경우, 디폴트 생성자 함수가 자동 생성\n",
    "    '''\n",
    "    pass\n",
    "p1 = Person()"
   ]
  },
  {
   "cell_type": "code",
   "execution_count": 77,
   "id": "8a89c4aa",
   "metadata": {},
   "outputs": [
    {
     "data": {
      "text/plain": [
       "True"
      ]
     },
     "execution_count": 77,
     "metadata": {},
     "output_type": "execute_result"
    }
   ],
   "source": [
    "isinstance(p1,Person)"
   ]
  },
  {
   "cell_type": "code",
   "execution_count": 78,
   "id": "cb52834c",
   "metadata": {},
   "outputs": [
    {
     "data": {
      "text/plain": [
       "'\\n    Person 클래스는 Person클래스\\n    생성자 함수가 없을 경우, 디폴트 생성자 함수가 자동 생성\\n    '"
      ]
     },
     "execution_count": 78,
     "metadata": {},
     "output_type": "execute_result"
    }
   ],
   "source": [
    "p1.__doc__"
   ]
  },
  {
   "cell_type": "markdown",
   "id": "b0c6fe1f",
   "metadata": {},
   "source": [
    "# 2절 생성자와 소멸자\n",
    "```\n",
    "생성자 : __init__(self,매개변수,...) -> 객체가 생성될 때 자동 실행\n",
    "        객체 생성시 필요한 인스턴스 변수 초기화를 포함\n",
    "소멸자 : __del__(self) -> 객체가 소멸될 때 자동 실행\n",
    "        인스턴스 객체의 레퍼런스 카운트가 0이 될 때 실행\n",
    "```"
   ]
  },
  {
   "cell_type": "code",
   "execution_count": 22,
   "id": "f4d1638e",
   "metadata": {},
   "outputs": [],
   "source": [
    "class Person:\n",
    "    def __init__(self, name, gender='여자'): #파이썬은 함수 오버로딩이 불가능\n",
    "        self.name = name\n",
    "        self.gender = gender\n",
    "        print('Person 객체를 생성합니다',name)\n",
    "    def __del__(self):\n",
    "        print('Person 객체를 소멸시킵니다',self.name)\n",
    "    def print_info(self):\n",
    "        print(\"{}는 {}입니다\".format(slef.name, self.gender))\n",
    "    def __str__(self): \n",
    "        return f'{self.name}(은)는 {self.gender}입니다'"
   ]
  },
  {
   "cell_type": "code",
   "execution_count": 23,
   "id": "5b434ed3",
   "metadata": {},
   "outputs": [
    {
     "name": "stdout",
     "output_type": "stream",
     "text": [
      "Person 객체를 생성합니다 신사임당\n",
      "Person 객체를 생성합니다 홍길동\n",
      "Person 객체를 소멸시킵니다 홍길동\n"
     ]
    }
   ],
   "source": [
    "p1 = Person('신사임당','여자')\n",
    "p2 = Person('홍길동')"
   ]
  },
  {
   "cell_type": "code",
   "execution_count": 24,
   "id": "5fb48c05",
   "metadata": {},
   "outputs": [
    {
     "name": "stdout",
     "output_type": "stream",
     "text": [
      "신사임당(은)는 여자입니다\n",
      "홍길동(은)는 여자입니다\n"
     ]
    }
   ],
   "source": [
    "print(p1)\n",
    "print(p2)"
   ]
  },
  {
   "cell_type": "code",
   "execution_count": 25,
   "id": "e4764c98",
   "metadata": {},
   "outputs": [],
   "source": [
    "p3 = p2"
   ]
  },
  {
   "cell_type": "code",
   "execution_count": 26,
   "id": "b88fa2fc",
   "metadata": {},
   "outputs": [
    {
     "name": "stdout",
     "output_type": "stream",
     "text": [
      "Person 객체를 소멸시킵니다 신사임당\n"
     ]
    }
   ],
   "source": [
    "del p1"
   ]
  },
  {
   "cell_type": "code",
   "execution_count": 28,
   "id": "86b618ad",
   "metadata": {},
   "outputs": [
    {
     "name": "stdout",
     "output_type": "stream",
     "text": [
      "마길동(은)는 여자입니다 마길동(은)는 여자입니다\n"
     ]
    }
   ],
   "source": [
    "p3.name = '마길동'\n",
    "print(p2,p3)"
   ]
  },
  {
   "cell_type": "markdown",
   "id": "9d4b61b6",
   "metadata": {},
   "source": [
    "# 3절 변수와 메소드(함수)\n",
    "- 인스턴스 변수 vs 클래스 변수 \n",
    "- 인스턴스 메소드(self) vs 클래스 메소드(clz) vs static 메소드()"
   ]
  },
  {
   "cell_type": "code",
   "execution_count": 30,
   "id": "2333ac8e",
   "metadata": {},
   "outputs": [
    {
     "name": "stdout",
     "output_type": "stream",
     "text": [
      "홍길동\n"
     ]
    }
   ],
   "source": [
    "class Person:\n",
    "    name = '홍길동' # 클래스 변수 \n",
    "    gender = '남자'\n",
    "print(Person.name)"
   ]
  },
  {
   "cell_type": "code",
   "execution_count": 36,
   "id": "758544ac",
   "metadata": {},
   "outputs": [
    {
     "name": "stdout",
     "output_type": "stream",
     "text": [
      "리사 여자\n",
      "리사 여자\n"
     ]
    }
   ],
   "source": [
    "p1 = Person()\n",
    "p2 = Person()\n",
    "print(Person.name, Person.gender)\n",
    "print(p1.name, p1.gender)"
   ]
  },
  {
   "cell_type": "code",
   "execution_count": 35,
   "id": "e8b632a1",
   "metadata": {},
   "outputs": [],
   "source": [
    "Person.name = \"리사\"\n",
    "Person.gender = '여자'"
   ]
  },
  {
   "cell_type": "markdown",
   "id": "e5343333",
   "metadata": {},
   "source": [
    "※ 인스턴스 메소드(self) vs 클래스 메소드(clz) vs static 메소드()\n",
    "- 인스턴스 메소드 : 첫번째 인자에 self 꼭 명시. 객체 통해서만 호출할 수 있는 메소드\n",
    "- 클래스 메소드 : 메소드 위에 @classmethod를 선언한 메소드. 첫번째 인자에 cls(clz) 꼭 명시\n",
    "- static 메소드 : 메소드 위에 @staticmethod를 선언한 메소드. 인자를 넣지 않음"
   ]
  },
  {
   "cell_type": "code",
   "execution_count": 42,
   "id": "be2f5577",
   "metadata": {},
   "outputs": [],
   "source": [
    "class Person:\n",
    "    name = '홍길동'\n",
    "    gender = '남자'\n",
    "    def print_info(self): #객체변수명.print_info()로 호출\n",
    "        print(f'인스턴스메소드(일반메소드) - {self.name}는 {self.gender}입니다')\n",
    "    def change_info(self, name, gender='남자') : #객체변수.change_info('김','여자')\n",
    "        self.name = name\n",
    "        slef.gender = gender\n",
    "        print(f'인스턴스(일반)메소드 - {name}/{gender}로 변경 완료')\n",
    "    @classmethod\n",
    "    def do_(clz): #clz == Person. 클래스 변수를 이용한 로직. Person.do_()호출\n",
    "        clz.name = '신사임당'\n",
    "        clz.gender = '여자'\n",
    "        print(f'클래스 메소드 - {clz.name}/{clz.gender} 변경완료')\n",
    "    @staticmethod\n",
    "    def that_(): #클래스 변수를 이용하기보단 로직이 우선일 경우. Person.that_()\n",
    "        Person.name = \"신길동\"\n",
    "        Person.gender = \"남자\"\n",
    "        print(f'클래스 메소드 - {Person.name}/{Person.gender} 변경완료')"
   ]
  },
  {
   "cell_type": "code",
   "execution_count": 45,
   "id": "a45a467b",
   "metadata": {},
   "outputs": [
    {
     "name": "stdout",
     "output_type": "stream",
     "text": [
      "인스턴스메소드(일반메소드) - 홍길동는 남자입니다\n"
     ]
    }
   ],
   "source": [
    "p1 = Person()\n",
    "p1.print_info()"
   ]
  },
  {
   "cell_type": "code",
   "execution_count": 50,
   "id": "260f0828",
   "metadata": {},
   "outputs": [
    {
     "name": "stdout",
     "output_type": "stream",
     "text": [
      "클래스 메소드 - 신사임당/여자 변경완료\n",
      "인스턴스메소드(일반메소드) - 신사임당는 여자입니다\n"
     ]
    }
   ],
   "source": [
    "Person.do_()\n",
    "p1.print_info()"
   ]
  },
  {
   "cell_type": "code",
   "execution_count": 51,
   "id": "f076f75c",
   "metadata": {},
   "outputs": [
    {
     "name": "stdout",
     "output_type": "stream",
     "text": [
      "클래스 메소드 - 신길동/남자 변경완료\n",
      "인스턴스메소드(일반메소드) - 신길동는 남자입니다\n"
     ]
    }
   ],
   "source": [
    "Person.that_()\n",
    "p1.print_info()"
   ]
  },
  {
   "cell_type": "markdown",
   "id": "22e95eff",
   "metadata": {},
   "source": [
    "# 4절 상속과 재정의"
   ]
  }
 ],
 "metadata": {
  "kernelspec": {
   "display_name": "Python 3 (ipykernel)",
   "language": "python",
   "name": "python3"
  },
  "language_info": {
   "codemirror_mode": {
    "name": "ipython",
    "version": 3
   },
   "file_extension": ".py",
   "mimetype": "text/x-python",
   "name": "python",
   "nbconvert_exporter": "python",
   "pygments_lexer": "ipython3",
   "version": "3.10.9"
  },
  "toc": {
   "base_numbering": 1,
   "nav_menu": {},
   "number_sections": false,
   "sideBar": true,
   "skip_h1_title": false,
   "title_cell": "Table of Contents",
   "title_sidebar": "Contents",
   "toc_cell": false,
   "toc_position": {
    "height": "calc(100% - 180px)",
    "left": "10px",
    "top": "150px",
    "width": "165px"
   },
   "toc_section_display": true,
   "toc_window_display": true
  }
 },
 "nbformat": 4,
 "nbformat_minor": 5
}
