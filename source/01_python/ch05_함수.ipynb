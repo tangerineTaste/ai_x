{
 "cells": [
  {
   "cell_type": "code",
   "execution_count": 8,
   "id": "a1718023",
   "metadata": {},
   "outputs": [
    {
     "data": {
      "text/html": [
       "\n",
       "<style>\n",
       "div.container{width:86% !important;}\n",
       "div.cell.code_cell.rendered{width:100%;}\n",
       "div.CodeMirror {font-family:Consolas; font-size:15pt;}\n",
       "div.output {font-size:15pt; font-weight:bold;}\n",
       "div.input {font-family:Consolas; font-size:15pt;}\n",
       "div.prompt {min-width:70px;}\n",
       "div#toc-wrapper{padding-top:120px;}\n",
       "div.text_cell_render ul li{font-size:12pt;padding:5px;}\n",
       "table.dataframe{font-size:15px;}\n",
       "</style>\n"
      ],
      "text/plain": [
       "<IPython.core.display.HTML object>"
      ]
     },
     "metadata": {},
     "output_type": "display_data"
    }
   ],
   "source": [
    "from IPython.display import display, HTML \n",
    "display(HTML(\"\"\"\n",
    "<style>\n",
    "div.container{width:86% !important;}\n",
    "div.cell.code_cell.rendered{width:100%;}\n",
    "div.CodeMirror {font-family:Consolas; font-size:15pt;}\n",
    "div.output {font-size:15pt; font-weight:bold;}\n",
    "div.input {font-family:Consolas; font-size:15pt;}\n",
    "div.prompt {min-width:70px;}\n",
    "div#toc-wrapper{padding-top:120px;}\n",
    "div.text_cell_render ul li{font-size:12pt;padding:5px;}\n",
    "table.dataframe{font-size:15px;}\n",
    "</style>\n",
    "\"\"\"))"
   ]
  },
  {
   "cell_type": "markdown",
   "id": "36093b02",
   "metadata": {},
   "source": [
    "터의\n",
    "```\n",
    "def 함수명([매개변수1, 매개변수2, .... ,매개변수n)]:\n",
    "    명령어1\n",
    "    명령어2\n",
    "    명령어n\n",
    "```\n",
    "# 1절 함수의 정의 및 사용\n",
    "## 1.1 함수의 정의"
   ]
  },
  {
   "cell_type": "code",
   "execution_count": 17,
   "id": "9b806bc2",
   "metadata": {},
   "outputs": [],
   "source": [
    "#함수 정의\n",
    "def my_message(message,count=5):\n",
    "    '''\n",
    "    입력값을 여러번 출력함. 기본값 5번\n",
    "    '''\n",
    "    for i in range(count):\n",
    "        print(message)"
   ]
  },
  {
   "cell_type": "code",
   "execution_count": 18,
   "id": "812d2b0c",
   "metadata": {},
   "outputs": [
    {
     "name": "stdout",
     "output_type": "stream",
     "text": [
      "who?\n",
      "who?\n",
      "who?\n"
     ]
    }
   ],
   "source": [
    "#함수 사용\n",
    "my_message('who?',3)"
   ]
  },
  {
   "cell_type": "code",
   "execution_count": 19,
   "id": "23dbdd78",
   "metadata": {},
   "outputs": [
    {
     "name": "stdout",
     "output_type": "stream",
     "text": [
      "hello\n",
      "hello\n",
      "hello\n"
     ]
    }
   ],
   "source": [
    "my_msg =my_message\n",
    "my_msg('hello',3)"
   ]
  },
  {
   "cell_type": "code",
   "execution_count": 21,
   "id": "60f69fc9",
   "metadata": {},
   "outputs": [
    {
     "data": {
      "text/plain": [
       "(function, function)"
      ]
     },
     "execution_count": 21,
     "metadata": {},
     "output_type": "execute_result"
    }
   ],
   "source": [
    "type(my_msg), type(my_message)"
   ]
  },
  {
   "cell_type": "code",
   "execution_count": 32,
   "id": "6b3c47d0",
   "metadata": {},
   "outputs": [
    {
     "name": "stdout",
     "output_type": "stream",
     "text": [
      "Hello\n"
     ]
    }
   ],
   "source": [
    "print('Hello') # 파이썬 내장함수(import 하지 않고 사용할 수 있는 함수)"
   ]
  },
  {
   "cell_type": "code",
   "execution_count": 33,
   "id": "bfe10abc",
   "metadata": {},
   "outputs": [
    {
     "name": "stdout",
     "output_type": "stream",
     "text": [
      "hello\n",
      "hello\n"
     ]
    }
   ],
   "source": [
    "my_message('hello',2)"
   ]
  },
  {
   "cell_type": "code",
   "execution_count": 34,
   "id": "1cb908c3",
   "metadata": {},
   "outputs": [],
   "source": [
    "del my_message\n",
    "# 변수를 삭제해도 사용불가(파이썬 내장 함수가 아니라서)"
   ]
  },
  {
   "cell_type": "code",
   "execution_count": 2,
   "id": "a8e2134d",
   "metadata": {},
   "outputs": [],
   "source": [
    "def my_hello():\n",
    "    print('Hello, Python')\n",
    "    print('Hello, World')\n",
    "\n",
    "def my_hello(cnt):\n",
    "    for i in range(cnt):\n",
    "        print('Hello')"
   ]
  },
  {
   "cell_type": "code",
   "execution_count": 2,
   "id": "3e679499",
   "metadata": {},
   "outputs": [
    {
     "name": "stdout",
     "output_type": "stream",
     "text": [
      "Hello, Python\n",
      "Hello, World\n",
      "Hello, Python\n",
      "Hello, World\n"
     ]
    }
   ],
   "source": [
    "import ch05 # ch05모듈을 load\n",
    "ch05.my_hello(2)"
   ]
  },
  {
   "cell_type": "code",
   "execution_count": 4,
   "id": "d3a37d22",
   "metadata": {},
   "outputs": [
    {
     "name": "stdout",
     "output_type": "stream",
     "text": [
      "Hello, Python\n",
      "Hello, World\n",
      "Hello, Python\n",
      "Hello, World\n"
     ]
    }
   ],
   "source": [
    "from ch05 import my_hello # ch05 모듈안의 my_hello load\n",
    "my_hello(2)"
   ]
  },
  {
   "cell_type": "markdown",
   "id": "dc9e51aa",
   "metadata": {},
   "source": [
    "## 1.2 docstring"
   ]
  },
  {
   "cell_type": "code",
   "execution_count": 9,
   "id": "53d2419b",
   "metadata": {},
   "outputs": [],
   "source": [
    "def my_fuction():\n",
    "    '''\n",
    "    함수의 첫라인에 독스트링을 포함할 수 있습니다.\n",
    "    독스트리은 함수의 설명서를 달아주는 역할\n",
    "    주석보다 많은 기능(shift_tab으로 독스트링을 볼 수 있음)\n",
    "    '''\n",
    "    pass"
   ]
  },
  {
   "cell_type": "code",
   "execution_count": 11,
   "id": "9066a42f",
   "metadata": {},
   "outputs": [
    {
     "name": "stdout",
     "output_type": "stream",
     "text": [
      "\n",
      "    함수의 첫라인에 독스트링을 포함할 수 있습니다.\n",
      "    독스트리은 함수의 설명서를 달아주는 역할\n",
      "    주석보다 많은 기능(shift_tab으로 독스트링을 볼 수 있음)\n",
      "    \n"
     ]
    }
   ],
   "source": [
    "print(my_fuction.__doc__)"
   ]
  },
  {
   "cell_type": "code",
   "execution_count": 23,
   "id": "91474e3e",
   "metadata": {},
   "outputs": [],
   "source": [
    "def fibonacci(n):\n",
    "    a,b = 0,1\n",
    "    while a < n :\n",
    "        print(a, end=' ')\n",
    "        a, b = b, a+b\n",
    "    print()"
   ]
  },
  {
   "cell_type": "code",
   "execution_count": 24,
   "id": "560ba53b",
   "metadata": {},
   "outputs": [
    {
     "name": "stdout",
     "output_type": "stream",
     "text": [
      "0 1 1 2 3 5 8 13 21 34 55 89 \n"
     ]
    }
   ],
   "source": [
    "fibonacci(100)"
   ]
  },
  {
   "cell_type": "markdown",
   "id": "74f989bc",
   "metadata": {},
   "source": [
    "## 1.3 지역변수(local var)와 전역변수(global var)"
   ]
  },
  {
   "cell_type": "code",
   "execution_count": 26,
   "id": "8ca49d36",
   "metadata": {},
   "outputs": [
    {
     "name": "stdout",
     "output_type": "stream",
     "text": [
      "함수안 : 100\n",
      "함수 밖 : 100\n"
     ]
    }
   ],
   "source": [
    "global_var = 100 #전역변수\n",
    "def func1():\n",
    "    print('함수안 :', global_var)\n",
    "func1()\n",
    "print('함수 밖 :', global_var)"
   ]
  },
  {
   "cell_type": "code",
   "execution_count": 35,
   "id": "3965f0bb",
   "metadata": {},
   "outputs": [
    {
     "name": "stdout",
     "output_type": "stream",
     "text": [
      "함수 안 :  200\n"
     ]
    }
   ],
   "source": [
    "def func2():\n",
    "    local_var = 200\n",
    "    print('함수 안 : ', local_var)\n",
    "func2()\n",
    "# print('함수 밖 :' local_var)"
   ]
  },
  {
   "cell_type": "code",
   "execution_count": 38,
   "id": "04c49f79",
   "metadata": {},
   "outputs": [
    {
     "name": "stdout",
     "output_type": "stream",
     "text": [
      "함수 안 : 200\n",
      "함수 밖 : 100\n"
     ]
    }
   ],
   "source": [
    "g_var = 100 #전역변수\n",
    "def func3():\n",
    "    g_var = 200 #지역변수(변수 선언과 할당)\n",
    "    print('함수 안 :', g_var)\n",
    "func3()\n",
    "print('함수 밖 :',g_var)"
   ]
  },
  {
   "cell_type": "code",
   "execution_count": 65,
   "id": "5bfa0435",
   "metadata": {
    "collapsed": true
   },
   "outputs": [
    {
     "ename": "UnboundLocalError",
     "evalue": "local variable 'g_var' referenced before assignment",
     "output_type": "error",
     "traceback": [
      "\u001b[1;31m---------------------------------------------------------------------------\u001b[0m",
      "\u001b[1;31mUnboundLocalError\u001b[0m                         Traceback (most recent call last)",
      "Cell \u001b[1;32mIn[65], line 6\u001b[0m\n\u001b[0;32m      4\u001b[0m     \u001b[38;5;28mprint\u001b[39m(\u001b[38;5;124m'\u001b[39m\u001b[38;5;124m함수 안 g_var :\u001b[39m\u001b[38;5;124m'\u001b[39m, g_var)\n\u001b[0;32m      5\u001b[0m     g_var \u001b[38;5;241m=\u001b[39m \u001b[38;5;241m200\u001b[39m \u001b[38;5;66;03m#지연변수\u001b[39;00m\n\u001b[1;32m----> 6\u001b[0m \u001b[43mfunc4\u001b[49m\u001b[43m(\u001b[49m\u001b[43m)\u001b[49m\n",
      "Cell \u001b[1;32mIn[65], line 4\u001b[0m, in \u001b[0;36mfunc4\u001b[1;34m()\u001b[0m\n\u001b[0;32m      3\u001b[0m \u001b[38;5;28;01mdef\u001b[39;00m \u001b[38;5;21mfunc4\u001b[39m():\n\u001b[1;32m----> 4\u001b[0m     \u001b[38;5;28mprint\u001b[39m(\u001b[38;5;124m'\u001b[39m\u001b[38;5;124m함수 안 g_var :\u001b[39m\u001b[38;5;124m'\u001b[39m, \u001b[43mg_var\u001b[49m)\n\u001b[0;32m      5\u001b[0m     g_var \u001b[38;5;241m=\u001b[39m \u001b[38;5;241m200\u001b[39m\n",
      "\u001b[1;31mUnboundLocalError\u001b[0m: local variable 'g_var' referenced before assignment"
     ]
    }
   ],
   "source": [
    "# 렉시컬 특성\n",
    "g_var = 100 #전역변수\n",
    "def func4():\n",
    "    print('함수 안 g_var :', g_var)\n",
    "    g_var = 200 #지연변수\n",
    "func4()"
   ]
  },
  {
   "cell_type": "code",
   "execution_count": 46,
   "id": "872e4d5d",
   "metadata": {},
   "outputs": [
    {
     "name": "stdout",
     "output_type": "stream",
     "text": [
      "함수 안 g_var : 100\n"
     ]
    }
   ],
   "source": [
    "# 렉시컬 특성\n",
    "g_var = 100 #전역변수\n",
    "def func4():\n",
    "    global g_var # func4함수내의 g_var는 전역변수를 쓴다\n",
    "    print('함수 안 g_var :', g_var)\n",
    "    g_var = 200 #전역변수\n",
    "func4()"
   ]
  },
  {
   "cell_type": "markdown",
   "id": "1de1c8c6",
   "metadata": {},
   "source": [
    "## 1.4 값에 의한 호출\n",
    "- 함수의 매개변수(인자)로 전달되는 변수가 스칼라 변수(문자, 숫자, 논리형)일 때"
   ]
  },
  {
   "cell_type": "code",
   "execution_count": 48,
   "id": "a5e01272",
   "metadata": {},
   "outputs": [
    {
     "data": {
      "text/plain": [
       "1337775384368"
      ]
     },
     "execution_count": 48,
     "metadata": {},
     "output_type": "execute_result"
    }
   ],
   "source": [
    "foo = 'a' # 전역변수\n",
    "id(foo)"
   ]
  },
  {
   "cell_type": "code",
   "execution_count": 51,
   "id": "d5ecc9a3",
   "metadata": {},
   "outputs": [
    {
     "name": "stdout",
     "output_type": "stream",
     "text": [
      "Before : a\n",
      "After : aaa\n"
     ]
    }
   ],
   "source": [
    "def func1(f): #매개변수 f는 지역변수\n",
    "    print('Before :', f)\n",
    "    f = f*3\n",
    "    print('After :', f)\n",
    "func1(foo)"
   ]
  },
  {
   "cell_type": "code",
   "execution_count": 52,
   "id": "691279d6",
   "metadata": {},
   "outputs": [
    {
     "name": "stdout",
     "output_type": "stream",
     "text": [
      "a\n"
     ]
    }
   ],
   "source": [
    "print(foo)"
   ]
  },
  {
   "cell_type": "markdown",
   "id": "1fe13ffa",
   "metadata": {},
   "source": [
    "# 1.5 참조에 의한 호출\n",
    "- 함수의 매개변수(인자)로 전달되는 변수가 리스트, 튜플, 셋, 딕셔너리, 객체일 경우"
   ]
  },
  {
   "cell_type": "code",
   "execution_count": 53,
   "id": "02f281a3",
   "metadata": {},
   "outputs": [
    {
     "data": {
      "text/plain": [
       "1335743128448"
      ]
     },
     "execution_count": 53,
     "metadata": {},
     "output_type": "execute_result"
    }
   ],
   "source": [
    "L = [1, 2, 3]\n",
    "id(L)"
   ]
  },
  {
   "cell_type": "code",
   "execution_count": 57,
   "id": "8605eeb3",
   "metadata": {},
   "outputs": [
    {
     "name": "stdout",
     "output_type": "stream",
     "text": [
      "Before : [1, 2, 3, 4] 1335743128448\n",
      "After : [1, 2, 3, 4, 4] 1335743128448\n"
     ]
    }
   ],
   "source": [
    "def func2(f): #매개변수는 지역변수\n",
    "    print('Before :',f, id(f))\n",
    "    f.append(4)\n",
    "    print('After :',f, id(f))\n",
    "func2(L)"
   ]
  },
  {
   "cell_type": "code",
   "execution_count": 56,
   "id": "eadb256d",
   "metadata": {},
   "outputs": [
    {
     "name": "stdout",
     "output_type": "stream",
     "text": [
      "[1, 2, 3, 4]\n"
     ]
    }
   ],
   "source": [
    "print(L)"
   ]
  },
  {
   "cell_type": "markdown",
   "id": "bfc326b6",
   "metadata": {},
   "source": [
    "# 2절 함수의 실행 결과를 반환하는 return"
   ]
  },
  {
   "cell_type": "code",
   "execution_count": 82,
   "id": "148abd52",
   "metadata": {},
   "outputs": [],
   "source": [
    "def fibonacci(n):\n",
    "    a,b = 0,1\n",
    "    while a < n :\n",
    "        print(a, end=' ')\n",
    "        a, b = b, a+b\n",
    "    print()\n",
    "    \n",
    "def fibonacci_return(n):\n",
    "    '''\n",
    "    입력한 값 이하의 값들을 \n",
    "    피보나치 수열로 반환하는 함수.\n",
    "    '''\n",
    "    a,b = 0,1\n",
    "    data = list()\n",
    "    while a < n:\n",
    "        data.append(a)\n",
    "        a, b = b, a+b \n",
    "    return data"
   ]
  },
  {
   "cell_type": "code",
   "execution_count": 81,
   "id": "2d70d97f",
   "metadata": {},
   "outputs": [
    {
     "data": {
      "text/plain": [
       "[0, 1, 1, 2, 3, 5, 8]"
      ]
     },
     "execution_count": 81,
     "metadata": {},
     "output_type": "execute_result"
    }
   ],
   "source": [
    "fibonacci_return(10)"
   ]
  },
  {
   "cell_type": "code",
   "execution_count": 83,
   "id": "1a00c4e0",
   "metadata": {},
   "outputs": [
    {
     "name": "stdout",
     "output_type": "stream",
     "text": [
      "[0, 1, 1, 2, 3, 5, 8, 13, 21, 34, 55, 89]\n",
      "<class 'list'>\n"
     ]
    }
   ],
   "source": [
    "x = fibonacci_return(100)\n",
    "print(x)\n",
    "print(type(x))"
   ]
  },
  {
   "cell_type": "markdown",
   "id": "a3f3171d",
   "metadata": {},
   "source": [
    "## 여러개 값 return"
   ]
  },
  {
   "cell_type": "code",
   "execution_count": 84,
   "id": "f59ba905",
   "metadata": {},
   "outputs": [],
   "source": [
    "def swap(a,b):\n",
    "    '매개변수의 순서를 바꿔서 반환함'\n",
    "    return b,a"
   ]
  },
  {
   "cell_type": "code",
   "execution_count": 92,
   "id": "b398364c",
   "metadata": {},
   "outputs": [
    {
     "name": "stdout",
     "output_type": "stream",
     "text": [
      "함수 실행 전 x= 5 y=10\n",
      "함수 실행 후 x=10 y= 5\n"
     ]
    }
   ],
   "source": [
    "x, y = 5, 10\n",
    "print('함수 실행 전 x={:2} y={:2}'.format(x, y))\n",
    "x, y = swap(x,y)\n",
    "print('함수 실행 후 x={:2} y={:2}'.format(x, y))"
   ]
  },
  {
   "cell_type": "markdown",
   "id": "668b334e",
   "metadata": {},
   "source": [
    "# 3절 함수의 매개변수 ★\n",
    "## 3.1 기본값을 갖는 매개변수"
   ]
  },
  {
   "cell_type": "code",
   "execution_count": 95,
   "id": "4c31ef5f",
   "metadata": {},
   "outputs": [],
   "source": [
    "def make_url(ip, port=80): #순서인수 > 기본값을 갖는 매개변수\n",
    "    return \"http://{}:{}\".format(ip,port)"
   ]
  },
  {
   "cell_type": "code",
   "execution_count": 98,
   "id": "55ec1ad7",
   "metadata": {},
   "outputs": [
    {
     "name": "stdout",
     "output_type": "stream",
     "text": [
      "http://www.naver.com:80\n",
      "http://localhost:8090\n",
      "http://localhost:8080\n"
     ]
    }
   ],
   "source": [
    "print(make_url('www.naver.com'))\n",
    "print(make_url('localhost',8090))\n",
    "print(make_url(port=8080,ip='localhost'))"
   ]
  },
  {
   "cell_type": "markdown",
   "id": "f51ce5ce",
   "metadata": {},
   "source": [
    "## 3.2 기본변수를 갖는 매개변수\n",
    "- 기본변수가 스칼라 변수일 때\n",
    "- 기본변수가 리스트, 셋, 딕셔너리 등의 객체일 때"
   ]
  },
  {
   "cell_type": "code",
   "execution_count": 118,
   "id": "2ade2641",
   "metadata": {},
   "outputs": [],
   "source": [
    "i = 5\n",
    "# 기본값을 갖는 변수가 스칼라 변수일 때 :arg의 기본값은 함수가 정의되는 시점의 값\n",
    "def func2(arg=i):\n",
    "    print('arg = ', arg)"
   ]
  },
  {
   "cell_type": "code",
   "execution_count": 117,
   "id": "251d9c20",
   "metadata": {},
   "outputs": [
    {
     "name": "stdout",
     "output_type": "stream",
     "text": [
      "arg =  5\n"
     ]
    }
   ],
   "source": [
    "i = 6\n",
    "func2()"
   ]
  },
  {
   "cell_type": "code",
   "execution_count": 133,
   "id": "087c265c",
   "metadata": {},
   "outputs": [],
   "source": [
    "list_ = []\n",
    "def func3(data, L= list_):\n",
    "    'data를 L에 append'\n",
    "    L.append(data)\n",
    "    return L"
   ]
  },
  {
   "cell_type": "code",
   "execution_count": 134,
   "id": "463d32e3",
   "metadata": {},
   "outputs": [
    {
     "name": "stdout",
     "output_type": "stream",
     "text": [
      "[10]\n"
     ]
    }
   ],
   "source": [
    "print(func3(10)) # list_가 수정: [10]"
   ]
  },
  {
   "cell_type": "code",
   "execution_count": 135,
   "id": "13874b2a",
   "metadata": {},
   "outputs": [
    {
     "name": "stdout",
     "output_type": "stream",
     "text": [
      "[10, 20]\n"
     ]
    }
   ],
   "source": [
    "print(func3(20))"
   ]
  },
  {
   "cell_type": "code",
   "execution_count": 109,
   "id": "d6b88f8c",
   "metadata": {},
   "outputs": [],
   "source": [
    "def func4(a, L=None):\n",
    "    if L is None:\n",
    "        L=[]\n",
    "    L.append(a)\n",
    "    return L"
   ]
  },
  {
   "cell_type": "code",
   "execution_count": 111,
   "id": "50103503",
   "metadata": {},
   "outputs": [
    {
     "name": "stdout",
     "output_type": "stream",
     "text": [
      "[1]\n"
     ]
    }
   ],
   "source": [
    "print(func4(1))"
   ]
  },
  {
   "cell_type": "code",
   "execution_count": 112,
   "id": "ebf11b0b",
   "metadata": {},
   "outputs": [
    {
     "name": "stdout",
     "output_type": "stream",
     "text": [
      "[2]\n"
     ]
    }
   ],
   "source": [
    "print(func4(2)) "
   ]
  },
  {
   "cell_type": "markdown",
   "id": "b92dd371",
   "metadata": {},
   "source": [
    "## 3.3 튜플 매개변수를 이용한 가변인수 설정"
   ]
  },
  {
   "cell_type": "code",
   "execution_count": 144,
   "id": "80e87afc",
   "metadata": {},
   "outputs": [],
   "source": [
    "#파이썬은 오버로딩(함수의 중복)을 지원하지 않음\n",
    "def add(*args): # args : 매개변수들을 하나의 튜플 변수 args로 전달받음\n",
    "    '전달받은 매개변수들의 합을 return'\n",
    "    #print(args)\n",
    "    tot = 0\n",
    "    for data in args:\n",
    "        tot += data\n",
    "    return tot"
   ]
  },
  {
   "cell_type": "code",
   "execution_count": 146,
   "id": "047b9fdd",
   "metadata": {},
   "outputs": [
    {
     "name": "stdout",
     "output_type": "stream",
     "text": [
      "14\n"
     ]
    }
   ],
   "source": [
    "print(add(2,3,4,5))"
   ]
  },
  {
   "cell_type": "code",
   "execution_count": 150,
   "id": "dd327309",
   "metadata": {},
   "outputs": [
    {
     "data": {
      "text/plain": [
       "'Pytjon/Oracle/DL/ML'"
      ]
     },
     "execution_count": 150,
     "metadata": {},
     "output_type": "execute_result"
    }
   ],
   "source": [
    "\n",
    "subject = ('Pytjon','Oracle','DL','ML')\n",
    "'/'.join(subject)"
   ]
  },
  {
   "cell_type": "code",
   "execution_count": 151,
   "id": "0c773752",
   "metadata": {},
   "outputs": [],
   "source": [
    "def concat(*subject, sep):\n",
    "    return sep.join(subject)"
   ]
  },
  {
   "cell_type": "code",
   "execution_count": 154,
   "id": "b011fe63",
   "metadata": {},
   "outputs": [
    {
     "data": {
      "text/plain": [
       "'Python/Oracle/DL/NL'"
      ]
     },
     "execution_count": 154,
     "metadata": {},
     "output_type": "execute_result"
    }
   ],
   "source": [
    "# 해결책1 : 매개변수 이름을 지정해서 호출\n",
    "concat('Python','Oracle','DL','NL',sep='/')"
   ]
  },
  {
   "cell_type": "code",
   "execution_count": 162,
   "id": "6efd3db1",
   "metadata": {},
   "outputs": [
    {
     "data": {
      "text/plain": [
       "'Python ~ Oracle ~ DL ~ NL ~ /'"
      ]
     },
     "execution_count": 162,
     "metadata": {},
     "output_type": "execute_result"
    }
   ],
   "source": [
    "#해결책2: 기본값을 반드시 갖는 키워드 인수 사용\n",
    "def concat(*subject, sep=' ~ '):\n",
    "    return sep.join(subject)\n",
    "concat('Python','Oracle','DL','NL','/')"
   ]
  },
  {
   "cell_type": "code",
   "execution_count": 165,
   "id": "647bcac9",
   "metadata": {},
   "outputs": [
    {
     "data": {
      "text/plain": [
       "'Python/Oracle/DL/NL'"
      ]
     },
     "execution_count": 165,
     "metadata": {},
     "output_type": "execute_result"
    }
   ],
   "source": [
    "#해결책3 : sep을 순서인수로 앞에 선언\n",
    "def concat(sep,*subject):\n",
    "    return sep.join(subject)\n",
    "concat('/','Python','Oracle','DL','NL')"
   ]
  },
  {
   "cell_type": "markdown",
   "id": "76a79851",
   "metadata": {},
   "source": [
    "## 3.4 딕셔너리 매개변수\n",
    "- 여러개의 키워드인수를 딕셔너리 형태로 받아서 가변키워드 인수 처리"
   ]
  },
  {
   "cell_type": "code",
   "execution_count": 178,
   "id": "8b25cc68",
   "metadata": {},
   "outputs": [],
   "source": [
    "def func5(**kargs):\n",
    "    print(kargs)\n",
    "    print(type(kargs))\n",
    "    print('이름 :',kargs.get('name', '홍길덩'))\n",
    "    print('나이 :',kargs.get('age', 43))\n",
    "    print('주소 :',kargs.get('address','서울'))"
   ]
  },
  {
   "cell_type": "code",
   "execution_count": 179,
   "id": "967e6a49",
   "metadata": {},
   "outputs": [
    {
     "name": "stdout",
     "output_type": "stream",
     "text": [
      "{'name': '홍길동', 'age': 30, 'address': '신림동'}\n",
      "<class 'dict'>\n",
      "이름 : 홍길동\n",
      "나이 : 30\n",
      "주소 : 신림동\n"
     ]
    }
   ],
   "source": [
    "func5(name ='홍길동', age=30, address='신림동')"
   ]
  },
  {
   "cell_type": "code",
   "execution_count": 180,
   "id": "bc12dad0",
   "metadata": {},
   "outputs": [
    {
     "name": "stdout",
     "output_type": "stream",
     "text": [
      "{'name': '동동동'}\n",
      "<class 'dict'>\n",
      "이름 : 동동동\n",
      "나이 : 43\n",
      "주소 : 서울\n"
     ]
    }
   ],
   "source": [
    "func5(name='동동동')"
   ]
  },
  {
   "cell_type": "markdown",
   "id": "04549bd4",
   "metadata": {},
   "source": [
    "## 3.5 함수정의시 매개변수 순서\n",
    "- 순서인수 > 튜플 매개변수 > 키워드인수(매개변수 이름 반드시 명시) > 딕셔너리 매개변수(**)"
   ]
  },
  {
   "cell_type": "code",
   "execution_count": 183,
   "id": "a0381456",
   "metadata": {},
   "outputs": [],
   "source": [
    "def func6(a, b, *c, **d):\n",
    "    print('순서인수 a :', a)\n",
    "    print('순서인수 b :', b)\n",
    "    print('튜플인수 c :', c)\n",
    "    print('딕셔너리 인수 d :', d)"
   ]
  },
  {
   "cell_type": "code",
   "execution_count": 184,
   "id": "16eb3173",
   "metadata": {},
   "outputs": [
    {
     "name": "stdout",
     "output_type": "stream",
     "text": [
      "순서인수 a : 10\n",
      "순서인수 b : 20\n",
      "튜플인수 c : (1, 2, 3, 4, 5, 6, 7, 8, 9)\n",
      "딕셔너리 인수 d : {'name': '홍길동', 'age': 30, 'address': '서울'}\n"
     ]
    }
   ],
   "source": [
    "func6(10,20,1,2,3,4,5,6,7,8,9, name='홍길동', age=30, address='서울')"
   ]
  },
  {
   "cell_type": "code",
   "execution_count": 185,
   "id": "0c6019a9",
   "metadata": {},
   "outputs": [],
   "source": [
    "def func7(a,b,*c,d='기본값',**e):\n",
    "    print('순서인수 a :',a)\n",
    "    print('순서인수 b :',b)\n",
    "    print('튜플인수 c :',c)\n",
    "    print('키워드인수 d :',d)\n",
    "    print('딕셔너리인수 e :',e)"
   ]
  },
  {
   "cell_type": "code",
   "execution_count": 189,
   "id": "118c9616",
   "metadata": {},
   "outputs": [
    {
     "name": "stdout",
     "output_type": "stream",
     "text": [
      "순서인수 a : 10\n",
      "순서인수 b : 20\n",
      "튜플인수 c : (1, 2, 3, 4, 5, 6, 7, 8, 9)\n",
      "키워드인수 d : This is Keyword\n",
      "딕셔너리인수 e : {'name': '홍길동', 'age': 30, 'address': '서울'}\n"
     ]
    }
   ],
   "source": [
    "func7(10,20,1,2,3,4,5,6,7,8,9,d='This is Keyword', name='홍길동', age=30, address='서울')"
   ]
  },
  {
   "cell_type": "markdown",
   "id": "8a2da0e5",
   "metadata": {},
   "source": [
    "## 3.6 인수의 언패킹\n",
    "### 튜플인수 언패킹\n",
    "- 언패킹 : 함수 호출시 매개변수 앞에 * 붙임\n",
    "- 패킹 : 함수 정의시 매개변수 앞에 * 붙임(튜플 매개변수)"
   ]
  },
  {
   "cell_type": "code",
   "execution_count": 191,
   "id": "1bd11326",
   "metadata": {},
   "outputs": [],
   "source": [
    "def add(*args):\n",
    "    tot = 0\n",
    "    for num in args:\n",
    "        tot += num\n",
    "    return tot"
   ]
  },
  {
   "cell_type": "code",
   "execution_count": 193,
   "id": "77653e8b",
   "metadata": {},
   "outputs": [
    {
     "data": {
      "text/plain": [
       "10"
      ]
     },
     "execution_count": 193,
     "metadata": {},
     "output_type": "execute_result"
    }
   ],
   "source": [
    "numbers = (1,2,3,4)\n",
    "add(*numbers) #언패킹"
   ]
  },
  {
   "cell_type": "code",
   "execution_count": 197,
   "id": "f92ab8b4",
   "metadata": {},
   "outputs": [
    {
     "name": "stdout",
     "output_type": "stream",
     "text": [
      "1 2 3 4\n"
     ]
    }
   ],
   "source": [
    "print(*numbers)"
   ]
  },
  {
   "cell_type": "code",
   "execution_count": null,
   "id": "884e3e09",
   "metadata": {},
   "outputs": [],
   "source": []
  },
  {
   "cell_type": "markdown",
   "id": "c8264e07",
   "metadata": {},
   "source": [
    "### 딕셔너리 언패킹\n",
    "- 언패킹 : 함수 호출시 매개변수 앞에 **\n",
    "- 패킹 : 함수 선언시 매개변수 앞에 **"
   ]
  },
  {
   "cell_type": "code",
   "execution_count": 198,
   "id": "5adf396d",
   "metadata": {},
   "outputs": [],
   "source": [
    "def func5(**data):\n",
    "    for key, item in data.items():\n",
    "        print(f'{key}:{item}')"
   ]
  },
  {
   "cell_type": "code",
   "execution_count": 201,
   "id": "9ee2cdda",
   "metadata": {},
   "outputs": [
    {
     "name": "stdout",
     "output_type": "stream",
     "text": [
      "name:홍길동\n",
      "age:30\n",
      "address:신림\n"
     ]
    }
   ],
   "source": [
    "func5(name='홍길동', age=30, address='신림')"
   ]
  },
  {
   "cell_type": "code",
   "execution_count": 205,
   "id": "29b171d4",
   "metadata": {},
   "outputs": [
    {
     "name": "stdout",
     "output_type": "stream",
     "text": [
      "name:홍길동\n",
      "age:30\n",
      "address:서울시 강남구\n",
      "score:900\n"
     ]
    }
   ],
   "source": [
    "customInfo = {'name':'홍길동','age':30,'address':'서울시 강남구','score':900}\n",
    "func5(**customInfo)"
   ]
  },
  {
   "cell_type": "markdown",
   "id": "0682f2d8",
   "metadata": {},
   "source": [
    "# 4절 람다식\n",
    "- return 한줄짜리 작은 익명함수\n",
    "## 4.1 람다식 연습"
   ]
  },
  {
   "cell_type": "code",
   "execution_count": 206,
   "id": "a3d2db97",
   "metadata": {},
   "outputs": [
    {
     "data": {
      "text/plain": [
       "7"
      ]
     },
     "execution_count": 206,
     "metadata": {},
     "output_type": "execute_result"
    }
   ],
   "source": [
    "def add(a,b):\n",
    "    return a+b\n",
    "add(3,4)"
   ]
  },
  {
   "cell_type": "code",
   "execution_count": 208,
   "id": "76f7f878",
   "metadata": {},
   "outputs": [
    {
     "data": {
      "text/plain": [
       "7"
      ]
     },
     "execution_count": 208,
     "metadata": {},
     "output_type": "execute_result"
    }
   ],
   "source": [
    "add2 = lambda a,b : a+b\n",
    "add2(3,4)"
   ]
  },
  {
   "cell_type": "code",
   "execution_count": 209,
   "id": "e48de3d9",
   "metadata": {},
   "outputs": [
    {
     "data": {
      "text/plain": [
       "function"
      ]
     },
     "execution_count": 209,
     "metadata": {},
     "output_type": "execute_result"
    }
   ],
   "source": [
    "type(add2)"
   ]
  },
  {
   "cell_type": "code",
   "execution_count": 210,
   "id": "602aaee7",
   "metadata": {},
   "outputs": [
    {
     "data": {
      "text/plain": [
       "7"
      ]
     },
     "execution_count": 210,
     "metadata": {},
     "output_type": "execute_result"
    }
   ],
   "source": [
    "(lambda a,b : a+b)(3,4)"
   ]
  },
  {
   "cell_type": "code",
   "execution_count": 230,
   "id": "e4b0711b",
   "metadata": {},
   "outputs": [
    {
     "data": {
      "text/plain": [
       "'홀수'"
      ]
     },
     "execution_count": 230,
     "metadata": {},
     "output_type": "execute_result"
    }
   ],
   "source": [
    "# ex1. 매개변수로 들어온 값이 짝수인지 홀수인지 return\n",
    "(lambda num : '홀수' if num%2 else '짝수')(13)"
   ]
  },
  {
   "cell_type": "code",
   "execution_count": 231,
   "id": "a08b6439",
   "metadata": {},
   "outputs": [
    {
     "data": {
      "text/plain": [
       "5"
      ]
     },
     "execution_count": 231,
     "metadata": {},
     "output_type": "execute_result"
    }
   ],
   "source": [
    "# ex2 두 매개변수의 차이를 return\n",
    "(lambda num1, num2 : num1-num2 if num1>num2 else num2-num1)(7,2)"
   ]
  },
  {
   "cell_type": "code",
   "execution_count": 233,
   "id": "53ae21a1",
   "metadata": {},
   "outputs": [
    {
     "data": {
      "text/plain": [
       "'negative'"
      ]
     },
     "execution_count": 233,
     "metadata": {},
     "output_type": "execute_result"
    }
   ],
   "source": [
    "# ex3 매개변수로 잔액을 받아 양수면 잔액을 return, 음수면 'negative'\n",
    "(lambda num : num if num>0 else 'negative')(-1)"
   ]
  },
  {
   "cell_type": "code",
   "execution_count": 270,
   "id": "6fef8c1f",
   "metadata": {},
   "outputs": [
    {
     "data": {
      "text/plain": [
       "'재시험'"
      ]
     },
     "execution_count": 270,
     "metadata": {},
     "output_type": "execute_result"
    }
   ],
   "source": [
    "# ex4 점수를 입력받아 점수가 80 이상은 A팀, 60이상은 B팀, 60미만은 재시험. 그 외는 유효하지 않음\n",
    "score = (lambda num: 'A'     if 100 <= num <= 80  else \n",
    "                     'B'     if  60 <= num <  80  else \n",
    "                     '재시험' if   0 <= num <  60  else  \n",
    "                     '유효하지 않음')\n",
    "score(1)"
   ]
  },
  {
   "cell_type": "code",
   "execution_count": 237,
   "id": "5c8ec6eb",
   "metadata": {},
   "outputs": [
    {
     "data": {
      "text/plain": [
       "0"
      ]
     },
     "execution_count": 237,
     "metadata": {},
     "output_type": "execute_result"
    }
   ],
   "source": [
    "# ex5 safe_index를 람다식으로\n",
    "\n",
    "(lambda lst, data : lst.index(data) if data in lst  else -1)([1,2,3,4],1)"
   ]
  },
  {
   "cell_type": "markdown",
   "id": "815ca2e8",
   "metadata": {},
   "source": [
    "## 4.2 함수의 매개변수의 람다식 이용\n",
    "### (1) map"
   ]
  },
  {
   "cell_type": "code",
   "execution_count": 8,
   "id": "b87c868e",
   "metadata": {},
   "outputs": [],
   "source": [
    "def map_template(func, L=[1,2,3]):\n",
    "    '''\n",
    "    L의 모든 요소를 func()함수를 적용시켜 return\n",
    "    '''\n",
    "#     result = []\n",
    "#     for l in L :\n",
    "#         result.append(func(l))\n",
    "    return [func(l) for l in L ]"
   ]
  },
  {
   "cell_type": "code",
   "execution_count": 11,
   "id": "aece678f",
   "metadata": {},
   "outputs": [
    {
     "data": {
      "text/plain": [
       "[2, 4, 6, 8, 10, 12, 14, 16, 18, 20]"
      ]
     },
     "execution_count": 11,
     "metadata": {},
     "output_type": "execute_result"
    }
   ],
   "source": [
    "#리스트 데이터를 가공하는 방법 1. map\n",
    "list_data = range(1,11)\n",
    "map_template(lambda x : x*2, list_data)"
   ]
  },
  {
   "cell_type": "code",
   "execution_count": 12,
   "id": "4e3f24e7",
   "metadata": {},
   "outputs": [
    {
     "data": {
      "text/plain": [
       "[2, 4, 6, 8, 10, 12, 14, 16, 18, 20]"
      ]
     },
     "execution_count": 12,
     "metadata": {},
     "output_type": "execute_result"
    }
   ],
   "source": [
    "#리스트 데이터를 가공하는 방법 2. 리스트컴프리핸션\n",
    "[l*2 for l in list_data]"
   ]
  },
  {
   "cell_type": "code",
   "execution_count": 16,
   "id": "e4b8ad15",
   "metadata": {},
   "outputs": [
    {
     "data": {
      "text/plain": [
       "[2, 4, 6, 8, 10, 12, 14, 16, 18, 20]"
      ]
     },
     "execution_count": 16,
     "metadata": {},
     "output_type": "execute_result"
    }
   ],
   "source": [
    "#리스트 데이터를 가공하는 방법 3. map(): 파이썬 내장함수\n",
    "list(map(lambda x : x*2, list_data))"
   ]
  },
  {
   "cell_type": "code",
   "execution_count": 28,
   "id": "68d22436",
   "metadata": {},
   "outputs": [
    {
     "data": {
      "text/plain": [
       "[5000, 800, 1000, 6000]"
      ]
     },
     "execution_count": 28,
     "metadata": {},
     "output_type": "execute_result"
    }
   ],
   "source": [
    "#예제 1. [5000,800,1000,6000]로\n",
    "import re\n",
    "prices = ['5,000','800','1000','6,000']\n",
    "\n",
    "list(map(lambda x : int(re.sub(',','', x)), prices))"
   ]
  },
  {
   "cell_type": "code",
   "execution_count": 41,
   "id": "e43ad90e",
   "metadata": {},
   "outputs": [],
   "source": [
    "#에제 2. member1 =[{'name':'홍길동', 'birth':'2000-01-01'},{'name':'신길동', 'birth':'1998-12-31'}]\n",
    "#       member2 = [{'name':'홍길동', 'year':'2000,'month':1, 'day': 1},{'name':'신길동', 'year':'1998,'month':12, 'day': 31}]\n",
    "member1 =[{'name':'홍길동', 'birth':'2000-01-01'},{'name':'신길동', 'birth':'1998-12-31'}]\n"
   ]
  },
  {
   "cell_type": "code",
   "execution_count": 37,
   "id": "c04f25b9",
   "metadata": {},
   "outputs": [],
   "source": [
    "def split_date(date):\n",
    "    split_data = date.split('-')\n",
    "    return{'year':int(split_data[0]),'month':int(split_data[1]),'day':(split_data[2])}"
   ]
  },
  {
   "cell_type": "code",
   "execution_count": 39,
   "id": "185ba00f",
   "metadata": {},
   "outputs": [
    {
     "data": {
      "text/plain": [
       "{'year': 20205, 'month': 1, 'day': '01'}"
      ]
     },
     "execution_count": 39,
     "metadata": {},
     "output_type": "execute_result"
    }
   ],
   "source": [
    "split_date('20205-01-01')"
   ]
  },
  {
   "cell_type": "code",
   "execution_count": 44,
   "id": "0e228e12",
   "metadata": {},
   "outputs": [
    {
     "data": {
      "text/plain": [
       "{'name': '홍길동', 'year': 2000, 'month': 1, 'day': 1}"
      ]
     },
     "execution_count": 44,
     "metadata": {},
     "output_type": "execute_result"
    }
   ],
   "source": [
    "def member_func(member):\n",
    "    return {\n",
    "        'name' : member.get('name'),\n",
    "        'year' : int(member.get('birth').split('-')[0]),\n",
    "        'month' : int(member.get('birth').split('-')[1]),\n",
    "        'day' : int(member.get('birth').split('-')[2])\n",
    "    }\n",
    "member_func(member1[0])"
   ]
  },
  {
   "cell_type": "code",
   "execution_count": 52,
   "id": "3442d1ab",
   "metadata": {},
   "outputs": [
    {
     "data": {
      "text/plain": [
       "[{'name': '홍길동', 'year': 2000, 'month': 1, 'day': 1},\n",
       " {'name': '신길동', 'year': 1998, 'month': 12, 'day': 31}]"
      ]
     },
     "execution_count": 52,
     "metadata": {},
     "output_type": "execute_result"
    }
   ],
   "source": [
    "member2 = list(map(lambda member: {\n",
    "                        'name' : member.get('name'),\n",
    "                        'year' : int(member.get('birth').split('-')[0]),\n",
    "                        'month' : int(member.get('birth').split('-')[1]),\n",
    "                        'day' : int(member.get('birth').split('-')[2])\n",
    "                        }, member1))\n",
    "member2"
   ]
  },
  {
   "cell_type": "code",
   "execution_count": 109,
   "id": "02938d32",
   "metadata": {},
   "outputs": [
    {
     "data": {
      "text/plain": [
       "[{'name': '홍길동', 'birth': '2000-01-01'},\n",
       " {'name': '신길동', 'birth': '1998-12-31'}]"
      ]
     },
     "execution_count": 109,
     "metadata": {},
     "output_type": "execute_result"
    }
   ],
   "source": [
    "member3 = list(map(lambda member:  \n",
    "                        {\n",
    "                        'name' : member.get('name'),\n",
    "                        'birth' : '{year}-{month:02}-{day:02}'.format(**member)\n",
    "                        }, member2))\n",
    "member3"
   ]
  },
  {
   "cell_type": "markdown",
   "id": "b8f0a0ef",
   "metadata": {},
   "source": [
    "### (2) filter\n",
    "- map : [1,2,3,4,5] => [2,4,6,8,10] (벡터의 모든 데이터를 가공)\n",
    "- filter : [1,2,3,4,5] => [2,4] (원하는 정보를 추출)\n",
    "* cf. 리스트 컴프리헨션 *"
   ]
  },
  {
   "cell_type": "code",
   "execution_count": 126,
   "id": "ad06bdc8",
   "metadata": {},
   "outputs": [],
   "source": [
    "def filter_template(func,L=[]):\n",
    "    result = []\n",
    "    for l in L:\n",
    "        if func(l):\n",
    "            result.append(l)\n",
    "    return result"
   ]
  },
  {
   "cell_type": "code",
   "execution_count": 125,
   "id": "b4ae1825",
   "metadata": {},
   "outputs": [],
   "source": [
    "def evenChk(value):\n",
    "    return value%2==0"
   ]
  },
  {
   "cell_type": "code",
   "execution_count": 127,
   "id": "2851ed65",
   "metadata": {},
   "outputs": [
    {
     "data": {
      "text/plain": [
       "[2, 4]"
      ]
     },
     "execution_count": 127,
     "metadata": {},
     "output_type": "execute_result"
    }
   ],
   "source": [
    "list_data = [1,2,3,4,5]\n",
    "filter_template(lambda value: value%2==0, list_data)"
   ]
  },
  {
   "cell_type": "code",
   "execution_count": 128,
   "id": "e97ee5ca",
   "metadata": {},
   "outputs": [
    {
     "data": {
      "text/plain": [
       "[1, 3, 5]"
      ]
     },
     "execution_count": 128,
     "metadata": {},
     "output_type": "execute_result"
    }
   ],
   "source": [
    "data = [1,2,3,4,5]\n",
    "list(filter(lambda x : x%2==1 , data))"
   ]
  },
  {
   "cell_type": "code",
   "execution_count": 130,
   "id": "e539c410",
   "metadata": {},
   "outputs": [
    {
     "data": {
      "text/plain": [
       "[2, 4]"
      ]
     },
     "execution_count": 130,
     "metadata": {},
     "output_type": "execute_result"
    }
   ],
   "source": [
    "[num for num in data if num%2==0]"
   ]
  },
  {
   "cell_type": "markdown",
   "id": "3725a518",
   "metadata": {},
   "source": [
    "### (3) sort"
   ]
  },
  {
   "cell_type": "code",
   "execution_count": 138,
   "id": "7dc2a9e0",
   "metadata": {},
   "outputs": [
    {
     "data": {
      "text/plain": [
       "[(1, 'one'), (2, 'two'), (3, 'three'), (4, 'four')]"
      ]
     },
     "execution_count": 138,
     "metadata": {},
     "output_type": "execute_result"
    }
   ],
   "source": [
    "paris = [(2,'two'),(1,'one'),(4,'four'),(3,'three')]\n",
    "paris.sort()\n",
    "paris"
   ]
  },
  {
   "cell_type": "code",
   "execution_count": 140,
   "id": "9dced429",
   "metadata": {},
   "outputs": [
    {
     "data": {
      "text/plain": [
       "[(4, 'four'), (1, 'one'), (3, 'three'), (2, 'two')]"
      ]
     },
     "execution_count": 140,
     "metadata": {},
     "output_type": "execute_result"
    }
   ],
   "source": [
    "paris.sort(key=lambda pair : pair[1])\n",
    "paris"
   ]
  },
  {
   "cell_type": "code",
   "execution_count": 153,
   "id": "4039a128",
   "metadata": {},
   "outputs": [
    {
     "data": {
      "text/plain": [
       "[[1, 100], [9, 9, 9, 9, 9, 9], [10, 1]]"
      ]
     },
     "execution_count": 153,
     "metadata": {},
     "output_type": "execute_result"
    }
   ],
   "source": [
    "number2d = [[9,9,9,9,9,9],\n",
    "           [1,100],\n",
    "           [10,1]]\n",
    "number2d.sort(key=lambda item: sum(item), reverse=True)\n",
    "number2d"
   ]
  },
  {
   "cell_type": "code",
   "execution_count": 179,
   "id": "250612d1",
   "metadata": {},
   "outputs": [],
   "source": [
    "students = [\n",
    "    {'name':'홍길동','kor':90, 'mat':100},\n",
    "    {'name':'김길동','kor':80, 'mat':85},\n",
    "    {'name':'이길동','kor':100, 'mat':95},\n",
    "    {'kor':100, 'mat':100}\n",
    "]"
   ]
  },
  {
   "cell_type": "code",
   "execution_count": 182,
   "id": "a90813a4",
   "metadata": {},
   "outputs": [
    {
     "data": {
      "text/plain": [
       "[{'kor': 100, 'mat': 100},\n",
       " {'name': '김길동', 'kor': 80, 'mat': 85},\n",
       " {'name': '이길동', 'kor': 100, 'mat': 95},\n",
       " {'name': '홍길동', 'kor': 90, 'mat': 100}]"
      ]
     },
     "execution_count": 182,
     "metadata": {},
     "output_type": "execute_result"
    }
   ],
   "source": [
    "students.sort(key=lambda student : student.get('name','가')) #이름순 정렬\n",
    "students"
   ]
  },
  {
   "cell_type": "code",
   "execution_count": 183,
   "id": "ff770e79",
   "metadata": {},
   "outputs": [
    {
     "data": {
      "text/plain": [
       "[{'kor': 100, 'mat': 100},\n",
       " {'name': '이길동', 'kor': 100, 'mat': 95},\n",
       " {'name': '홍길동', 'kor': 90, 'mat': 100},\n",
       " {'name': '김길동', 'kor': 80, 'mat': 85}]"
      ]
     },
     "execution_count": 183,
     "metadata": {},
     "output_type": "execute_result"
    }
   ],
   "source": [
    "students.sort(key=lambda student : student.get('kor',0)+student.get('mat',0), reverse=True) #점수합 정렬\n",
    "students"
   ]
  },
  {
   "cell_type": "code",
   "execution_count": 193,
   "id": "b0c3651b",
   "metadata": {},
   "outputs": [],
   "source": [
    "#책 제목순 정렬(ㄱㄴㄷㄹ), 저자순 정렬, 가격순 정렬\n",
    "books = [\n",
    "    {'no':1, 'title':'강남 아파트 인사이트','writer':'오스틀로이드','price':'25,200'},\n",
    "    {'no':2, 'title':'단 한번의 삶','writer':'김영하','price':'18,100'},\n",
    "    {'no':3, 'title':'흔한나매19','writer':'백난도','price':'14,220'},\n",
    "    {'no':4, 'title':'가격이잘못','writer':'홍길동','price':'-'},\n",
    "    {'no':5, 'title':'가격이숫자','writer':'신길동','price':900},\n",
    "    {'no':6, 'title':'가격이없음','writer':'김길동'}\n",
    "]"
   ]
  },
  {
   "cell_type": "code",
   "execution_count": 188,
   "id": "dcc34a4f",
   "metadata": {
    "collapsed": true
   },
   "outputs": [
    {
     "data": {
      "text/plain": [
       "[{'no': 5, 'title': '가격이 숫자', 'writer': '신길동', 'price': 900},\n",
       " {'no': 6, 'title': '가격이없음', 'writer': '김길동'},\n",
       " {'no': 4, 'title': '가격이잘못', 'writer': '홍길동', 'price': '-'},\n",
       " {'no': 1, 'title': '강남 아파트 인사이트', 'writer': '오스틀로이드', 'price': '25,200'},\n",
       " {'no': 2, 'title': '단 한번의 삶', 'writer': '김영하', 'price': '18,100'},\n",
       " {'no': 3, 'title': '흔한나매19', 'writer': '백난도', 'price': '14,220'}]"
      ]
     },
     "execution_count": 188,
     "metadata": {},
     "output_type": "execute_result"
    }
   ],
   "source": [
    "books.sort(key=lambda book: book.get('title'))\n",
    "books"
   ]
  },
  {
   "cell_type": "code",
   "execution_count": 190,
   "id": "b926ffb7",
   "metadata": {
    "collapsed": true
   },
   "outputs": [
    {
     "data": {
      "text/plain": [
       "[{'no': 6, 'title': '가격이없음', 'writer': '김길동'},\n",
       " {'no': 2, 'title': '단 한번의 삶', 'writer': '김영하', 'price': '18,100'},\n",
       " {'no': 3, 'title': '흔한나매19', 'writer': '백난도', 'price': '14,220'},\n",
       " {'no': 5, 'title': '가격이 숫자', 'writer': '신길동', 'price': 900},\n",
       " {'no': 1, 'title': '강남 아파트 인사이트', 'writer': '오스틀로이드', 'price': '25,200'},\n",
       " {'no': 4, 'title': '가격이잘못', 'writer': '홍길동', 'price': '-'}]"
      ]
     },
     "execution_count": 190,
     "metadata": {},
     "output_type": "execute_result"
    }
   ],
   "source": [
    "books.sort(key=lambda book: book.get('writer'))\n",
    "books"
   ]
  },
  {
   "cell_type": "code",
   "execution_count": 227,
   "id": "b9e79074",
   "metadata": {},
   "outputs": [
    {
     "data": {
      "text/plain": [
       "[{'no': 1, 'title': '강남 아파트 인사이트', 'writer': '오스틀로이드', 'price': '25,200'},\n",
       " {'no': 2, 'title': '단 한번의 삶', 'writer': '김영하', 'price': '18,100'},\n",
       " {'no': 3, 'title': '흔한나매19', 'writer': '백난도', 'price': '14,220'},\n",
       " {'no': 4, 'title': '가격이잘못', 'writer': '홍길동', 'price': '-'},\n",
       " {'no': 5, 'title': '가격이숫자', 'writer': '신길동', 'price': 900},\n",
       " {'no': 6, 'title': '가격이없음', 'writer': '김길동'}]"
      ]
     },
     "execution_count": 227,
     "metadata": {},
     "output_type": "execute_result"
    }
   ],
   "source": [
    "books.sort(key=lambda book: \n",
    "           book.get('price')  if book.get('price') is int \n",
    "           else int(book.get('price').replace(',','')) if book.get('price')is str \n",
    "               and book.get('price').replace(',','').isdigit()  else \n",
    "                            0,   reverse=True)\n",
    "books"
   ]
  },
  {
   "cell_type": "code",
   "execution_count": 222,
   "id": "2a506d0d",
   "metadata": {},
   "outputs": [],
   "source": [
    "books = [\n",
    "    {'no':1, 'title':'강남 아파트 인사이트','writer':'오스틀로이드','price':'25,200'},\n",
    "    {'no':2, 'title':'단 한번의 삶','writer':'김영하','price':'18,100'},\n",
    "    {'no':3, 'title':'흔한나매19','writer':'백난도','price':'14,220'},\n",
    "    {'no':4, 'title':'가격이잘못','writer':'홍길동','price':'-'},\n",
    "    {'no':5, 'title':'가격이숫자','writer':'신길동','price':900},\n",
    "    {'no':6, 'title':'가격이없음','writer':'김길동'}\n",
    "]\n",
    "copy_books = books.copy()"
   ]
  },
  {
   "cell_type": "code",
   "execution_count": 228,
   "id": "9724dde8",
   "metadata": {},
   "outputs": [
    {
     "data": {
      "text/plain": [
       "[{'no': 6, 'title': '가격이없음', 'writer': '김길동'},\n",
       " {'no': 4, 'title': '가격이잘못', 'writer': '홍길동', 'price': '-'},\n",
       " {'no': 5, 'title': '가격이숫자', 'writer': '신길동', 'price': 900},\n",
       " {'no': 3, 'title': '흔한나매19', 'writer': '백난도', 'price': '14,220'},\n",
       " {'no': 2, 'title': '단 한번의 삶', 'writer': '김영하', 'price': '18,100'},\n",
       " {'no': 1, 'title': '강남 아파트 인사이트', 'writer': '오스틀로이드', 'price': '25,200'}]"
      ]
     },
     "execution_count": 228,
     "metadata": {},
     "output_type": "execute_result"
    }
   ],
   "source": [
    "copy_books.sort(key=lambda book : \n",
    "                int(book.get('price').replace(',',''))\n",
    "                    if isinstance(book.get('price'), str) and\n",
    "                        book.get('price').replace(',','').isdigit() else\n",
    "                book.get('price') if isinstance(book.get('price'), int) else\n",
    "                0  \n",
    "               )\n",
    "copy_books"
   ]
  },
  {
   "cell_type": "code",
   "execution_count": 229,
   "id": "76553bfd",
   "metadata": {},
   "outputs": [
    {
     "data": {
      "text/plain": [
       "0"
      ]
     },
     "execution_count": 229,
     "metadata": {},
     "output_type": "execute_result"
    }
   ],
   "source": [
    "(lambda book : \n",
    "                int(book.get('price').replace(',',''))\n",
    "                    if isinstance(book.get('price'), str) and\n",
    "                        book.get('price').replace(',','').isdigit() else\n",
    "                book.get('price') if isinstance(book.get('price'), int) else\n",
    "                0)(copy_books[0])"
   ]
  },
  {
   "cell_type": "markdown",
   "id": "862507b4",
   "metadata": {},
   "source": [
    "## 4.3 return문에 람다식 이용"
   ]
  },
  {
   "cell_type": "code",
   "execution_count": 235,
   "id": "546a3395",
   "metadata": {},
   "outputs": [],
   "source": [
    "# shape : [l]=> len가 l인 list를 생성하는 함수 return \n",
    "#         [r,c] => r행 c열인 list를 생성하는 함수 return\n",
    "#         [d,r,c] => d면 r행 c열 3차원 list를 생성하는 함수 return\n",
    "def make_box(shape):\n",
    "    \n",
    "    def box(init_value):\n",
    "        if len(shape):\n",
    "            return [init_value]*shape[0]\n",
    "        elif len(shape)==2:\n",
    "            return [[init_value]*shape[1]] * shape[0]\n",
    "    return box"
   ]
  },
  {
   "cell_type": "code",
   "execution_count": 238,
   "id": "e87b479b",
   "metadata": {},
   "outputs": [
    {
     "data": {
      "text/plain": [
       "[3, 3]"
      ]
     },
     "execution_count": 238,
     "metadata": {},
     "output_type": "execute_result"
    }
   ],
   "source": [
    "line_fubnc = make_box([2,3])\n",
    "line_func(3)"
   ]
  },
  {
   "cell_type": "code",
   "execution_count": 239,
   "id": "52ff0e7d",
   "metadata": {},
   "outputs": [
    {
     "data": {
      "text/plain": [
       "[3, 3, 3, 3, 3, 3, 3, 3, 3, 3]"
      ]
     },
     "execution_count": 239,
     "metadata": {},
     "output_type": "execute_result"
    }
   ],
   "source": [
    "line_func1 = make_box([10])\n",
    "line_func1(3)"
   ]
  },
  {
   "cell_type": "code",
   "execution_count": 243,
   "id": "8cdbc68f",
   "metadata": {},
   "outputs": [],
   "source": [
    "def make_box(shape):\n",
    "    if len(shape) == 1:\n",
    "        return lambda init_value : [init_value]*shape[0]\n",
    "    elif len(shape) == 2:\n",
    "        return lambda init_value : [[init_value]*shape[1]]*shape[0]\n",
    "    "
   ]
  },
  {
   "cell_type": "code",
   "execution_count": 245,
   "id": "d2f1a465",
   "metadata": {},
   "outputs": [
    {
     "data": {
      "text/plain": [
       "[[3, 3, 3], [3, 3, 3]]"
      ]
     },
     "execution_count": 245,
     "metadata": {},
     "output_type": "execute_result"
    }
   ],
   "source": [
    "line_func = make_box([2,3])\n",
    "line_func(3)"
   ]
  },
  {
   "cell_type": "markdown",
   "id": "c20ed445",
   "metadata": {},
   "source": [
    "# 5절 파이썬 내장함수\n",
    "- import 하지 않고 바로 사용 가능한 함수\n",
    "- 키워드처럼 간주되므로, 식별자(변수명, 함수명, 클래스명)로 사용하는 것을 피한다"
   ]
  },
  {
   "cell_type": "code",
   "execution_count": 248,
   "id": "3a12daa9",
   "metadata": {
    "collapsed": true
   },
   "outputs": [
    {
     "data": {
      "text/plain": [
       "{'__name__': '__main__',\n",
       " '__doc__': 'Automatically created module for IPython interactive environment',\n",
       " '__package__': None,\n",
       " '__loader__': None,\n",
       " '__spec__': None,\n",
       " '__builtin__': <module 'builtins' (built-in)>,\n",
       " '__builtins__': <module 'builtins' (built-in)>,\n",
       " '_ih': ['',\n",
       "  'from IPython.display import display, HTML \\ndisplay(HTML(\"\"\"\\n<style>\\ndiv.container{width:86% !important;}\\ndiv.cell.code_cell.rendered{width:100%;}\\ndiv.CodeMirror {font-family:Consolas; font-size:15pt;}\\ndiv.output {font-size:15pt; font-weight:bold;}\\ndiv.input {font-family:Consolas; font-size:15pt;}\\ndiv.prompt {min-width:70px;}\\ndiv#toc-wrapper{padding-top:120px;}\\ndiv.text_cell_render ul li{font-size:12pt;padding:5px;}\\ntable.dataframe{font-size:15px;}\\n</style>\\n\"\"\"))',\n",
       "  '1.1 + 0.1 == 1.2',\n",
       "  \"def map_template(func, L=[1,2,3]):\\n    '''\\n    L의 모든 요소를 func()함수를 적용시켜 return\\n    [2,4,6]\\n    '''\\n    result = []\\n    for l in L :\\n        result.append(func(l))\",\n",
       "  \"def map_template(func, L=[1,2,3]):\\n    '''\\n    L의 모든 요소를 func()함수를 적용시켜 return\\n    [2,4,6]\\n    '''\\n    result = []\\n    for l in L :\\n        result.append(func(l))\\n    return result\",\n",
       "  \"def map_template(func, L=[1,2,3]):\\n    '''\\n    L의 모든 요소를 func()함수를 적용시켜 return\\n    [2,4,6]\\n    '''\\n#     result = []\\n#     for l in L :\\n#         result.append(func(l))\\n    return [func(l) for l in L ]\",\n",
       "  'list_data = range(1,10)',\n",
       "  'list_data = range(1,10)\\nmap_template(lambda x : x*2, list_data)',\n",
       "  \"def map_template(func, L=[1,2,3]):\\n    '''\\n    L의 모든 요소를 func()함수를 적용시켜 return\\n    '''\\n#     result = []\\n#     for l in L :\\n#         result.append(func(l))\\n    return [func(l) for l in L ]\",\n",
       "  'list_data = range(1,11)\\nmap_template(lambda x : x*2, list_data)',\n",
       "  '#리스트 데이터를 가공하는 방법 1. map\\nlist_data = range(1,113)\\nmap_template(lambda x : x*2, list_data)',\n",
       "  '#리스트 데이터를 가공하는 방법 1. map\\nlist_data = range(1,11)\\nmap_template(lambda x : x*2, list_data)',\n",
       "  '#리스트 데이터를 가공하는 방법 1. 리스트컴프리핸션\\n[l*2 for l in list_data]',\n",
       "  '#리스트 데이터를 가공하는 방법 3. map(): 파이썬 내장함수\\nmap(list_data)',\n",
       "  '#리스트 데이터를 가공하는 방법 3. map(): 파이썬 내장함수\\nmap(lambda x : x*2, list_data)',\n",
       "  '#리스트 데이터를 가공하는 방법 3. map(): 파이썬 내장함수\\n[map(lambda x : x*2, list_data)]',\n",
       "  '#리스트 데이터를 가공하는 방법 3. map(): 파이썬 내장함수\\nlist(map(lambda x : x*2, list_data))',\n",
       "  \"#예제 1. [5000,800,1000,6000]로\\nimport re\\nprices = ['5,000','800','1000','6,000']\\n\\nmap(lambda x : re.sub(prices,','))\",\n",
       "  \"#예제 1. [5000,800,1000,6000]로\\nimport re\\nprices = ['5,000','800','1000','6,000']\\n\\nmap(lambda x : re.sub(',',prices))\",\n",
       "  \"#예제 1. [5000,800,1000,6000]로\\nimport re\\nprices = ['5,000','800','1000','6,000']\\n\\n(lambda x : re.sub(',', p) for p in prices )\",\n",
       "  \"#예제 1. [5000,800,1000,6000]로\\nimport re\\nprices = ['5,000','800','1000','6,000']\\n\\nmap((lambda x : re.sub(',', x)), prices )\",\n",
       "  \"#예제 1. [5000,800,1000,6000]로\\nimport re\\nprices = ['5,000','800','1000','6,000']\\n\\nlist(map((lambda x : re.sub(',', x)), prices ))\",\n",
       "  \"#예제 1. [5000,800,1000,6000]로\\nimport re\\nprices = ['5,000','800','1000','6,000']\\n\\nlist(map(lambda x : re.sub(',', x), prices ))\",\n",
       "  \"#예제 1. [5000,800,1000,6000]로\\nimport re\\nprices = ['5,000','800','1000','6,000']\\n\\nlist(map(lambda x : re.sub(',', x)), prices )\",\n",
       "  \"#예제 1. [5000,800,1000,6000]로\\nimport re\\nprices = ['5,000','800','1000','6,000']\\n\\nlist(map(lambda x : prices.replace(',', '')), prices )\",\n",
       "  \"#예제 1. [5000,800,1000,6000]로\\nimport re\\nprices = ['5,000','800','1000','6,000']\\n\\nlist(map(lambda x : re.sub(',', x), prices) )\",\n",
       "  \"#예제 1. [5000,800,1000,6000]로\\nimport re\\nprices = ['5,000','800','1000','6,000']\\n\\nlist(map(lambda x : x =re.sub(',', x), prices))\",\n",
       "  \"#예제 1. [5000,800,1000,6000]로\\nimport re\\nprices = ['5,000','800','1000','6,000']\\n\\nlist(map(lambda x : re.sub(',','', x), prices))\",\n",
       "  \"#예제 1. [5000,800,1000,6000]로\\nimport re\\nprices = ['5,000','800','1000','6,000']\\n\\nlist(map(lambda x : int(re.sub(',','', x)), prices))\",\n",
       "  \"def split_date(date):\\n    split_data = date.split('-')\",\n",
       "  \"split_date('20205-01-01')\",\n",
       "  \"def split_date(date):\\n    split_data = date.split('-')\\n    print(split_data)\",\n",
       "  \"split_date('20205-01-01')\",\n",
       "  \"def split_date(date):\\n    split_data = int(date.split('-'))\\n    print(split_data)\\n    #return{'year':int(split_data[0]),'month':int()}\",\n",
       "  \"split_date('20205-01-01')\",\n",
       "  \"def split_date(date):\\n    int(split_data) = date.split('-')\\n    print(split_data)\\n    #return{'year':int(split_data[0]),'month':int()}\",\n",
       "  \"def split_date(date):\\n    split_data = date.split('-')\\n    print(split_data)\\n    #return{'year':int(split_data[0]),'month':int()}\",\n",
       "  \"def split_date(date):\\n    split_data = date.split('-')\\n    return{'year':int(split_data[0]),'month':int(split_data[1]),'day':(split_data[2])}\",\n",
       "  \"split_date('20205-01-01')\",\n",
       "  \"split_date('20205-01-01')\",\n",
       "  \"member_func(member):\\n    return {\\n        'name' : member.get('name'),\\n        'year' : int(member.get('birth').split('-')[0])\\n        'month' : int(member.get('birth').split('-')[1])\\n        'day' : int(member.get('birth').split('-')[2])\\n    }\\nmember_func(member[0])\",\n",
       "  \"#에제 2. member1 =[{'name':'홍길동', 'birth':'2000-01-01'},{'name':'신길동', 'birth':'1998-12-31'}]\\n#       member2 = [{'name':'홍길동', 'year':'2000,'month':1, 'day': 1},{'name':'신길동', 'year':'1998,'month':12, 'day': 31}]\\nmember1 =[{'name':'홍길동', 'birth':'2000-01-01'},{'name':'신길동', 'birth':'1998-12-31'}]\",\n",
       "  \"member_func(member):\\n    return {\\n        'name' : member.get('name'),\\n        'year' : int(member.get('birth').split('-')[0])\\n        'month' : int(member.get('birth').split('-')[1])\\n        'day' : int(member.get('birth').split('-')[2])\\n    }\\nmember_func(member[0])\",\n",
       "  \"member_func(member):\\n    return {\\n        'name' : member.get('name'),\\n        'year' : int(member.get('birth').split('-')[0]),\\n        'month' : int(member.get('birth').split('-')[1]),\\n        'day' : int(member.get('birth').split('-')[2])\\n    }\\nmember_func(member1[0])\",\n",
       "  \"def member_func(member):\\n    return {\\n        'name' : member.get('name'),\\n        'year' : int(member.get('birth').split('-')[0]),\\n        'month' : int(member.get('birth').split('-')[1]),\\n        'day' : int(member.get('birth').split('-')[2])\\n    }\\nmember_func(member1[0])\",\n",
       "  'list(map(member_func, member1))',\n",
       "  \"list(map(lambda member: {'name' : member.get('name'),\\n                        'year' : int(member.get('birth').split('-')[0]),\\n                        'month' : int(member.get('birth').split('-')[1]),\\n                        'day' : int(member.get('birth').split('-')[2])}, member1))\",\n",
       "  \"member2 = list(map(lambda member: {\\n                        'name' : member.get('name'),\\n                        'year' : int(member.get('birth').split('-')[0]),\\n                        'month' : int(member.get('birth').split('-')[1]),\\n                        'day' : int(member.get('birth').split('-')[2])\\n                        }, member1))\",\n",
       "  'member2',\n",
       "  \"list(map(lambda member: {\\n                        'name' : member.get('name'),\\n                        'birth' : '-'.join([member.get('year'),member.get('month'),member.get('day')])\\n                        }, member1))\",\n",
       "  \"list(map(lambda member: {\\n                        'name' : member.get('name'),\\n                        'birth' : '-'.join([member.get('year'),member.get('month'),member.get('day')])\\n                        }, member2))\",\n",
       "  \"member2 = list(map(lambda member: {\\n                        'name' : member.get('name'),\\n                        'year' : int(member.get('birth').split('-')[0]),\\n                        'month' : int(member.get('birth').split('-')[1]),\\n                        'day' : int(member.get('birth').split('-')[2])\\n                        }, member1))\",\n",
       "  \"member2 = list(map(lambda member: {\\n                        'name' : member.get('name'),\\n                        'year' : int(member.get('birth').split('-')[0]),\\n                        'month' : int(member.get('birth').split('-')[1]),\\n                        'day' : int(member.get('birth').split('-')[2])\\n                        }, member1))\\nmember2\",\n",
       "  \"list(map(lambda member: {\\n                        'name' : member.get('name'),\\n                        'birth' : '-'.join([str(member.get('year')),str(strmember.get('month')),str(member.get('day'))])\\n                        }, member2))\",\n",
       "  \"list(map(lambda member: {\\n                        'name' : member.get('name'),\\n                        'birth' : '-'.join([str(member.get('year')),str(member.get('month')),str(member.get('day'))])\\n                        }, member2))\",\n",
       "  \"member3 = list(map(lambda member: {\\n                        'name' : member.get('name'),\\n                        'birth' : '-'.join([str(member.get('year')),str(member.get('month')),str(member.get('day'))])\\n                        }, member2))\\nmember3\",\n",
       "  \"member3 = list(map(lambda member: {\\n                        'name' : member.get('name'),\\n                        'birth' : '-'.join([str(member.get('year')),\\n                                            str(member.get('month')),\\n                                            str(member.get('day'))])\\n                        }, member2))\\nmember3 == member1\",\n",
       "  \"member3 = list(map(lambda member: {\\n                        'name' : member.get('name'),\\n                        'birth' : '-'.join([str(member.get('year')),\\n                                            str(member.get('month')),\\n                                            str(member.get('day'))])\\n                        }, member2))\\nmember3 \",\n",
       "  \"member3 = list(map(lambda member: {\\n                        'name' : member.get('name'),\\n                        'birth' : '-'.join([str(member.get('year')),\\n                                            str(member.get('month')),\\n                                            str(member.get('day'))])\\n                        }, member2))\\nmember1\",\n",
       "  \"member3 = list(map(lambda member: {\\n                        'name' : member.get('name'),\\n                        'birth' : '-'.join([str(member.get('year')),\\n                                            str(member.get('month')),\\n                                            str(member.get('day'))])\\n                        }, member2))\\nmember2\",\n",
       "  \"member3 = list(map(lambda member: {\\n                        'name' : member.get('name'),\\n                        'birth' : '-'.join([str(member.get('year')),\\n                                            str(member.get('month')),\\n                                            str(member.get('day'))])\\n                        }, member2))\\nmember3\",\n",
       "  \"member3 = list(map(lambda member: {\\n                        'name' : member.get('name'),\\n                        'birth' : '-'.join([str(member.get('year')),\\n                                            str(member.get('month')),\\n                                            str(member.get('day'))])\\n                        }, member2))\\nmember1\",\n",
       "  \"member3 = list(map(lambda member: {\\n                        'name' : member.get('name'),\\n                        'birth' : '-'.join([str(member.get('year')),\\n                                            str(member.get('month')),\\n                                            str(member.get('day'))])\\n                        }, member2))\\nmember3\",\n",
       "  \"member3 = list(map(lambda member: {\\n                        'name' : member.get('name'),\\n                        'birth' : '-'.join([str(member.get('year')),\\n                                            str(member.get('month'):2),\\n                                            str(member.get('day'))])\\n                        }, member2))\\nmember3\",\n",
       "  \"member3 = list(map(lambda member: {\\n                        'name' : member.get('name'),\\n                        'birth' : '-'.join([str(member.get('year')),\\n                                            str(member.get('month'):),\\n                                            str(member.get('day'))])\\n                        }, member2))\\nmember3\",\n",
       "  \"member3 = list(map(lambda member: {\\n                        'name' : member.get('name'),\\n                        'birth' : '-'.join([str(member.get('year')),\\n                                            str(member.get('month')),\\n                                            str(member.get('day'))])\\n                        }, member2))\\nmember3\",\n",
       "  \"member3 = list(map(lambda member: {\\n                        'name' : member.get('name'),\\n                        'birth' : '-'.join([str(member.get('year')),\\n                                            str(member.get('month')`),\\n                                            str(member.get('day'))])\\n                        }, member2))\\nmember3\\n'{:02}'.format('as')\",\n",
       "  'member3 = list(map(lambda member: {\\n                        \\'name\\' : member.get(\\'name\\'),\\n                        \\'birth\\' : \\'-\\'.join([str(member.get(\\'year\\')),\\n                                            str(member.get(\\'month\\')`),\\n                                            str(member.get(\\'day\\'))])\\n                        }, member2))\\nmember3\\n\\'{:\"0\"2}\\'.format(\\'as\\')',\n",
       "  \"member3 = list(map(lambda member: {\\n                        'name' : member.get('name'),\\n                        'birth' : '-'.join([str(member.get('year')),\\n                                            str(member.get('month')`),\\n                                            str(member.get('day'))])\\n                        }, member2))\\nmember3\",\n",
       "  \"member3 = list(map(lambda member: {\\n                        'name' : member.get('name'),\\n                        'birth' : '-'.join([str(member.get('year')),\\n                                            str(member.get('month')),\\n                                            str(member.get('day'))])\\n                        }, member2))\\nmember3\",\n",
       "  \"member3 = list(map(lambda member: {\\n                        'name' : member.get('name'),\\n                        'birth' : '{:02}-{02}-{02}'.format(str(member.get('year')),\\n                                                    str(member.get('month')),\\n                                                    str(member.get('day')))\\n                                    }, member2)\\nmember3\",\n",
       "  \"member3 = list(map(lambda member: {\\n                        'name' : member.get('name'),\\n                        'birth' : '{:02}-{02}-{02}'.format(str(member.get('year')),\\n                                                    str(member.get('month')),\\n                                                    str(member.get('day')))\\n                                    }, member2))\\nmember3\",\n",
       "  \"member3 = list(map(lambda member: {\\n                        'name' : member.get('name'),\\n                        'birth' : '{:2}-{:2}-{:2}'.format(str(member.get('year')),\\n                                                    str(member.get('month')),\\n                                                    str(member.get('day')))\\n                                    }, member2))\\nmember3\",\n",
       "  \"member3 = list(map(lambda member: {\\n                        'name' : member.get('name'),\\n                        'birth' : '{:02}-{:2}-{:2}'.format(str(member.get('year')),\\n                                                    str(member.get('month')),\\n                                                    str(member.get('day')))\\n                                    }, member2))\\nmember3\",\n",
       "  'member3 = list(map(lambda member: {\\n                        \\'name\\' : member.get(\\'name\\'),\\n                        \\'birth\\' : \\'{:\"0\"2}-{:2}-{:2}\\'.format(str(member.get(\\'year\\')),\\n                                                    str(member.get(\\'month\\')),\\n                                                    str(member.get(\\'day\\')))\\n                                    }, member2))\\nmember3',\n",
       "  \"member3 = list(map(lambda member: {\\n                        'name' : member.get('name'),\\n                        'birth' : '{:2}-{:2}-{:2}'.format(str(member.get('year')),\\n                                                    str(member.get('month')),\\n                                                    str(member.get('day')))\\n                                    }, member2))\\nmember3\",\n",
       "  \"member3 = list(map(lambda member: {\\n                        'name' : member.get('name'),\\n                        'birth' : '{0:2}-{:2}-{:2}'.format(str(member.get('year')),\\n                                                    str(member.get('month')),\\n                                                    str(member.get('day')))\\n                                    }, member2))\\nmember3\",\n",
       "  \"member3 = list(map(lambda member: {\\n                        'name' : member.get('name'),\\n                        'birth' : '{:2}-{:2}-{:2}'.format(str(member.get('year')),\\n                                                    str(member.get('month')),\\n                                                    str(member.get('day')))\\n                                    }, member2))\\nmember3\",\n",
       "  \"member3 = list(map(lambda member: {\\n                        'name' : member.get('name'),\\n                        'birth' : '-'.join(str(member.get('year') if member.get('year') > 0 else '0' + member.get('year')),\\n                                            str(member.get('month')),\\n                                            str(member.get('day')))\\n                                    }, member2))\\nmember3\",\n",
       "  \"member3 = list(map(lambda member: {\\n                        'name' : member.get('name'),\\n                        'birth' : '-'.join(str(member.get('year') if member.get('year') > 0 else '0' + str(member.get('year'))),\\n                                            str(member.get('month')),\\n                                            str(member.get('day')))\\n                                    }, member2))\\nmember3\",\n",
       "  \"member3 = list(map(lambda member: {\\n                        'name' : member.get('name'),\\n                        'birth' : '{}-{:02}-{:02}'.format(member.get('year')\\n                                                    member.get('month')\\n                                                    member.get('day'))\\n                                    }, member2))\\nmember3\",\n",
       "  \"member3 = list(map(lambda member: {\\n                        'name' : member.get('name'),\\n                        'birth' : '{}-{:02}-{:02}'.format(member.get('year'),\\n                                                    member.get('month'),\\n                                                    member.get('day'))\\n                                    }, member2))\\nmember3\",\n",
       "  \"member3 = list(map(lambda **member: {f'{key}:{item}'} for key, item in member.items()\\n                        #{\\n                        #'name' : member.get('name'),\\n                        #'birth' : '{}-{:02}-{:02}'.format(member.get('year'),\\n                        #                                  member.get('month'),\\n                        #                                  member.get('day'))\\n                        #            }\\n                   , **member2))\\nmember3\",\n",
       "  \"member3 = list(map(lambda member: {f'{key}:{item}'} for key, item in member.items()\\n                        #{\\n                        #'name' : member.get('name'),\\n                        #'birth' : '{}-{:02}-{:02}'.format(member.get('year'),\\n                        #                                  member.get('month'),\\n                        #                                  member.get('day'))\\n                        #            }\\n                   , **member2))\\nmember3\",\n",
       "  \"member3 = list(map(lambda **member: {f'{key}:{item}'} for key, item in member.items()\\n                        #{\\n                        #'name' : member.get('name'),\\n                        #'birth' : '{}-{:02}-{:02}'.format(member.get('year'),\\n                        #                                  member.get('month'),\\n                        #                                  member.get('day'))\\n                        #            }\\n                   , **member2))\\nmember3\",\n",
       "  \"member3 = list(map(lambda member: {f'{key}:{item}'} for key, item in member.items()\\n                        #{\\n                        #'name' : member.get('name'),\\n                        #'birth' : '{}-{:02}-{:02}'.format(member.get('year'),\\n                        #                                  member.get('month'),\\n                        #                                  member.get('day'))\\n                        #            }\\n                   , **member2))\\nmember3\",\n",
       "  \"member3 = list(map(lambda *member: {f'{key}:{item}'} for key, item in member.items()\\n                        #{\\n                        #'name' : member.get('name'),\\n                        #'birth' : '{}-{:02}-{:02}'.format(member.get('year'),\\n                        #                                  member.get('month'),\\n                        #                                  member.get('day'))\\n                        #            }\\n                   , **member2))\\nmember3\",\n",
       "  \"member3 = list(map(lambda member: {f'{key}:{item}'} for key, item in member.items()\\n                        #{\\n                        #'name' : member.get('name'),\\n                        #'birth' : '{}-{:02}-{:02}'.format(member.get('year'),\\n                        #                                  member.get('month'),\\n                        #                                  member.get('day'))\\n                        #            }\\n                   , **member2))\\nmember3\",\n",
       "  \"member3 = list(map(lambda member: {f'{key}:{item}'} for key, item in member.items()\\n                        #{\\n                        #'name' : member.get('name'),\\n                        #'birth' : '{}-{:02}-{:02}'.format(member.get('year'),\\n                        #                                  member.get('month'),\\n                        #                                  member.get('day'))\\n                        #            }\\n                   , member2))\\nmember3\",\n",
       "  \"member3 = list(map(lambda member: {f'{key}:{item}'} for key, item in member.items()\\n                        #{\\n                        #'name' : member.get('name'),\\n                        #'birth' : '{}-{:02}-{:02}'.format(member.get('year'),\\n                        #                                  member.get('month'),\\n                        #                                  member.get('day'))\\n                        #            }\\n                   , member2))\\nmember3\",\n",
       "  \"member3 = list(map(lambda *member: {f'{key}:{item}'} for key, item in member.items()\\n                        #{\\n                        #'name' : member.get('name'),\\n                        #'birth' : '{}-{:02}-{:02}'.format(member.get('year'),\\n                        #                                  member.get('month'),\\n                        #                                  member.get('day'))\\n                        #            }\\n                   , member2))\\nmember3\",\n",
       "  \"member3 = list(map(lambda member: {f'{key}:{item}'} for key, item in member.items()\\n                        #{\\n                        #'name' : member.get('name'),\\n                        #'birth' : '{}-{:02}-{:02}'.format(member.get('year'),\\n                        #                                  member.get('month'),\\n                        #                                  member.get('day'))\\n                        #            }\\n                   , member2))\\nmember3\",\n",
       "  \"member3 = list(map(lambda member: f'{key}:{item}' for key, item in member.items()\\n                        #{\\n                        #'name' : member.get('name'),\\n                        #'birth' : '{}-{:02}-{:02}'.format(member.get('year'),\\n                        #                                  member.get('month'),\\n                        #                                  member.get('day'))\\n                        #            }\\n                   , member2))\\nmember3\",\n",
       "  \"member3 = list(map(lambda member: [f'{key}:{item}' for key, item in member.items()]\\n                        #{\\n                        #'name' : member.get('name'),\\n                        #'birth' : '{}-{:02}-{:02}'.format(member.get('year'),\\n                        #                                  member.get('month'),\\n                        #                                  member.get('day'))\\n                        #            }\\n                   , member2))\\nmember3\",\n",
       "  \"member3 = list(map(lambda member: ['{year}-{month:02}-{day:02}'.format(item) for value in member.values()]\\n                        #{\\n                        #'name' : member.get('name'),\\n                        #'birth' : '{}-{:02}-{:02}'.format(member.get('year'),\\n                        #                                  member.get('month'),\\n                        #                                  member.get('day'))\\n                        #            }\\n                   , member2))\\nmember3\",\n",
       "  \"member3 = list(map(lambda member: ['{year}-{month:02}-{day:02}'.format(value) for value in member.values()]\\n                        #{\\n                        #'name' : member.get('name'),\\n                        #'birth' : '{}-{:02}-{:02}'.format(member.get('year'),\\n                        #                                  member.get('month'),\\n                        #                                  member.get('day'))\\n                        #            }\\n                   , member2))\\nmember3\",\n",
       "  \"member3 = list(map(lambda member: ['{year}-{month:02}-{day:02}'.format(value) for value in member.value()]\\n                        #{\\n                        #'name' : member.get('name'),\\n                        #'birth' : '{}-{:02}-{:02}'.format(member.get('year'),\\n                        #                                  member.get('month'),\\n                        #                                  member.get('day'))\\n                        #            }\\n                   , member2))\\nmember3\",\n",
       "  \"member3 = list(map(lambda member: ['{year}-{month:02}-{day:02}'.format(value) for value in member.values()]\\n                        #{\\n                        #'name' : member.get('name'),\\n                        #'birth' : '{}-{:02}-{:02}'.format(member.get('year'),\\n                        #                                  member.get('month'),\\n                        #                                  member.get('day'))\\n                        #            }\\n                   , member2))\\nmember3\",\n",
       "  \"member3 = list(map(lambda member: ['{year}-{month:02}-{day:02}'.format(member) ]\\n                        #{\\n                        #'name' : member.get('name'),\\n                        #'birth' : '{}-{:02}-{:02}'.format(member.get('year'),\\n                        #                                  member.get('month'),\\n                        #                                  member.get('day'))\\n                        #            }\\n                   , member2))\\nmember3\",\n",
       "  \"member3 = list(map(lambda member: ['{year}-{month:02}-{day:02}'.format(**member) ]\\n                        #{\\n                        #'name' : member.get('name'),\\n                        #'birth' : '{}-{:02}-{:02}'.format(member.get('year'),\\n                        #                                  member.get('month'),\\n                        #                                  member.get('day'))\\n                        #            }\\n                   , member2))\\nmember3\",\n",
       "  \"member3 = list(map(lambda member: '{year}-{month:02}-{day:02}'.format(**member) \\n                        #{\\n                        #'name' : member.get('name'),\\n                        #'birth' : '{}-{:02}-{:02}'.format(member.get('year'),\\n                        #                                  member.get('month'),\\n                        #                                  member.get('day'))\\n                        #            }\\n                   , member2))\\nmember3\",\n",
       "  \"member3 = list(map(lambda member:  \\n                        {\\n                        'name' : member.get('name'),\\n                        'birth' : '{year}-{month:02}-{day:02}'.format(**member)\\n                                    }\\n                   , member2))\\nmember3\",\n",
       "  \"member3 = list(map(lambda member:  \\n                        {\\n                        'name' : member.get('name'),\\n                        'birth' : '{year}-{month:02}-{day:02}'.format(**member)\\n                                    }\\n                   , member2))\\nmember3==member1\",\n",
       "  \"member3 = list(map(lambda member:  \\n                        {\\n                        'name' : member.get('name'),\\n                        'birth' : '{year}-{month:02}-{day:02}'.format(**member)\\n                                    }\\n                   , member2))\\nmember3\",\n",
       "  \"member3 = list(map(lambda member:  \\n                        {\\n                        'name' : member.get('name'),\\n                        'birth' : '{year}-{month:02}-{day:02}'.format(**member)\\n                        }, member2))\\nprint(**member3)\",\n",
       "  \"member3 = list(map(lambda member:  \\n                        {\\n                        'name' : member.get('name'),\\n                        'birth' : '{year}-{month:02}-{day:02}'.format(**member)\\n                        }, member2))\\nprint(member3)\",\n",
       "  \"member3 = list(map(lambda member:  \\n                        {\\n                        'name' : member.get('name'),\\n                        'birth' : '{year}-{month:02}-{day:02}'.format(**member)\\n                        }, member2))\\nlist(map(lambda a : a, **member3))\\n#print(member3)\",\n",
       "  \"member3 = list(map(lambda member:  \\n                        {\\n                        'name' : member.get('name'),\\n                        'birth' : '{year}-{month:02}-{day:02}'.format(**member)\\n                        }, member2))\\nprint(member3)\",\n",
       "  \"member3 = list(map(lambda member:  \\n                        {\\n                        'name' : member.get('name'),\\n                        'birth' : '{year}-{month:02}-{day:02}'.format(**member)\\n                        }, member2))\\nmember3\",\n",
       "  \"member3 = list(map(lambda member:  \\n                        {\\n                        'name' : member.get('name'),\\n                        'birth' : '{year}-{month:02}-{day:02}'.format(**member)\\n                        }, member2))\\nmember3\",\n",
       "  'data = [1,2,3,4,5]\\nlist(lambda x = x%2==1, data)',\n",
       "  'data = [1,2,3,4,5]\\nlist(lambda x :x%2==1, data)',\n",
       "  'data = [1,2,3,4,5]\\nlist(map(lambda x :x%2==1, data))',\n",
       "  'data = [1,2,3,4,5]\\nlist(map(lambda x : x if x%2==1, data))',\n",
       "  'data = [1,2,3,4,5]\\nlist(map(lambda x : x if x%2==1, data))',\n",
       "  'data = [1,2,3,4,5]\\nlist(map(lambda x : x if x%2, data))',\n",
       "  \"data = [1,2,3,4,5]\\nlist(map(lambda x : x if x%2 else 'none', data))\",\n",
       "  \"data = [1,2,3,4,5]\\nlist(map(lambda x : x if x%2 else '', data))\",\n",
       "  'data = [1,2,3,4,5]\\nlist(map(lambda x : x if x%2, data))',\n",
       "  'data = [1,2,3,4,5]\\nlist(map(lambda x : [x if x%2] , data))',\n",
       "  'data = [1,2,3,4,5]\\nlist(map(lambda x : x%2 , data))',\n",
       "  'data = [1,2,3,4,5]\\nlist(filter(lambda x : x%2==1 , data))',\n",
       "  '## (2) filter',\n",
       "  'def filter_template(func,L[]):\\n    result = []\\n    for l in L:\\n        if func(l):\\n            result.append(l)\\n    return result',\n",
       "  'def evenChk(value):\\n    return value%2==0 else False',\n",
       "  'def evenChk(value):\\n    return value%2==0',\n",
       "  'def filter_template(func,L=[]):\\n    result = []\\n    for l in L:\\n        if func(l):\\n            result.append(l)\\n    return result',\n",
       "  'list_data = [1,2,3,4,5]\\nfilter_template(lambda value: value%2==0, list_data)',\n",
       "  'data = [1,2,3,4,5]\\nlist(filter(lambda x : x%2==1 , data))',\n",
       "  '[num for num in data if num%2==0]',\n",
       "  '[num for num in data if num%2==0]',\n",
       "  '### (3)',\n",
       "  'number2d = ([9,9,9,9,9,9],\\n           [1,100],\\n           [10,1])',\n",
       "  'number_sum = [sum(num) for num in number2d]',\n",
       "  'number_sum = [sum(num) for num in number2d]\\nnumber_sum',\n",
       "  '[sum(num) for num in number2d].sort()\\nnumber_sum',\n",
       "  '[sum(num) for num in number2d].sort()',\n",
       "  \"paris = [(2,'two'),(1,'one'),(4,'four'),(3,'three')]\",\n",
       "  \"paris = [(2,'two'),(1,'one'),(4,'four'),(3,'three')]\\nparis.sort()\\nparis\",\n",
       "  'paris.sort(key=lambda pair : pair[1])',\n",
       "  'paris.sort(key=lambda pair : pair[1])\\nparis',\n",
       "  'number2d = ([9,9,9,9,9,9],\\n           [1,100],\\n           [10,1])\\nnumber2d.sort(key=lambda number2d: sum(number2d))',\n",
       "  'number2d = ([9,9,9,9,9,9],\\n           [1,100],\\n           [10,1])\\nnumber2d.sort(key=lambda item: sum(number2d))',\n",
       "  'number2d = ([9,9,9,9,9,9],\\n           [1,100],\\n           [10,1])\\nnumber2d.sort(key=lambda item: sum(item))',\n",
       "  'number2d = [[9,9,9,9,9,9],\\n           [1,100],\\n           [10,1]]\\nnumber2d.sort(key=lambda item: sum(item))',\n",
       "  'number2d = [[9,9,9,9,9,9],\\n           [1,100],\\n           [10,1]]\\nnumber2d.sort(key=lambda item: sum(item))\\nnumber2d',\n",
       "  'number2d = [[9,9,9,9,9,9],\\n           [1,100],\\n           [10,1]]\\nnumber2d.sort(key=lambda item: sum(item), reverse=True)\\nnumber2d',\n",
       "  'number2d = [[9,9,9,9,9,9],\\n           [1,100],\\n           [10,1]]\\nnumber2d.sort(key=lambda item: sum(item), reverse=False)\\nnumber2d',\n",
       "  'number2d = [[9,9,9,9,9,9],\\n           [1,100],\\n           [10,1]]\\nnumber2d.sort(key=lambda item: sum(item), reverse=True)\\nnumber2d',\n",
       "  'number2d = [[9,9,9,9,9,9],\\n           [1,100],\\n           [10,1]]\\nnumber2d.sort(key=lambda item: sum(item), reverse=True)\\nnumber2d',\n",
       "  'number2d = [[9,9,9,9,9,9],\\n           [1,100],\\n           [10,1]]\\nnumber2d.sort(key=lambda item: sum(item), reverse=True)\\nnumber2d',\n",
       "  'number2d = [[9,9,9,9,9,9],\\n           [1,100],\\n           [10,1]]\\nnumber2d.sort(key=lambda item: sum(item), reverse=True)\\nnumber2d',\n",
       "  'number2d = [[9,9,9,9,9,9],\\n           [1,100],\\n           [10,1]]\\nnumber2d.sort(key=lambda item: sum(item), reverse=True)\\nnumber2d',\n",
       "  'number2d = [[9,9,9,9,9,9],\\n           [1,100],\\n           [10,1]]\\nnumber2d.sort(key=lambda item: sum(item), reverse=True)\\nnumber2d',\n",
       "  '1.66**2',\n",
       "  '49/1.66**2',\n",
       "  '47/1.66**2',\n",
       "  '45/1.66**2',\n",
       "  '46/1.66**2',\n",
       "  \"students = [\\n    {'name':'홍길동','kor':90, 'mat':100},\\n    {'name':'김길동','kor':100, 'mat':70},\\n    {'name':'이길동','kor':80, 'mat':85}\\n]\",\n",
       "  \"students = [\\n    {'name':'홍길동','kor':90, 'mat':100},\\n    {'name':'김길동','kor':100, 'mat':70},\\n    {'name':'이길동','kor':80, 'mat':85}\\n]\\n\\nstudents.sort(key=lambda student : student.get('name'))\",\n",
       "  \"students = [\\n    {'name':'홍길동','kor':90, 'mat':100},\\n    {'name':'김길동','kor':100, 'mat':70},\\n    {'name':'이길동','kor':80, 'mat':85}\\n]\\n\\nstudents.sort(key=lambda student : student.get('name'))\\nstudents\",\n",
       "  \"students.sort(key=lambda student : student.get('name')) #이름순 정렬\\nstudents\",\n",
       "  \"students = [\\n    {'name':'홍길동','kor':90, 'mat':100},\\n    {'name':'김길동','kor':100, 'mat':70},\\n    {'name':'이길동','kor':80, 'mat':85}\\n]\",\n",
       "  \"students.sort(key=lambda student : sum(student.get('kor'), student.get('mat'))) #이름순 정렬\\nstudents\",\n",
       "  \"students.sort(key=lambda student : sum(int(student.get('kor')), int(student.get('mat')))) #이름순 정렬\\nstudents\",\n",
       "  \"students.sort(key=lambda student : sum(student.get('kor'), student.get('mat') )) #이름순 정렬\\nstudents\",\n",
       "  \"students.sort(key=lambda student : sum([student.get('kor'), student.get('mat')] )) #이름순 정렬\\nstudents\",\n",
       "  \"students.sort(key=lambda student : sum([student.get('kor'), student.get('mat')] )) #이름순 정렬\\nstudents\",\n",
       "  \"students.sort(key=lambda student : sum([student.get('kor'), student.get('mat')] ), reverse=True) #이름순 정렬\\nstudents\",\n",
       "  \"students.sort(key=lambda student : student.get('kor')+student.get('mat'), reverse=True) #이름순 정렬\\nstudents\",\n",
       "  \"students.sort(key=lambda student : student.get('kor')+student.get('mat'), reverse=True) #이름순 정렬\\nstudents\",\n",
       "  \"students.sort(key=lambda student : student.get('kor')+student.get('mat'), reverse=True) #점수합 정렬\\nstudents\",\n",
       "  \"students = [\\n    {'name':'홍길동','kor':90, 'mat':100},\\n    {'name':'김길동','kor':80, 'mat':85},\\n    {'name':'이길동','kor':100, 'mat':95}\\n]\",\n",
       "  \"students.sort(key=lambda student : student.get('kor')+student.get('mat'), reverse=True) #점수합 정렬\\nstudents\",\n",
       "  \"students = [\\n    {'name':'홍길동','kor':90, 'mat':100},\\n    {'name':'김길동','kor':80, 'mat':85},\\n    {'name':'이길동','kor':100, 'mat':95},\\n    {'socre':100}\\n]\",\n",
       "  \"students.sort(key=lambda student : student.get('name')) #이름순 정렬\\nstudents\",\n",
       "  \"students.sort(key=lambda student : str(student.get('name'))) #이름순 정렬\\nstudents\",\n",
       "  \"students.sort(key=lambda student : student.get('kor')+student.get('mat'), reverse=True) #점수합 정렬\\nstudents\",\n",
       "  \"students = [\\n    {'name':'홍길동','kor':90, 'mat':100},\\n    {'name':'김길동','kor':80, 'mat':85},\\n    {'name':'이길동','kor':100, 'mat':95},\\n    {'kor':100, 'mat':100}\\n]\",\n",
       "  \"students.sort(key=lambda student : student.get('kor')+student.get('mat'), reverse=True) #점수합 정렬\\nstudents\",\n",
       "  \"students.sort(key=lambda student : str(student.get('name'))) #이름순 정렬\\nstudents\",\n",
       "  \"students.sort(key=lambda student : student.get('name','가')) #이름순 정렬\\nstudents\",\n",
       "  \"students.sort(key=lambda student : student.get('kor',0)+student.get('mat',0), reverse=True) #점수합 정렬\\nstudents\",\n",
       "  \"#\\nbooks = [\\n    {'no':1, 'title':'강남 아파트 인사이트','writer':'오스틀로이드','price':'25,200'},\\n    {'no':2, 'title':'단 한번의 삶','writer':'김영하','price':'18,100'},\\n    {'no':3, 'title':'흔한나매19','writer':'백난도','price':'14,220'},\\n    {'no':4, 'title':'가격이잘못','writer':'홍길동','price':'-'},\\n]\",\n",
       "  \"#\\nbooks = [\\n    {'no':1, 'title':'강남 아파트 인사이트','writer':'오스틀로이드','price':'25,200'},\\n    {'no':2, 'title':'단 한번의 삶','writer':'김영하','price':'18,100'},\\n    {'no':3, 'title':'흔한나매19','writer':'백난도','price':'14,220'},\\n    {'no':4, 'title':'가격이잘못','writer':'홍길동','price':'-'},\\n]\",\n",
       "  \"#\\nbooks = [\\n    {'no':1, 'title':'강남 아파트 인사이트','writer':'오스틀로이드','price':'25,200'},\\n    {'no':2, 'title':'단 한번의 삶','writer':'김영하','price':'18,100'},\\n    {'no':3, 'title':'흔한나매19','writer':'백난도','price':'14,220'},\\n    {'no':4, 'title':'가격이잘못','writer':'홍길동','price':'-'},\\n    {'no':5, 'title':'가격이 숫자','writer':'신길동','price':900},\\n    {'no':6, 'title':'가격이없음','writer':'김길동'}\\n]\",\n",
       "  \"#책 제목순 정렬(ㄱㄴㄷㄹ), 저자순 정렬, 가격순 정렬\\nbooks = [\\n    {'no':1, 'title':'강남 아파트 인사이트','writer':'오스틀로이드','price':'25,200'},\\n    {'no':2, 'title':'단 한번의 삶','writer':'김영하','price':'18,100'},\\n    {'no':3, 'title':'흔한나매19','writer':'백난도','price':'14,220'},\\n    {'no':4, 'title':'가격이잘못','writer':'홍길동','price':'-'},\\n    {'no':5, 'title':'가격이 숫자','writer':'신길동','price':900},\\n    {'no':6, 'title':'가격이없음','writer':'김길동'}\\n]\",\n",
       "  \"books.sort(key=lambda book: book.get('title'))\\nbooks\",\n",
       "  \"books.sort(key=lambda book: book.get('wirter'))\\nbooks\",\n",
       "  \"books.sort(key=lambda book: book.get('writer'))\\nbooks\",\n",
       "  \"isinstance(book.get('price'),str)\",\n",
       "  \"isinstance(book.get('price'),string)\",\n",
       "  \"#책 제목순 정렬(ㄱㄴㄷㄹ), 저자순 정렬, 가격순 정렬\\nbooks = [\\n    {'no':1, 'title':'강남 아파트 인사이트','writer':'오스틀로이드','price':'25,200'},\\n    {'no':2, 'title':'단 한번의 삶','writer':'김영하','price':'18,100'},\\n    {'no':3, 'title':'흔한나매19','writer':'백난도','price':'14,220'},\\n    {'no':4, 'title':'가격이잘못','writer':'홍길동','price':'-'},\\n    {'no':5, 'title':'가격이숫자','writer':'신길동','price':900},\\n    {'no':6, 'title':'가격이없음','writer':'김길동'}\\n]\",\n",
       "  \"isinstance(books.get('price'),string)\",\n",
       "  \"isinstance('price',string)\",\n",
       "  \"isinstance('price',str)\",\n",
       "  \"books.sort(key=lambda book: book.get('price')    if isinstance(book.get('price'),int) else\\n                            0                    if book.get('price') == '-' else\\n                            int(book.replace(',','')) if isinstance(book.get('price'),str) else\\n                            0                 \\n          )\\nbooks\",\n",
       "  \"books.sort(key=lambda book: book.get('price')    if isinstance(book.get('price'),int) else\\n                            0                    if book.get('price') == '-' else\\n                            int(book.get('price').replace(',','')) if isinstance(book.get('price'),str) else\\n                            0                 \\n          )\\nbooks\",\n",
       "  \"books.sort(key=lambda book: book.get('price')    if isinstance(book.get('price'),int) else\\n                            0                    if book.get('price') == '-' else\\n                            int(book.get('price').replace(',','')) if isinstance(book.get('price'),str) else\\n                            0,   reverse=True)\\nbooks\",\n",
       "  \"books.sort(key=lambda book: book.get('price')                      if book.get('price').isDigit else\\n                            0                                      if book.get('price') == '-'          else\\n                            int(book.get('price').replace(',','')) if book.get('price'is str else\\n                            0,   reverse=True)\\nbooks\",\n",
       "  \"books.sort(key=lambda book: book.get('price')                      if book.get('price').isdigit() else\\n                            0                                      if book.get('price') == '-'          else\\n                            int(book.get('price').replace(',','')) if book.get('price'is str else\\n                            0,   reverse=True)\\nbooks\",\n",
       "  \"books.sort(key=lambda book: book.get('price')                      if book.get('price') is int else\\n                            0                                      if book.get('price') == '-'          else\\n                            int(book.get('price').replace(',','')) if book.get('price'is str else\\n                            0,   reverse=True)\\nbooks\",\n",
       "  \"books.sort(key=lambda book: book.get('price')                      if book.get('price') is int else\\n                            0                                      if book.get('price') == '-' else\\n                            int(book.get('price').replace(',','')) if book.get('price')is str  else\\n                            0,   reverse=True)\\nbooks\",\n",
       "  \"books.sort(key=lambda book: book.get('price')  if book.get('price') is int else\\n        int(book.get('price').replace(',','')) if book.get('price')is str and book.get('price').replace(',','').isdigit()  else\\n                            0,   reverse=True)\\nbooks\",\n",
       "  \"books.sort(key=lambda book: book.get('price')  if book.get('price') is int else\\n                            int(book.get('price').replace(',','')) if book.get('price')is str and book.get('price').replace(',','').isdigit()  else \\n                            0,   reverse=True)\\nbooks\",\n",
       "  \"books.sort(key=lambda book: book.get('price')  if book.get('price') is int else\\n                            int(book.get('price').replace(',','')) if book.get('price')is str and book.get('price').replace(',','').isdigit()  else \\n                            0,   reverse=True)\\nbooks\",\n",
       "  \"books.sort(key=lambda book: book.get('price')  if book.get('price') is int else\\n                            int(book.get('price').replace(',','')) if book.get('price')is str and book.get('price').replace(',','').isdigit()  else \\n                            0,   reverse=True)\\nbooks\",\n",
       "  \"books.sort(key=list(map(lambda book: book.get('price',0)), books), reversed = True)\\nbooks\",\n",
       "  \"books.sort(key=list(map(lambda book: book.get('price',0), books)), reversed = True)\\nbooks\",\n",
       "  \"books.sort(key=list(map(lambda book: book.get('price',0), books)), reverse = True)\\nbooks\",\n",
       "  \"books.sort(key=tuple(map(lambda book: book.get('price',0), books)), reverse = True)\\nbooks\",\n",
       "  \"books.sort(key=map(lambda book: book.get('price',0), books), reverse = True)\\nbooks\",\n",
       "  \"books.sort(key=(map(lambda book: book.get('price',0), books)), reverse = True)\\nbooks\",\n",
       "  \"type(map(lambda book: book.get('price',0), books))\",\n",
       "  \"books = [\\n    {'no':1, 'title':'강남 아파트 인사이트','writer':'오스틀로이드','price':'25,200'},\\n    {'no':2, 'title':'단 한번의 삶','writer':'김영하','price':'18,100'},\\n    {'no':3, 'title':'흔한나매19','writer':'백난도','price':'14,220'},\\n    {'no':4, 'title':'가격이잘못','writer':'홍길동','price':'-'},\\n    {'no':5, 'title':'가격이숫자','writer':'신길동','price':900},\\n    {'no':6, 'title':'가격이없음','writer':'김길동'}\\n]\\ncopy_books = books.copy()\",\n",
       "  \"books = [\\n    {'no':1, 'title':'강남 아파트 인사이트','writer':'오스틀로이드','price':'25,200'},\\n    {'no':2, 'title':'단 한번의 삶','writer':'김영하','price':'18,100'},\\n    {'no':3, 'title':'흔한나매19','writer':'백난도','price':'14,220'},\\n    {'no':4, 'title':'가격이잘못','writer':'홍길동','price':'-'},\\n    {'no':5, 'title':'가격이숫자','writer':'신길동','price':900},\\n    {'no':6, 'title':'가격이없음','writer':'김길동'}\\n]\\ncopy_books = books.copy()\\ncopy_books.sort()\",\n",
       "  \"books = [\\n    {'no':1, 'title':'강남 아파트 인사이트','writer':'오스틀로이드','price':'25,200'},\\n    {'no':2, 'title':'단 한번의 삶','writer':'김영하','price':'18,100'},\\n    {'no':3, 'title':'흔한나매19','writer':'백난도','price':'14,220'},\\n    {'no':4, 'title':'가격이잘못','writer':'홍길동','price':'-'},\\n    {'no':5, 'title':'가격이숫자','writer':'신길동','price':900},\\n    {'no':6, 'title':'가격이없음','writer':'김길동'}\\n]\\ncopy_books = books.copy()\\ncopy_books.sort()\",\n",
       "  \"books = [\\n    {'no':1, 'title':'강남 아파트 인사이트','writer':'오스틀로이드','price':'25,200'},\\n    {'no':2, 'title':'단 한번의 삶','writer':'김영하','price':'18,100'},\\n    {'no':3, 'title':'흔한나매19','writer':'백난도','price':'14,220'},\\n    {'no':4, 'title':'가격이잘못','writer':'홍길동','price':'-'},\\n    {'no':5, 'title':'가격이숫자','writer':'신길동','price':900},\\n    {'no':6, 'title':'가격이없음','writer':'김길동'}\\n]\\ncopy_books = books.copy()\\ncopy_books.sort(key=lambda book : book.get('titile'))\",\n",
       "  \"books = [\\n    {'no':1, 'title':'강남 아파트 인사이트','writer':'오스틀로이드','price':'25,200'},\\n    {'no':2, 'title':'단 한번의 삶','writer':'김영하','price':'18,100'},\\n    {'no':3, 'title':'흔한나매19','writer':'백난도','price':'14,220'},\\n    {'no':4, 'title':'가격이잘못','writer':'홍길동','price':'-'},\\n    {'no':5, 'title':'가격이숫자','writer':'신길동','price':900},\\n    {'no':6, 'title':'가격이없음','writer':'김길동'}\\n]\\ncopy_books = books.copy()\\ncopy_books.sort(key=lambda book : book.get('title'))\",\n",
       "  \"books = [\\n    {'no':1, 'title':'강남 아파트 인사이트','writer':'오스틀로이드','price':'25,200'},\\n    {'no':2, 'title':'단 한번의 삶','writer':'김영하','price':'18,100'},\\n    {'no':3, 'title':'흔한나매19','writer':'백난도','price':'14,220'},\\n    {'no':4, 'title':'가격이잘못','writer':'홍길동','price':'-'},\\n    {'no':5, 'title':'가격이숫자','writer':'신길동','price':900},\\n    {'no':6, 'title':'가격이없음','writer':'김길동'}\\n]\\ncopy_books = books.copy()\\ncopy_books.sort(key=lambda book : book.get('title'))\",\n",
       "  \"books = [\\n    {'no':1, 'title':'강남 아파트 인사이트','writer':'오스틀로이드','price':'25,200'},\\n    {'no':2, 'title':'단 한번의 삶','writer':'김영하','price':'18,100'},\\n    {'no':3, 'title':'흔한나매19','writer':'백난도','price':'14,220'},\\n    {'no':4, 'title':'가격이잘못','writer':'홍길동','price':'-'},\\n    {'no':5, 'title':'가격이숫자','writer':'신길동','price':900},\\n    {'no':6, 'title':'가격이없음','writer':'김길동'}\\n]\\ncopy_books = books.copy()\\ncopy_books.sort(key=lambda book : book.get('title'))\\ncopy_books\",\n",
       "  \"books = [\\n    {'no':1, 'title':'강남 아파트 인사이트','writer':'오스틀로이드','price':'25,200'},\\n    {'no':2, 'title':'단 한번의 삶','writer':'김영하','price':'18,100'},\\n    {'no':3, 'title':'흔한나매19','writer':'백난도','price':'14,220'},\\n    {'no':4, 'title':'가격이잘못','writer':'홍길동','price':'-'},\\n    {'no':5, 'title':'가격이숫자','writer':'신길동','price':900},\\n    {'no':6, 'title':'가격이없음','writer':'김길동'}\\n]\\ncopy_books = books.copy()\",\n",
       "  \"copy_books.sort(key=lambda book : book.get('title'))\\ncopy_books\",\n",
       "  \"copy_books.sort(key=lambda book : \\n                int(book.get('title').replace(',',''))\\n                    if isinstance(book.get('price'), str) and\\n                        book.get('price').replace(',','').isdigit() else\\n                book.get('price') if isinstance(book.get('price'), int) else\\n                0\\ncopy_books\",\n",
       "  \"copy_books.sort(key=lambda book : \\n                int(book.get('title').replace(',',''))\\n                    if isinstance(book.get('price'), str) and\\n                        book.get('price').replace(',','').isdigit() else\\n                book.get('price') if isinstance(book.get('price'), int) else\\n                0)\\ncopy_books\",\n",
       "  \"copy_books.sort(key=lambda book : \\n                int(book.get('price').replace(',',''))\\n                    if isinstance(book.get('price'), str) and\\n                        book.get('price').replace(',','').isdigit() else\\n                book.get('price') if isinstance(book.get('price'), int) else\\n                0  \\n               )\\ncopy_books\",\n",
       "  \"books.sort(key=lambda book: \\n           book.get('price')  if book.get('price') is int \\n           else int(book.get('price').replace(',','')) if book.get('price')is str \\n               and book.get('price').replace(',','').isdigit()  else \\n                            0,   reverse=True)\\nbooks\",\n",
       "  \"copy_books.sort(key=lambda book : \\n                int(book.get('price').replace(',',''))\\n                    if isinstance(book.get('price'), str) and\\n                        book.get('price').replace(',','').isdigit() else\\n                book.get('price') if isinstance(book.get('price'), int) else\\n                0  \\n               )\\ncopy_books\",\n",
       "  \"(lambda book : \\n                int(book.get('price').replace(',',''))\\n                    if isinstance(book.get('price'), str) and\\n                        book.get('price').replace(',','').isdigit() else\\n                book.get('price') if isinstance(book.get('price'), int) else\\n                0)(copy_books[0])\",\n",
       "  '# shape : [l]=> len가 l인 list를 생성하는 함수 return \\n#         [r,c] => r행 c열인 list를 생성하는 함수 return\\n#         [d,r,c] => d면 r행 c열 3차원 list를 생성하는 함수 return\\ndef make_box(shape):\\n    \\n    def box(init_value)\\n        if len(shape):\\n            return [init_value]*shape[0]',\n",
       "  '# shape : [l]=> len가 l인 list를 생성하는 함수 return \\n#         [r,c] => r행 c열인 list를 생성하는 함수 return\\n#         [d,r,c] => d면 r행 c열 3차원 list를 생성하는 함수 return\\ndef make_box(shape):\\n    \\n    def box(init_value):\\n        if len(shape):\\n            return [init_value]*shape[0]\\n        elif len(shape)==2',\n",
       "  '# shape : [l]=> len가 l인 list를 생성하는 함수 return \\n#         [r,c] => r행 c열인 list를 생성하는 함수 return\\n#         [d,r,c] => d면 r행 c열 3차원 list를 생성하는 함수 return\\ndef make_box(shape):\\n    \\n    def box(init_value):\\n        if len(shape):\\n            return [init_value]*shape[0]\\n        elif len(shape)==2:\\n            ',\n",
       "  '# shape : [l]=> len가 l인 list를 생성하는 함수 return \\n#         [r,c] => r행 c열인 list를 생성하는 함수 return\\n#         [d,r,c] => d면 r행 c열 3차원 list를 생성하는 함수 return\\ndef make_box(shape):\\n    \\n    def box(init_value):\\n        if len(shape):\\n            return [init_value]*shape[0]\\n        elif len(shape)==2:\\n            return [init_value]*shape[1]',\n",
       "  '# shape : [l]=> len가 l인 list를 생성하는 함수 return \\n#         [r,c] => r행 c열인 list를 생성하는 함수 return\\n#         [d,r,c] => d면 r행 c열 3차원 list를 생성하는 함수 return\\ndef make_box(shape):\\n    \\n    def box(init_value):\\n        if len(shape):\\n            return [init_value]*shape[0]\\n        elif len(shape)==2:\\n            return [[init_value]*shape[1]] * shape[0]',\n",
       "  '# shape : [l]=> len가 l인 list를 생성하는 함수 return \\n#         [r,c] => r행 c열인 list를 생성하는 함수 return\\n#         [d,r,c] => d면 r행 c열 3차원 list를 생성하는 함수 return\\ndef make_box(shape):\\n    \\n    def box(init_value):\\n        if len(shape):\\n            return [init_value]*shape[0]\\n        elif len(shape)==2:\\n            return [[init_value]*shape[1]] * shape[0]\\n    return box',\n",
       "  'line_func = make_box([2,3])',\n",
       "  'line_func = make_box([2,3])\\nline_func()',\n",
       "  'line_func = make_box([2,3])\\nline_func(3)',\n",
       "  'line_func1 = make_box([10])\\nline_func1(3)',\n",
       "  'def make_box(shape):\\n    if len(shape) == 1:\\n        return lambda init_value : [init_value]*shape[0]',\n",
       "  'def make_box(shape):\\n    if len(shape) == 1:\\n        return lambda init_value : [init_value]*shape[0]\\n    elif len(shape) == 2\\n        return lambda init_value : [[init_value]*shape[1]]*shape[0]',\n",
       "  'def make_box(shape):\\n    if len(shape) == 1:\\n        return lambda init_value : [init_value]*shape[0]\\n    elif len(shape) == 2:\\n        return lambda init_value : [[init_value]*shape[1]]*shape[0]',\n",
       "  'def make_box(shape):\\n    if len(shape) == 1:\\n        return lambda init_value : [init_value]*shape[0]\\n    elif len(shape) == 2:\\n        return lambda init_value : [[init_value]*shape[1]]*shape[0]\\n    ',\n",
       "  'line_func = make_box([2,3])',\n",
       "  'line_func = make_box([2,3])\\nline_func(3)',\n",
       "  '# 5절 파이썬 내장함수',\n",
       "  'globals() # 전역변수 리스크',\n",
       "  'globals() # 전역변수 리스트'],\n",
       " '_oh': {2: False,\n",
       "  7: [2, 4, 6, 8, 10, 12, 14, 16, 18],\n",
       "  9: [2, 4, 6, 8, 10, 12, 14, 16, 18, 20],\n",
       "  10: [2,\n",
       "   4,\n",
       "   6,\n",
       "   8,\n",
       "   10,\n",
       "   12,\n",
       "   14,\n",
       "   16,\n",
       "   18,\n",
       "   20,\n",
       "   22,\n",
       "   24,\n",
       "   26,\n",
       "   28,\n",
       "   30,\n",
       "   32,\n",
       "   34,\n",
       "   36,\n",
       "   38,\n",
       "   40,\n",
       "   42,\n",
       "   44,\n",
       "   46,\n",
       "   48,\n",
       "   50,\n",
       "   52,\n",
       "   54,\n",
       "   56,\n",
       "   58,\n",
       "   60,\n",
       "   62,\n",
       "   64,\n",
       "   66,\n",
       "   68,\n",
       "   70,\n",
       "   72,\n",
       "   74,\n",
       "   76,\n",
       "   78,\n",
       "   80,\n",
       "   82,\n",
       "   84,\n",
       "   86,\n",
       "   88,\n",
       "   90,\n",
       "   92,\n",
       "   94,\n",
       "   96,\n",
       "   98,\n",
       "   100,\n",
       "   102,\n",
       "   104,\n",
       "   106,\n",
       "   108,\n",
       "   110,\n",
       "   112,\n",
       "   114,\n",
       "   116,\n",
       "   118,\n",
       "   120,\n",
       "   122,\n",
       "   124,\n",
       "   126,\n",
       "   128,\n",
       "   130,\n",
       "   132,\n",
       "   134,\n",
       "   136,\n",
       "   138,\n",
       "   140,\n",
       "   142,\n",
       "   144,\n",
       "   146,\n",
       "   148,\n",
       "   150,\n",
       "   152,\n",
       "   154,\n",
       "   156,\n",
       "   158,\n",
       "   160,\n",
       "   162,\n",
       "   164,\n",
       "   166,\n",
       "   168,\n",
       "   170,\n",
       "   172,\n",
       "   174,\n",
       "   176,\n",
       "   178,\n",
       "   180,\n",
       "   182,\n",
       "   184,\n",
       "   186,\n",
       "   188,\n",
       "   190,\n",
       "   192,\n",
       "   194,\n",
       "   196,\n",
       "   198,\n",
       "   200,\n",
       "   202,\n",
       "   204,\n",
       "   206,\n",
       "   208,\n",
       "   210,\n",
       "   212,\n",
       "   214,\n",
       "   216,\n",
       "   218,\n",
       "   220,\n",
       "   222,\n",
       "   224],\n",
       "  11: [2, 4, 6, 8, 10, 12, 14, 16, 18, 20],\n",
       "  12: [2, 4, 6, 8, 10, 12, 14, 16, 18, 20],\n",
       "  14: <map at 0x244a9db0dc0>,\n",
       "  15: [<map at 0x244a8163460>],\n",
       "  16: [2, 4, 6, 8, 10, 12, 14, 16, 18, 20],\n",
       "  19: <generator object <genexpr> at 0x00000244AA7243C0>,\n",
       "  20: <map at 0x244a94a2f20>,\n",
       "  27: ['5000', '800', '1000', '6000'],\n",
       "  28: [5000, 800, 1000, 6000],\n",
       "  38: {'year': 20205, 'month': 1, 'day': '01'},\n",
       "  39: {'year': 20205, 'month': 1, 'day': '01'},\n",
       "  44: {'name': '홍길동', 'year': 2000, 'month': 1, 'day': 1},\n",
       "  45: [{'name': '홍길동', 'year': 2000, 'month': 1, 'day': 1},\n",
       "   {'name': '신길동', 'year': 1998, 'month': 12, 'day': 31}],\n",
       "  46: [{'name': '홍길동', 'year': 2000, 'month': 1, 'day': 1},\n",
       "   {'name': '신길동', 'year': 1998, 'month': 12, 'day': 31}],\n",
       "  48: [{'name': '홍길동', 'year': 2000, 'month': 1, 'day': 1},\n",
       "   {'name': '신길동', 'year': 1998, 'month': 12, 'day': 31}],\n",
       "  52: [{'name': '홍길동', 'year': 2000, 'month': 1, 'day': 1},\n",
       "   {'name': '신길동', 'year': 1998, 'month': 12, 'day': 31}],\n",
       "  54: [{'name': '홍길동', 'birth': '2000-1-1'},\n",
       "   {'name': '신길동', 'birth': '1998-12-31'}],\n",
       "  55: [{'name': '홍길동', 'birth': '2000-1-1'},\n",
       "   {'name': '신길동', 'birth': '1998-12-31'}],\n",
       "  56: False,\n",
       "  57: [{'name': '홍길동', 'birth': '2000-1-1'},\n",
       "   {'name': '신길동', 'birth': '1998-12-31'}],\n",
       "  58: [{'name': '홍길동', 'birth': '2000-01-01'},\n",
       "   {'name': '신길동', 'birth': '1998-12-31'}],\n",
       "  59: [{'name': '홍길동', 'year': 2000, 'month': 1, 'day': 1},\n",
       "   {'name': '신길동', 'year': 1998, 'month': 12, 'day': 31}],\n",
       "  60: [{'name': '홍길동', 'birth': '2000-1-1'},\n",
       "   {'name': '신길동', 'birth': '1998-12-31'}],\n",
       "  61: [{'name': '홍길동', 'birth': '2000-01-01'},\n",
       "   {'name': '신길동', 'birth': '1998-12-31'}],\n",
       "  62: [{'name': '홍길동', 'birth': '2000-1-1'},\n",
       "   {'name': '신길동', 'birth': '1998-12-31'}],\n",
       "  65: [{'name': '홍길동', 'birth': '2000-1-1'},\n",
       "   {'name': '신길동', 'birth': '1998-12-31'}],\n",
       "  69: [{'name': '홍길동', 'birth': '2000-1-1'},\n",
       "   {'name': '신길동', 'birth': '1998-12-31'}],\n",
       "  72: [{'name': '홍길동', 'birth': '2000-1 -1 '},\n",
       "   {'name': '신길동', 'birth': '1998-12-31'}],\n",
       "  73: [{'name': '홍길동', 'birth': '2000-1 -1 '},\n",
       "   {'name': '신길동', 'birth': '1998-12-31'}],\n",
       "  75: [{'name': '홍길동', 'birth': '2000-1 -1 '},\n",
       "   {'name': '신길동', 'birth': '1998-12-31'}],\n",
       "  77: [{'name': '홍길동', 'birth': '2000-1 -1 '},\n",
       "   {'name': '신길동', 'birth': '1998-12-31'}],\n",
       "  81: [{'name': '홍길동', 'birth': '2000-01-01'},\n",
       "   {'name': '신길동', 'birth': '1998-12-31'}],\n",
       "  93: [['name:홍길동', 'year:2000', 'month:1', 'day:1'],\n",
       "   ['name:신길동', 'year:1998', 'month:12', 'day:31']],\n",
       "  99: [['2000-01-01'], ['1998-12-31']],\n",
       "  100: ['2000-01-01', '1998-12-31'],\n",
       "  101: [{'name': '홍길동', 'birth': '2000-01-01'},\n",
       "   {'name': '신길동', 'birth': '1998-12-31'}],\n",
       "  102: True,\n",
       "  103: [{'name': '홍길동', 'birth': '2000-01-01'},\n",
       "   {'name': '신길동', 'birth': '1998-12-31'}],\n",
       "  108: [{'name': '홍길동', 'birth': '2000-01-01'},\n",
       "   {'name': '신길동', 'birth': '1998-12-31'}],\n",
       "  109: [{'name': '홍길동', 'birth': '2000-01-01'},\n",
       "   {'name': '신길동', 'birth': '1998-12-31'}],\n",
       "  112: [True, False, True, False, True],\n",
       "  116: [1, 'none', 3, 'none', 5],\n",
       "  117: [1, '', 3, '', 5],\n",
       "  120: [1, 0, 1, 0, 1],\n",
       "  121: [1, 3, 5],\n",
       "  127: [2, 4],\n",
       "  128: [1, 3, 5],\n",
       "  129: [2, 4],\n",
       "  130: [2, 4],\n",
       "  134: [54, 101, 11],\n",
       "  135: [54, 101, 11],\n",
       "  138: [(4, 'four'), (1, 'one'), (3, 'three'), (2, 'two')],\n",
       "  140: [(4, 'four'), (1, 'one'), (3, 'three'), (2, 'two')],\n",
       "  145: [[10, 1], [9, 9, 9, 9, 9, 9], [1, 100]],\n",
       "  146: [[1, 100], [9, 9, 9, 9, 9, 9], [10, 1]],\n",
       "  147: [[10, 1], [9, 9, 9, 9, 9, 9], [1, 100]],\n",
       "  148: [[1, 100], [9, 9, 9, 9, 9, 9], [10, 1]],\n",
       "  149: [[1, 100], [9, 9, 9, 9, 9, 9], [10, 1]],\n",
       "  150: [[1, 100], [9, 9, 9, 9, 9, 9], [10, 1]],\n",
       "  151: [[1, 100], [9, 9, 9, 9, 9, 9], [10, 1]],\n",
       "  152: [[1, 100], [9, 9, 9, 9, 9, 9], [10, 1]],\n",
       "  153: [[1, 100], [9, 9, 9, 9, 9, 9], [10, 1]],\n",
       "  154: 2.7556,\n",
       "  155: 17.78197125852809,\n",
       "  156: 17.056176513282043,\n",
       "  157: 16.330381768036002,\n",
       "  158: 16.693279140659023,\n",
       "  161: [{'name': '김길동', 'kor': 100, 'mat': 70},\n",
       "   {'name': '이길동', 'kor': 80, 'mat': 85},\n",
       "   {'name': '홍길동', 'kor': 90, 'mat': 100}],\n",
       "  162: [{'name': '김길동', 'kor': 100, 'mat': 70},\n",
       "   {'name': '이길동', 'kor': 80, 'mat': 85},\n",
       "   {'name': '홍길동', 'kor': 90, 'mat': 100}],\n",
       "  167: [{'name': '홍길동', 'kor': 90, 'mat': 100},\n",
       "   {'name': '김길동', 'kor': 100, 'mat': 70},\n",
       "   {'name': '이길동', 'kor': 80, 'mat': 85}],\n",
       "  168: [{'name': '홍길동', 'kor': 90, 'mat': 100},\n",
       "   {'name': '김길동', 'kor': 100, 'mat': 70},\n",
       "   {'name': '이길동', 'kor': 80, 'mat': 85}],\n",
       "  169: [{'name': '홍길동', 'kor': 90, 'mat': 100},\n",
       "   {'name': '김길동', 'kor': 100, 'mat': 70},\n",
       "   {'name': '이길동', 'kor': 80, 'mat': 85}],\n",
       "  170: [{'name': '홍길동', 'kor': 90, 'mat': 100},\n",
       "   {'name': '김길동', 'kor': 100, 'mat': 70},\n",
       "   {'name': '이길동', 'kor': 80, 'mat': 85}],\n",
       "  171: [{'name': '홍길동', 'kor': 90, 'mat': 100},\n",
       "   {'name': '김길동', 'kor': 100, 'mat': 70},\n",
       "   {'name': '이길동', 'kor': 80, 'mat': 85}],\n",
       "  172: [{'name': '홍길동', 'kor': 90, 'mat': 100},\n",
       "   {'name': '김길동', 'kor': 100, 'mat': 70},\n",
       "   {'name': '이길동', 'kor': 80, 'mat': 85}],\n",
       "  174: [{'name': '이길동', 'kor': 100, 'mat': 95},\n",
       "   {'name': '홍길동', 'kor': 90, 'mat': 100},\n",
       "   {'name': '김길동', 'kor': 80, 'mat': 85}],\n",
       "  177: [{'socre': 100},\n",
       "   {'name': '김길동', 'kor': 80, 'mat': 85},\n",
       "   {'name': '이길동', 'kor': 100, 'mat': 95},\n",
       "   {'name': '홍길동', 'kor': 90, 'mat': 100}],\n",
       "  180: [{'kor': 100, 'mat': 100},\n",
       "   {'name': '이길동', 'kor': 100, 'mat': 95},\n",
       "   {'name': '홍길동', 'kor': 90, 'mat': 100},\n",
       "   {'name': '김길동', 'kor': 80, 'mat': 85}],\n",
       "  181: [{'kor': 100, 'mat': 100},\n",
       "   {'name': '이길동', 'kor': 100, 'mat': 95},\n",
       "   {'name': '홍길동', 'kor': 90, 'mat': 100},\n",
       "   {'name': '김길동', 'kor': 80, 'mat': 85}],\n",
       "  182: [{'kor': 100, 'mat': 100},\n",
       "   {'name': '이길동', 'kor': 100, 'mat': 95},\n",
       "   {'name': '홍길동', 'kor': 90, 'mat': 100},\n",
       "   {'name': '김길동', 'kor': 80, 'mat': 85}],\n",
       "  183: [{'kor': 100, 'mat': 100},\n",
       "   {'name': '이길동', 'kor': 100, 'mat': 95},\n",
       "   {'name': '홍길동', 'kor': 90, 'mat': 100},\n",
       "   {'name': '김길동', 'kor': 80, 'mat': 85}],\n",
       "  188: [{'no': 6, 'title': '가격이없음', 'writer': '김길동'},\n",
       "   {'no': 2, 'title': '단 한번의 삶', 'writer': '김영하', 'price': '18,100'},\n",
       "   {'no': 3, 'title': '흔한나매19', 'writer': '백난도', 'price': '14,220'},\n",
       "   {'no': 5, 'title': '가격이 숫자', 'writer': '신길동', 'price': 900},\n",
       "   {'no': 1, 'title': '강남 아파트 인사이트', 'writer': '오스틀로이드', 'price': '25,200'},\n",
       "   {'no': 4, 'title': '가격이잘못', 'writer': '홍길동', 'price': '-'}],\n",
       "  190: [{'no': 6, 'title': '가격이없음', 'writer': '김길동'},\n",
       "   {'no': 2, 'title': '단 한번의 삶', 'writer': '김영하', 'price': '18,100'},\n",
       "   {'no': 3, 'title': '흔한나매19', 'writer': '백난도', 'price': '14,220'},\n",
       "   {'no': 5, 'title': '가격이 숫자', 'writer': '신길동', 'price': 900},\n",
       "   {'no': 1, 'title': '강남 아파트 인사이트', 'writer': '오스틀로이드', 'price': '25,200'},\n",
       "   {'no': 4, 'title': '가격이잘못', 'writer': '홍길동', 'price': '-'}],\n",
       "  196: True,\n",
       "  198: [{'no': 1,\n",
       "    'title': '강남 아파트 인사이트',\n",
       "    'writer': '오스틀로이드',\n",
       "    'price': '25,200'},\n",
       "   {'no': 2, 'title': '단 한번의 삶', 'writer': '김영하', 'price': '18,100'},\n",
       "   {'no': 3, 'title': '흔한나매19', 'writer': '백난도', 'price': '14,220'},\n",
       "   {'no': 5, 'title': '가격이숫자', 'writer': '신길동', 'price': 900},\n",
       "   {'no': 4, 'title': '가격이잘못', 'writer': '홍길동', 'price': '-'},\n",
       "   {'no': 6, 'title': '가격이없음', 'writer': '김길동'}],\n",
       "  199: [{'no': 1,\n",
       "    'title': '강남 아파트 인사이트',\n",
       "    'writer': '오스틀로이드',\n",
       "    'price': '25,200'},\n",
       "   {'no': 2, 'title': '단 한번의 삶', 'writer': '김영하', 'price': '18,100'},\n",
       "   {'no': 3, 'title': '흔한나매19', 'writer': '백난도', 'price': '14,220'},\n",
       "   {'no': 5, 'title': '가격이숫자', 'writer': '신길동', 'price': 900},\n",
       "   {'no': 4, 'title': '가격이잘못', 'writer': '홍길동', 'price': '-'},\n",
       "   {'no': 6, 'title': '가격이없음', 'writer': '김길동'}],\n",
       "  203: [{'no': 1,\n",
       "    'title': '강남 아파트 인사이트',\n",
       "    'writer': '오스틀로이드',\n",
       "    'price': '25,200'},\n",
       "   {'no': 2, 'title': '단 한번의 삶', 'writer': '김영하', 'price': '18,100'},\n",
       "   {'no': 3, 'title': '흔한나매19', 'writer': '백난도', 'price': '14,220'},\n",
       "   {'no': 5, 'title': '가격이숫자', 'writer': '신길동', 'price': 900},\n",
       "   {'no': 4, 'title': '가격이잘못', 'writer': '홍길동', 'price': '-'},\n",
       "   {'no': 6, 'title': '가격이없음', 'writer': '김길동'}],\n",
       "  204: [{'no': 1,\n",
       "    'title': '강남 아파트 인사이트',\n",
       "    'writer': '오스틀로이드',\n",
       "    'price': '25,200'},\n",
       "   {'no': 2, 'title': '단 한번의 삶', 'writer': '김영하', 'price': '18,100'},\n",
       "   {'no': 3, 'title': '흔한나매19', 'writer': '백난도', 'price': '14,220'},\n",
       "   {'no': 5, 'title': '가격이숫자', 'writer': '신길동', 'price': 900},\n",
       "   {'no': 4, 'title': '가격이잘못', 'writer': '홍길동', 'price': '-'},\n",
       "   {'no': 6, 'title': '가격이없음', 'writer': '김길동'}],\n",
       "  205: [{'no': 1,\n",
       "    'title': '강남 아파트 인사이트',\n",
       "    'writer': '오스틀로이드',\n",
       "    'price': '25,200'},\n",
       "   {'no': 2, 'title': '단 한번의 삶', 'writer': '김영하', 'price': '18,100'},\n",
       "   {'no': 3, 'title': '흔한나매19', 'writer': '백난도', 'price': '14,220'},\n",
       "   {'no': 5, 'title': '가격이숫자', 'writer': '신길동', 'price': 900},\n",
       "   {'no': 4, 'title': '가격이잘못', 'writer': '홍길동', 'price': '-'},\n",
       "   {'no': 6, 'title': '가격이없음', 'writer': '김길동'}],\n",
       "  206: [{'no': 1,\n",
       "    'title': '강남 아파트 인사이트',\n",
       "    'writer': '오스틀로이드',\n",
       "    'price': '25,200'},\n",
       "   {'no': 2, 'title': '단 한번의 삶', 'writer': '김영하', 'price': '18,100'},\n",
       "   {'no': 3, 'title': '흔한나매19', 'writer': '백난도', 'price': '14,220'},\n",
       "   {'no': 5, 'title': '가격이숫자', 'writer': '신길동', 'price': 900},\n",
       "   {'no': 4, 'title': '가격이잘못', 'writer': '홍길동', 'price': '-'},\n",
       "   {'no': 6, 'title': '가격이없음', 'writer': '김길동'}],\n",
       "  207: [{'no': 1,\n",
       "    'title': '강남 아파트 인사이트',\n",
       "    'writer': '오스틀로이드',\n",
       "    'price': '25,200'},\n",
       "   {'no': 2, 'title': '단 한번의 삶', 'writer': '김영하', 'price': '18,100'},\n",
       "   {'no': 3, 'title': '흔한나매19', 'writer': '백난도', 'price': '14,220'},\n",
       "   {'no': 5, 'title': '가격이숫자', 'writer': '신길동', 'price': 900},\n",
       "   {'no': 4, 'title': '가격이잘못', 'writer': '홍길동', 'price': '-'},\n",
       "   {'no': 6, 'title': '가격이없음', 'writer': '김길동'}],\n",
       "  214: map,\n",
       "  221: [{'no': 5, 'title': '가격이숫자', 'writer': '신길동', 'price': 900},\n",
       "   {'no': 6, 'title': '가격이없음', 'writer': '김길동'},\n",
       "   {'no': 4, 'title': '가격이잘못', 'writer': '홍길동', 'price': '-'},\n",
       "   {'no': 1, 'title': '강남 아파트 인사이트', 'writer': '오스틀로이드', 'price': '25,200'},\n",
       "   {'no': 2, 'title': '단 한번의 삶', 'writer': '김영하', 'price': '18,100'},\n",
       "   {'no': 3, 'title': '흔한나매19', 'writer': '백난도', 'price': '14,220'}],\n",
       "  223: [{'no': 6, 'title': '가격이없음', 'writer': '김길동'},\n",
       "   {'no': 4, 'title': '가격이잘못', 'writer': '홍길동', 'price': '-'},\n",
       "   {'no': 5, 'title': '가격이숫자', 'writer': '신길동', 'price': 900},\n",
       "   {'no': 3, 'title': '흔한나매19', 'writer': '백난도', 'price': '14,220'},\n",
       "   {'no': 2, 'title': '단 한번의 삶', 'writer': '김영하', 'price': '18,100'},\n",
       "   {'no': 1, 'title': '강남 아파트 인사이트', 'writer': '오스틀로이드', 'price': '25,200'}],\n",
       "  226: [{'no': 6, 'title': '가격이없음', 'writer': '김길동'},\n",
       "   {'no': 4, 'title': '가격이잘못', 'writer': '홍길동', 'price': '-'},\n",
       "   {'no': 5, 'title': '가격이숫자', 'writer': '신길동', 'price': 900},\n",
       "   {'no': 3, 'title': '흔한나매19', 'writer': '백난도', 'price': '14,220'},\n",
       "   {'no': 2, 'title': '단 한번의 삶', 'writer': '김영하', 'price': '18,100'},\n",
       "   {'no': 1, 'title': '강남 아파트 인사이트', 'writer': '오스틀로이드', 'price': '25,200'}],\n",
       "  227: [{'no': 1,\n",
       "    'title': '강남 아파트 인사이트',\n",
       "    'writer': '오스틀로이드',\n",
       "    'price': '25,200'},\n",
       "   {'no': 2, 'title': '단 한번의 삶', 'writer': '김영하', 'price': '18,100'},\n",
       "   {'no': 3, 'title': '흔한나매19', 'writer': '백난도', 'price': '14,220'},\n",
       "   {'no': 4, 'title': '가격이잘못', 'writer': '홍길동', 'price': '-'},\n",
       "   {'no': 5, 'title': '가격이숫자', 'writer': '신길동', 'price': 900},\n",
       "   {'no': 6, 'title': '가격이없음', 'writer': '김길동'}],\n",
       "  228: [{'no': 6, 'title': '가격이없음', 'writer': '김길동'},\n",
       "   {'no': 4, 'title': '가격이잘못', 'writer': '홍길동', 'price': '-'},\n",
       "   {'no': 5, 'title': '가격이숫자', 'writer': '신길동', 'price': 900},\n",
       "   {'no': 3, 'title': '흔한나매19', 'writer': '백난도', 'price': '14,220'},\n",
       "   {'no': 2, 'title': '단 한번의 삶', 'writer': '김영하', 'price': '18,100'},\n",
       "   {'no': 1, 'title': '강남 아파트 인사이트', 'writer': '오스틀로이드', 'price': '25,200'}],\n",
       "  229: 0,\n",
       "  238: [3, 3],\n",
       "  239: [3, 3, 3, 3, 3, 3, 3, 3, 3, 3],\n",
       "  245: [[3, 3, 3], [3, 3, 3]],\n",
       "  247: {...}},\n",
       " '_dh': [WindowsPath('C:/ai_x/source/01_python')],\n",
       " 'In': ['',\n",
       "  'from IPython.display import display, HTML \\ndisplay(HTML(\"\"\"\\n<style>\\ndiv.container{width:86% !important;}\\ndiv.cell.code_cell.rendered{width:100%;}\\ndiv.CodeMirror {font-family:Consolas; font-size:15pt;}\\ndiv.output {font-size:15pt; font-weight:bold;}\\ndiv.input {font-family:Consolas; font-size:15pt;}\\ndiv.prompt {min-width:70px;}\\ndiv#toc-wrapper{padding-top:120px;}\\ndiv.text_cell_render ul li{font-size:12pt;padding:5px;}\\ntable.dataframe{font-size:15px;}\\n</style>\\n\"\"\"))',\n",
       "  '1.1 + 0.1 == 1.2',\n",
       "  \"def map_template(func, L=[1,2,3]):\\n    '''\\n    L의 모든 요소를 func()함수를 적용시켜 return\\n    [2,4,6]\\n    '''\\n    result = []\\n    for l in L :\\n        result.append(func(l))\",\n",
       "  \"def map_template(func, L=[1,2,3]):\\n    '''\\n    L의 모든 요소를 func()함수를 적용시켜 return\\n    [2,4,6]\\n    '''\\n    result = []\\n    for l in L :\\n        result.append(func(l))\\n    return result\",\n",
       "  \"def map_template(func, L=[1,2,3]):\\n    '''\\n    L의 모든 요소를 func()함수를 적용시켜 return\\n    [2,4,6]\\n    '''\\n#     result = []\\n#     for l in L :\\n#         result.append(func(l))\\n    return [func(l) for l in L ]\",\n",
       "  'list_data = range(1,10)',\n",
       "  'list_data = range(1,10)\\nmap_template(lambda x : x*2, list_data)',\n",
       "  \"def map_template(func, L=[1,2,3]):\\n    '''\\n    L의 모든 요소를 func()함수를 적용시켜 return\\n    '''\\n#     result = []\\n#     for l in L :\\n#         result.append(func(l))\\n    return [func(l) for l in L ]\",\n",
       "  'list_data = range(1,11)\\nmap_template(lambda x : x*2, list_data)',\n",
       "  '#리스트 데이터를 가공하는 방법 1. map\\nlist_data = range(1,113)\\nmap_template(lambda x : x*2, list_data)',\n",
       "  '#리스트 데이터를 가공하는 방법 1. map\\nlist_data = range(1,11)\\nmap_template(lambda x : x*2, list_data)',\n",
       "  '#리스트 데이터를 가공하는 방법 1. 리스트컴프리핸션\\n[l*2 for l in list_data]',\n",
       "  '#리스트 데이터를 가공하는 방법 3. map(): 파이썬 내장함수\\nmap(list_data)',\n",
       "  '#리스트 데이터를 가공하는 방법 3. map(): 파이썬 내장함수\\nmap(lambda x : x*2, list_data)',\n",
       "  '#리스트 데이터를 가공하는 방법 3. map(): 파이썬 내장함수\\n[map(lambda x : x*2, list_data)]',\n",
       "  '#리스트 데이터를 가공하는 방법 3. map(): 파이썬 내장함수\\nlist(map(lambda x : x*2, list_data))',\n",
       "  \"#예제 1. [5000,800,1000,6000]로\\nimport re\\nprices = ['5,000','800','1000','6,000']\\n\\nmap(lambda x : re.sub(prices,','))\",\n",
       "  \"#예제 1. [5000,800,1000,6000]로\\nimport re\\nprices = ['5,000','800','1000','6,000']\\n\\nmap(lambda x : re.sub(',',prices))\",\n",
       "  \"#예제 1. [5000,800,1000,6000]로\\nimport re\\nprices = ['5,000','800','1000','6,000']\\n\\n(lambda x : re.sub(',', p) for p in prices )\",\n",
       "  \"#예제 1. [5000,800,1000,6000]로\\nimport re\\nprices = ['5,000','800','1000','6,000']\\n\\nmap((lambda x : re.sub(',', x)), prices )\",\n",
       "  \"#예제 1. [5000,800,1000,6000]로\\nimport re\\nprices = ['5,000','800','1000','6,000']\\n\\nlist(map((lambda x : re.sub(',', x)), prices ))\",\n",
       "  \"#예제 1. [5000,800,1000,6000]로\\nimport re\\nprices = ['5,000','800','1000','6,000']\\n\\nlist(map(lambda x : re.sub(',', x), prices ))\",\n",
       "  \"#예제 1. [5000,800,1000,6000]로\\nimport re\\nprices = ['5,000','800','1000','6,000']\\n\\nlist(map(lambda x : re.sub(',', x)), prices )\",\n",
       "  \"#예제 1. [5000,800,1000,6000]로\\nimport re\\nprices = ['5,000','800','1000','6,000']\\n\\nlist(map(lambda x : prices.replace(',', '')), prices )\",\n",
       "  \"#예제 1. [5000,800,1000,6000]로\\nimport re\\nprices = ['5,000','800','1000','6,000']\\n\\nlist(map(lambda x : re.sub(',', x), prices) )\",\n",
       "  \"#예제 1. [5000,800,1000,6000]로\\nimport re\\nprices = ['5,000','800','1000','6,000']\\n\\nlist(map(lambda x : x =re.sub(',', x), prices))\",\n",
       "  \"#예제 1. [5000,800,1000,6000]로\\nimport re\\nprices = ['5,000','800','1000','6,000']\\n\\nlist(map(lambda x : re.sub(',','', x), prices))\",\n",
       "  \"#예제 1. [5000,800,1000,6000]로\\nimport re\\nprices = ['5,000','800','1000','6,000']\\n\\nlist(map(lambda x : int(re.sub(',','', x)), prices))\",\n",
       "  \"def split_date(date):\\n    split_data = date.split('-')\",\n",
       "  \"split_date('20205-01-01')\",\n",
       "  \"def split_date(date):\\n    split_data = date.split('-')\\n    print(split_data)\",\n",
       "  \"split_date('20205-01-01')\",\n",
       "  \"def split_date(date):\\n    split_data = int(date.split('-'))\\n    print(split_data)\\n    #return{'year':int(split_data[0]),'month':int()}\",\n",
       "  \"split_date('20205-01-01')\",\n",
       "  \"def split_date(date):\\n    int(split_data) = date.split('-')\\n    print(split_data)\\n    #return{'year':int(split_data[0]),'month':int()}\",\n",
       "  \"def split_date(date):\\n    split_data = date.split('-')\\n    print(split_data)\\n    #return{'year':int(split_data[0]),'month':int()}\",\n",
       "  \"def split_date(date):\\n    split_data = date.split('-')\\n    return{'year':int(split_data[0]),'month':int(split_data[1]),'day':(split_data[2])}\",\n",
       "  \"split_date('20205-01-01')\",\n",
       "  \"split_date('20205-01-01')\",\n",
       "  \"member_func(member):\\n    return {\\n        'name' : member.get('name'),\\n        'year' : int(member.get('birth').split('-')[0])\\n        'month' : int(member.get('birth').split('-')[1])\\n        'day' : int(member.get('birth').split('-')[2])\\n    }\\nmember_func(member[0])\",\n",
       "  \"#에제 2. member1 =[{'name':'홍길동', 'birth':'2000-01-01'},{'name':'신길동', 'birth':'1998-12-31'}]\\n#       member2 = [{'name':'홍길동', 'year':'2000,'month':1, 'day': 1},{'name':'신길동', 'year':'1998,'month':12, 'day': 31}]\\nmember1 =[{'name':'홍길동', 'birth':'2000-01-01'},{'name':'신길동', 'birth':'1998-12-31'}]\",\n",
       "  \"member_func(member):\\n    return {\\n        'name' : member.get('name'),\\n        'year' : int(member.get('birth').split('-')[0])\\n        'month' : int(member.get('birth').split('-')[1])\\n        'day' : int(member.get('birth').split('-')[2])\\n    }\\nmember_func(member[0])\",\n",
       "  \"member_func(member):\\n    return {\\n        'name' : member.get('name'),\\n        'year' : int(member.get('birth').split('-')[0]),\\n        'month' : int(member.get('birth').split('-')[1]),\\n        'day' : int(member.get('birth').split('-')[2])\\n    }\\nmember_func(member1[0])\",\n",
       "  \"def member_func(member):\\n    return {\\n        'name' : member.get('name'),\\n        'year' : int(member.get('birth').split('-')[0]),\\n        'month' : int(member.get('birth').split('-')[1]),\\n        'day' : int(member.get('birth').split('-')[2])\\n    }\\nmember_func(member1[0])\",\n",
       "  'list(map(member_func, member1))',\n",
       "  \"list(map(lambda member: {'name' : member.get('name'),\\n                        'year' : int(member.get('birth').split('-')[0]),\\n                        'month' : int(member.get('birth').split('-')[1]),\\n                        'day' : int(member.get('birth').split('-')[2])}, member1))\",\n",
       "  \"member2 = list(map(lambda member: {\\n                        'name' : member.get('name'),\\n                        'year' : int(member.get('birth').split('-')[0]),\\n                        'month' : int(member.get('birth').split('-')[1]),\\n                        'day' : int(member.get('birth').split('-')[2])\\n                        }, member1))\",\n",
       "  'member2',\n",
       "  \"list(map(lambda member: {\\n                        'name' : member.get('name'),\\n                        'birth' : '-'.join([member.get('year'),member.get('month'),member.get('day')])\\n                        }, member1))\",\n",
       "  \"list(map(lambda member: {\\n                        'name' : member.get('name'),\\n                        'birth' : '-'.join([member.get('year'),member.get('month'),member.get('day')])\\n                        }, member2))\",\n",
       "  \"member2 = list(map(lambda member: {\\n                        'name' : member.get('name'),\\n                        'year' : int(member.get('birth').split('-')[0]),\\n                        'month' : int(member.get('birth').split('-')[1]),\\n                        'day' : int(member.get('birth').split('-')[2])\\n                        }, member1))\",\n",
       "  \"member2 = list(map(lambda member: {\\n                        'name' : member.get('name'),\\n                        'year' : int(member.get('birth').split('-')[0]),\\n                        'month' : int(member.get('birth').split('-')[1]),\\n                        'day' : int(member.get('birth').split('-')[2])\\n                        }, member1))\\nmember2\",\n",
       "  \"list(map(lambda member: {\\n                        'name' : member.get('name'),\\n                        'birth' : '-'.join([str(member.get('year')),str(strmember.get('month')),str(member.get('day'))])\\n                        }, member2))\",\n",
       "  \"list(map(lambda member: {\\n                        'name' : member.get('name'),\\n                        'birth' : '-'.join([str(member.get('year')),str(member.get('month')),str(member.get('day'))])\\n                        }, member2))\",\n",
       "  \"member3 = list(map(lambda member: {\\n                        'name' : member.get('name'),\\n                        'birth' : '-'.join([str(member.get('year')),str(member.get('month')),str(member.get('day'))])\\n                        }, member2))\\nmember3\",\n",
       "  \"member3 = list(map(lambda member: {\\n                        'name' : member.get('name'),\\n                        'birth' : '-'.join([str(member.get('year')),\\n                                            str(member.get('month')),\\n                                            str(member.get('day'))])\\n                        }, member2))\\nmember3 == member1\",\n",
       "  \"member3 = list(map(lambda member: {\\n                        'name' : member.get('name'),\\n                        'birth' : '-'.join([str(member.get('year')),\\n                                            str(member.get('month')),\\n                                            str(member.get('day'))])\\n                        }, member2))\\nmember3 \",\n",
       "  \"member3 = list(map(lambda member: {\\n                        'name' : member.get('name'),\\n                        'birth' : '-'.join([str(member.get('year')),\\n                                            str(member.get('month')),\\n                                            str(member.get('day'))])\\n                        }, member2))\\nmember1\",\n",
       "  \"member3 = list(map(lambda member: {\\n                        'name' : member.get('name'),\\n                        'birth' : '-'.join([str(member.get('year')),\\n                                            str(member.get('month')),\\n                                            str(member.get('day'))])\\n                        }, member2))\\nmember2\",\n",
       "  \"member3 = list(map(lambda member: {\\n                        'name' : member.get('name'),\\n                        'birth' : '-'.join([str(member.get('year')),\\n                                            str(member.get('month')),\\n                                            str(member.get('day'))])\\n                        }, member2))\\nmember3\",\n",
       "  \"member3 = list(map(lambda member: {\\n                        'name' : member.get('name'),\\n                        'birth' : '-'.join([str(member.get('year')),\\n                                            str(member.get('month')),\\n                                            str(member.get('day'))])\\n                        }, member2))\\nmember1\",\n",
       "  \"member3 = list(map(lambda member: {\\n                        'name' : member.get('name'),\\n                        'birth' : '-'.join([str(member.get('year')),\\n                                            str(member.get('month')),\\n                                            str(member.get('day'))])\\n                        }, member2))\\nmember3\",\n",
       "  \"member3 = list(map(lambda member: {\\n                        'name' : member.get('name'),\\n                        'birth' : '-'.join([str(member.get('year')),\\n                                            str(member.get('month'):2),\\n                                            str(member.get('day'))])\\n                        }, member2))\\nmember3\",\n",
       "  \"member3 = list(map(lambda member: {\\n                        'name' : member.get('name'),\\n                        'birth' : '-'.join([str(member.get('year')),\\n                                            str(member.get('month'):),\\n                                            str(member.get('day'))])\\n                        }, member2))\\nmember3\",\n",
       "  \"member3 = list(map(lambda member: {\\n                        'name' : member.get('name'),\\n                        'birth' : '-'.join([str(member.get('year')),\\n                                            str(member.get('month')),\\n                                            str(member.get('day'))])\\n                        }, member2))\\nmember3\",\n",
       "  \"member3 = list(map(lambda member: {\\n                        'name' : member.get('name'),\\n                        'birth' : '-'.join([str(member.get('year')),\\n                                            str(member.get('month')`),\\n                                            str(member.get('day'))])\\n                        }, member2))\\nmember3\\n'{:02}'.format('as')\",\n",
       "  'member3 = list(map(lambda member: {\\n                        \\'name\\' : member.get(\\'name\\'),\\n                        \\'birth\\' : \\'-\\'.join([str(member.get(\\'year\\')),\\n                                            str(member.get(\\'month\\')`),\\n                                            str(member.get(\\'day\\'))])\\n                        }, member2))\\nmember3\\n\\'{:\"0\"2}\\'.format(\\'as\\')',\n",
       "  \"member3 = list(map(lambda member: {\\n                        'name' : member.get('name'),\\n                        'birth' : '-'.join([str(member.get('year')),\\n                                            str(member.get('month')`),\\n                                            str(member.get('day'))])\\n                        }, member2))\\nmember3\",\n",
       "  \"member3 = list(map(lambda member: {\\n                        'name' : member.get('name'),\\n                        'birth' : '-'.join([str(member.get('year')),\\n                                            str(member.get('month')),\\n                                            str(member.get('day'))])\\n                        }, member2))\\nmember3\",\n",
       "  \"member3 = list(map(lambda member: {\\n                        'name' : member.get('name'),\\n                        'birth' : '{:02}-{02}-{02}'.format(str(member.get('year')),\\n                                                    str(member.get('month')),\\n                                                    str(member.get('day')))\\n                                    }, member2)\\nmember3\",\n",
       "  \"member3 = list(map(lambda member: {\\n                        'name' : member.get('name'),\\n                        'birth' : '{:02}-{02}-{02}'.format(str(member.get('year')),\\n                                                    str(member.get('month')),\\n                                                    str(member.get('day')))\\n                                    }, member2))\\nmember3\",\n",
       "  \"member3 = list(map(lambda member: {\\n                        'name' : member.get('name'),\\n                        'birth' : '{:2}-{:2}-{:2}'.format(str(member.get('year')),\\n                                                    str(member.get('month')),\\n                                                    str(member.get('day')))\\n                                    }, member2))\\nmember3\",\n",
       "  \"member3 = list(map(lambda member: {\\n                        'name' : member.get('name'),\\n                        'birth' : '{:02}-{:2}-{:2}'.format(str(member.get('year')),\\n                                                    str(member.get('month')),\\n                                                    str(member.get('day')))\\n                                    }, member2))\\nmember3\",\n",
       "  'member3 = list(map(lambda member: {\\n                        \\'name\\' : member.get(\\'name\\'),\\n                        \\'birth\\' : \\'{:\"0\"2}-{:2}-{:2}\\'.format(str(member.get(\\'year\\')),\\n                                                    str(member.get(\\'month\\')),\\n                                                    str(member.get(\\'day\\')))\\n                                    }, member2))\\nmember3',\n",
       "  \"member3 = list(map(lambda member: {\\n                        'name' : member.get('name'),\\n                        'birth' : '{:2}-{:2}-{:2}'.format(str(member.get('year')),\\n                                                    str(member.get('month')),\\n                                                    str(member.get('day')))\\n                                    }, member2))\\nmember3\",\n",
       "  \"member3 = list(map(lambda member: {\\n                        'name' : member.get('name'),\\n                        'birth' : '{0:2}-{:2}-{:2}'.format(str(member.get('year')),\\n                                                    str(member.get('month')),\\n                                                    str(member.get('day')))\\n                                    }, member2))\\nmember3\",\n",
       "  \"member3 = list(map(lambda member: {\\n                        'name' : member.get('name'),\\n                        'birth' : '{:2}-{:2}-{:2}'.format(str(member.get('year')),\\n                                                    str(member.get('month')),\\n                                                    str(member.get('day')))\\n                                    }, member2))\\nmember3\",\n",
       "  \"member3 = list(map(lambda member: {\\n                        'name' : member.get('name'),\\n                        'birth' : '-'.join(str(member.get('year') if member.get('year') > 0 else '0' + member.get('year')),\\n                                            str(member.get('month')),\\n                                            str(member.get('day')))\\n                                    }, member2))\\nmember3\",\n",
       "  \"member3 = list(map(lambda member: {\\n                        'name' : member.get('name'),\\n                        'birth' : '-'.join(str(member.get('year') if member.get('year') > 0 else '0' + str(member.get('year'))),\\n                                            str(member.get('month')),\\n                                            str(member.get('day')))\\n                                    }, member2))\\nmember3\",\n",
       "  \"member3 = list(map(lambda member: {\\n                        'name' : member.get('name'),\\n                        'birth' : '{}-{:02}-{:02}'.format(member.get('year')\\n                                                    member.get('month')\\n                                                    member.get('day'))\\n                                    }, member2))\\nmember3\",\n",
       "  \"member3 = list(map(lambda member: {\\n                        'name' : member.get('name'),\\n                        'birth' : '{}-{:02}-{:02}'.format(member.get('year'),\\n                                                    member.get('month'),\\n                                                    member.get('day'))\\n                                    }, member2))\\nmember3\",\n",
       "  \"member3 = list(map(lambda **member: {f'{key}:{item}'} for key, item in member.items()\\n                        #{\\n                        #'name' : member.get('name'),\\n                        #'birth' : '{}-{:02}-{:02}'.format(member.get('year'),\\n                        #                                  member.get('month'),\\n                        #                                  member.get('day'))\\n                        #            }\\n                   , **member2))\\nmember3\",\n",
       "  \"member3 = list(map(lambda member: {f'{key}:{item}'} for key, item in member.items()\\n                        #{\\n                        #'name' : member.get('name'),\\n                        #'birth' : '{}-{:02}-{:02}'.format(member.get('year'),\\n                        #                                  member.get('month'),\\n                        #                                  member.get('day'))\\n                        #            }\\n                   , **member2))\\nmember3\",\n",
       "  \"member3 = list(map(lambda **member: {f'{key}:{item}'} for key, item in member.items()\\n                        #{\\n                        #'name' : member.get('name'),\\n                        #'birth' : '{}-{:02}-{:02}'.format(member.get('year'),\\n                        #                                  member.get('month'),\\n                        #                                  member.get('day'))\\n                        #            }\\n                   , **member2))\\nmember3\",\n",
       "  \"member3 = list(map(lambda member: {f'{key}:{item}'} for key, item in member.items()\\n                        #{\\n                        #'name' : member.get('name'),\\n                        #'birth' : '{}-{:02}-{:02}'.format(member.get('year'),\\n                        #                                  member.get('month'),\\n                        #                                  member.get('day'))\\n                        #            }\\n                   , **member2))\\nmember3\",\n",
       "  \"member3 = list(map(lambda *member: {f'{key}:{item}'} for key, item in member.items()\\n                        #{\\n                        #'name' : member.get('name'),\\n                        #'birth' : '{}-{:02}-{:02}'.format(member.get('year'),\\n                        #                                  member.get('month'),\\n                        #                                  member.get('day'))\\n                        #            }\\n                   , **member2))\\nmember3\",\n",
       "  \"member3 = list(map(lambda member: {f'{key}:{item}'} for key, item in member.items()\\n                        #{\\n                        #'name' : member.get('name'),\\n                        #'birth' : '{}-{:02}-{:02}'.format(member.get('year'),\\n                        #                                  member.get('month'),\\n                        #                                  member.get('day'))\\n                        #            }\\n                   , **member2))\\nmember3\",\n",
       "  \"member3 = list(map(lambda member: {f'{key}:{item}'} for key, item in member.items()\\n                        #{\\n                        #'name' : member.get('name'),\\n                        #'birth' : '{}-{:02}-{:02}'.format(member.get('year'),\\n                        #                                  member.get('month'),\\n                        #                                  member.get('day'))\\n                        #            }\\n                   , member2))\\nmember3\",\n",
       "  \"member3 = list(map(lambda member: {f'{key}:{item}'} for key, item in member.items()\\n                        #{\\n                        #'name' : member.get('name'),\\n                        #'birth' : '{}-{:02}-{:02}'.format(member.get('year'),\\n                        #                                  member.get('month'),\\n                        #                                  member.get('day'))\\n                        #            }\\n                   , member2))\\nmember3\",\n",
       "  \"member3 = list(map(lambda *member: {f'{key}:{item}'} for key, item in member.items()\\n                        #{\\n                        #'name' : member.get('name'),\\n                        #'birth' : '{}-{:02}-{:02}'.format(member.get('year'),\\n                        #                                  member.get('month'),\\n                        #                                  member.get('day'))\\n                        #            }\\n                   , member2))\\nmember3\",\n",
       "  \"member3 = list(map(lambda member: {f'{key}:{item}'} for key, item in member.items()\\n                        #{\\n                        #'name' : member.get('name'),\\n                        #'birth' : '{}-{:02}-{:02}'.format(member.get('year'),\\n                        #                                  member.get('month'),\\n                        #                                  member.get('day'))\\n                        #            }\\n                   , member2))\\nmember3\",\n",
       "  \"member3 = list(map(lambda member: f'{key}:{item}' for key, item in member.items()\\n                        #{\\n                        #'name' : member.get('name'),\\n                        #'birth' : '{}-{:02}-{:02}'.format(member.get('year'),\\n                        #                                  member.get('month'),\\n                        #                                  member.get('day'))\\n                        #            }\\n                   , member2))\\nmember3\",\n",
       "  \"member3 = list(map(lambda member: [f'{key}:{item}' for key, item in member.items()]\\n                        #{\\n                        #'name' : member.get('name'),\\n                        #'birth' : '{}-{:02}-{:02}'.format(member.get('year'),\\n                        #                                  member.get('month'),\\n                        #                                  member.get('day'))\\n                        #            }\\n                   , member2))\\nmember3\",\n",
       "  \"member3 = list(map(lambda member: ['{year}-{month:02}-{day:02}'.format(item) for value in member.values()]\\n                        #{\\n                        #'name' : member.get('name'),\\n                        #'birth' : '{}-{:02}-{:02}'.format(member.get('year'),\\n                        #                                  member.get('month'),\\n                        #                                  member.get('day'))\\n                        #            }\\n                   , member2))\\nmember3\",\n",
       "  \"member3 = list(map(lambda member: ['{year}-{month:02}-{day:02}'.format(value) for value in member.values()]\\n                        #{\\n                        #'name' : member.get('name'),\\n                        #'birth' : '{}-{:02}-{:02}'.format(member.get('year'),\\n                        #                                  member.get('month'),\\n                        #                                  member.get('day'))\\n                        #            }\\n                   , member2))\\nmember3\",\n",
       "  \"member3 = list(map(lambda member: ['{year}-{month:02}-{day:02}'.format(value) for value in member.value()]\\n                        #{\\n                        #'name' : member.get('name'),\\n                        #'birth' : '{}-{:02}-{:02}'.format(member.get('year'),\\n                        #                                  member.get('month'),\\n                        #                                  member.get('day'))\\n                        #            }\\n                   , member2))\\nmember3\",\n",
       "  \"member3 = list(map(lambda member: ['{year}-{month:02}-{day:02}'.format(value) for value in member.values()]\\n                        #{\\n                        #'name' : member.get('name'),\\n                        #'birth' : '{}-{:02}-{:02}'.format(member.get('year'),\\n                        #                                  member.get('month'),\\n                        #                                  member.get('day'))\\n                        #            }\\n                   , member2))\\nmember3\",\n",
       "  \"member3 = list(map(lambda member: ['{year}-{month:02}-{day:02}'.format(member) ]\\n                        #{\\n                        #'name' : member.get('name'),\\n                        #'birth' : '{}-{:02}-{:02}'.format(member.get('year'),\\n                        #                                  member.get('month'),\\n                        #                                  member.get('day'))\\n                        #            }\\n                   , member2))\\nmember3\",\n",
       "  \"member3 = list(map(lambda member: ['{year}-{month:02}-{day:02}'.format(**member) ]\\n                        #{\\n                        #'name' : member.get('name'),\\n                        #'birth' : '{}-{:02}-{:02}'.format(member.get('year'),\\n                        #                                  member.get('month'),\\n                        #                                  member.get('day'))\\n                        #            }\\n                   , member2))\\nmember3\",\n",
       "  \"member3 = list(map(lambda member: '{year}-{month:02}-{day:02}'.format(**member) \\n                        #{\\n                        #'name' : member.get('name'),\\n                        #'birth' : '{}-{:02}-{:02}'.format(member.get('year'),\\n                        #                                  member.get('month'),\\n                        #                                  member.get('day'))\\n                        #            }\\n                   , member2))\\nmember3\",\n",
       "  \"member3 = list(map(lambda member:  \\n                        {\\n                        'name' : member.get('name'),\\n                        'birth' : '{year}-{month:02}-{day:02}'.format(**member)\\n                                    }\\n                   , member2))\\nmember3\",\n",
       "  \"member3 = list(map(lambda member:  \\n                        {\\n                        'name' : member.get('name'),\\n                        'birth' : '{year}-{month:02}-{day:02}'.format(**member)\\n                                    }\\n                   , member2))\\nmember3==member1\",\n",
       "  \"member3 = list(map(lambda member:  \\n                        {\\n                        'name' : member.get('name'),\\n                        'birth' : '{year}-{month:02}-{day:02}'.format(**member)\\n                                    }\\n                   , member2))\\nmember3\",\n",
       "  \"member3 = list(map(lambda member:  \\n                        {\\n                        'name' : member.get('name'),\\n                        'birth' : '{year}-{month:02}-{day:02}'.format(**member)\\n                        }, member2))\\nprint(**member3)\",\n",
       "  \"member3 = list(map(lambda member:  \\n                        {\\n                        'name' : member.get('name'),\\n                        'birth' : '{year}-{month:02}-{day:02}'.format(**member)\\n                        }, member2))\\nprint(member3)\",\n",
       "  \"member3 = list(map(lambda member:  \\n                        {\\n                        'name' : member.get('name'),\\n                        'birth' : '{year}-{month:02}-{day:02}'.format(**member)\\n                        }, member2))\\nlist(map(lambda a : a, **member3))\\n#print(member3)\",\n",
       "  \"member3 = list(map(lambda member:  \\n                        {\\n                        'name' : member.get('name'),\\n                        'birth' : '{year}-{month:02}-{day:02}'.format(**member)\\n                        }, member2))\\nprint(member3)\",\n",
       "  \"member3 = list(map(lambda member:  \\n                        {\\n                        'name' : member.get('name'),\\n                        'birth' : '{year}-{month:02}-{day:02}'.format(**member)\\n                        }, member2))\\nmember3\",\n",
       "  \"member3 = list(map(lambda member:  \\n                        {\\n                        'name' : member.get('name'),\\n                        'birth' : '{year}-{month:02}-{day:02}'.format(**member)\\n                        }, member2))\\nmember3\",\n",
       "  'data = [1,2,3,4,5]\\nlist(lambda x = x%2==1, data)',\n",
       "  'data = [1,2,3,4,5]\\nlist(lambda x :x%2==1, data)',\n",
       "  'data = [1,2,3,4,5]\\nlist(map(lambda x :x%2==1, data))',\n",
       "  'data = [1,2,3,4,5]\\nlist(map(lambda x : x if x%2==1, data))',\n",
       "  'data = [1,2,3,4,5]\\nlist(map(lambda x : x if x%2==1, data))',\n",
       "  'data = [1,2,3,4,5]\\nlist(map(lambda x : x if x%2, data))',\n",
       "  \"data = [1,2,3,4,5]\\nlist(map(lambda x : x if x%2 else 'none', data))\",\n",
       "  \"data = [1,2,3,4,5]\\nlist(map(lambda x : x if x%2 else '', data))\",\n",
       "  'data = [1,2,3,4,5]\\nlist(map(lambda x : x if x%2, data))',\n",
       "  'data = [1,2,3,4,5]\\nlist(map(lambda x : [x if x%2] , data))',\n",
       "  'data = [1,2,3,4,5]\\nlist(map(lambda x : x%2 , data))',\n",
       "  'data = [1,2,3,4,5]\\nlist(filter(lambda x : x%2==1 , data))',\n",
       "  '## (2) filter',\n",
       "  'def filter_template(func,L[]):\\n    result = []\\n    for l in L:\\n        if func(l):\\n            result.append(l)\\n    return result',\n",
       "  'def evenChk(value):\\n    return value%2==0 else False',\n",
       "  'def evenChk(value):\\n    return value%2==0',\n",
       "  'def filter_template(func,L=[]):\\n    result = []\\n    for l in L:\\n        if func(l):\\n            result.append(l)\\n    return result',\n",
       "  'list_data = [1,2,3,4,5]\\nfilter_template(lambda value: value%2==0, list_data)',\n",
       "  'data = [1,2,3,4,5]\\nlist(filter(lambda x : x%2==1 , data))',\n",
       "  '[num for num in data if num%2==0]',\n",
       "  '[num for num in data if num%2==0]',\n",
       "  '### (3)',\n",
       "  'number2d = ([9,9,9,9,9,9],\\n           [1,100],\\n           [10,1])',\n",
       "  'number_sum = [sum(num) for num in number2d]',\n",
       "  'number_sum = [sum(num) for num in number2d]\\nnumber_sum',\n",
       "  '[sum(num) for num in number2d].sort()\\nnumber_sum',\n",
       "  '[sum(num) for num in number2d].sort()',\n",
       "  \"paris = [(2,'two'),(1,'one'),(4,'four'),(3,'three')]\",\n",
       "  \"paris = [(2,'two'),(1,'one'),(4,'four'),(3,'three')]\\nparis.sort()\\nparis\",\n",
       "  'paris.sort(key=lambda pair : pair[1])',\n",
       "  'paris.sort(key=lambda pair : pair[1])\\nparis',\n",
       "  'number2d = ([9,9,9,9,9,9],\\n           [1,100],\\n           [10,1])\\nnumber2d.sort(key=lambda number2d: sum(number2d))',\n",
       "  'number2d = ([9,9,9,9,9,9],\\n           [1,100],\\n           [10,1])\\nnumber2d.sort(key=lambda item: sum(number2d))',\n",
       "  'number2d = ([9,9,9,9,9,9],\\n           [1,100],\\n           [10,1])\\nnumber2d.sort(key=lambda item: sum(item))',\n",
       "  'number2d = [[9,9,9,9,9,9],\\n           [1,100],\\n           [10,1]]\\nnumber2d.sort(key=lambda item: sum(item))',\n",
       "  'number2d = [[9,9,9,9,9,9],\\n           [1,100],\\n           [10,1]]\\nnumber2d.sort(key=lambda item: sum(item))\\nnumber2d',\n",
       "  'number2d = [[9,9,9,9,9,9],\\n           [1,100],\\n           [10,1]]\\nnumber2d.sort(key=lambda item: sum(item), reverse=True)\\nnumber2d',\n",
       "  'number2d = [[9,9,9,9,9,9],\\n           [1,100],\\n           [10,1]]\\nnumber2d.sort(key=lambda item: sum(item), reverse=False)\\nnumber2d',\n",
       "  'number2d = [[9,9,9,9,9,9],\\n           [1,100],\\n           [10,1]]\\nnumber2d.sort(key=lambda item: sum(item), reverse=True)\\nnumber2d',\n",
       "  'number2d = [[9,9,9,9,9,9],\\n           [1,100],\\n           [10,1]]\\nnumber2d.sort(key=lambda item: sum(item), reverse=True)\\nnumber2d',\n",
       "  'number2d = [[9,9,9,9,9,9],\\n           [1,100],\\n           [10,1]]\\nnumber2d.sort(key=lambda item: sum(item), reverse=True)\\nnumber2d',\n",
       "  'number2d = [[9,9,9,9,9,9],\\n           [1,100],\\n           [10,1]]\\nnumber2d.sort(key=lambda item: sum(item), reverse=True)\\nnumber2d',\n",
       "  'number2d = [[9,9,9,9,9,9],\\n           [1,100],\\n           [10,1]]\\nnumber2d.sort(key=lambda item: sum(item), reverse=True)\\nnumber2d',\n",
       "  'number2d = [[9,9,9,9,9,9],\\n           [1,100],\\n           [10,1]]\\nnumber2d.sort(key=lambda item: sum(item), reverse=True)\\nnumber2d',\n",
       "  '1.66**2',\n",
       "  '49/1.66**2',\n",
       "  '47/1.66**2',\n",
       "  '45/1.66**2',\n",
       "  '46/1.66**2',\n",
       "  \"students = [\\n    {'name':'홍길동','kor':90, 'mat':100},\\n    {'name':'김길동','kor':100, 'mat':70},\\n    {'name':'이길동','kor':80, 'mat':85}\\n]\",\n",
       "  \"students = [\\n    {'name':'홍길동','kor':90, 'mat':100},\\n    {'name':'김길동','kor':100, 'mat':70},\\n    {'name':'이길동','kor':80, 'mat':85}\\n]\\n\\nstudents.sort(key=lambda student : student.get('name'))\",\n",
       "  \"students = [\\n    {'name':'홍길동','kor':90, 'mat':100},\\n    {'name':'김길동','kor':100, 'mat':70},\\n    {'name':'이길동','kor':80, 'mat':85}\\n]\\n\\nstudents.sort(key=lambda student : student.get('name'))\\nstudents\",\n",
       "  \"students.sort(key=lambda student : student.get('name')) #이름순 정렬\\nstudents\",\n",
       "  \"students = [\\n    {'name':'홍길동','kor':90, 'mat':100},\\n    {'name':'김길동','kor':100, 'mat':70},\\n    {'name':'이길동','kor':80, 'mat':85}\\n]\",\n",
       "  \"students.sort(key=lambda student : sum(student.get('kor'), student.get('mat'))) #이름순 정렬\\nstudents\",\n",
       "  \"students.sort(key=lambda student : sum(int(student.get('kor')), int(student.get('mat')))) #이름순 정렬\\nstudents\",\n",
       "  \"students.sort(key=lambda student : sum(student.get('kor'), student.get('mat') )) #이름순 정렬\\nstudents\",\n",
       "  \"students.sort(key=lambda student : sum([student.get('kor'), student.get('mat')] )) #이름순 정렬\\nstudents\",\n",
       "  \"students.sort(key=lambda student : sum([student.get('kor'), student.get('mat')] )) #이름순 정렬\\nstudents\",\n",
       "  \"students.sort(key=lambda student : sum([student.get('kor'), student.get('mat')] ), reverse=True) #이름순 정렬\\nstudents\",\n",
       "  \"students.sort(key=lambda student : student.get('kor')+student.get('mat'), reverse=True) #이름순 정렬\\nstudents\",\n",
       "  \"students.sort(key=lambda student : student.get('kor')+student.get('mat'), reverse=True) #이름순 정렬\\nstudents\",\n",
       "  \"students.sort(key=lambda student : student.get('kor')+student.get('mat'), reverse=True) #점수합 정렬\\nstudents\",\n",
       "  \"students = [\\n    {'name':'홍길동','kor':90, 'mat':100},\\n    {'name':'김길동','kor':80, 'mat':85},\\n    {'name':'이길동','kor':100, 'mat':95}\\n]\",\n",
       "  \"students.sort(key=lambda student : student.get('kor')+student.get('mat'), reverse=True) #점수합 정렬\\nstudents\",\n",
       "  \"students = [\\n    {'name':'홍길동','kor':90, 'mat':100},\\n    {'name':'김길동','kor':80, 'mat':85},\\n    {'name':'이길동','kor':100, 'mat':95},\\n    {'socre':100}\\n]\",\n",
       "  \"students.sort(key=lambda student : student.get('name')) #이름순 정렬\\nstudents\",\n",
       "  \"students.sort(key=lambda student : str(student.get('name'))) #이름순 정렬\\nstudents\",\n",
       "  \"students.sort(key=lambda student : student.get('kor')+student.get('mat'), reverse=True) #점수합 정렬\\nstudents\",\n",
       "  \"students = [\\n    {'name':'홍길동','kor':90, 'mat':100},\\n    {'name':'김길동','kor':80, 'mat':85},\\n    {'name':'이길동','kor':100, 'mat':95},\\n    {'kor':100, 'mat':100}\\n]\",\n",
       "  \"students.sort(key=lambda student : student.get('kor')+student.get('mat'), reverse=True) #점수합 정렬\\nstudents\",\n",
       "  \"students.sort(key=lambda student : str(student.get('name'))) #이름순 정렬\\nstudents\",\n",
       "  \"students.sort(key=lambda student : student.get('name','가')) #이름순 정렬\\nstudents\",\n",
       "  \"students.sort(key=lambda student : student.get('kor',0)+student.get('mat',0), reverse=True) #점수합 정렬\\nstudents\",\n",
       "  \"#\\nbooks = [\\n    {'no':1, 'title':'강남 아파트 인사이트','writer':'오스틀로이드','price':'25,200'},\\n    {'no':2, 'title':'단 한번의 삶','writer':'김영하','price':'18,100'},\\n    {'no':3, 'title':'흔한나매19','writer':'백난도','price':'14,220'},\\n    {'no':4, 'title':'가격이잘못','writer':'홍길동','price':'-'},\\n]\",\n",
       "  \"#\\nbooks = [\\n    {'no':1, 'title':'강남 아파트 인사이트','writer':'오스틀로이드','price':'25,200'},\\n    {'no':2, 'title':'단 한번의 삶','writer':'김영하','price':'18,100'},\\n    {'no':3, 'title':'흔한나매19','writer':'백난도','price':'14,220'},\\n    {'no':4, 'title':'가격이잘못','writer':'홍길동','price':'-'},\\n]\",\n",
       "  \"#\\nbooks = [\\n    {'no':1, 'title':'강남 아파트 인사이트','writer':'오스틀로이드','price':'25,200'},\\n    {'no':2, 'title':'단 한번의 삶','writer':'김영하','price':'18,100'},\\n    {'no':3, 'title':'흔한나매19','writer':'백난도','price':'14,220'},\\n    {'no':4, 'title':'가격이잘못','writer':'홍길동','price':'-'},\\n    {'no':5, 'title':'가격이 숫자','writer':'신길동','price':900},\\n    {'no':6, 'title':'가격이없음','writer':'김길동'}\\n]\",\n",
       "  \"#책 제목순 정렬(ㄱㄴㄷㄹ), 저자순 정렬, 가격순 정렬\\nbooks = [\\n    {'no':1, 'title':'강남 아파트 인사이트','writer':'오스틀로이드','price':'25,200'},\\n    {'no':2, 'title':'단 한번의 삶','writer':'김영하','price':'18,100'},\\n    {'no':3, 'title':'흔한나매19','writer':'백난도','price':'14,220'},\\n    {'no':4, 'title':'가격이잘못','writer':'홍길동','price':'-'},\\n    {'no':5, 'title':'가격이 숫자','writer':'신길동','price':900},\\n    {'no':6, 'title':'가격이없음','writer':'김길동'}\\n]\",\n",
       "  \"books.sort(key=lambda book: book.get('title'))\\nbooks\",\n",
       "  \"books.sort(key=lambda book: book.get('wirter'))\\nbooks\",\n",
       "  \"books.sort(key=lambda book: book.get('writer'))\\nbooks\",\n",
       "  \"isinstance(book.get('price'),str)\",\n",
       "  \"isinstance(book.get('price'),string)\",\n",
       "  \"#책 제목순 정렬(ㄱㄴㄷㄹ), 저자순 정렬, 가격순 정렬\\nbooks = [\\n    {'no':1, 'title':'강남 아파트 인사이트','writer':'오스틀로이드','price':'25,200'},\\n    {'no':2, 'title':'단 한번의 삶','writer':'김영하','price':'18,100'},\\n    {'no':3, 'title':'흔한나매19','writer':'백난도','price':'14,220'},\\n    {'no':4, 'title':'가격이잘못','writer':'홍길동','price':'-'},\\n    {'no':5, 'title':'가격이숫자','writer':'신길동','price':900},\\n    {'no':6, 'title':'가격이없음','writer':'김길동'}\\n]\",\n",
       "  \"isinstance(books.get('price'),string)\",\n",
       "  \"isinstance('price',string)\",\n",
       "  \"isinstance('price',str)\",\n",
       "  \"books.sort(key=lambda book: book.get('price')    if isinstance(book.get('price'),int) else\\n                            0                    if book.get('price') == '-' else\\n                            int(book.replace(',','')) if isinstance(book.get('price'),str) else\\n                            0                 \\n          )\\nbooks\",\n",
       "  \"books.sort(key=lambda book: book.get('price')    if isinstance(book.get('price'),int) else\\n                            0                    if book.get('price') == '-' else\\n                            int(book.get('price').replace(',','')) if isinstance(book.get('price'),str) else\\n                            0                 \\n          )\\nbooks\",\n",
       "  \"books.sort(key=lambda book: book.get('price')    if isinstance(book.get('price'),int) else\\n                            0                    if book.get('price') == '-' else\\n                            int(book.get('price').replace(',','')) if isinstance(book.get('price'),str) else\\n                            0,   reverse=True)\\nbooks\",\n",
       "  \"books.sort(key=lambda book: book.get('price')                      if book.get('price').isDigit else\\n                            0                                      if book.get('price') == '-'          else\\n                            int(book.get('price').replace(',','')) if book.get('price'is str else\\n                            0,   reverse=True)\\nbooks\",\n",
       "  \"books.sort(key=lambda book: book.get('price')                      if book.get('price').isdigit() else\\n                            0                                      if book.get('price') == '-'          else\\n                            int(book.get('price').replace(',','')) if book.get('price'is str else\\n                            0,   reverse=True)\\nbooks\",\n",
       "  \"books.sort(key=lambda book: book.get('price')                      if book.get('price') is int else\\n                            0                                      if book.get('price') == '-'          else\\n                            int(book.get('price').replace(',','')) if book.get('price'is str else\\n                            0,   reverse=True)\\nbooks\",\n",
       "  \"books.sort(key=lambda book: book.get('price')                      if book.get('price') is int else\\n                            0                                      if book.get('price') == '-' else\\n                            int(book.get('price').replace(',','')) if book.get('price')is str  else\\n                            0,   reverse=True)\\nbooks\",\n",
       "  \"books.sort(key=lambda book: book.get('price')  if book.get('price') is int else\\n        int(book.get('price').replace(',','')) if book.get('price')is str and book.get('price').replace(',','').isdigit()  else\\n                            0,   reverse=True)\\nbooks\",\n",
       "  \"books.sort(key=lambda book: book.get('price')  if book.get('price') is int else\\n                            int(book.get('price').replace(',','')) if book.get('price')is str and book.get('price').replace(',','').isdigit()  else \\n                            0,   reverse=True)\\nbooks\",\n",
       "  \"books.sort(key=lambda book: book.get('price')  if book.get('price') is int else\\n                            int(book.get('price').replace(',','')) if book.get('price')is str and book.get('price').replace(',','').isdigit()  else \\n                            0,   reverse=True)\\nbooks\",\n",
       "  \"books.sort(key=lambda book: book.get('price')  if book.get('price') is int else\\n                            int(book.get('price').replace(',','')) if book.get('price')is str and book.get('price').replace(',','').isdigit()  else \\n                            0,   reverse=True)\\nbooks\",\n",
       "  \"books.sort(key=list(map(lambda book: book.get('price',0)), books), reversed = True)\\nbooks\",\n",
       "  \"books.sort(key=list(map(lambda book: book.get('price',0), books)), reversed = True)\\nbooks\",\n",
       "  \"books.sort(key=list(map(lambda book: book.get('price',0), books)), reverse = True)\\nbooks\",\n",
       "  \"books.sort(key=tuple(map(lambda book: book.get('price',0), books)), reverse = True)\\nbooks\",\n",
       "  \"books.sort(key=map(lambda book: book.get('price',0), books), reverse = True)\\nbooks\",\n",
       "  \"books.sort(key=(map(lambda book: book.get('price',0), books)), reverse = True)\\nbooks\",\n",
       "  \"type(map(lambda book: book.get('price',0), books))\",\n",
       "  \"books = [\\n    {'no':1, 'title':'강남 아파트 인사이트','writer':'오스틀로이드','price':'25,200'},\\n    {'no':2, 'title':'단 한번의 삶','writer':'김영하','price':'18,100'},\\n    {'no':3, 'title':'흔한나매19','writer':'백난도','price':'14,220'},\\n    {'no':4, 'title':'가격이잘못','writer':'홍길동','price':'-'},\\n    {'no':5, 'title':'가격이숫자','writer':'신길동','price':900},\\n    {'no':6, 'title':'가격이없음','writer':'김길동'}\\n]\\ncopy_books = books.copy()\",\n",
       "  \"books = [\\n    {'no':1, 'title':'강남 아파트 인사이트','writer':'오스틀로이드','price':'25,200'},\\n    {'no':2, 'title':'단 한번의 삶','writer':'김영하','price':'18,100'},\\n    {'no':3, 'title':'흔한나매19','writer':'백난도','price':'14,220'},\\n    {'no':4, 'title':'가격이잘못','writer':'홍길동','price':'-'},\\n    {'no':5, 'title':'가격이숫자','writer':'신길동','price':900},\\n    {'no':6, 'title':'가격이없음','writer':'김길동'}\\n]\\ncopy_books = books.copy()\\ncopy_books.sort()\",\n",
       "  \"books = [\\n    {'no':1, 'title':'강남 아파트 인사이트','writer':'오스틀로이드','price':'25,200'},\\n    {'no':2, 'title':'단 한번의 삶','writer':'김영하','price':'18,100'},\\n    {'no':3, 'title':'흔한나매19','writer':'백난도','price':'14,220'},\\n    {'no':4, 'title':'가격이잘못','writer':'홍길동','price':'-'},\\n    {'no':5, 'title':'가격이숫자','writer':'신길동','price':900},\\n    {'no':6, 'title':'가격이없음','writer':'김길동'}\\n]\\ncopy_books = books.copy()\\ncopy_books.sort()\",\n",
       "  \"books = [\\n    {'no':1, 'title':'강남 아파트 인사이트','writer':'오스틀로이드','price':'25,200'},\\n    {'no':2, 'title':'단 한번의 삶','writer':'김영하','price':'18,100'},\\n    {'no':3, 'title':'흔한나매19','writer':'백난도','price':'14,220'},\\n    {'no':4, 'title':'가격이잘못','writer':'홍길동','price':'-'},\\n    {'no':5, 'title':'가격이숫자','writer':'신길동','price':900},\\n    {'no':6, 'title':'가격이없음','writer':'김길동'}\\n]\\ncopy_books = books.copy()\\ncopy_books.sort(key=lambda book : book.get('titile'))\",\n",
       "  \"books = [\\n    {'no':1, 'title':'강남 아파트 인사이트','writer':'오스틀로이드','price':'25,200'},\\n    {'no':2, 'title':'단 한번의 삶','writer':'김영하','price':'18,100'},\\n    {'no':3, 'title':'흔한나매19','writer':'백난도','price':'14,220'},\\n    {'no':4, 'title':'가격이잘못','writer':'홍길동','price':'-'},\\n    {'no':5, 'title':'가격이숫자','writer':'신길동','price':900},\\n    {'no':6, 'title':'가격이없음','writer':'김길동'}\\n]\\ncopy_books = books.copy()\\ncopy_books.sort(key=lambda book : book.get('title'))\",\n",
       "  \"books = [\\n    {'no':1, 'title':'강남 아파트 인사이트','writer':'오스틀로이드','price':'25,200'},\\n    {'no':2, 'title':'단 한번의 삶','writer':'김영하','price':'18,100'},\\n    {'no':3, 'title':'흔한나매19','writer':'백난도','price':'14,220'},\\n    {'no':4, 'title':'가격이잘못','writer':'홍길동','price':'-'},\\n    {'no':5, 'title':'가격이숫자','writer':'신길동','price':900},\\n    {'no':6, 'title':'가격이없음','writer':'김길동'}\\n]\\ncopy_books = books.copy()\\ncopy_books.sort(key=lambda book : book.get('title'))\",\n",
       "  \"books = [\\n    {'no':1, 'title':'강남 아파트 인사이트','writer':'오스틀로이드','price':'25,200'},\\n    {'no':2, 'title':'단 한번의 삶','writer':'김영하','price':'18,100'},\\n    {'no':3, 'title':'흔한나매19','writer':'백난도','price':'14,220'},\\n    {'no':4, 'title':'가격이잘못','writer':'홍길동','price':'-'},\\n    {'no':5, 'title':'가격이숫자','writer':'신길동','price':900},\\n    {'no':6, 'title':'가격이없음','writer':'김길동'}\\n]\\ncopy_books = books.copy()\\ncopy_books.sort(key=lambda book : book.get('title'))\\ncopy_books\",\n",
       "  \"books = [\\n    {'no':1, 'title':'강남 아파트 인사이트','writer':'오스틀로이드','price':'25,200'},\\n    {'no':2, 'title':'단 한번의 삶','writer':'김영하','price':'18,100'},\\n    {'no':3, 'title':'흔한나매19','writer':'백난도','price':'14,220'},\\n    {'no':4, 'title':'가격이잘못','writer':'홍길동','price':'-'},\\n    {'no':5, 'title':'가격이숫자','writer':'신길동','price':900},\\n    {'no':6, 'title':'가격이없음','writer':'김길동'}\\n]\\ncopy_books = books.copy()\",\n",
       "  \"copy_books.sort(key=lambda book : book.get('title'))\\ncopy_books\",\n",
       "  \"copy_books.sort(key=lambda book : \\n                int(book.get('title').replace(',',''))\\n                    if isinstance(book.get('price'), str) and\\n                        book.get('price').replace(',','').isdigit() else\\n                book.get('price') if isinstance(book.get('price'), int) else\\n                0\\ncopy_books\",\n",
       "  \"copy_books.sort(key=lambda book : \\n                int(book.get('title').replace(',',''))\\n                    if isinstance(book.get('price'), str) and\\n                        book.get('price').replace(',','').isdigit() else\\n                book.get('price') if isinstance(book.get('price'), int) else\\n                0)\\ncopy_books\",\n",
       "  \"copy_books.sort(key=lambda book : \\n                int(book.get('price').replace(',',''))\\n                    if isinstance(book.get('price'), str) and\\n                        book.get('price').replace(',','').isdigit() else\\n                book.get('price') if isinstance(book.get('price'), int) else\\n                0  \\n               )\\ncopy_books\",\n",
       "  \"books.sort(key=lambda book: \\n           book.get('price')  if book.get('price') is int \\n           else int(book.get('price').replace(',','')) if book.get('price')is str \\n               and book.get('price').replace(',','').isdigit()  else \\n                            0,   reverse=True)\\nbooks\",\n",
       "  \"copy_books.sort(key=lambda book : \\n                int(book.get('price').replace(',',''))\\n                    if isinstance(book.get('price'), str) and\\n                        book.get('price').replace(',','').isdigit() else\\n                book.get('price') if isinstance(book.get('price'), int) else\\n                0  \\n               )\\ncopy_books\",\n",
       "  \"(lambda book : \\n                int(book.get('price').replace(',',''))\\n                    if isinstance(book.get('price'), str) and\\n                        book.get('price').replace(',','').isdigit() else\\n                book.get('price') if isinstance(book.get('price'), int) else\\n                0)(copy_books[0])\",\n",
       "  '# shape : [l]=> len가 l인 list를 생성하는 함수 return \\n#         [r,c] => r행 c열인 list를 생성하는 함수 return\\n#         [d,r,c] => d면 r행 c열 3차원 list를 생성하는 함수 return\\ndef make_box(shape):\\n    \\n    def box(init_value)\\n        if len(shape):\\n            return [init_value]*shape[0]',\n",
       "  '# shape : [l]=> len가 l인 list를 생성하는 함수 return \\n#         [r,c] => r행 c열인 list를 생성하는 함수 return\\n#         [d,r,c] => d면 r행 c열 3차원 list를 생성하는 함수 return\\ndef make_box(shape):\\n    \\n    def box(init_value):\\n        if len(shape):\\n            return [init_value]*shape[0]\\n        elif len(shape)==2',\n",
       "  '# shape : [l]=> len가 l인 list를 생성하는 함수 return \\n#         [r,c] => r행 c열인 list를 생성하는 함수 return\\n#         [d,r,c] => d면 r행 c열 3차원 list를 생성하는 함수 return\\ndef make_box(shape):\\n    \\n    def box(init_value):\\n        if len(shape):\\n            return [init_value]*shape[0]\\n        elif len(shape)==2:\\n            ',\n",
       "  '# shape : [l]=> len가 l인 list를 생성하는 함수 return \\n#         [r,c] => r행 c열인 list를 생성하는 함수 return\\n#         [d,r,c] => d면 r행 c열 3차원 list를 생성하는 함수 return\\ndef make_box(shape):\\n    \\n    def box(init_value):\\n        if len(shape):\\n            return [init_value]*shape[0]\\n        elif len(shape)==2:\\n            return [init_value]*shape[1]',\n",
       "  '# shape : [l]=> len가 l인 list를 생성하는 함수 return \\n#         [r,c] => r행 c열인 list를 생성하는 함수 return\\n#         [d,r,c] => d면 r행 c열 3차원 list를 생성하는 함수 return\\ndef make_box(shape):\\n    \\n    def box(init_value):\\n        if len(shape):\\n            return [init_value]*shape[0]\\n        elif len(shape)==2:\\n            return [[init_value]*shape[1]] * shape[0]',\n",
       "  '# shape : [l]=> len가 l인 list를 생성하는 함수 return \\n#         [r,c] => r행 c열인 list를 생성하는 함수 return\\n#         [d,r,c] => d면 r행 c열 3차원 list를 생성하는 함수 return\\ndef make_box(shape):\\n    \\n    def box(init_value):\\n        if len(shape):\\n            return [init_value]*shape[0]\\n        elif len(shape)==2:\\n            return [[init_value]*shape[1]] * shape[0]\\n    return box',\n",
       "  'line_func = make_box([2,3])',\n",
       "  'line_func = make_box([2,3])\\nline_func()',\n",
       "  'line_func = make_box([2,3])\\nline_func(3)',\n",
       "  'line_func1 = make_box([10])\\nline_func1(3)',\n",
       "  'def make_box(shape):\\n    if len(shape) == 1:\\n        return lambda init_value : [init_value]*shape[0]',\n",
       "  'def make_box(shape):\\n    if len(shape) == 1:\\n        return lambda init_value : [init_value]*shape[0]\\n    elif len(shape) == 2\\n        return lambda init_value : [[init_value]*shape[1]]*shape[0]',\n",
       "  'def make_box(shape):\\n    if len(shape) == 1:\\n        return lambda init_value : [init_value]*shape[0]\\n    elif len(shape) == 2:\\n        return lambda init_value : [[init_value]*shape[1]]*shape[0]',\n",
       "  'def make_box(shape):\\n    if len(shape) == 1:\\n        return lambda init_value : [init_value]*shape[0]\\n    elif len(shape) == 2:\\n        return lambda init_value : [[init_value]*shape[1]]*shape[0]\\n    ',\n",
       "  'line_func = make_box([2,3])',\n",
       "  'line_func = make_box([2,3])\\nline_func(3)',\n",
       "  '# 5절 파이썬 내장함수',\n",
       "  'globals() # 전역변수 리스크',\n",
       "  'globals() # 전역변수 리스트'],\n",
       " 'Out': {2: False,\n",
       "  7: [2, 4, 6, 8, 10, 12, 14, 16, 18],\n",
       "  9: [2, 4, 6, 8, 10, 12, 14, 16, 18, 20],\n",
       "  10: [2,\n",
       "   4,\n",
       "   6,\n",
       "   8,\n",
       "   10,\n",
       "   12,\n",
       "   14,\n",
       "   16,\n",
       "   18,\n",
       "   20,\n",
       "   22,\n",
       "   24,\n",
       "   26,\n",
       "   28,\n",
       "   30,\n",
       "   32,\n",
       "   34,\n",
       "   36,\n",
       "   38,\n",
       "   40,\n",
       "   42,\n",
       "   44,\n",
       "   46,\n",
       "   48,\n",
       "   50,\n",
       "   52,\n",
       "   54,\n",
       "   56,\n",
       "   58,\n",
       "   60,\n",
       "   62,\n",
       "   64,\n",
       "   66,\n",
       "   68,\n",
       "   70,\n",
       "   72,\n",
       "   74,\n",
       "   76,\n",
       "   78,\n",
       "   80,\n",
       "   82,\n",
       "   84,\n",
       "   86,\n",
       "   88,\n",
       "   90,\n",
       "   92,\n",
       "   94,\n",
       "   96,\n",
       "   98,\n",
       "   100,\n",
       "   102,\n",
       "   104,\n",
       "   106,\n",
       "   108,\n",
       "   110,\n",
       "   112,\n",
       "   114,\n",
       "   116,\n",
       "   118,\n",
       "   120,\n",
       "   122,\n",
       "   124,\n",
       "   126,\n",
       "   128,\n",
       "   130,\n",
       "   132,\n",
       "   134,\n",
       "   136,\n",
       "   138,\n",
       "   140,\n",
       "   142,\n",
       "   144,\n",
       "   146,\n",
       "   148,\n",
       "   150,\n",
       "   152,\n",
       "   154,\n",
       "   156,\n",
       "   158,\n",
       "   160,\n",
       "   162,\n",
       "   164,\n",
       "   166,\n",
       "   168,\n",
       "   170,\n",
       "   172,\n",
       "   174,\n",
       "   176,\n",
       "   178,\n",
       "   180,\n",
       "   182,\n",
       "   184,\n",
       "   186,\n",
       "   188,\n",
       "   190,\n",
       "   192,\n",
       "   194,\n",
       "   196,\n",
       "   198,\n",
       "   200,\n",
       "   202,\n",
       "   204,\n",
       "   206,\n",
       "   208,\n",
       "   210,\n",
       "   212,\n",
       "   214,\n",
       "   216,\n",
       "   218,\n",
       "   220,\n",
       "   222,\n",
       "   224],\n",
       "  11: [2, 4, 6, 8, 10, 12, 14, 16, 18, 20],\n",
       "  12: [2, 4, 6, 8, 10, 12, 14, 16, 18, 20],\n",
       "  14: <map at 0x244a9db0dc0>,\n",
       "  15: [<map at 0x244a8163460>],\n",
       "  16: [2, 4, 6, 8, 10, 12, 14, 16, 18, 20],\n",
       "  19: <generator object <genexpr> at 0x00000244AA7243C0>,\n",
       "  20: <map at 0x244a94a2f20>,\n",
       "  27: ['5000', '800', '1000', '6000'],\n",
       "  28: [5000, 800, 1000, 6000],\n",
       "  38: {'year': 20205, 'month': 1, 'day': '01'},\n",
       "  39: {'year': 20205, 'month': 1, 'day': '01'},\n",
       "  44: {'name': '홍길동', 'year': 2000, 'month': 1, 'day': 1},\n",
       "  45: [{'name': '홍길동', 'year': 2000, 'month': 1, 'day': 1},\n",
       "   {'name': '신길동', 'year': 1998, 'month': 12, 'day': 31}],\n",
       "  46: [{'name': '홍길동', 'year': 2000, 'month': 1, 'day': 1},\n",
       "   {'name': '신길동', 'year': 1998, 'month': 12, 'day': 31}],\n",
       "  48: [{'name': '홍길동', 'year': 2000, 'month': 1, 'day': 1},\n",
       "   {'name': '신길동', 'year': 1998, 'month': 12, 'day': 31}],\n",
       "  52: [{'name': '홍길동', 'year': 2000, 'month': 1, 'day': 1},\n",
       "   {'name': '신길동', 'year': 1998, 'month': 12, 'day': 31}],\n",
       "  54: [{'name': '홍길동', 'birth': '2000-1-1'},\n",
       "   {'name': '신길동', 'birth': '1998-12-31'}],\n",
       "  55: [{'name': '홍길동', 'birth': '2000-1-1'},\n",
       "   {'name': '신길동', 'birth': '1998-12-31'}],\n",
       "  56: False,\n",
       "  57: [{'name': '홍길동', 'birth': '2000-1-1'},\n",
       "   {'name': '신길동', 'birth': '1998-12-31'}],\n",
       "  58: [{'name': '홍길동', 'birth': '2000-01-01'},\n",
       "   {'name': '신길동', 'birth': '1998-12-31'}],\n",
       "  59: [{'name': '홍길동', 'year': 2000, 'month': 1, 'day': 1},\n",
       "   {'name': '신길동', 'year': 1998, 'month': 12, 'day': 31}],\n",
       "  60: [{'name': '홍길동', 'birth': '2000-1-1'},\n",
       "   {'name': '신길동', 'birth': '1998-12-31'}],\n",
       "  61: [{'name': '홍길동', 'birth': '2000-01-01'},\n",
       "   {'name': '신길동', 'birth': '1998-12-31'}],\n",
       "  62: [{'name': '홍길동', 'birth': '2000-1-1'},\n",
       "   {'name': '신길동', 'birth': '1998-12-31'}],\n",
       "  65: [{'name': '홍길동', 'birth': '2000-1-1'},\n",
       "   {'name': '신길동', 'birth': '1998-12-31'}],\n",
       "  69: [{'name': '홍길동', 'birth': '2000-1-1'},\n",
       "   {'name': '신길동', 'birth': '1998-12-31'}],\n",
       "  72: [{'name': '홍길동', 'birth': '2000-1 -1 '},\n",
       "   {'name': '신길동', 'birth': '1998-12-31'}],\n",
       "  73: [{'name': '홍길동', 'birth': '2000-1 -1 '},\n",
       "   {'name': '신길동', 'birth': '1998-12-31'}],\n",
       "  75: [{'name': '홍길동', 'birth': '2000-1 -1 '},\n",
       "   {'name': '신길동', 'birth': '1998-12-31'}],\n",
       "  77: [{'name': '홍길동', 'birth': '2000-1 -1 '},\n",
       "   {'name': '신길동', 'birth': '1998-12-31'}],\n",
       "  81: [{'name': '홍길동', 'birth': '2000-01-01'},\n",
       "   {'name': '신길동', 'birth': '1998-12-31'}],\n",
       "  93: [['name:홍길동', 'year:2000', 'month:1', 'day:1'],\n",
       "   ['name:신길동', 'year:1998', 'month:12', 'day:31']],\n",
       "  99: [['2000-01-01'], ['1998-12-31']],\n",
       "  100: ['2000-01-01', '1998-12-31'],\n",
       "  101: [{'name': '홍길동', 'birth': '2000-01-01'},\n",
       "   {'name': '신길동', 'birth': '1998-12-31'}],\n",
       "  102: True,\n",
       "  103: [{'name': '홍길동', 'birth': '2000-01-01'},\n",
       "   {'name': '신길동', 'birth': '1998-12-31'}],\n",
       "  108: [{'name': '홍길동', 'birth': '2000-01-01'},\n",
       "   {'name': '신길동', 'birth': '1998-12-31'}],\n",
       "  109: [{'name': '홍길동', 'birth': '2000-01-01'},\n",
       "   {'name': '신길동', 'birth': '1998-12-31'}],\n",
       "  112: [True, False, True, False, True],\n",
       "  116: [1, 'none', 3, 'none', 5],\n",
       "  117: [1, '', 3, '', 5],\n",
       "  120: [1, 0, 1, 0, 1],\n",
       "  121: [1, 3, 5],\n",
       "  127: [2, 4],\n",
       "  128: [1, 3, 5],\n",
       "  129: [2, 4],\n",
       "  130: [2, 4],\n",
       "  134: [54, 101, 11],\n",
       "  135: [54, 101, 11],\n",
       "  138: [(4, 'four'), (1, 'one'), (3, 'three'), (2, 'two')],\n",
       "  140: [(4, 'four'), (1, 'one'), (3, 'three'), (2, 'two')],\n",
       "  145: [[10, 1], [9, 9, 9, 9, 9, 9], [1, 100]],\n",
       "  146: [[1, 100], [9, 9, 9, 9, 9, 9], [10, 1]],\n",
       "  147: [[10, 1], [9, 9, 9, 9, 9, 9], [1, 100]],\n",
       "  148: [[1, 100], [9, 9, 9, 9, 9, 9], [10, 1]],\n",
       "  149: [[1, 100], [9, 9, 9, 9, 9, 9], [10, 1]],\n",
       "  150: [[1, 100], [9, 9, 9, 9, 9, 9], [10, 1]],\n",
       "  151: [[1, 100], [9, 9, 9, 9, 9, 9], [10, 1]],\n",
       "  152: [[1, 100], [9, 9, 9, 9, 9, 9], [10, 1]],\n",
       "  153: [[1, 100], [9, 9, 9, 9, 9, 9], [10, 1]],\n",
       "  154: 2.7556,\n",
       "  155: 17.78197125852809,\n",
       "  156: 17.056176513282043,\n",
       "  157: 16.330381768036002,\n",
       "  158: 16.693279140659023,\n",
       "  161: [{'name': '김길동', 'kor': 100, 'mat': 70},\n",
       "   {'name': '이길동', 'kor': 80, 'mat': 85},\n",
       "   {'name': '홍길동', 'kor': 90, 'mat': 100}],\n",
       "  162: [{'name': '김길동', 'kor': 100, 'mat': 70},\n",
       "   {'name': '이길동', 'kor': 80, 'mat': 85},\n",
       "   {'name': '홍길동', 'kor': 90, 'mat': 100}],\n",
       "  167: [{'name': '홍길동', 'kor': 90, 'mat': 100},\n",
       "   {'name': '김길동', 'kor': 100, 'mat': 70},\n",
       "   {'name': '이길동', 'kor': 80, 'mat': 85}],\n",
       "  168: [{'name': '홍길동', 'kor': 90, 'mat': 100},\n",
       "   {'name': '김길동', 'kor': 100, 'mat': 70},\n",
       "   {'name': '이길동', 'kor': 80, 'mat': 85}],\n",
       "  169: [{'name': '홍길동', 'kor': 90, 'mat': 100},\n",
       "   {'name': '김길동', 'kor': 100, 'mat': 70},\n",
       "   {'name': '이길동', 'kor': 80, 'mat': 85}],\n",
       "  170: [{'name': '홍길동', 'kor': 90, 'mat': 100},\n",
       "   {'name': '김길동', 'kor': 100, 'mat': 70},\n",
       "   {'name': '이길동', 'kor': 80, 'mat': 85}],\n",
       "  171: [{'name': '홍길동', 'kor': 90, 'mat': 100},\n",
       "   {'name': '김길동', 'kor': 100, 'mat': 70},\n",
       "   {'name': '이길동', 'kor': 80, 'mat': 85}],\n",
       "  172: [{'name': '홍길동', 'kor': 90, 'mat': 100},\n",
       "   {'name': '김길동', 'kor': 100, 'mat': 70},\n",
       "   {'name': '이길동', 'kor': 80, 'mat': 85}],\n",
       "  174: [{'name': '이길동', 'kor': 100, 'mat': 95},\n",
       "   {'name': '홍길동', 'kor': 90, 'mat': 100},\n",
       "   {'name': '김길동', 'kor': 80, 'mat': 85}],\n",
       "  177: [{'socre': 100},\n",
       "   {'name': '김길동', 'kor': 80, 'mat': 85},\n",
       "   {'name': '이길동', 'kor': 100, 'mat': 95},\n",
       "   {'name': '홍길동', 'kor': 90, 'mat': 100}],\n",
       "  180: [{'kor': 100, 'mat': 100},\n",
       "   {'name': '이길동', 'kor': 100, 'mat': 95},\n",
       "   {'name': '홍길동', 'kor': 90, 'mat': 100},\n",
       "   {'name': '김길동', 'kor': 80, 'mat': 85}],\n",
       "  181: [{'kor': 100, 'mat': 100},\n",
       "   {'name': '이길동', 'kor': 100, 'mat': 95},\n",
       "   {'name': '홍길동', 'kor': 90, 'mat': 100},\n",
       "   {'name': '김길동', 'kor': 80, 'mat': 85}],\n",
       "  182: [{'kor': 100, 'mat': 100},\n",
       "   {'name': '이길동', 'kor': 100, 'mat': 95},\n",
       "   {'name': '홍길동', 'kor': 90, 'mat': 100},\n",
       "   {'name': '김길동', 'kor': 80, 'mat': 85}],\n",
       "  183: [{'kor': 100, 'mat': 100},\n",
       "   {'name': '이길동', 'kor': 100, 'mat': 95},\n",
       "   {'name': '홍길동', 'kor': 90, 'mat': 100},\n",
       "   {'name': '김길동', 'kor': 80, 'mat': 85}],\n",
       "  188: [{'no': 6, 'title': '가격이없음', 'writer': '김길동'},\n",
       "   {'no': 2, 'title': '단 한번의 삶', 'writer': '김영하', 'price': '18,100'},\n",
       "   {'no': 3, 'title': '흔한나매19', 'writer': '백난도', 'price': '14,220'},\n",
       "   {'no': 5, 'title': '가격이 숫자', 'writer': '신길동', 'price': 900},\n",
       "   {'no': 1, 'title': '강남 아파트 인사이트', 'writer': '오스틀로이드', 'price': '25,200'},\n",
       "   {'no': 4, 'title': '가격이잘못', 'writer': '홍길동', 'price': '-'}],\n",
       "  190: [{'no': 6, 'title': '가격이없음', 'writer': '김길동'},\n",
       "   {'no': 2, 'title': '단 한번의 삶', 'writer': '김영하', 'price': '18,100'},\n",
       "   {'no': 3, 'title': '흔한나매19', 'writer': '백난도', 'price': '14,220'},\n",
       "   {'no': 5, 'title': '가격이 숫자', 'writer': '신길동', 'price': 900},\n",
       "   {'no': 1, 'title': '강남 아파트 인사이트', 'writer': '오스틀로이드', 'price': '25,200'},\n",
       "   {'no': 4, 'title': '가격이잘못', 'writer': '홍길동', 'price': '-'}],\n",
       "  196: True,\n",
       "  198: [{'no': 1,\n",
       "    'title': '강남 아파트 인사이트',\n",
       "    'writer': '오스틀로이드',\n",
       "    'price': '25,200'},\n",
       "   {'no': 2, 'title': '단 한번의 삶', 'writer': '김영하', 'price': '18,100'},\n",
       "   {'no': 3, 'title': '흔한나매19', 'writer': '백난도', 'price': '14,220'},\n",
       "   {'no': 5, 'title': '가격이숫자', 'writer': '신길동', 'price': 900},\n",
       "   {'no': 4, 'title': '가격이잘못', 'writer': '홍길동', 'price': '-'},\n",
       "   {'no': 6, 'title': '가격이없음', 'writer': '김길동'}],\n",
       "  199: [{'no': 1,\n",
       "    'title': '강남 아파트 인사이트',\n",
       "    'writer': '오스틀로이드',\n",
       "    'price': '25,200'},\n",
       "   {'no': 2, 'title': '단 한번의 삶', 'writer': '김영하', 'price': '18,100'},\n",
       "   {'no': 3, 'title': '흔한나매19', 'writer': '백난도', 'price': '14,220'},\n",
       "   {'no': 5, 'title': '가격이숫자', 'writer': '신길동', 'price': 900},\n",
       "   {'no': 4, 'title': '가격이잘못', 'writer': '홍길동', 'price': '-'},\n",
       "   {'no': 6, 'title': '가격이없음', 'writer': '김길동'}],\n",
       "  203: [{'no': 1,\n",
       "    'title': '강남 아파트 인사이트',\n",
       "    'writer': '오스틀로이드',\n",
       "    'price': '25,200'},\n",
       "   {'no': 2, 'title': '단 한번의 삶', 'writer': '김영하', 'price': '18,100'},\n",
       "   {'no': 3, 'title': '흔한나매19', 'writer': '백난도', 'price': '14,220'},\n",
       "   {'no': 5, 'title': '가격이숫자', 'writer': '신길동', 'price': 900},\n",
       "   {'no': 4, 'title': '가격이잘못', 'writer': '홍길동', 'price': '-'},\n",
       "   {'no': 6, 'title': '가격이없음', 'writer': '김길동'}],\n",
       "  204: [{'no': 1,\n",
       "    'title': '강남 아파트 인사이트',\n",
       "    'writer': '오스틀로이드',\n",
       "    'price': '25,200'},\n",
       "   {'no': 2, 'title': '단 한번의 삶', 'writer': '김영하', 'price': '18,100'},\n",
       "   {'no': 3, 'title': '흔한나매19', 'writer': '백난도', 'price': '14,220'},\n",
       "   {'no': 5, 'title': '가격이숫자', 'writer': '신길동', 'price': 900},\n",
       "   {'no': 4, 'title': '가격이잘못', 'writer': '홍길동', 'price': '-'},\n",
       "   {'no': 6, 'title': '가격이없음', 'writer': '김길동'}],\n",
       "  205: [{'no': 1,\n",
       "    'title': '강남 아파트 인사이트',\n",
       "    'writer': '오스틀로이드',\n",
       "    'price': '25,200'},\n",
       "   {'no': 2, 'title': '단 한번의 삶', 'writer': '김영하', 'price': '18,100'},\n",
       "   {'no': 3, 'title': '흔한나매19', 'writer': '백난도', 'price': '14,220'},\n",
       "   {'no': 5, 'title': '가격이숫자', 'writer': '신길동', 'price': 900},\n",
       "   {'no': 4, 'title': '가격이잘못', 'writer': '홍길동', 'price': '-'},\n",
       "   {'no': 6, 'title': '가격이없음', 'writer': '김길동'}],\n",
       "  206: [{'no': 1,\n",
       "    'title': '강남 아파트 인사이트',\n",
       "    'writer': '오스틀로이드',\n",
       "    'price': '25,200'},\n",
       "   {'no': 2, 'title': '단 한번의 삶', 'writer': '김영하', 'price': '18,100'},\n",
       "   {'no': 3, 'title': '흔한나매19', 'writer': '백난도', 'price': '14,220'},\n",
       "   {'no': 5, 'title': '가격이숫자', 'writer': '신길동', 'price': 900},\n",
       "   {'no': 4, 'title': '가격이잘못', 'writer': '홍길동', 'price': '-'},\n",
       "   {'no': 6, 'title': '가격이없음', 'writer': '김길동'}],\n",
       "  207: [{'no': 1,\n",
       "    'title': '강남 아파트 인사이트',\n",
       "    'writer': '오스틀로이드',\n",
       "    'price': '25,200'},\n",
       "   {'no': 2, 'title': '단 한번의 삶', 'writer': '김영하', 'price': '18,100'},\n",
       "   {'no': 3, 'title': '흔한나매19', 'writer': '백난도', 'price': '14,220'},\n",
       "   {'no': 5, 'title': '가격이숫자', 'writer': '신길동', 'price': 900},\n",
       "   {'no': 4, 'title': '가격이잘못', 'writer': '홍길동', 'price': '-'},\n",
       "   {'no': 6, 'title': '가격이없음', 'writer': '김길동'}],\n",
       "  214: map,\n",
       "  221: [{'no': 5, 'title': '가격이숫자', 'writer': '신길동', 'price': 900},\n",
       "   {'no': 6, 'title': '가격이없음', 'writer': '김길동'},\n",
       "   {'no': 4, 'title': '가격이잘못', 'writer': '홍길동', 'price': '-'},\n",
       "   {'no': 1, 'title': '강남 아파트 인사이트', 'writer': '오스틀로이드', 'price': '25,200'},\n",
       "   {'no': 2, 'title': '단 한번의 삶', 'writer': '김영하', 'price': '18,100'},\n",
       "   {'no': 3, 'title': '흔한나매19', 'writer': '백난도', 'price': '14,220'}],\n",
       "  223: [{'no': 6, 'title': '가격이없음', 'writer': '김길동'},\n",
       "   {'no': 4, 'title': '가격이잘못', 'writer': '홍길동', 'price': '-'},\n",
       "   {'no': 5, 'title': '가격이숫자', 'writer': '신길동', 'price': 900},\n",
       "   {'no': 3, 'title': '흔한나매19', 'writer': '백난도', 'price': '14,220'},\n",
       "   {'no': 2, 'title': '단 한번의 삶', 'writer': '김영하', 'price': '18,100'},\n",
       "   {'no': 1, 'title': '강남 아파트 인사이트', 'writer': '오스틀로이드', 'price': '25,200'}],\n",
       "  226: [{'no': 6, 'title': '가격이없음', 'writer': '김길동'},\n",
       "   {'no': 4, 'title': '가격이잘못', 'writer': '홍길동', 'price': '-'},\n",
       "   {'no': 5, 'title': '가격이숫자', 'writer': '신길동', 'price': 900},\n",
       "   {'no': 3, 'title': '흔한나매19', 'writer': '백난도', 'price': '14,220'},\n",
       "   {'no': 2, 'title': '단 한번의 삶', 'writer': '김영하', 'price': '18,100'},\n",
       "   {'no': 1, 'title': '강남 아파트 인사이트', 'writer': '오스틀로이드', 'price': '25,200'}],\n",
       "  227: [{'no': 1,\n",
       "    'title': '강남 아파트 인사이트',\n",
       "    'writer': '오스틀로이드',\n",
       "    'price': '25,200'},\n",
       "   {'no': 2, 'title': '단 한번의 삶', 'writer': '김영하', 'price': '18,100'},\n",
       "   {'no': 3, 'title': '흔한나매19', 'writer': '백난도', 'price': '14,220'},\n",
       "   {'no': 4, 'title': '가격이잘못', 'writer': '홍길동', 'price': '-'},\n",
       "   {'no': 5, 'title': '가격이숫자', 'writer': '신길동', 'price': 900},\n",
       "   {'no': 6, 'title': '가격이없음', 'writer': '김길동'}],\n",
       "  228: [{'no': 6, 'title': '가격이없음', 'writer': '김길동'},\n",
       "   {'no': 4, 'title': '가격이잘못', 'writer': '홍길동', 'price': '-'},\n",
       "   {'no': 5, 'title': '가격이숫자', 'writer': '신길동', 'price': 900},\n",
       "   {'no': 3, 'title': '흔한나매19', 'writer': '백난도', 'price': '14,220'},\n",
       "   {'no': 2, 'title': '단 한번의 삶', 'writer': '김영하', 'price': '18,100'},\n",
       "   {'no': 1, 'title': '강남 아파트 인사이트', 'writer': '오스틀로이드', 'price': '25,200'}],\n",
       "  229: 0,\n",
       "  238: [3, 3],\n",
       "  239: [3, 3, 3, 3, 3, 3, 3, 3, 3, 3],\n",
       "  245: [[3, 3, 3], [3, 3, 3]],\n",
       "  247: {...}},\n",
       " 'get_ipython': <bound method InteractiveShell.get_ipython of <ipykernel.zmqshell.ZMQInteractiveShell object at 0x00000244A7A0FD60>>,\n",
       " 'exit': <IPython.core.autocall.ZMQExitAutocall at 0x244a7a1f5e0>,\n",
       " 'quit': <IPython.core.autocall.ZMQExitAutocall at 0x244a7a1f5e0>,\n",
       " 'open': <function io.open(file, mode='r', buffering=-1, encoding=None, errors=None, newline=None, closefd=True, opener=None)>,\n",
       " '_': {...},\n",
       " '__': [[3, 3, 3], [3, 3, 3]],\n",
       " '___': [3, 3, 3, 3, 3, 3, 3, 3, 3, 3],\n",
       " '_i': 'globals() # 전역변수 리스크',\n",
       " '_ii': '# 5절 파이썬 내장함수',\n",
       " '_iii': 'line_func = make_box([2,3])\\nline_func(3)',\n",
       " '_i1': 'from IPython.display import display, HTML \\ndisplay(HTML(\"\"\"\\n<style>\\ndiv.container{width:86% !important;}\\ndiv.cell.code_cell.rendered{width:100%;}\\ndiv.CodeMirror {font-family:Consolas; font-size:15pt;}\\ndiv.output {font-size:15pt; font-weight:bold;}\\ndiv.input {font-family:Consolas; font-size:15pt;}\\ndiv.prompt {min-width:70px;}\\ndiv#toc-wrapper{padding-top:120px;}\\ndiv.text_cell_render ul li{font-size:12pt;padding:5px;}\\ntable.dataframe{font-size:15px;}\\n</style>\\n\"\"\"))',\n",
       " 'display': <function IPython.core.display_functions.display(*objs, include=None, exclude=None, metadata=None, transient=None, display_id=None, raw=False, clear=False, **kwargs)>,\n",
       " 'HTML': IPython.core.display.HTML,\n",
       " '_i2': '1.1 + 0.1 == 1.2',\n",
       " '_2': False,\n",
       " '_i3': \"def map_template(func, L=[1,2,3]):\\n    '''\\n    L의 모든 요소를 func()함수를 적용시켜 return\\n    [2,4,6]\\n    '''\\n    result = []\\n    for l in L :\\n        result.append(func(l))\",\n",
       " 'map_template': <function __main__.map_template(func, L=[1, 2, 3])>,\n",
       " '_i4': \"def map_template(func, L=[1,2,3]):\\n    '''\\n    L의 모든 요소를 func()함수를 적용시켜 return\\n    [2,4,6]\\n    '''\\n    result = []\\n    for l in L :\\n        result.append(func(l))\\n    return result\",\n",
       " '_i5': \"def map_template(func, L=[1,2,3]):\\n    '''\\n    L의 모든 요소를 func()함수를 적용시켜 return\\n    [2,4,6]\\n    '''\\n#     result = []\\n#     for l in L :\\n#         result.append(func(l))\\n    return [func(l) for l in L ]\",\n",
       " '_i6': 'list_data = range(1,10)',\n",
       " 'list_data': [1, 2, 3, 4, 5],\n",
       " '_i7': 'list_data = range(1,10)\\nmap_template(lambda x : x*2, list_data)',\n",
       " '_7': [2, 4, 6, 8, 10, 12, 14, 16, 18],\n",
       " '_i8': \"def map_template(func, L=[1,2,3]):\\n    '''\\n    L의 모든 요소를 func()함수를 적용시켜 return\\n    '''\\n#     result = []\\n#     for l in L :\\n#         result.append(func(l))\\n    return [func(l) for l in L ]\",\n",
       " '_i9': 'list_data = range(1,11)\\nmap_template(lambda x : x*2, list_data)',\n",
       " '_9': [2, 4, 6, 8, 10, 12, 14, 16, 18, 20],\n",
       " '_i10': '#리스트 데이터를 가공하는 방법 1. map\\nlist_data = range(1,113)\\nmap_template(lambda x : x*2, list_data)',\n",
       " '_10': [2,\n",
       "  4,\n",
       "  6,\n",
       "  8,\n",
       "  10,\n",
       "  12,\n",
       "  14,\n",
       "  16,\n",
       "  18,\n",
       "  20,\n",
       "  22,\n",
       "  24,\n",
       "  26,\n",
       "  28,\n",
       "  30,\n",
       "  32,\n",
       "  34,\n",
       "  36,\n",
       "  38,\n",
       "  40,\n",
       "  42,\n",
       "  44,\n",
       "  46,\n",
       "  48,\n",
       "  50,\n",
       "  52,\n",
       "  54,\n",
       "  56,\n",
       "  58,\n",
       "  60,\n",
       "  62,\n",
       "  64,\n",
       "  66,\n",
       "  68,\n",
       "  70,\n",
       "  72,\n",
       "  74,\n",
       "  76,\n",
       "  78,\n",
       "  80,\n",
       "  82,\n",
       "  84,\n",
       "  86,\n",
       "  88,\n",
       "  90,\n",
       "  92,\n",
       "  94,\n",
       "  96,\n",
       "  98,\n",
       "  100,\n",
       "  102,\n",
       "  104,\n",
       "  106,\n",
       "  108,\n",
       "  110,\n",
       "  112,\n",
       "  114,\n",
       "  116,\n",
       "  118,\n",
       "  120,\n",
       "  122,\n",
       "  124,\n",
       "  126,\n",
       "  128,\n",
       "  130,\n",
       "  132,\n",
       "  134,\n",
       "  136,\n",
       "  138,\n",
       "  140,\n",
       "  142,\n",
       "  144,\n",
       "  146,\n",
       "  148,\n",
       "  150,\n",
       "  152,\n",
       "  154,\n",
       "  156,\n",
       "  158,\n",
       "  160,\n",
       "  162,\n",
       "  164,\n",
       "  166,\n",
       "  168,\n",
       "  170,\n",
       "  172,\n",
       "  174,\n",
       "  176,\n",
       "  178,\n",
       "  180,\n",
       "  182,\n",
       "  184,\n",
       "  186,\n",
       "  188,\n",
       "  190,\n",
       "  192,\n",
       "  194,\n",
       "  196,\n",
       "  198,\n",
       "  200,\n",
       "  202,\n",
       "  204,\n",
       "  206,\n",
       "  208,\n",
       "  210,\n",
       "  212,\n",
       "  214,\n",
       "  216,\n",
       "  218,\n",
       "  220,\n",
       "  222,\n",
       "  224],\n",
       " '_i11': '#리스트 데이터를 가공하는 방법 1. map\\nlist_data = range(1,11)\\nmap_template(lambda x : x*2, list_data)',\n",
       " '_11': [2, 4, 6, 8, 10, 12, 14, 16, 18, 20],\n",
       " '_i12': '#리스트 데이터를 가공하는 방법 1. 리스트컴프리핸션\\n[l*2 for l in list_data]',\n",
       " '_12': [2, 4, 6, 8, 10, 12, 14, 16, 18, 20],\n",
       " '_i13': '#리스트 데이터를 가공하는 방법 3. map(): 파이썬 내장함수\\nmap(list_data)',\n",
       " '_i14': '#리스트 데이터를 가공하는 방법 3. map(): 파이썬 내장함수\\nmap(lambda x : x*2, list_data)',\n",
       " '_14': <map at 0x244a9db0dc0>,\n",
       " '_i15': '#리스트 데이터를 가공하는 방법 3. map(): 파이썬 내장함수\\n[map(lambda x : x*2, list_data)]',\n",
       " '_15': [<map at 0x244a8163460>],\n",
       " '_i16': '#리스트 데이터를 가공하는 방법 3. map(): 파이썬 내장함수\\nlist(map(lambda x : x*2, list_data))',\n",
       " '_16': [2, 4, 6, 8, 10, 12, 14, 16, 18, 20],\n",
       " '_i17': \"#예제 1. [5000,800,1000,6000]로\\nimport re\\nprices = ['5,000','800','1000','6,000']\\n\\nmap(lambda x : re.sub(prices,','))\",\n",
       " 're': <module 're' from 'C:\\\\Users\\\\Admin\\\\anaconda3\\\\lib\\\\re.py'>,\n",
       " 'prices': ['5,000', '800', '1000', '6,000'],\n",
       " '_i18': \"#예제 1. [5000,800,1000,6000]로\\nimport re\\nprices = ['5,000','800','1000','6,000']\\n\\nmap(lambda x : re.sub(',',prices))\",\n",
       " '_i19': \"#예제 1. [5000,800,1000,6000]로\\nimport re\\nprices = ['5,000','800','1000','6,000']\\n\\n(lambda x : re.sub(',', p) for p in prices )\",\n",
       " '_19': <generator object <genexpr> at 0x00000244AA7243C0>,\n",
       " '_i20': \"#예제 1. [5000,800,1000,6000]로\\nimport re\\nprices = ['5,000','800','1000','6,000']\\n\\nmap((lambda x : re.sub(',', x)), prices )\",\n",
       " '_20': <map at 0x244a94a2f20>,\n",
       " '_i21': \"#예제 1. [5000,800,1000,6000]로\\nimport re\\nprices = ['5,000','800','1000','6,000']\\n\\nlist(map((lambda x : re.sub(',', x)), prices ))\",\n",
       " '_i22': \"#예제 1. [5000,800,1000,6000]로\\nimport re\\nprices = ['5,000','800','1000','6,000']\\n\\nlist(map(lambda x : re.sub(',', x), prices ))\",\n",
       " '_i23': \"#예제 1. [5000,800,1000,6000]로\\nimport re\\nprices = ['5,000','800','1000','6,000']\\n\\nlist(map(lambda x : re.sub(',', x)), prices )\",\n",
       " '_i24': \"#예제 1. [5000,800,1000,6000]로\\nimport re\\nprices = ['5,000','800','1000','6,000']\\n\\nlist(map(lambda x : prices.replace(',', '')), prices )\",\n",
       " '_i25': \"#예제 1. [5000,800,1000,6000]로\\nimport re\\nprices = ['5,000','800','1000','6,000']\\n\\nlist(map(lambda x : re.sub(',', x), prices) )\",\n",
       " '_i26': \"#예제 1. [5000,800,1000,6000]로\\nimport re\\nprices = ['5,000','800','1000','6,000']\\n\\nlist(map(lambda x : x =re.sub(',', x), prices))\",\n",
       " '_i27': \"#예제 1. [5000,800,1000,6000]로\\nimport re\\nprices = ['5,000','800','1000','6,000']\\n\\nlist(map(lambda x : re.sub(',','', x), prices))\",\n",
       " '_27': ['5000', '800', '1000', '6000'],\n",
       " '_i28': \"#예제 1. [5000,800,1000,6000]로\\nimport re\\nprices = ['5,000','800','1000','6,000']\\n\\nlist(map(lambda x : int(re.sub(',','', x)), prices))\",\n",
       " '_28': [5000, 800, 1000, 6000],\n",
       " '_i29': \"def split_date(date):\\n    split_data = date.split('-')\",\n",
       " 'split_date': <function __main__.split_date(date)>,\n",
       " '_i30': \"split_date('20205-01-01')\",\n",
       " '_i31': \"def split_date(date):\\n    split_data = date.split('-')\\n    print(split_data)\",\n",
       " '_i32': \"split_date('20205-01-01')\",\n",
       " '_i33': \"def split_date(date):\\n    split_data = int(date.split('-'))\\n    print(split_data)\\n    #return{'year':int(split_data[0]),'month':int()}\",\n",
       " '_i34': \"split_date('20205-01-01')\",\n",
       " '_i35': \"def split_date(date):\\n    int(split_data) = date.split('-')\\n    print(split_data)\\n    #return{'year':int(split_data[0]),'month':int()}\",\n",
       " '_i36': \"def split_date(date):\\n    split_data = date.split('-')\\n    print(split_data)\\n    #return{'year':int(split_data[0]),'month':int()}\",\n",
       " '_i37': \"def split_date(date):\\n    split_data = date.split('-')\\n    return{'year':int(split_data[0]),'month':int(split_data[1]),'day':(split_data[2])}\",\n",
       " '_i38': \"split_date('20205-01-01')\",\n",
       " '_38': {'year': 20205, 'month': 1, 'day': '01'},\n",
       " '_i39': \"split_date('20205-01-01')\",\n",
       " '_39': {'year': 20205, 'month': 1, 'day': '01'},\n",
       " '_i40': \"member_func(member):\\n    return {\\n        'name' : member.get('name'),\\n        'year' : int(member.get('birth').split('-')[0])\\n        'month' : int(member.get('birth').split('-')[1])\\n        'day' : int(member.get('birth').split('-')[2])\\n    }\\nmember_func(member[0])\",\n",
       " '_i41': \"#에제 2. member1 =[{'name':'홍길동', 'birth':'2000-01-01'},{'name':'신길동', 'birth':'1998-12-31'}]\\n#       member2 = [{'name':'홍길동', 'year':'2000,'month':1, 'day': 1},{'name':'신길동', 'year':'1998,'month':12, 'day': 31}]\\nmember1 =[{'name':'홍길동', 'birth':'2000-01-01'},{'name':'신길동', 'birth':'1998-12-31'}]\",\n",
       " 'member1': [{'name': '홍길동', 'birth': '2000-01-01'},\n",
       "  {'name': '신길동', 'birth': '1998-12-31'}],\n",
       " '_i42': \"member_func(member):\\n    return {\\n        'name' : member.get('name'),\\n        'year' : int(member.get('birth').split('-')[0])\\n        'month' : int(member.get('birth').split('-')[1])\\n        'day' : int(member.get('birth').split('-')[2])\\n    }\\nmember_func(member[0])\",\n",
       " '_i43': \"member_func(member):\\n    return {\\n        'name' : member.get('name'),\\n        'year' : int(member.get('birth').split('-')[0]),\\n        'month' : int(member.get('birth').split('-')[1]),\\n        'day' : int(member.get('birth').split('-')[2])\\n    }\\nmember_func(member1[0])\",\n",
       " '_i44': \"def member_func(member):\\n    return {\\n        'name' : member.get('name'),\\n        'year' : int(member.get('birth').split('-')[0]),\\n        'month' : int(member.get('birth').split('-')[1]),\\n        'day' : int(member.get('birth').split('-')[2])\\n    }\\nmember_func(member1[0])\",\n",
       " 'member_func': <function __main__.member_func(member)>,\n",
       " '_44': {'name': '홍길동', 'year': 2000, 'month': 1, 'day': 1},\n",
       " '_i45': 'list(map(member_func, member1))',\n",
       " '_45': [{'name': '홍길동', 'year': 2000, 'month': 1, 'day': 1},\n",
       "  {'name': '신길동', 'year': 1998, 'month': 12, 'day': 31}],\n",
       " '_i46': \"list(map(lambda member: {'name' : member.get('name'),\\n                        'year' : int(member.get('birth').split('-')[0]),\\n                        'month' : int(member.get('birth').split('-')[1]),\\n                        'day' : int(member.get('birth').split('-')[2])}, member1))\",\n",
       " '_46': [{'name': '홍길동', 'year': 2000, 'month': 1, 'day': 1},\n",
       "  {'name': '신길동', 'year': 1998, 'month': 12, 'day': 31}],\n",
       " '_i47': \"member2 = list(map(lambda member: {\\n                        'name' : member.get('name'),\\n                        'year' : int(member.get('birth').split('-')[0]),\\n                        'month' : int(member.get('birth').split('-')[1]),\\n                        'day' : int(member.get('birth').split('-')[2])\\n                        }, member1))\",\n",
       " 'member2': [{'name': '홍길동', 'year': 2000, 'month': 1, 'day': 1},\n",
       "  {'name': '신길동', 'year': 1998, 'month': 12, 'day': 31}],\n",
       " '_i48': 'member2',\n",
       " '_48': [{'name': '홍길동', 'year': 2000, 'month': 1, 'day': 1},\n",
       "  {'name': '신길동', 'year': 1998, 'month': 12, 'day': 31}],\n",
       " '_i49': \"list(map(lambda member: {\\n                        'name' : member.get('name'),\\n                        'birth' : '-'.join([member.get('year'),member.get('month'),member.get('day')])\\n                        }, member1))\",\n",
       " '_i50': \"list(map(lambda member: {\\n                        'name' : member.get('name'),\\n                        'birth' : '-'.join([member.get('year'),member.get('month'),member.get('day')])\\n                        }, member2))\",\n",
       " '_i51': \"member2 = list(map(lambda member: {\\n                        'name' : member.get('name'),\\n                        'year' : int(member.get('birth').split('-')[0]),\\n                        'month' : int(member.get('birth').split('-')[1]),\\n                        'day' : int(member.get('birth').split('-')[2])\\n                        }, member1))\",\n",
       " '_i52': \"member2 = list(map(lambda member: {\\n                        'name' : member.get('name'),\\n                        'year' : int(member.get('birth').split('-')[0]),\\n                        'month' : int(member.get('birth').split('-')[1]),\\n                        'day' : int(member.get('birth').split('-')[2])\\n                        }, member1))\\nmember2\",\n",
       " '_52': [{'name': '홍길동', 'year': 2000, 'month': 1, 'day': 1},\n",
       "  {'name': '신길동', 'year': 1998, 'month': 12, 'day': 31}],\n",
       " '_i53': \"list(map(lambda member: {\\n                        'name' : member.get('name'),\\n                        'birth' : '-'.join([str(member.get('year')),str(strmember.get('month')),str(member.get('day'))])\\n                        }, member2))\",\n",
       " '_i54': \"list(map(lambda member: {\\n                        'name' : member.get('name'),\\n                        'birth' : '-'.join([str(member.get('year')),str(member.get('month')),str(member.get('day'))])\\n                        }, member2))\",\n",
       " '_54': [{'name': '홍길동', 'birth': '2000-1-1'},\n",
       "  {'name': '신길동', 'birth': '1998-12-31'}],\n",
       " '_i55': \"member3 = list(map(lambda member: {\\n                        'name' : member.get('name'),\\n                        'birth' : '-'.join([str(member.get('year')),str(member.get('month')),str(member.get('day'))])\\n                        }, member2))\\nmember3\",\n",
       " 'member3': [{'name': '홍길동', 'birth': '2000-01-01'},\n",
       "  {'name': '신길동', 'birth': '1998-12-31'}],\n",
       " '_55': [{'name': '홍길동', 'birth': '2000-1-1'},\n",
       "  {'name': '신길동', 'birth': '1998-12-31'}],\n",
       " '_i56': \"member3 = list(map(lambda member: {\\n                        'name' : member.get('name'),\\n                        'birth' : '-'.join([str(member.get('year')),\\n                                            str(member.get('month')),\\n                                            str(member.get('day'))])\\n                        }, member2))\\nmember3 == member1\",\n",
       " '_56': False,\n",
       " '_i57': \"member3 = list(map(lambda member: {\\n                        'name' : member.get('name'),\\n                        'birth' : '-'.join([str(member.get('year')),\\n                                            str(member.get('month')),\\n                                            str(member.get('day'))])\\n                        }, member2))\\nmember3 \",\n",
       " '_57': [{'name': '홍길동', 'birth': '2000-1-1'},\n",
       "  {'name': '신길동', 'birth': '1998-12-31'}],\n",
       " '_i58': \"member3 = list(map(lambda member: {\\n                        'name' : member.get('name'),\\n                        'birth' : '-'.join([str(member.get('year')),\\n                                            str(member.get('month')),\\n                                            str(member.get('day'))])\\n                        }, member2))\\nmember1\",\n",
       " '_58': [{'name': '홍길동', 'birth': '2000-01-01'},\n",
       "  {'name': '신길동', 'birth': '1998-12-31'}],\n",
       " '_i59': \"member3 = list(map(lambda member: {\\n                        'name' : member.get('name'),\\n                        'birth' : '-'.join([str(member.get('year')),\\n                                            str(member.get('month')),\\n                                            str(member.get('day'))])\\n                        }, member2))\\nmember2\",\n",
       " '_59': [{'name': '홍길동', 'year': 2000, 'month': 1, 'day': 1},\n",
       "  {'name': '신길동', 'year': 1998, 'month': 12, 'day': 31}],\n",
       " '_i60': \"member3 = list(map(lambda member: {\\n                        'name' : member.get('name'),\\n                        'birth' : '-'.join([str(member.get('year')),\\n                                            str(member.get('month')),\\n                                            str(member.get('day'))])\\n                        }, member2))\\nmember3\",\n",
       " '_60': [{'name': '홍길동', 'birth': '2000-1-1'},\n",
       "  {'name': '신길동', 'birth': '1998-12-31'}],\n",
       " '_i61': \"member3 = list(map(lambda member: {\\n                        'name' : member.get('name'),\\n                        'birth' : '-'.join([str(member.get('year')),\\n                                            str(member.get('month')),\\n                                            str(member.get('day'))])\\n                        }, member2))\\nmember1\",\n",
       " '_61': [{'name': '홍길동', 'birth': '2000-01-01'},\n",
       "  {'name': '신길동', 'birth': '1998-12-31'}],\n",
       " '_i62': \"member3 = list(map(lambda member: {\\n                        'name' : member.get('name'),\\n                        'birth' : '-'.join([str(member.get('year')),\\n                                            str(member.get('month')),\\n                                            str(member.get('day'))])\\n                        }, member2))\\nmember3\",\n",
       " '_62': [{'name': '홍길동', 'birth': '2000-1-1'},\n",
       "  {'name': '신길동', 'birth': '1998-12-31'}],\n",
       " '_i63': \"member3 = list(map(lambda member: {\\n                        'name' : member.get('name'),\\n                        'birth' : '-'.join([str(member.get('year')),\\n                                            str(member.get('month'):2),\\n                                            str(member.get('day'))])\\n                        }, member2))\\nmember3\",\n",
       " '_i64': \"member3 = list(map(lambda member: {\\n                        'name' : member.get('name'),\\n                        'birth' : '-'.join([str(member.get('year')),\\n                                            str(member.get('month'):),\\n                                            str(member.get('day'))])\\n                        }, member2))\\nmember3\",\n",
       " '_i65': \"member3 = list(map(lambda member: {\\n                        'name' : member.get('name'),\\n                        'birth' : '-'.join([str(member.get('year')),\\n                                            str(member.get('month')),\\n                                            str(member.get('day'))])\\n                        }, member2))\\nmember3\",\n",
       " '_65': [{'name': '홍길동', 'birth': '2000-1-1'},\n",
       "  {'name': '신길동', 'birth': '1998-12-31'}],\n",
       " '_i66': \"member3 = list(map(lambda member: {\\n                        'name' : member.get('name'),\\n                        'birth' : '-'.join([str(member.get('year')),\\n                                            str(member.get('month')`),\\n                                            str(member.get('day'))])\\n                        }, member2))\\nmember3\\n'{:02}'.format('as')\",\n",
       " '_i67': 'member3 = list(map(lambda member: {\\n                        \\'name\\' : member.get(\\'name\\'),\\n                        \\'birth\\' : \\'-\\'.join([str(member.get(\\'year\\')),\\n                                            str(member.get(\\'month\\')`),\\n                                            str(member.get(\\'day\\'))])\\n                        }, member2))\\nmember3\\n\\'{:\"0\"2}\\'.format(\\'as\\')',\n",
       " '_i68': \"member3 = list(map(lambda member: {\\n                        'name' : member.get('name'),\\n                        'birth' : '-'.join([str(member.get('year')),\\n                                            str(member.get('month')`),\\n                                            str(member.get('day'))])\\n                        }, member2))\\nmember3\",\n",
       " '_i69': \"member3 = list(map(lambda member: {\\n                        'name' : member.get('name'),\\n                        'birth' : '-'.join([str(member.get('year')),\\n                                            str(member.get('month')),\\n                                            str(member.get('day'))])\\n                        }, member2))\\nmember3\",\n",
       " '_69': [{'name': '홍길동', 'birth': '2000-1-1'},\n",
       "  {'name': '신길동', 'birth': '1998-12-31'}],\n",
       " '_i70': \"member3 = list(map(lambda member: {\\n                        'name' : member.get('name'),\\n                        'birth' : '{:02}-{02}-{02}'.format(str(member.get('year')),\\n                                                    str(member.get('month')),\\n                                                    str(member.get('day')))\\n                                    }, member2)\\nmember3\",\n",
       " '_i71': \"member3 = list(map(lambda member: {\\n                        'name' : member.get('name'),\\n                        'birth' : '{:02}-{02}-{02}'.format(str(member.get('year')),\\n                                                    str(member.get('month')),\\n                                                    str(member.get('day')))\\n                                    }, member2))\\nmember3\",\n",
       " '_i72': \"member3 = list(map(lambda member: {\\n                        'name' : member.get('name'),\\n                        'birth' : '{:2}-{:2}-{:2}'.format(str(member.get('year')),\\n                                                    str(member.get('month')),\\n                                                    str(member.get('day')))\\n                                    }, member2))\\nmember3\",\n",
       " '_72': [{'name': '홍길동', 'birth': '2000-1 -1 '},\n",
       "  {'name': '신길동', 'birth': '1998-12-31'}],\n",
       " '_i73': \"member3 = list(map(lambda member: {\\n                        'name' : member.get('name'),\\n                        'birth' : '{:02}-{:2}-{:2}'.format(str(member.get('year')),\\n                                                    str(member.get('month')),\\n                                                    str(member.get('day')))\\n                                    }, member2))\\nmember3\",\n",
       " '_73': [{'name': '홍길동', 'birth': '2000-1 -1 '},\n",
       "  {'name': '신길동', 'birth': '1998-12-31'}],\n",
       " '_i74': 'member3 = list(map(lambda member: {\\n                        \\'name\\' : member.get(\\'name\\'),\\n                        \\'birth\\' : \\'{:\"0\"2}-{:2}-{:2}\\'.format(str(member.get(\\'year\\')),\\n                                                    str(member.get(\\'month\\')),\\n                                                    str(member.get(\\'day\\')))\\n                                    }, member2))\\nmember3',\n",
       " '_i75': \"member3 = list(map(lambda member: {\\n                        'name' : member.get('name'),\\n                        'birth' : '{:2}-{:2}-{:2}'.format(str(member.get('year')),\\n                                                    str(member.get('month')),\\n                                                    str(member.get('day')))\\n                                    }, member2))\\nmember3\",\n",
       " '_75': [{'name': '홍길동', 'birth': '2000-1 -1 '},\n",
       "  {'name': '신길동', 'birth': '1998-12-31'}],\n",
       " '_i76': \"member3 = list(map(lambda member: {\\n                        'name' : member.get('name'),\\n                        'birth' : '{0:2}-{:2}-{:2}'.format(str(member.get('year')),\\n                                                    str(member.get('month')),\\n                                                    str(member.get('day')))\\n                                    }, member2))\\nmember3\",\n",
       " '_i77': \"member3 = list(map(lambda member: {\\n                        'name' : member.get('name'),\\n                        'birth' : '{:2}-{:2}-{:2}'.format(str(member.get('year')),\\n                                                    str(member.get('month')),\\n                                                    str(member.get('day')))\\n                                    }, member2))\\nmember3\",\n",
       " '_77': [{'name': '홍길동', 'birth': '2000-1 -1 '},\n",
       "  {'name': '신길동', 'birth': '1998-12-31'}],\n",
       " '_i78': \"member3 = list(map(lambda member: {\\n                        'name' : member.get('name'),\\n                        'birth' : '-'.join(str(member.get('year') if member.get('year') > 0 else '0' + member.get('year')),\\n                                            str(member.get('month')),\\n                                            str(member.get('day')))\\n                                    }, member2))\\nmember3\",\n",
       " '_i79': \"member3 = list(map(lambda member: {\\n                        'name' : member.get('name'),\\n                        'birth' : '-'.join(str(member.get('year') if member.get('year') > 0 else '0' + str(member.get('year'))),\\n                                            str(member.get('month')),\\n                                            str(member.get('day')))\\n                                    }, member2))\\nmember3\",\n",
       " '_i80': \"member3 = list(map(lambda member: {\\n                        'name' : member.get('name'),\\n                        'birth' : '{}-{:02}-{:02}'.format(member.get('year')\\n                                                    member.get('month')\\n                                                    member.get('day'))\\n                                    }, member2))\\nmember3\",\n",
       " '_i81': \"member3 = list(map(lambda member: {\\n                        'name' : member.get('name'),\\n                        'birth' : '{}-{:02}-{:02}'.format(member.get('year'),\\n                                                    member.get('month'),\\n                                                    member.get('day'))\\n                                    }, member2))\\nmember3\",\n",
       " '_81': [{'name': '홍길동', 'birth': '2000-01-01'},\n",
       "  {'name': '신길동', 'birth': '1998-12-31'}],\n",
       " '_i82': \"member3 = list(map(lambda **member: {f'{key}:{item}'} for key, item in member.items()\\n                        #{\\n                        #'name' : member.get('name'),\\n                        #'birth' : '{}-{:02}-{:02}'.format(member.get('year'),\\n                        #                                  member.get('month'),\\n                        #                                  member.get('day'))\\n                        #            }\\n                   , **member2))\\nmember3\",\n",
       " '_i83': \"member3 = list(map(lambda member: {f'{key}:{item}'} for key, item in member.items()\\n                        #{\\n                        #'name' : member.get('name'),\\n                        #'birth' : '{}-{:02}-{:02}'.format(member.get('year'),\\n                        #                                  member.get('month'),\\n                        #                                  member.get('day'))\\n                        #            }\\n                   , **member2))\\nmember3\",\n",
       " '_i84': \"member3 = list(map(lambda **member: {f'{key}:{item}'} for key, item in member.items()\\n                        #{\\n                        #'name' : member.get('name'),\\n                        #'birth' : '{}-{:02}-{:02}'.format(member.get('year'),\\n                        #                                  member.get('month'),\\n                        #                                  member.get('day'))\\n                        #            }\\n                   , **member2))\\nmember3\",\n",
       " '_i85': \"member3 = list(map(lambda member: {f'{key}:{item}'} for key, item in member.items()\\n                        #{\\n                        #'name' : member.get('name'),\\n                        #'birth' : '{}-{:02}-{:02}'.format(member.get('year'),\\n                        #                                  member.get('month'),\\n                        #                                  member.get('day'))\\n                        #            }\\n                   , **member2))\\nmember3\",\n",
       " '_i86': \"member3 = list(map(lambda *member: {f'{key}:{item}'} for key, item in member.items()\\n                        #{\\n                        #'name' : member.get('name'),\\n                        #'birth' : '{}-{:02}-{:02}'.format(member.get('year'),\\n                        #                                  member.get('month'),\\n                        #                                  member.get('day'))\\n                        #            }\\n                   , **member2))\\nmember3\",\n",
       " '_i87': \"member3 = list(map(lambda member: {f'{key}:{item}'} for key, item in member.items()\\n                        #{\\n                        #'name' : member.get('name'),\\n                        #'birth' : '{}-{:02}-{:02}'.format(member.get('year'),\\n                        #                                  member.get('month'),\\n                        #                                  member.get('day'))\\n                        #            }\\n                   , **member2))\\nmember3\",\n",
       " '_i88': \"member3 = list(map(lambda member: {f'{key}:{item}'} for key, item in member.items()\\n                        #{\\n                        #'name' : member.get('name'),\\n                        #'birth' : '{}-{:02}-{:02}'.format(member.get('year'),\\n                        #                                  member.get('month'),\\n                        #                                  member.get('day'))\\n                        #            }\\n                   , member2))\\nmember3\",\n",
       " '_i89': \"member3 = list(map(lambda member: {f'{key}:{item}'} for key, item in member.items()\\n                        #{\\n                        #'name' : member.get('name'),\\n                        #'birth' : '{}-{:02}-{:02}'.format(member.get('year'),\\n                        #                                  member.get('month'),\\n                        #                                  member.get('day'))\\n                        #            }\\n                   , member2))\\nmember3\",\n",
       " '_i90': \"member3 = list(map(lambda *member: {f'{key}:{item}'} for key, item in member.items()\\n                        #{\\n                        #'name' : member.get('name'),\\n                        #'birth' : '{}-{:02}-{:02}'.format(member.get('year'),\\n                        #                                  member.get('month'),\\n                        #                                  member.get('day'))\\n                        #            }\\n                   , member2))\\nmember3\",\n",
       " '_i91': \"member3 = list(map(lambda member: {f'{key}:{item}'} for key, item in member.items()\\n                        #{\\n                        #'name' : member.get('name'),\\n                        #'birth' : '{}-{:02}-{:02}'.format(member.get('year'),\\n                        #                                  member.get('month'),\\n                        #                                  member.get('day'))\\n                        #            }\\n                   , member2))\\nmember3\",\n",
       " '_i92': \"member3 = list(map(lambda member: f'{key}:{item}' for key, item in member.items()\\n                        #{\\n                        #'name' : member.get('name'),\\n                        #'birth' : '{}-{:02}-{:02}'.format(member.get('year'),\\n                        #                                  member.get('month'),\\n                        #                                  member.get('day'))\\n                        #            }\\n                   , member2))\\nmember3\",\n",
       " '_i93': \"member3 = list(map(lambda member: [f'{key}:{item}' for key, item in member.items()]\\n                        #{\\n                        #'name' : member.get('name'),\\n                        #'birth' : '{}-{:02}-{:02}'.format(member.get('year'),\\n                        #                                  member.get('month'),\\n                        #                                  member.get('day'))\\n                        #            }\\n                   , member2))\\nmember3\",\n",
       " '_93': [['name:홍길동', 'year:2000', 'month:1', 'day:1'],\n",
       "  ['name:신길동', 'year:1998', 'month:12', 'day:31']],\n",
       " '_i94': \"member3 = list(map(lambda member: ['{year}-{month:02}-{day:02}'.format(item) for value in member.values()]\\n                        #{\\n                        #'name' : member.get('name'),\\n                        #'birth' : '{}-{:02}-{:02}'.format(member.get('year'),\\n                        #                                  member.get('month'),\\n                        #                                  member.get('day'))\\n                        #            }\\n                   , member2))\\nmember3\",\n",
       " '_i95': \"member3 = list(map(lambda member: ['{year}-{month:02}-{day:02}'.format(value) for value in member.values()]\\n                        #{\\n                        #'name' : member.get('name'),\\n                        #'birth' : '{}-{:02}-{:02}'.format(member.get('year'),\\n                        #                                  member.get('month'),\\n                        #                                  member.get('day'))\\n                        #            }\\n                   , member2))\\nmember3\",\n",
       " '_i96': \"member3 = list(map(lambda member: ['{year}-{month:02}-{day:02}'.format(value) for value in member.value()]\\n                        #{\\n                        #'name' : member.get('name'),\\n                        #'birth' : '{}-{:02}-{:02}'.format(member.get('year'),\\n                        #                                  member.get('month'),\\n                        #                                  member.get('day'))\\n                        #            }\\n                   , member2))\\nmember3\",\n",
       " '_i97': \"member3 = list(map(lambda member: ['{year}-{month:02}-{day:02}'.format(value) for value in member.values()]\\n                        #{\\n                        #'name' : member.get('name'),\\n                        #'birth' : '{}-{:02}-{:02}'.format(member.get('year'),\\n                        #                                  member.get('month'),\\n                        #                                  member.get('day'))\\n                        #            }\\n                   , member2))\\nmember3\",\n",
       " '_i98': \"member3 = list(map(lambda member: ['{year}-{month:02}-{day:02}'.format(member) ]\\n                        #{\\n                        #'name' : member.get('name'),\\n                        #'birth' : '{}-{:02}-{:02}'.format(member.get('year'),\\n                        #                                  member.get('month'),\\n                        #                                  member.get('day'))\\n                        #            }\\n                   , member2))\\nmember3\",\n",
       " '_i99': \"member3 = list(map(lambda member: ['{year}-{month:02}-{day:02}'.format(**member) ]\\n                        #{\\n                        #'name' : member.get('name'),\\n                        #'birth' : '{}-{:02}-{:02}'.format(member.get('year'),\\n                        #                                  member.get('month'),\\n                        #                                  member.get('day'))\\n                        #            }\\n                   , member2))\\nmember3\",\n",
       " '_99': [['2000-01-01'], ['1998-12-31']],\n",
       " '_i100': \"member3 = list(map(lambda member: '{year}-{month:02}-{day:02}'.format(**member) \\n                        #{\\n                        #'name' : member.get('name'),\\n                        #'birth' : '{}-{:02}-{:02}'.format(member.get('year'),\\n                        #                                  member.get('month'),\\n                        #                                  member.get('day'))\\n                        #            }\\n                   , member2))\\nmember3\",\n",
       " '_100': ['2000-01-01', '1998-12-31'],\n",
       " '_i101': \"member3 = list(map(lambda member:  \\n                        {\\n                        'name' : member.get('name'),\\n                        'birth' : '{year}-{month:02}-{day:02}'.format(**member)\\n                                    }\\n                   , member2))\\nmember3\",\n",
       " '_101': [{'name': '홍길동', 'birth': '2000-01-01'},\n",
       "  {'name': '신길동', 'birth': '1998-12-31'}],\n",
       " '_i102': \"member3 = list(map(lambda member:  \\n                        {\\n                        'name' : member.get('name'),\\n                        'birth' : '{year}-{month:02}-{day:02}'.format(**member)\\n                                    }\\n                   , member2))\\nmember3==member1\",\n",
       " '_102': True,\n",
       " '_i103': \"member3 = list(map(lambda member:  \\n                        {\\n                        'name' : member.get('name'),\\n                        'birth' : '{year}-{month:02}-{day:02}'.format(**member)\\n                                    }\\n                   , member2))\\nmember3\",\n",
       " '_103': [{'name': '홍길동', 'birth': '2000-01-01'},\n",
       "  {'name': '신길동', 'birth': '1998-12-31'}],\n",
       " '_i104': \"member3 = list(map(lambda member:  \\n                        {\\n                        'name' : member.get('name'),\\n                        'birth' : '{year}-{month:02}-{day:02}'.format(**member)\\n                        }, member2))\\nprint(**member3)\",\n",
       " '_i105': \"member3 = list(map(lambda member:  \\n                        {\\n                        'name' : member.get('name'),\\n                        'birth' : '{year}-{month:02}-{day:02}'.format(**member)\\n                        }, member2))\\nprint(member3)\",\n",
       " '_i106': \"member3 = list(map(lambda member:  \\n                        {\\n                        'name' : member.get('name'),\\n                        'birth' : '{year}-{month:02}-{day:02}'.format(**member)\\n                        }, member2))\\nlist(map(lambda a : a, **member3))\\n#print(member3)\",\n",
       " '_i107': \"member3 = list(map(lambda member:  \\n                        {\\n                        'name' : member.get('name'),\\n                        'birth' : '{year}-{month:02}-{day:02}'.format(**member)\\n                        }, member2))\\nprint(member3)\",\n",
       " '_i108': \"member3 = list(map(lambda member:  \\n                        {\\n                        'name' : member.get('name'),\\n                        'birth' : '{year}-{month:02}-{day:02}'.format(**member)\\n                        }, member2))\\nmember3\",\n",
       " '_108': [{'name': '홍길동', 'birth': '2000-01-01'},\n",
       "  {'name': '신길동', 'birth': '1998-12-31'}],\n",
       " '_i109': \"member3 = list(map(lambda member:  \\n                        {\\n                        'name' : member.get('name'),\\n                        'birth' : '{year}-{month:02}-{day:02}'.format(**member)\\n                        }, member2))\\nmember3\",\n",
       " '_109': [{'name': '홍길동', 'birth': '2000-01-01'},\n",
       "  {'name': '신길동', 'birth': '1998-12-31'}],\n",
       " '_i110': 'data = [1,2,3,4,5]\\nlist(lambda x = x%2==1, data)',\n",
       " '_i111': 'data = [1,2,3,4,5]\\nlist(lambda x :x%2==1, data)',\n",
       " 'data': [1, 2, 3, 4, 5],\n",
       " '_i112': 'data = [1,2,3,4,5]\\nlist(map(lambda x :x%2==1, data))',\n",
       " '_112': [True, False, True, False, True],\n",
       " '_i113': 'data = [1,2,3,4,5]\\nlist(map(lambda x : x if x%2==1, data))',\n",
       " '_i114': 'data = [1,2,3,4,5]\\nlist(map(lambda x : x if x%2==1, data))',\n",
       " '_i115': 'data = [1,2,3,4,5]\\nlist(map(lambda x : x if x%2, data))',\n",
       " '_i116': \"data = [1,2,3,4,5]\\nlist(map(lambda x : x if x%2 else 'none', data))\",\n",
       " '_116': [1, 'none', 3, 'none', 5],\n",
       " '_i117': \"data = [1,2,3,4,5]\\nlist(map(lambda x : x if x%2 else '', data))\",\n",
       " '_117': [1, '', 3, '', 5],\n",
       " '_i118': 'data = [1,2,3,4,5]\\nlist(map(lambda x : x if x%2, data))',\n",
       " '_i119': 'data = [1,2,3,4,5]\\nlist(map(lambda x : [x if x%2] , data))',\n",
       " '_i120': 'data = [1,2,3,4,5]\\nlist(map(lambda x : x%2 , data))',\n",
       " '_120': [1, 0, 1, 0, 1],\n",
       " '_i121': 'data = [1,2,3,4,5]\\nlist(filter(lambda x : x%2==1 , data))',\n",
       " '_121': [1, 3, 5],\n",
       " '_i122': '## (2) filter',\n",
       " '_i123': 'def filter_template(func,L[]):\\n    result = []\\n    for l in L:\\n        if func(l):\\n            result.append(l)\\n    return result',\n",
       " '_i124': 'def evenChk(value):\\n    return value%2==0 else False',\n",
       " '_i125': 'def evenChk(value):\\n    return value%2==0',\n",
       " 'evenChk': <function __main__.evenChk(value)>,\n",
       " '_i126': 'def filter_template(func,L=[]):\\n    result = []\\n    for l in L:\\n        if func(l):\\n            result.append(l)\\n    return result',\n",
       " 'filter_template': <function __main__.filter_template(func, L=[])>,\n",
       " '_i127': 'list_data = [1,2,3,4,5]\\nfilter_template(lambda value: value%2==0, list_data)',\n",
       " '_127': [2, 4],\n",
       " '_i128': 'data = [1,2,3,4,5]\\nlist(filter(lambda x : x%2==1 , data))',\n",
       " '_128': [1, 3, 5],\n",
       " '_i129': '[num for num in data if num%2==0]',\n",
       " '_129': [2, 4],\n",
       " '_i130': '[num for num in data if num%2==0]',\n",
       " '_130': [2, 4],\n",
       " '_i131': '### (3)',\n",
       " '_i132': 'number2d = ([9,9,9,9,9,9],\\n           [1,100],\\n           [10,1])',\n",
       " 'number2d': [[1, 100], [9, 9, 9, 9, 9, 9], [10, 1]],\n",
       " '_i133': 'number_sum = [sum(num) for num in number2d]',\n",
       " 'number_sum': [54, 101, 11],\n",
       " '_i134': 'number_sum = [sum(num) for num in number2d]\\nnumber_sum',\n",
       " '_134': [54, 101, 11],\n",
       " '_i135': '[sum(num) for num in number2d].sort()\\nnumber_sum',\n",
       " '_135': [54, 101, 11],\n",
       " '_i136': '[sum(num) for num in number2d].sort()',\n",
       " '_i137': \"paris = [(2,'two'),(1,'one'),(4,'four'),(3,'three')]\",\n",
       " 'paris': [(4, 'four'), (1, 'one'), (3, 'three'), (2, 'two')],\n",
       " '_i138': \"paris = [(2,'two'),(1,'one'),(4,'four'),(3,'three')]\\nparis.sort()\\nparis\",\n",
       " '_138': [(4, 'four'), (1, 'one'), (3, 'three'), (2, 'two')],\n",
       " '_i139': 'paris.sort(key=lambda pair : pair[1])',\n",
       " '_i140': 'paris.sort(key=lambda pair : pair[1])\\nparis',\n",
       " '_140': [(4, 'four'), (1, 'one'), (3, 'three'), (2, 'two')],\n",
       " '_i141': 'number2d = ([9,9,9,9,9,9],\\n           [1,100],\\n           [10,1])\\nnumber2d.sort(key=lambda number2d: sum(number2d))',\n",
       " '_i142': 'number2d = ([9,9,9,9,9,9],\\n           [1,100],\\n           [10,1])\\nnumber2d.sort(key=lambda item: sum(number2d))',\n",
       " '_i143': 'number2d = ([9,9,9,9,9,9],\\n           [1,100],\\n           [10,1])\\nnumber2d.sort(key=lambda item: sum(item))',\n",
       " '_i144': 'number2d = [[9,9,9,9,9,9],\\n           [1,100],\\n           [10,1]]\\nnumber2d.sort(key=lambda item: sum(item))',\n",
       " '_i145': 'number2d = [[9,9,9,9,9,9],\\n           [1,100],\\n           [10,1]]\\nnumber2d.sort(key=lambda item: sum(item))\\nnumber2d',\n",
       " '_145': [[10, 1], [9, 9, 9, 9, 9, 9], [1, 100]],\n",
       " '_i146': 'number2d = [[9,9,9,9,9,9],\\n           [1,100],\\n           [10,1]]\\nnumber2d.sort(key=lambda item: sum(item), reverse=True)\\nnumber2d',\n",
       " '_146': [[1, 100], [9, 9, 9, 9, 9, 9], [10, 1]],\n",
       " '_i147': 'number2d = [[9,9,9,9,9,9],\\n           [1,100],\\n           [10,1]]\\nnumber2d.sort(key=lambda item: sum(item), reverse=False)\\nnumber2d',\n",
       " '_147': [[10, 1], [9, 9, 9, 9, 9, 9], [1, 100]],\n",
       " '_i148': 'number2d = [[9,9,9,9,9,9],\\n           [1,100],\\n           [10,1]]\\nnumber2d.sort(key=lambda item: sum(item), reverse=True)\\nnumber2d',\n",
       " '_148': [[1, 100], [9, 9, 9, 9, 9, 9], [10, 1]],\n",
       " '_i149': 'number2d = [[9,9,9,9,9,9],\\n           [1,100],\\n           [10,1]]\\nnumber2d.sort(key=lambda item: sum(item), reverse=True)\\nnumber2d',\n",
       " '_149': [[1, 100], [9, 9, 9, 9, 9, 9], [10, 1]],\n",
       " '_i150': 'number2d = [[9,9,9,9,9,9],\\n           [1,100],\\n           [10,1]]\\nnumber2d.sort(key=lambda item: sum(item), reverse=True)\\nnumber2d',\n",
       " '_150': [[1, 100], [9, 9, 9, 9, 9, 9], [10, 1]],\n",
       " '_i151': 'number2d = [[9,9,9,9,9,9],\\n           [1,100],\\n           [10,1]]\\nnumber2d.sort(key=lambda item: sum(item), reverse=True)\\nnumber2d',\n",
       " '_151': [[1, 100], [9, 9, 9, 9, 9, 9], [10, 1]],\n",
       " '_i152': 'number2d = [[9,9,9,9,9,9],\\n           [1,100],\\n           [10,1]]\\nnumber2d.sort(key=lambda item: sum(item), reverse=True)\\nnumber2d',\n",
       " '_152': [[1, 100], [9, 9, 9, 9, 9, 9], [10, 1]],\n",
       " '_i153': 'number2d = [[9,9,9,9,9,9],\\n           [1,100],\\n           [10,1]]\\nnumber2d.sort(key=lambda item: sum(item), reverse=True)\\nnumber2d',\n",
       " '_153': [[1, 100], [9, 9, 9, 9, 9, 9], [10, 1]],\n",
       " '_i154': '1.66**2',\n",
       " '_154': 2.7556,\n",
       " '_i155': '49/1.66**2',\n",
       " '_155': 17.78197125852809,\n",
       " '_i156': '47/1.66**2',\n",
       " '_156': 17.056176513282043,\n",
       " '_i157': '45/1.66**2',\n",
       " '_157': 16.330381768036002,\n",
       " '_i158': '46/1.66**2',\n",
       " '_158': 16.693279140659023,\n",
       " '_i159': \"students = [\\n    {'name':'홍길동','kor':90, 'mat':100},\\n    {'name':'김길동','kor':100, 'mat':70},\\n    {'name':'이길동','kor':80, 'mat':85}\\n]\",\n",
       " 'students': [{'kor': 100, 'mat': 100},\n",
       "  {'name': '이길동', 'kor': 100, 'mat': 95},\n",
       "  {'name': '홍길동', 'kor': 90, 'mat': 100},\n",
       "  {'name': '김길동', 'kor': 80, 'mat': 85}],\n",
       " '_i160': \"students = [\\n    {'name':'홍길동','kor':90, 'mat':100},\\n    {'name':'김길동','kor':100, 'mat':70},\\n    {'name':'이길동','kor':80, 'mat':85}\\n]\\n\\nstudents.sort(key=lambda student : student.get('name'))\",\n",
       " '_i161': \"students = [\\n    {'name':'홍길동','kor':90, 'mat':100},\\n    {'name':'김길동','kor':100, 'mat':70},\\n    {'name':'이길동','kor':80, 'mat':85}\\n]\\n\\nstudents.sort(key=lambda student : student.get('name'))\\nstudents\",\n",
       " '_161': [{'name': '김길동', 'kor': 100, 'mat': 70},\n",
       "  {'name': '이길동', 'kor': 80, 'mat': 85},\n",
       "  {'name': '홍길동', 'kor': 90, 'mat': 100}],\n",
       " '_i162': \"students.sort(key=lambda student : student.get('name')) #이름순 정렬\\nstudents\",\n",
       " '_162': [{'name': '김길동', 'kor': 100, 'mat': 70},\n",
       "  {'name': '이길동', 'kor': 80, 'mat': 85},\n",
       "  {'name': '홍길동', 'kor': 90, 'mat': 100}],\n",
       " '_i163': \"students = [\\n    {'name':'홍길동','kor':90, 'mat':100},\\n    {'name':'김길동','kor':100, 'mat':70},\\n    {'name':'이길동','kor':80, 'mat':85}\\n]\",\n",
       " '_i164': \"students.sort(key=lambda student : sum(student.get('kor'), student.get('mat'))) #이름순 정렬\\nstudents\",\n",
       " '_i165': \"students.sort(key=lambda student : sum(int(student.get('kor')), int(student.get('mat')))) #이름순 정렬\\nstudents\",\n",
       " '_i166': \"students.sort(key=lambda student : sum(student.get('kor'), student.get('mat') )) #이름순 정렬\\nstudents\",\n",
       " '_i167': \"students.sort(key=lambda student : sum([student.get('kor'), student.get('mat')] )) #이름순 정렬\\nstudents\",\n",
       " '_167': [{'name': '홍길동', 'kor': 90, 'mat': 100},\n",
       "  {'name': '김길동', 'kor': 100, 'mat': 70},\n",
       "  {'name': '이길동', 'kor': 80, 'mat': 85}],\n",
       " '_i168': \"students.sort(key=lambda student : sum([student.get('kor'), student.get('mat')] )) #이름순 정렬\\nstudents\",\n",
       " '_168': [{'name': '홍길동', 'kor': 90, 'mat': 100},\n",
       "  {'name': '김길동', 'kor': 100, 'mat': 70},\n",
       "  {'name': '이길동', 'kor': 80, 'mat': 85}],\n",
       " '_i169': \"students.sort(key=lambda student : sum([student.get('kor'), student.get('mat')] ), reverse=True) #이름순 정렬\\nstudents\",\n",
       " '_169': [{'name': '홍길동', 'kor': 90, 'mat': 100},\n",
       "  {'name': '김길동', 'kor': 100, 'mat': 70},\n",
       "  {'name': '이길동', 'kor': 80, 'mat': 85}],\n",
       " '_i170': \"students.sort(key=lambda student : student.get('kor')+student.get('mat'), reverse=True) #이름순 정렬\\nstudents\",\n",
       " '_170': [{'name': '홍길동', 'kor': 90, 'mat': 100},\n",
       "  {'name': '김길동', 'kor': 100, 'mat': 70},\n",
       "  {'name': '이길동', 'kor': 80, 'mat': 85}],\n",
       " '_i171': \"students.sort(key=lambda student : student.get('kor')+student.get('mat'), reverse=True) #이름순 정렬\\nstudents\",\n",
       " '_171': [{'name': '홍길동', 'kor': 90, 'mat': 100},\n",
       "  {'name': '김길동', 'kor': 100, 'mat': 70},\n",
       "  {'name': '이길동', 'kor': 80, 'mat': 85}],\n",
       " '_i172': \"students.sort(key=lambda student : student.get('kor')+student.get('mat'), reverse=True) #점수합 정렬\\nstudents\",\n",
       " '_172': [{'name': '홍길동', 'kor': 90, 'mat': 100},\n",
       "  {'name': '김길동', 'kor': 100, 'mat': 70},\n",
       "  {'name': '이길동', 'kor': 80, 'mat': 85}],\n",
       " '_i173': \"students = [\\n    {'name':'홍길동','kor':90, 'mat':100},\\n    {'name':'김길동','kor':80, 'mat':85},\\n    {'name':'이길동','kor':100, 'mat':95}\\n]\",\n",
       " '_i174': \"students.sort(key=lambda student : student.get('kor')+student.get('mat'), reverse=True) #점수합 정렬\\nstudents\",\n",
       " '_174': [{'name': '이길동', 'kor': 100, 'mat': 95},\n",
       "  {'name': '홍길동', 'kor': 90, 'mat': 100},\n",
       "  {'name': '김길동', 'kor': 80, 'mat': 85}],\n",
       " '_i175': \"students = [\\n    {'name':'홍길동','kor':90, 'mat':100},\\n    {'name':'김길동','kor':80, 'mat':85},\\n    {'name':'이길동','kor':100, 'mat':95},\\n    {'socre':100}\\n]\",\n",
       " '_i176': \"students.sort(key=lambda student : student.get('name')) #이름순 정렬\\nstudents\",\n",
       " '_i177': \"students.sort(key=lambda student : str(student.get('name'))) #이름순 정렬\\nstudents\",\n",
       " '_177': [{'socre': 100},\n",
       "  {'name': '김길동', 'kor': 80, 'mat': 85},\n",
       "  {'name': '이길동', 'kor': 100, 'mat': 95},\n",
       "  {'name': '홍길동', 'kor': 90, 'mat': 100}],\n",
       " '_i178': \"students.sort(key=lambda student : student.get('kor')+student.get('mat'), reverse=True) #점수합 정렬\\nstudents\",\n",
       " '_i179': \"students = [\\n    {'name':'홍길동','kor':90, 'mat':100},\\n    {'name':'김길동','kor':80, 'mat':85},\\n    {'name':'이길동','kor':100, 'mat':95},\\n    {'kor':100, 'mat':100}\\n]\",\n",
       " '_i180': \"students.sort(key=lambda student : student.get('kor')+student.get('mat'), reverse=True) #점수합 정렬\\nstudents\",\n",
       " '_180': [{'kor': 100, 'mat': 100},\n",
       "  {'name': '이길동', 'kor': 100, 'mat': 95},\n",
       "  {'name': '홍길동', 'kor': 90, 'mat': 100},\n",
       "  {'name': '김길동', 'kor': 80, 'mat': 85}],\n",
       " '_i181': \"students.sort(key=lambda student : str(student.get('name'))) #이름순 정렬\\nstudents\",\n",
       " '_181': [{'kor': 100, 'mat': 100},\n",
       "  {'name': '이길동', 'kor': 100, 'mat': 95},\n",
       "  {'name': '홍길동', 'kor': 90, 'mat': 100},\n",
       "  {'name': '김길동', 'kor': 80, 'mat': 85}],\n",
       " '_i182': \"students.sort(key=lambda student : student.get('name','가')) #이름순 정렬\\nstudents\",\n",
       " '_182': [{'kor': 100, 'mat': 100},\n",
       "  {'name': '이길동', 'kor': 100, 'mat': 95},\n",
       "  {'name': '홍길동', 'kor': 90, 'mat': 100},\n",
       "  {'name': '김길동', 'kor': 80, 'mat': 85}],\n",
       " '_i183': \"students.sort(key=lambda student : student.get('kor',0)+student.get('mat',0), reverse=True) #점수합 정렬\\nstudents\",\n",
       " '_183': [{'kor': 100, 'mat': 100},\n",
       "  {'name': '이길동', 'kor': 100, 'mat': 95},\n",
       "  {'name': '홍길동', 'kor': 90, 'mat': 100},\n",
       "  {'name': '김길동', 'kor': 80, 'mat': 85}],\n",
       " '_i184': \"#\\nbooks = [\\n    {'no':1, 'title':'강남 아파트 인사이트','writer':'오스틀로이드','price':'25,200'},\\n    {'no':2, 'title':'단 한번의 삶','writer':'김영하','price':'18,100'},\\n    {'no':3, 'title':'흔한나매19','writer':'백난도','price':'14,220'},\\n    {'no':4, 'title':'가격이잘못','writer':'홍길동','price':'-'},\\n]\",\n",
       " 'books': [{'no': 1,\n",
       "   'title': '강남 아파트 인사이트',\n",
       "   'writer': '오스틀로이드',\n",
       "   'price': '25,200'},\n",
       "  {'no': 2, 'title': '단 한번의 삶', 'writer': '김영하', 'price': '18,100'},\n",
       "  {'no': 3, 'title': '흔한나매19', 'writer': '백난도', 'price': '14,220'},\n",
       "  {'no': 4, 'title': '가격이잘못', 'writer': '홍길동', 'price': '-'},\n",
       "  {'no': 5, 'title': '가격이숫자', 'writer': '신길동', 'price': 900},\n",
       "  {'no': 6, 'title': '가격이없음', 'writer': '김길동'}],\n",
       " '_i185': \"#\\nbooks = [\\n    {'no':1, 'title':'강남 아파트 인사이트','writer':'오스틀로이드','price':'25,200'},\\n    {'no':2, 'title':'단 한번의 삶','writer':'김영하','price':'18,100'},\\n    {'no':3, 'title':'흔한나매19','writer':'백난도','price':'14,220'},\\n    {'no':4, 'title':'가격이잘못','writer':'홍길동','price':'-'},\\n]\",\n",
       " '_i186': \"#\\nbooks = [\\n    {'no':1, 'title':'강남 아파트 인사이트','writer':'오스틀로이드','price':'25,200'},\\n    {'no':2, 'title':'단 한번의 삶','writer':'김영하','price':'18,100'},\\n    {'no':3, 'title':'흔한나매19','writer':'백난도','price':'14,220'},\\n    {'no':4, 'title':'가격이잘못','writer':'홍길동','price':'-'},\\n    {'no':5, 'title':'가격이 숫자','writer':'신길동','price':900},\\n    {'no':6, 'title':'가격이없음','writer':'김길동'}\\n]\",\n",
       " '_i187': \"#책 제목순 정렬(ㄱㄴㄷㄹ), 저자순 정렬, 가격순 정렬\\nbooks = [\\n    {'no':1, 'title':'강남 아파트 인사이트','writer':'오스틀로이드','price':'25,200'},\\n    {'no':2, 'title':'단 한번의 삶','writer':'김영하','price':'18,100'},\\n    {'no':3, 'title':'흔한나매19','writer':'백난도','price':'14,220'},\\n    {'no':4, 'title':'가격이잘못','writer':'홍길동','price':'-'},\\n    {'no':5, 'title':'가격이 숫자','writer':'신길동','price':900},\\n    {'no':6, 'title':'가격이없음','writer':'김길동'}\\n]\",\n",
       " '_i188': \"books.sort(key=lambda book: book.get('title'))\\nbooks\",\n",
       " '_188': [{'no': 6, 'title': '가격이없음', 'writer': '김길동'},\n",
       "  {'no': 2, 'title': '단 한번의 삶', 'writer': '김영하', 'price': '18,100'},\n",
       "  {'no': 3, 'title': '흔한나매19', 'writer': '백난도', 'price': '14,220'},\n",
       "  {'no': 5, 'title': '가격이 숫자', 'writer': '신길동', 'price': 900},\n",
       "  {'no': 1, 'title': '강남 아파트 인사이트', 'writer': '오스틀로이드', 'price': '25,200'},\n",
       "  {'no': 4, 'title': '가격이잘못', 'writer': '홍길동', 'price': '-'}],\n",
       " '_i189': \"books.sort(key=lambda book: book.get('wirter'))\\nbooks\",\n",
       " '_i190': \"books.sort(key=lambda book: book.get('writer'))\\nbooks\",\n",
       " '_190': [{'no': 6, 'title': '가격이없음', 'writer': '김길동'},\n",
       "  {'no': 2, 'title': '단 한번의 삶', 'writer': '김영하', 'price': '18,100'},\n",
       "  {'no': 3, 'title': '흔한나매19', 'writer': '백난도', 'price': '14,220'},\n",
       "  {'no': 5, 'title': '가격이 숫자', 'writer': '신길동', 'price': 900},\n",
       "  {'no': 1, 'title': '강남 아파트 인사이트', 'writer': '오스틀로이드', 'price': '25,200'},\n",
       "  {'no': 4, 'title': '가격이잘못', 'writer': '홍길동', 'price': '-'}],\n",
       " '_i191': \"isinstance(book.get('price'),str)\",\n",
       " '_i192': \"isinstance(book.get('price'),string)\",\n",
       " '_i193': \"#책 제목순 정렬(ㄱㄴㄷㄹ), 저자순 정렬, 가격순 정렬\\nbooks = [\\n    {'no':1, 'title':'강남 아파트 인사이트','writer':'오스틀로이드','price':'25,200'},\\n    {'no':2, 'title':'단 한번의 삶','writer':'김영하','price':'18,100'},\\n    {'no':3, 'title':'흔한나매19','writer':'백난도','price':'14,220'},\\n    {'no':4, 'title':'가격이잘못','writer':'홍길동','price':'-'},\\n    {'no':5, 'title':'가격이숫자','writer':'신길동','price':900},\\n    {'no':6, 'title':'가격이없음','writer':'김길동'}\\n]\",\n",
       " '_i194': \"isinstance(books.get('price'),string)\",\n",
       " '_i195': \"isinstance('price',string)\",\n",
       " '_i196': \"isinstance('price',str)\",\n",
       " '_196': True,\n",
       " '_i197': \"books.sort(key=lambda book: book.get('price')    if isinstance(book.get('price'),int) else\\n                            0                    if book.get('price') == '-' else\\n                            int(book.replace(',','')) if isinstance(book.get('price'),str) else\\n                            0                 \\n          )\\nbooks\",\n",
       " '_i198': \"books.sort(key=lambda book: book.get('price')    if isinstance(book.get('price'),int) else\\n                            0                    if book.get('price') == '-' else\\n                            int(book.get('price').replace(',','')) if isinstance(book.get('price'),str) else\\n                            0                 \\n          )\\nbooks\",\n",
       " '_198': [{'no': 1,\n",
       "   'title': '강남 아파트 인사이트',\n",
       "   'writer': '오스틀로이드',\n",
       "   'price': '25,200'},\n",
       "  {'no': 2, 'title': '단 한번의 삶', 'writer': '김영하', 'price': '18,100'},\n",
       "  {'no': 3, 'title': '흔한나매19', 'writer': '백난도', 'price': '14,220'},\n",
       "  {'no': 5, 'title': '가격이숫자', 'writer': '신길동', 'price': 900},\n",
       "  {'no': 4, 'title': '가격이잘못', 'writer': '홍길동', 'price': '-'},\n",
       "  {'no': 6, 'title': '가격이없음', 'writer': '김길동'}],\n",
       " '_i199': \"books.sort(key=lambda book: book.get('price')    if isinstance(book.get('price'),int) else\\n                            0                    if book.get('price') == '-' else\\n                            int(book.get('price').replace(',','')) if isinstance(book.get('price'),str) else\\n                            0,   reverse=True)\\nbooks\",\n",
       " '_199': [{'no': 1,\n",
       "   'title': '강남 아파트 인사이트',\n",
       "   'writer': '오스틀로이드',\n",
       "   'price': '25,200'},\n",
       "  {'no': 2, 'title': '단 한번의 삶', 'writer': '김영하', 'price': '18,100'},\n",
       "  {'no': 3, 'title': '흔한나매19', 'writer': '백난도', 'price': '14,220'},\n",
       "  {'no': 5, 'title': '가격이숫자', 'writer': '신길동', 'price': 900},\n",
       "  {'no': 4, 'title': '가격이잘못', 'writer': '홍길동', 'price': '-'},\n",
       "  {'no': 6, 'title': '가격이없음', 'writer': '김길동'}],\n",
       " '_i200': \"books.sort(key=lambda book: book.get('price')                      if book.get('price').isDigit else\\n                            0                                      if book.get('price') == '-'          else\\n                            int(book.get('price').replace(',','')) if book.get('price'is str else\\n                            0,   reverse=True)\\nbooks\",\n",
       " '_i201': \"books.sort(key=lambda book: book.get('price')                      if book.get('price').isdigit() else\\n                            0                                      if book.get('price') == '-'          else\\n                            int(book.get('price').replace(',','')) if book.get('price'is str else\\n                            0,   reverse=True)\\nbooks\",\n",
       " '_i202': \"books.sort(key=lambda book: book.get('price')                      if book.get('price') is int else\\n                            0                                      if book.get('price') == '-'          else\\n                            int(book.get('price').replace(',','')) if book.get('price'is str else\\n                            0,   reverse=True)\\nbooks\",\n",
       " '_i203': \"books.sort(key=lambda book: book.get('price')                      if book.get('price') is int else\\n                            0                                      if book.get('price') == '-' else\\n                            int(book.get('price').replace(',','')) if book.get('price')is str  else\\n                            0,   reverse=True)\\nbooks\",\n",
       " '_203': [{'no': 1,\n",
       "   'title': '강남 아파트 인사이트',\n",
       "   'writer': '오스틀로이드',\n",
       "   'price': '25,200'},\n",
       "  {'no': 2, 'title': '단 한번의 삶', 'writer': '김영하', 'price': '18,100'},\n",
       "  {'no': 3, 'title': '흔한나매19', 'writer': '백난도', 'price': '14,220'},\n",
       "  {'no': 5, 'title': '가격이숫자', 'writer': '신길동', 'price': 900},\n",
       "  {'no': 4, 'title': '가격이잘못', 'writer': '홍길동', 'price': '-'},\n",
       "  {'no': 6, 'title': '가격이없음', 'writer': '김길동'}],\n",
       " '_i204': \"books.sort(key=lambda book: book.get('price')  if book.get('price') is int else\\n        int(book.get('price').replace(',','')) if book.get('price')is str and book.get('price').replace(',','').isdigit()  else\\n                            0,   reverse=True)\\nbooks\",\n",
       " '_204': [{'no': 1,\n",
       "   'title': '강남 아파트 인사이트',\n",
       "   'writer': '오스틀로이드',\n",
       "   'price': '25,200'},\n",
       "  {'no': 2, 'title': '단 한번의 삶', 'writer': '김영하', 'price': '18,100'},\n",
       "  {'no': 3, 'title': '흔한나매19', 'writer': '백난도', 'price': '14,220'},\n",
       "  {'no': 5, 'title': '가격이숫자', 'writer': '신길동', 'price': 900},\n",
       "  {'no': 4, 'title': '가격이잘못', 'writer': '홍길동', 'price': '-'},\n",
       "  {'no': 6, 'title': '가격이없음', 'writer': '김길동'}],\n",
       " '_i205': \"books.sort(key=lambda book: book.get('price')  if book.get('price') is int else\\n                            int(book.get('price').replace(',','')) if book.get('price')is str and book.get('price').replace(',','').isdigit()  else \\n                            0,   reverse=True)\\nbooks\",\n",
       " '_205': [{'no': 1,\n",
       "   'title': '강남 아파트 인사이트',\n",
       "   'writer': '오스틀로이드',\n",
       "   'price': '25,200'},\n",
       "  {'no': 2, 'title': '단 한번의 삶', 'writer': '김영하', 'price': '18,100'},\n",
       "  {'no': 3, 'title': '흔한나매19', 'writer': '백난도', 'price': '14,220'},\n",
       "  {'no': 5, 'title': '가격이숫자', 'writer': '신길동', 'price': 900},\n",
       "  {'no': 4, 'title': '가격이잘못', 'writer': '홍길동', 'price': '-'},\n",
       "  {'no': 6, 'title': '가격이없음', 'writer': '김길동'}],\n",
       " '_i206': \"books.sort(key=lambda book: book.get('price')  if book.get('price') is int else\\n                            int(book.get('price').replace(',','')) if book.get('price')is str and book.get('price').replace(',','').isdigit()  else \\n                            0,   reverse=True)\\nbooks\",\n",
       " '_206': [{'no': 1,\n",
       "   'title': '강남 아파트 인사이트',\n",
       "   'writer': '오스틀로이드',\n",
       "   'price': '25,200'},\n",
       "  {'no': 2, 'title': '단 한번의 삶', 'writer': '김영하', 'price': '18,100'},\n",
       "  {'no': 3, 'title': '흔한나매19', 'writer': '백난도', 'price': '14,220'},\n",
       "  {'no': 5, 'title': '가격이숫자', 'writer': '신길동', 'price': 900},\n",
       "  {'no': 4, 'title': '가격이잘못', 'writer': '홍길동', 'price': '-'},\n",
       "  {'no': 6, 'title': '가격이없음', 'writer': '김길동'}],\n",
       " '_i207': \"books.sort(key=lambda book: book.get('price')  if book.get('price') is int else\\n                            int(book.get('price').replace(',','')) if book.get('price')is str and book.get('price').replace(',','').isdigit()  else \\n                            0,   reverse=True)\\nbooks\",\n",
       " '_207': [{'no': 1,\n",
       "   'title': '강남 아파트 인사이트',\n",
       "   'writer': '오스틀로이드',\n",
       "   'price': '25,200'},\n",
       "  {'no': 2, 'title': '단 한번의 삶', 'writer': '김영하', 'price': '18,100'},\n",
       "  {'no': 3, 'title': '흔한나매19', 'writer': '백난도', 'price': '14,220'},\n",
       "  {'no': 5, 'title': '가격이숫자', 'writer': '신길동', 'price': 900},\n",
       "  {'no': 4, 'title': '가격이잘못', 'writer': '홍길동', 'price': '-'},\n",
       "  {'no': 6, 'title': '가격이없음', 'writer': '김길동'}],\n",
       " '_i208': \"books.sort(key=list(map(lambda book: book.get('price',0)), books), reversed = True)\\nbooks\",\n",
       " '_i209': \"books.sort(key=list(map(lambda book: book.get('price',0), books)), reversed = True)\\nbooks\",\n",
       " '_i210': \"books.sort(key=list(map(lambda book: book.get('price',0), books)), reverse = True)\\nbooks\",\n",
       " '_i211': \"books.sort(key=tuple(map(lambda book: book.get('price',0), books)), reverse = True)\\nbooks\",\n",
       " '_i212': \"books.sort(key=map(lambda book: book.get('price',0), books), reverse = True)\\nbooks\",\n",
       " '_i213': \"books.sort(key=(map(lambda book: book.get('price',0), books)), reverse = True)\\nbooks\",\n",
       " '_i214': \"type(map(lambda book: book.get('price',0), books))\",\n",
       " '_214': map,\n",
       " '_i215': \"books = [\\n    {'no':1, 'title':'강남 아파트 인사이트','writer':'오스틀로이드','price':'25,200'},\\n    {'no':2, 'title':'단 한번의 삶','writer':'김영하','price':'18,100'},\\n    {'no':3, 'title':'흔한나매19','writer':'백난도','price':'14,220'},\\n    {'no':4, 'title':'가격이잘못','writer':'홍길동','price':'-'},\\n    {'no':5, 'title':'가격이숫자','writer':'신길동','price':900},\\n    {'no':6, 'title':'가격이없음','writer':'김길동'}\\n]\\ncopy_books = books.copy()\",\n",
       " 'copy_books': [{'no': 6, 'title': '가격이없음', 'writer': '김길동'},\n",
       "  {'no': 4, 'title': '가격이잘못', 'writer': '홍길동', 'price': '-'},\n",
       "  {'no': 5, 'title': '가격이숫자', 'writer': '신길동', 'price': 900},\n",
       "  {'no': 3, 'title': '흔한나매19', 'writer': '백난도', 'price': '14,220'},\n",
       "  {'no': 2, 'title': '단 한번의 삶', 'writer': '김영하', 'price': '18,100'},\n",
       "  {'no': 1, 'title': '강남 아파트 인사이트', 'writer': '오스틀로이드', 'price': '25,200'}],\n",
       " '_i216': \"books = [\\n    {'no':1, 'title':'강남 아파트 인사이트','writer':'오스틀로이드','price':'25,200'},\\n    {'no':2, 'title':'단 한번의 삶','writer':'김영하','price':'18,100'},\\n    {'no':3, 'title':'흔한나매19','writer':'백난도','price':'14,220'},\\n    {'no':4, 'title':'가격이잘못','writer':'홍길동','price':'-'},\\n    {'no':5, 'title':'가격이숫자','writer':'신길동','price':900},\\n    {'no':6, 'title':'가격이없음','writer':'김길동'}\\n]\\ncopy_books = books.copy()\\ncopy_books.sort()\",\n",
       " '_i217': \"books = [\\n    {'no':1, 'title':'강남 아파트 인사이트','writer':'오스틀로이드','price':'25,200'},\\n    {'no':2, 'title':'단 한번의 삶','writer':'김영하','price':'18,100'},\\n    {'no':3, 'title':'흔한나매19','writer':'백난도','price':'14,220'},\\n    {'no':4, 'title':'가격이잘못','writer':'홍길동','price':'-'},\\n    {'no':5, 'title':'가격이숫자','writer':'신길동','price':900},\\n    {'no':6, 'title':'가격이없음','writer':'김길동'}\\n]\\ncopy_books = books.copy()\\ncopy_books.sort()\",\n",
       " '_i218': \"books = [\\n    {'no':1, 'title':'강남 아파트 인사이트','writer':'오스틀로이드','price':'25,200'},\\n    {'no':2, 'title':'단 한번의 삶','writer':'김영하','price':'18,100'},\\n    {'no':3, 'title':'흔한나매19','writer':'백난도','price':'14,220'},\\n    {'no':4, 'title':'가격이잘못','writer':'홍길동','price':'-'},\\n    {'no':5, 'title':'가격이숫자','writer':'신길동','price':900},\\n    {'no':6, 'title':'가격이없음','writer':'김길동'}\\n]\\ncopy_books = books.copy()\\ncopy_books.sort(key=lambda book : book.get('titile'))\",\n",
       " '_i219': \"books = [\\n    {'no':1, 'title':'강남 아파트 인사이트','writer':'오스틀로이드','price':'25,200'},\\n    {'no':2, 'title':'단 한번의 삶','writer':'김영하','price':'18,100'},\\n    {'no':3, 'title':'흔한나매19','writer':'백난도','price':'14,220'},\\n    {'no':4, 'title':'가격이잘못','writer':'홍길동','price':'-'},\\n    {'no':5, 'title':'가격이숫자','writer':'신길동','price':900},\\n    {'no':6, 'title':'가격이없음','writer':'김길동'}\\n]\\ncopy_books = books.copy()\\ncopy_books.sort(key=lambda book : book.get('title'))\",\n",
       " '_i220': \"books = [\\n    {'no':1, 'title':'강남 아파트 인사이트','writer':'오스틀로이드','price':'25,200'},\\n    {'no':2, 'title':'단 한번의 삶','writer':'김영하','price':'18,100'},\\n    {'no':3, 'title':'흔한나매19','writer':'백난도','price':'14,220'},\\n    {'no':4, 'title':'가격이잘못','writer':'홍길동','price':'-'},\\n    {'no':5, 'title':'가격이숫자','writer':'신길동','price':900},\\n    {'no':6, 'title':'가격이없음','writer':'김길동'}\\n]\\ncopy_books = books.copy()\\ncopy_books.sort(key=lambda book : book.get('title'))\",\n",
       " '_i221': \"books = [\\n    {'no':1, 'title':'강남 아파트 인사이트','writer':'오스틀로이드','price':'25,200'},\\n    {'no':2, 'title':'단 한번의 삶','writer':'김영하','price':'18,100'},\\n    {'no':3, 'title':'흔한나매19','writer':'백난도','price':'14,220'},\\n    {'no':4, 'title':'가격이잘못','writer':'홍길동','price':'-'},\\n    {'no':5, 'title':'가격이숫자','writer':'신길동','price':900},\\n    {'no':6, 'title':'가격이없음','writer':'김길동'}\\n]\\ncopy_books = books.copy()\\ncopy_books.sort(key=lambda book : book.get('title'))\\ncopy_books\",\n",
       " '_221': [{'no': 5, 'title': '가격이숫자', 'writer': '신길동', 'price': 900},\n",
       "  {'no': 6, 'title': '가격이없음', 'writer': '김길동'},\n",
       "  {'no': 4, 'title': '가격이잘못', 'writer': '홍길동', 'price': '-'},\n",
       "  {'no': 1, 'title': '강남 아파트 인사이트', 'writer': '오스틀로이드', 'price': '25,200'},\n",
       "  {'no': 2, 'title': '단 한번의 삶', 'writer': '김영하', 'price': '18,100'},\n",
       "  {'no': 3, 'title': '흔한나매19', 'writer': '백난도', 'price': '14,220'}],\n",
       " '_i222': \"books = [\\n    {'no':1, 'title':'강남 아파트 인사이트','writer':'오스틀로이드','price':'25,200'},\\n    {'no':2, 'title':'단 한번의 삶','writer':'김영하','price':'18,100'},\\n    {'no':3, 'title':'흔한나매19','writer':'백난도','price':'14,220'},\\n    {'no':4, 'title':'가격이잘못','writer':'홍길동','price':'-'},\\n    {'no':5, 'title':'가격이숫자','writer':'신길동','price':900},\\n    {'no':6, 'title':'가격이없음','writer':'김길동'}\\n]\\ncopy_books = books.copy()\",\n",
       " '_i223': \"copy_books.sort(key=lambda book : book.get('title'))\\ncopy_books\",\n",
       " '_223': [{'no': 6, 'title': '가격이없음', 'writer': '김길동'},\n",
       "  {'no': 4, 'title': '가격이잘못', 'writer': '홍길동', 'price': '-'},\n",
       "  {'no': 5, 'title': '가격이숫자', 'writer': '신길동', 'price': 900},\n",
       "  {'no': 3, 'title': '흔한나매19', 'writer': '백난도', 'price': '14,220'},\n",
       "  {'no': 2, 'title': '단 한번의 삶', 'writer': '김영하', 'price': '18,100'},\n",
       "  {'no': 1, 'title': '강남 아파트 인사이트', 'writer': '오스틀로이드', 'price': '25,200'}],\n",
       " '_i224': \"copy_books.sort(key=lambda book : \\n                int(book.get('title').replace(',',''))\\n                    if isinstance(book.get('price'), str) and\\n                        book.get('price').replace(',','').isdigit() else\\n                book.get('price') if isinstance(book.get('price'), int) else\\n                0\\ncopy_books\",\n",
       " '_i225': \"copy_books.sort(key=lambda book : \\n                int(book.get('title').replace(',',''))\\n                    if isinstance(book.get('price'), str) and\\n                        book.get('price').replace(',','').isdigit() else\\n                book.get('price') if isinstance(book.get('price'), int) else\\n                0)\\ncopy_books\",\n",
       " '_i226': \"copy_books.sort(key=lambda book : \\n                int(book.get('price').replace(',',''))\\n                    if isinstance(book.get('price'), str) and\\n                        book.get('price').replace(',','').isdigit() else\\n                book.get('price') if isinstance(book.get('price'), int) else\\n                0  \\n               )\\ncopy_books\",\n",
       " '_226': [{'no': 6, 'title': '가격이없음', 'writer': '김길동'},\n",
       "  {'no': 4, 'title': '가격이잘못', 'writer': '홍길동', 'price': '-'},\n",
       "  {'no': 5, 'title': '가격이숫자', 'writer': '신길동', 'price': 900},\n",
       "  {'no': 3, 'title': '흔한나매19', 'writer': '백난도', 'price': '14,220'},\n",
       "  {'no': 2, 'title': '단 한번의 삶', 'writer': '김영하', 'price': '18,100'},\n",
       "  {'no': 1, 'title': '강남 아파트 인사이트', 'writer': '오스틀로이드', 'price': '25,200'}],\n",
       " '_i227': \"books.sort(key=lambda book: \\n           book.get('price')  if book.get('price') is int \\n           else int(book.get('price').replace(',','')) if book.get('price')is str \\n               and book.get('price').replace(',','').isdigit()  else \\n                            0,   reverse=True)\\nbooks\",\n",
       " '_227': [{'no': 1,\n",
       "   'title': '강남 아파트 인사이트',\n",
       "   'writer': '오스틀로이드',\n",
       "   'price': '25,200'},\n",
       "  {'no': 2, 'title': '단 한번의 삶', 'writer': '김영하', 'price': '18,100'},\n",
       "  {'no': 3, 'title': '흔한나매19', 'writer': '백난도', 'price': '14,220'},\n",
       "  {'no': 4, 'title': '가격이잘못', 'writer': '홍길동', 'price': '-'},\n",
       "  {'no': 5, 'title': '가격이숫자', 'writer': '신길동', 'price': 900},\n",
       "  {'no': 6, 'title': '가격이없음', 'writer': '김길동'}],\n",
       " '_i228': \"copy_books.sort(key=lambda book : \\n                int(book.get('price').replace(',',''))\\n                    if isinstance(book.get('price'), str) and\\n                        book.get('price').replace(',','').isdigit() else\\n                book.get('price') if isinstance(book.get('price'), int) else\\n                0  \\n               )\\ncopy_books\",\n",
       " '_228': [{'no': 6, 'title': '가격이없음', 'writer': '김길동'},\n",
       "  {'no': 4, 'title': '가격이잘못', 'writer': '홍길동', 'price': '-'},\n",
       "  {'no': 5, 'title': '가격이숫자', 'writer': '신길동', 'price': 900},\n",
       "  {'no': 3, 'title': '흔한나매19', 'writer': '백난도', 'price': '14,220'},\n",
       "  {'no': 2, 'title': '단 한번의 삶', 'writer': '김영하', 'price': '18,100'},\n",
       "  {'no': 1, 'title': '강남 아파트 인사이트', 'writer': '오스틀로이드', 'price': '25,200'}],\n",
       " '_i229': \"(lambda book : \\n                int(book.get('price').replace(',',''))\\n                    if isinstance(book.get('price'), str) and\\n                        book.get('price').replace(',','').isdigit() else\\n                book.get('price') if isinstance(book.get('price'), int) else\\n                0)(copy_books[0])\",\n",
       " '_229': 0,\n",
       " '_i230': '# shape : [l]=> len가 l인 list를 생성하는 함수 return \\n#         [r,c] => r행 c열인 list를 생성하는 함수 return\\n#         [d,r,c] => d면 r행 c열 3차원 list를 생성하는 함수 return\\ndef make_box(shape):\\n    \\n    def box(init_value)\\n        if len(shape):\\n            return [init_value]*shape[0]',\n",
       " '_i231': '# shape : [l]=> len가 l인 list를 생성하는 함수 return \\n#         [r,c] => r행 c열인 list를 생성하는 함수 return\\n#         [d,r,c] => d면 r행 c열 3차원 list를 생성하는 함수 return\\ndef make_box(shape):\\n    \\n    def box(init_value):\\n        if len(shape):\\n            return [init_value]*shape[0]\\n        elif len(shape)==2',\n",
       " '_i232': '# shape : [l]=> len가 l인 list를 생성하는 함수 return \\n#         [r,c] => r행 c열인 list를 생성하는 함수 return\\n#         [d,r,c] => d면 r행 c열 3차원 list를 생성하는 함수 return\\ndef make_box(shape):\\n    \\n    def box(init_value):\\n        if len(shape):\\n            return [init_value]*shape[0]\\n        elif len(shape)==2:\\n            ',\n",
       " '_i233': '# shape : [l]=> len가 l인 list를 생성하는 함수 return \\n#         [r,c] => r행 c열인 list를 생성하는 함수 return\\n#         [d,r,c] => d면 r행 c열 3차원 list를 생성하는 함수 return\\ndef make_box(shape):\\n    \\n    def box(init_value):\\n        if len(shape):\\n            return [init_value]*shape[0]\\n        elif len(shape)==2:\\n            return [init_value]*shape[1]',\n",
       " 'make_box': <function __main__.make_box(shape)>,\n",
       " '_i234': '# shape : [l]=> len가 l인 list를 생성하는 함수 return \\n#         [r,c] => r행 c열인 list를 생성하는 함수 return\\n#         [d,r,c] => d면 r행 c열 3차원 list를 생성하는 함수 return\\ndef make_box(shape):\\n    \\n    def box(init_value):\\n        if len(shape):\\n            return [init_value]*shape[0]\\n        elif len(shape)==2:\\n            return [[init_value]*shape[1]] * shape[0]',\n",
       " '_i235': '# shape : [l]=> len가 l인 list를 생성하는 함수 return \\n#         [r,c] => r행 c열인 list를 생성하는 함수 return\\n#         [d,r,c] => d면 r행 c열 3차원 list를 생성하는 함수 return\\ndef make_box(shape):\\n    \\n    def box(init_value):\\n        if len(shape):\\n            return [init_value]*shape[0]\\n        elif len(shape)==2:\\n            return [[init_value]*shape[1]] * shape[0]\\n    return box',\n",
       " '_i236': 'line_func = make_box([2,3])',\n",
       " 'line_func': <function __main__.make_box.<locals>.<lambda>(init_value)>,\n",
       " '_i237': 'line_func = make_box([2,3])\\nline_func()',\n",
       " '_i238': 'line_func = make_box([2,3])\\nline_func(3)',\n",
       " '_238': [3, 3],\n",
       " '_i239': 'line_func1 = make_box([10])\\nline_func1(3)',\n",
       " 'line_func1': <function __main__.make_box.<locals>.box(init_value)>,\n",
       " '_239': [3, 3, 3, 3, 3, 3, 3, 3, 3, 3],\n",
       " '_i240': 'def make_box(shape):\\n    if len(shape) == 1:\\n        return lambda init_value : [init_value]*shape[0]',\n",
       " '_i241': 'def make_box(shape):\\n    if len(shape) == 1:\\n        return lambda init_value : [init_value]*shape[0]\\n    elif len(shape) == 2\\n        return lambda init_value : [[init_value]*shape[1]]*shape[0]',\n",
       " '_i242': 'def make_box(shape):\\n    if len(shape) == 1:\\n        return lambda init_value : [init_value]*shape[0]\\n    elif len(shape) == 2:\\n        return lambda init_value : [[init_value]*shape[1]]*shape[0]',\n",
       " '_i243': 'def make_box(shape):\\n    if len(shape) == 1:\\n        return lambda init_value : [init_value]*shape[0]\\n    elif len(shape) == 2:\\n        return lambda init_value : [[init_value]*shape[1]]*shape[0]\\n    ',\n",
       " '_i244': 'line_func = make_box([2,3])',\n",
       " '_i245': 'line_func = make_box([2,3])\\nline_func(3)',\n",
       " '_245': [[3, 3, 3], [3, 3, 3]],\n",
       " '_i246': '# 5절 파이썬 내장함수',\n",
       " '_i247': 'globals() # 전역변수 리스크',\n",
       " '_247': {...},\n",
       " '_i248': 'globals() # 전역변수 리스트'}"
      ]
     },
     "execution_count": 248,
     "metadata": {},
     "output_type": "execute_result"
    }
   ],
   "source": [
    "globals() # 전역변수 리스트"
   ]
  },
  {
   "cell_type": "code",
   "execution_count": 249,
   "id": "30e2f9a7",
   "metadata": {},
   "outputs": [
    {
     "data": {
      "text/plain": [
       "False"
      ]
     },
     "execution_count": 249,
     "metadata": {},
     "output_type": "execute_result"
    }
   ],
   "source": [
    "all([True, True, True, False])# 전부 True인지 여부"
   ]
  },
  {
   "cell_type": "code",
   "execution_count": 251,
   "id": "e44461ea",
   "metadata": {},
   "outputs": [
    {
     "data": {
      "text/plain": [
       "2"
      ]
     },
     "execution_count": 251,
     "metadata": {},
     "output_type": "execute_result"
    }
   ],
   "source": [
    "round(1.5) # 반올림"
   ]
  },
  {
   "cell_type": "code",
   "execution_count": 261,
   "id": "4ac3ebbd",
   "metadata": {},
   "outputs": [
    {
     "data": {
      "text/plain": [
       "(4.0, 4.0, 3.0)"
      ]
     },
     "execution_count": 261,
     "metadata": {},
     "output_type": "execute_result"
    }
   ],
   "source": [
    "import numpy as np # numpy 모듈을 np라는 이름으로 load\n",
    "np.round(3.5), np.ceil(3.3), np.floor(3.9) # 반올림, 올림, 내림"
   ]
  },
  {
   "cell_type": "markdown",
   "id": "b93f177e",
   "metadata": {},
   "source": [
    "# 6절 연습문제"
   ]
  },
  {
   "cell_type": "code",
   "execution_count": 269,
   "id": "69fdc984",
   "metadata": {},
   "outputs": [
    {
     "data": {
      "text/plain": [
       "(1, 10)"
      ]
     },
     "execution_count": 269,
     "metadata": {},
     "output_type": "execute_result"
    }
   ],
   "source": [
    "#1\n",
    "lst = [1,2,3,4,5,6,7,8,9,10]\n",
    "get_max_min = lambda data_lst : (min(data_lst),max(data_lst))\n",
    "get_max_min(lst)"
   ]
  },
  {
   "cell_type": "code",
   "execution_count": 280,
   "id": "4f8e77ba",
   "metadata": {},
   "outputs": [
    {
     "data": {
      "text/plain": [
       "'마른체형'"
      ]
     },
     "execution_count": 280,
     "metadata": {},
     "output_type": "execute_result"
    }
   ],
   "source": [
    "#2\n",
    "getBMI = (50,170)\n",
    "BMI = getBMI[0]/(getBMI[1]**2)\n",
    "BMI_func = (lambda BMI : '마른체형' if BMI<18.5 else\n",
    "                         '표준'    if 18.5<= BMI < 25 else\n",
    "                         '비만'    if 25 <= BMI < 30 else\n",
    "                         '고도비만')\n",
    "BMI_func(BMI)"
   ]
  },
  {
   "cell_type": "code",
   "execution_count": 286,
   "id": "fa3b84f1",
   "metadata": {},
   "outputs": [
    {
     "data": {
      "text/plain": [
       "(12.0, 6.0)"
      ]
     },
     "execution_count": 286,
     "metadata": {},
     "output_type": "execute_result"
    }
   ],
   "source": [
    "#3\n",
    "import math\n",
    "get_triangle = lambda width,height: (width + height + math.sqrt(width**2 + height**2), width*height/2)\n",
    "get_triangle(3,4)"
   ]
  },
  {
   "cell_type": "code",
   "execution_count": 288,
   "id": "e2b9571d",
   "metadata": {},
   "outputs": [
    {
     "data": {
      "text/plain": [
       "55"
      ]
     },
     "execution_count": 288,
     "metadata": {},
     "output_type": "execute_result"
    }
   ],
   "source": [
    "#4\n",
    "mysum = lambda start, end : sum(range(start,end+1))\n",
    "mysum(1,10)"
   ]
  },
  {
   "cell_type": "code",
   "execution_count": 298,
   "id": "5c65127c",
   "metadata": {},
   "outputs": [
    {
     "data": {
      "text/plain": [
       "['Seo', 'Dae', 'Kwa', 'Jej']"
      ]
     },
     "execution_count": 298,
     "metadata": {},
     "output_type": "execute_result"
    }
   ],
   "source": [
    "#5\n",
    "lst =  ['Seoul','Daegu','Kwangju','Jeju']\n",
    "get_abbrs = lambda abbr : ['{:.3}'.format(a) for a in abbr]\n",
    "get_abbrs(lst)\n",
    "#list(map(lambda abbr : '{:.3}'.format(abbr),lst))"
   ]
  },
  {
   "cell_type": "code",
   "execution_count": 302,
   "id": "0d261f7d",
   "metadata": {},
   "outputs": [
    {
     "data": {
      "text/plain": [
       "81"
      ]
     },
     "execution_count": 302,
     "metadata": {},
     "output_type": "execute_result"
    }
   ],
   "source": [
    "#6\n",
    "(lambda x, y : x**y)(3,4)\n"
   ]
  },
  {
   "cell_type": "code",
   "execution_count": 305,
   "id": "cd613e3e",
   "metadata": {},
   "outputs": [
    {
     "data": {
      "text/plain": [
       "[1, 4, 9, 16, 25]"
      ]
     },
     "execution_count": 305,
     "metadata": {},
     "output_type": "execute_result"
    }
   ],
   "source": [
    "#7\n",
    "ex = [1,2,3,4,5]\n",
    "list(map(lambda x : x**2,ex))"
   ]
  },
  {
   "cell_type": "code",
   "execution_count": null,
   "id": "4e43da0f",
   "metadata": {},
   "outputs": [],
   "source": [
    "#8\n",
    "함수를 호출할 때 리스트 데이터 앞에 *를 붙이면 언패킹 되어 나오기 때문"
   ]
  },
  {
   "cell_type": "code",
   "execution_count": null,
   "id": "a37257f7",
   "metadata": {},
   "outputs": [],
   "source": [
    "#9\n",
    "2024-9-6"
   ]
  },
  {
   "cell_type": "code",
   "execution_count": 7,
   "id": "b4087484",
   "metadata": {},
   "outputs": [
    {
     "data": {
      "text/plain": [
       "False"
      ]
     },
     "execution_count": 7,
     "metadata": {},
     "output_type": "execute_result"
    }
   ],
   "source": [
    "#10\n",
    "data = ([1,2],{'a':1,'v':2},(3,4,5))\n",
    "all([len(i)==len(data[0]) for i in data])\n"
   ]
  },
  {
   "cell_type": "code",
   "execution_count": 318,
   "id": "040c31bc",
   "metadata": {},
   "outputs": [
    {
     "data": {
      "text/plain": [
       "[5, 10, 15, 20]"
      ]
     },
     "execution_count": 318,
     "metadata": {},
     "output_type": "execute_result"
    }
   ],
   "source": [
    "#11\n",
    "scalar_vector_product = lambda num,lst : [num*a for a in lst]\n",
    "scalar_vector_product(5,[1,2,3,4])"
   ]
  },
  {
   "cell_type": "code",
   "execution_count": 319,
   "id": "a4acde4c",
   "metadata": {},
   "outputs": [],
   "source": [
    "#1 2"
   ]
  },
  {
   "cell_type": "markdown",
   "id": "44afa000",
   "metadata": {},
   "source": [
    "2\n",
    "- 오류가 발생하는 라인 : 3\n",
    "- 문제 해결을 위한 코드 : global a += 1\n",
    "- 결과: 7    \n",
    "       12"
   ]
  },
  {
   "cell_type": "code",
   "execution_count": null,
   "id": "41ca1bae",
   "metadata": {},
   "outputs": [],
   "source": [
    "#3 100"
   ]
  },
  {
   "cell_type": "code",
   "execution_count": null,
   "id": "f27a8723",
   "metadata": {},
   "outputs": [],
   "source": [
    "#4 5"
   ]
  },
  {
   "cell_type": "code",
   "execution_count": null,
   "id": "c565d6db",
   "metadata": {},
   "outputs": [],
   "source": [
    "#5 9"
   ]
  },
  {
   "cell_type": "code",
   "execution_count": null,
   "id": "1be73154",
   "metadata": {},
   "outputs": [],
   "source": [
    "#6 1"
   ]
  },
  {
   "cell_type": "code",
   "execution_count": null,
   "id": "f68a2736",
   "metadata": {},
   "outputs": [],
   "source": [
    "#7 4"
   ]
  },
  {
   "cell_type": "code",
   "execution_count": null,
   "id": "175f2aaa",
   "metadata": {},
   "outputs": [],
   "source": [
    "#8 lambda"
   ]
  }
 ],
 "metadata": {
  "kernelspec": {
   "display_name": "Python 3 (ipykernel)",
   "language": "python",
   "name": "python3"
  },
  "language_info": {
   "codemirror_mode": {
    "name": "ipython",
    "version": 3
   },
   "file_extension": ".py",
   "mimetype": "text/x-python",
   "name": "python",
   "nbconvert_exporter": "python",
   "pygments_lexer": "ipython3",
   "version": "3.10.9"
  },
  "toc": {
   "base_numbering": 1,
   "nav_menu": {},
   "number_sections": false,
   "sideBar": true,
   "skip_h1_title": false,
   "title_cell": "Table of Contents",
   "title_sidebar": "Contents",
   "toc_cell": false,
   "toc_position": {
    "height": "calc(100% - 180px)",
    "left": "10px",
    "top": "150px",
    "width": "165px"
   },
   "toc_section_display": true,
   "toc_window_display": true
  }
 },
 "nbformat": 4,
 "nbformat_minor": 5
}
