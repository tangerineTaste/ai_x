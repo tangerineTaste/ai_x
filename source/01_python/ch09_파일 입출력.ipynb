{
 "cells": [
  {
   "cell_type": "code",
   "execution_count": 2,
   "id": "0c0cab56",
   "metadata": {},
   "outputs": [
    {
     "data": {
      "text/html": [
       "\n",
       "<style>\n",
       "div.container{width:86% !important;}\n",
       "div.cell.code_cell.rendered{width:100%;}\n",
       "div.CodeMirror {font-family:Consolas; font-size:15pt;}\n",
       "div.output {font-size:15pt; font-weight:bold;}\n",
       "div.input {font-family:Consolas; font-size:15pt;}\n",
       "div.prompt {min-width:70px;}\n",
       "div#toc-wrapper{padding-top:120px;}\n",
       "div.text_cell_render ul li{font-size:12pt;padding:5px;}\n",
       "table.dataframe{font-size:15px;}\n",
       "</style>\n"
      ],
      "text/plain": [
       "<IPython.core.display.HTML object>"
      ]
     },
     "metadata": {},
     "output_type": "display_data"
    }
   ],
   "source": [
    "from IPython.display import display, HTML \n",
    "display(HTML(\"\"\"\n",
    "<style>\n",
    "div.container{width:86% !important;}\n",
    "div.cell.code_cell.rendered{width:100%;}\n",
    "div.CodeMirror {font-family:Consolas; font-size:15pt;}\n",
    "div.output {font-size:15pt; font-weight:bold;}\n",
    "div.input {font-family:Consolas; font-size:15pt;}\n",
    "div.prompt {min-width:70px;}\n",
    "div#toc-wrapper{padding-top:120px;}\n",
    "div.text_cell_render ul li{font-size:12pt;padding:5px;}\n",
    "table.dataframe{font-size:15px;}\n",
    "</style>\n",
    "\"\"\"))"
   ]
  },
  {
   "cell_type": "markdown",
   "id": "5459be6c",
   "metadata": {},
   "source": [
    "<b><font size=\"5\" color=\"red\"> ch09 파일 입/출력 프로그래밍</font></b>\n",
    "- 파일 : txt, pickle, csv, json, hdf5(h5)\n",
    "\n",
    "# 1절 txt파일에 데이터 저장하고 불러오기"
   ]
  },
  {
   "cell_type": "code",
   "execution_count": 10,
   "id": "d03d411f",
   "metadata": {},
   "outputs": [],
   "source": [
    "# try:\n",
    "#     f = open('data/ch09.txt', 'w')\n",
    "# except: FileNotFoundError as e:\n",
    "#         print(e)\n",
    "\n",
    "f = open('data/ch09.txt','w')"
   ]
  },
  {
   "cell_type": "code",
   "execution_count": 9,
   "id": "4de4df5f",
   "metadata": {},
   "outputs": [],
   "source": [
    "f.write('Hello, World')\n",
    "f.close()"
   ]
  },
  {
   "cell_type": "code",
   "execution_count": 11,
   "id": "eac4f4fe",
   "metadata": {},
   "outputs": [
    {
     "name": "stdout",
     "output_type": "stream",
     "text": [
      "True\n"
     ]
    }
   ],
   "source": [
    "# mode : 'r' 또는 'rt' : text읽기 모드\n",
    "    #    'w' 또는 'wt' : text쓰기 모드(덮어쓰기,파일이 없으면 생성)\n",
    "    #    'a' 또는 'at' : text추가 모드(추가하기,파일이 없으면 생성)\n",
    "    #    'rb' : 바이너리읽기 모드\n",
    "    #    'wb' : 바이너리 쓰기 모드\n",
    "    #    'ab' : 바이너리 추가 모드\n",
    "    #  읽기모드에서는 파일이 없으면 예외, 쓰기모드에서는 폴더가 없으면 예외\n",
    "# encoding\n",
    "    # euc-kr (한글완성형) 믜x\n",
    "    # cp949  (확장된 한글완성형) : open()함수 기본 encoding방식(window)\n",
    "    # utf-8  (한글조합형): open()함수 기본 encoding방식(mac, Linux)\n",
    "\n",
    "with open('data/ch09.txt', 'w') as f:\n",
    "    print(f.writable())\n",
    "    f.write('Hello\\nPython')"
   ]
  },
  {
   "cell_type": "code",
   "execution_count": 15,
   "id": "dff0a75f",
   "metadata": {},
   "outputs": [],
   "source": [
    "with open('data/ch09.txt','w',encoding='utf-8') as f:\n",
    "        # 1방법\n",
    "        f.write('홍길동, 33, 아무동9\\n')\n",
    "        f.write('홍길동, 33, 아무동9\\n')\n",
    "        # 2방법\n",
    "        textlist = ['홍길동, 33, 아무동9\\n', '김길동, 23, 아무동9\\n']\n",
    "        for line in textlist:\n",
    "            f.write(line)\n",
    "        # 3방법\n",
    "        f.writelines(textlist)"
   ]
  },
  {
   "cell_type": "code",
   "execution_count": 24,
   "id": "4dc369d5",
   "metadata": {
    "collapsed": true
   },
   "outputs": [
    {
     "name": "stdout",
     "output_type": "stream",
     "text": [
      "홍길동, 33, 아무동9\n",
      "\n",
      "홍길동, 33, 아무동9\n",
      "\n",
      "홍길동, 33, 아무동9\n",
      "\n",
      "김길동, 23, 아무동9\n",
      "\n",
      "홍길동, 33, 아무동9\n",
      "\n",
      "김길동, 23, 아무동9\n",
      "\n"
     ]
    }
   ],
   "source": [
    "#한줄씩 읽기\n",
    "with open('data/ch09.txt','r',encoding='utf-8') as f:\n",
    "    line = f.readline()\n",
    "    while line!='':\n",
    "        print(line)\n",
    "        line = f.readline()"
   ]
  },
  {
   "cell_type": "code",
   "execution_count": 25,
   "id": "c1d2672e",
   "metadata": {},
   "outputs": [
    {
     "name": "stdout",
     "output_type": "stream",
     "text": [
      "['홍길동, 33, 아무동9\\n', '홍길동, 33, 아무동9\\n', '홍길동, 33, 아무동9\\n', '김길동, 23, 아무동9\\n', '홍길동, 33, 아무동9\\n', '김길동, 23, 아무동9\\n']\n"
     ]
    }
   ],
   "source": [
    "#모든 줄을 읽기\n",
    "with open('data/ch09.txt','r',encoding='utf-8') as f:\n",
    "    lines = f.readlines()\n",
    "    print(lines)"
   ]
  },
  {
   "cell_type": "code",
   "execution_count": 26,
   "id": "0dbf0c04",
   "metadata": {},
   "outputs": [
    {
     "name": "stdout",
     "output_type": "stream",
     "text": [
      "홍길동, 33, 아무동9\n",
      "홍길동, 33, 아무동9\n",
      "홍길동, 33, 아무동9\n",
      "김길동, 23, 아무동9\n",
      "홍길동, 33, 아무동9\n",
      "김길동, 23, 아무동9\n",
      "\n"
     ]
    }
   ],
   "source": [
    "#모두 읽기\n",
    "with open('data/ch09.txt','r',encoding='utf-8') as f:\n",
    "    lines = f.read()\n",
    "    print(lines)"
   ]
  },
  {
   "cell_type": "markdown",
   "id": "90802ddf",
   "metadata": {},
   "source": [
    "# 2절 피클을 이용한 객체 저장 및 불러오기\n",
    "- 머신러닝 모델을 저장할 때 피클을 이용함\n",
    "\n",
    "## 2.1 형식이 있는 txt 데이터 불러오기"
   ]
  },
  {
   "cell_type": "code",
   "execution_count": 34,
   "id": "e39fe552",
   "metadata": {},
   "outputs": [],
   "source": [
    "class Member:\n",
    "    def __init__(self,name,age,email,address):\n",
    "        self.name = name\n",
    "        self.age = age\n",
    "        self.email = email\n",
    "        self.address = address\n",
    "    \n",
    "    def __str__(self):\n",
    "        return '{}, {}, {}, {}'.format(self.name, self.age , self.email, self.address)\n",
    "    \n",
    "    def as_dict(self):\n",
    "        return {'name':self.name,\n",
    "                'age': self.age,\n",
    "                'email': self.email,\n",
    "                'address': self.address\n",
    "               }\n",
    "    def __eq__(self,other):\n",
    "        return (self.name == other.name and self.age == other.age and \n",
    "                self.email == other.email and self.address == other.address)"
   ]
  },
  {
   "cell_type": "code",
   "execution_count": 33,
   "id": "a61d2cae",
   "metadata": {},
   "outputs": [
    {
     "name": "stdout",
     "output_type": "stream",
     "text": [
      "True\n"
     ]
    }
   ],
   "source": [
    "user1 = Member('홍',20,'a@a.com','신림동')\n",
    "user2 = Member('홍',20,'a@a.com','신림동')\n",
    "print(user1 == user2) # 같은 내용이면 True로 하려면 클래스의 __eq__메소드 오버라이딩"
   ]
  },
  {
   "cell_type": "code",
   "execution_count": 50,
   "id": "5024a322",
   "metadata": {},
   "outputs": [],
   "source": [
    "# 형식이 있는 txt 파일 내용을 member list(피클 저장), 딕셔너리 list(데이터프레임)로 저장\n",
    "member_list = []\n",
    "user_list = [] # member list\n",
    "user_dict = [] # 딕셔너리 list\n",
    "with open('data/ch09_member.txt', 'r', encoding='utf-8') as f :\n",
    "    member_list = f.readlines()\n",
    "for line in member_list:\n",
    "    data = line.split(',')\n",
    "    \n",
    "    name = data[0]\n",
    "    age = int(data[1])\n",
    "    email = data[2]\n",
    "    address = data[3].strip()\n",
    "    \n",
    "    user = Member(name,age,email,address)\n",
    "    user_list.append(user)\n",
    "    user_dict.append(user.as_dict())"
   ]
  },
  {
   "cell_type": "code",
   "execution_count": 52,
   "id": "14771fbf",
   "metadata": {},
   "outputs": [
    {
     "data": {
      "text/plain": [
       "[{'name': '홍길동',\n",
       "  'age': 20,\n",
       "  'email': ' kildong@hong.com',\n",
       "  'address': '서울시 관악구'},\n",
       " {'name': '홍길숙',\n",
       "  'age': 25,\n",
       "  'email': ' kilsuk1@hong.com',\n",
       "  'address': '서울시 영등포구'},\n",
       " {'name': '신길동',\n",
       "  'age': 30,\n",
       "  'email': ' shinkil@hong.com',\n",
       "  'address': '서울시 동작구'}]"
      ]
     },
     "execution_count": 52,
     "metadata": {},
     "output_type": "execute_result"
    }
   ],
   "source": [
    "user_dict"
   ]
  },
  {
   "cell_type": "code",
   "execution_count": 51,
   "id": "cadbb610",
   "metadata": {},
   "outputs": [
    {
     "name": "stdout",
     "output_type": "stream",
     "text": [
      "홍길동, 20,  kildong@hong.com, 서울시 관악구\n",
      "홍길숙, 25,  kilsuk1@hong.com, 서울시 영등포구\n",
      "신길동, 30,  shinkil@hong.com, 서울시 동작구\n"
     ]
    }
   ],
   "source": [
    "for user in user_list:\n",
    "    print(user)"
   ]
  },
  {
   "cell_type": "markdown",
   "id": "6c8a1e95",
   "metadata": {},
   "source": [
    "## 2.2 피클링\n",
    "- 객체 리스트(user_list) -> 피클파일로 쓰기\n",
    "- 피클 파일을 읽기 -> 객체 리스트(load_user_list)"
   ]
  },
  {
   "cell_type": "code",
   "execution_count": 54,
   "id": "cdac96d7",
   "metadata": {},
   "outputs": [],
   "source": [
    "# 피클링을 이용한 객체를 저장하기\n",
    "import pickle\n",
    "with open('data/ch09_member.data', 'wb') as f:\n",
    "    pickle.dump(user_list, f)"
   ]
  },
  {
   "cell_type": "code",
   "execution_count": null,
   "id": "dd5f0a6a",
   "metadata": {},
   "outputs": [],
   "source": [
    "# 피클링을 이용한 파일에서 객체 데이터로 읽기"
   ]
  },
  {
   "cell_type": "code",
   "execution_count": 62,
   "id": "83b031b8",
   "metadata": {},
   "outputs": [
    {
     "data": {
      "text/plain": [
       "True"
      ]
     },
     "execution_count": 62,
     "metadata": {},
     "output_type": "execute_result"
    }
   ],
   "source": [
    "with open('data/ch09_member.data', 'rb') as f:\n",
    "    load_user_list = pickle.load(f)\n",
    "user_list == load_user_list"
   ]
  },
  {
   "cell_type": "code",
   "execution_count": 84,
   "id": "35de70f5",
   "metadata": {},
   "outputs": [
    {
     "name": "stdout",
     "output_type": "stream",
     "text": [
      "0 홍길동, 20,  kildong@hong.com, 서울시 관악구\n",
      "0 홍길동, 20,  kildong@hong.com, 서울시 관악구\n",
      "1 홍길숙, 25,  kilsuk1@hong.com, 서울시 영등포구\n",
      "1 홍길숙, 25,  kilsuk1@hong.com, 서울시 영등포구\n",
      "2 신길동, 30,  shinkil@hong.com, 서울시 동작구\n",
      "2 신길동, 30,  shinkil@hong.com, 서울시 동작구\n"
     ]
    }
   ],
   "source": [
    "for idx,(user,load_user) in enumerate(zip(user_list, load_user_list)):\n",
    "    print(idx, user)\n",
    "    print(idx, load_user)"
   ]
  },
  {
   "cell_type": "code",
   "execution_count": 77,
   "id": "5ab0419f",
   "metadata": {},
   "outputs": [
    {
     "data": {
      "text/plain": [
       "True"
      ]
     },
     "execution_count": 77,
     "metadata": {},
     "output_type": "execute_result"
    }
   ],
   "source": [
    "lst = []\n",
    "for user,load_user in zip(user_list, load_user_list):\n",
    "    lst.append(user==load_user)\n",
    "all(lst)"
   ]
  },
  {
   "cell_type": "code",
   "execution_count": 81,
   "id": "74ee214f",
   "metadata": {},
   "outputs": [
    {
     "data": {
      "text/plain": [
       "True"
      ]
     },
     "execution_count": 81,
     "metadata": {},
     "output_type": "execute_result"
    }
   ],
   "source": [
    "all(user==load_user for user,load_user in zip(user_list, load_user_list))"
   ]
  },
  {
   "cell_type": "markdown",
   "id": "bdcb13f8",
   "metadata": {},
   "source": [
    "# 3절 CSV형식 파일 읽기/쓰기\n",
    "- CSV파일 <-> 리스트데이터    3.1 / 3.2\n",
    "- CSV파일 <-> 딕셔너리데이터  3.3 / 3.4"
   ]
  },
  {
   "cell_type": "markdown",
   "id": "ba5814f8",
   "metadata": {},
   "source": [
    "## 3.1 reader\n",
    "- CSV -> 리스트데이터로 "
   ]
  },
  {
   "cell_type": "code",
   "execution_count": 92,
   "id": "3d52af2a",
   "metadata": {},
   "outputs": [
    {
     "name": "stdout",
     "output_type": "stream",
     "text": [
      "[['홍길동', '20', 'kildong@hong.com', '서울시 관악구'], ['김길동', '40', 'kimdong@hong.com', '서울시 영등포구'], ['신길동', '30', 'sindong@hong.com', '서울시 동작구']]\n"
     ]
    }
   ],
   "source": [
    "import csv\n",
    "with open('data/ch09_member1.csv','r',encoding='utf-8') as f:\n",
    "    reader = csv.reader(f)\n",
    "    result = list(reader)\n",
    "print(result)"
   ]
  },
  {
   "cell_type": "code",
   "execution_count": 94,
   "id": "f1ab351e",
   "metadata": {},
   "outputs": [
    {
     "name": "stdout",
     "output_type": "stream",
     "text": [
      "[['홍길동', 20.0, 'kildong@hong.com', '서울시 관악구'], ['김길동', 40.0, 'kimdong@hong.com', '서울시 영등포구'], ['신길동', 30.0, 'sindong@hong.com', '서울시 동작구']]\n"
     ]
    }
   ],
   "source": [
    "# \"\"(따옴표)가 없는 데이터는 numeric 으로\n",
    "with open('data/ch09_member1.csv','r',encoding='utf-8') as f:\n",
    "    reader = csv.reader(f,\n",
    "                       quoting=csv.QUOTE_NONNUMERIC)\n",
    "    result = list(reader)\n",
    "print(result)"
   ]
  },
  {
   "cell_type": "code",
   "execution_count": 96,
   "id": "a8512d86",
   "metadata": {},
   "outputs": [
    {
     "name": "stdout",
     "output_type": "stream",
     "text": [
      "[{'name': '홍길동', 'age': 20, 'email': 'kildong@hong.com', 'address': '서울시 관악구'}, {'name': '김길동', 'age': 40, 'email': 'kimdong@hong.com', 'address': '서울시 영등포구'}, {'name': '신길동', 'age': 30, 'email': 'sindong@hong.com', 'address': '서울시 동작구'}]\n"
     ]
    }
   ],
   "source": [
    "with open('data/ch09_member1.csv','r',encoding='utf-8') as f:\n",
    "    reader = csv.reader(f,\n",
    "                       quoting=csv.QUOTE_NONNUMERIC)\n",
    "    result = list(reader)\n",
    "dict_list = []\n",
    "for data in result:\n",
    "    dict_list.append({\n",
    "        'name':data[0],\n",
    "        'age':int(data[1]),\n",
    "        'email':data[2],\n",
    "        'address' : data[3]\n",
    "    })\n",
    "print(dict_list)"
   ]
  },
  {
   "cell_type": "markdown",
   "id": "b763984c",
   "metadata": {},
   "source": [
    "## 3.2 writer\n",
    "- 리스트데이터 -> csv"
   ]
  },
  {
   "cell_type": "code",
   "execution_count": 100,
   "id": "bdcbbce4",
   "metadata": {},
   "outputs": [],
   "source": [
    "user_list = [[\"홍길동\",20,\"kildong@hong.com\",\"서울시 관악구\"],\n",
    "             [\"김길동\",40,\"kimdong@hong.com\",\"서울시 영등포구\"]]"
   ]
  },
  {
   "cell_type": "code",
   "execution_count": 141,
   "id": "97de44bd",
   "metadata": {},
   "outputs": [],
   "source": [
    "with open('data/ch09_member1_write.csv', 'a', newline='',encoding='utf-8') as f:\n",
    "    writer = csv.writer(f)\n",
    "    writer.writerows(user_list)"
   ]
  },
  {
   "cell_type": "code",
   "execution_count": 142,
   "id": "de301288",
   "metadata": {},
   "outputs": [],
   "source": [
    "with open('data/ch09_member1_write.csv', 'w', newline='',encoding='utf-8') as f:\n",
    "    writer = csv.writer(f, quoting=csv.QUOTE_NONNUMERIC)\n",
    "    writer.writerows(user_list)"
   ]
  },
  {
   "cell_type": "markdown",
   "id": "b984b335",
   "metadata": {},
   "source": [
    "## 3.3 DictReader"
   ]
  },
  {
   "cell_type": "code",
   "execution_count": 145,
   "id": "6c7b89bf",
   "metadata": {},
   "outputs": [
    {
     "name": "stdout",
     "output_type": "stream",
     "text": [
      "홍길동 20 h@h.com 서울시 관악구\n",
      "신길동 40 s@h.com 서울시 영등포구 팀장\n",
      "김길동 30 k@h.com 서울시 동작구\n"
     ]
    }
   ],
   "source": [
    "#헤더가 있는 csv 불러오기\n",
    "with open('data/ch09_member3.csv','r',encoding='utf-8') as f: \n",
    "    dict_reader = csv.DictReader(f)\n",
    "    for row in dict_reader:\n",
    "        if row['job'] is None:\n",
    "            print(row['name'], row['age'],row['email'],row['address'])\n",
    "        else:\n",
    "            print(row['name'], row['age'],row['email'],row['address'],row['job'])"
   ]
  },
  {
   "cell_type": "code",
   "execution_count": 156,
   "id": "4791c69e",
   "metadata": {},
   "outputs": [
    {
     "name": "stdout",
     "output_type": "stream",
     "text": [
      "{'name': '홍길동', 'age': '20', 'email': 'kildong@hong.com', 'address': '서울시 관악구', 'job': ['']}\n",
      "{'name': '김길동', 'age': '40', 'email': 'kimdong@hong.com', 'address': '서울시 영등포구', 'job': ['팀장']}\n",
      "{'name': '신길동', 'age': '30', 'email': 'sindong@hong.com', 'address': '서울시 동작구', 'job': ['']}\n"
     ]
    }
   ],
   "source": [
    "#헤더가 없는 csv 불러오기\n",
    "with open('data/ch09_member1-cp.csv','r') as f: \n",
    "    dict_reader = csv.DictReader(f, \n",
    "                                 fieldnames=['name','age','email','address'], \n",
    "                                 restkey='job')\n",
    "    result = list(dict_reader)\n",
    "for row in result:\n",
    "    print(row)"
   ]
  },
  {
   "cell_type": "markdown",
   "id": "bcf078ba",
   "metadata": {},
   "source": [
    "## 3.4 DictWriter\n",
    "- 딕셔너리 리스트 -> CSV"
   ]
  },
  {
   "cell_type": "code",
   "execution_count": 161,
   "id": "a79ca907",
   "metadata": {},
   "outputs": [],
   "source": [
    "user1 = {'name': '홍길동', 'age': '20', 'email': 'a@hong.com', 'address': '서울시 관악구'}\n",
    "user2 = {'name': '신길동', 'age': '30', 'email': 'b@hong.com', 'address': '서울시 관악구'}\n",
    "user3 = {'name': '김길동', 'age': '40', 'email': 'c@hong.com', 'address': '서울시 관악구'}\n",
    "user_list = [user1,user2,user3]\n",
    "fieldnames =  list(user1.keys())\n",
    "with open('data/ch09_member4.csv', 'w',encoding='utf-8') as f:\n",
    "    dict_writer = csv.DictWriter(f, fieldnames=fieldnames)\n",
    "    dict_writer.writeheader() #header 쓰기\n",
    "    dict_writer.writerows(user_list)"
   ]
  },
  {
   "cell_type": "code",
   "execution_count": 162,
   "id": "8604513b",
   "metadata": {},
   "outputs": [],
   "source": [
    "with open('data/ch09_member4.csv', 'w',encoding='utf-8') as f:\n",
    "    dict_writer = csv.DictWriter(f, fieldnames=fieldnames)\n",
    "    dict_writer.writeheader() #header 쓰기\n",
    "    dict_writer.writerows(user_list)"
   ]
  },
  {
   "cell_type": "markdown",
   "id": "42e1e744",
   "metadata": {},
   "source": [
    "## CSV -> 데이터프레임\n",
    "- 가장 많이 사용하는 것"
   ]
  },
  {
   "cell_type": "code",
   "execution_count": 166,
   "id": "1c3837c5",
   "metadata": {},
   "outputs": [
    {
     "data": {
      "text/plain": [
       "pandas.core.frame.DataFrame"
      ]
     },
     "execution_count": 166,
     "metadata": {},
     "output_type": "execute_result"
    }
   ],
   "source": [
    "import pandas as pd\n",
    "member = pd.read_csv('data/ch09_member3.csv')\n",
    "type(member)"
   ]
  },
  {
   "cell_type": "markdown",
   "id": "be1cf5a9",
   "metadata": {},
   "source": [
    "# 4절 JSON 데이터 저장하고 불러오기(dump, load)\n",
    "- 딕셔너리 리스트 <-> JSON파일\n",
    "- 객체리스트 <-> JSON 파일 (객체리스트 <-> 딕셔너리 리스트 <-> JSON 파일로 작동)\n",
    "\n",
    "## 4.1 dump(파일 출력)"
   ]
  },
  {
   "cell_type": "code",
   "execution_count": 172,
   "id": "2199c15d",
   "metadata": {},
   "outputs": [],
   "source": [
    "data = [{'name': '홍길동', 'age': '20', 'email': 'a@hong.com', 'address': '서울'},\n",
    "        {'name': '신길동', 'age': '30', 'email': 'b@hong.com', 'address': '인천'}]"
   ]
  },
  {
   "cell_type": "code",
   "execution_count": 183,
   "id": "edaa0533",
   "metadata": {},
   "outputs": [],
   "source": [
    "# ensure_ascii 매개변수\n",
    "    # True  : 비 ASCII문은 유니코드 형태로 저장\n",
    "    # False : 비 ASCII문자 원래 형태로 저장\n",
    "import json\n",
    "with open('data/ch09_member1.json','w',encoding='utf-8') as f:\n",
    "    json.dump(data, #딕셔너리 리스트 \n",
    "              f,\n",
    "              ensure_ascii = False,\n",
    "              indent = '  ')"
   ]
  },
  {
   "cell_type": "code",
   "execution_count": 187,
   "id": "6e0fe269",
   "metadata": {},
   "outputs": [],
   "source": [
    "class Member:\n",
    "    def __init__(self,name,age,email,address):\n",
    "        self.name = name\n",
    "        self.age = age\n",
    "        self.email = email\n",
    "        self.address = address\n",
    "    \n",
    "    def __str__(self):\n",
    "        return '{}, {}, {}, {}'.format(self.name, self.age , self.email, self.address)\n",
    "    \n",
    "    def as_dict(self):\n",
    "        return {'name':self.name,\n",
    "                'age': self.age,\n",
    "                'email': self.email,\n",
    "                'address': self.address\n",
    "               }\n",
    "    def __eq__(self,other):\n",
    "        if isinstance(other, Member):\n",
    "            return self.__str__() == other.__str__()\n",
    "        else:\n",
    "            return False"
   ]
  },
  {
   "cell_type": "code",
   "execution_count": 196,
   "id": "5173833f",
   "metadata": {},
   "outputs": [
    {
     "data": {
      "text/plain": [
       "True"
      ]
     },
     "execution_count": 196,
     "metadata": {},
     "output_type": "execute_result"
    }
   ],
   "source": [
    "user1 = Member('홍길동',22,'a@a.com','서울') \n",
    "user2 = Member('홍길동',22,'a@a.com','서울') \n",
    "user1 == user2"
   ]
  },
  {
   "cell_type": "code",
   "execution_count": 199,
   "id": "3098809b",
   "metadata": {},
   "outputs": [],
   "source": [
    "member_list = [Member('홍길동',22,'a@a.com','서울'),\n",
    "               Member('신길동',32,'a@a.com','서울'),\n",
    "               Member('김길동',42,'a@a.com','서울')]"
   ]
  },
  {
   "cell_type": "code",
   "execution_count": 206,
   "id": "bdc0e275",
   "metadata": {},
   "outputs": [],
   "source": [
    "with open('data/ch09_member1.json','w',encoding='utf-8') as f:\n",
    "    json.dump(member_list, \n",
    "              f, \n",
    "              ensure_ascii=False, \n",
    "              indent='',\n",
    "              default=Member.as_dict #객체를 딕셔너리로 return 하는 인스턴스 함수\n",
    "             )"
   ]
  },
  {
   "cell_type": "markdown",
   "id": "bea8f9c2",
   "metadata": {},
   "source": [
    "## 4.2 load(파일 입력)\n",
    "- json파일 -> 딕셔너리 리스트(기본)\n",
    "- json파일 -> 객체 리스트  (사실 json -> 딕셔너리 리스트 -> 객체 리스트 순서임)"
   ]
  },
  {
   "cell_type": "code",
   "execution_count": 208,
   "id": "cf189f33",
   "metadata": {},
   "outputs": [],
   "source": [
    "def as_member(dic):\n",
    "    '매개변수로 딕셔너리를 받아 Member 객체를 return'\n",
    "    return Member(dic.get('name'),dic.get('age'),dic.get('email'),dic.get('address'))"
   ]
  },
  {
   "cell_type": "code",
   "execution_count": 209,
   "id": "e466dfbb",
   "metadata": {},
   "outputs": [
    {
     "name": "stdout",
     "output_type": "stream",
     "text": [
      "홍길동, 20, a@hong.com, 서울\n"
     ]
    }
   ],
   "source": [
    "member = as_member({'name': '홍길동', 'age': '20', 'email': 'a@hong.com', 'address': '서울'})\n",
    "print(member)"
   ]
  },
  {
   "cell_type": "code",
   "execution_count": 213,
   "id": "1c8276a0",
   "metadata": {},
   "outputs": [
    {
     "data": {
      "text/plain": [
       "[{'name': '홍길동', 'age': 22, 'email': 'a@a.com', 'address': '서울'},\n",
       " {'name': '신길동', 'age': 32, 'email': 'a@a.com', 'address': '서울'},\n",
       " {'name': '김길동', 'age': 42, 'email': 'a@a.com', 'address': '서울'}]"
      ]
     },
     "execution_count": 213,
     "metadata": {},
     "output_type": "execute_result"
    }
   ],
   "source": [
    "with open('data/ch09_member1.json', encoding='utf-8') as f:\n",
    "    load_data = json.load(f)\n",
    "load_data"
   ]
  },
  {
   "cell_type": "code",
   "execution_count": 216,
   "id": "016884b8",
   "metadata": {},
   "outputs": [
    {
     "name": "stdout",
     "output_type": "stream",
     "text": [
      "홍길동, 22, a@a.com, 서울\n",
      "신길동, 32, a@a.com, 서울\n",
      "김길동, 42, a@a.com, 서울\n"
     ]
    }
   ],
   "source": [
    "with open('data/ch09_member1.json', encoding='utf-8') as f:\n",
    "    load_member_list = json.load(f, object_hook=as_member)\n",
    "for load_member in load_member_list:\n",
    "    print(load_member)"
   ]
  },
  {
   "cell_type": "markdown",
   "id": "bd6a62a0",
   "metadata": {},
   "source": [
    "## JSON -> 데이터프레임"
   ]
  },
  {
   "cell_type": "code",
   "execution_count": 219,
   "id": "6093b31c",
   "metadata": {},
   "outputs": [
    {
     "data": {
      "text/html": [
       "<div>\n",
       "<style scoped>\n",
       "    .dataframe tbody tr th:only-of-type {\n",
       "        vertical-align: middle;\n",
       "    }\n",
       "\n",
       "    .dataframe tbody tr th {\n",
       "        vertical-align: top;\n",
       "    }\n",
       "\n",
       "    .dataframe thead th {\n",
       "        text-align: right;\n",
       "    }\n",
       "</style>\n",
       "<table border=\"1\" class=\"dataframe\">\n",
       "  <thead>\n",
       "    <tr style=\"text-align: right;\">\n",
       "      <th></th>\n",
       "      <th>name</th>\n",
       "      <th>age</th>\n",
       "      <th>email</th>\n",
       "      <th>address</th>\n",
       "    </tr>\n",
       "  </thead>\n",
       "  <tbody>\n",
       "    <tr>\n",
       "      <th>0</th>\n",
       "      <td>홍길동</td>\n",
       "      <td>22</td>\n",
       "      <td>a@a.com</td>\n",
       "      <td>서울</td>\n",
       "    </tr>\n",
       "    <tr>\n",
       "      <th>1</th>\n",
       "      <td>신길동</td>\n",
       "      <td>32</td>\n",
       "      <td>a@a.com</td>\n",
       "      <td>서울</td>\n",
       "    </tr>\n",
       "    <tr>\n",
       "      <th>2</th>\n",
       "      <td>김길동</td>\n",
       "      <td>42</td>\n",
       "      <td>a@a.com</td>\n",
       "      <td>서울</td>\n",
       "    </tr>\n",
       "  </tbody>\n",
       "</table>\n",
       "</div>"
      ],
      "text/plain": [
       "  name  age    email address\n",
       "0  홍길동   22  a@a.com      서울\n",
       "1  신길동   32  a@a.com      서울\n",
       "2  김길동   42  a@a.com      서울"
      ]
     },
     "execution_count": 219,
     "metadata": {},
     "output_type": "execute_result"
    }
   ],
   "source": [
    "import pandas as pd\n",
    "pd.read_json('data/ch09_member1.json')"
   ]
  },
  {
   "cell_type": "markdown",
   "id": "58ae9c25",
   "metadata": {},
   "source": [
    "# 5절 연습문제"
   ]
  },
  {
   "cell_type": "code",
   "execution_count": 234,
   "id": "f4e7b6a6",
   "metadata": {},
   "outputs": [
    {
     "name": "stdout",
     "output_type": "stream",
     "text": [
      "데이터가 로드되었습니다.\n",
      "1:입력|2:전체출력|3:삭제|4:이름찾기|5:내보내기(CSV)|9:종료 메뉴 선택:1\n",
      "이름 : aa\n",
      "전화번호 : 010-2132-1111\n",
      "이메일 : as@na.com\n",
      "나이 : 23\n",
      "고객등급 : 3\n",
      "기타정보 : ac\n"
     ]
    },
    {
     "ename": "TypeError",
     "evalue": "writer.writerow() takes exactly one argument (2 given)",
     "output_type": "error",
     "traceback": [
      "\u001b[1;31m---------------------------------------------------------------------------\u001b[0m",
      "\u001b[1;31mTypeError\u001b[0m                                 Traceback (most recent call last)",
      "Cell \u001b[1;32mIn[234], line 16\u001b[0m\n\u001b[0;32m     14\u001b[0m     \u001b[38;5;28;01mwith\u001b[39;00m \u001b[38;5;28mopen\u001b[39m(\u001b[38;5;124m'\u001b[39m\u001b[38;5;124mdata/ch09_client.csv\u001b[39m\u001b[38;5;124m'\u001b[39m, \u001b[38;5;124m'\u001b[39m\u001b[38;5;124ma\u001b[39m\u001b[38;5;124m'\u001b[39m,encoding\u001b[38;5;241m=\u001b[39m\u001b[38;5;124m'\u001b[39m\u001b[38;5;124mutf-8\u001b[39m\u001b[38;5;124m'\u001b[39m) \u001b[38;5;28;01mas\u001b[39;00m f:\n\u001b[0;32m     15\u001b[0m         writer \u001b[38;5;241m=\u001b[39m csv\u001b[38;5;241m.\u001b[39mwriter(f)\n\u001b[1;32m---> 16\u001b[0m         \u001b[43mwriter\u001b[49m\u001b[38;5;241;43m.\u001b[39;49m\u001b[43mwriterow\u001b[49m\u001b[43m(\u001b[49m\u001b[38;5;124;43m'\u001b[39;49m\u001b[38;5;130;43;01m\\n\u001b[39;49;00m\u001b[38;5;124;43m'\u001b[39;49m\u001b[43m,\u001b[49m\u001b[43m[\u001b[49m\u001b[43mname\u001b[49m\u001b[43m,\u001b[49m\u001b[43mnumber\u001b[49m\u001b[43m,\u001b[49m\u001b[43memail\u001b[49m\u001b[43m,\u001b[49m\u001b[43mage\u001b[49m\u001b[43m,\u001b[49m\u001b[43mtier\u001b[49m\u001b[43m,\u001b[49m\u001b[43minfo\u001b[49m\u001b[43m]\u001b[49m\u001b[43m)\u001b[49m\n\u001b[0;32m     17\u001b[0m \u001b[38;5;28;01melif\u001b[39;00m menu_selet\u001b[38;5;241m==\u001b[39m\u001b[38;5;241m2\u001b[39m:\n\u001b[0;32m     18\u001b[0m     \u001b[38;5;28;01mwith\u001b[39;00m \u001b[38;5;28mopen\u001b[39m(\u001b[38;5;124m'\u001b[39m\u001b[38;5;124mdata/ch09_client.csv\u001b[39m\u001b[38;5;124m'\u001b[39m,\u001b[38;5;124m'\u001b[39m\u001b[38;5;124mr\u001b[39m\u001b[38;5;124m'\u001b[39m,encoding\u001b[38;5;241m=\u001b[39m\u001b[38;5;124m'\u001b[39m\u001b[38;5;124mutf-8\u001b[39m\u001b[38;5;124m'\u001b[39m) \u001b[38;5;28;01mas\u001b[39;00m f: \n",
      "\u001b[1;31mTypeError\u001b[0m: writer.writerow() takes exactly one argument (2 given)"
     ]
    }
   ],
   "source": [
    "import csv\n",
    "with open('data/ch09_client.csv','r',encoding='utf-8') as f: \n",
    "    dict_reader = csv.DictReader(f)\n",
    "print('데이터가 로드되었습니다.')\n",
    "\n",
    "menu_selet = int(input('1:입력|2:전체출력|3:삭제|4:이름찾기|5:내보내기(CSV)|9:종료 메뉴 선택:'))\n",
    "if menu_selet==1:\n",
    "    name = input('이름 : ')\n",
    "    number = input('전화번호 : ')\n",
    "    email = input('이메일 : ')\n",
    "    age = int(input('나이 : '))\n",
    "    tier = int(input('고객등급 : '))\n",
    "    info = input('기타정보 : ')\n",
    "    with open('data/ch09_client.csv', 'a',encoding='utf-8') as f:\n",
    "        writer = csv.writer(f)\n",
    "        writer.writerow([name,number,email,age,tier,info])\n",
    "elif menu_selet==2:\n",
    "    with open('data/ch09_client.csv','r',encoding='utf-8') as f: \n",
    "        client_reader = csv.DictReader(f)\n",
    "    print('='*50)  \n",
    "    print('\\t 고객  정보')\n",
    "    print('-'*50)\n",
    "    print('{:5} {:3} {:15} {} \\t{:3} {}'.format('GRADE','이름','전화','메일','나이','기타'))\n",
    "    print('='*50)\n",
    "    for client in client_reader:\n",
    "            print('{:5} {:3} {:15} {} \\t{:3} {}'.format('*'*client['tier'],client['name'],client['number'],client['email'],client['age'],client['info']))\n",
    "else:\n",
    "    pass"
   ]
  },
  {
   "cell_type": "code",
   "execution_count": 229,
   "id": "a495c1ec",
   "metadata": {},
   "outputs": [
    {
     "name": "stdout",
     "output_type": "stream",
     "text": [
      "==================================================\n",
      "\t 고객  정보\n",
      "--------------------------------------------------\n",
      "GRADE 이름  전화              메일 \t나이  기타\n",
      "==================================================\n"
     ]
    }
   ],
   "source": [
    "print('='*50)  \n",
    "print('\\t 고객  정보')\n",
    "print('-'*50)\n",
    "print('{:5} {:3} {:15} {} \\t{:3} {}'.format('GRADE','이름','전화','메일','나이','기타'))\n",
    "print('='*50)\n",
    "for client in client_reader:\n",
    "        print('{:5} {:3} {:15} {} \\t{:3} {}'.format('*'*client['tier'],client['name'],client['number'],client['email'],client['age'],client['info']))"
   ]
  },
  {
   "cell_type": "code",
   "execution_count": null,
   "id": "8d089e60",
   "metadata": {},
   "outputs": [],
   "source": [
    "#헤더가 있는 csv 불러오기\n",
    "\n",
    "    "
   ]
  },
  {
   "cell_type": "code",
   "execution_count": null,
   "id": "0893dc2a",
   "metadata": {},
   "outputs": [],
   "source": []
  },
  {
   "cell_type": "code",
   "execution_count": null,
   "id": "fa1874db",
   "metadata": {},
   "outputs": [],
   "source": []
  },
  {
   "cell_type": "code",
   "execution_count": null,
   "id": "7183872c",
   "metadata": {},
   "outputs": [],
   "source": []
  }
 ],
 "metadata": {
  "kernelspec": {
   "display_name": "Python 3 (ipykernel)",
   "language": "python",
   "name": "python3"
  },
  "language_info": {
   "codemirror_mode": {
    "name": "ipython",
    "version": 3
   },
   "file_extension": ".py",
   "mimetype": "text/x-python",
   "name": "python",
   "nbconvert_exporter": "python",
   "pygments_lexer": "ipython3",
   "version": "3.10.9"
  },
  "toc": {
   "base_numbering": 1,
   "nav_menu": {},
   "number_sections": false,
   "sideBar": true,
   "skip_h1_title": false,
   "title_cell": "Table of Contents",
   "title_sidebar": "Contents",
   "toc_cell": false,
   "toc_position": {
    "height": "calc(100% - 180px)",
    "left": "10px",
    "top": "150px",
    "width": "165px"
   },
   "toc_section_display": true,
   "toc_window_display": true
  }
 },
 "nbformat": 4,
 "nbformat_minor": 5
}
