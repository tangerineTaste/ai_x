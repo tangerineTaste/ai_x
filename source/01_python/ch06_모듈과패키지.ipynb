{
 "cells": [
  {
   "cell_type": "code",
   "execution_count": 6,
   "id": "ca3fd25e",
   "metadata": {},
   "outputs": [
    {
     "data": {
      "text/html": [
       "\n",
       "<style>\n",
       "div.container{width:86% !important;}\n",
       "div.cell.code_cell.rendered{width:100%;}\n",
       "div.CodeMirror {font-family:Consolas; font-size:15pt;}\n",
       "div.output {font-size:15pt; font-weight:bold;}\n",
       "div.input {font-family:Consolas; font-size:15pt;}\n",
       "div.prompt {min-width:70px;}\n",
       "div#toc-wrapper{padding-top:120px;}\n",
       "div.text_cell_render ul li{font-size:12pt;padding:5px;}\n",
       "table.dataframe{font-size:15px;}\n",
       "</style>\n"
      ],
      "text/plain": [
       "<IPython.core.display.HTML object>"
      ]
     },
     "metadata": {},
     "output_type": "display_data"
    }
   ],
   "source": [
    "from IPython.display import display, HTML \n",
    "display(HTML(\"\"\"\n",
    "<style>\n",
    "div.container{width:86% !important;}\n",
    "div.cell.code_cell.rendered{width:100%;}\n",
    "div.CodeMirror {font-family:Consolas; font-size:15pt;}\n",
    "div.output {font-size:15pt; font-weight:bold;}\n",
    "div.input {font-family:Consolas; font-size:15pt;}\n",
    "div.prompt {min-width:70px;}\n",
    "div#toc-wrapper{padding-top:120px;}\n",
    "div.text_cell_render ul li{font-size:12pt;padding:5px;}\n",
    "table.dataframe{font-size:15px;}\n",
    "</style>\n",
    "\"\"\"))"
   ]
  },
  {
   "cell_type": "markdown",
   "id": "ee5c0e9a",
   "metadata": {},
   "source": [
    "<b><font size=\"5\" color=\"red\"> ch06 모듈과 패키지</font></b>\n",
    "- 모듈 : 함수, 변수, 클래스 등을 담고있는 파이썬 코드 파일(*.py 파일)\n",
    "- 패키지 : 모듈들이 포함된 폴더\n",
    "# 1절 파이썬 모듈 사용\n",
    "- anaconda는 1500개 이상의 패키지 install(정확한 갯수는 버전에 따라 상이)\n",
    "- miniconda : python.org보다 조금 더 많이 install(최소한의 것만)\n",
    "- python.org : 파이썬 인터프리터 python.org : 파이썬 인터프리터와 함께 파이썬 표쥰 모듈 200여개 install"
   ]
  },
  {
   "cell_type": "code",
   "execution_count": 53,
   "id": "863aa42a",
   "metadata": {},
   "outputs": [
    {
     "data": {
      "text/plain": [
       "'Fri Apr 18 10:46:18 2025'"
      ]
     },
     "execution_count": 53,
     "metadata": {},
     "output_type": "execute_result"
    }
   ],
   "source": [
    "# 1. import 모듈명 : 모듈안의 함수, 클래스, 변수를 모듈명.함수명()... 사용가능\n",
    "import time # time 모듈 안의 모든 함수, 변수, 클래스를 메모리에 적재\n",
    "time.ctime()"
   ]
  },
  {
   "cell_type": "code",
   "execution_count": 50,
   "id": "baf6134e",
   "metadata": {},
   "outputs": [
    {
     "data": {
      "text/plain": [
       "1744940716.4317837"
      ]
     },
     "execution_count": 50,
     "metadata": {},
     "output_type": "execute_result"
    }
   ],
   "source": [
    "time.time() # 1970년 1월 1일 0시 부터의 지금까지의 초 "
   ]
  },
  {
   "cell_type": "code",
   "execution_count": 54,
   "id": "e816ed88",
   "metadata": {},
   "outputs": [],
   "source": [
    "del time #time 모듈 메모리에서 삭제"
   ]
  },
  {
   "cell_type": "code",
   "execution_count": 55,
   "id": "bbbd1257",
   "metadata": {},
   "outputs": [],
   "source": [
    "# 2. from 모듈(A) import 함수|클래스|변수 (B) : A모듈안의 B만 메모리에 적재\n",
    "#    from 패키지(A) import 모듈(B) : A패키지안의 B모듈을 메모리에 적재\n",
    "#    from 패키지(A).모듈(B) import 함수|클래스|변수 (C) : A패키지밑의 B모듈의 C만 load"
   ]
  },
  {
   "cell_type": "code",
   "execution_count": 61,
   "id": "7f02e9bd",
   "metadata": {},
   "outputs": [],
   "source": [
    "from time import ctime,time"
   ]
  },
  {
   "cell_type": "code",
   "execution_count": 58,
   "id": "37c2d216",
   "metadata": {},
   "outputs": [
    {
     "data": {
      "text/plain": [
       "('Fri Apr 18 10:52:13 2025', 1744941133.397223)"
      ]
     },
     "execution_count": 58,
     "metadata": {},
     "output_type": "execute_result"
    }
   ],
   "source": [
    "ctime(), time()"
   ]
  },
  {
   "cell_type": "code",
   "execution_count": 62,
   "id": "3e09a390",
   "metadata": {},
   "outputs": [],
   "source": [
    "del ctime, time"
   ]
  },
  {
   "cell_type": "code",
   "execution_count": 65,
   "id": "c61d9fc5",
   "metadata": {},
   "outputs": [],
   "source": [
    "# 3. import 모듈명 as 별칭 : 모듈명을 별칭으로 메모리에서 load하고 별칭으로 사용\n",
    "import time as t\n",
    "import numpy as np"
   ]
  },
  {
   "cell_type": "code",
   "execution_count": 66,
   "id": "1c1f08d3",
   "metadata": {},
   "outputs": [
    {
     "data": {
      "text/plain": [
       "(1744941384.029541, 'Fri Apr 18 10:56:24 2025')"
      ]
     },
     "execution_count": 66,
     "metadata": {},
     "output_type": "execute_result"
    }
   ],
   "source": [
    "t.time(), t.ctime()"
   ]
  },
  {
   "cell_type": "code",
   "execution_count": 67,
   "id": "3fc5efdc",
   "metadata": {},
   "outputs": [],
   "source": [
    "del t"
   ]
  },
  {
   "cell_type": "code",
   "execution_count": 68,
   "id": "8450e8ad",
   "metadata": {},
   "outputs": [],
   "source": [
    "# 4. from 모듈명 import 함수 as 별칭\n",
    "#    from 패키지명 import 모듈명 as 별칭\n",
    "#    from 패키지명.모듈명 import 함수 as 별칭"
   ]
  },
  {
   "cell_type": "code",
   "execution_count": 71,
   "id": "b69febd3",
   "metadata": {},
   "outputs": [],
   "source": [
    "from time import ctime as ct, time as t"
   ]
  },
  {
   "cell_type": "code",
   "execution_count": 72,
   "id": "7adf24e0",
   "metadata": {},
   "outputs": [
    {
     "data": {
      "text/plain": [
       "('Fri Apr 18 11:00:12 2025', 1744941612.4824774)"
      ]
     },
     "execution_count": 72,
     "metadata": {},
     "output_type": "execute_result"
    }
   ],
   "source": [
    "ct(), t()"
   ]
  },
  {
   "cell_type": "markdown",
   "id": "59c53024",
   "metadata": {},
   "source": [
    "# 2절 사용자 정의 모듈\n",
    "- 모듈 가져오는 순서 (1) 파이썬 표준 모듈, (2)sys.path변수에 저장된 경로"
   ]
  },
  {
   "cell_type": "code",
   "execution_count": 4,
   "id": "a3151eb0",
   "metadata": {},
   "outputs": [],
   "source": [
    "import sys\n",
    "sys.path\n",
    "sys.path.append(r'C:\\ai_x\\source\\pylib')"
   ]
  },
  {
   "cell_type": "markdown",
   "id": "7ac5b035",
   "metadata": {},
   "source": [
    "## 사용자 정의 모듈"
   ]
  },
  {
   "cell_type": "code",
   "execution_count": 85,
   "id": "6487dfdf",
   "metadata": {},
   "outputs": [
    {
     "name": "stdout",
     "output_type": "stream",
     "text": [
      "0 1 1 2 3 5 8 13 21 34 55 89 \n",
      "[0, 1, 1, 2, 3, 5, 8, 13, 21, 34, 55, 89]\n"
     ]
    }
   ],
   "source": [
    "# 1\n",
    "import fibo\n",
    "fibo.fibonacci(100)\n",
    "print(fibo.fibonacci_return(100))\n",
    "del fibo"
   ]
  },
  {
   "cell_type": "code",
   "execution_count": 87,
   "id": "0c119ab3",
   "metadata": {},
   "outputs": [
    {
     "name": "stdout",
     "output_type": "stream",
     "text": [
      "0 1 1 2 3 5 8 13 21 34 55 89 \n",
      "[0, 1, 1, 2, 3, 5, 8, 13, 21, 34, 55, 89]\n"
     ]
    }
   ],
   "source": [
    "#2\n",
    "from fibo import fibonacci, fibonacci_return\n",
    "fibonacci(100)\n",
    "print(fibonacci_return(100))\n",
    "del fibonacci, fibonacci_return"
   ]
  },
  {
   "cell_type": "code",
   "execution_count": 90,
   "id": "30651aae",
   "metadata": {},
   "outputs": [
    {
     "name": "stdout",
     "output_type": "stream",
     "text": [
      "0 1 1 2 3 5 8 13 21 34 55 89 \n",
      "[0, 1, 1, 2, 3, 5, 8, 13, 21, 34, 55, 89]\n"
     ]
    }
   ],
   "source": [
    "#3\n",
    "import fibo as f\n",
    "f.fibonacci(100)\n",
    "print(f.fibonacci_return(100))\n",
    "del f"
   ]
  },
  {
   "cell_type": "code",
   "execution_count": 92,
   "id": "10afb7f2",
   "metadata": {},
   "outputs": [
    {
     "name": "stdout",
     "output_type": "stream",
     "text": [
      "[0, 1, 1, 2, 3, 5, 8, 13, 21, 34, 55, 89]\n"
     ]
    }
   ],
   "source": [
    "#4\n",
    "from fibo import fibonacci_return as fibo_r\n",
    "print(fibo_r(100))\n",
    "del fibo_r"
   ]
  },
  {
   "cell_type": "markdown",
   "id": "2d5d9742",
   "metadata": {},
   "source": [
    "# 3절 패키지"
   ]
  },
  {
   "cell_type": "code",
   "execution_count": 5,
   "id": "49b68bc3",
   "metadata": {
    "scrolled": true
   },
   "outputs": [
    {
     "name": "stdout",
     "output_type": "stream",
     "text": [
      "sample_pac 패키지를 로드 했습니다.\n"
     ]
    }
   ],
   "source": [
    "import sample_pac"
   ]
  },
  {
   "cell_type": "code",
   "execution_count": 30,
   "id": "5c6fe5e8",
   "metadata": {},
   "outputs": [],
   "source": [
    "from sample_pac.ab import a,b"
   ]
  },
  {
   "cell_type": "code",
   "execution_count": 32,
   "id": "9c5a425e",
   "metadata": {},
   "outputs": [
    {
     "name": "stdout",
     "output_type": "stream",
     "text": [
      "sample_pac/ab/a 모듈의 hello\n"
     ]
    }
   ],
   "source": [
    "a.hello()"
   ]
  },
  {
   "cell_type": "code",
   "execution_count": 31,
   "id": "efa6f8ab",
   "metadata": {},
   "outputs": [
    {
     "name": "stdout",
     "output_type": "stream",
     "text": [
      "sample_pac/ab/b.py 모듈의 world\n"
     ]
    }
   ],
   "source": [
    "b.world()"
   ]
  },
  {
   "cell_type": "code",
   "execution_count": 45,
   "id": "fc762978",
   "metadata": {},
   "outputs": [
    {
     "name": "stdout",
     "output_type": "stream",
     "text": [
      "sample_pac/cd/c 모듈 안의 나 nice\n",
      "sample_pac/ab/a 모듈의 hello\n"
     ]
    }
   ],
   "source": [
    "from sample_pac.cd import c\n",
    "c.nice()"
   ]
  },
  {
   "cell_type": "markdown",
   "id": "dcce8cb0",
   "metadata": {},
   "source": [
    "# 4절 패키지 설치 및 삭제\n",
    "* 아나콘다 프롬프트에서 실행\n",
    "- 패키지 설치 : pip install 패키지명 (== [version]) / conda install 패키지명(==[verison])\n",
    "- 패키지 확인 : pip show 패키지명                   / conda list 패키지명\n",
    "- 패키지 삭제 : pip uninstall 패키지명              / conda remove 패키지명"
   ]
  },
  {
   "cell_type": "code",
   "execution_count": 46,
   "id": "c1682ddf",
   "metadata": {},
   "outputs": [
    {
     "name": "stdout",
     "output_type": "stream",
     "text": [
      "Collecting objgraph\n",
      "  Downloading objgraph-3.6.2-py3-none-any.whl (17 kB)\n",
      "Installing collected packages: objgraph\n",
      "Successfully installed objgraph-3.6.2\n"
     ]
    }
   ],
   "source": [
    "!pip install objgraph"
   ]
  },
  {
   "cell_type": "code",
   "execution_count": 2,
   "id": "51b0fa8c",
   "metadata": {},
   "outputs": [
    {
     "name": "stdout",
     "output_type": "stream",
     "text": [
      "Name: objgraph\n",
      "Version: 3.6.2\n",
      "Summary: Draws Python object reference graphs with graphviz\n",
      "Home-page: https://mg.pov.lt/objgraph/\n",
      "Author: Marius Gedminas\n",
      "Author-email: marius@gedmin.as\n",
      "License: MIT\n",
      "Location: c:\\users\\admin\\anaconda3\\lib\\site-packages\n",
      "Requires: \n",
      "Required-by: \n"
     ]
    }
   ],
   "source": [
    "!pip show objgraph"
   ]
  },
  {
   "cell_type": "code",
   "execution_count": 3,
   "id": "95de714a",
   "metadata": {},
   "outputs": [],
   "source": [
    "import objgraph"
   ]
  },
  {
   "cell_type": "code",
   "execution_count": 5,
   "id": "ff95de71",
   "metadata": {},
   "outputs": [
    {
     "name": "stdout",
     "output_type": "stream",
     "text": [
      "dict          33799\n",
      "list          28087\n",
      "function      18538\n",
      "Token         16777\n",
      "tuple         12917\n",
      "Operator      10461\n",
      "Name          9417\n",
      "PythonNode    6698\n",
      "ReferenceType 5496\n",
      "DFAPlan       5418\n"
     ]
    }
   ],
   "source": [
    "objgraph.show_most_common_types()"
   ]
  },
  {
   "cell_type": "markdown",
   "id": "0428b2cf",
   "metadata": {},
   "source": [
    "# 5절 연습문제"
   ]
  },
  {
   "cell_type": "code",
   "execution_count": 5,
   "id": "f9cbc131",
   "metadata": {},
   "outputs": [],
   "source": [
    "# 1 3\n",
    "# 2 4\n",
    "# 3 __init__.py\n",
    "# 4 __all__\n",
    "# 5 1"
   ]
  },
  {
   "cell_type": "code",
   "execution_count": null,
   "id": "7851e9c6",
   "metadata": {},
   "outputs": [],
   "source": []
  },
  {
   "cell_type": "code",
   "execution_count": null,
   "id": "516a8c45",
   "metadata": {},
   "outputs": [],
   "source": []
  }
 ],
 "metadata": {
  "kernelspec": {
   "display_name": "Python 3 (ipykernel)",
   "language": "python",
   "name": "python3"
  },
  "language_info": {
   "codemirror_mode": {
    "name": "ipython",
    "version": 3
   },
   "file_extension": ".py",
   "mimetype": "text/x-python",
   "name": "python",
   "nbconvert_exporter": "python",
   "pygments_lexer": "ipython3",
   "version": "3.10.9"
  },
  "toc": {
   "base_numbering": 1,
   "nav_menu": {},
   "number_sections": false,
   "sideBar": true,
   "skip_h1_title": false,
   "title_cell": "Table of Contents",
   "title_sidebar": "Contents",
   "toc_cell": false,
   "toc_position": {
    "height": "calc(100% - 180px)",
    "left": "10px",
    "top": "150px",
    "width": "165px"
   },
   "toc_section_display": true,
   "toc_window_display": true
  }
 },
 "nbformat": 4,
 "nbformat_minor": 5
}
